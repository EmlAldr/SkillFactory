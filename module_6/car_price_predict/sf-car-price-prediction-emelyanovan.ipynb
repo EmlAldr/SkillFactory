{
 "cells": [
  {
   "cell_type": "markdown",
   "metadata": {},
   "source": [
    "# Car Price prediction\n",
    "\n",
    "**Цель проекта** - предсказать цену автомобиля\n",
    "\n",
    "**Задачи:** \n",
    " - Написать программу по сбору данных об автомобилях с сайта auto.ru и выгрузить эти данные\n",
    " - Подготовить набор данных для обучения модели\n",
    " - Потренировать работу с pandas на реальных данных\n",
    " - Попрактиковаться в предобработке различных данных, в частности с пропущенными данными (Nan) и с различными видами кодирования признаков\n",
    " - Попрактиковаться в Feature Engineering\n",
    " - Попрактиковаться в построении различных моделях, в частности ансамбля алгоритмов\n"
   ]
  },
  {
   "cell_type": "markdown",
   "metadata": {},
   "source": [
    "# 1. Import"
   ]
  },
  {
   "cell_type": "code",
   "execution_count": 1,
   "metadata": {
    "_cell_guid": "b1076dfc-b9ad-4769-8c92-a6c4dae69d19",
    "_uuid": "8f2839f25d086af736a60e9eeb907d3b93b6e0e5",
    "execution": {
     "iopub.execute_input": "2021-07-17T07:25:57.766361Z",
     "iopub.status.busy": "2021-07-17T07:25:57.766035Z",
     "iopub.status.idle": "2021-07-17T07:25:59.531964Z",
     "shell.execute_reply": "2021-07-17T07:25:59.530712Z",
     "shell.execute_reply.started": "2021-07-17T07:25:57.766332Z"
    },
    "papermill": {
     "duration": 1.219772,
     "end_time": "2020-10-26T12:46:42.581597",
     "exception": false,
     "start_time": "2020-10-26T12:46:41.361825",
     "status": "completed"
    },
    "tags": []
   },
   "outputs": [],
   "source": [
    "import numpy as np # linear algebra\n",
    "import pandas as pd # data processing, CSV file I/O (e.g. pd.read_csv)\n",
    "import sys\n",
    "import re\n",
    "import math\n",
    "import seaborn as sns\n",
    "\n",
    "from sklearn.feature_selection import f_classif, mutual_info_classif\n",
    "from sklearn.preprocessing import LabelEncoder, OneHotEncoder, StandardScaler\n",
    "\n",
    "from sklearn.model_selection import train_test_split\n",
    "from sklearn.model_selection import KFold\n",
    "from sklearn.model_selection import GridSearchCV\n",
    "from sklearn.model_selection import cross_validate\n",
    "from sklearn.model_selection import RandomizedSearchCV\n",
    "\n",
    "from sklearn.preprocessing import LabelEncoder\n",
    "\n",
    "from sklearn.metrics import auc, roc_auc_score, roc_curve\n",
    "from sklearn.metrics import accuracy_score, precision_score, recall_score, f1_score\n",
    "from sklearn.metrics import confusion_matrix, balanced_accuracy_score, cohen_kappa_score\n",
    "from sklearn.metrics import fbeta_score, make_scorer\n",
    "\n",
    "from datetime import datetime, timedelta\n",
    "from tqdm.notebook import tqdm\n",
    "\n",
    "from sklearn.base import clone\n",
    "from sklearn.ensemble import RandomForestRegressor, GradientBoostingRegressor, BaggingRegressor\n",
    "from sklearn.tree import ExtraTreeRegressor\n",
    "from sklearn.linear_model import LinearRegression\n",
    "from catboost import CatBoostRegressor\n",
    "\n",
    "from itertools import combinations\n",
    "from scipy.stats import ttest_ind\n",
    "\n",
    "import matplotlib.pyplot as plt\n",
    "%matplotlib inline"
   ]
  },
  {
   "cell_type": "code",
   "execution_count": 2,
   "metadata": {
    "execution": {
     "iopub.execute_input": "2021-07-17T07:25:59.535071Z",
     "iopub.status.busy": "2021-07-17T07:25:59.534740Z",
     "iopub.status.idle": "2021-07-17T07:25:59.540314Z",
     "shell.execute_reply": "2021-07-17T07:25:59.538810Z",
     "shell.execute_reply.started": "2021-07-17T07:25:59.535044Z"
    }
   },
   "outputs": [],
   "source": [
    "# Уберем Warnings из отображения\n",
    "import warnings; warnings.simplefilter('ignore')\n",
    "\n",
    "# Поправим отображение дасетов\n",
    "pd.set_option('display.max_columns', None)"
   ]
  },
  {
   "cell_type": "code",
   "execution_count": 3,
   "metadata": {
    "_kg_hide-input": true,
    "execution": {
     "iopub.execute_input": "2021-07-17T07:25:59.542479Z",
     "iopub.status.busy": "2021-07-17T07:25:59.542157Z",
     "iopub.status.idle": "2021-07-17T07:25:59.558628Z",
     "shell.execute_reply": "2021-07-17T07:25:59.557367Z",
     "shell.execute_reply.started": "2021-07-17T07:25:59.542449Z"
    },
    "papermill": {
     "duration": 0.040034,
     "end_time": "2020-10-26T12:46:42.650603",
     "exception": false,
     "start_time": "2020-10-26T12:46:42.610569",
     "status": "completed"
    },
    "tags": []
   },
   "outputs": [
    {
     "name": "stdout",
     "output_type": "stream",
     "text": [
      "Python       : 3.7.6 | packaged by conda-forge | (default, Mar 23 2020, 23:03:20) \n",
      "Numpy        : 1.18.5\n"
     ]
    }
   ],
   "source": [
    "print('Python       :', sys.version.split('\\n')[0])\n",
    "print('Numpy        :', np.__version__)"
   ]
  },
  {
   "cell_type": "code",
   "execution_count": 4,
   "metadata": {
    "_kg_hide-input": true,
    "execution": {
     "iopub.execute_input": "2021-07-17T07:25:59.560948Z",
     "iopub.status.busy": "2021-07-17T07:25:59.560539Z",
     "iopub.status.idle": "2021-07-17T07:26:02.773982Z",
     "shell.execute_reply": "2021-07-17T07:26:02.772807Z",
     "shell.execute_reply.started": "2021-07-17T07:25:59.560914Z"
    },
    "papermill": {
     "duration": 5.172536,
     "end_time": "2020-10-26T12:46:47.852593",
     "exception": false,
     "start_time": "2020-10-26T12:46:42.680057",
     "status": "completed"
    },
    "tags": []
   },
   "outputs": [],
   "source": [
    "# зафиксируем версию пакетов, чтобы эксперименты были воспроизводимы\n",
    "!pip freeze > requirements.txt\n",
    "\n",
    "# зафиксируем RANDOM_SEED, чтобы эксперименты были воспроизводимы\n",
    "RANDOM_SEED = 42"
   ]
  },
  {
   "cell_type": "markdown",
   "metadata": {},
   "source": [
    "**МЕТРИКА**\n",
    "\n",
    "Определим метрику для проверки моделей - MAPE  (Mean Percentage Absolute Error, расшифровывается выражение как средняя абсолютная ошибка в процентах)."
   ]
  },
  {
   "cell_type": "code",
   "execution_count": 5,
   "metadata": {
    "_kg_hide-input": true,
    "execution": {
     "iopub.execute_input": "2021-07-17T07:26:02.778503Z",
     "iopub.status.busy": "2021-07-17T07:26:02.778157Z",
     "iopub.status.idle": "2021-07-17T07:26:02.783566Z",
     "shell.execute_reply": "2021-07-17T07:26:02.782484Z",
     "shell.execute_reply.started": "2021-07-17T07:26:02.778471Z"
    }
   },
   "outputs": [],
   "source": [
    "def mape(y_true, y_pred):\n",
    "    return np.mean(np.abs((y_pred-y_true)/y_true))"
   ]
  },
  {
   "cell_type": "markdown",
   "metadata": {
    "papermill": {
     "duration": 0.028837,
     "end_time": "2020-10-26T12:46:47.981435",
     "exception": false,
     "start_time": "2020-10-26T12:46:47.952598",
     "status": "completed"
    },
    "tags": []
   },
   "source": [
    "# 2. Setup"
   ]
  },
  {
   "cell_type": "code",
   "execution_count": 6,
   "metadata": {
    "execution": {
     "iopub.execute_input": "2021-07-17T07:26:02.787845Z",
     "iopub.status.busy": "2021-07-17T07:26:02.787144Z",
     "iopub.status.idle": "2021-07-17T07:26:02.803251Z",
     "shell.execute_reply": "2021-07-17T07:26:02.802406Z",
     "shell.execute_reply.started": "2021-07-17T07:26:02.787797Z"
    },
    "papermill": {
     "duration": 0.039969,
     "end_time": "2020-10-26T12:46:48.052728",
     "exception": false,
     "start_time": "2020-10-26T12:46:48.012759",
     "status": "completed"
    },
    "tags": []
   },
   "outputs": [],
   "source": [
    "VERSION    = 19 # версия запуска для сохранения ответов\n",
    "\n",
    "DIR_TRAIN  = '../input/parsing-all-moscow-auto-ru-10072021/'\n",
    "DIR_TEST   = '../input/sf-dst-car-price-prediction/'\n",
    "FILE_TRAIN = 'all_auto_ru_10_07_2021.csv'\n",
    "FILE_TEST  = 'test.csv'\n",
    "FILE_SUB   =  'sample_submission.csv'\n",
    "\n",
    "VAL_SIZE   = 0.20   # 20% для разделения выборки на обучающую и тестовую"
   ]
  },
  {
   "cell_type": "markdown",
   "metadata": {
    "papermill": {
     "duration": 0.030254,
     "end_time": "2020-10-26T12:46:48.112586",
     "exception": false,
     "start_time": "2020-10-26T12:46:48.082332",
     "status": "completed"
    },
    "tags": []
   },
   "source": [
    "# 3. Data"
   ]
  },
  {
   "cell_type": "code",
   "execution_count": 7,
   "metadata": {
    "_cell_guid": "79c7e3d0-c299-4dcb-8224-4455121ee9b0",
    "_uuid": "d629ff2d2480ee46fbb7e2d37f6b5fab8052498a",
    "execution": {
     "iopub.execute_input": "2021-07-17T07:26:02.805202Z",
     "iopub.status.busy": "2021-07-17T07:26:02.804475Z",
     "iopub.status.idle": "2021-07-17T07:26:02.817486Z",
     "shell.execute_reply": "2021-07-17T07:26:02.816672Z",
     "shell.execute_reply.started": "2021-07-17T07:26:02.805153Z"
    },
    "papermill": {
     "duration": 13.16556,
     "end_time": "2020-10-26T12:47:02.12133",
     "exception": false,
     "start_time": "2020-10-26T12:46:48.95577",
     "status": "completed"
    },
    "tags": []
   },
   "outputs": [],
   "source": [
    "def load_data_frames():\n",
    "    # Выгружает три датасета\n",
    "    train = pd.read_csv(DIR_TRAIN + FILE_TRAIN)\n",
    "    test = pd.read_csv(DIR_TEST + FILE_TEST)\n",
    "    sample_submission = pd.read_csv(DIR_TEST + FILE_SUB)\n",
    "    \n",
    "    return train, test, sample_submission"
   ]
  },
  {
   "cell_type": "code",
   "execution_count": 8,
   "metadata": {
    "execution": {
     "iopub.execute_input": "2021-07-17T07:26:02.819363Z",
     "iopub.status.busy": "2021-07-17T07:26:02.818731Z",
     "iopub.status.idle": "2021-07-17T07:26:15.739803Z",
     "shell.execute_reply": "2021-07-17T07:26:15.738609Z",
     "shell.execute_reply.started": "2021-07-17T07:26:02.819316Z"
    }
   },
   "outputs": [],
   "source": [
    "train, test, sample_submission = load_data_frames()"
   ]
  },
  {
   "cell_type": "code",
   "execution_count": 9,
   "metadata": {
    "execution": {
     "iopub.execute_input": "2021-07-17T07:26:15.743375Z",
     "iopub.status.busy": "2021-07-17T07:26:15.742963Z",
     "iopub.status.idle": "2021-07-17T07:26:15.789505Z",
     "shell.execute_reply": "2021-07-17T07:26:15.787820Z",
     "shell.execute_reply.started": "2021-07-17T07:26:15.743341Z"
    },
    "papermill": {
     "duration": 0.09378,
     "end_time": "2020-10-26T12:47:02.246755",
     "exception": false,
     "start_time": "2020-10-26T12:47:02.152975",
     "status": "completed"
    },
    "tags": []
   },
   "outputs": [
    {
     "data": {
      "text/html": [
       "<div>\n",
       "<style scoped>\n",
       "    .dataframe tbody tr th:only-of-type {\n",
       "        vertical-align: middle;\n",
       "    }\n",
       "\n",
       "    .dataframe tbody tr th {\n",
       "        vertical-align: top;\n",
       "    }\n",
       "\n",
       "    .dataframe thead th {\n",
       "        text-align: right;\n",
       "    }\n",
       "</style>\n",
       "<table border=\"1\" class=\"dataframe\">\n",
       "  <thead>\n",
       "    <tr style=\"text-align: right;\">\n",
       "      <th></th>\n",
       "      <th>bodyType</th>\n",
       "      <th>brand</th>\n",
       "      <th>color</th>\n",
       "      <th>fuelType</th>\n",
       "      <th>modelDate</th>\n",
       "      <th>name</th>\n",
       "      <th>numberOfDoors</th>\n",
       "      <th>productionDate</th>\n",
       "      <th>vehicleTransmission</th>\n",
       "      <th>engineDisplacement</th>\n",
       "      <th>vehicleConfiguration</th>\n",
       "      <th>enginePower</th>\n",
       "      <th>description</th>\n",
       "      <th>mileage</th>\n",
       "      <th>Привод</th>\n",
       "      <th>Руль</th>\n",
       "      <th>Владельцы</th>\n",
       "      <th>ПТС</th>\n",
       "      <th>Таможня</th>\n",
       "      <th>Владение</th>\n",
       "      <th>price</th>\n",
       "      <th>model</th>\n",
       "      <th>vendor</th>\n",
       "      <th>equipment_dict</th>\n",
       "      <th>complectation_dict</th>\n",
       "    </tr>\n",
       "  </thead>\n",
       "  <tbody>\n",
       "    <tr>\n",
       "      <th>34164</th>\n",
       "      <td>Внедорожник 5 дв.</td>\n",
       "      <td>NISSAN</td>\n",
       "      <td>97948F</td>\n",
       "      <td>бензин</td>\n",
       "      <td>2013.0</td>\n",
       "      <td>2.0 CVT (144 л.с.)</td>\n",
       "      <td>5.0</td>\n",
       "      <td>2017</td>\n",
       "      <td>VARIATOR</td>\n",
       "      <td>CVT</td>\n",
       "      <td>ALLROAD_5_DOORS VARIATOR CVT</td>\n",
       "      <td>144.0</td>\n",
       "      <td>ОДИН ВЛАДЕЛЕЦ\\nКРУИЗ КОНТРОЛЬ!!!..... ОБОГРЕВ ...</td>\n",
       "      <td>54959</td>\n",
       "      <td>передний</td>\n",
       "      <td>LEFT</td>\n",
       "      <td>1.0</td>\n",
       "      <td>ORIGINAL</td>\n",
       "      <td>True</td>\n",
       "      <td>NaN</td>\n",
       "      <td>1650000.0</td>\n",
       "      <td>X_TRAIL</td>\n",
       "      <td>JAPANESE</td>\n",
       "      <td>{'cruise-control': True, 'airbag-driver': True...</td>\n",
       "      <td>{'id': '0'}</td>\n",
       "    </tr>\n",
       "    <tr>\n",
       "      <th>50372</th>\n",
       "      <td>Минивэн</td>\n",
       "      <td>VOLKSWAGEN</td>\n",
       "      <td>007F00</td>\n",
       "      <td>бензин</td>\n",
       "      <td>2003.0</td>\n",
       "      <td>2.0 MT (115 л.с.)</td>\n",
       "      <td>5.0</td>\n",
       "      <td>2006</td>\n",
       "      <td>MECHANICAL</td>\n",
       "      <td>MT</td>\n",
       "      <td>MINIVAN MECHANICAL MT</td>\n",
       "      <td>115.0</td>\n",
       "      <td>Двигатель контрактный,не оформлен.Родной есть ...</td>\n",
       "      <td>170000</td>\n",
       "      <td>передний</td>\n",
       "      <td>LEFT</td>\n",
       "      <td>2.0</td>\n",
       "      <td>ORIGINAL</td>\n",
       "      <td>True</td>\n",
       "      <td>{'year': 2020, 'month': 9}</td>\n",
       "      <td>900000.0</td>\n",
       "      <td>MULTIVAN</td>\n",
       "      <td>EUROPEAN</td>\n",
       "      <td>{'navigation': True, 'ptf': True, 'abs': True,...</td>\n",
       "      <td>{'id': '0'}</td>\n",
       "    </tr>\n",
       "  </tbody>\n",
       "</table>\n",
       "</div>"
      ],
      "text/plain": [
       "                bodyType       brand   color fuelType  modelDate  \\\n",
       "34164  Внедорожник 5 дв.      NISSAN  97948F   бензин     2013.0   \n",
       "50372            Минивэн  VOLKSWAGEN  007F00   бензин     2003.0   \n",
       "\n",
       "                     name  numberOfDoors  productionDate vehicleTransmission  \\\n",
       "34164  2.0 CVT (144 л.с.)            5.0            2017            VARIATOR   \n",
       "50372   2.0 MT (115 л.с.)            5.0            2006          MECHANICAL   \n",
       "\n",
       "      engineDisplacement          vehicleConfiguration  enginePower  \\\n",
       "34164                CVT  ALLROAD_5_DOORS VARIATOR CVT        144.0   \n",
       "50372                 MT         MINIVAN MECHANICAL MT        115.0   \n",
       "\n",
       "                                             description  mileage    Привод  \\\n",
       "34164  ОДИН ВЛАДЕЛЕЦ\\nКРУИЗ КОНТРОЛЬ!!!..... ОБОГРЕВ ...    54959  передний   \n",
       "50372  Двигатель контрактный,не оформлен.Родной есть ...   170000  передний   \n",
       "\n",
       "       Руль  Владельцы       ПТС  Таможня                    Владение  \\\n",
       "34164  LEFT        1.0  ORIGINAL     True                         NaN   \n",
       "50372  LEFT        2.0  ORIGINAL     True  {'year': 2020, 'month': 9}   \n",
       "\n",
       "           price     model    vendor  \\\n",
       "34164  1650000.0   X_TRAIL  JAPANESE   \n",
       "50372   900000.0  MULTIVAN  EUROPEAN   \n",
       "\n",
       "                                          equipment_dict complectation_dict  \n",
       "34164  {'cruise-control': True, 'airbag-driver': True...        {'id': '0'}  \n",
       "50372  {'navigation': True, 'ptf': True, 'abs': True,...        {'id': '0'}  "
      ]
     },
     "execution_count": 9,
     "metadata": {},
     "output_type": "execute_result"
    }
   ],
   "source": [
    "train.sample(2)"
   ]
  },
  {
   "cell_type": "code",
   "execution_count": 10,
   "metadata": {
    "execution": {
     "iopub.execute_input": "2021-07-17T07:26:15.791373Z",
     "iopub.status.busy": "2021-07-17T07:26:15.790945Z",
     "iopub.status.idle": "2021-07-17T07:26:15.822315Z",
     "shell.execute_reply": "2021-07-17T07:26:15.821151Z",
     "shell.execute_reply.started": "2021-07-17T07:26:15.791334Z"
    }
   },
   "outputs": [
    {
     "data": {
      "text/html": [
       "<div>\n",
       "<style scoped>\n",
       "    .dataframe tbody tr th:only-of-type {\n",
       "        vertical-align: middle;\n",
       "    }\n",
       "\n",
       "    .dataframe tbody tr th {\n",
       "        vertical-align: top;\n",
       "    }\n",
       "\n",
       "    .dataframe thead th {\n",
       "        text-align: right;\n",
       "    }\n",
       "</style>\n",
       "<table border=\"1\" class=\"dataframe\">\n",
       "  <thead>\n",
       "    <tr style=\"text-align: right;\">\n",
       "      <th></th>\n",
       "      <th>bodyType</th>\n",
       "      <th>brand</th>\n",
       "      <th>car_url</th>\n",
       "      <th>color</th>\n",
       "      <th>complectation_dict</th>\n",
       "      <th>description</th>\n",
       "      <th>engineDisplacement</th>\n",
       "      <th>enginePower</th>\n",
       "      <th>equipment_dict</th>\n",
       "      <th>fuelType</th>\n",
       "      <th>image</th>\n",
       "      <th>mileage</th>\n",
       "      <th>modelDate</th>\n",
       "      <th>model_info</th>\n",
       "      <th>model_name</th>\n",
       "      <th>name</th>\n",
       "      <th>numberOfDoors</th>\n",
       "      <th>parsing_unixtime</th>\n",
       "      <th>priceCurrency</th>\n",
       "      <th>productionDate</th>\n",
       "      <th>sell_id</th>\n",
       "      <th>super_gen</th>\n",
       "      <th>vehicleConfiguration</th>\n",
       "      <th>vehicleTransmission</th>\n",
       "      <th>vendor</th>\n",
       "      <th>Владельцы</th>\n",
       "      <th>Владение</th>\n",
       "      <th>ПТС</th>\n",
       "      <th>Привод</th>\n",
       "      <th>Руль</th>\n",
       "      <th>Состояние</th>\n",
       "      <th>Таможня</th>\n",
       "    </tr>\n",
       "  </thead>\n",
       "  <tbody>\n",
       "    <tr>\n",
       "      <th>31337</th>\n",
       "      <td>седан</td>\n",
       "      <td>VOLVO</td>\n",
       "      <td>https://auto.ru/cars/used/sale/volvo/s80/11013...</td>\n",
       "      <td>чёрный</td>\n",
       "      <td>NaN</td>\n",
       "      <td>Продам самый безопасный автомобиль Вольво s80 ...</td>\n",
       "      <td>2.4 LTR</td>\n",
       "      <td>170 N12</td>\n",
       "      <td>NaN</td>\n",
       "      <td>бензин</td>\n",
       "      <td>https://avatars.mds.yandex.net/get-autoru-vos/...</td>\n",
       "      <td>195000</td>\n",
       "      <td>2003</td>\n",
       "      <td>{\"code\":\"S80\",\"name\":\"S80\",\"ru_name\":\"S80\",\"mo...</td>\n",
       "      <td>S80</td>\n",
       "      <td>2.4 AT (170 л.с.)</td>\n",
       "      <td>4</td>\n",
       "      <td>1603584798</td>\n",
       "      <td>RUB</td>\n",
       "      <td>2006</td>\n",
       "      <td>1101338578</td>\n",
       "      <td>{\"id\":\"6502924\",\"displacement\":2435,\"engine_ty...</td>\n",
       "      <td>SEDAN AUTOMATIC 2.4</td>\n",
       "      <td>автоматическая</td>\n",
       "      <td>EUROPEAN</td>\n",
       "      <td>3 или более</td>\n",
       "      <td>NaN</td>\n",
       "      <td>Оригинал</td>\n",
       "      <td>передний</td>\n",
       "      <td>Левый</td>\n",
       "      <td>Не требует ремонта</td>\n",
       "      <td>Растаможен</td>\n",
       "    </tr>\n",
       "    <tr>\n",
       "      <th>657</th>\n",
       "      <td>универсал 5 дв.</td>\n",
       "      <td>SKODA</td>\n",
       "      <td>https://auto.ru/cars/used/sale/skoda/octavia/1...</td>\n",
       "      <td>серебристый</td>\n",
       "      <td>NaN</td>\n",
       "      <td>Владею автомобилем с марта 2017 год...</td>\n",
       "      <td>1.8 LTR</td>\n",
       "      <td>152 N12</td>\n",
       "      <td>{\"engine-proof\":true,\"tinted-glass\":true,\"esp\"...</td>\n",
       "      <td>бензин</td>\n",
       "      <td>https://avatars.mds.yandex.net/get-autoru-vos/...</td>\n",
       "      <td>149000</td>\n",
       "      <td>2008</td>\n",
       "      <td>{\"code\":\"OCTAVIA\",\"name\":\"Octavia\",\"ru_name\":\"...</td>\n",
       "      <td>OCTAVIA</td>\n",
       "      <td>1.8 AT (152 л.с.)</td>\n",
       "      <td>5</td>\n",
       "      <td>1603228782</td>\n",
       "      <td>RUB</td>\n",
       "      <td>2012</td>\n",
       "      <td>1100143428</td>\n",
       "      <td>{\"id\":\"8556154\",\"displacement\":1798,\"engine_ty...</td>\n",
       "      <td>WAGON_5_DOORS AUTOMATIC 1.8</td>\n",
       "      <td>автоматическая</td>\n",
       "      <td>EUROPEAN</td>\n",
       "      <td>3 или более</td>\n",
       "      <td>3 года и 7 месяцев</td>\n",
       "      <td>Оригинал</td>\n",
       "      <td>передний</td>\n",
       "      <td>Левый</td>\n",
       "      <td>Не требует ремонта</td>\n",
       "      <td>Растаможен</td>\n",
       "    </tr>\n",
       "  </tbody>\n",
       "</table>\n",
       "</div>"
      ],
      "text/plain": [
       "              bodyType  brand  \\\n",
       "31337            седан  VOLVO   \n",
       "657    универсал 5 дв.  SKODA   \n",
       "\n",
       "                                                 car_url        color  \\\n",
       "31337  https://auto.ru/cars/used/sale/volvo/s80/11013...       чёрный   \n",
       "657    https://auto.ru/cars/used/sale/skoda/octavia/1...  серебристый   \n",
       "\n",
       "      complectation_dict                                        description  \\\n",
       "31337                NaN  Продам самый безопасный автомобиль Вольво s80 ...   \n",
       "657                  NaN             Владею автомобилем с марта 2017 год...   \n",
       "\n",
       "      engineDisplacement enginePower  \\\n",
       "31337            2.4 LTR     170 N12   \n",
       "657              1.8 LTR     152 N12   \n",
       "\n",
       "                                          equipment_dict fuelType  \\\n",
       "31337                                                NaN   бензин   \n",
       "657    {\"engine-proof\":true,\"tinted-glass\":true,\"esp\"...   бензин   \n",
       "\n",
       "                                                   image  mileage  modelDate  \\\n",
       "31337  https://avatars.mds.yandex.net/get-autoru-vos/...   195000       2003   \n",
       "657    https://avatars.mds.yandex.net/get-autoru-vos/...   149000       2008   \n",
       "\n",
       "                                              model_info model_name  \\\n",
       "31337  {\"code\":\"S80\",\"name\":\"S80\",\"ru_name\":\"S80\",\"mo...        S80   \n",
       "657    {\"code\":\"OCTAVIA\",\"name\":\"Octavia\",\"ru_name\":\"...    OCTAVIA   \n",
       "\n",
       "                    name  numberOfDoors  parsing_unixtime priceCurrency  \\\n",
       "31337  2.4 AT (170 л.с.)              4        1603584798           RUB   \n",
       "657    1.8 AT (152 л.с.)              5        1603228782           RUB   \n",
       "\n",
       "       productionDate     sell_id  \\\n",
       "31337            2006  1101338578   \n",
       "657              2012  1100143428   \n",
       "\n",
       "                                               super_gen  \\\n",
       "31337  {\"id\":\"6502924\",\"displacement\":2435,\"engine_ty...   \n",
       "657    {\"id\":\"8556154\",\"displacement\":1798,\"engine_ty...   \n",
       "\n",
       "              vehicleConfiguration vehicleTransmission    vendor    Владельцы  \\\n",
       "31337          SEDAN AUTOMATIC 2.4      автоматическая  EUROPEAN  3 или более   \n",
       "657    WAGON_5_DOORS AUTOMATIC 1.8      автоматическая  EUROPEAN  3 или более   \n",
       "\n",
       "                 Владение       ПТС    Привод   Руль           Состояние  \\\n",
       "31337                 NaN  Оригинал  передний  Левый  Не требует ремонта   \n",
       "657    3 года и 7 месяцев  Оригинал  передний  Левый  Не требует ремонта   \n",
       "\n",
       "          Таможня  \n",
       "31337  Растаможен  \n",
       "657    Растаможен  "
      ]
     },
     "execution_count": 10,
     "metadata": {},
     "output_type": "execute_result"
    }
   ],
   "source": [
    "test.sample(2)"
   ]
  },
  {
   "cell_type": "code",
   "execution_count": 11,
   "metadata": {
    "execution": {
     "iopub.execute_input": "2021-07-17T07:26:15.824229Z",
     "iopub.status.busy": "2021-07-17T07:26:15.823914Z",
     "iopub.status.idle": "2021-07-17T07:26:15.899634Z",
     "shell.execute_reply": "2021-07-17T07:26:15.898528Z",
     "shell.execute_reply.started": "2021-07-17T07:26:15.824201Z"
    },
    "papermill": {
     "duration": 0.22352,
     "end_time": "2020-10-26T12:47:02.502166",
     "exception": false,
     "start_time": "2020-10-26T12:47:02.278646",
     "status": "completed"
    },
    "tags": []
   },
   "outputs": [
    {
     "name": "stdout",
     "output_type": "stream",
     "text": [
      "<class 'pandas.core.frame.DataFrame'>\n",
      "RangeIndex: 52634 entries, 0 to 52633\n",
      "Data columns (total 25 columns):\n",
      " #   Column                Non-Null Count  Dtype  \n",
      "---  ------                --------------  -----  \n",
      " 0   bodyType              52633 non-null  object \n",
      " 1   brand                 52634 non-null  object \n",
      " 2   color                 52634 non-null  object \n",
      " 3   fuelType              52634 non-null  object \n",
      " 4   modelDate             52633 non-null  float64\n",
      " 5   name                  52633 non-null  object \n",
      " 6   numberOfDoors         52633 non-null  float64\n",
      " 7   productionDate        52634 non-null  int64  \n",
      " 8   vehicleTransmission   52633 non-null  object \n",
      " 9   engineDisplacement    52633 non-null  object \n",
      " 10  vehicleConfiguration  52633 non-null  object \n",
      " 11  enginePower           52633 non-null  float64\n",
      " 12  description           51528 non-null  object \n",
      " 13  mileage               52634 non-null  int64  \n",
      " 14  Привод                52633 non-null  object \n",
      " 15  Руль                  52634 non-null  object \n",
      " 16  Владельцы             33283 non-null  float64\n",
      " 17  ПТС                   52364 non-null  object \n",
      " 18  Таможня               52634 non-null  bool   \n",
      " 19  Владение              10959 non-null  object \n",
      " 20  price                 52424 non-null  float64\n",
      " 21  model                 52634 non-null  object \n",
      " 22  vendor                52634 non-null  object \n",
      " 23  equipment_dict        52634 non-null  object \n",
      " 24  complectation_dict    52634 non-null  object \n",
      "dtypes: bool(1), float64(5), int64(2), object(17)\n",
      "memory usage: 9.7+ MB\n"
     ]
    }
   ],
   "source": [
    "train.info()"
   ]
  },
  {
   "cell_type": "code",
   "execution_count": 12,
   "metadata": {
    "execution": {
     "iopub.execute_input": "2021-07-17T07:26:15.901424Z",
     "iopub.status.busy": "2021-07-17T07:26:15.901110Z",
     "iopub.status.idle": "2021-07-17T07:26:15.968277Z",
     "shell.execute_reply": "2021-07-17T07:26:15.966786Z",
     "shell.execute_reply.started": "2021-07-17T07:26:15.901396Z"
    }
   },
   "outputs": [
    {
     "name": "stdout",
     "output_type": "stream",
     "text": [
      "<class 'pandas.core.frame.DataFrame'>\n",
      "RangeIndex: 34686 entries, 0 to 34685\n",
      "Data columns (total 32 columns):\n",
      " #   Column                Non-Null Count  Dtype \n",
      "---  ------                --------------  ----- \n",
      " 0   bodyType              34686 non-null  object\n",
      " 1   brand                 34686 non-null  object\n",
      " 2   car_url               34686 non-null  object\n",
      " 3   color                 34686 non-null  object\n",
      " 4   complectation_dict    6418 non-null   object\n",
      " 5   description           34686 non-null  object\n",
      " 6   engineDisplacement    34686 non-null  object\n",
      " 7   enginePower           34686 non-null  object\n",
      " 8   equipment_dict        24690 non-null  object\n",
      " 9   fuelType              34686 non-null  object\n",
      " 10  image                 34686 non-null  object\n",
      " 11  mileage               34686 non-null  int64 \n",
      " 12  modelDate             34686 non-null  int64 \n",
      " 13  model_info            34686 non-null  object\n",
      " 14  model_name            34686 non-null  object\n",
      " 15  name                  34686 non-null  object\n",
      " 16  numberOfDoors         34686 non-null  int64 \n",
      " 17  parsing_unixtime      34686 non-null  int64 \n",
      " 18  priceCurrency         34686 non-null  object\n",
      " 19  productionDate        34686 non-null  int64 \n",
      " 20  sell_id               34686 non-null  int64 \n",
      " 21  super_gen             34686 non-null  object\n",
      " 22  vehicleConfiguration  34686 non-null  object\n",
      " 23  vehicleTransmission   34686 non-null  object\n",
      " 24  vendor                34686 non-null  object\n",
      " 25  Владельцы             34686 non-null  object\n",
      " 26  Владение              11995 non-null  object\n",
      " 27  ПТС                   34685 non-null  object\n",
      " 28  Привод                34686 non-null  object\n",
      " 29  Руль                  34686 non-null  object\n",
      " 30  Состояние             34686 non-null  object\n",
      " 31  Таможня               34686 non-null  object\n",
      "dtypes: int64(6), object(26)\n",
      "memory usage: 8.5+ MB\n"
     ]
    }
   ],
   "source": [
    "test.info()"
   ]
  },
  {
   "cell_type": "markdown",
   "metadata": {},
   "source": [
    "Форматы данных в обучающем и тестовом датасетах немного отлючаются. Для того, чтобы объединить их приведем форматы к одному виду."
   ]
  },
  {
   "cell_type": "code",
   "execution_count": 13,
   "metadata": {
    "execution": {
     "iopub.execute_input": "2021-07-17T07:26:15.969629Z",
     "iopub.status.busy": "2021-07-17T07:26:15.969336Z",
     "iopub.status.idle": "2021-07-17T07:26:15.977228Z",
     "shell.execute_reply": "2021-07-17T07:26:15.976128Z",
     "shell.execute_reply.started": "2021-07-17T07:26:15.969580Z"
    }
   },
   "outputs": [],
   "source": [
    "def rename_columns_train(train: pd.DataFrame) -> None: \n",
    "    # Переименуем названия признаков в train датасете\n",
    "    train.columns = [\n",
    "        'body_type', 'brand', 'color', 'fuel_type', 'model_date', 'name',\n",
    "        'number_of_doors', 'production_date', 'vehicle_transmission',\n",
    "        'engine_displacement', 'vehicle_configuration', 'engine_power',\n",
    "        'description', 'mileage', 'drive_type', 'wheel', 'owners', 'pts',\n",
    "        'customs', 'ownership', 'price', 'model_name', 'vendor', 'equipment_dict',\n",
    "        'complectation_dict'\n",
    "    ]"
   ]
  },
  {
   "cell_type": "code",
   "execution_count": 14,
   "metadata": {
    "execution": {
     "iopub.execute_input": "2021-07-17T07:26:15.978933Z",
     "iopub.status.busy": "2021-07-17T07:26:15.978574Z",
     "iopub.status.idle": "2021-07-17T07:26:15.992476Z",
     "shell.execute_reply": "2021-07-17T07:26:15.991075Z",
     "shell.execute_reply.started": "2021-07-17T07:26:15.978888Z"
    }
   },
   "outputs": [],
   "source": [
    "def rename_columns_test(test: pd.DataFrame) -> None: \n",
    "    # Переименуем названия признаков в test датасете\n",
    "    test.columns = [\n",
    "        'body_type', 'brand', 'car_url', 'color', 'complectation_dict',\n",
    "        'description', 'engine_displacement', 'engine_power', 'equipment_dict',\n",
    "        'fuel_type', 'image', 'mileage', 'model_date', 'model_info', 'model_name',\n",
    "        'name', 'number_of_doors', 'parsing_unixtime', 'price_currency',\n",
    "        'production_date', 'sell_id', 'super_gen', 'vehicle_configuration',\n",
    "        'vehicle_transmission', 'vendor', 'owners', 'ownership', 'pts',\n",
    "        'drive_type', 'wheel', 'condition', 'customs'\n",
    "    ]"
   ]
  },
  {
   "cell_type": "code",
   "execution_count": 15,
   "metadata": {
    "execution": {
     "iopub.execute_input": "2021-07-17T07:26:15.993983Z",
     "iopub.status.busy": "2021-07-17T07:26:15.993712Z",
     "iopub.status.idle": "2021-07-17T07:26:16.014768Z",
     "shell.execute_reply": "2021-07-17T07:26:16.012934Z",
     "shell.execute_reply.started": "2021-07-17T07:26:15.993957Z"
    }
   },
   "outputs": [],
   "source": [
    "# engineDisplacement\n",
    "\n",
    "def search_engine_displacement(text: str) -> float:\n",
    "    pattern = '\\d\\.\\d'\n",
    "    match = re.findall(pattern, str(text))\n",
    "    n = len(match)\n",
    "    \n",
    "    if n == 2:\n",
    "        return float(match[1])\n",
    "    elif n == 1:\n",
    "        return float(match[0])\n",
    "    else:\n",
    "        return .0"
   ]
  },
  {
   "cell_type": "code",
   "execution_count": 16,
   "metadata": {
    "execution": {
     "iopub.execute_input": "2021-07-17T07:26:16.016217Z",
     "iopub.status.busy": "2021-07-17T07:26:16.015945Z",
     "iopub.status.idle": "2021-07-17T07:26:16.031024Z",
     "shell.execute_reply": "2021-07-17T07:26:16.030053Z",
     "shell.execute_reply.started": "2021-07-17T07:26:16.016191Z"
    }
   },
   "outputs": [],
   "source": [
    "def prepare_columns_format_train(train: pd.DataFrame) -> None: \n",
    "    # 1. Поле color в train представлено в виде hex_code\n",
    "    color_hex_dict = {\n",
    "        '040001': 'чёрный', 'FAFBFB': 'белый', '97948F': 'серый', '0000CC': 'синий', \n",
    "        '007F00': 'зелёный', '200204': 'красный', 'CACECB': 'серебристый', '660099': 'фиолетовый', \n",
    "        'C49648': 'оранжевый', '22A0F8': 'голубой', 'DEA522': 'оранжевый', '4A2197': 'фиолетовый', \n",
    "        'FF8649': 'оранжевый', 'FFD600': 'жёлтый', 'FFC0CB': 'розовый', 'EE1D19': 'красный'\n",
    "    }\n",
    "    train.loc[:, 'color'] = train['color'].apply(lambda x: color_hex_dict[x])\n",
    "    \n",
    "    # 2. Владельцы меняем в train\n",
    "    train.loc[:, 'owners'] = train['owners'].apply(lambda x: 3 if x > 3 else x)\n",
    "    \n",
    "    # 3. engineDisplacement\n",
    "    train.loc[:, 'engine_displacement'] = train['name'].apply(search_engine_displacement)\n",
    "    \n",
    "    # 4. время парсинга 2021-07-10 02:07:00 - 1625882847\n",
    "    train.loc[:, 'parsing_unixtime'] = 1625882847"
   ]
  },
  {
   "cell_type": "code",
   "execution_count": 17,
   "metadata": {
    "execution": {
     "iopub.execute_input": "2021-07-17T07:26:16.032688Z",
     "iopub.status.busy": "2021-07-17T07:26:16.032389Z",
     "iopub.status.idle": "2021-07-17T07:26:16.054164Z",
     "shell.execute_reply": "2021-07-17T07:26:16.052985Z",
     "shell.execute_reply.started": "2021-07-17T07:26:16.032660Z"
    }
   },
   "outputs": [],
   "source": [
    "def prepare_columns_format_test(test:  pd.DataFrame) -> None:\n",
    "    # 1. Поле engine_power в test представлено в виде \"306 N12\", нам надо только число Л.С.\n",
    "    test.loc[:, 'engine_power'] = test['engine_power'].apply(lambda x: str(x).split(' ')[0])\n",
    "    \n",
    "    # 2. wheel(Руль) \n",
    "    wheel_dict = {'Левый': 'LEFT', 'Правый': 'RIGHT'}\n",
    "    test.loc[:, 'wheel'] = test['wheel'].apply(lambda x: wheel_dict[x])\n",
    "    \n",
    "    # 3. ПТС\n",
    "    pts_dict = {'Оригинал': 'ORIGINAL', 'Дубликат': 'DUPLICATE'}\n",
    "    test.loc[:, 'pts'] = test['pts'].apply(lambda x: pts_dict[x] if x == x else None)\n",
    "    \n",
    "    # 4. Владельцы меняем в test\n",
    "    test.loc[:, 'owners'] = test['owners'].apply(lambda x: float(x[:1]))\n",
    "    \n",
    "    # 5. vehicleTransmission меняем в test\n",
    "    vehicle_transmission_dict = {\n",
    "        'автоматическая': 'AUTOMATIC', 'роботизированная': 'ROBOT', \n",
    "        'механическая': 'MECHANICAL', 'вариатор': 'VARIATOR'\n",
    "    }\n",
    "    test.loc[:, 'vehicle_transmission'] = test['vehicle_transmission'].apply(lambda x: vehicle_transmission_dict[x])\n",
    "    \n",
    "    # 6. engineDisplacement\n",
    "    test.loc[:, 'engine_displacement'] = test['engine_displacement'].apply(search_engine_displacement)"
   ]
  },
  {
   "cell_type": "code",
   "execution_count": 18,
   "metadata": {
    "execution": {
     "iopub.execute_input": "2021-07-17T07:26:16.055800Z",
     "iopub.status.busy": "2021-07-17T07:26:16.055502Z",
     "iopub.status.idle": "2021-07-17T07:26:16.076795Z",
     "shell.execute_reply": "2021-07-17T07:26:16.075319Z",
     "shell.execute_reply.started": "2021-07-17T07:26:16.055772Z"
    }
   },
   "outputs": [],
   "source": [
    "def concatenate_data_frames(train: pd.DataFrame, test: pd.DataFrame) -> pd.DataFrame:\n",
    "    # ВАЖНО! дря корректной обработки признаков объединяем трейн и тест в один датасет\n",
    "    columns = [\n",
    "        'body_type', 'brand', 'color', 'fuel_type', 'mileage', 'model_date', \n",
    "        'name', 'number_of_doors', 'engine_power', 'wheel', 'drive_type', 'pts', \n",
    "        'owners', 'vehicle_transmission', 'production_date', 'vendor',\n",
    "        'model_name', 'engine_displacement', 'ownership', 'complectation_dict', \n",
    "        'equipment_dict', 'parsing_unixtime'\n",
    "    ]\n",
    "    # 'ownership' - надо вытаскивать данные (количество месяцев владения)\n",
    "    # 'complectation_dict' - надо вытаскивать данные\n",
    "    # 'equipment_dict' - надо вытаскивать данные\n",
    "    \n",
    "    df_train = train[columns]\n",
    "    df_test = test[columns]\n",
    "\n",
    "    df_train['price'] = train['price']  # Целевая переменная трейна\n",
    "    df_test['price'] = 0                # Целевой переменной теста нет, поэтому занулим пока\n",
    "    \n",
    "    df_train['sample'] = 1 # помечаем где у нас трейн\n",
    "    df_test['sample'] = 0  # помечаем где у нас тест\n",
    "\n",
    "    return df_test.append(df_train, sort=False).reset_index(drop=True) # объединяем\n"
   ]
  },
  {
   "cell_type": "code",
   "execution_count": 19,
   "metadata": {
    "execution": {
     "iopub.execute_input": "2021-07-17T07:26:16.078634Z",
     "iopub.status.busy": "2021-07-17T07:26:16.078331Z",
     "iopub.status.idle": "2021-07-17T07:26:21.533990Z",
     "shell.execute_reply": "2021-07-17T07:26:21.532823Z",
     "shell.execute_reply.started": "2021-07-17T07:26:16.078604Z"
    }
   },
   "outputs": [],
   "source": [
    "# Загрузим данные\n",
    "train, test, sample_submission = load_data_frames()\n",
    "\n",
    "# Согласуем наименования признаков\n",
    "rename_columns_train(train)\n",
    "rename_columns_test(test)\n",
    "\n",
    "# Согласуем форматы признаков\n",
    "prepare_columns_format_train(train)\n",
    "prepare_columns_format_test(test)\n",
    "\n",
    "# Объединим датасеты в один\n",
    "data = concatenate_data_frames(train, test)"
   ]
  },
  {
   "cell_type": "code",
   "execution_count": 20,
   "metadata": {
    "execution": {
     "iopub.execute_input": "2021-07-17T07:26:21.536815Z",
     "iopub.status.busy": "2021-07-17T07:26:21.535957Z",
     "iopub.status.idle": "2021-07-17T07:26:21.599306Z",
     "shell.execute_reply": "2021-07-17T07:26:21.597896Z",
     "shell.execute_reply.started": "2021-07-17T07:26:21.536761Z"
    }
   },
   "outputs": [
    {
     "data": {
      "text/html": [
       "<div>\n",
       "<style scoped>\n",
       "    .dataframe tbody tr th:only-of-type {\n",
       "        vertical-align: middle;\n",
       "    }\n",
       "\n",
       "    .dataframe tbody tr th {\n",
       "        vertical-align: top;\n",
       "    }\n",
       "\n",
       "    .dataframe thead th {\n",
       "        text-align: right;\n",
       "    }\n",
       "</style>\n",
       "<table border=\"1\" class=\"dataframe\">\n",
       "  <thead>\n",
       "    <tr style=\"text-align: right;\">\n",
       "      <th></th>\n",
       "      <th>body_type</th>\n",
       "      <th>brand</th>\n",
       "      <th>color</th>\n",
       "      <th>fuel_type</th>\n",
       "      <th>mileage</th>\n",
       "      <th>model_date</th>\n",
       "      <th>name</th>\n",
       "      <th>number_of_doors</th>\n",
       "      <th>engine_power</th>\n",
       "      <th>wheel</th>\n",
       "      <th>drive_type</th>\n",
       "      <th>pts</th>\n",
       "      <th>owners</th>\n",
       "      <th>vehicle_transmission</th>\n",
       "      <th>production_date</th>\n",
       "      <th>vendor</th>\n",
       "      <th>model_name</th>\n",
       "      <th>engine_displacement</th>\n",
       "      <th>ownership</th>\n",
       "      <th>complectation_dict</th>\n",
       "      <th>equipment_dict</th>\n",
       "      <th>parsing_unixtime</th>\n",
       "      <th>price</th>\n",
       "      <th>sample</th>\n",
       "    </tr>\n",
       "  </thead>\n",
       "  <tbody>\n",
       "    <tr>\n",
       "      <th>35470</th>\n",
       "      <td>Внедорожник 5 дв.</td>\n",
       "      <td>AUDI</td>\n",
       "      <td>синий</td>\n",
       "      <td>дизель</td>\n",
       "      <td>80000</td>\n",
       "      <td>2015.0</td>\n",
       "      <td>3.0d AT (249 л.с.) 4WD</td>\n",
       "      <td>5.0</td>\n",
       "      <td>249</td>\n",
       "      <td>LEFT</td>\n",
       "      <td>полный</td>\n",
       "      <td>ORIGINAL</td>\n",
       "      <td>3.0</td>\n",
       "      <td>AUTOMATIC</td>\n",
       "      <td>2016</td>\n",
       "      <td>EUROPEAN</td>\n",
       "      <td>Q7</td>\n",
       "      <td>3.0</td>\n",
       "      <td>NaN</td>\n",
       "      <td>{'id': '20943657', 'name': 'Comfort', 'availab...</td>\n",
       "      <td>{'cruise-control': True, 'asr': True, 'tinted-...</td>\n",
       "      <td>1625882847</td>\n",
       "      <td>3250000.0</td>\n",
       "      <td>1</td>\n",
       "    </tr>\n",
       "    <tr>\n",
       "      <th>67477</th>\n",
       "      <td>Внедорожник 5 дв.</td>\n",
       "      <td>NISSAN</td>\n",
       "      <td>чёрный</td>\n",
       "      <td>бензин</td>\n",
       "      <td>0</td>\n",
       "      <td>2017.0</td>\n",
       "      <td>1.2 MT (115 л.с.)</td>\n",
       "      <td>5.0</td>\n",
       "      <td>115</td>\n",
       "      <td>LEFT</td>\n",
       "      <td>передний</td>\n",
       "      <td>ORIGINAL</td>\n",
       "      <td>NaN</td>\n",
       "      <td>MECHANICAL</td>\n",
       "      <td>2021</td>\n",
       "      <td>JAPANESE</td>\n",
       "      <td>QASHQAI</td>\n",
       "      <td>1.2</td>\n",
       "      <td>NaN</td>\n",
       "      <td>{'id': '22506702', 'name': 'SE+', 'available_o...</td>\n",
       "      <td>{'cruise-control': True, 'asr': True, 'esp': T...</td>\n",
       "      <td>1625882847</td>\n",
       "      <td>1738000.0</td>\n",
       "      <td>1</td>\n",
       "    </tr>\n",
       "    <tr>\n",
       "      <th>11169</th>\n",
       "      <td>внедорожник 5 дв.</td>\n",
       "      <td>NISSAN</td>\n",
       "      <td>серый</td>\n",
       "      <td>бензин</td>\n",
       "      <td>91000</td>\n",
       "      <td>2014.0</td>\n",
       "      <td>2.0 AT (135 л.с.)</td>\n",
       "      <td>5.0</td>\n",
       "      <td>135</td>\n",
       "      <td>LEFT</td>\n",
       "      <td>передний</td>\n",
       "      <td>ORIGINAL</td>\n",
       "      <td>3.0</td>\n",
       "      <td>AUTOMATIC</td>\n",
       "      <td>2014</td>\n",
       "      <td>JAPANESE</td>\n",
       "      <td>TERRANO</td>\n",
       "      <td>2.0</td>\n",
       "      <td>NaN</td>\n",
       "      <td>NaN</td>\n",
       "      <td>{\"engine-proof\":true,\"alloy-wheel-disks\":true,...</td>\n",
       "      <td>1603269753</td>\n",
       "      <td>0.0</td>\n",
       "      <td>0</td>\n",
       "    </tr>\n",
       "    <tr>\n",
       "      <th>54870</th>\n",
       "      <td>Седан</td>\n",
       "      <td>MERCEDES</td>\n",
       "      <td>чёрный</td>\n",
       "      <td>бензин</td>\n",
       "      <td>148000</td>\n",
       "      <td>2005.0</td>\n",
       "      <td>500 5.5 AT (388 л.с.) 4WD</td>\n",
       "      <td>4.0</td>\n",
       "      <td>388</td>\n",
       "      <td>LEFT</td>\n",
       "      <td>полный</td>\n",
       "      <td>DUPLICATE</td>\n",
       "      <td>3.0</td>\n",
       "      <td>AUTOMATIC</td>\n",
       "      <td>2008</td>\n",
       "      <td>EUROPEAN</td>\n",
       "      <td>S_KLASSE</td>\n",
       "      <td>5.5</td>\n",
       "      <td>NaN</td>\n",
       "      <td>{'id': '0'}</td>\n",
       "      <td>{'asr': True, 'tinted-glass': True, 'roller-bl...</td>\n",
       "      <td>1625882847</td>\n",
       "      <td>1099000.0</td>\n",
       "      <td>1</td>\n",
       "    </tr>\n",
       "    <tr>\n",
       "      <th>39196</th>\n",
       "      <td>Внедорожник 5 дв.</td>\n",
       "      <td>BMW</td>\n",
       "      <td>синий</td>\n",
       "      <td>бензин</td>\n",
       "      <td>37362</td>\n",
       "      <td>2013.0</td>\n",
       "      <td>35i 3.0 AT (306 л.с.) 4WD</td>\n",
       "      <td>5.0</td>\n",
       "      <td>306</td>\n",
       "      <td>LEFT</td>\n",
       "      <td>полный</td>\n",
       "      <td>ORIGINAL</td>\n",
       "      <td>1.0</td>\n",
       "      <td>AUTOMATIC</td>\n",
       "      <td>2016</td>\n",
       "      <td>EUROPEAN</td>\n",
       "      <td>X5</td>\n",
       "      <td>3.0</td>\n",
       "      <td>NaN</td>\n",
       "      <td>{'id': '21074304', 'name': 'xDrive35i Prestige...</td>\n",
       "      <td>{'cruise-control': True, 'esp': True, 'usb': T...</td>\n",
       "      <td>1625882847</td>\n",
       "      <td>3499000.0</td>\n",
       "      <td>1</td>\n",
       "    </tr>\n",
       "  </tbody>\n",
       "</table>\n",
       "</div>"
      ],
      "text/plain": [
       "               body_type     brand   color fuel_type  mileage  model_date  \\\n",
       "35470  Внедорожник 5 дв.      AUDI   синий    дизель    80000      2015.0   \n",
       "67477  Внедорожник 5 дв.    NISSAN  чёрный    бензин        0      2017.0   \n",
       "11169  внедорожник 5 дв.    NISSAN   серый    бензин    91000      2014.0   \n",
       "54870              Седан  MERCEDES  чёрный    бензин   148000      2005.0   \n",
       "39196  Внедорожник 5 дв.       BMW   синий    бензин    37362      2013.0   \n",
       "\n",
       "                            name  number_of_doors engine_power wheel  \\\n",
       "35470     3.0d AT (249 л.с.) 4WD              5.0          249  LEFT   \n",
       "67477          1.2 MT (115 л.с.)              5.0          115  LEFT   \n",
       "11169          2.0 AT (135 л.с.)              5.0          135  LEFT   \n",
       "54870  500 5.5 AT (388 л.с.) 4WD              4.0          388  LEFT   \n",
       "39196  35i 3.0 AT (306 л.с.) 4WD              5.0          306  LEFT   \n",
       "\n",
       "      drive_type        pts  owners vehicle_transmission  production_date  \\\n",
       "35470     полный   ORIGINAL     3.0            AUTOMATIC             2016   \n",
       "67477   передний   ORIGINAL     NaN           MECHANICAL             2021   \n",
       "11169   передний   ORIGINAL     3.0            AUTOMATIC             2014   \n",
       "54870     полный  DUPLICATE     3.0            AUTOMATIC             2008   \n",
       "39196     полный   ORIGINAL     1.0            AUTOMATIC             2016   \n",
       "\n",
       "         vendor model_name  engine_displacement ownership  \\\n",
       "35470  EUROPEAN         Q7                  3.0       NaN   \n",
       "67477  JAPANESE    QASHQAI                  1.2       NaN   \n",
       "11169  JAPANESE    TERRANO                  2.0       NaN   \n",
       "54870  EUROPEAN   S_KLASSE                  5.5       NaN   \n",
       "39196  EUROPEAN         X5                  3.0       NaN   \n",
       "\n",
       "                                      complectation_dict  \\\n",
       "35470  {'id': '20943657', 'name': 'Comfort', 'availab...   \n",
       "67477  {'id': '22506702', 'name': 'SE+', 'available_o...   \n",
       "11169                                                NaN   \n",
       "54870                                        {'id': '0'}   \n",
       "39196  {'id': '21074304', 'name': 'xDrive35i Prestige...   \n",
       "\n",
       "                                          equipment_dict  parsing_unixtime  \\\n",
       "35470  {'cruise-control': True, 'asr': True, 'tinted-...        1625882847   \n",
       "67477  {'cruise-control': True, 'asr': True, 'esp': T...        1625882847   \n",
       "11169  {\"engine-proof\":true,\"alloy-wheel-disks\":true,...        1603269753   \n",
       "54870  {'asr': True, 'tinted-glass': True, 'roller-bl...        1625882847   \n",
       "39196  {'cruise-control': True, 'esp': True, 'usb': T...        1625882847   \n",
       "\n",
       "           price  sample  \n",
       "35470  3250000.0       1  \n",
       "67477  1738000.0       1  \n",
       "11169        0.0       0  \n",
       "54870  1099000.0       1  \n",
       "39196  3499000.0       1  "
      ]
     },
     "execution_count": 20,
     "metadata": {},
     "output_type": "execute_result"
    }
   ],
   "source": [
    "data.sample(5)"
   ]
  },
  {
   "cell_type": "markdown",
   "metadata": {},
   "source": [
    "# 4. Cleaning and Prepping Data\n",
    "\n",
    "## Определим вспомогательные функции"
   ]
  },
  {
   "cell_type": "code",
   "execution_count": 21,
   "metadata": {
    "execution": {
     "iopub.execute_input": "2021-07-17T07:26:21.601465Z",
     "iopub.status.busy": "2021-07-17T07:26:21.601124Z",
     "iopub.status.idle": "2021-07-17T07:26:21.612636Z",
     "shell.execute_reply": "2021-07-17T07:26:21.611517Z",
     "shell.execute_reply.started": "2021-07-17T07:26:21.601434Z"
    }
   },
   "outputs": [],
   "source": [
    "def data_full_info(data, full=True, short=False):\n",
    "    '''Функция для вывода общей информации по датасету.\n",
    "    data - набор исходных данных\n",
    "    full - флаг вывода информации для количественных признаков\n",
    "    short - флаг вывода информации из первых трех строк датасета\n",
    "    \n",
    "    Функция для выводит общую информацию по датасету.\n",
    "    \n",
    "    Если установлен флаг short, то отобразить первые три строки из датасета.\n",
    "    В ином случае - не отображать.\n",
    "    \n",
    "    \n",
    "    Если установлен флаг full, то отобразить информацию для количественных признаков.\n",
    "    В ином случае - не отображать.\n",
    "    '''\n",
    "        \n",
    "    list_of_names = list(data.columns)\n",
    "    temp_dict = {}\n",
    "    temp_dict['имя признака'] = list_of_names\n",
    "    temp_dict['тип'] = data.dtypes\n",
    "    temp_dict['# значений'] = data.describe(include='all').loc['count'].astype(int)\n",
    "    temp_dict['# пропусков(NaN)'] = data.isnull().sum().values \n",
    "    temp_dict['# уникальных'] = data.nunique().values\n",
    "    \n",
    "    if not short:\n",
    "        temp_dict['в первой строке'] =data.loc[0].values\n",
    "        temp_dict['во второй строке'] = data.loc[1].values\n",
    "        temp_dict['в третьей строке'] = data.loc[2].values\n",
    "        \n",
    "    if full :\n",
    "        temp_dict['минимум'] = data.describe(include='all').loc['min']\n",
    "        temp_dict['среднее'] = data.describe(include='all').loc['mean']\n",
    "        temp_dict['макс'] = data.describe(include='all').loc['max']\n",
    "        temp_dict['медиана'] = data.describe(include='all').loc['50%']\n",
    "        \n",
    "    temp_df = pd.DataFrame.from_dict(temp_dict, orient='index')\n",
    "    display(temp_df.T)\n",
    "\n",
    "    return"
   ]
  },
  {
   "cell_type": "code",
   "execution_count": 22,
   "metadata": {
    "execution": {
     "iopub.execute_input": "2021-07-17T07:26:21.614413Z",
     "iopub.status.busy": "2021-07-17T07:26:21.614067Z",
     "iopub.status.idle": "2021-07-17T07:26:21.636275Z",
     "shell.execute_reply": "2021-07-17T07:26:21.634923Z",
     "shell.execute_reply.started": "2021-07-17T07:26:21.614382Z"
    }
   },
   "outputs": [],
   "source": [
    "def column_info(data: pd.DataFrame, column: str) -> None:\n",
    "    '''Функция для вывода информации для номинативных признаков.\n",
    "    data - набор исходных данных\n",
    "    column - наименование признака\n",
    "    \n",
    "    Функция производит расчет ключевых значений номинативного признака и выводит их в stdout.\n",
    "    \n",
    "    '''\n",
    "    \n",
    "    n = 10 # Параметр для оценки наиболее часто встречающихся значений\n",
    "    print(f'Проведем анализ для переменной {column}')\n",
    "    \n",
    "    print('Тип данных: ', data[column].dtype)\n",
    "    print('Всего значений:', data.shape[0])\n",
    "    print('Пустых значений:', data.shape[0] - data[column].notnull().sum())\n",
    "    print(f'Значений, упомянутых более {n} раз:', (data[column].value_counts() > n).sum())\n",
    "    print('Уникальных значений:', data[column].nunique())\n",
    "      \n",
    "    display(pd.DataFrame(data[column].value_counts()).head(10))\n",
    "    \n",
    "\n",
    "def plot_column_info(data: pd.DataFrame, column: str) -> None:  \n",
    "    '''Функция для вывода информации для колличественных переменных.\n",
    "    data - набор исходных данных\n",
    "    column - наименование признака\n",
    "    \n",
    "    Функция производит расчет ключевых значений колличественного признака.\n",
    "    Определяет наличие выбросов. Выводит полученные данные в stdout. \n",
    "    Риует гистограмму исходных значений и значениий ограниченных границами выбросов IQR.\n",
    "    \n",
    "    '''\n",
    "    \n",
    "    max_value = data[column].max()\n",
    "    min_value = data[column].min()\n",
    "    perc25 = data[column].quantile(0.25)\n",
    "    perc75 = data[column].quantile(0.75)\n",
    "    IQR = perc75 - perc25\n",
    "    lower_limt = perc25 - 1.5*IQR\n",
    "    upper_limit = perc75 + 1.5*IQR\n",
    "\n",
    "    if max_value <= upper_limit and min_value >= lower_limt:\n",
    "        outliers_status = 'Выбросов Нет.'\n",
    "    else:\n",
    "        outliers_status = 'Есть выбросы.'\n",
    "\n",
    "    print('Всего значений:', data.shape[0])\n",
    "    print('Пустых значений:', data.shape[0] - data[column].notnull().sum())\n",
    "    \n",
    "    print('25-й перцентиль: {}, 75-й перцентиль: {}, IQR: {},'.format(perc25, perc75, IQR))\n",
    "    print(f'Границы значений: [{min_value}, {max_value}],')\n",
    "    print('Границы выбросов: [{f}, {l}].'.format(f=lower_limt, l=upper_limit))\n",
    "    print(outliers_status)\n",
    "    \n",
    "    plt.rcParams['figure.figsize'] = (10,7)\n",
    "    \n",
    "    data[column].loc[data[column].between(lower_limt, upper_limit)].hist(bins=20,\n",
    "                                                                         range=(min_value, max_value), \n",
    "                                                                         label='IQR')\n",
    "\n",
    "    data[column].hist(alpha=0.5, \n",
    "                      bins=20, \n",
    "                      range=(min_value, max_value), \n",
    "                      label='Исходные значения')\n",
    "\n",
    "    plt.legend();"
   ]
  },
  {
   "cell_type": "code",
   "execution_count": 23,
   "metadata": {
    "execution": {
     "iopub.execute_input": "2021-07-17T07:26:21.638576Z",
     "iopub.status.busy": "2021-07-17T07:26:21.638153Z",
     "iopub.status.idle": "2021-07-17T07:26:21.661587Z",
     "shell.execute_reply": "2021-07-17T07:26:21.660195Z",
     "shell.execute_reply.started": "2021-07-17T07:26:21.638528Z"
    }
   },
   "outputs": [],
   "source": [
    "def plot_column_info_log(data: pd.DataFrame, column: str) -> None:  \n",
    "    '''Функция для вывода информации для колличественных переменных.\n",
    "    data - набор исходных данных\n",
    "    column - наименование признака\n",
    "    \n",
    "    Функция производит расчет ключевых значений колличественного признака.\n",
    "    Определяет наличие выбросов. Выводит полученные данные в stdout. \n",
    "    Риует гистограмму исходных значений, boxplot исходных значений, гистограмму логарифма исходных значений \n",
    "    и boxplot для них.\n",
    "    \n",
    "    '''\n",
    "    \n",
    "    max_value = data[column].max()\n",
    "    min_value = data[column].min()\n",
    "    perc25 = data[column].quantile(0.25)\n",
    "    perc75 = data[column].quantile(0.75)\n",
    "    IQR = perc75 - perc25\n",
    "    lower_limt = perc25 - 1.5*IQR\n",
    "    upper_limit = perc75 + 1.5*IQR\n",
    "    \n",
    "    if max_value <= upper_limit and min_value >= lower_limt:\n",
    "        outliers_status = 'Выбросов Нет.'\n",
    "    else:\n",
    "        outliers_status = 'Есть выбросы.'\n",
    "    \n",
    "    outliers_num = data.query(f'{column} < {lower_limt} or {column} > {upper_limit}').shape[0]\n",
    "    \n",
    "    print('Всего значений:', data.shape[0])\n",
    "    print('Пустых значений:', data.shape[0] - data[column].notnull().sum())\n",
    "    \n",
    "    print('25-й перцентиль: {}, 75-й перцентиль: {}, IQR: {},'.format(perc25, perc75, IQR))\n",
    "    print(f'Границы значений: [{min_value}, {max_value}],')\n",
    "    print('Границы выбросов: [{f}, {l}].'.format(f=lower_limt, l=upper_limit))\n",
    "    print(outliers_status)\n",
    "    print('Количество выбросов:', outliers_num)\n",
    "    \n",
    "    plt.rcParams['figure.figsize'] = (12,4)\n",
    "    \n",
    "    ser_iqr = data[column].loc[data[column].between(lower_limt, upper_limit)]\n",
    "    ser_act = data[column]\n",
    "    ser_log = data[column].apply(lambda x: math.log(x + 1))\n",
    "    \n",
    "    fig = plt.figure()\n",
    "    st = fig.suptitle(f'Гистограммы и box-plot для признака \\'{column}\\' и log(\\'{column}\\')', fontsize='x-large')\n",
    "    \n",
    "    ax_1 = fig.add_subplot(1, 4, 1)\n",
    "    ax_2 = fig.add_subplot(1, 4, 2)\n",
    "    ax_3 = fig.add_subplot(1, 4, 3)\n",
    "    ax_4 = fig.add_subplot(1, 4, 4)\n",
    "    \n",
    "    ax_1.hist(ser_act, bins=15)\n",
    "    ax_1.set_title(f'\\'{column}\\'', loc = 'right', fontsize=10)\n",
    "    ax_1.spines['top'].set_visible(False)\n",
    "    ax_1.spines['right'].set_visible(False)\n",
    "    \n",
    "    ax_2.boxplot(ser_act)\n",
    "    ax_2.set_title(f'boxplot of \\'{column}\\'', loc = 'left', fontsize=10)\n",
    "    ax_2.spines['top'].set_visible(False)\n",
    "    ax_2.spines['right'].set_visible(False)\n",
    "    ax_2.spines['bottom'].set_visible(False)\n",
    "    ax_2.spines['left'].set_visible(False)\n",
    "    \n",
    "    ax_3.hist(ser_log, bins=15)\n",
    "    ax_3.set_title(f'log(\\'{column}\\')', loc = 'right', fontsize=10)\n",
    "    ax_3.spines['top'].set_visible(False)\n",
    "    ax_3.spines['right'].set_visible(False)\n",
    "    \n",
    "    ax_4.boxplot(ser_log)\n",
    "    ax_4.set_title(f'boxplot of log(\\'{column}\\')', loc = 'left', fontsize=10)\n",
    "    ax_4.spines['top'].set_visible(False)\n",
    "    ax_4.spines['right'].set_visible(False)\n",
    "    ax_4.spines['bottom'].set_visible(False)\n",
    "    ax_4.spines['left'].set_visible(False)\n",
    "    \n",
    "    \n",
    "    # shift subplots down:\n",
    "    st.set_y(0.99)\n",
    "    fig.subplots_adjust(top=0.85)\n",
    "    \n",
    "    plt.legend()\n",
    "    plt.show();"
   ]
  },
  {
   "cell_type": "code",
   "execution_count": 24,
   "metadata": {
    "execution": {
     "iopub.execute_input": "2021-07-17T07:26:21.663869Z",
     "iopub.status.busy": "2021-07-17T07:26:21.663387Z",
     "iopub.status.idle": "2021-07-17T07:26:21.683131Z",
     "shell.execute_reply": "2021-07-17T07:26:21.681571Z",
     "shell.execute_reply.started": "2021-07-17T07:26:21.663812Z"
    }
   },
   "outputs": [],
   "source": [
    "def replace_nan(data_in: pd.DataFrame, column: str, typ: str, new_value='') -> pd.DataFrame:\n",
    "    '''Функция возвращает датасет, в котором произведена замена пустых значений признака и добавлен новый\n",
    "    признак, в котором сохраняется информаця о том, в какой строке было пустое значение\n",
    "    data_in - набор исходных данных\n",
    "    column - наименование признака\n",
    "    typ - тип замены, может принимать значения: 'mode', 'median', 'mean', 'new_value'\n",
    "    \n",
    "    Создается новый признак с наименованием (column)_isnan, в котором сохраняется информаця \n",
    "    о том, в какой строке пустое значение признака (column)\n",
    "    В зависимости от типа замены (typ) функция определяет значение, \n",
    "    на которое будет производится замена.\n",
    "    Все значения признака (column) в наборе данных (data_in) заменяются на вычисленное значение.\n",
    "    Функция возращает откорректированный набор данных, изменений в исходном наборе нет.\n",
    "    \n",
    "    '''\n",
    "    \n",
    "    data = data_in.copy()\n",
    "    \n",
    "    print(f'В новый признак \\'{column}_isnan\\' охраняем информацию, в каком наблюдении указано NaN')\n",
    "    data.loc[:, column + '_isnan'] = pd.isna(data[column]).astype('uint8')\n",
    "    \n",
    "    if typ == 'mode':\n",
    "        m = data.loc[:, column].mode()[0]\n",
    "        s = 'самым распространенным значением '\n",
    "    elif typ == 'median':\n",
    "        m = data.loc[:, column].median()\n",
    "        s = 'медианой'\n",
    "    elif typ == 'mean':\n",
    "        m = data.loc[:, column].mean()\n",
    "        s = 'средневзвешенным значением'\n",
    "    elif typ == 'new_value':\n",
    "        m = new_value\n",
    "        s = 'указанным значением'\n",
    "    else:\n",
    "        return None\n",
    "    \n",
    "    print(f'Заполним пустые значения признака {column} {s} {m}')\n",
    "    data.loc[:, column] = data[column].fillna(m)\n",
    "    \n",
    "    return data"
   ]
  },
  {
   "cell_type": "code",
   "execution_count": 25,
   "metadata": {
    "execution": {
     "iopub.execute_input": "2021-07-17T07:26:21.684856Z",
     "iopub.status.busy": "2021-07-17T07:26:21.684522Z",
     "iopub.status.idle": "2021-07-17T07:26:21.704479Z",
     "shell.execute_reply": "2021-07-17T07:26:21.703575Z",
     "shell.execute_reply.started": "2021-07-17T07:26:21.684824Z"
    }
   },
   "outputs": [],
   "source": [
    "def all_metrics(d_y_true, d_y_pred, d_y_pred_prob):\n",
    "        \n",
    "    temp_dict = {}\n",
    "    temp1 = accuracy_score(d_y_true, d_y_pred)\n",
    "    temp_dict['accuracy'] = [temp1, '(TP+TN)/(P+N)']\n",
    "\n",
    "    temp1 = balanced_accuracy_score(d_y_true, d_y_pred)\n",
    "    temp_dict['balanced accuracy'] = [temp1, 'сбалансированная accuracy']\n",
    "    \n",
    "    temp1 = precision_score(d_y_true, d_y_pred)\n",
    "    temp_dict['precision'] = [temp1, 'точность = TP/(TP+FP)']\n",
    "    \n",
    "    temp1 = recall_score(d_y_true, d_y_pred)\n",
    "    temp_dict['recall'] = [temp1, 'полнота = TP/P']\n",
    "    \n",
    "    temp1 = f1_score(d_y_true, d_y_pred)\n",
    "    temp_dict['f1_score'] = [temp1, 'среднее гармоническое точности и полноты']\n",
    "    \n",
    "    temp1 = roc_auc_score(d_y_true, d_y_pred_prob)\n",
    "    temp_dict['roc_auc'] = [temp1, 'Area Under Curve - Receiver Operating Characteristic']    \n",
    "    \n",
    "    temp_df = pd.DataFrame.from_dict(temp_dict, orient='index', columns=['Значение', 'Описание'])\n",
    "    display(temp_df)\n",
    "\n",
    "    return\n",
    "\n",
    "\n",
    "def model_coef(d_columns, d_model_coef_0):\n",
    "\n",
    "    temp_dict = {}\n",
    "    temp_dict['имя признака'] = d_columns\n",
    "    temp_dict['коэффициент модели'] = d_model_coef_0\n",
    "    temp_dict['модуль коэф'] = abs(temp_dict['коэффициент модели'])\n",
    "    temp_df = pd.DataFrame.from_dict(temp_dict, orient='columns')\n",
    "    temp_df = temp_df.sort_values(by='модуль коэф', ascending=False)\n",
    "    temp_df.reset_index(drop=True,inplace=True)\n",
    "    \n",
    "    return temp_df.loc[:,['имя признака','коэффициент модели']]"
   ]
  },
  {
   "cell_type": "code",
   "execution_count": 26,
   "metadata": {
    "execution": {
     "iopub.execute_input": "2021-07-17T07:26:21.706000Z",
     "iopub.status.busy": "2021-07-17T07:26:21.705699Z",
     "iopub.status.idle": "2021-07-17T07:26:21.728061Z",
     "shell.execute_reply": "2021-07-17T07:26:21.726080Z",
     "shell.execute_reply.started": "2021-07-17T07:26:21.705970Z"
    }
   },
   "outputs": [],
   "source": [
    "def plot_cv_metrics(cv_metrics):\n",
    "    avg_f1_train, std_f1_train = cv_metrics['train_score'].mean(), cv_metrics['train_score'].std()\n",
    "    avg_f1_valid, std_f1_valid = cv_metrics['test_score'].mean(), cv_metrics['test_score'].std()\n",
    "    print('[train] F1-score = {:.2f} +/- {:.2f}'.format(avg_f1_train, std_f1_train))\n",
    "    print('[valid] F1-score = {:.2f} +/- {:.2f}'.format(avg_f1_valid, std_f1_valid))\n",
    "    \n",
    "    plt.figure(figsize=(15, 5))\n",
    "\n",
    "    plt.plot(cv_metrics['train_score'], label='train', marker='.')\n",
    "    plt.plot(cv_metrics['test_score'], label='valid', marker='.')\n",
    "\n",
    "    plt.ylim([0., 1.]);\n",
    "    plt.xlabel('CV iteration', fontsize=15)\n",
    "    plt.ylabel('F1-score', fontsize=15)\n",
    "    plt.legend(fontsize=15)\n",
    "    \n",
    "    \n",
    "def vis_cross_val_score(d_name_metric, d_vec, d_value_metric, d_my_font_scale):\n",
    "    num_folds = len(d_vec['train_score'])\n",
    "    avg_metric_train, std_metric_train = d_vec['train_score'].mean(), d_vec['train_score'].std()\n",
    "    avg_metric_test, std_metric_test = d_vec['test_score'].mean(), d_vec['test_score'].std()\n",
    "\n",
    "    plt.style.use('seaborn-paper')\n",
    "    sns.set(font_scale=d_my_font_scale)\n",
    "    color_text = plt.get_cmap('PuBu')(0.85)\n",
    "\n",
    "    plt.figure(figsize=(12, 6))\n",
    "    plt.plot(d_vec['train_score'], label='тренировочные значения', marker='.', color= 'darkblue')\n",
    "    plt.plot([0,num_folds-1], [avg_metric_train, avg_metric_train], color='blue', label='среднее трен. значений ', marker='.', lw=2, ls = '--')\n",
    "\n",
    "    plt.plot(d_vec['test_score'], label='тестовые значения', marker='.', color= 'red')\n",
    "    plt.plot([0,num_folds-1], [avg_metric_test, avg_metric_test], color='lightcoral', label='среднее тест. значений ', marker='.', lw=2, ls = '--')\n",
    "\n",
    "    plt.plot([0,num_folds-1], [d_value_metric, d_value_metric], color='grey', label='значение метрики до CV', marker='.', lw=3)\n",
    "\n",
    "    # plt.xlim([1, num_folds])\n",
    "    y_max = max(avg_metric_train,avg_metric_test) + 1.5*max(std_metric_train,std_metric_test)\n",
    "    y_min = min(avg_metric_train,avg_metric_test) - 3*max(std_metric_train,std_metric_test)\n",
    "    plt.ylim([y_min, y_max])\n",
    "    plt.xlabel('номер фолда', fontsize=15, color = color_text)\n",
    "    plt.ylabel(d_name_metric, fontsize=15, color = color_text)\n",
    "    plt.title(f'Кросс-валидация по метрике {d_name_metric} на {num_folds} фолдах', color = color_text, fontsize=17)\n",
    "    plt.legend(loc=\"lower right\", fontsize=11)\n",
    "    y_min_text = y_min +0.5*max(std_metric_train,std_metric_test)\n",
    "    plt.text(0, y_min_text, f'{d_name_metric} на трейне = {round(avg_metric_train,3)} +/- {round(std_metric_train,3)} \\n{d_name_metric} на тесте    = {round(avg_metric_test,3)} +/- {round(std_metric_test,3)} \\n{d_name_metric} до CV        = {round(d_value_metric,3)}', fontsize = 15)\n",
    "    plt.show()\n",
    "    return"
   ]
  },
  {
   "cell_type": "code",
   "execution_count": 27,
   "metadata": {
    "execution": {
     "iopub.execute_input": "2021-07-17T07:26:21.730492Z",
     "iopub.status.busy": "2021-07-17T07:26:21.730032Z",
     "iopub.status.idle": "2021-07-17T07:26:21.752632Z",
     "shell.execute_reply": "2021-07-17T07:26:21.751317Z",
     "shell.execute_reply.started": "2021-07-17T07:26:21.730446Z"
    }
   },
   "outputs": [],
   "source": [
    "# Класс-помощник для красивого отображения данных о модели. Взял у https://www.kaggle.com/ekalachev\n",
    "class ModelInspector():\n",
    "    def __init__(self, model, X, y):\n",
    "        self.model = model\n",
    "        self.X = X\n",
    "        self.y = y\n",
    "\n",
    "    def _plot_confusion_matrix(self, y_pred, ax):\n",
    "        tn, fp, fn, tp = confusion_matrix(self.y, y_pred).ravel()\n",
    "\n",
    "        matrix = np.eye(2)\n",
    "        matrix_annot = [[f'TP\\n{tp}', f'FP\\n{fp}'], [f'FN\\n{fn}', f'TN\\n{tn}']]\n",
    "\n",
    "        sns.heatmap(matrix, annot=matrix_annot, annot_kws={\"size\": 20}, fmt='', cmap='Greens', cbar=False,\n",
    "                    xticklabels=['', 'Good client'], yticklabels=['Bad client', ''], ax=ax)\n",
    "\n",
    "    def _plot_metrics(self, y_pred, roc_auc, ax):\n",
    "        matrix = np.array([[1, 0, 1, 0, 1]]).T\n",
    "\n",
    "        matrix_annot = np.array([[\n",
    "            f'ROC AUC: {roc_auc:.4f}',\n",
    "            f'Balanced accuracy: {balanced_accuracy_score(self.y, y_pred):.3f}',\n",
    "            f'F1-score: {f1_score(self.y, y_pred):.3f}',\n",
    "            f'Precision score: {precision_score(self.y, y_pred):.3f}',\n",
    "            f'Recall score: {recall_score(self.y, y_pred):.3f}'\n",
    "        ]]).T\n",
    "\n",
    "        sns.heatmap(matrix, annot=matrix_annot, fmt='', cbar=False, yticklabels=[],\n",
    "                    xticklabels=[], annot_kws={'size': 16, 'ha': 'center'}, cmap='GnBu', ax=ax)\n",
    "\n",
    "    def _plot_logistic_regression(self, probs, ax):\n",
    "        fpr, tpr, threshold = roc_curve(self.y, probs)\n",
    "\n",
    "        ax.plot([0, 1], label='Baseline', linestyle='--')\n",
    "        ax.plot(fpr, tpr, label='Regression')\n",
    "        ax.set_ylabel('True Positive Rate')\n",
    "        ax.set_xlabel('False Positive Rate')\n",
    "        ax.legend(loc='lower right')\n",
    "\n",
    "    def inspect(self, size=5):\n",
    "        y_pred = self.model.predict(self.X)\n",
    "        probs = self.model.predict_proba(self.X)[:, 1]\n",
    "        roc_auc = roc_auc_score(self.y, probs)\n",
    "\n",
    "        fig, (ax1, ax2, ax3) = plt.subplots(1, 3, figsize=(3*size, size))\n",
    "\n",
    "        fig.suptitle(f'Model inspection. ROC AUC: {roc_auc:.4f}', fontsize=20)\n",
    "\n",
    "        ax1.set_title('Logistic Regression')\n",
    "        ax2.set_title('Confusion matrix')\n",
    "        ax3.set_title('Metrics')\n",
    "\n",
    "        # Plot logistic regression\n",
    "        self._plot_logistic_regression(probs, ax1)\n",
    "\n",
    "        # Plot confusion matrix\n",
    "        self._plot_confusion_matrix(y_pred, ax2)\n",
    "\n",
    "        # plot metrics\n",
    "        self._plot_metrics(y_pred, roc_auc, ax3)\n",
    "\n",
    "        plt.show()"
   ]
  },
  {
   "cell_type": "code",
   "execution_count": 28,
   "metadata": {
    "execution": {
     "iopub.execute_input": "2021-07-17T07:26:21.755762Z",
     "iopub.status.busy": "2021-07-17T07:26:21.755033Z",
     "iopub.status.idle": "2021-07-17T07:26:21.773561Z",
     "shell.execute_reply": "2021-07-17T07:26:21.772800Z",
     "shell.execute_reply.started": "2021-07-17T07:26:21.755713Z"
    }
   },
   "outputs": [],
   "source": [
    "def get_stat_dif(data: pd.DataFrame, column: str, target: str) -> bool:\n",
    "    '''Функция определяет, есть ли статистически значимые различия для признака.\n",
    "    data - набор исходных данных\n",
    "    column - наименование признака\n",
    "    target - наименование целевого признака\n",
    "    \n",
    "    Функция проверяет, есть ли статистическая разница в распределении целевого признака (target)\n",
    "    по номинативному признаку (column) в наборе данных (data). \n",
    "    Проверка осуществляется с помощью теста Стьюдента. \n",
    "    Проверяется нулевая гипотеза о том, что распределения целевого признака (target)\n",
    "    по различным парам значений номинативного признака (column) неразличимы.\n",
    "    Пары определяются из различных комбинаций n самых часто встречающихся занчений признака (column).\n",
    "    Если различия найдены, то информация об этом выводится в stdout.\n",
    "    \n",
    "    '''\n",
    "    \n",
    "    n = 10 # Параметр для оценки наиболее часто встречающихся значений\n",
    "    cols = data.loc[:, column].value_counts().index[:n]\n",
    "    combinations_all = list(combinations(cols, 2))\n",
    "    for comb in combinations_all:\n",
    "        if ttest_ind(data.loc[data.loc[:, column] == comb[0], target], \n",
    "                     data.loc[data.loc[:, column] == comb[1], target]).pvalue \\\n",
    "            <= 0.05/len(combinations_all): # Учли поправку Бонферони\n",
    "            print('Найдены статистически значимые различия для признака', column)\n",
    "            return True\n",
    "    \n",
    "    return False"
   ]
  },
  {
   "cell_type": "markdown",
   "metadata": {},
   "source": [
    "## Проведем предварительный анализ данных"
   ]
  },
  {
   "cell_type": "code",
   "execution_count": 29,
   "metadata": {
    "execution": {
     "iopub.execute_input": "2021-07-17T07:26:21.775552Z",
     "iopub.status.busy": "2021-07-17T07:26:21.774883Z",
     "iopub.status.idle": "2021-07-17T07:26:23.822274Z",
     "shell.execute_reply": "2021-07-17T07:26:23.820246Z",
     "shell.execute_reply.started": "2021-07-17T07:26:21.775505Z"
    }
   },
   "outputs": [
    {
     "data": {
      "text/html": [
       "<div>\n",
       "<style scoped>\n",
       "    .dataframe tbody tr th:only-of-type {\n",
       "        vertical-align: middle;\n",
       "    }\n",
       "\n",
       "    .dataframe tbody tr th {\n",
       "        vertical-align: top;\n",
       "    }\n",
       "\n",
       "    .dataframe thead th {\n",
       "        text-align: right;\n",
       "    }\n",
       "</style>\n",
       "<table border=\"1\" class=\"dataframe\">\n",
       "  <thead>\n",
       "    <tr style=\"text-align: right;\">\n",
       "      <th></th>\n",
       "      <th>имя признака</th>\n",
       "      <th>тип</th>\n",
       "      <th># значений</th>\n",
       "      <th># пропусков(NaN)</th>\n",
       "      <th># уникальных</th>\n",
       "      <th>минимум</th>\n",
       "      <th>среднее</th>\n",
       "      <th>макс</th>\n",
       "      <th>медиана</th>\n",
       "    </tr>\n",
       "  </thead>\n",
       "  <tbody>\n",
       "    <tr>\n",
       "      <th>0</th>\n",
       "      <td>body_type</td>\n",
       "      <td>object</td>\n",
       "      <td>87319</td>\n",
       "      <td>1</td>\n",
       "      <td>118</td>\n",
       "      <td>NaN</td>\n",
       "      <td>NaN</td>\n",
       "      <td>NaN</td>\n",
       "      <td>NaN</td>\n",
       "    </tr>\n",
       "    <tr>\n",
       "      <th>1</th>\n",
       "      <td>brand</td>\n",
       "      <td>object</td>\n",
       "      <td>87320</td>\n",
       "      <td>0</td>\n",
       "      <td>12</td>\n",
       "      <td>NaN</td>\n",
       "      <td>NaN</td>\n",
       "      <td>NaN</td>\n",
       "      <td>NaN</td>\n",
       "    </tr>\n",
       "    <tr>\n",
       "      <th>2</th>\n",
       "      <td>color</td>\n",
       "      <td>object</td>\n",
       "      <td>87320</td>\n",
       "      <td>0</td>\n",
       "      <td>16</td>\n",
       "      <td>NaN</td>\n",
       "      <td>NaN</td>\n",
       "      <td>NaN</td>\n",
       "      <td>NaN</td>\n",
       "    </tr>\n",
       "    <tr>\n",
       "      <th>3</th>\n",
       "      <td>fuel_type</td>\n",
       "      <td>object</td>\n",
       "      <td>87320</td>\n",
       "      <td>0</td>\n",
       "      <td>6</td>\n",
       "      <td>NaN</td>\n",
       "      <td>NaN</td>\n",
       "      <td>NaN</td>\n",
       "      <td>NaN</td>\n",
       "    </tr>\n",
       "    <tr>\n",
       "      <th>4</th>\n",
       "      <td>mileage</td>\n",
       "      <td>int64</td>\n",
       "      <td>87320</td>\n",
       "      <td>0</td>\n",
       "      <td>21957</td>\n",
       "      <td>0</td>\n",
       "      <td>125101</td>\n",
       "      <td>1e+06</td>\n",
       "      <td>114054</td>\n",
       "    </tr>\n",
       "    <tr>\n",
       "      <th>5</th>\n",
       "      <td>model_date</td>\n",
       "      <td>float64</td>\n",
       "      <td>87319</td>\n",
       "      <td>1</td>\n",
       "      <td>67</td>\n",
       "      <td>1904</td>\n",
       "      <td>2010.02</td>\n",
       "      <td>2021</td>\n",
       "      <td>2011</td>\n",
       "    </tr>\n",
       "    <tr>\n",
       "      <th>6</th>\n",
       "      <td>name</td>\n",
       "      <td>object</td>\n",
       "      <td>87319</td>\n",
       "      <td>1</td>\n",
       "      <td>3342</td>\n",
       "      <td>NaN</td>\n",
       "      <td>NaN</td>\n",
       "      <td>NaN</td>\n",
       "      <td>NaN</td>\n",
       "    </tr>\n",
       "    <tr>\n",
       "      <th>7</th>\n",
       "      <td>number_of_doors</td>\n",
       "      <td>float64</td>\n",
       "      <td>87319</td>\n",
       "      <td>1</td>\n",
       "      <td>5</td>\n",
       "      <td>0</td>\n",
       "      <td>4.52793</td>\n",
       "      <td>5</td>\n",
       "      <td>5</td>\n",
       "    </tr>\n",
       "    <tr>\n",
       "      <th>8</th>\n",
       "      <td>engine_power</td>\n",
       "      <td>object</td>\n",
       "      <td>87319</td>\n",
       "      <td>1</td>\n",
       "      <td>628</td>\n",
       "      <td>NaN</td>\n",
       "      <td>NaN</td>\n",
       "      <td>NaN</td>\n",
       "      <td>NaN</td>\n",
       "    </tr>\n",
       "    <tr>\n",
       "      <th>9</th>\n",
       "      <td>wheel</td>\n",
       "      <td>object</td>\n",
       "      <td>87320</td>\n",
       "      <td>0</td>\n",
       "      <td>2</td>\n",
       "      <td>NaN</td>\n",
       "      <td>NaN</td>\n",
       "      <td>NaN</td>\n",
       "      <td>NaN</td>\n",
       "    </tr>\n",
       "    <tr>\n",
       "      <th>10</th>\n",
       "      <td>drive_type</td>\n",
       "      <td>object</td>\n",
       "      <td>87319</td>\n",
       "      <td>1</td>\n",
       "      <td>3</td>\n",
       "      <td>NaN</td>\n",
       "      <td>NaN</td>\n",
       "      <td>NaN</td>\n",
       "      <td>NaN</td>\n",
       "    </tr>\n",
       "    <tr>\n",
       "      <th>11</th>\n",
       "      <td>pts</td>\n",
       "      <td>object</td>\n",
       "      <td>87049</td>\n",
       "      <td>271</td>\n",
       "      <td>3</td>\n",
       "      <td>NaN</td>\n",
       "      <td>NaN</td>\n",
       "      <td>NaN</td>\n",
       "      <td>NaN</td>\n",
       "    </tr>\n",
       "    <tr>\n",
       "      <th>12</th>\n",
       "      <td>owners</td>\n",
       "      <td>float64</td>\n",
       "      <td>67969</td>\n",
       "      <td>19351</td>\n",
       "      <td>3</td>\n",
       "      <td>1</td>\n",
       "      <td>2.16989</td>\n",
       "      <td>3</td>\n",
       "      <td>2</td>\n",
       "    </tr>\n",
       "    <tr>\n",
       "      <th>13</th>\n",
       "      <td>vehicle_transmission</td>\n",
       "      <td>object</td>\n",
       "      <td>87319</td>\n",
       "      <td>1</td>\n",
       "      <td>4</td>\n",
       "      <td>NaN</td>\n",
       "      <td>NaN</td>\n",
       "      <td>NaN</td>\n",
       "      <td>NaN</td>\n",
       "    </tr>\n",
       "    <tr>\n",
       "      <th>14</th>\n",
       "      <td>production_date</td>\n",
       "      <td>int64</td>\n",
       "      <td>87320</td>\n",
       "      <td>0</td>\n",
       "      <td>71</td>\n",
       "      <td>1904</td>\n",
       "      <td>2012.27</td>\n",
       "      <td>2021</td>\n",
       "      <td>2013</td>\n",
       "    </tr>\n",
       "    <tr>\n",
       "      <th>15</th>\n",
       "      <td>vendor</td>\n",
       "      <td>object</td>\n",
       "      <td>87320</td>\n",
       "      <td>0</td>\n",
       "      <td>3</td>\n",
       "      <td>NaN</td>\n",
       "      <td>NaN</td>\n",
       "      <td>NaN</td>\n",
       "      <td>NaN</td>\n",
       "    </tr>\n",
       "    <tr>\n",
       "      <th>16</th>\n",
       "      <td>model_name</td>\n",
       "      <td>object</td>\n",
       "      <td>87320</td>\n",
       "      <td>0</td>\n",
       "      <td>544</td>\n",
       "      <td>NaN</td>\n",
       "      <td>NaN</td>\n",
       "      <td>NaN</td>\n",
       "      <td>NaN</td>\n",
       "    </tr>\n",
       "    <tr>\n",
       "      <th>17</th>\n",
       "      <td>engine_displacement</td>\n",
       "      <td>float64</td>\n",
       "      <td>87320</td>\n",
       "      <td>0</td>\n",
       "      <td>55</td>\n",
       "      <td>0</td>\n",
       "      <td>2.37418</td>\n",
       "      <td>6.6</td>\n",
       "      <td>2</td>\n",
       "    </tr>\n",
       "    <tr>\n",
       "      <th>18</th>\n",
       "      <td>ownership</td>\n",
       "      <td>object</td>\n",
       "      <td>22954</td>\n",
       "      <td>64366</td>\n",
       "      <td>553</td>\n",
       "      <td>NaN</td>\n",
       "      <td>NaN</td>\n",
       "      <td>NaN</td>\n",
       "      <td>NaN</td>\n",
       "    </tr>\n",
       "    <tr>\n",
       "      <th>19</th>\n",
       "      <td>complectation_dict</td>\n",
       "      <td>object</td>\n",
       "      <td>59052</td>\n",
       "      <td>28268</td>\n",
       "      <td>5332</td>\n",
       "      <td>NaN</td>\n",
       "      <td>NaN</td>\n",
       "      <td>NaN</td>\n",
       "      <td>NaN</td>\n",
       "    </tr>\n",
       "    <tr>\n",
       "      <th>20</th>\n",
       "      <td>equipment_dict</td>\n",
       "      <td>object</td>\n",
       "      <td>77324</td>\n",
       "      <td>9996</td>\n",
       "      <td>55991</td>\n",
       "      <td>NaN</td>\n",
       "      <td>NaN</td>\n",
       "      <td>NaN</td>\n",
       "      <td>NaN</td>\n",
       "    </tr>\n",
       "    <tr>\n",
       "      <th>21</th>\n",
       "      <td>parsing_unixtime</td>\n",
       "      <td>int64</td>\n",
       "      <td>87320</td>\n",
       "      <td>0</td>\n",
       "      <td>34687</td>\n",
       "      <td>1.60311e+09</td>\n",
       "      <td>1.61691e+09</td>\n",
       "      <td>1.62588e+09</td>\n",
       "      <td>1.62588e+09</td>\n",
       "    </tr>\n",
       "    <tr>\n",
       "      <th>22</th>\n",
       "      <td>price</td>\n",
       "      <td>float64</td>\n",
       "      <td>87110</td>\n",
       "      <td>210</td>\n",
       "      <td>9724</td>\n",
       "      <td>0</td>\n",
       "      <td>1.88713e+06</td>\n",
       "      <td>5.5e+07</td>\n",
       "      <td>575000</td>\n",
       "    </tr>\n",
       "    <tr>\n",
       "      <th>23</th>\n",
       "      <td>sample</td>\n",
       "      <td>int64</td>\n",
       "      <td>87320</td>\n",
       "      <td>0</td>\n",
       "      <td>2</td>\n",
       "      <td>0</td>\n",
       "      <td>0.602771</td>\n",
       "      <td>1</td>\n",
       "      <td>1</td>\n",
       "    </tr>\n",
       "  </tbody>\n",
       "</table>\n",
       "</div>"
      ],
      "text/plain": [
       "            имя признака      тип # значений # пропусков(NaN) # уникальных  \\\n",
       "0              body_type   object      87319                1          118   \n",
       "1                  brand   object      87320                0           12   \n",
       "2                  color   object      87320                0           16   \n",
       "3              fuel_type   object      87320                0            6   \n",
       "4                mileage    int64      87320                0        21957   \n",
       "5             model_date  float64      87319                1           67   \n",
       "6                   name   object      87319                1         3342   \n",
       "7        number_of_doors  float64      87319                1            5   \n",
       "8           engine_power   object      87319                1          628   \n",
       "9                  wheel   object      87320                0            2   \n",
       "10            drive_type   object      87319                1            3   \n",
       "11                   pts   object      87049              271            3   \n",
       "12                owners  float64      67969            19351            3   \n",
       "13  vehicle_transmission   object      87319                1            4   \n",
       "14       production_date    int64      87320                0           71   \n",
       "15                vendor   object      87320                0            3   \n",
       "16            model_name   object      87320                0          544   \n",
       "17   engine_displacement  float64      87320                0           55   \n",
       "18             ownership   object      22954            64366          553   \n",
       "19    complectation_dict   object      59052            28268         5332   \n",
       "20        equipment_dict   object      77324             9996        55991   \n",
       "21      parsing_unixtime    int64      87320                0        34687   \n",
       "22                 price  float64      87110              210         9724   \n",
       "23                sample    int64      87320                0            2   \n",
       "\n",
       "        минимум      среднее         макс      медиана  \n",
       "0           NaN          NaN          NaN          NaN  \n",
       "1           NaN          NaN          NaN          NaN  \n",
       "2           NaN          NaN          NaN          NaN  \n",
       "3           NaN          NaN          NaN          NaN  \n",
       "4             0       125101        1e+06       114054  \n",
       "5          1904      2010.02         2021         2011  \n",
       "6           NaN          NaN          NaN          NaN  \n",
       "7             0      4.52793            5            5  \n",
       "8           NaN          NaN          NaN          NaN  \n",
       "9           NaN          NaN          NaN          NaN  \n",
       "10          NaN          NaN          NaN          NaN  \n",
       "11          NaN          NaN          NaN          NaN  \n",
       "12            1      2.16989            3            2  \n",
       "13          NaN          NaN          NaN          NaN  \n",
       "14         1904      2012.27         2021         2013  \n",
       "15          NaN          NaN          NaN          NaN  \n",
       "16          NaN          NaN          NaN          NaN  \n",
       "17            0      2.37418          6.6            2  \n",
       "18          NaN          NaN          NaN          NaN  \n",
       "19          NaN          NaN          NaN          NaN  \n",
       "20          NaN          NaN          NaN          NaN  \n",
       "21  1.60311e+09  1.61691e+09  1.62588e+09  1.62588e+09  \n",
       "22            0  1.88713e+06      5.5e+07       575000  \n",
       "23            0     0.602771            1            1  "
      ]
     },
     "metadata": {},
     "output_type": "display_data"
    }
   ],
   "source": [
    "# Выведем общую информацию по датасету\n",
    "data_full_info(data, short=True)"
   ]
  },
  {
   "cell_type": "code",
   "execution_count": 30,
   "metadata": {
    "execution": {
     "iopub.execute_input": "2021-07-17T07:26:23.824078Z",
     "iopub.status.busy": "2021-07-17T07:26:23.823663Z",
     "iopub.status.idle": "2021-07-17T07:26:23.829567Z",
     "shell.execute_reply": "2021-07-17T07:26:23.828406Z",
     "shell.execute_reply.started": "2021-07-17T07:26:23.824031Z"
    }
   },
   "outputs": [],
   "source": [
    "# Заведем 4 списка под разные  типы признаков\n",
    "# Временные признаки \n",
    "time_cols = []\n",
    "\n",
    "# Бинарные признаки \n",
    "bin_cols = []\n",
    "\n",
    "# Категориальные признаки\n",
    "cat_cols = []\n",
    "\n",
    "# Колличественные признаки \n",
    "num_cols = []\n",
    "\n",
    "# Лишние признаки\n",
    "del_cols = []\n",
    "\n",
    "# целевые признаки\n",
    "target_cols = []"
   ]
  },
  {
   "cell_type": "markdown",
   "metadata": {},
   "source": [
    "Признак **body_type**"
   ]
  },
  {
   "cell_type": "code",
   "execution_count": 31,
   "metadata": {
    "execution": {
     "iopub.execute_input": "2021-07-17T07:26:23.831477Z",
     "iopub.status.busy": "2021-07-17T07:26:23.831048Z",
     "iopub.status.idle": "2021-07-17T07:26:23.893865Z",
     "shell.execute_reply": "2021-07-17T07:26:23.892666Z",
     "shell.execute_reply.started": "2021-07-17T07:26:23.831433Z"
    }
   },
   "outputs": [
    {
     "name": "stdout",
     "output_type": "stream",
     "text": [
      "Проведем анализ для переменной body_type\n",
      "Тип данных:  object\n",
      "Всего значений: 87320\n",
      "Пустых значений: 1\n",
      "Значений, упомянутых более 10 раз: 53\n",
      "Уникальных значений: 118\n"
     ]
    },
    {
     "data": {
      "text/html": [
       "<div>\n",
       "<style scoped>\n",
       "    .dataframe tbody tr th:only-of-type {\n",
       "        vertical-align: middle;\n",
       "    }\n",
       "\n",
       "    .dataframe tbody tr th {\n",
       "        vertical-align: top;\n",
       "    }\n",
       "\n",
       "    .dataframe thead th {\n",
       "        text-align: right;\n",
       "    }\n",
       "</style>\n",
       "<table border=\"1\" class=\"dataframe\">\n",
       "  <thead>\n",
       "    <tr style=\"text-align: right;\">\n",
       "      <th></th>\n",
       "      <th>body_type</th>\n",
       "    </tr>\n",
       "  </thead>\n",
       "  <tbody>\n",
       "    <tr>\n",
       "      <th>Внедорожник 5 дв.</th>\n",
       "      <td>26425</td>\n",
       "    </tr>\n",
       "    <tr>\n",
       "      <th>Седан</th>\n",
       "      <td>13960</td>\n",
       "    </tr>\n",
       "    <tr>\n",
       "      <th>седан</th>\n",
       "      <td>13147</td>\n",
       "    </tr>\n",
       "    <tr>\n",
       "      <th>внедорожник 5 дв.</th>\n",
       "      <td>12228</td>\n",
       "    </tr>\n",
       "    <tr>\n",
       "      <th>Лифтбек</th>\n",
       "      <td>3231</td>\n",
       "    </tr>\n",
       "    <tr>\n",
       "      <th>лифтбек</th>\n",
       "      <td>2232</td>\n",
       "    </tr>\n",
       "    <tr>\n",
       "      <th>хэтчбек 5 дв.</th>\n",
       "      <td>2124</td>\n",
       "    </tr>\n",
       "    <tr>\n",
       "      <th>Хэтчбек 5 дв.</th>\n",
       "      <td>1841</td>\n",
       "    </tr>\n",
       "    <tr>\n",
       "      <th>Седан Long</th>\n",
       "      <td>1443</td>\n",
       "    </tr>\n",
       "    <tr>\n",
       "      <th>универсал 5 дв.</th>\n",
       "      <td>1276</td>\n",
       "    </tr>\n",
       "  </tbody>\n",
       "</table>\n",
       "</div>"
      ],
      "text/plain": [
       "                   body_type\n",
       "Внедорожник 5 дв.      26425\n",
       "Седан                  13960\n",
       "седан                  13147\n",
       "внедорожник 5 дв.      12228\n",
       "Лифтбек                 3231\n",
       "лифтбек                 2232\n",
       "хэтчбек 5 дв.           2124\n",
       "Хэтчбек 5 дв.           1841\n",
       "Седан Long              1443\n",
       "универсал 5 дв.         1276"
      ]
     },
     "metadata": {},
     "output_type": "display_data"
    }
   ],
   "source": [
    "column_info(data, 'body_type')"
   ]
  },
  {
   "cell_type": "code",
   "execution_count": 32,
   "metadata": {
    "execution": {
     "iopub.execute_input": "2021-07-17T07:26:23.911310Z",
     "iopub.status.busy": "2021-07-17T07:26:23.910958Z",
     "iopub.status.idle": "2021-07-17T07:26:23.947852Z",
     "shell.execute_reply": "2021-07-17T07:26:23.946788Z",
     "shell.execute_reply.started": "2021-07-17T07:26:23.911281Z"
    }
   },
   "outputs": [
    {
     "data": {
      "text/html": [
       "<div>\n",
       "<style scoped>\n",
       "    .dataframe tbody tr th:only-of-type {\n",
       "        vertical-align: middle;\n",
       "    }\n",
       "\n",
       "    .dataframe tbody tr th {\n",
       "        vertical-align: top;\n",
       "    }\n",
       "\n",
       "    .dataframe thead th {\n",
       "        text-align: right;\n",
       "    }\n",
       "</style>\n",
       "<table border=\"1\" class=\"dataframe\">\n",
       "  <thead>\n",
       "    <tr style=\"text-align: right;\">\n",
       "      <th></th>\n",
       "      <th>body_type</th>\n",
       "      <th>brand</th>\n",
       "      <th>color</th>\n",
       "      <th>fuel_type</th>\n",
       "      <th>mileage</th>\n",
       "      <th>model_date</th>\n",
       "      <th>name</th>\n",
       "      <th>number_of_doors</th>\n",
       "      <th>engine_power</th>\n",
       "      <th>wheel</th>\n",
       "      <th>drive_type</th>\n",
       "      <th>pts</th>\n",
       "      <th>owners</th>\n",
       "      <th>vehicle_transmission</th>\n",
       "      <th>production_date</th>\n",
       "      <th>vendor</th>\n",
       "      <th>model_name</th>\n",
       "      <th>engine_displacement</th>\n",
       "      <th>ownership</th>\n",
       "      <th>complectation_dict</th>\n",
       "      <th>equipment_dict</th>\n",
       "      <th>parsing_unixtime</th>\n",
       "      <th>price</th>\n",
       "      <th>sample</th>\n",
       "    </tr>\n",
       "  </thead>\n",
       "  <tbody>\n",
       "    <tr>\n",
       "      <th>47660</th>\n",
       "      <td>NaN</td>\n",
       "      <td>HONDA</td>\n",
       "      <td>серебристый</td>\n",
       "      <td>универсал</td>\n",
       "      <td>400000</td>\n",
       "      <td>NaN</td>\n",
       "      <td>NaN</td>\n",
       "      <td>NaN</td>\n",
       "      <td>NaN</td>\n",
       "      <td>LEFT</td>\n",
       "      <td>NaN</td>\n",
       "      <td>ORIGINAL</td>\n",
       "      <td>3.0</td>\n",
       "      <td>NaN</td>\n",
       "      <td>1989</td>\n",
       "      <td>JAPANESE</td>\n",
       "      <td>CIVIC</td>\n",
       "      <td>0.0</td>\n",
       "      <td>NaN</td>\n",
       "      <td>{'id': '0', 'name': ''}</td>\n",
       "      <td>{}</td>\n",
       "      <td>1625882847</td>\n",
       "      <td>120000.0</td>\n",
       "      <td>1</td>\n",
       "    </tr>\n",
       "  </tbody>\n",
       "</table>\n",
       "</div>"
      ],
      "text/plain": [
       "      body_type  brand        color  fuel_type  mileage  model_date name  \\\n",
       "47660       NaN  HONDA  серебристый  универсал   400000         NaN  NaN   \n",
       "\n",
       "       number_of_doors engine_power wheel drive_type       pts  owners  \\\n",
       "47660              NaN          NaN  LEFT        NaN  ORIGINAL     3.0   \n",
       "\n",
       "      vehicle_transmission  production_date    vendor model_name  \\\n",
       "47660                  NaN             1989  JAPANESE      CIVIC   \n",
       "\n",
       "       engine_displacement ownership       complectation_dict equipment_dict  \\\n",
       "47660                  0.0       NaN  {'id': '0', 'name': ''}             {}   \n",
       "\n",
       "       parsing_unixtime     price  sample  \n",
       "47660        1625882847  120000.0       1  "
      ]
     },
     "execution_count": 32,
     "metadata": {},
     "output_type": "execute_result"
    }
   ],
   "source": [
    "# Посмотрим на объек с пустым полем в body_type\n",
    "data.query('body_type != body_type')"
   ]
  },
  {
   "cell_type": "code",
   "execution_count": 33,
   "metadata": {
    "execution": {
     "iopub.execute_input": "2021-07-17T07:26:23.950988Z",
     "iopub.status.busy": "2021-07-17T07:26:23.950697Z",
     "iopub.status.idle": "2021-07-17T07:26:23.984392Z",
     "shell.execute_reply": "2021-07-17T07:26:23.983160Z",
     "shell.execute_reply.started": "2021-07-17T07:26:23.950960Z"
    }
   },
   "outputs": [],
   "source": [
    "# Выносим в блок предобработки\n",
    "\n",
    "# Данный объект имеет очень много пропусков, в том числе и в полях model_date, name, number_of_doors, engine_power, drive_type, vehicle_transmission\n",
    "# Удалим его\n",
    "data.dropna(subset=['body_type'], inplace=True)"
   ]
  },
  {
   "cell_type": "code",
   "execution_count": 34,
   "metadata": {
    "execution": {
     "iopub.execute_input": "2021-07-17T07:26:23.986803Z",
     "iopub.status.busy": "2021-07-17T07:26:23.986320Z",
     "iopub.status.idle": "2021-07-17T07:26:26.013093Z",
     "shell.execute_reply": "2021-07-17T07:26:26.011151Z",
     "shell.execute_reply.started": "2021-07-17T07:26:23.986757Z"
    }
   },
   "outputs": [
    {
     "data": {
      "text/html": [
       "<div>\n",
       "<style scoped>\n",
       "    .dataframe tbody tr th:only-of-type {\n",
       "        vertical-align: middle;\n",
       "    }\n",
       "\n",
       "    .dataframe tbody tr th {\n",
       "        vertical-align: top;\n",
       "    }\n",
       "\n",
       "    .dataframe thead th {\n",
       "        text-align: right;\n",
       "    }\n",
       "</style>\n",
       "<table border=\"1\" class=\"dataframe\">\n",
       "  <thead>\n",
       "    <tr style=\"text-align: right;\">\n",
       "      <th></th>\n",
       "      <th>имя признака</th>\n",
       "      <th>тип</th>\n",
       "      <th># значений</th>\n",
       "      <th># пропусков(NaN)</th>\n",
       "      <th># уникальных</th>\n",
       "      <th>минимум</th>\n",
       "      <th>среднее</th>\n",
       "      <th>макс</th>\n",
       "      <th>медиана</th>\n",
       "    </tr>\n",
       "  </thead>\n",
       "  <tbody>\n",
       "    <tr>\n",
       "      <th>0</th>\n",
       "      <td>body_type</td>\n",
       "      <td>object</td>\n",
       "      <td>87319</td>\n",
       "      <td>0</td>\n",
       "      <td>118</td>\n",
       "      <td>NaN</td>\n",
       "      <td>NaN</td>\n",
       "      <td>NaN</td>\n",
       "      <td>NaN</td>\n",
       "    </tr>\n",
       "    <tr>\n",
       "      <th>1</th>\n",
       "      <td>brand</td>\n",
       "      <td>object</td>\n",
       "      <td>87319</td>\n",
       "      <td>0</td>\n",
       "      <td>12</td>\n",
       "      <td>NaN</td>\n",
       "      <td>NaN</td>\n",
       "      <td>NaN</td>\n",
       "      <td>NaN</td>\n",
       "    </tr>\n",
       "    <tr>\n",
       "      <th>2</th>\n",
       "      <td>color</td>\n",
       "      <td>object</td>\n",
       "      <td>87319</td>\n",
       "      <td>0</td>\n",
       "      <td>16</td>\n",
       "      <td>NaN</td>\n",
       "      <td>NaN</td>\n",
       "      <td>NaN</td>\n",
       "      <td>NaN</td>\n",
       "    </tr>\n",
       "    <tr>\n",
       "      <th>3</th>\n",
       "      <td>fuel_type</td>\n",
       "      <td>object</td>\n",
       "      <td>87319</td>\n",
       "      <td>0</td>\n",
       "      <td>5</td>\n",
       "      <td>NaN</td>\n",
       "      <td>NaN</td>\n",
       "      <td>NaN</td>\n",
       "      <td>NaN</td>\n",
       "    </tr>\n",
       "    <tr>\n",
       "      <th>4</th>\n",
       "      <td>mileage</td>\n",
       "      <td>int64</td>\n",
       "      <td>87319</td>\n",
       "      <td>0</td>\n",
       "      <td>21957</td>\n",
       "      <td>0</td>\n",
       "      <td>125098</td>\n",
       "      <td>1e+06</td>\n",
       "      <td>114050</td>\n",
       "    </tr>\n",
       "    <tr>\n",
       "      <th>5</th>\n",
       "      <td>model_date</td>\n",
       "      <td>float64</td>\n",
       "      <td>87319</td>\n",
       "      <td>0</td>\n",
       "      <td>67</td>\n",
       "      <td>1904</td>\n",
       "      <td>2010.02</td>\n",
       "      <td>2021</td>\n",
       "      <td>2011</td>\n",
       "    </tr>\n",
       "    <tr>\n",
       "      <th>6</th>\n",
       "      <td>name</td>\n",
       "      <td>object</td>\n",
       "      <td>87319</td>\n",
       "      <td>0</td>\n",
       "      <td>3342</td>\n",
       "      <td>NaN</td>\n",
       "      <td>NaN</td>\n",
       "      <td>NaN</td>\n",
       "      <td>NaN</td>\n",
       "    </tr>\n",
       "    <tr>\n",
       "      <th>7</th>\n",
       "      <td>number_of_doors</td>\n",
       "      <td>float64</td>\n",
       "      <td>87319</td>\n",
       "      <td>0</td>\n",
       "      <td>5</td>\n",
       "      <td>0</td>\n",
       "      <td>4.52793</td>\n",
       "      <td>5</td>\n",
       "      <td>5</td>\n",
       "    </tr>\n",
       "    <tr>\n",
       "      <th>8</th>\n",
       "      <td>engine_power</td>\n",
       "      <td>object</td>\n",
       "      <td>87319</td>\n",
       "      <td>0</td>\n",
       "      <td>628</td>\n",
       "      <td>NaN</td>\n",
       "      <td>NaN</td>\n",
       "      <td>NaN</td>\n",
       "      <td>NaN</td>\n",
       "    </tr>\n",
       "    <tr>\n",
       "      <th>9</th>\n",
       "      <td>wheel</td>\n",
       "      <td>object</td>\n",
       "      <td>87319</td>\n",
       "      <td>0</td>\n",
       "      <td>2</td>\n",
       "      <td>NaN</td>\n",
       "      <td>NaN</td>\n",
       "      <td>NaN</td>\n",
       "      <td>NaN</td>\n",
       "    </tr>\n",
       "    <tr>\n",
       "      <th>10</th>\n",
       "      <td>drive_type</td>\n",
       "      <td>object</td>\n",
       "      <td>87319</td>\n",
       "      <td>0</td>\n",
       "      <td>3</td>\n",
       "      <td>NaN</td>\n",
       "      <td>NaN</td>\n",
       "      <td>NaN</td>\n",
       "      <td>NaN</td>\n",
       "    </tr>\n",
       "    <tr>\n",
       "      <th>11</th>\n",
       "      <td>pts</td>\n",
       "      <td>object</td>\n",
       "      <td>87048</td>\n",
       "      <td>271</td>\n",
       "      <td>3</td>\n",
       "      <td>NaN</td>\n",
       "      <td>NaN</td>\n",
       "      <td>NaN</td>\n",
       "      <td>NaN</td>\n",
       "    </tr>\n",
       "    <tr>\n",
       "      <th>12</th>\n",
       "      <td>owners</td>\n",
       "      <td>float64</td>\n",
       "      <td>67968</td>\n",
       "      <td>19351</td>\n",
       "      <td>3</td>\n",
       "      <td>1</td>\n",
       "      <td>2.16987</td>\n",
       "      <td>3</td>\n",
       "      <td>2</td>\n",
       "    </tr>\n",
       "    <tr>\n",
       "      <th>13</th>\n",
       "      <td>vehicle_transmission</td>\n",
       "      <td>object</td>\n",
       "      <td>87319</td>\n",
       "      <td>0</td>\n",
       "      <td>4</td>\n",
       "      <td>NaN</td>\n",
       "      <td>NaN</td>\n",
       "      <td>NaN</td>\n",
       "      <td>NaN</td>\n",
       "    </tr>\n",
       "    <tr>\n",
       "      <th>14</th>\n",
       "      <td>production_date</td>\n",
       "      <td>int64</td>\n",
       "      <td>87319</td>\n",
       "      <td>0</td>\n",
       "      <td>71</td>\n",
       "      <td>1904</td>\n",
       "      <td>2012.27</td>\n",
       "      <td>2021</td>\n",
       "      <td>2013</td>\n",
       "    </tr>\n",
       "    <tr>\n",
       "      <th>15</th>\n",
       "      <td>vendor</td>\n",
       "      <td>object</td>\n",
       "      <td>87319</td>\n",
       "      <td>0</td>\n",
       "      <td>3</td>\n",
       "      <td>NaN</td>\n",
       "      <td>NaN</td>\n",
       "      <td>NaN</td>\n",
       "      <td>NaN</td>\n",
       "    </tr>\n",
       "    <tr>\n",
       "      <th>16</th>\n",
       "      <td>model_name</td>\n",
       "      <td>object</td>\n",
       "      <td>87319</td>\n",
       "      <td>0</td>\n",
       "      <td>544</td>\n",
       "      <td>NaN</td>\n",
       "      <td>NaN</td>\n",
       "      <td>NaN</td>\n",
       "      <td>NaN</td>\n",
       "    </tr>\n",
       "    <tr>\n",
       "      <th>17</th>\n",
       "      <td>engine_displacement</td>\n",
       "      <td>float64</td>\n",
       "      <td>87319</td>\n",
       "      <td>0</td>\n",
       "      <td>55</td>\n",
       "      <td>0</td>\n",
       "      <td>2.37421</td>\n",
       "      <td>6.6</td>\n",
       "      <td>2</td>\n",
       "    </tr>\n",
       "    <tr>\n",
       "      <th>18</th>\n",
       "      <td>ownership</td>\n",
       "      <td>object</td>\n",
       "      <td>22954</td>\n",
       "      <td>64365</td>\n",
       "      <td>553</td>\n",
       "      <td>NaN</td>\n",
       "      <td>NaN</td>\n",
       "      <td>NaN</td>\n",
       "      <td>NaN</td>\n",
       "    </tr>\n",
       "    <tr>\n",
       "      <th>19</th>\n",
       "      <td>complectation_dict</td>\n",
       "      <td>object</td>\n",
       "      <td>59051</td>\n",
       "      <td>28268</td>\n",
       "      <td>5331</td>\n",
       "      <td>NaN</td>\n",
       "      <td>NaN</td>\n",
       "      <td>NaN</td>\n",
       "      <td>NaN</td>\n",
       "    </tr>\n",
       "    <tr>\n",
       "      <th>20</th>\n",
       "      <td>equipment_dict</td>\n",
       "      <td>object</td>\n",
       "      <td>77323</td>\n",
       "      <td>9996</td>\n",
       "      <td>55991</td>\n",
       "      <td>NaN</td>\n",
       "      <td>NaN</td>\n",
       "      <td>NaN</td>\n",
       "      <td>NaN</td>\n",
       "    </tr>\n",
       "    <tr>\n",
       "      <th>21</th>\n",
       "      <td>parsing_unixtime</td>\n",
       "      <td>int64</td>\n",
       "      <td>87319</td>\n",
       "      <td>0</td>\n",
       "      <td>34687</td>\n",
       "      <td>1.60311e+09</td>\n",
       "      <td>1.61691e+09</td>\n",
       "      <td>1.62588e+09</td>\n",
       "      <td>1.62588e+09</td>\n",
       "    </tr>\n",
       "    <tr>\n",
       "      <th>22</th>\n",
       "      <td>price</td>\n",
       "      <td>float64</td>\n",
       "      <td>87109</td>\n",
       "      <td>210</td>\n",
       "      <td>9724</td>\n",
       "      <td>0</td>\n",
       "      <td>1.88715e+06</td>\n",
       "      <td>5.5e+07</td>\n",
       "      <td>575000</td>\n",
       "    </tr>\n",
       "    <tr>\n",
       "      <th>23</th>\n",
       "      <td>sample</td>\n",
       "      <td>int64</td>\n",
       "      <td>87319</td>\n",
       "      <td>0</td>\n",
       "      <td>2</td>\n",
       "      <td>0</td>\n",
       "      <td>0.602767</td>\n",
       "      <td>1</td>\n",
       "      <td>1</td>\n",
       "    </tr>\n",
       "  </tbody>\n",
       "</table>\n",
       "</div>"
      ],
      "text/plain": [
       "            имя признака      тип # значений # пропусков(NaN) # уникальных  \\\n",
       "0              body_type   object      87319                0          118   \n",
       "1                  brand   object      87319                0           12   \n",
       "2                  color   object      87319                0           16   \n",
       "3              fuel_type   object      87319                0            5   \n",
       "4                mileage    int64      87319                0        21957   \n",
       "5             model_date  float64      87319                0           67   \n",
       "6                   name   object      87319                0         3342   \n",
       "7        number_of_doors  float64      87319                0            5   \n",
       "8           engine_power   object      87319                0          628   \n",
       "9                  wheel   object      87319                0            2   \n",
       "10            drive_type   object      87319                0            3   \n",
       "11                   pts   object      87048              271            3   \n",
       "12                owners  float64      67968            19351            3   \n",
       "13  vehicle_transmission   object      87319                0            4   \n",
       "14       production_date    int64      87319                0           71   \n",
       "15                vendor   object      87319                0            3   \n",
       "16            model_name   object      87319                0          544   \n",
       "17   engine_displacement  float64      87319                0           55   \n",
       "18             ownership   object      22954            64365          553   \n",
       "19    complectation_dict   object      59051            28268         5331   \n",
       "20        equipment_dict   object      77323             9996        55991   \n",
       "21      parsing_unixtime    int64      87319                0        34687   \n",
       "22                 price  float64      87109              210         9724   \n",
       "23                sample    int64      87319                0            2   \n",
       "\n",
       "        минимум      среднее         макс      медиана  \n",
       "0           NaN          NaN          NaN          NaN  \n",
       "1           NaN          NaN          NaN          NaN  \n",
       "2           NaN          NaN          NaN          NaN  \n",
       "3           NaN          NaN          NaN          NaN  \n",
       "4             0       125098        1e+06       114050  \n",
       "5          1904      2010.02         2021         2011  \n",
       "6           NaN          NaN          NaN          NaN  \n",
       "7             0      4.52793            5            5  \n",
       "8           NaN          NaN          NaN          NaN  \n",
       "9           NaN          NaN          NaN          NaN  \n",
       "10          NaN          NaN          NaN          NaN  \n",
       "11          NaN          NaN          NaN          NaN  \n",
       "12            1      2.16987            3            2  \n",
       "13          NaN          NaN          NaN          NaN  \n",
       "14         1904      2012.27         2021         2013  \n",
       "15          NaN          NaN          NaN          NaN  \n",
       "16          NaN          NaN          NaN          NaN  \n",
       "17            0      2.37421          6.6            2  \n",
       "18          NaN          NaN          NaN          NaN  \n",
       "19          NaN          NaN          NaN          NaN  \n",
       "20          NaN          NaN          NaN          NaN  \n",
       "21  1.60311e+09  1.61691e+09  1.62588e+09  1.62588e+09  \n",
       "22            0  1.88715e+06      5.5e+07       575000  \n",
       "23            0     0.602767            1            1  "
      ]
     },
     "metadata": {},
     "output_type": "display_data"
    }
   ],
   "source": [
    "# Еще раз посмотрим общую информацию по датасету\n",
    "data_full_info(data, short=True)"
   ]
  },
  {
   "cell_type": "code",
   "execution_count": 35,
   "metadata": {
    "execution": {
     "iopub.execute_input": "2021-07-17T07:26:26.016153Z",
     "iopub.status.busy": "2021-07-17T07:26:26.015656Z",
     "iopub.status.idle": "2021-07-17T07:26:26.074693Z",
     "shell.execute_reply": "2021-07-17T07:26:26.073253Z",
     "shell.execute_reply.started": "2021-07-17T07:26:26.016106Z"
    }
   },
   "outputs": [],
   "source": [
    "# Выносим в блок предобработки\n",
    "\n",
    "# Приведем значения признака body_type к нижнему регистру\n",
    "data.loc[:, 'body_type'] = data['body_type'].apply(lambda x: str(x).lower())\n",
    "\n",
    "# отнесем признак к категориальным\n",
    "cat_cols.append('body_type')"
   ]
  },
  {
   "cell_type": "code",
   "execution_count": 36,
   "metadata": {
    "execution": {
     "iopub.execute_input": "2021-07-17T07:26:26.076349Z",
     "iopub.status.busy": "2021-07-17T07:26:26.076072Z",
     "iopub.status.idle": "2021-07-17T07:26:26.137160Z",
     "shell.execute_reply": "2021-07-17T07:26:26.135627Z",
     "shell.execute_reply.started": "2021-07-17T07:26:26.076324Z"
    }
   },
   "outputs": [
    {
     "name": "stdout",
     "output_type": "stream",
     "text": [
      "Проведем анализ для переменной body_type\n",
      "Тип данных:  object\n",
      "Всего значений: 87319\n",
      "Пустых значений: 0\n",
      "Значений, упомянутых более 10 раз: 39\n",
      "Уникальных значений: 94\n"
     ]
    },
    {
     "data": {
      "text/html": [
       "<div>\n",
       "<style scoped>\n",
       "    .dataframe tbody tr th:only-of-type {\n",
       "        vertical-align: middle;\n",
       "    }\n",
       "\n",
       "    .dataframe tbody tr th {\n",
       "        vertical-align: top;\n",
       "    }\n",
       "\n",
       "    .dataframe thead th {\n",
       "        text-align: right;\n",
       "    }\n",
       "</style>\n",
       "<table border=\"1\" class=\"dataframe\">\n",
       "  <thead>\n",
       "    <tr style=\"text-align: right;\">\n",
       "      <th></th>\n",
       "      <th>body_type</th>\n",
       "    </tr>\n",
       "  </thead>\n",
       "  <tbody>\n",
       "    <tr>\n",
       "      <th>внедорожник 5 дв.</th>\n",
       "      <td>38653</td>\n",
       "    </tr>\n",
       "    <tr>\n",
       "      <th>седан</th>\n",
       "      <td>27107</td>\n",
       "    </tr>\n",
       "    <tr>\n",
       "      <th>лифтбек</th>\n",
       "      <td>5463</td>\n",
       "    </tr>\n",
       "    <tr>\n",
       "      <th>хэтчбек 5 дв.</th>\n",
       "      <td>3965</td>\n",
       "    </tr>\n",
       "    <tr>\n",
       "      <th>универсал 5 дв.</th>\n",
       "      <td>2380</td>\n",
       "    </tr>\n",
       "    <tr>\n",
       "      <th>купе</th>\n",
       "      <td>1893</td>\n",
       "    </tr>\n",
       "    <tr>\n",
       "      <th>минивэн</th>\n",
       "      <td>1700</td>\n",
       "    </tr>\n",
       "    <tr>\n",
       "      <th>седан long</th>\n",
       "      <td>1443</td>\n",
       "    </tr>\n",
       "    <tr>\n",
       "      <th>хэтчбек 3 дв.</th>\n",
       "      <td>894</td>\n",
       "    </tr>\n",
       "    <tr>\n",
       "      <th>компактвэн</th>\n",
       "      <td>832</td>\n",
       "    </tr>\n",
       "  </tbody>\n",
       "</table>\n",
       "</div>"
      ],
      "text/plain": [
       "                   body_type\n",
       "внедорожник 5 дв.      38653\n",
       "седан                  27107\n",
       "лифтбек                 5463\n",
       "хэтчбек 5 дв.           3965\n",
       "универсал 5 дв.         2380\n",
       "купе                    1893\n",
       "минивэн                 1700\n",
       "седан long              1443\n",
       "хэтчбек 3 дв.            894\n",
       "компактвэн               832"
      ]
     },
     "metadata": {},
     "output_type": "display_data"
    }
   ],
   "source": [
    "column_info(data, 'body_type')"
   ]
  },
  {
   "cell_type": "markdown",
   "metadata": {},
   "source": [
    "Пока оставим данный признак так. \n",
    "\n",
    "**Идея на будущее:** можно оставить только внедорожник, седан, лифтбек и т.д. без доп.информации"
   ]
  },
  {
   "cell_type": "markdown",
   "metadata": {},
   "source": [
    "Признак **'brand'**"
   ]
  },
  {
   "cell_type": "code",
   "execution_count": 37,
   "metadata": {
    "execution": {
     "iopub.execute_input": "2021-07-17T07:26:26.140691Z",
     "iopub.status.busy": "2021-07-17T07:26:26.140362Z",
     "iopub.status.idle": "2021-07-17T07:26:26.184327Z",
     "shell.execute_reply": "2021-07-17T07:26:26.183200Z",
     "shell.execute_reply.started": "2021-07-17T07:26:26.140661Z"
    }
   },
   "outputs": [
    {
     "name": "stdout",
     "output_type": "stream",
     "text": [
      "Проведем анализ для переменной brand\n",
      "Тип данных:  object\n",
      "Всего значений: 87319\n",
      "Пустых значений: 0\n",
      "Значений, упомянутых более 10 раз: 12\n",
      "Уникальных значений: 12\n"
     ]
    },
    {
     "data": {
      "text/html": [
       "<div>\n",
       "<style scoped>\n",
       "    .dataframe tbody tr th:only-of-type {\n",
       "        vertical-align: middle;\n",
       "    }\n",
       "\n",
       "    .dataframe tbody tr th {\n",
       "        vertical-align: top;\n",
       "    }\n",
       "\n",
       "    .dataframe thead th {\n",
       "        text-align: right;\n",
       "    }\n",
       "</style>\n",
       "<table border=\"1\" class=\"dataframe\">\n",
       "  <thead>\n",
       "    <tr style=\"text-align: right;\">\n",
       "      <th></th>\n",
       "      <th>brand</th>\n",
       "    </tr>\n",
       "  </thead>\n",
       "  <tbody>\n",
       "    <tr>\n",
       "      <th>MERCEDES</th>\n",
       "      <td>16955</td>\n",
       "    </tr>\n",
       "    <tr>\n",
       "      <th>BMW</th>\n",
       "      <td>12680</td>\n",
       "    </tr>\n",
       "    <tr>\n",
       "      <th>VOLKSWAGEN</th>\n",
       "      <td>10304</td>\n",
       "    </tr>\n",
       "    <tr>\n",
       "      <th>NISSAN</th>\n",
       "      <td>9361</td>\n",
       "    </tr>\n",
       "    <tr>\n",
       "      <th>TOYOTA</th>\n",
       "      <td>7886</td>\n",
       "    </tr>\n",
       "    <tr>\n",
       "      <th>AUDI</th>\n",
       "      <td>7644</td>\n",
       "    </tr>\n",
       "    <tr>\n",
       "      <th>MITSUBISHI</th>\n",
       "      <td>6482</td>\n",
       "    </tr>\n",
       "    <tr>\n",
       "      <th>SKODA</th>\n",
       "      <td>6350</td>\n",
       "    </tr>\n",
       "    <tr>\n",
       "      <th>VOLVO</th>\n",
       "      <td>3418</td>\n",
       "    </tr>\n",
       "    <tr>\n",
       "      <th>LEXUS</th>\n",
       "      <td>2523</td>\n",
       "    </tr>\n",
       "  </tbody>\n",
       "</table>\n",
       "</div>"
      ],
      "text/plain": [
       "            brand\n",
       "MERCEDES    16955\n",
       "BMW         12680\n",
       "VOLKSWAGEN  10304\n",
       "NISSAN       9361\n",
       "TOYOTA       7886\n",
       "AUDI         7644\n",
       "MITSUBISHI   6482\n",
       "SKODA        6350\n",
       "VOLVO        3418\n",
       "LEXUS        2523"
      ]
     },
     "metadata": {},
     "output_type": "display_data"
    }
   ],
   "source": [
    "column_info(data, 'brand')"
   ]
  },
  {
   "cell_type": "code",
   "execution_count": 38,
   "metadata": {
    "execution": {
     "iopub.execute_input": "2021-07-17T07:26:26.186435Z",
     "iopub.status.busy": "2021-07-17T07:26:26.185984Z",
     "iopub.status.idle": "2021-07-17T07:26:26.191524Z",
     "shell.execute_reply": "2021-07-17T07:26:26.190107Z",
     "shell.execute_reply.started": "2021-07-17T07:26:26.186392Z"
    }
   },
   "outputs": [],
   "source": [
    "# отнесем признак к категориальным\n",
    "cat_cols.append('brand')"
   ]
  },
  {
   "cell_type": "markdown",
   "metadata": {},
   "source": [
    "Все хорошо. Оставляем признак как есть."
   ]
  },
  {
   "cell_type": "markdown",
   "metadata": {},
   "source": [
    "Признак **'color'**"
   ]
  },
  {
   "cell_type": "code",
   "execution_count": 39,
   "metadata": {
    "execution": {
     "iopub.execute_input": "2021-07-17T07:26:26.193575Z",
     "iopub.status.busy": "2021-07-17T07:26:26.193264Z",
     "iopub.status.idle": "2021-07-17T07:26:26.243313Z",
     "shell.execute_reply": "2021-07-17T07:26:26.242221Z",
     "shell.execute_reply.started": "2021-07-17T07:26:26.193548Z"
    }
   },
   "outputs": [
    {
     "name": "stdout",
     "output_type": "stream",
     "text": [
      "Проведем анализ для переменной color\n",
      "Тип данных:  object\n",
      "Всего значений: 87319\n",
      "Пустых значений: 0\n",
      "Значений, упомянутых более 10 раз: 16\n",
      "Уникальных значений: 16\n"
     ]
    },
    {
     "data": {
      "text/html": [
       "<div>\n",
       "<style scoped>\n",
       "    .dataframe tbody tr th:only-of-type {\n",
       "        vertical-align: middle;\n",
       "    }\n",
       "\n",
       "    .dataframe tbody tr th {\n",
       "        vertical-align: top;\n",
       "    }\n",
       "\n",
       "    .dataframe thead th {\n",
       "        text-align: right;\n",
       "    }\n",
       "</style>\n",
       "<table border=\"1\" class=\"dataframe\">\n",
       "  <thead>\n",
       "    <tr style=\"text-align: right;\">\n",
       "      <th></th>\n",
       "      <th>color</th>\n",
       "    </tr>\n",
       "  </thead>\n",
       "  <tbody>\n",
       "    <tr>\n",
       "      <th>чёрный</th>\n",
       "      <td>28484</td>\n",
       "    </tr>\n",
       "    <tr>\n",
       "      <th>белый</th>\n",
       "      <td>16874</td>\n",
       "    </tr>\n",
       "    <tr>\n",
       "      <th>серый</th>\n",
       "      <td>11110</td>\n",
       "    </tr>\n",
       "    <tr>\n",
       "      <th>синий</th>\n",
       "      <td>8638</td>\n",
       "    </tr>\n",
       "    <tr>\n",
       "      <th>серебристый</th>\n",
       "      <td>8305</td>\n",
       "    </tr>\n",
       "    <tr>\n",
       "      <th>красный</th>\n",
       "      <td>5566</td>\n",
       "    </tr>\n",
       "    <tr>\n",
       "      <th>зелёный</th>\n",
       "      <td>2217</td>\n",
       "    </tr>\n",
       "    <tr>\n",
       "      <th>коричневый</th>\n",
       "      <td>1501</td>\n",
       "    </tr>\n",
       "    <tr>\n",
       "      <th>оранжевый</th>\n",
       "      <td>1417</td>\n",
       "    </tr>\n",
       "    <tr>\n",
       "      <th>голубой</th>\n",
       "      <td>943</td>\n",
       "    </tr>\n",
       "  </tbody>\n",
       "</table>\n",
       "</div>"
      ],
      "text/plain": [
       "             color\n",
       "чёрный       28484\n",
       "белый        16874\n",
       "серый        11110\n",
       "синий         8638\n",
       "серебристый   8305\n",
       "красный       5566\n",
       "зелёный       2217\n",
       "коричневый    1501\n",
       "оранжевый     1417\n",
       "голубой        943"
      ]
     },
     "metadata": {},
     "output_type": "display_data"
    }
   ],
   "source": [
    "column_info(data, 'color')"
   ]
  },
  {
   "cell_type": "code",
   "execution_count": 40,
   "metadata": {
    "execution": {
     "iopub.execute_input": "2021-07-17T07:26:26.244884Z",
     "iopub.status.busy": "2021-07-17T07:26:26.244566Z",
     "iopub.status.idle": "2021-07-17T07:26:26.249734Z",
     "shell.execute_reply": "2021-07-17T07:26:26.248363Z",
     "shell.execute_reply.started": "2021-07-17T07:26:26.244855Z"
    }
   },
   "outputs": [],
   "source": [
    "# отнесем признак к категориальным\n",
    "cat_cols.append('color')"
   ]
  },
  {
   "cell_type": "markdown",
   "metadata": {},
   "source": [
    "Все хорошо. Оставляем признак как есть."
   ]
  },
  {
   "cell_type": "markdown",
   "metadata": {
    "execution": {
     "iopub.execute_input": "2021-07-13T18:19:25.944493Z",
     "iopub.status.busy": "2021-07-13T18:19:25.944015Z",
     "iopub.status.idle": "2021-07-13T18:19:25.993899Z",
     "shell.execute_reply": "2021-07-13T18:19:25.992732Z",
     "shell.execute_reply.started": "2021-07-13T18:19:25.944453Z"
    }
   },
   "source": [
    "Признак **'pts'**"
   ]
  },
  {
   "cell_type": "code",
   "execution_count": 41,
   "metadata": {
    "execution": {
     "iopub.execute_input": "2021-07-17T07:26:26.251689Z",
     "iopub.status.busy": "2021-07-17T07:26:26.251355Z",
     "iopub.status.idle": "2021-07-17T07:26:26.300092Z",
     "shell.execute_reply": "2021-07-17T07:26:26.299068Z",
     "shell.execute_reply.started": "2021-07-17T07:26:26.251660Z"
    }
   },
   "outputs": [
    {
     "name": "stdout",
     "output_type": "stream",
     "text": [
      "Проведем анализ для переменной pts\n",
      "Тип данных:  object\n",
      "Всего значений: 87319\n",
      "Пустых значений: 271\n",
      "Значений, упомянутых более 10 раз: 2\n",
      "Уникальных значений: 3\n"
     ]
    },
    {
     "data": {
      "text/html": [
       "<div>\n",
       "<style scoped>\n",
       "    .dataframe tbody tr th:only-of-type {\n",
       "        vertical-align: middle;\n",
       "    }\n",
       "\n",
       "    .dataframe tbody tr th {\n",
       "        vertical-align: top;\n",
       "    }\n",
       "\n",
       "    .dataframe thead th {\n",
       "        text-align: right;\n",
       "    }\n",
       "</style>\n",
       "<table border=\"1\" class=\"dataframe\">\n",
       "  <thead>\n",
       "    <tr style=\"text-align: right;\">\n",
       "      <th></th>\n",
       "      <th>pts</th>\n",
       "    </tr>\n",
       "  </thead>\n",
       "  <tbody>\n",
       "    <tr>\n",
       "      <th>ORIGINAL</th>\n",
       "      <td>77565</td>\n",
       "    </tr>\n",
       "    <tr>\n",
       "      <th>DUPLICATE</th>\n",
       "      <td>9483</td>\n",
       "    </tr>\n",
       "  </tbody>\n",
       "</table>\n",
       "</div>"
      ],
      "text/plain": [
       "             pts\n",
       "ORIGINAL   77565\n",
       "DUPLICATE   9483"
      ]
     },
     "metadata": {},
     "output_type": "display_data"
    }
   ],
   "source": [
    "column_info(data, 'pts')"
   ]
  },
  {
   "cell_type": "code",
   "execution_count": 42,
   "metadata": {
    "execution": {
     "iopub.execute_input": "2021-07-17T07:26:26.301490Z",
     "iopub.status.busy": "2021-07-17T07:26:26.301223Z",
     "iopub.status.idle": "2021-07-17T07:26:26.344183Z",
     "shell.execute_reply": "2021-07-17T07:26:26.343152Z",
     "shell.execute_reply.started": "2021-07-17T07:26:26.301466Z"
    }
   },
   "outputs": [
    {
     "name": "stdout",
     "output_type": "stream",
     "text": [
      "В новый признак 'pts_isnan' охраняем информацию, в каком наблюдении указано NaN\n",
      "Заполним пустые значения признака pts самым распространенным значением  ORIGINAL\n"
     ]
    }
   ],
   "source": [
    "# Выносим в блок предобработки\n",
    "\n",
    "# Есть пустые значения. Заполняем пустые значения самым распространенным значением\n",
    "data = replace_nan(data, 'pts', 'mode')"
   ]
  },
  {
   "cell_type": "code",
   "execution_count": 43,
   "metadata": {
    "execution": {
     "iopub.execute_input": "2021-07-17T07:26:26.346182Z",
     "iopub.status.busy": "2021-07-17T07:26:26.345889Z",
     "iopub.status.idle": "2021-07-17T07:26:26.351062Z",
     "shell.execute_reply": "2021-07-17T07:26:26.349883Z",
     "shell.execute_reply.started": "2021-07-17T07:26:26.346152Z"
    }
   },
   "outputs": [],
   "source": [
    "# отнесем признак к бинарным\n",
    "bin_cols.append('pts_isnan')"
   ]
  },
  {
   "cell_type": "code",
   "execution_count": 44,
   "metadata": {
    "execution": {
     "iopub.execute_input": "2021-07-17T07:26:26.353164Z",
     "iopub.status.busy": "2021-07-17T07:26:26.352678Z",
     "iopub.status.idle": "2021-07-17T07:26:26.404692Z",
     "shell.execute_reply": "2021-07-17T07:26:26.402877Z",
     "shell.execute_reply.started": "2021-07-17T07:26:26.353045Z"
    }
   },
   "outputs": [
    {
     "name": "stdout",
     "output_type": "stream",
     "text": [
      "Проведем анализ для переменной pts\n",
      "Тип данных:  object\n",
      "Всего значений: 87319\n",
      "Пустых значений: 0\n",
      "Значений, упомянутых более 10 раз: 2\n",
      "Уникальных значений: 2\n"
     ]
    },
    {
     "data": {
      "text/html": [
       "<div>\n",
       "<style scoped>\n",
       "    .dataframe tbody tr th:only-of-type {\n",
       "        vertical-align: middle;\n",
       "    }\n",
       "\n",
       "    .dataframe tbody tr th {\n",
       "        vertical-align: top;\n",
       "    }\n",
       "\n",
       "    .dataframe thead th {\n",
       "        text-align: right;\n",
       "    }\n",
       "</style>\n",
       "<table border=\"1\" class=\"dataframe\">\n",
       "  <thead>\n",
       "    <tr style=\"text-align: right;\">\n",
       "      <th></th>\n",
       "      <th>pts</th>\n",
       "    </tr>\n",
       "  </thead>\n",
       "  <tbody>\n",
       "    <tr>\n",
       "      <th>ORIGINAL</th>\n",
       "      <td>77836</td>\n",
       "    </tr>\n",
       "    <tr>\n",
       "      <th>DUPLICATE</th>\n",
       "      <td>9483</td>\n",
       "    </tr>\n",
       "  </tbody>\n",
       "</table>\n",
       "</div>"
      ],
      "text/plain": [
       "             pts\n",
       "ORIGINAL   77836\n",
       "DUPLICATE   9483"
      ]
     },
     "metadata": {},
     "output_type": "display_data"
    }
   ],
   "source": [
    "column_info(data, 'pts')"
   ]
  },
  {
   "cell_type": "code",
   "execution_count": 45,
   "metadata": {
    "execution": {
     "iopub.execute_input": "2021-07-17T07:26:26.406405Z",
     "iopub.status.busy": "2021-07-17T07:26:26.406107Z",
     "iopub.status.idle": "2021-07-17T07:26:26.434780Z",
     "shell.execute_reply": "2021-07-17T07:26:26.433058Z",
     "shell.execute_reply.started": "2021-07-17T07:26:26.406375Z"
    }
   },
   "outputs": [],
   "source": [
    "# Преобразуем education в целочисленный формат. \n",
    "pts_dict = {'ORIGINAL': 1, 'DUPLICATE': 0}\n",
    "data.loc[:, 'pts'] = data['pts'].map(pts_dict)"
   ]
  },
  {
   "cell_type": "code",
   "execution_count": 46,
   "metadata": {
    "execution": {
     "iopub.execute_input": "2021-07-17T07:26:26.436436Z",
     "iopub.status.busy": "2021-07-17T07:26:26.436149Z",
     "iopub.status.idle": "2021-07-17T07:26:26.440504Z",
     "shell.execute_reply": "2021-07-17T07:26:26.439569Z",
     "shell.execute_reply.started": "2021-07-17T07:26:26.436407Z"
    }
   },
   "outputs": [],
   "source": [
    "# отнесем признак к бинарным\n",
    "bin_cols.append('pts')"
   ]
  },
  {
   "cell_type": "markdown",
   "metadata": {},
   "source": [
    "Все хорошо. Оставляем признак как есть."
   ]
  },
  {
   "cell_type": "markdown",
   "metadata": {},
   "source": [
    "Признак **'fuel_type'**"
   ]
  },
  {
   "cell_type": "code",
   "execution_count": 47,
   "metadata": {
    "execution": {
     "iopub.execute_input": "2021-07-17T07:26:26.442003Z",
     "iopub.status.busy": "2021-07-17T07:26:26.441736Z",
     "iopub.status.idle": "2021-07-17T07:26:26.495793Z",
     "shell.execute_reply": "2021-07-17T07:26:26.494701Z",
     "shell.execute_reply.started": "2021-07-17T07:26:26.441978Z"
    }
   },
   "outputs": [
    {
     "name": "stdout",
     "output_type": "stream",
     "text": [
      "Проведем анализ для переменной fuel_type\n",
      "Тип данных:  object\n",
      "Всего значений: 87319\n",
      "Пустых значений: 0\n",
      "Значений, упомянутых более 10 раз: 5\n",
      "Уникальных значений: 5\n"
     ]
    },
    {
     "data": {
      "text/html": [
       "<div>\n",
       "<style scoped>\n",
       "    .dataframe tbody tr th:only-of-type {\n",
       "        vertical-align: middle;\n",
       "    }\n",
       "\n",
       "    .dataframe tbody tr th {\n",
       "        vertical-align: top;\n",
       "    }\n",
       "\n",
       "    .dataframe thead th {\n",
       "        text-align: right;\n",
       "    }\n",
       "</style>\n",
       "<table border=\"1\" class=\"dataframe\">\n",
       "  <thead>\n",
       "    <tr style=\"text-align: right;\">\n",
       "      <th></th>\n",
       "      <th>fuel_type</th>\n",
       "    </tr>\n",
       "  </thead>\n",
       "  <tbody>\n",
       "    <tr>\n",
       "      <th>бензин</th>\n",
       "      <td>67741</td>\n",
       "    </tr>\n",
       "    <tr>\n",
       "      <th>дизель</th>\n",
       "      <td>18885</td>\n",
       "    </tr>\n",
       "    <tr>\n",
       "      <th>гибрид</th>\n",
       "      <td>500</td>\n",
       "    </tr>\n",
       "    <tr>\n",
       "      <th>электро</th>\n",
       "      <td>181</td>\n",
       "    </tr>\n",
       "    <tr>\n",
       "      <th>газ</th>\n",
       "      <td>12</td>\n",
       "    </tr>\n",
       "  </tbody>\n",
       "</table>\n",
       "</div>"
      ],
      "text/plain": [
       "         fuel_type\n",
       "бензин       67741\n",
       "дизель       18885\n",
       "гибрид         500\n",
       "электро        181\n",
       "газ             12"
      ]
     },
     "metadata": {},
     "output_type": "display_data"
    }
   ],
   "source": [
    "column_info(data, 'fuel_type')"
   ]
  },
  {
   "cell_type": "code",
   "execution_count": 48,
   "metadata": {
    "execution": {
     "iopub.execute_input": "2021-07-17T07:26:26.497959Z",
     "iopub.status.busy": "2021-07-17T07:26:26.497653Z",
     "iopub.status.idle": "2021-07-17T07:26:26.503493Z",
     "shell.execute_reply": "2021-07-17T07:26:26.502437Z",
     "shell.execute_reply.started": "2021-07-17T07:26:26.497932Z"
    }
   },
   "outputs": [],
   "source": [
    "# отнесем признак к категориальным\n",
    "cat_cols.append('fuel_type')"
   ]
  },
  {
   "cell_type": "markdown",
   "metadata": {},
   "source": [
    "Все хорошо. Оставляем признак как есть."
   ]
  },
  {
   "cell_type": "markdown",
   "metadata": {},
   "source": [
    "Признак **'mileage'**"
   ]
  },
  {
   "cell_type": "code",
   "execution_count": 49,
   "metadata": {
    "execution": {
     "iopub.execute_input": "2021-07-17T07:26:26.504720Z",
     "iopub.status.busy": "2021-07-17T07:26:26.504413Z",
     "iopub.status.idle": "2021-07-17T07:26:27.154648Z",
     "shell.execute_reply": "2021-07-17T07:26:27.153777Z",
     "shell.execute_reply.started": "2021-07-17T07:26:26.504681Z"
    }
   },
   "outputs": [
    {
     "name": "stdout",
     "output_type": "stream",
     "text": [
      "Всего значений: 87319\n",
      "Пустых значений: 0\n",
      "25-й перцентиль: 16285.0, 75-й перцентиль: 191500.0, IQR: 175215.0,\n",
      "Границы значений: [0, 1000000],\n",
      "Границы выбросов: [-246537.5, 454322.5].\n",
      "Есть выбросы.\n",
      "Количество выбросов: 721\n"
     ]
    },
    {
     "data": {
      "image/png": "[encoded data removed]",
      "text/plain": [
       "<Figure size 864x288 with 4 Axes>"
      ]
     },
     "metadata": {
      "needs_background": "light"
     },
     "output_type": "display_data"
    }
   ],
   "source": [
    "plot_column_info_log(data, 'mileage')"
   ]
  },
  {
   "cell_type": "code",
   "execution_count": 50,
   "metadata": {
    "execution": {
     "iopub.execute_input": "2021-07-17T07:26:27.156586Z",
     "iopub.status.busy": "2021-07-17T07:26:27.156214Z",
     "iopub.status.idle": "2021-07-17T07:26:27.214763Z",
     "shell.execute_reply": "2021-07-17T07:26:27.213870Z",
     "shell.execute_reply.started": "2021-07-17T07:26:27.156493Z"
    }
   },
   "outputs": [],
   "source": [
    "# Выносим в блок предобработки\n",
    "\n",
    "# Возьмем логарифм от признака\n",
    "data.loc[:, 'mileage'] = np.log(data['mileage'] + 1)\n",
    "\n",
    "# Добавим новый признак 'is_new' Новая машина или б/у\n",
    "data.loc[:, 'is_new'] = data['mileage'].apply(lambda x: 0 if x > 0 else 1)"
   ]
  },
  {
   "cell_type": "markdown",
   "metadata": {},
   "source": [
    "С выбросами пока ничего не делаем"
   ]
  },
  {
   "cell_type": "code",
   "execution_count": 51,
   "metadata": {
    "execution": {
     "iopub.execute_input": "2021-07-17T07:26:27.216392Z",
     "iopub.status.busy": "2021-07-17T07:26:27.216094Z",
     "iopub.status.idle": "2021-07-17T07:26:27.221644Z",
     "shell.execute_reply": "2021-07-17T07:26:27.219820Z",
     "shell.execute_reply.started": "2021-07-17T07:26:27.216361Z"
    }
   },
   "outputs": [],
   "source": [
    "# отнесем признак к количественным\n",
    "num_cols.append('mileage')\n",
    "\n",
    "# отнесем признак к бинарным\n",
    "bin_cols.append('is_new')"
   ]
  },
  {
   "cell_type": "markdown",
   "metadata": {},
   "source": [
    "Признак **'model_date'**"
   ]
  },
  {
   "cell_type": "code",
   "execution_count": 52,
   "metadata": {
    "execution": {
     "iopub.execute_input": "2021-07-17T07:26:27.223678Z",
     "iopub.status.busy": "2021-07-17T07:26:27.223314Z",
     "iopub.status.idle": "2021-07-17T07:26:27.506801Z",
     "shell.execute_reply": "2021-07-17T07:26:27.505879Z",
     "shell.execute_reply.started": "2021-07-17T07:26:27.223645Z"
    }
   },
   "outputs": [
    {
     "name": "stdout",
     "output_type": "stream",
     "text": [
      "Всего значений: 87319\n",
      "Пустых значений: 0\n",
      "25-й перцентиль: 2006.0, 75-й перцентиль: 2017.0, IQR: 11.0,\n",
      "Границы значений: [1904.0, 2021.0],\n",
      "Границы выбросов: [1989.5, 2033.5].\n",
      "Есть выбросы.\n"
     ]
    },
    {
     "data": {
      "image/png": "[encoded data removed]",
      "text/plain": [
       "<Figure size 720x504 with 1 Axes>"
      ]
     },
     "metadata": {
      "needs_background": "light"
     },
     "output_type": "display_data"
    }
   ],
   "source": [
    "plot_column_info(data, 'model_date')"
   ]
  },
  {
   "cell_type": "markdown",
   "metadata": {
    "execution": {
     "iopub.execute_input": "2021-07-13T19:57:50.885347Z",
     "iopub.status.busy": "2021-07-13T19:57:50.884715Z",
     "iopub.status.idle": "2021-07-13T19:57:51.426345Z",
     "shell.execute_reply": "2021-07-13T19:57:51.425227Z",
     "shell.execute_reply.started": "2021-07-13T19:57:50.885293Z"
    }
   },
   "source": [
    "С выбросами пока ничего не делаем. Автомобили с таким ранним годом выпуска возможны."
   ]
  },
  {
   "cell_type": "code",
   "execution_count": 53,
   "metadata": {
    "execution": {
     "iopub.execute_input": "2021-07-17T07:26:27.508405Z",
     "iopub.status.busy": "2021-07-17T07:26:27.508094Z",
     "iopub.status.idle": "2021-07-17T07:26:27.512775Z",
     "shell.execute_reply": "2021-07-17T07:26:27.511893Z",
     "shell.execute_reply.started": "2021-07-17T07:26:27.508375Z"
    }
   },
   "outputs": [],
   "source": [
    "# отнесем признак к количественным, можно было бы и к временным, но пока не вижу смысла\n",
    "num_cols.append('model_date')"
   ]
  },
  {
   "cell_type": "markdown",
   "metadata": {},
   "source": [
    "Все хорошо. Оставляем признак как есть."
   ]
  },
  {
   "cell_type": "markdown",
   "metadata": {},
   "source": [
    "Признак **'name'**\n",
    "\n",
    "Данный признаак составной. Основная информация содержится в признаках 'engine_displacement', 'vehicle_transmission', 'engine_power', 'drive_type'.\n",
    "В некоторых случаях еще дополнительно указывают модель двигателся и модель коробки передач"
   ]
  },
  {
   "cell_type": "code",
   "execution_count": 54,
   "metadata": {
    "execution": {
     "iopub.execute_input": "2021-07-17T07:26:27.514467Z",
     "iopub.status.busy": "2021-07-17T07:26:27.514166Z",
     "iopub.status.idle": "2021-07-17T07:26:27.547733Z",
     "shell.execute_reply": "2021-07-17T07:26:27.546586Z",
     "shell.execute_reply.started": "2021-07-17T07:26:27.514437Z"
    }
   },
   "outputs": [
    {
     "data": {
      "text/html": [
       "<div>\n",
       "<style scoped>\n",
       "    .dataframe tbody tr th:only-of-type {\n",
       "        vertical-align: middle;\n",
       "    }\n",
       "\n",
       "    .dataframe tbody tr th {\n",
       "        vertical-align: top;\n",
       "    }\n",
       "\n",
       "    .dataframe thead th {\n",
       "        text-align: right;\n",
       "    }\n",
       "</style>\n",
       "<table border=\"1\" class=\"dataframe\">\n",
       "  <thead>\n",
       "    <tr style=\"text-align: right;\">\n",
       "      <th></th>\n",
       "      <th>name</th>\n",
       "      <th>engine_displacement</th>\n",
       "      <th>vehicle_transmission</th>\n",
       "      <th>engine_power</th>\n",
       "      <th>drive_type</th>\n",
       "    </tr>\n",
       "  </thead>\n",
       "  <tbody>\n",
       "    <tr>\n",
       "      <th>2608</th>\n",
       "      <td>2.0 AMT (170 л.с.) 4WD</td>\n",
       "      <td>2.0</td>\n",
       "      <td>ROBOT</td>\n",
       "      <td>170</td>\n",
       "      <td>полный</td>\n",
       "    </tr>\n",
       "    <tr>\n",
       "      <th>25669</th>\n",
       "      <td>1.4 AMT (122 л.с.)</td>\n",
       "      <td>1.4</td>\n",
       "      <td>ROBOT</td>\n",
       "      <td>122</td>\n",
       "      <td>передний</td>\n",
       "    </tr>\n",
       "    <tr>\n",
       "      <th>52802</th>\n",
       "      <td>220 d 2.0d AT (194 л.с.) 4WD</td>\n",
       "      <td>2.0</td>\n",
       "      <td>AUTOMATIC</td>\n",
       "      <td>194</td>\n",
       "      <td>полный</td>\n",
       "    </tr>\n",
       "    <tr>\n",
       "      <th>38996</th>\n",
       "      <td>40i 3.0 AT (340 л.с.) 4WD</td>\n",
       "      <td>3.0</td>\n",
       "      <td>AUTOMATIC</td>\n",
       "      <td>340</td>\n",
       "      <td>полный</td>\n",
       "    </tr>\n",
       "    <tr>\n",
       "      <th>54920</th>\n",
       "      <td>450 Long 3.0 AT (367 л.с.) 4WD</td>\n",
       "      <td>3.0</td>\n",
       "      <td>AUTOMATIC</td>\n",
       "      <td>367</td>\n",
       "      <td>полный</td>\n",
       "    </tr>\n",
       "    <tr>\n",
       "      <th>77387</th>\n",
       "      <td>4.5d AT (235 л.с.) 4WD</td>\n",
       "      <td>4.5</td>\n",
       "      <td>AUTOMATIC</td>\n",
       "      <td>235</td>\n",
       "      <td>полный</td>\n",
       "    </tr>\n",
       "    <tr>\n",
       "      <th>58980</th>\n",
       "      <td>450 3.0 AT (367 л.с.) 4WD</td>\n",
       "      <td>3.0</td>\n",
       "      <td>AUTOMATIC</td>\n",
       "      <td>367</td>\n",
       "      <td>полный</td>\n",
       "    </tr>\n",
       "    <tr>\n",
       "      <th>54639</th>\n",
       "      <td>560 4MATIC 4.0 AT (469 л.с.) 4WD</td>\n",
       "      <td>4.0</td>\n",
       "      <td>AUTOMATIC</td>\n",
       "      <td>469</td>\n",
       "      <td>полный</td>\n",
       "    </tr>\n",
       "    <tr>\n",
       "      <th>71856</th>\n",
       "      <td>1.5 AT (105 л.с.)</td>\n",
       "      <td>1.5</td>\n",
       "      <td>AUTOMATIC</td>\n",
       "      <td>105</td>\n",
       "      <td>передний</td>\n",
       "    </tr>\n",
       "    <tr>\n",
       "      <th>60639</th>\n",
       "      <td>320 3.0d AT (224 л.с.) 4WD</td>\n",
       "      <td>3.0</td>\n",
       "      <td>AUTOMATIC</td>\n",
       "      <td>224</td>\n",
       "      <td>полный</td>\n",
       "    </tr>\n",
       "  </tbody>\n",
       "</table>\n",
       "</div>"
      ],
      "text/plain": [
       "                                   name  engine_displacement  \\\n",
       "2608             2.0 AMT (170 л.с.) 4WD                  2.0   \n",
       "25669                1.4 AMT (122 л.с.)                  1.4   \n",
       "52802      220 d 2.0d AT (194 л.с.) 4WD                  2.0   \n",
       "38996         40i 3.0 AT (340 л.с.) 4WD                  3.0   \n",
       "54920    450 Long 3.0 AT (367 л.с.) 4WD                  3.0   \n",
       "77387            4.5d AT (235 л.с.) 4WD                  4.5   \n",
       "58980         450 3.0 AT (367 л.с.) 4WD                  3.0   \n",
       "54639  560 4MATIC 4.0 AT (469 л.с.) 4WD                  4.0   \n",
       "71856                 1.5 AT (105 л.с.)                  1.5   \n",
       "60639        320 3.0d AT (224 л.с.) 4WD                  3.0   \n",
       "\n",
       "      vehicle_transmission engine_power drive_type  \n",
       "2608                 ROBOT          170     полный  \n",
       "25669                ROBOT          122   передний  \n",
       "52802            AUTOMATIC          194     полный  \n",
       "38996            AUTOMATIC          340     полный  \n",
       "54920            AUTOMATIC          367     полный  \n",
       "77387            AUTOMATIC          235     полный  \n",
       "58980            AUTOMATIC          367     полный  \n",
       "54639            AUTOMATIC          469     полный  \n",
       "71856            AUTOMATIC          105   передний  \n",
       "60639            AUTOMATIC          224     полный  "
      ]
     },
     "execution_count": 54,
     "metadata": {},
     "output_type": "execute_result"
    }
   ],
   "source": [
    "# посмотрим на признак\n",
    "data[['name', 'engine_displacement', 'vehicle_transmission', 'engine_power', 'drive_type']].sample(10)"
   ]
  },
  {
   "cell_type": "markdown",
   "metadata": {},
   "source": [
    "Уберем признак.\n",
    "\n",
    "**Идея на будущее:** можно добавить два признака - модель двигателся и модель коробки передач"
   ]
  },
  {
   "cell_type": "code",
   "execution_count": 55,
   "metadata": {
    "execution": {
     "iopub.execute_input": "2021-07-17T07:26:27.549455Z",
     "iopub.status.busy": "2021-07-17T07:26:27.549029Z",
     "iopub.status.idle": "2021-07-17T07:26:27.555357Z",
     "shell.execute_reply": "2021-07-17T07:26:27.553993Z",
     "shell.execute_reply.started": "2021-07-17T07:26:27.549298Z"
    }
   },
   "outputs": [],
   "source": [
    "# Уберем признак.\n",
    "del_cols.append('name')"
   ]
  },
  {
   "cell_type": "markdown",
   "metadata": {},
   "source": [
    "Признак **'number_of_doors'**"
   ]
  },
  {
   "cell_type": "code",
   "execution_count": 56,
   "metadata": {
    "execution": {
     "iopub.execute_input": "2021-07-17T07:26:27.557044Z",
     "iopub.status.busy": "2021-07-17T07:26:27.556763Z",
     "iopub.status.idle": "2021-07-17T07:26:28.120719Z",
     "shell.execute_reply": "2021-07-17T07:26:28.119472Z",
     "shell.execute_reply.started": "2021-07-17T07:26:27.557018Z"
    }
   },
   "outputs": [
    {
     "name": "stdout",
     "output_type": "stream",
     "text": [
      "Всего значений: 87319\n",
      "Пустых значений: 0\n",
      "25-й перцентиль: 4.0, 75-й перцентиль: 5.0, IQR: 1.0,\n",
      "Границы значений: [0.0, 5.0],\n",
      "Границы выбросов: [2.5, 6.5].\n",
      "Есть выбросы.\n",
      "Количество выбросов: 2674\n"
     ]
    },
    {
     "data": {
      "image/png": "[encoded data removed]",
      "text/plain": [
       "<Figure size 864x288 with 4 Axes>"
      ]
     },
     "metadata": {
      "needs_background": "light"
     },
     "output_type": "display_data"
    }
   ],
   "source": [
    "plot_column_info_log(data, 'number_of_doors')"
   ]
  },
  {
   "cell_type": "code",
   "execution_count": 57,
   "metadata": {
    "execution": {
     "iopub.execute_input": "2021-07-17T07:26:28.122973Z",
     "iopub.status.busy": "2021-07-17T07:26:28.122646Z",
     "iopub.status.idle": "2021-07-17T07:26:28.130077Z",
     "shell.execute_reply": "2021-07-17T07:26:28.128539Z",
     "shell.execute_reply.started": "2021-07-17T07:26:28.122943Z"
    }
   },
   "outputs": [],
   "source": [
    "# отнесем признак к количественным\n",
    "num_cols.append('number_of_doors')"
   ]
  },
  {
   "cell_type": "markdown",
   "metadata": {},
   "source": [
    "Все хорошо. Оставляем признак как есть."
   ]
  },
  {
   "cell_type": "markdown",
   "metadata": {},
   "source": [
    "Признак **'engine_power'**"
   ]
  },
  {
   "cell_type": "code",
   "execution_count": 58,
   "metadata": {
    "execution": {
     "iopub.execute_input": "2021-07-17T07:26:28.132308Z",
     "iopub.status.busy": "2021-07-17T07:26:28.131938Z",
     "iopub.status.idle": "2021-07-17T07:26:28.187907Z",
     "shell.execute_reply": "2021-07-17T07:26:28.186410Z",
     "shell.execute_reply.started": "2021-07-17T07:26:28.132276Z"
    }
   },
   "outputs": [
    {
     "name": "stdout",
     "output_type": "stream",
     "text": [
      "Проведем анализ для переменной engine_power\n",
      "Тип данных:  object\n",
      "Всего значений: 87319\n",
      "Пустых значений: 0\n",
      "Значений, упомянутых более 10 раз: 432\n",
      "Уникальных значений: 628\n"
     ]
    },
    {
     "data": {
      "text/html": [
       "<div>\n",
       "<style scoped>\n",
       "    .dataframe tbody tr th:only-of-type {\n",
       "        vertical-align: middle;\n",
       "    }\n",
       "\n",
       "    .dataframe tbody tr th {\n",
       "        vertical-align: top;\n",
       "    }\n",
       "\n",
       "    .dataframe thead th {\n",
       "        text-align: right;\n",
       "    }\n",
       "</style>\n",
       "<table border=\"1\" class=\"dataframe\">\n",
       "  <thead>\n",
       "    <tr style=\"text-align: right;\">\n",
       "      <th></th>\n",
       "      <th>engine_power</th>\n",
       "    </tr>\n",
       "  </thead>\n",
       "  <tbody>\n",
       "    <tr>\n",
       "      <th>249.0</th>\n",
       "      <td>5567</td>\n",
       "    </tr>\n",
       "    <tr>\n",
       "      <th>150.0</th>\n",
       "      <td>4262</td>\n",
       "    </tr>\n",
       "    <tr>\n",
       "      <th>190.0</th>\n",
       "      <td>2456</td>\n",
       "    </tr>\n",
       "    <tr>\n",
       "      <th>110.0</th>\n",
       "      <td>2181</td>\n",
       "    </tr>\n",
       "    <tr>\n",
       "      <th>249</th>\n",
       "      <td>1708</td>\n",
       "    </tr>\n",
       "    <tr>\n",
       "      <th>245.0</th>\n",
       "      <td>1705</td>\n",
       "    </tr>\n",
       "    <tr>\n",
       "      <th>150</th>\n",
       "      <td>1699</td>\n",
       "    </tr>\n",
       "    <tr>\n",
       "      <th>184.0</th>\n",
       "      <td>1597</td>\n",
       "    </tr>\n",
       "    <tr>\n",
       "      <th>197.0</th>\n",
       "      <td>1359</td>\n",
       "    </tr>\n",
       "    <tr>\n",
       "      <th>144.0</th>\n",
       "      <td>1338</td>\n",
       "    </tr>\n",
       "  </tbody>\n",
       "</table>\n",
       "</div>"
      ],
      "text/plain": [
       "       engine_power\n",
       "249.0          5567\n",
       "150.0          4262\n",
       "190.0          2456\n",
       "110.0          2181\n",
       "249            1708\n",
       "245.0          1705\n",
       "150            1699\n",
       "184.0          1597\n",
       "197.0          1359\n",
       "144.0          1338"
      ]
     },
     "metadata": {},
     "output_type": "display_data"
    }
   ],
   "source": [
    "column_info(data, 'engine_power')"
   ]
  },
  {
   "cell_type": "code",
   "execution_count": 59,
   "metadata": {
    "execution": {
     "iopub.execute_input": "2021-07-17T07:26:28.189978Z",
     "iopub.status.busy": "2021-07-17T07:26:28.189675Z",
     "iopub.status.idle": "2021-07-17T07:26:28.215372Z",
     "shell.execute_reply": "2021-07-17T07:26:28.213968Z",
     "shell.execute_reply.started": "2021-07-17T07:26:28.189951Z"
    }
   },
   "outputs": [],
   "source": [
    "# Выносим в блок предобработки\n",
    "\n",
    "# приведем к формату int\n",
    "data.loc[:, 'engine_power'] = data['engine_power'].astype('int')"
   ]
  },
  {
   "cell_type": "code",
   "execution_count": 60,
   "metadata": {
    "execution": {
     "iopub.execute_input": "2021-07-17T07:26:28.217227Z",
     "iopub.status.busy": "2021-07-17T07:26:28.216954Z",
     "iopub.status.idle": "2021-07-17T07:26:28.796368Z",
     "shell.execute_reply": "2021-07-17T07:26:28.795464Z",
     "shell.execute_reply.started": "2021-07-17T07:26:28.217201Z"
    }
   },
   "outputs": [
    {
     "name": "stdout",
     "output_type": "stream",
     "text": [
      "Всего значений: 87319\n",
      "Пустых значений: 0\n",
      "25-й перцентиль: 140.0, 75-й перцентиль: 249.0, IQR: 109.0,\n",
      "Границы значений: [30, 800],\n",
      "Границы выбросов: [-23.5, 412.5].\n",
      "Есть выбросы.\n",
      "Количество выбросов: 2859\n"
     ]
    },
    {
     "data": {
      "image/png": "[encoded data removed]",
      "text/plain": [
       "<Figure size 864x288 with 4 Axes>"
      ]
     },
     "metadata": {
      "needs_background": "light"
     },
     "output_type": "display_data"
    }
   ],
   "source": [
    "plot_column_info_log(data, 'engine_power')"
   ]
  },
  {
   "cell_type": "code",
   "execution_count": 61,
   "metadata": {
    "execution": {
     "iopub.execute_input": "2021-07-17T07:26:28.797943Z",
     "iopub.status.busy": "2021-07-17T07:26:28.797652Z",
     "iopub.status.idle": "2021-07-17T07:26:28.809409Z",
     "shell.execute_reply": "2021-07-17T07:26:28.808254Z",
     "shell.execute_reply.started": "2021-07-17T07:26:28.797914Z"
    }
   },
   "outputs": [],
   "source": [
    "# Выносим в блок предобработки\n",
    "\n",
    "# Возьмем логарифм от признака\n",
    "data.loc[:, 'engine_power'] = np.log(data['engine_power'] + 1)"
   ]
  },
  {
   "cell_type": "code",
   "execution_count": 62,
   "metadata": {
    "execution": {
     "iopub.execute_input": "2021-07-17T07:26:28.811213Z",
     "iopub.status.busy": "2021-07-17T07:26:28.810929Z",
     "iopub.status.idle": "2021-07-17T07:26:28.817525Z",
     "shell.execute_reply": "2021-07-17T07:26:28.816210Z",
     "shell.execute_reply.started": "2021-07-17T07:26:28.811186Z"
    }
   },
   "outputs": [],
   "source": [
    "# отнесем признак к количественным\n",
    "num_cols.append('engine_power')"
   ]
  },
  {
   "cell_type": "markdown",
   "metadata": {},
   "source": [
    "Все хорошо. С выбросами ничего не делаем, так как машины с мощностью двигателя выше 412 л.с. и до 800 л.с. вполне могут быть."
   ]
  },
  {
   "cell_type": "markdown",
   "metadata": {},
   "source": [
    "Признак **'wheel'**"
   ]
  },
  {
   "cell_type": "code",
   "execution_count": 63,
   "metadata": {
    "execution": {
     "iopub.execute_input": "2021-07-17T07:26:28.819651Z",
     "iopub.status.busy": "2021-07-17T07:26:28.819305Z",
     "iopub.status.idle": "2021-07-17T07:26:28.865721Z",
     "shell.execute_reply": "2021-07-17T07:26:28.864563Z",
     "shell.execute_reply.started": "2021-07-17T07:26:28.819620Z"
    }
   },
   "outputs": [
    {
     "name": "stdout",
     "output_type": "stream",
     "text": [
      "Проведем анализ для переменной wheel\n",
      "Тип данных:  object\n",
      "Всего значений: 87319\n",
      "Пустых значений: 0\n",
      "Значений, упомянутых более 10 раз: 2\n",
      "Уникальных значений: 2\n"
     ]
    },
    {
     "data": {
      "text/html": [
       "<div>\n",
       "<style scoped>\n",
       "    .dataframe tbody tr th:only-of-type {\n",
       "        vertical-align: middle;\n",
       "    }\n",
       "\n",
       "    .dataframe tbody tr th {\n",
       "        vertical-align: top;\n",
       "    }\n",
       "\n",
       "    .dataframe thead th {\n",
       "        text-align: right;\n",
       "    }\n",
       "</style>\n",
       "<table border=\"1\" class=\"dataframe\">\n",
       "  <thead>\n",
       "    <tr style=\"text-align: right;\">\n",
       "      <th></th>\n",
       "      <th>wheel</th>\n",
       "    </tr>\n",
       "  </thead>\n",
       "  <tbody>\n",
       "    <tr>\n",
       "      <th>LEFT</th>\n",
       "      <td>84687</td>\n",
       "    </tr>\n",
       "    <tr>\n",
       "      <th>RIGHT</th>\n",
       "      <td>2632</td>\n",
       "    </tr>\n",
       "  </tbody>\n",
       "</table>\n",
       "</div>"
      ],
      "text/plain": [
       "       wheel\n",
       "LEFT   84687\n",
       "RIGHT   2632"
      ]
     },
     "metadata": {},
     "output_type": "display_data"
    }
   ],
   "source": [
    "column_info(data, 'wheel')"
   ]
  },
  {
   "cell_type": "code",
   "execution_count": 64,
   "metadata": {
    "execution": {
     "iopub.execute_input": "2021-07-17T07:26:28.867924Z",
     "iopub.status.busy": "2021-07-17T07:26:28.867519Z",
     "iopub.status.idle": "2021-07-17T07:26:28.895671Z",
     "shell.execute_reply": "2021-07-17T07:26:28.894017Z",
     "shell.execute_reply.started": "2021-07-17T07:26:28.867891Z"
    }
   },
   "outputs": [],
   "source": [
    "# Преобразуем wheel в целочисленный формат. \n",
    "wheel_dict = {'LEFT': 1, 'RIGHT': 0}\n",
    "data.loc[:, 'wheel'] = data['wheel'].map(wheel_dict)"
   ]
  },
  {
   "cell_type": "code",
   "execution_count": 65,
   "metadata": {
    "execution": {
     "iopub.execute_input": "2021-07-17T07:26:28.898041Z",
     "iopub.status.busy": "2021-07-17T07:26:28.897569Z",
     "iopub.status.idle": "2021-07-17T07:26:28.903737Z",
     "shell.execute_reply": "2021-07-17T07:26:28.902183Z",
     "shell.execute_reply.started": "2021-07-17T07:26:28.897995Z"
    }
   },
   "outputs": [],
   "source": [
    "# отнесем признак к бинарным\n",
    "bin_cols.append('wheel')"
   ]
  },
  {
   "cell_type": "markdown",
   "metadata": {},
   "source": [
    "С признаком все хорошо. Оставляем как есть."
   ]
  },
  {
   "cell_type": "markdown",
   "metadata": {},
   "source": [
    "Признак **'drive_type'**"
   ]
  },
  {
   "cell_type": "code",
   "execution_count": 66,
   "metadata": {
    "execution": {
     "iopub.execute_input": "2021-07-17T07:26:28.905559Z",
     "iopub.status.busy": "2021-07-17T07:26:28.905252Z",
     "iopub.status.idle": "2021-07-17T07:26:28.956037Z",
     "shell.execute_reply": "2021-07-17T07:26:28.955225Z",
     "shell.execute_reply.started": "2021-07-17T07:26:28.905529Z"
    }
   },
   "outputs": [
    {
     "name": "stdout",
     "output_type": "stream",
     "text": [
      "Проведем анализ для переменной drive_type\n",
      "Тип данных:  object\n",
      "Всего значений: 87319\n",
      "Пустых значений: 0\n",
      "Значений, упомянутых более 10 раз: 3\n",
      "Уникальных значений: 3\n"
     ]
    },
    {
     "data": {
      "text/html": [
       "<div>\n",
       "<style scoped>\n",
       "    .dataframe tbody tr th:only-of-type {\n",
       "        vertical-align: middle;\n",
       "    }\n",
       "\n",
       "    .dataframe tbody tr th {\n",
       "        vertical-align: top;\n",
       "    }\n",
       "\n",
       "    .dataframe thead th {\n",
       "        text-align: right;\n",
       "    }\n",
       "</style>\n",
       "<table border=\"1\" class=\"dataframe\">\n",
       "  <thead>\n",
       "    <tr style=\"text-align: right;\">\n",
       "      <th></th>\n",
       "      <th>drive_type</th>\n",
       "    </tr>\n",
       "  </thead>\n",
       "  <tbody>\n",
       "    <tr>\n",
       "      <th>полный</th>\n",
       "      <td>45435</td>\n",
       "    </tr>\n",
       "    <tr>\n",
       "      <th>передний</th>\n",
       "      <td>33078</td>\n",
       "    </tr>\n",
       "    <tr>\n",
       "      <th>задний</th>\n",
       "      <td>8806</td>\n",
       "    </tr>\n",
       "  </tbody>\n",
       "</table>\n",
       "</div>"
      ],
      "text/plain": [
       "          drive_type\n",
       "полный         45435\n",
       "передний       33078\n",
       "задний          8806"
      ]
     },
     "metadata": {},
     "output_type": "display_data"
    }
   ],
   "source": [
    "column_info(data, 'drive_type')"
   ]
  },
  {
   "cell_type": "code",
   "execution_count": 67,
   "metadata": {
    "execution": {
     "iopub.execute_input": "2021-07-17T07:26:28.957263Z",
     "iopub.status.busy": "2021-07-17T07:26:28.956975Z",
     "iopub.status.idle": "2021-07-17T07:26:28.961721Z",
     "shell.execute_reply": "2021-07-17T07:26:28.960870Z",
     "shell.execute_reply.started": "2021-07-17T07:26:28.957235Z"
    }
   },
   "outputs": [],
   "source": [
    "# отнесем признак к категориальным\n",
    "cat_cols.append('drive_type')"
   ]
  },
  {
   "cell_type": "markdown",
   "metadata": {},
   "source": [
    "С признаком все хорошо. Оставляем как есть."
   ]
  },
  {
   "cell_type": "markdown",
   "metadata": {},
   "source": [
    "Признак **'owners'**"
   ]
  },
  {
   "cell_type": "code",
   "execution_count": 68,
   "metadata": {
    "execution": {
     "iopub.execute_input": "2021-07-17T07:26:28.963252Z",
     "iopub.status.busy": "2021-07-17T07:26:28.962943Z",
     "iopub.status.idle": "2021-07-17T07:26:29.520317Z",
     "shell.execute_reply": "2021-07-17T07:26:29.519142Z",
     "shell.execute_reply.started": "2021-07-17T07:26:28.963214Z"
    }
   },
   "outputs": [
    {
     "name": "stdout",
     "output_type": "stream",
     "text": [
      "Всего значений: 87319\n",
      "Пустых значений: 19351\n",
      "25-й перцентиль: 1.0, 75-й перцентиль: 3.0, IQR: 2.0,\n",
      "Границы значений: [1.0, 3.0],\n",
      "Границы выбросов: [-2.0, 6.0].\n",
      "Выбросов Нет.\n",
      "Количество выбросов: 0\n"
     ]
    },
    {
     "data": {
      "image/png": "[encoded data removed]",
      "text/plain": [
       "<Figure size 864x288 with 4 Axes>"
      ]
     },
     "metadata": {
      "needs_background": "light"
     },
     "output_type": "display_data"
    }
   ],
   "source": [
    "plot_column_info_log(data, 'owners')"
   ]
  },
  {
   "cell_type": "code",
   "execution_count": 69,
   "metadata": {
    "execution": {
     "iopub.execute_input": "2021-07-17T07:26:29.522103Z",
     "iopub.status.busy": "2021-07-17T07:26:29.521809Z",
     "iopub.status.idle": "2021-07-17T07:26:29.542712Z",
     "shell.execute_reply": "2021-07-17T07:26:29.541668Z",
     "shell.execute_reply.started": "2021-07-17T07:26:29.522072Z"
    }
   },
   "outputs": [
    {
     "data": {
      "text/plain": [
       "0.000000     19349\n",
       "12.254868        1\n",
       "11.482477        1\n",
       "Name: mileage, dtype: int64"
      ]
     },
     "execution_count": 69,
     "metadata": {},
     "output_type": "execute_result"
    }
   ],
   "source": [
    "# В поле Владельцы есть много пропусков. Но по большей части пропуски указаны для машин с нулевым пробегом\n",
    "data.query('owners != owners')['mileage'].value_counts()"
   ]
  },
  {
   "cell_type": "code",
   "execution_count": 70,
   "metadata": {
    "execution": {
     "iopub.execute_input": "2021-07-17T07:26:29.544675Z",
     "iopub.status.busy": "2021-07-17T07:26:29.544067Z",
     "iopub.status.idle": "2021-07-17T07:26:29.594695Z",
     "shell.execute_reply": "2021-07-17T07:26:29.592843Z",
     "shell.execute_reply.started": "2021-07-17T07:26:29.544628Z"
    }
   },
   "outputs": [
    {
     "name": "stdout",
     "output_type": "stream",
     "text": [
      "В новый признак 'owners_isnan' охраняем информацию, в каком наблюдении указано NaN\n",
      "Заполним пустые значения признака owners медианой 2.0\n"
     ]
    }
   ],
   "source": [
    "# Вынесем в блок предобработки\n",
    "\n",
    "# Заполним пропуски в поле owners 0, если проьег нулевой.\n",
    "data.loc[data.query('owners != owners and mileage == 0').index, 'owners'] = 0\n",
    "\n",
    "# Заполним пропуски в поле owners медианным значением\n",
    "data = replace_nan(data, 'owners', 'median')"
   ]
  },
  {
   "cell_type": "code",
   "execution_count": 71,
   "metadata": {
    "execution": {
     "iopub.execute_input": "2021-07-17T07:26:29.596739Z",
     "iopub.status.busy": "2021-07-17T07:26:29.596306Z",
     "iopub.status.idle": "2021-07-17T07:26:29.603560Z",
     "shell.execute_reply": "2021-07-17T07:26:29.601771Z",
     "shell.execute_reply.started": "2021-07-17T07:26:29.596695Z"
    }
   },
   "outputs": [],
   "source": [
    "# отнесем признак к количественным\n",
    "num_cols.append('owners')\n",
    "\n",
    "# новый признак owners_isnan отнесем к бинарным\n",
    "bin_cols.append('owners_isnan')"
   ]
  },
  {
   "cell_type": "markdown",
   "metadata": {},
   "source": [
    "С признаком все хорошо. Оставляем как есть."
   ]
  },
  {
   "cell_type": "markdown",
   "metadata": {},
   "source": [
    "Признак **'vehicle_transmission'**"
   ]
  },
  {
   "cell_type": "code",
   "execution_count": 72,
   "metadata": {
    "execution": {
     "iopub.execute_input": "2021-07-17T07:26:29.605732Z",
     "iopub.status.busy": "2021-07-17T07:26:29.605394Z",
     "iopub.status.idle": "2021-07-17T07:26:29.655901Z",
     "shell.execute_reply": "2021-07-17T07:26:29.654173Z",
     "shell.execute_reply.started": "2021-07-17T07:26:29.605700Z"
    }
   },
   "outputs": [
    {
     "name": "stdout",
     "output_type": "stream",
     "text": [
      "Проведем анализ для переменной vehicle_transmission\n",
      "Тип данных:  object\n",
      "Всего значений: 87319\n",
      "Пустых значений: 0\n",
      "Значений, упомянутых более 10 раз: 4\n",
      "Уникальных значений: 4\n"
     ]
    },
    {
     "data": {
      "text/html": [
       "<div>\n",
       "<style scoped>\n",
       "    .dataframe tbody tr th:only-of-type {\n",
       "        vertical-align: middle;\n",
       "    }\n",
       "\n",
       "    .dataframe tbody tr th {\n",
       "        vertical-align: top;\n",
       "    }\n",
       "\n",
       "    .dataframe thead th {\n",
       "        text-align: right;\n",
       "    }\n",
       "</style>\n",
       "<table border=\"1\" class=\"dataframe\">\n",
       "  <thead>\n",
       "    <tr style=\"text-align: right;\">\n",
       "      <th></th>\n",
       "      <th>vehicle_transmission</th>\n",
       "    </tr>\n",
       "  </thead>\n",
       "  <tbody>\n",
       "    <tr>\n",
       "      <th>AUTOMATIC</th>\n",
       "      <td>52630</td>\n",
       "    </tr>\n",
       "    <tr>\n",
       "      <th>MECHANICAL</th>\n",
       "      <td>14190</td>\n",
       "    </tr>\n",
       "    <tr>\n",
       "      <th>ROBOT</th>\n",
       "      <td>10608</td>\n",
       "    </tr>\n",
       "    <tr>\n",
       "      <th>VARIATOR</th>\n",
       "      <td>9891</td>\n",
       "    </tr>\n",
       "  </tbody>\n",
       "</table>\n",
       "</div>"
      ],
      "text/plain": [
       "            vehicle_transmission\n",
       "AUTOMATIC                  52630\n",
       "MECHANICAL                 14190\n",
       "ROBOT                      10608\n",
       "VARIATOR                    9891"
      ]
     },
     "metadata": {},
     "output_type": "display_data"
    }
   ],
   "source": [
    "column_info(data, 'vehicle_transmission')"
   ]
  },
  {
   "cell_type": "code",
   "execution_count": 73,
   "metadata": {
    "execution": {
     "iopub.execute_input": "2021-07-17T07:26:29.658392Z",
     "iopub.status.busy": "2021-07-17T07:26:29.657944Z",
     "iopub.status.idle": "2021-07-17T07:26:29.663476Z",
     "shell.execute_reply": "2021-07-17T07:26:29.662016Z",
     "shell.execute_reply.started": "2021-07-17T07:26:29.658334Z"
    }
   },
   "outputs": [],
   "source": [
    "# отнесем признак к категориальным\n",
    "cat_cols.append('vehicle_transmission')"
   ]
  },
  {
   "cell_type": "markdown",
   "metadata": {},
   "source": [
    "С признаком все хорошо. Оставляем как есть."
   ]
  },
  {
   "cell_type": "markdown",
   "metadata": {},
   "source": [
    "Признак **'production_date'**"
   ]
  },
  {
   "cell_type": "code",
   "execution_count": 74,
   "metadata": {
    "execution": {
     "iopub.execute_input": "2021-07-17T07:26:29.665712Z",
     "iopub.status.busy": "2021-07-17T07:26:29.665262Z",
     "iopub.status.idle": "2021-07-17T07:26:30.096789Z",
     "shell.execute_reply": "2021-07-17T07:26:30.095120Z",
     "shell.execute_reply.started": "2021-07-17T07:26:29.665667Z"
    }
   },
   "outputs": [
    {
     "name": "stdout",
     "output_type": "stream",
     "text": [
      "Всего значений: 87319\n",
      "Пустых значений: 0\n",
      "25-й перцентиль: 2008.0, 75-й перцентиль: 2019.0, IQR: 11.0,\n",
      "Границы значений: [1904, 2021],\n",
      "Границы выбросов: [1991.5, 2035.5].\n",
      "Есть выбросы.\n"
     ]
    },
    {
     "data": {
      "image/png": "[encoded data removed]",
      "text/plain": [
       "<Figure size 720x504 with 1 Axes>"
      ]
     },
     "metadata": {
      "needs_background": "light"
     },
     "output_type": "display_data"
    }
   ],
   "source": [
    "plot_column_info(data, 'production_date')"
   ]
  },
  {
   "cell_type": "code",
   "execution_count": 75,
   "metadata": {
    "execution": {
     "iopub.execute_input": "2021-07-17T07:26:30.099110Z",
     "iopub.status.busy": "2021-07-17T07:26:30.098643Z",
     "iopub.status.idle": "2021-07-17T07:26:30.105653Z",
     "shell.execute_reply": "2021-07-17T07:26:30.104274Z",
     "shell.execute_reply.started": "2021-07-17T07:26:30.099063Z"
    }
   },
   "outputs": [],
   "source": [
    "# отнесем признак к количественным. можно было бы и к временным, но пока не вижу смысла\n",
    "num_cols.append('production_date')"
   ]
  },
  {
   "cell_type": "markdown",
   "metadata": {},
   "source": [
    "С признаком все хорошо. Оставляем как есть."
   ]
  },
  {
   "cell_type": "markdown",
   "metadata": {},
   "source": [
    "Признак **'vendor'**"
   ]
  },
  {
   "cell_type": "code",
   "execution_count": 76,
   "metadata": {
    "execution": {
     "iopub.execute_input": "2021-07-17T07:26:30.107973Z",
     "iopub.status.busy": "2021-07-17T07:26:30.107615Z",
     "iopub.status.idle": "2021-07-17T07:26:30.158099Z",
     "shell.execute_reply": "2021-07-17T07:26:30.157087Z",
     "shell.execute_reply.started": "2021-07-17T07:26:30.107941Z"
    }
   },
   "outputs": [
    {
     "name": "stdout",
     "output_type": "stream",
     "text": [
      "Проведем анализ для переменной vendor\n",
      "Тип данных:  object\n",
      "Всего значений: 87319\n",
      "Пустых значений: 0\n",
      "Значений, упомянутых более 10 раз: 2\n",
      "Уникальных значений: 3\n"
     ]
    },
    {
     "data": {
      "text/html": [
       "<div>\n",
       "<style scoped>\n",
       "    .dataframe tbody tr th:only-of-type {\n",
       "        vertical-align: middle;\n",
       "    }\n",
       "\n",
       "    .dataframe tbody tr th {\n",
       "        vertical-align: top;\n",
       "    }\n",
       "\n",
       "    .dataframe thead th {\n",
       "        text-align: right;\n",
       "    }\n",
       "</style>\n",
       "<table border=\"1\" class=\"dataframe\">\n",
       "  <thead>\n",
       "    <tr style=\"text-align: right;\">\n",
       "      <th></th>\n",
       "      <th>vendor</th>\n",
       "    </tr>\n",
       "  </thead>\n",
       "  <tbody>\n",
       "    <tr>\n",
       "      <th>EUROPEAN</th>\n",
       "      <td>57350</td>\n",
       "    </tr>\n",
       "    <tr>\n",
       "      <th>JAPANESE</th>\n",
       "      <td>29968</td>\n",
       "    </tr>\n",
       "    <tr>\n",
       "      <th>AMERICAN</th>\n",
       "      <td>1</td>\n",
       "    </tr>\n",
       "  </tbody>\n",
       "</table>\n",
       "</div>"
      ],
      "text/plain": [
       "          vendor\n",
       "EUROPEAN   57350\n",
       "JAPANESE   29968\n",
       "AMERICAN       1"
      ]
     },
     "metadata": {},
     "output_type": "display_data"
    }
   ],
   "source": [
    "column_info(data, 'vendor')"
   ]
  },
  {
   "cell_type": "code",
   "execution_count": 77,
   "metadata": {
    "execution": {
     "iopub.execute_input": "2021-07-17T07:26:30.159737Z",
     "iopub.status.busy": "2021-07-17T07:26:30.159409Z",
     "iopub.status.idle": "2021-07-17T07:26:30.203160Z",
     "shell.execute_reply": "2021-07-17T07:26:30.201542Z",
     "shell.execute_reply.started": "2021-07-17T07:26:30.159696Z"
    }
   },
   "outputs": [
    {
     "data": {
      "text/html": [
       "<div>\n",
       "<style scoped>\n",
       "    .dataframe tbody tr th:only-of-type {\n",
       "        vertical-align: middle;\n",
       "    }\n",
       "\n",
       "    .dataframe tbody tr th {\n",
       "        vertical-align: top;\n",
       "    }\n",
       "\n",
       "    .dataframe thead th {\n",
       "        text-align: right;\n",
       "    }\n",
       "</style>\n",
       "<table border=\"1\" class=\"dataframe\">\n",
       "  <thead>\n",
       "    <tr style=\"text-align: right;\">\n",
       "      <th></th>\n",
       "      <th>body_type</th>\n",
       "      <th>brand</th>\n",
       "      <th>color</th>\n",
       "      <th>fuel_type</th>\n",
       "      <th>mileage</th>\n",
       "      <th>model_date</th>\n",
       "      <th>name</th>\n",
       "      <th>number_of_doors</th>\n",
       "      <th>engine_power</th>\n",
       "      <th>wheel</th>\n",
       "      <th>drive_type</th>\n",
       "      <th>pts</th>\n",
       "      <th>owners</th>\n",
       "      <th>vehicle_transmission</th>\n",
       "      <th>production_date</th>\n",
       "      <th>vendor</th>\n",
       "      <th>model_name</th>\n",
       "      <th>engine_displacement</th>\n",
       "      <th>ownership</th>\n",
       "      <th>complectation_dict</th>\n",
       "      <th>equipment_dict</th>\n",
       "      <th>parsing_unixtime</th>\n",
       "      <th>price</th>\n",
       "      <th>sample</th>\n",
       "      <th>pts_isnan</th>\n",
       "      <th>is_new</th>\n",
       "      <th>owners_isnan</th>\n",
       "    </tr>\n",
       "  </thead>\n",
       "  <tbody>\n",
       "    <tr>\n",
       "      <th>23817</th>\n",
       "      <td>минивэн</td>\n",
       "      <td>VOLKSWAGEN</td>\n",
       "      <td>белый</td>\n",
       "      <td>бензин</td>\n",
       "      <td>12.345839</td>\n",
       "      <td>1997.0</td>\n",
       "      <td>2.8 AT (140 л.с.)</td>\n",
       "      <td>4.0</td>\n",
       "      <td>4.948760</td>\n",
       "      <td>1</td>\n",
       "      <td>передний</td>\n",
       "      <td>0</td>\n",
       "      <td>3.0</td>\n",
       "      <td>AUTOMATIC</td>\n",
       "      <td>2002</td>\n",
       "      <td>EUROPEAN</td>\n",
       "      <td>EUROVAN</td>\n",
       "      <td>2.8</td>\n",
       "      <td>NaN</td>\n",
       "      <td>NaN</td>\n",
       "      <td>NaN</td>\n",
       "      <td>1603215210</td>\n",
       "      <td>0.0</td>\n",
       "      <td>0</td>\n",
       "      <td>0</td>\n",
       "      <td>0</td>\n",
       "      <td>0</td>\n",
       "    </tr>\n",
       "    <tr>\n",
       "      <th>24450</th>\n",
       "      <td>минивэн</td>\n",
       "      <td>VOLKSWAGEN</td>\n",
       "      <td>серебристый</td>\n",
       "      <td>бензин</td>\n",
       "      <td>12.374130</td>\n",
       "      <td>1997.0</td>\n",
       "      <td>2.8 AT (201 л.с.)</td>\n",
       "      <td>4.0</td>\n",
       "      <td>5.308268</td>\n",
       "      <td>1</td>\n",
       "      <td>передний</td>\n",
       "      <td>1</td>\n",
       "      <td>2.0</td>\n",
       "      <td>AUTOMATIC</td>\n",
       "      <td>2001</td>\n",
       "      <td>EUROPEAN</td>\n",
       "      <td>EUROVAN</td>\n",
       "      <td>2.8</td>\n",
       "      <td>2 года и 2 месяца</td>\n",
       "      <td>NaN</td>\n",
       "      <td>{\"cruise-control\":true,\"tinted-glass\":true,\"ro...</td>\n",
       "      <td>1603217636</td>\n",
       "      <td>0.0</td>\n",
       "      <td>0</td>\n",
       "      <td>0</td>\n",
       "      <td>0</td>\n",
       "      <td>0</td>\n",
       "    </tr>\n",
       "    <tr>\n",
       "      <th>24498</th>\n",
       "      <td>минивэн</td>\n",
       "      <td>VOLKSWAGEN</td>\n",
       "      <td>чёрный</td>\n",
       "      <td>бензин</td>\n",
       "      <td>12.736704</td>\n",
       "      <td>1997.0</td>\n",
       "      <td>2.8 AT (201 л.с.)</td>\n",
       "      <td>4.0</td>\n",
       "      <td>5.308268</td>\n",
       "      <td>1</td>\n",
       "      <td>передний</td>\n",
       "      <td>0</td>\n",
       "      <td>3.0</td>\n",
       "      <td>AUTOMATIC</td>\n",
       "      <td>2001</td>\n",
       "      <td>EUROPEAN</td>\n",
       "      <td>EUROVAN</td>\n",
       "      <td>2.8</td>\n",
       "      <td>NaN</td>\n",
       "      <td>NaN</td>\n",
       "      <td>{\"ptf\":true,\"lock\":true}</td>\n",
       "      <td>1603217812</td>\n",
       "      <td>0.0</td>\n",
       "      <td>0</td>\n",
       "      <td>0</td>\n",
       "      <td>0</td>\n",
       "      <td>0</td>\n",
       "    </tr>\n",
       "    <tr>\n",
       "      <th>85301</th>\n",
       "      <td>минивэн</td>\n",
       "      <td>VOLKSWAGEN</td>\n",
       "      <td>красный</td>\n",
       "      <td>бензин</td>\n",
       "      <td>12.601491</td>\n",
       "      <td>1997.0</td>\n",
       "      <td>2.8 AT (201 л.с.)</td>\n",
       "      <td>4.0</td>\n",
       "      <td>5.308268</td>\n",
       "      <td>1</td>\n",
       "      <td>передний</td>\n",
       "      <td>1</td>\n",
       "      <td>1.0</td>\n",
       "      <td>AUTOMATIC</td>\n",
       "      <td>2001</td>\n",
       "      <td>AMERICAN</td>\n",
       "      <td>EUROVAN</td>\n",
       "      <td>2.8</td>\n",
       "      <td>NaN</td>\n",
       "      <td>{'id': '0'}</td>\n",
       "      <td>{}</td>\n",
       "      <td>1625882847</td>\n",
       "      <td>650000.0</td>\n",
       "      <td>1</td>\n",
       "      <td>0</td>\n",
       "      <td>0</td>\n",
       "      <td>0</td>\n",
       "    </tr>\n",
       "  </tbody>\n",
       "</table>\n",
       "</div>"
      ],
      "text/plain": [
       "      body_type       brand        color fuel_type    mileage  model_date  \\\n",
       "23817   минивэн  VOLKSWAGEN        белый    бензин  12.345839      1997.0   \n",
       "24450   минивэн  VOLKSWAGEN  серебристый    бензин  12.374130      1997.0   \n",
       "24498   минивэн  VOLKSWAGEN       чёрный    бензин  12.736704      1997.0   \n",
       "85301   минивэн  VOLKSWAGEN      красный    бензин  12.601491      1997.0   \n",
       "\n",
       "                    name  number_of_doors  engine_power  wheel drive_type  \\\n",
       "23817  2.8 AT (140 л.с.)              4.0      4.948760      1   передний   \n",
       "24450  2.8 AT (201 л.с.)              4.0      5.308268      1   передний   \n",
       "24498  2.8 AT (201 л.с.)              4.0      5.308268      1   передний   \n",
       "85301  2.8 AT (201 л.с.)              4.0      5.308268      1   передний   \n",
       "\n",
       "       pts  owners vehicle_transmission  production_date    vendor model_name  \\\n",
       "23817    0     3.0            AUTOMATIC             2002  EUROPEAN    EUROVAN   \n",
       "24450    1     2.0            AUTOMATIC             2001  EUROPEAN    EUROVAN   \n",
       "24498    0     3.0            AUTOMATIC             2001  EUROPEAN    EUROVAN   \n",
       "85301    1     1.0            AUTOMATIC             2001  AMERICAN    EUROVAN   \n",
       "\n",
       "       engine_displacement          ownership complectation_dict  \\\n",
       "23817                  2.8                NaN                NaN   \n",
       "24450                  2.8  2 года и 2 месяца                NaN   \n",
       "24498                  2.8                NaN                NaN   \n",
       "85301                  2.8                NaN        {'id': '0'}   \n",
       "\n",
       "                                          equipment_dict  parsing_unixtime  \\\n",
       "23817                                                NaN        1603215210   \n",
       "24450  {\"cruise-control\":true,\"tinted-glass\":true,\"ro...        1603217636   \n",
       "24498                           {\"ptf\":true,\"lock\":true}        1603217812   \n",
       "85301                                                 {}        1625882847   \n",
       "\n",
       "          price  sample  pts_isnan  is_new  owners_isnan  \n",
       "23817       0.0       0          0       0             0  \n",
       "24450       0.0       0          0       0             0  \n",
       "24498       0.0       0          0       0             0  \n",
       "85301  650000.0       1          0       0             0  "
      ]
     },
     "execution_count": 77,
     "metadata": {},
     "output_type": "execute_result"
    }
   ],
   "source": [
    "# Посмотрим на выделяющуюся машину из Америки\n",
    "model_name = data.query('vendor == \"AMERICAN\"')['model_name'].values[0]\n",
    "data.query(f'model_name == \"{model_name}\"')"
   ]
  },
  {
   "cell_type": "markdown",
   "metadata": {},
   "source": [
    "По всей видимости произошла ошибка при регистрации на сайте. Поправим значение признака на 'EUROPEAN'"
   ]
  },
  {
   "cell_type": "code",
   "execution_count": 78,
   "metadata": {
    "execution": {
     "iopub.execute_input": "2021-07-17T07:26:30.206218Z",
     "iopub.status.busy": "2021-07-17T07:26:30.205755Z",
     "iopub.status.idle": "2021-07-17T07:26:30.221316Z",
     "shell.execute_reply": "2021-07-17T07:26:30.219780Z",
     "shell.execute_reply.started": "2021-07-17T07:26:30.206172Z"
    }
   },
   "outputs": [],
   "source": [
    "# Вынесем в блок предобработки\n",
    "\n",
    "# Поправим значение признака на 'EUROPEAN'\n",
    "index = data.query('vendor == \"AMERICAN\"').index\n",
    "data.loc[index, 'vendor'] = 'EUROPEAN'"
   ]
  },
  {
   "cell_type": "code",
   "execution_count": 79,
   "metadata": {
    "execution": {
     "iopub.execute_input": "2021-07-17T07:26:30.223452Z",
     "iopub.status.busy": "2021-07-17T07:26:30.222990Z",
     "iopub.status.idle": "2021-07-17T07:26:30.272242Z",
     "shell.execute_reply": "2021-07-17T07:26:30.271164Z",
     "shell.execute_reply.started": "2021-07-17T07:26:30.223403Z"
    }
   },
   "outputs": [
    {
     "name": "stdout",
     "output_type": "stream",
     "text": [
      "Проведем анализ для переменной vendor\n",
      "Тип данных:  object\n",
      "Всего значений: 87319\n",
      "Пустых значений: 0\n",
      "Значений, упомянутых более 10 раз: 2\n",
      "Уникальных значений: 2\n"
     ]
    },
    {
     "data": {
      "text/html": [
       "<div>\n",
       "<style scoped>\n",
       "    .dataframe tbody tr th:only-of-type {\n",
       "        vertical-align: middle;\n",
       "    }\n",
       "\n",
       "    .dataframe tbody tr th {\n",
       "        vertical-align: top;\n",
       "    }\n",
       "\n",
       "    .dataframe thead th {\n",
       "        text-align: right;\n",
       "    }\n",
       "</style>\n",
       "<table border=\"1\" class=\"dataframe\">\n",
       "  <thead>\n",
       "    <tr style=\"text-align: right;\">\n",
       "      <th></th>\n",
       "      <th>vendor</th>\n",
       "    </tr>\n",
       "  </thead>\n",
       "  <tbody>\n",
       "    <tr>\n",
       "      <th>EUROPEAN</th>\n",
       "      <td>57351</td>\n",
       "    </tr>\n",
       "    <tr>\n",
       "      <th>JAPANESE</th>\n",
       "      <td>29968</td>\n",
       "    </tr>\n",
       "  </tbody>\n",
       "</table>\n",
       "</div>"
      ],
      "text/plain": [
       "          vendor\n",
       "EUROPEAN   57351\n",
       "JAPANESE   29968"
      ]
     },
     "metadata": {},
     "output_type": "display_data"
    }
   ],
   "source": [
    "column_info(data, 'vendor')"
   ]
  },
  {
   "cell_type": "code",
   "execution_count": 80,
   "metadata": {
    "execution": {
     "iopub.execute_input": "2021-07-17T07:26:30.273630Z",
     "iopub.status.busy": "2021-07-17T07:26:30.273331Z",
     "iopub.status.idle": "2021-07-17T07:26:30.300152Z",
     "shell.execute_reply": "2021-07-17T07:26:30.298688Z",
     "shell.execute_reply.started": "2021-07-17T07:26:30.273580Z"
    }
   },
   "outputs": [],
   "source": [
    "# Преобразуем vendor в целочисленный формат. \n",
    "vendor_dict = {'EUROPEAN': 1, 'JAPANESE': 0}\n",
    "data.loc[:, 'vendor'] = data['vendor'].map(vendor_dict)"
   ]
  },
  {
   "cell_type": "code",
   "execution_count": 81,
   "metadata": {
    "execution": {
     "iopub.execute_input": "2021-07-17T07:26:30.303126Z",
     "iopub.status.busy": "2021-07-17T07:26:30.302564Z",
     "iopub.status.idle": "2021-07-17T07:26:30.309333Z",
     "shell.execute_reply": "2021-07-17T07:26:30.307517Z",
     "shell.execute_reply.started": "2021-07-17T07:26:30.303079Z"
    }
   },
   "outputs": [],
   "source": [
    "# отнесем признак к бинарным\n",
    "bin_cols.append('vendor')"
   ]
  },
  {
   "cell_type": "markdown",
   "metadata": {},
   "source": [
    "С признаком все хорошо. Оставляем как есть."
   ]
  },
  {
   "cell_type": "markdown",
   "metadata": {},
   "source": [
    "Признак **'model_name'**"
   ]
  },
  {
   "cell_type": "code",
   "execution_count": 82,
   "metadata": {
    "execution": {
     "iopub.execute_input": "2021-07-17T07:26:30.311858Z",
     "iopub.status.busy": "2021-07-17T07:26:30.311268Z",
     "iopub.status.idle": "2021-07-17T07:26:30.365057Z",
     "shell.execute_reply": "2021-07-17T07:26:30.363730Z",
     "shell.execute_reply.started": "2021-07-17T07:26:30.311709Z"
    }
   },
   "outputs": [
    {
     "name": "stdout",
     "output_type": "stream",
     "text": [
      "Проведем анализ для переменной model_name\n",
      "Тип данных:  object\n",
      "Всего значений: 87319\n",
      "Пустых значений: 0\n",
      "Значений, упомянутых более 10 раз: 319\n",
      "Уникальных значений: 544\n"
     ]
    },
    {
     "data": {
      "text/html": [
       "<div>\n",
       "<style scoped>\n",
       "    .dataframe tbody tr th:only-of-type {\n",
       "        vertical-align: middle;\n",
       "    }\n",
       "\n",
       "    .dataframe tbody tr th {\n",
       "        vertical-align: top;\n",
       "    }\n",
       "\n",
       "    .dataframe thead th {\n",
       "        text-align: right;\n",
       "    }\n",
       "</style>\n",
       "<table border=\"1\" class=\"dataframe\">\n",
       "  <thead>\n",
       "    <tr style=\"text-align: right;\">\n",
       "      <th></th>\n",
       "      <th>model_name</th>\n",
       "    </tr>\n",
       "  </thead>\n",
       "  <tbody>\n",
       "    <tr>\n",
       "      <th>E_KLASSE</th>\n",
       "      <td>2848</td>\n",
       "    </tr>\n",
       "    <tr>\n",
       "      <th>OCTAVIA</th>\n",
       "      <td>2604</td>\n",
       "    </tr>\n",
       "    <tr>\n",
       "      <th>POLO</th>\n",
       "      <td>2318</td>\n",
       "    </tr>\n",
       "    <tr>\n",
       "      <th>5ER</th>\n",
       "      <td>2201</td>\n",
       "    </tr>\n",
       "    <tr>\n",
       "      <th>3ER</th>\n",
       "      <td>2069</td>\n",
       "    </tr>\n",
       "    <tr>\n",
       "      <th>S_KLASSE</th>\n",
       "      <td>1858</td>\n",
       "    </tr>\n",
       "    <tr>\n",
       "      <th>X5</th>\n",
       "      <td>1746</td>\n",
       "    </tr>\n",
       "    <tr>\n",
       "      <th>QASHQAI</th>\n",
       "      <td>1732</td>\n",
       "    </tr>\n",
       "    <tr>\n",
       "      <th>X_TRAIL</th>\n",
       "      <td>1723</td>\n",
       "    </tr>\n",
       "    <tr>\n",
       "      <th>X3</th>\n",
       "      <td>1721</td>\n",
       "    </tr>\n",
       "  </tbody>\n",
       "</table>\n",
       "</div>"
      ],
      "text/plain": [
       "          model_name\n",
       "E_KLASSE        2848\n",
       "OCTAVIA         2604\n",
       "POLO            2318\n",
       "5ER             2201\n",
       "3ER             2069\n",
       "S_KLASSE        1858\n",
       "X5              1746\n",
       "QASHQAI         1732\n",
       "X_TRAIL         1723\n",
       "X3              1721"
      ]
     },
     "metadata": {},
     "output_type": "display_data"
    }
   ],
   "source": [
    "column_info(data, 'model_name')"
   ]
  },
  {
   "cell_type": "code",
   "execution_count": 83,
   "metadata": {
    "execution": {
     "iopub.execute_input": "2021-07-17T07:26:30.366944Z",
     "iopub.status.busy": "2021-07-17T07:26:30.366532Z",
     "iopub.status.idle": "2021-07-17T07:26:30.372901Z",
     "shell.execute_reply": "2021-07-17T07:26:30.371398Z",
     "shell.execute_reply.started": "2021-07-17T07:26:30.366911Z"
    }
   },
   "outputs": [],
   "source": [
    "# отнесем признак к категориальным\n",
    "cat_cols.append('model_name')"
   ]
  },
  {
   "cell_type": "markdown",
   "metadata": {},
   "source": [
    "С признаком все хорошо. Оставляем как есть."
   ]
  },
  {
   "cell_type": "markdown",
   "metadata": {},
   "source": [
    "Признак **'engine_displacement'**"
   ]
  },
  {
   "cell_type": "code",
   "execution_count": 84,
   "metadata": {
    "execution": {
     "iopub.execute_input": "2021-07-17T07:26:30.374839Z",
     "iopub.status.busy": "2021-07-17T07:26:30.374500Z",
     "iopub.status.idle": "2021-07-17T07:26:30.950400Z",
     "shell.execute_reply": "2021-07-17T07:26:30.949038Z",
     "shell.execute_reply.started": "2021-07-17T07:26:30.374808Z"
    }
   },
   "outputs": [
    {
     "name": "stdout",
     "output_type": "stream",
     "text": [
      "Всего значений: 87319\n",
      "Пустых значений: 0\n",
      "25-й перцентиль: 1.8, 75-й перцентиль: 3.0, IQR: 1.2,\n",
      "Границы значений: [0.0, 6.6],\n",
      "Границы выбросов: [2.220446049250313e-16, 4.8].\n",
      "Есть выбросы.\n",
      "Количество выбросов: 2205\n"
     ]
    },
    {
     "data": {
      "image/png": "[encoded data removed]",
      "text/plain": [
       "<Figure size 864x288 with 4 Axes>"
      ]
     },
     "metadata": {
      "needs_background": "light"
     },
     "output_type": "display_data"
    }
   ],
   "source": [
    "plot_column_info_log(data, 'engine_displacement')"
   ]
  },
  {
   "cell_type": "code",
   "execution_count": 85,
   "metadata": {
    "execution": {
     "iopub.execute_input": "2021-07-17T07:26:30.952242Z",
     "iopub.status.busy": "2021-07-17T07:26:30.951827Z",
     "iopub.status.idle": "2021-07-17T07:26:30.965229Z",
     "shell.execute_reply": "2021-07-17T07:26:30.963544Z",
     "shell.execute_reply.started": "2021-07-17T07:26:30.952201Z"
    }
   },
   "outputs": [],
   "source": [
    "# Выносим в блок предобработки\n",
    "\n",
    "# Возьмем логарифм от признака\n",
    "data.loc[:, 'engine_displacement'] = np.log(data['engine_displacement'] + 1)"
   ]
  },
  {
   "cell_type": "code",
   "execution_count": 86,
   "metadata": {
    "execution": {
     "iopub.execute_input": "2021-07-17T07:26:30.967670Z",
     "iopub.status.busy": "2021-07-17T07:26:30.967099Z",
     "iopub.status.idle": "2021-07-17T07:26:30.974817Z",
     "shell.execute_reply": "2021-07-17T07:26:30.972955Z",
     "shell.execute_reply.started": "2021-07-17T07:26:30.967621Z"
    }
   },
   "outputs": [],
   "source": [
    "# отнесем признак к количественным.\n",
    "num_cols.append('engine_displacement')"
   ]
  },
  {
   "cell_type": "markdown",
   "metadata": {},
   "source": [
    "Оставляем как есть. С выбросами ничего не делаем, 0 объем указан для электромобилей, что логично. Также есть машины с большим объемом двигателя (более 5 л.), это вполне реально, особенно для спорткаров или больших внедорожников."
   ]
  },
  {
   "cell_type": "markdown",
   "metadata": {},
   "source": [
    "Признак **'ownership'**"
   ]
  },
  {
   "cell_type": "code",
   "execution_count": 87,
   "metadata": {
    "execution": {
     "iopub.execute_input": "2021-07-17T07:26:30.976938Z",
     "iopub.status.busy": "2021-07-17T07:26:30.976455Z",
     "iopub.status.idle": "2021-07-17T07:26:31.022862Z",
     "shell.execute_reply": "2021-07-17T07:26:31.021889Z",
     "shell.execute_reply.started": "2021-07-17T07:26:30.976890Z"
    }
   },
   "outputs": [
    {
     "name": "stdout",
     "output_type": "stream",
     "text": [
      "Проведем анализ для переменной ownership\n",
      "Тип данных:  object\n",
      "Всего значений: 87319\n",
      "Пустых значений: 64365\n",
      "Значений, упомянутых более 10 раз: 306\n",
      "Уникальных значений: 553\n"
     ]
    },
    {
     "data": {
      "text/html": [
       "<div>\n",
       "<style scoped>\n",
       "    .dataframe tbody tr th:only-of-type {\n",
       "        vertical-align: middle;\n",
       "    }\n",
       "\n",
       "    .dataframe tbody tr th {\n",
       "        vertical-align: top;\n",
       "    }\n",
       "\n",
       "    .dataframe thead th {\n",
       "        text-align: right;\n",
       "    }\n",
       "</style>\n",
       "<table border=\"1\" class=\"dataframe\">\n",
       "  <thead>\n",
       "    <tr style=\"text-align: right;\">\n",
       "      <th></th>\n",
       "      <th>ownership</th>\n",
       "    </tr>\n",
       "  </thead>\n",
       "  <tbody>\n",
       "    <tr>\n",
       "      <th>{'year': 2020, 'month': 11}</th>\n",
       "      <td>250</td>\n",
       "    </tr>\n",
       "    <tr>\n",
       "      <th>{'year': 2021, 'month': 1}</th>\n",
       "      <td>234</td>\n",
       "    </tr>\n",
       "    <tr>\n",
       "      <th>{'year': 2020, 'month': 10}</th>\n",
       "      <td>231</td>\n",
       "    </tr>\n",
       "    <tr>\n",
       "      <th>{'year': 2020, 'month': 12}</th>\n",
       "      <td>225</td>\n",
       "    </tr>\n",
       "    <tr>\n",
       "      <th>{'year': 2020, 'month': 8}</th>\n",
       "      <td>222</td>\n",
       "    </tr>\n",
       "    <tr>\n",
       "      <th>{'year': 2020, 'month': 9}</th>\n",
       "      <td>221</td>\n",
       "    </tr>\n",
       "    <tr>\n",
       "      <th>1 год и 10 месяцев</th>\n",
       "      <td>209</td>\n",
       "    </tr>\n",
       "    <tr>\n",
       "      <th>2 года</th>\n",
       "      <td>197</td>\n",
       "    </tr>\n",
       "    <tr>\n",
       "      <th>1 год</th>\n",
       "      <td>194</td>\n",
       "    </tr>\n",
       "    <tr>\n",
       "      <th>1 год и 1 месяц</th>\n",
       "      <td>193</td>\n",
       "    </tr>\n",
       "  </tbody>\n",
       "</table>\n",
       "</div>"
      ],
      "text/plain": [
       "                             ownership\n",
       "{'year': 2020, 'month': 11}        250\n",
       "{'year': 2021, 'month': 1}         234\n",
       "{'year': 2020, 'month': 10}        231\n",
       "{'year': 2020, 'month': 12}        225\n",
       "{'year': 2020, 'month': 8}         222\n",
       "{'year': 2020, 'month': 9}         221\n",
       "1 год и 10 месяцев                 209\n",
       "2 года                             197\n",
       "1 год                              194\n",
       "1 год и 1 месяц                    193"
      ]
     },
     "metadata": {},
     "output_type": "display_data"
    }
   ],
   "source": [
    "column_info(data, 'ownership')"
   ]
  },
  {
   "cell_type": "code",
   "execution_count": 88,
   "metadata": {
    "execution": {
     "iopub.execute_input": "2021-07-17T07:26:31.024253Z",
     "iopub.status.busy": "2021-07-17T07:26:31.023976Z",
     "iopub.status.idle": "2021-07-17T07:26:31.029943Z",
     "shell.execute_reply": "2021-07-17T07:26:31.028455Z",
     "shell.execute_reply.started": "2021-07-17T07:26:31.024226Z"
    }
   },
   "outputs": [],
   "source": [
    "# Временно не будем рассматривать признаки 'ownership', 'complectation_dict', 'equipment_dict'\n",
    "\n",
    "del_cols.append('ownership')\n",
    "del_cols.append('complectation_dict')\n",
    "del_cols.append('equipment_dict')"
   ]
  },
  {
   "cell_type": "markdown",
   "metadata": {},
   "source": [
    "Рассмотрим признак **'parsing_unixtime'**"
   ]
  },
  {
   "cell_type": "code",
   "execution_count": 89,
   "metadata": {
    "execution": {
     "iopub.execute_input": "2021-07-17T07:26:31.031764Z",
     "iopub.status.busy": "2021-07-17T07:26:31.031404Z",
     "iopub.status.idle": "2021-07-17T07:26:31.067358Z",
     "shell.execute_reply": "2021-07-17T07:26:31.066073Z",
     "shell.execute_reply.started": "2021-07-17T07:26:31.031729Z"
    }
   },
   "outputs": [
    {
     "name": "stdout",
     "output_type": "stream",
     "text": [
      "Проведем анализ для переменной parsing_unixtime\n",
      "Тип данных:  int64\n",
      "Всего значений: 87319\n",
      "Пустых значений: 0\n",
      "Значений, упомянутых более 10 раз: 1\n",
      "Уникальных значений: 34687\n"
     ]
    },
    {
     "data": {
      "text/html": [
       "<div>\n",
       "<style scoped>\n",
       "    .dataframe tbody tr th:only-of-type {\n",
       "        vertical-align: middle;\n",
       "    }\n",
       "\n",
       "    .dataframe tbody tr th {\n",
       "        vertical-align: top;\n",
       "    }\n",
       "\n",
       "    .dataframe thead th {\n",
       "        text-align: right;\n",
       "    }\n",
       "</style>\n",
       "<table border=\"1\" class=\"dataframe\">\n",
       "  <thead>\n",
       "    <tr style=\"text-align: right;\">\n",
       "      <th></th>\n",
       "      <th>parsing_unixtime</th>\n",
       "    </tr>\n",
       "  </thead>\n",
       "  <tbody>\n",
       "    <tr>\n",
       "      <th>1625882847</th>\n",
       "      <td>52633</td>\n",
       "    </tr>\n",
       "    <tr>\n",
       "      <th>1603113575</th>\n",
       "      <td>1</td>\n",
       "    </tr>\n",
       "    <tr>\n",
       "      <th>1603222130</th>\n",
       "      <td>1</td>\n",
       "    </tr>\n",
       "    <tr>\n",
       "      <th>1603215985</th>\n",
       "      <td>1</td>\n",
       "    </tr>\n",
       "    <tr>\n",
       "      <th>1603218032</th>\n",
       "      <td>1</td>\n",
       "    </tr>\n",
       "    <tr>\n",
       "      <th>1603241317</th>\n",
       "      <td>1</td>\n",
       "    </tr>\n",
       "    <tr>\n",
       "      <th>1603125869</th>\n",
       "      <td>1</td>\n",
       "    </tr>\n",
       "    <tr>\n",
       "      <th>1603127916</th>\n",
       "      <td>1</td>\n",
       "    </tr>\n",
       "    <tr>\n",
       "      <th>1603662259</th>\n",
       "      <td>1</td>\n",
       "    </tr>\n",
       "    <tr>\n",
       "      <th>1603300056</th>\n",
       "      <td>1</td>\n",
       "    </tr>\n",
       "  </tbody>\n",
       "</table>\n",
       "</div>"
      ],
      "text/plain": [
       "            parsing_unixtime\n",
       "1625882847             52633\n",
       "1603113575                 1\n",
       "1603222130                 1\n",
       "1603215985                 1\n",
       "1603218032                 1\n",
       "1603241317                 1\n",
       "1603125869                 1\n",
       "1603127916                 1\n",
       "1603662259                 1\n",
       "1603300056                 1"
      ]
     },
     "metadata": {},
     "output_type": "display_data"
    }
   ],
   "source": [
    "column_info(data, 'parsing_unixtime')"
   ]
  },
  {
   "cell_type": "code",
   "execution_count": 90,
   "metadata": {
    "execution": {
     "iopub.execute_input": "2021-07-17T07:26:31.069236Z",
     "iopub.status.busy": "2021-07-17T07:26:31.068941Z",
     "iopub.status.idle": "2021-07-17T07:26:31.173824Z",
     "shell.execute_reply": "2021-07-17T07:26:31.172928Z",
     "shell.execute_reply.started": "2021-07-17T07:26:31.069207Z"
    }
   },
   "outputs": [],
   "source": [
    "# Пустых значений нет. Переведем в формат времени\n",
    "data.loc[:, 'parsing_unixtime'] = data['parsing_unixtime'].apply(lambda x: datetime.fromtimestamp(x))"
   ]
  },
  {
   "cell_type": "code",
   "execution_count": 91,
   "metadata": {
    "execution": {
     "iopub.execute_input": "2021-07-17T07:26:31.175844Z",
     "iopub.status.busy": "2021-07-17T07:26:31.175153Z",
     "iopub.status.idle": "2021-07-17T07:26:31.180312Z",
     "shell.execute_reply": "2021-07-17T07:26:31.179231Z",
     "shell.execute_reply.started": "2021-07-17T07:26:31.175795Z"
    }
   },
   "outputs": [],
   "source": [
    "# определим к временным признакам\n",
    "time_cols.append('parsing_unixtime')"
   ]
  },
  {
   "cell_type": "code",
   "execution_count": 92,
   "metadata": {
    "execution": {
     "iopub.execute_input": "2021-07-17T07:26:31.182446Z",
     "iopub.status.busy": "2021-07-17T07:26:31.182046Z",
     "iopub.status.idle": "2021-07-17T07:26:31.676782Z",
     "shell.execute_reply": "2021-07-17T07:26:31.675240Z",
     "shell.execute_reply.started": "2021-07-17T07:26:31.182413Z"
    }
   },
   "outputs": [],
   "source": [
    "# Добавим новый признак 'usd_rub_rate_date' - курс доллара к рублю на момент выгрузки данных\n",
    "usd_rub_rate_date = {\n",
    "    '10.07.2021': 74.4675, '26.10.2020': 76.4667, '25.10.2020': 76.4667,\n",
    "    '24.10.2020': 76.4667, '21.10.2020': 77.7780, '20.10.2020': 77.9241, '19.10.2020': 77.9644\n",
    "}\n",
    "data.loc[:, 'usd_rub_rate_date'] = data['parsing_unixtime'].dt.strftime('%d.%m.%Y').map(usd_rub_rate_date)"
   ]
  },
  {
   "cell_type": "code",
   "execution_count": 93,
   "metadata": {
    "execution": {
     "iopub.execute_input": "2021-07-17T07:26:31.679318Z",
     "iopub.status.busy": "2021-07-17T07:26:31.678959Z",
     "iopub.status.idle": "2021-07-17T07:26:31.684625Z",
     "shell.execute_reply": "2021-07-17T07:26:31.683141Z",
     "shell.execute_reply.started": "2021-07-17T07:26:31.679288Z"
    }
   },
   "outputs": [],
   "source": [
    "# отнесем признак к техническим, пометим как к удалению.\n",
    "del_cols.append('usd_rub_rate_date')"
   ]
  },
  {
   "cell_type": "markdown",
   "metadata": {},
   "source": []
  },
  {
   "cell_type": "markdown",
   "metadata": {},
   "source": [
    "Рассмотрим целевой признак **'price'**"
   ]
  },
  {
   "cell_type": "code",
   "execution_count": 94,
   "metadata": {
    "execution": {
     "iopub.execute_input": "2021-07-17T07:26:31.687215Z",
     "iopub.status.busy": "2021-07-17T07:26:31.686885Z",
     "iopub.status.idle": "2021-07-17T07:26:32.246449Z",
     "shell.execute_reply": "2021-07-17T07:26:32.245468Z",
     "shell.execute_reply.started": "2021-07-17T07:26:31.687185Z"
    }
   },
   "outputs": [
    {
     "name": "stdout",
     "output_type": "stream",
     "text": [
      "Всего значений: 52633\n",
      "Пустых значений: 210\n",
      "25-й перцентиль: 800000.0, 75-й перцентиль: 4329000.0, IQR: 3529000.0,\n",
      "Границы значений: [20000.0, 55000000.0],\n",
      "Границы выбросов: [-4493500.0, 9622500.0].\n",
      "Есть выбросы.\n",
      "Количество выбросов: 3357\n"
     ]
    },
    {
     "data": {
      "image/png": "[encoded data removed]",
      "text/plain": [
       "<Figure size 864x288 with 4 Axes>"
      ]
     },
     "metadata": {
      "needs_background": "light"
     },
     "output_type": "display_data"
    }
   ],
   "source": [
    "plot_column_info_log(data.query('sample == 1'), 'price')"
   ]
  },
  {
   "cell_type": "code",
   "execution_count": 95,
   "metadata": {
    "execution": {
     "iopub.execute_input": "2021-07-17T07:26:32.247981Z",
     "iopub.status.busy": "2021-07-17T07:26:32.247673Z",
     "iopub.status.idle": "2021-07-17T07:26:32.291031Z",
     "shell.execute_reply": "2021-07-17T07:26:32.289731Z",
     "shell.execute_reply.started": "2021-07-17T07:26:32.247951Z"
    }
   },
   "outputs": [],
   "source": [
    "# Выносим в блок предобработки\n",
    "\n",
    "# Заполним пустые значения медианным значение для данной марки\n",
    "index_nan_price = data.query('sample == 1 and price != price').index\n",
    "median_price_model = data.query('sample == 1 and price == price').groupby('model_name')['price'].median()\n",
    "data.loc[index_nan_price, 'price'] = data.loc[index_nan_price, 'model_name'].map(median_price_model)"
   ]
  },
  {
   "cell_type": "code",
   "execution_count": 96,
   "metadata": {
    "execution": {
     "iopub.execute_input": "2021-07-17T07:26:32.294070Z",
     "iopub.status.busy": "2021-07-17T07:26:32.293732Z",
     "iopub.status.idle": "2021-07-17T07:26:32.861858Z",
     "shell.execute_reply": "2021-07-17T07:26:32.860439Z",
     "shell.execute_reply.started": "2021-07-17T07:26:32.294042Z"
    }
   },
   "outputs": [
    {
     "name": "stdout",
     "output_type": "stream",
     "text": [
      "Всего значений: 52633\n",
      "Пустых значений: 0\n",
      "25-й перцентиль: 800000.0, 75-й перцентиль: 4317000.0, IQR: 3517000.0,\n",
      "Границы значений: [20000.0, 55000000.0],\n",
      "Границы выбросов: [-4475500.0, 9592500.0].\n",
      "Есть выбросы.\n",
      "Количество выбросов: 3394\n"
     ]
    },
    {
     "data": {
      "image/png": "[encoded data removed]",
      "text/plain": [
       "<Figure size 864x288 with 4 Axes>"
      ]
     },
     "metadata": {
      "needs_background": "light"
     },
     "output_type": "display_data"
    }
   ],
   "source": [
    "plot_column_info_log(data.query('sample == 1'), 'price')"
   ]
  },
  {
   "cell_type": "code",
   "execution_count": 97,
   "metadata": {
    "execution": {
     "iopub.execute_input": "2021-07-17T07:26:32.863922Z",
     "iopub.status.busy": "2021-07-17T07:26:32.863454Z",
     "iopub.status.idle": "2021-07-17T07:26:32.878565Z",
     "shell.execute_reply": "2021-07-17T07:26:32.876905Z",
     "shell.execute_reply.started": "2021-07-17T07:26:32.863891Z"
    }
   },
   "outputs": [],
   "source": [
    "# Выносим в блок предобработки\n",
    "\n",
    "# Добавим новый признак - целевой признак в usd\n",
    "data.loc[:, 'price_usd'] = data['price'] / data['usd_rub_rate_date']"
   ]
  },
  {
   "cell_type": "code",
   "execution_count": 98,
   "metadata": {
    "execution": {
     "iopub.execute_input": "2021-07-17T07:26:32.880881Z",
     "iopub.status.busy": "2021-07-17T07:26:32.880377Z",
     "iopub.status.idle": "2021-07-17T07:26:33.507025Z",
     "shell.execute_reply": "2021-07-17T07:26:33.505125Z",
     "shell.execute_reply.started": "2021-07-17T07:26:32.880833Z"
    }
   },
   "outputs": [
    {
     "name": "stdout",
     "output_type": "stream",
     "text": [
      "Всего значений: 52633\n",
      "Пустых значений: 0\n",
      "25-й перцентиль: 10742.94155168362, 75-й перцентиль: 57971.59834827274, IQR: 47228.656796589115,\n",
      "Границы значений: [268.5735387920905, 738577.2316782488],\n",
      "Границы выбросов: [-60100.04364320006, 128814.58354315642].\n",
      "Есть выбросы.\n",
      "Количество выбросов: 3394\n"
     ]
    },
    {
     "data": {
      "image/png": "[encoded data removed]",
      "text/plain": [
       "<Figure size 864x288 with 4 Axes>"
      ]
     },
     "metadata": {
      "needs_background": "light"
     },
     "output_type": "display_data"
    }
   ],
   "source": [
    "plot_column_info_log(data.query('sample == 1'), 'price_usd')"
   ]
  },
  {
   "cell_type": "code",
   "execution_count": 99,
   "metadata": {
    "execution": {
     "iopub.execute_input": "2021-07-17T07:26:33.510328Z",
     "iopub.status.busy": "2021-07-17T07:26:33.509846Z",
     "iopub.status.idle": "2021-07-17T07:26:33.538539Z",
     "shell.execute_reply": "2021-07-17T07:26:33.537287Z",
     "shell.execute_reply.started": "2021-07-17T07:26:33.510281Z"
    }
   },
   "outputs": [],
   "source": [
    "# Выносим в блок предобработки\n",
    "\n",
    "# Возьмем логарифм от целевого признака\n",
    "data.loc[:, 'price_log'] = np.log(data['price'] + 1)\n",
    "data.loc[:, 'price_usd_log'] = np.log(data['price_usd'] + 1)\n",
    "\n",
    "# определим все 4 признака к целевым\n",
    "target_cols += ['price', 'price_usd', 'price_log', 'price_usd_log']"
   ]
  },
  {
   "cell_type": "code",
   "execution_count": 100,
   "metadata": {
    "execution": {
     "iopub.execute_input": "2021-07-17T07:26:33.540324Z",
     "iopub.status.busy": "2021-07-17T07:26:33.540018Z",
     "iopub.status.idle": "2021-07-17T07:26:33.548698Z",
     "shell.execute_reply": "2021-07-17T07:26:33.547672Z",
     "shell.execute_reply.started": "2021-07-17T07:26:33.540293Z"
    }
   },
   "outputs": [
    {
     "data": {
      "text/plain": [
       "Index(['body_type', 'brand', 'color', 'fuel_type', 'mileage', 'model_date',\n",
       "       'name', 'number_of_doors', 'engine_power', 'wheel', 'drive_type', 'pts',\n",
       "       'owners', 'vehicle_transmission', 'production_date', 'vendor',\n",
       "       'model_name', 'engine_displacement', 'ownership', 'complectation_dict',\n",
       "       'equipment_dict', 'parsing_unixtime', 'price', 'sample', 'pts_isnan',\n",
       "       'is_new', 'owners_isnan', 'usd_rub_rate_date', 'price_usd', 'price_log',\n",
       "       'price_usd_log'],\n",
       "      dtype='object')"
      ]
     },
     "metadata": {},
     "output_type": "display_data"
    },
    {
     "data": {
      "text/plain": [
       "31"
      ]
     },
     "execution_count": 100,
     "metadata": {},
     "output_type": "execute_result"
    }
   ],
   "source": [
    "display(data.columns)\n",
    "len(data.columns)"
   ]
  },
  {
   "cell_type": "code",
   "execution_count": 101,
   "metadata": {
    "execution": {
     "iopub.execute_input": "2021-07-17T07:26:33.550359Z",
     "iopub.status.busy": "2021-07-17T07:26:33.550052Z",
     "iopub.status.idle": "2021-07-17T07:26:33.576983Z",
     "shell.execute_reply": "2021-07-17T07:26:33.575678Z",
     "shell.execute_reply.started": "2021-07-17T07:26:33.550329Z"
    }
   },
   "outputs": [
    {
     "data": {
      "text/plain": [
       "['parsing_unixtime']"
      ]
     },
     "metadata": {},
     "output_type": "display_data"
    },
    {
     "data": {
      "text/plain": [
       "['pts_isnan', 'pts', 'is_new', 'wheel', 'owners_isnan', 'vendor']"
      ]
     },
     "metadata": {},
     "output_type": "display_data"
    },
    {
     "data": {
      "text/plain": [
       "['body_type',\n",
       " 'brand',\n",
       " 'color',\n",
       " 'fuel_type',\n",
       " 'drive_type',\n",
       " 'vehicle_transmission',\n",
       " 'model_name']"
      ]
     },
     "metadata": {},
     "output_type": "display_data"
    },
    {
     "data": {
      "text/plain": [
       "['mileage',\n",
       " 'model_date',\n",
       " 'number_of_doors',\n",
       " 'engine_power',\n",
       " 'owners',\n",
       " 'production_date',\n",
       " 'engine_displacement']"
      ]
     },
     "metadata": {},
     "output_type": "display_data"
    },
    {
     "data": {
      "text/plain": [
       "['name',\n",
       " 'ownership',\n",
       " 'complectation_dict',\n",
       " 'equipment_dict',\n",
       " 'usd_rub_rate_date']"
      ]
     },
     "metadata": {},
     "output_type": "display_data"
    },
    {
     "data": {
      "text/plain": [
       "29"
      ]
     },
     "execution_count": 101,
     "metadata": {},
     "output_type": "execute_result"
    }
   ],
   "source": [
    "display(time_cols)\n",
    "display(bin_cols)\n",
    "display(cat_cols)\n",
    "display(num_cols)\n",
    "display(del_cols)\n",
    "len(time_cols + bin_cols + cat_cols + num_cols + del_cols + ['price', 'price_usd', 'sample'])"
   ]
  },
  {
   "cell_type": "code",
   "execution_count": 102,
   "metadata": {
    "execution": {
     "iopub.execute_input": "2021-07-17T07:26:33.579951Z",
     "iopub.status.busy": "2021-07-17T07:26:33.578961Z",
     "iopub.status.idle": "2021-07-17T07:26:33.839920Z",
     "shell.execute_reply": "2021-07-17T07:26:33.838622Z",
     "shell.execute_reply.started": "2021-07-17T07:26:33.579895Z"
    }
   },
   "outputs": [
    {
     "data": {
      "text/html": [
       "<div>\n",
       "<style scoped>\n",
       "    .dataframe tbody tr th:only-of-type {\n",
       "        vertical-align: middle;\n",
       "    }\n",
       "\n",
       "    .dataframe tbody tr th {\n",
       "        vertical-align: top;\n",
       "    }\n",
       "\n",
       "    .dataframe thead th {\n",
       "        text-align: right;\n",
       "    }\n",
       "</style>\n",
       "<table border=\"1\" class=\"dataframe\">\n",
       "  <thead>\n",
       "    <tr style=\"text-align: right;\">\n",
       "      <th></th>\n",
       "      <th>имя признака</th>\n",
       "      <th>тип</th>\n",
       "      <th># значений</th>\n",
       "      <th># пропусков(NaN)</th>\n",
       "      <th># уникальных</th>\n",
       "      <th>в первой строке</th>\n",
       "      <th>во второй строке</th>\n",
       "      <th>в третьей строке</th>\n",
       "    </tr>\n",
       "  </thead>\n",
       "  <tbody>\n",
       "    <tr>\n",
       "      <th>0</th>\n",
       "      <td>body_type</td>\n",
       "      <td>object</td>\n",
       "      <td>87319</td>\n",
       "      <td>0</td>\n",
       "      <td>94</td>\n",
       "      <td>лифтбек</td>\n",
       "      <td>лифтбек</td>\n",
       "      <td>лифтбек</td>\n",
       "    </tr>\n",
       "    <tr>\n",
       "      <th>1</th>\n",
       "      <td>brand</td>\n",
       "      <td>object</td>\n",
       "      <td>87319</td>\n",
       "      <td>0</td>\n",
       "      <td>12</td>\n",
       "      <td>SKODA</td>\n",
       "      <td>SKODA</td>\n",
       "      <td>SKODA</td>\n",
       "    </tr>\n",
       "    <tr>\n",
       "      <th>2</th>\n",
       "      <td>color</td>\n",
       "      <td>object</td>\n",
       "      <td>87319</td>\n",
       "      <td>0</td>\n",
       "      <td>16</td>\n",
       "      <td>синий</td>\n",
       "      <td>чёрный</td>\n",
       "      <td>серый</td>\n",
       "    </tr>\n",
       "    <tr>\n",
       "      <th>3</th>\n",
       "      <td>fuel_type</td>\n",
       "      <td>object</td>\n",
       "      <td>87319</td>\n",
       "      <td>0</td>\n",
       "      <td>5</td>\n",
       "      <td>бензин</td>\n",
       "      <td>бензин</td>\n",
       "      <td>бензин</td>\n",
       "    </tr>\n",
       "    <tr>\n",
       "      <th>4</th>\n",
       "      <td>drive_type</td>\n",
       "      <td>object</td>\n",
       "      <td>87319</td>\n",
       "      <td>0</td>\n",
       "      <td>3</td>\n",
       "      <td>передний</td>\n",
       "      <td>передний</td>\n",
       "      <td>передний</td>\n",
       "    </tr>\n",
       "    <tr>\n",
       "      <th>5</th>\n",
       "      <td>vehicle_transmission</td>\n",
       "      <td>object</td>\n",
       "      <td>87319</td>\n",
       "      <td>0</td>\n",
       "      <td>4</td>\n",
       "      <td>ROBOT</td>\n",
       "      <td>MECHANICAL</td>\n",
       "      <td>ROBOT</td>\n",
       "    </tr>\n",
       "    <tr>\n",
       "      <th>6</th>\n",
       "      <td>model_name</td>\n",
       "      <td>object</td>\n",
       "      <td>87319</td>\n",
       "      <td>0</td>\n",
       "      <td>544</td>\n",
       "      <td>OCTAVIA</td>\n",
       "      <td>OCTAVIA</td>\n",
       "      <td>SUPERB</td>\n",
       "    </tr>\n",
       "    <tr>\n",
       "      <th>7</th>\n",
       "      <td>pts_isnan</td>\n",
       "      <td>uint8</td>\n",
       "      <td>87319</td>\n",
       "      <td>0</td>\n",
       "      <td>2</td>\n",
       "      <td>0</td>\n",
       "      <td>0</td>\n",
       "      <td>0</td>\n",
       "    </tr>\n",
       "    <tr>\n",
       "      <th>8</th>\n",
       "      <td>pts</td>\n",
       "      <td>int64</td>\n",
       "      <td>87319</td>\n",
       "      <td>0</td>\n",
       "      <td>2</td>\n",
       "      <td>1</td>\n",
       "      <td>1</td>\n",
       "      <td>1</td>\n",
       "    </tr>\n",
       "    <tr>\n",
       "      <th>9</th>\n",
       "      <td>is_new</td>\n",
       "      <td>int64</td>\n",
       "      <td>87319</td>\n",
       "      <td>0</td>\n",
       "      <td>2</td>\n",
       "      <td>0</td>\n",
       "      <td>0</td>\n",
       "      <td>0</td>\n",
       "    </tr>\n",
       "    <tr>\n",
       "      <th>10</th>\n",
       "      <td>wheel</td>\n",
       "      <td>int64</td>\n",
       "      <td>87319</td>\n",
       "      <td>0</td>\n",
       "      <td>2</td>\n",
       "      <td>1</td>\n",
       "      <td>1</td>\n",
       "      <td>1</td>\n",
       "    </tr>\n",
       "    <tr>\n",
       "      <th>11</th>\n",
       "      <td>owners_isnan</td>\n",
       "      <td>uint8</td>\n",
       "      <td>87319</td>\n",
       "      <td>0</td>\n",
       "      <td>2</td>\n",
       "      <td>0</td>\n",
       "      <td>0</td>\n",
       "      <td>0</td>\n",
       "    </tr>\n",
       "    <tr>\n",
       "      <th>12</th>\n",
       "      <td>vendor</td>\n",
       "      <td>int64</td>\n",
       "      <td>87319</td>\n",
       "      <td>0</td>\n",
       "      <td>2</td>\n",
       "      <td>1</td>\n",
       "      <td>1</td>\n",
       "      <td>1</td>\n",
       "    </tr>\n",
       "  </tbody>\n",
       "</table>\n",
       "</div>"
      ],
      "text/plain": [
       "            имя признака     тип # значений # пропусков(NaN) # уникальных  \\\n",
       "0              body_type  object      87319                0           94   \n",
       "1                  brand  object      87319                0           12   \n",
       "2                  color  object      87319                0           16   \n",
       "3              fuel_type  object      87319                0            5   \n",
       "4             drive_type  object      87319                0            3   \n",
       "5   vehicle_transmission  object      87319                0            4   \n",
       "6             model_name  object      87319                0          544   \n",
       "7              pts_isnan   uint8      87319                0            2   \n",
       "8                    pts   int64      87319                0            2   \n",
       "9                 is_new   int64      87319                0            2   \n",
       "10                 wheel   int64      87319                0            2   \n",
       "11          owners_isnan   uint8      87319                0            2   \n",
       "12                vendor   int64      87319                0            2   \n",
       "\n",
       "   в первой строке во второй строке в третьей строке  \n",
       "0          лифтбек          лифтбек          лифтбек  \n",
       "1            SKODA            SKODA            SKODA  \n",
       "2            синий           чёрный            серый  \n",
       "3           бензин           бензин           бензин  \n",
       "4         передний         передний         передний  \n",
       "5            ROBOT       MECHANICAL            ROBOT  \n",
       "6          OCTAVIA          OCTAVIA           SUPERB  \n",
       "7                0                0                0  \n",
       "8                1                1                1  \n",
       "9                0                0                0  \n",
       "10               1                1                1  \n",
       "11               0                0                0  \n",
       "12               1                1                1  "
      ]
     },
     "metadata": {},
     "output_type": "display_data"
    }
   ],
   "source": [
    "# Выведем информацию после изменений\n",
    "data_full_info(data[cat_cols + bin_cols], full=False, short=False)"
   ]
  },
  {
   "cell_type": "code",
   "execution_count": 103,
   "metadata": {
    "execution": {
     "iopub.execute_input": "2021-07-17T07:26:33.842085Z",
     "iopub.status.busy": "2021-07-17T07:26:33.841651Z",
     "iopub.status.idle": "2021-07-17T07:26:33.915900Z",
     "shell.execute_reply": "2021-07-17T07:26:33.913891Z",
     "shell.execute_reply.started": "2021-07-17T07:26:33.842032Z"
    }
   },
   "outputs": [
    {
     "data": {
      "text/html": [
       "<div>\n",
       "<style scoped>\n",
       "    .dataframe tbody tr th:only-of-type {\n",
       "        vertical-align: middle;\n",
       "    }\n",
       "\n",
       "    .dataframe tbody tr th {\n",
       "        vertical-align: top;\n",
       "    }\n",
       "\n",
       "    .dataframe thead th {\n",
       "        text-align: right;\n",
       "    }\n",
       "</style>\n",
       "<table border=\"1\" class=\"dataframe\">\n",
       "  <thead>\n",
       "    <tr style=\"text-align: right;\">\n",
       "      <th></th>\n",
       "      <th>имя признака</th>\n",
       "      <th>тип</th>\n",
       "      <th># значений</th>\n",
       "      <th># пропусков(NaN)</th>\n",
       "      <th># уникальных</th>\n",
       "      <th>в первой строке</th>\n",
       "      <th>во второй строке</th>\n",
       "      <th>в третьей строке</th>\n",
       "    </tr>\n",
       "  </thead>\n",
       "  <tbody>\n",
       "    <tr>\n",
       "      <th>0</th>\n",
       "      <td>mileage</td>\n",
       "      <td>float64</td>\n",
       "      <td>87319</td>\n",
       "      <td>0</td>\n",
       "      <td>21957</td>\n",
       "      <td>11.2118</td>\n",
       "      <td>11.0115</td>\n",
       "      <td>11.3851</td>\n",
       "    </tr>\n",
       "    <tr>\n",
       "      <th>1</th>\n",
       "      <td>model_date</td>\n",
       "      <td>float64</td>\n",
       "      <td>87319</td>\n",
       "      <td>0</td>\n",
       "      <td>67</td>\n",
       "      <td>2013</td>\n",
       "      <td>2017</td>\n",
       "      <td>2013</td>\n",
       "    </tr>\n",
       "    <tr>\n",
       "      <th>2</th>\n",
       "      <td>number_of_doors</td>\n",
       "      <td>float64</td>\n",
       "      <td>87319</td>\n",
       "      <td>0</td>\n",
       "      <td>5</td>\n",
       "      <td>5</td>\n",
       "      <td>5</td>\n",
       "      <td>5</td>\n",
       "    </tr>\n",
       "    <tr>\n",
       "      <th>3</th>\n",
       "      <td>engine_power</td>\n",
       "      <td>float64</td>\n",
       "      <td>87319</td>\n",
       "      <td>0</td>\n",
       "      <td>331</td>\n",
       "      <td>4.66344</td>\n",
       "      <td>4.70953</td>\n",
       "      <td>5.03044</td>\n",
       "    </tr>\n",
       "    <tr>\n",
       "      <th>4</th>\n",
       "      <td>owners</td>\n",
       "      <td>float64</td>\n",
       "      <td>87319</td>\n",
       "      <td>0</td>\n",
       "      <td>4</td>\n",
       "      <td>3</td>\n",
       "      <td>1</td>\n",
       "      <td>1</td>\n",
       "    </tr>\n",
       "    <tr>\n",
       "      <th>5</th>\n",
       "      <td>production_date</td>\n",
       "      <td>int64</td>\n",
       "      <td>87319</td>\n",
       "      <td>0</td>\n",
       "      <td>71</td>\n",
       "      <td>2014</td>\n",
       "      <td>2017</td>\n",
       "      <td>2014</td>\n",
       "    </tr>\n",
       "    <tr>\n",
       "      <th>6</th>\n",
       "      <td>engine_displacement</td>\n",
       "      <td>float64</td>\n",
       "      <td>87319</td>\n",
       "      <td>0</td>\n",
       "      <td>55</td>\n",
       "      <td>0.788457</td>\n",
       "      <td>0.955511</td>\n",
       "      <td>1.02962</td>\n",
       "    </tr>\n",
       "  </tbody>\n",
       "</table>\n",
       "</div>"
      ],
      "text/plain": [
       "          имя признака      тип # значений # пропусков(NaN) # уникальных  \\\n",
       "0              mileage  float64      87319                0        21957   \n",
       "1           model_date  float64      87319                0           67   \n",
       "2      number_of_doors  float64      87319                0            5   \n",
       "3         engine_power  float64      87319                0          331   \n",
       "4               owners  float64      87319                0            4   \n",
       "5      production_date    int64      87319                0           71   \n",
       "6  engine_displacement  float64      87319                0           55   \n",
       "\n",
       "  в первой строке во второй строке в третьей строке  \n",
       "0         11.2118          11.0115          11.3851  \n",
       "1            2013             2017             2013  \n",
       "2               5                5                5  \n",
       "3         4.66344          4.70953          5.03044  \n",
       "4               3                1                1  \n",
       "5            2014             2017             2014  \n",
       "6        0.788457         0.955511          1.02962  "
      ]
     },
     "metadata": {},
     "output_type": "display_data"
    }
   ],
   "source": [
    "# Выведем информацию после изменений\n",
    "data_full_info(data[num_cols], full=False, short=False)"
   ]
  },
  {
   "cell_type": "code",
   "execution_count": 104,
   "metadata": {
    "execution": {
     "iopub.execute_input": "2021-07-17T07:26:33.918444Z",
     "iopub.status.busy": "2021-07-17T07:26:33.917978Z",
     "iopub.status.idle": "2021-07-17T07:26:33.939992Z",
     "shell.execute_reply": "2021-07-17T07:26:33.938574Z",
     "shell.execute_reply.started": "2021-07-17T07:26:33.918396Z"
    }
   },
   "outputs": [],
   "source": [
    "def clear_and_prepare_data(data_in: pd.DataFrame) -> pd.DataFrame:\n",
    "    # Создадим в блок предобработки\n",
    "    \n",
    "    data = data_in.copy()\n",
    "    \n",
    "    # Данный объект имеет очень много пропусков, в том числе и в полях model_date, name, number_of_doors, engine_power, drive_type, vehicle_transmission\n",
    "    # Удалим его\n",
    "    data = data.dropna(subset=['body_type'])\n",
    "    # Приведем значения признака body_type к нижнему регистру\n",
    "    data.loc[:, 'body_type'] = data['body_type'].apply(lambda x: str(x).lower())\n",
    "\n",
    "    # Есть пустые значения. Заполняем пустые значения самым распространенным значением\n",
    "    data = replace_nan(data, 'pts', 'mode')\n",
    "    # Преобразуем education в целочисленный формат. \n",
    "    pts_dict = {'ORIGINAL': 1, 'DUPLICATE': 0}\n",
    "    data.loc[:, 'pts'] = data['pts'].map(pts_dict)\n",
    "\n",
    "    # Возьмем логарифм от признака\n",
    "    data.loc[:, 'mileage'] = np.log(data['mileage'] + 1)\n",
    "    # Добавим новый признак 'is_new' Новая машина или б/у\n",
    "    data.loc[:, 'is_new'] = data['mileage'].apply(lambda x: 0 if x > 0 else 1)\n",
    "\n",
    "    # приведем к формату int\n",
    "    data.loc[:, 'engine_power'] = data['engine_power'].astype('int')\n",
    "    # Возьмем логарифм от признака\n",
    "    data.loc[:, 'engine_power'] = np.log(data['engine_power'] + 1)\n",
    "\n",
    "    # Преобразуем wheel в целочисленный формат. \n",
    "    wheel_dict = {'LEFT': 1, 'RIGHT': 0}\n",
    "    data.loc[:, 'wheel'] = data['wheel'].map(wheel_dict)\n",
    "\n",
    "    # Заполним пропуски в поле owners 0, если проьег нулевой.\n",
    "    data.loc[data.query('owners != owners and mileage == 0').index, 'owners'] = 0\n",
    "    # Заполним пропуски в поле owners медианным значением\n",
    "    data = replace_nan(data, 'owners', 'median')\n",
    "\n",
    "    # Поправим значение признака на 'EUROPEAN'\n",
    "    index = data.query('vendor == \"AMERICAN\"').index\n",
    "    data.loc[index, 'vendor'] = 'EUROPEAN'\n",
    "    # Преобразуем vendor в целочисленный формат. \n",
    "    vendor_dict = {'EUROPEAN': 1, 'JAPANESE': 0}\n",
    "    data.loc[:, 'vendor'] = data['vendor'].map(vendor_dict)\n",
    "\n",
    "    # Возьмем логарифм от признака\n",
    "    data.loc[:, 'engine_displacement'] = np.log(data['engine_displacement'] + 1)\n",
    "\n",
    "    # Пустых значений нет. Переведем в формат времени\n",
    "    data.loc[:, 'parsing_unixtime'] = data['parsing_unixtime'].apply(lambda x: datetime.fromtimestamp(x))\n",
    "\n",
    "    # Добавим новый признак 'usd_rub_rate_date' - курс доллара к рублю на момент выгрузки данных\n",
    "    usd_rub_rate_date = {\n",
    "        '10.07.2021': 74.4675, '26.10.2020': 76.4667, '25.10.2020': 76.4667,\n",
    "        '24.10.2020': 76.4667, '21.10.2020': 77.7780, '20.10.2020': 77.9241, '19.10.2020': 77.9644\n",
    "    }\n",
    "    data.loc[:, 'usd_rub_rate_date'] = data['parsing_unixtime'].dt.strftime('%d.%m.%Y').map(usd_rub_rate_date)\n",
    "\n",
    "    # Заполним пустые значения медианным значение для данной марки\n",
    "    index_nan_price = data.query('sample == 1 and price != price').index\n",
    "    median_price_model = data.query('sample == 1 and price == price').groupby('model_name')['price'].median()\n",
    "    data.loc[index_nan_price, 'price'] = data.loc[index_nan_price, 'model_name'].map(median_price_model)\n",
    "\n",
    "    # Добавим пцелевой ризнак в валюте usd\n",
    "    data.loc[:, 'price_usd'] = data['price'] / data['usd_rub_rate_date']\n",
    "    # Возьмем логарифм от целевого признака\n",
    "    data.loc[:, 'price_log'] = np.log(data['price'] + 1)\n",
    "    data.loc[:, 'price_usd_log'] = np.log(data['price_usd'] + 1)\n",
    "    \n",
    "    return data"
   ]
  },
  {
   "cell_type": "code",
   "execution_count": 105,
   "metadata": {
    "execution": {
     "iopub.execute_input": "2021-07-17T07:26:33.942846Z",
     "iopub.status.busy": "2021-07-17T07:26:33.942116Z",
     "iopub.status.idle": "2021-07-17T07:26:40.438216Z",
     "shell.execute_reply": "2021-07-17T07:26:40.436724Z",
     "shell.execute_reply.started": "2021-07-17T07:26:33.942797Z"
    }
   },
   "outputs": [
    {
     "name": "stdout",
     "output_type": "stream",
     "text": [
      "В новый признак 'pts_isnan' охраняем информацию, в каком наблюдении указано NaN\n",
      "Заполним пустые значения признака pts самым распространенным значением  ORIGINAL\n",
      "В новый признак 'owners_isnan' охраняем информацию, в каком наблюдении указано NaN\n",
      "Заполним пустые значения признака owners медианой 2.0\n"
     ]
    }
   ],
   "source": [
    "# Загрузим данные\n",
    "train, test, sample_submission = load_data_frames()\n",
    "\n",
    "# Согласуем наименования признаков\n",
    "rename_columns_train(train)\n",
    "rename_columns_test(test)\n",
    "\n",
    "# Согласуем форматы признаков\n",
    "prepare_columns_format_train(train)\n",
    "prepare_columns_format_test(test)\n",
    "\n",
    "# Объединим датасеты в один\n",
    "data = concatenate_data_frames(train, test)\n",
    "\n",
    "# Почистим и подготовим датасет\n",
    "data = clear_and_prepare_data(data)"
   ]
  },
  {
   "cell_type": "code",
   "execution_count": 106,
   "metadata": {
    "execution": {
     "iopub.execute_input": "2021-07-17T07:26:40.440388Z",
     "iopub.status.busy": "2021-07-17T07:26:40.440077Z",
     "iopub.status.idle": "2021-07-17T07:26:40.696369Z",
     "shell.execute_reply": "2021-07-17T07:26:40.694778Z",
     "shell.execute_reply.started": "2021-07-17T07:26:40.440358Z"
    }
   },
   "outputs": [
    {
     "data": {
      "text/html": [
       "<div>\n",
       "<style scoped>\n",
       "    .dataframe tbody tr th:only-of-type {\n",
       "        vertical-align: middle;\n",
       "    }\n",
       "\n",
       "    .dataframe tbody tr th {\n",
       "        vertical-align: top;\n",
       "    }\n",
       "\n",
       "    .dataframe thead th {\n",
       "        text-align: right;\n",
       "    }\n",
       "</style>\n",
       "<table border=\"1\" class=\"dataframe\">\n",
       "  <thead>\n",
       "    <tr style=\"text-align: right;\">\n",
       "      <th></th>\n",
       "      <th>имя признака</th>\n",
       "      <th>тип</th>\n",
       "      <th># значений</th>\n",
       "      <th># пропусков(NaN)</th>\n",
       "      <th># уникальных</th>\n",
       "      <th>в первой строке</th>\n",
       "      <th>во второй строке</th>\n",
       "      <th>в третьей строке</th>\n",
       "    </tr>\n",
       "  </thead>\n",
       "  <tbody>\n",
       "    <tr>\n",
       "      <th>0</th>\n",
       "      <td>body_type</td>\n",
       "      <td>object</td>\n",
       "      <td>87319</td>\n",
       "      <td>0</td>\n",
       "      <td>94</td>\n",
       "      <td>лифтбек</td>\n",
       "      <td>лифтбек</td>\n",
       "      <td>лифтбек</td>\n",
       "    </tr>\n",
       "    <tr>\n",
       "      <th>1</th>\n",
       "      <td>brand</td>\n",
       "      <td>object</td>\n",
       "      <td>87319</td>\n",
       "      <td>0</td>\n",
       "      <td>12</td>\n",
       "      <td>SKODA</td>\n",
       "      <td>SKODA</td>\n",
       "      <td>SKODA</td>\n",
       "    </tr>\n",
       "    <tr>\n",
       "      <th>2</th>\n",
       "      <td>color</td>\n",
       "      <td>object</td>\n",
       "      <td>87319</td>\n",
       "      <td>0</td>\n",
       "      <td>16</td>\n",
       "      <td>синий</td>\n",
       "      <td>чёрный</td>\n",
       "      <td>серый</td>\n",
       "    </tr>\n",
       "    <tr>\n",
       "      <th>3</th>\n",
       "      <td>fuel_type</td>\n",
       "      <td>object</td>\n",
       "      <td>87319</td>\n",
       "      <td>0</td>\n",
       "      <td>5</td>\n",
       "      <td>бензин</td>\n",
       "      <td>бензин</td>\n",
       "      <td>бензин</td>\n",
       "    </tr>\n",
       "    <tr>\n",
       "      <th>4</th>\n",
       "      <td>drive_type</td>\n",
       "      <td>object</td>\n",
       "      <td>87319</td>\n",
       "      <td>0</td>\n",
       "      <td>3</td>\n",
       "      <td>передний</td>\n",
       "      <td>передний</td>\n",
       "      <td>передний</td>\n",
       "    </tr>\n",
       "    <tr>\n",
       "      <th>5</th>\n",
       "      <td>vehicle_transmission</td>\n",
       "      <td>object</td>\n",
       "      <td>87319</td>\n",
       "      <td>0</td>\n",
       "      <td>4</td>\n",
       "      <td>ROBOT</td>\n",
       "      <td>MECHANICAL</td>\n",
       "      <td>ROBOT</td>\n",
       "    </tr>\n",
       "    <tr>\n",
       "      <th>6</th>\n",
       "      <td>model_name</td>\n",
       "      <td>object</td>\n",
       "      <td>87319</td>\n",
       "      <td>0</td>\n",
       "      <td>544</td>\n",
       "      <td>OCTAVIA</td>\n",
       "      <td>OCTAVIA</td>\n",
       "      <td>SUPERB</td>\n",
       "    </tr>\n",
       "    <tr>\n",
       "      <th>7</th>\n",
       "      <td>pts_isnan</td>\n",
       "      <td>uint8</td>\n",
       "      <td>87319</td>\n",
       "      <td>0</td>\n",
       "      <td>2</td>\n",
       "      <td>0</td>\n",
       "      <td>0</td>\n",
       "      <td>0</td>\n",
       "    </tr>\n",
       "    <tr>\n",
       "      <th>8</th>\n",
       "      <td>pts</td>\n",
       "      <td>int64</td>\n",
       "      <td>87319</td>\n",
       "      <td>0</td>\n",
       "      <td>2</td>\n",
       "      <td>1</td>\n",
       "      <td>1</td>\n",
       "      <td>1</td>\n",
       "    </tr>\n",
       "    <tr>\n",
       "      <th>9</th>\n",
       "      <td>is_new</td>\n",
       "      <td>int64</td>\n",
       "      <td>87319</td>\n",
       "      <td>0</td>\n",
       "      <td>2</td>\n",
       "      <td>0</td>\n",
       "      <td>0</td>\n",
       "      <td>0</td>\n",
       "    </tr>\n",
       "    <tr>\n",
       "      <th>10</th>\n",
       "      <td>wheel</td>\n",
       "      <td>int64</td>\n",
       "      <td>87319</td>\n",
       "      <td>0</td>\n",
       "      <td>2</td>\n",
       "      <td>1</td>\n",
       "      <td>1</td>\n",
       "      <td>1</td>\n",
       "    </tr>\n",
       "    <tr>\n",
       "      <th>11</th>\n",
       "      <td>owners_isnan</td>\n",
       "      <td>uint8</td>\n",
       "      <td>87319</td>\n",
       "      <td>0</td>\n",
       "      <td>2</td>\n",
       "      <td>0</td>\n",
       "      <td>0</td>\n",
       "      <td>0</td>\n",
       "    </tr>\n",
       "    <tr>\n",
       "      <th>12</th>\n",
       "      <td>vendor</td>\n",
       "      <td>int64</td>\n",
       "      <td>87319</td>\n",
       "      <td>0</td>\n",
       "      <td>2</td>\n",
       "      <td>1</td>\n",
       "      <td>1</td>\n",
       "      <td>1</td>\n",
       "    </tr>\n",
       "  </tbody>\n",
       "</table>\n",
       "</div>"
      ],
      "text/plain": [
       "            имя признака     тип # значений # пропусков(NaN) # уникальных  \\\n",
       "0              body_type  object      87319                0           94   \n",
       "1                  brand  object      87319                0           12   \n",
       "2                  color  object      87319                0           16   \n",
       "3              fuel_type  object      87319                0            5   \n",
       "4             drive_type  object      87319                0            3   \n",
       "5   vehicle_transmission  object      87319                0            4   \n",
       "6             model_name  object      87319                0          544   \n",
       "7              pts_isnan   uint8      87319                0            2   \n",
       "8                    pts   int64      87319                0            2   \n",
       "9                 is_new   int64      87319                0            2   \n",
       "10                 wheel   int64      87319                0            2   \n",
       "11          owners_isnan   uint8      87319                0            2   \n",
       "12                vendor   int64      87319                0            2   \n",
       "\n",
       "   в первой строке во второй строке в третьей строке  \n",
       "0          лифтбек          лифтбек          лифтбек  \n",
       "1            SKODA            SKODA            SKODA  \n",
       "2            синий           чёрный            серый  \n",
       "3           бензин           бензин           бензин  \n",
       "4         передний         передний         передний  \n",
       "5            ROBOT       MECHANICAL            ROBOT  \n",
       "6          OCTAVIA          OCTAVIA           SUPERB  \n",
       "7                0                0                0  \n",
       "8                1                1                1  \n",
       "9                0                0                0  \n",
       "10               1                1                1  \n",
       "11               0                0                0  \n",
       "12               1                1                1  "
      ]
     },
     "metadata": {},
     "output_type": "display_data"
    }
   ],
   "source": [
    "# Выведем информацию после изменений\n",
    "data_full_info(data[cat_cols + bin_cols], full=False, short=False)"
   ]
  },
  {
   "cell_type": "code",
   "execution_count": 107,
   "metadata": {
    "execution": {
     "iopub.execute_input": "2021-07-17T07:26:40.699214Z",
     "iopub.status.busy": "2021-07-17T07:26:40.698666Z",
     "iopub.status.idle": "2021-07-17T07:26:40.767874Z",
     "shell.execute_reply": "2021-07-17T07:26:40.766820Z",
     "shell.execute_reply.started": "2021-07-17T07:26:40.699161Z"
    }
   },
   "outputs": [
    {
     "data": {
      "text/html": [
       "<div>\n",
       "<style scoped>\n",
       "    .dataframe tbody tr th:only-of-type {\n",
       "        vertical-align: middle;\n",
       "    }\n",
       "\n",
       "    .dataframe tbody tr th {\n",
       "        vertical-align: top;\n",
       "    }\n",
       "\n",
       "    .dataframe thead th {\n",
       "        text-align: right;\n",
       "    }\n",
       "</style>\n",
       "<table border=\"1\" class=\"dataframe\">\n",
       "  <thead>\n",
       "    <tr style=\"text-align: right;\">\n",
       "      <th></th>\n",
       "      <th>имя признака</th>\n",
       "      <th>тип</th>\n",
       "      <th># значений</th>\n",
       "      <th># пропусков(NaN)</th>\n",
       "      <th># уникальных</th>\n",
       "      <th>в первой строке</th>\n",
       "      <th>во второй строке</th>\n",
       "      <th>в третьей строке</th>\n",
       "    </tr>\n",
       "  </thead>\n",
       "  <tbody>\n",
       "    <tr>\n",
       "      <th>0</th>\n",
       "      <td>mileage</td>\n",
       "      <td>float64</td>\n",
       "      <td>87319</td>\n",
       "      <td>0</td>\n",
       "      <td>21957</td>\n",
       "      <td>11.2118</td>\n",
       "      <td>11.0115</td>\n",
       "      <td>11.3851</td>\n",
       "    </tr>\n",
       "    <tr>\n",
       "      <th>1</th>\n",
       "      <td>model_date</td>\n",
       "      <td>float64</td>\n",
       "      <td>87319</td>\n",
       "      <td>0</td>\n",
       "      <td>67</td>\n",
       "      <td>2013</td>\n",
       "      <td>2017</td>\n",
       "      <td>2013</td>\n",
       "    </tr>\n",
       "    <tr>\n",
       "      <th>2</th>\n",
       "      <td>number_of_doors</td>\n",
       "      <td>float64</td>\n",
       "      <td>87319</td>\n",
       "      <td>0</td>\n",
       "      <td>5</td>\n",
       "      <td>5</td>\n",
       "      <td>5</td>\n",
       "      <td>5</td>\n",
       "    </tr>\n",
       "    <tr>\n",
       "      <th>3</th>\n",
       "      <td>engine_power</td>\n",
       "      <td>float64</td>\n",
       "      <td>87319</td>\n",
       "      <td>0</td>\n",
       "      <td>331</td>\n",
       "      <td>4.66344</td>\n",
       "      <td>4.70953</td>\n",
       "      <td>5.03044</td>\n",
       "    </tr>\n",
       "    <tr>\n",
       "      <th>4</th>\n",
       "      <td>owners</td>\n",
       "      <td>float64</td>\n",
       "      <td>87319</td>\n",
       "      <td>0</td>\n",
       "      <td>4</td>\n",
       "      <td>3</td>\n",
       "      <td>1</td>\n",
       "      <td>1</td>\n",
       "    </tr>\n",
       "    <tr>\n",
       "      <th>5</th>\n",
       "      <td>production_date</td>\n",
       "      <td>int64</td>\n",
       "      <td>87319</td>\n",
       "      <td>0</td>\n",
       "      <td>71</td>\n",
       "      <td>2014</td>\n",
       "      <td>2017</td>\n",
       "      <td>2014</td>\n",
       "    </tr>\n",
       "    <tr>\n",
       "      <th>6</th>\n",
       "      <td>engine_displacement</td>\n",
       "      <td>float64</td>\n",
       "      <td>87319</td>\n",
       "      <td>0</td>\n",
       "      <td>55</td>\n",
       "      <td>0.788457</td>\n",
       "      <td>0.955511</td>\n",
       "      <td>1.02962</td>\n",
       "    </tr>\n",
       "  </tbody>\n",
       "</table>\n",
       "</div>"
      ],
      "text/plain": [
       "          имя признака      тип # значений # пропусков(NaN) # уникальных  \\\n",
       "0              mileage  float64      87319                0        21957   \n",
       "1           model_date  float64      87319                0           67   \n",
       "2      number_of_doors  float64      87319                0            5   \n",
       "3         engine_power  float64      87319                0          331   \n",
       "4               owners  float64      87319                0            4   \n",
       "5      production_date    int64      87319                0           71   \n",
       "6  engine_displacement  float64      87319                0           55   \n",
       "\n",
       "  в первой строке во второй строке в третьей строке  \n",
       "0         11.2118          11.0115          11.3851  \n",
       "1            2013             2017             2013  \n",
       "2               5                5                5  \n",
       "3         4.66344          4.70953          5.03044  \n",
       "4               3                1                1  \n",
       "5            2014             2017             2014  \n",
       "6        0.788457         0.955511          1.02962  "
      ]
     },
     "metadata": {},
     "output_type": "display_data"
    }
   ],
   "source": [
    "# Выведем информацию после изменений\n",
    "data_full_info(data[num_cols], full=False, short=False)"
   ]
  },
  {
   "cell_type": "markdown",
   "metadata": {},
   "source": [
    "## Оценка корреляций"
   ]
  },
  {
   "cell_type": "code",
   "execution_count": 108,
   "metadata": {
    "execution": {
     "iopub.execute_input": "2021-07-17T07:26:40.770039Z",
     "iopub.status.busy": "2021-07-17T07:26:40.769413Z",
     "iopub.status.idle": "2021-07-17T07:26:41.474831Z",
     "shell.execute_reply": "2021-07-17T07:26:41.473874Z",
     "shell.execute_reply.started": "2021-07-17T07:26:40.769985Z"
    }
   },
   "outputs": [
    {
     "data": {
      "text/plain": [
       "<matplotlib.axes._subplots.AxesSubplot at 0x7fabea97ad10>"
      ]
     },
     "execution_count": 108,
     "metadata": {},
     "output_type": "execute_result"
    },
    {
     "data": {
      "image/png": "[encoded data removed]",
      "text/plain": [
       "<Figure size 720x504 with 2 Axes>"
      ]
     },
     "metadata": {
      "needs_background": "light"
     },
     "output_type": "display_data"
    }
   ],
   "source": [
    "# Оценим корреляцию Пирсона для непрерывных переменных \n",
    "plt.figure(figsize = (10,7))\n",
    "data_corr = data[num_cols + ['price','price_log']].corr().abs()\n",
    "sns.heatmap(data_corr, vmin=0, vmax=1, annot=True)"
   ]
  },
  {
   "cell_type": "code",
   "execution_count": 109,
   "metadata": {
    "execution": {
     "iopub.execute_input": "2021-07-17T07:26:41.477205Z",
     "iopub.status.busy": "2021-07-17T07:26:41.476531Z",
     "iopub.status.idle": "2021-07-17T07:26:41.488939Z",
     "shell.execute_reply": "2021-07-17T07:26:41.487759Z",
     "shell.execute_reply.started": "2021-07-17T07:26:41.477152Z"
    }
   },
   "outputs": [
    {
     "data": {
      "text/html": [
       "<div>\n",
       "<style scoped>\n",
       "    .dataframe tbody tr th:only-of-type {\n",
       "        vertical-align: middle;\n",
       "    }\n",
       "\n",
       "    .dataframe tbody tr th {\n",
       "        vertical-align: top;\n",
       "    }\n",
       "\n",
       "    .dataframe thead th {\n",
       "        text-align: right;\n",
       "    }\n",
       "</style>\n",
       "<table border=\"1\" class=\"dataframe\">\n",
       "  <thead>\n",
       "    <tr style=\"text-align: right;\">\n",
       "      <th></th>\n",
       "      <th>price_log</th>\n",
       "    </tr>\n",
       "  </thead>\n",
       "  <tbody>\n",
       "    <tr>\n",
       "      <th>price_log</th>\n",
       "      <td>1.000000</td>\n",
       "    </tr>\n",
       "    <tr>\n",
       "      <th>price</th>\n",
       "      <td>0.564468</td>\n",
       "    </tr>\n",
       "    <tr>\n",
       "      <th>mileage</th>\n",
       "      <td>0.505337</td>\n",
       "    </tr>\n",
       "    <tr>\n",
       "      <th>owners</th>\n",
       "      <td>0.417041</td>\n",
       "    </tr>\n",
       "    <tr>\n",
       "      <th>production_date</th>\n",
       "      <td>0.384837</td>\n",
       "    </tr>\n",
       "    <tr>\n",
       "      <th>model_date</th>\n",
       "      <td>0.369287</td>\n",
       "    </tr>\n",
       "    <tr>\n",
       "      <th>engine_power</th>\n",
       "      <td>0.171295</td>\n",
       "    </tr>\n",
       "    <tr>\n",
       "      <th>number_of_doors</th>\n",
       "      <td>0.109700</td>\n",
       "    </tr>\n",
       "    <tr>\n",
       "      <th>engine_displacement</th>\n",
       "      <td>0.013614</td>\n",
       "    </tr>\n",
       "  </tbody>\n",
       "</table>\n",
       "</div>"
      ],
      "text/plain": [
       "                     price_log\n",
       "price_log             1.000000\n",
       "price                 0.564468\n",
       "mileage               0.505337\n",
       "owners                0.417041\n",
       "production_date       0.384837\n",
       "model_date            0.369287\n",
       "engine_power          0.171295\n",
       "number_of_doors       0.109700\n",
       "engine_displacement   0.013614"
      ]
     },
     "execution_count": 109,
     "metadata": {},
     "output_type": "execute_result"
    }
   ],
   "source": [
    "pd.DataFrame(data_corr['price_log'].sort_values(ascending=False))"
   ]
  },
  {
   "cell_type": "markdown",
   "metadata": {},
   "source": [
    "**Выводы по матрице корелляции** \n",
    "\n",
    "C целевым признаком выше всего скоррелированы (по убыванию):\n",
    " - mileage (пробег)\n",
    " - owners (кол-во)\n",
    " - production_date (дата производства)\n",
    " - model_date (дата выхода модели)\n",
    " - engine_power (мощность авто л.с.)\n",
    " - number_of_doors (количество дверей)\n",
    " - engine_displacement (объем двигателя)\n",
    "\n",
    "в датасете присутствует сильная корреляция (0.98) признаков production_date и model_date, что в целом логично. Один из признаков можно убрать.\n",
    "\n",
    "Также можно заметить большую корреляцию между engine_power и engine_displacement, это объяснимо, ведь чем больше объем двигателя, тем больше его мощьность, если рассматривать двигатели примерно одно класса (год, наличие турбин и т.д.). Еще mileage, owners и model_date тоже хорошо скоррелированны, чем старше авто, тем веше пробег и количество владельцев\n"
   ]
  },
  {
   "cell_type": "code",
   "execution_count": 110,
   "metadata": {
    "execution": {
     "iopub.execute_input": "2021-07-17T07:26:41.491574Z",
     "iopub.status.busy": "2021-07-17T07:26:41.491087Z",
     "iopub.status.idle": "2021-07-17T07:26:41.499567Z",
     "shell.execute_reply": "2021-07-17T07:26:41.497988Z",
     "shell.execute_reply.started": "2021-07-17T07:26:41.491529Z"
    }
   },
   "outputs": [],
   "source": [
    "# Выносим в блок предобработки\n",
    "\n",
    "#Удаляем лишний признак model_date\n",
    "del_cols.append('model_date')\n",
    "num_cols.remove('model_date')"
   ]
  },
  {
   "cell_type": "markdown",
   "metadata": {},
   "source": [
    "## Посмотрим на значимость колличественных переменных\n",
    "Для оценки значимости числовых переменных будем использовать функцию f_classif из библиотеки sklearn.\n",
    "\n",
    "В качестве меры значимости мы будем использовать значение f-статистики. Чем значение статистики выше, тем меньше вероятность того, что средние значения не отличаются, и тем важнее данный признак для нашей линейной модели."
   ]
  },
  {
   "cell_type": "code",
   "execution_count": 111,
   "metadata": {
    "execution": {
     "iopub.execute_input": "2021-07-17T07:26:41.501014Z",
     "iopub.status.busy": "2021-07-17T07:26:41.500668Z",
     "iopub.status.idle": "2021-07-17T07:26:43.580856Z",
     "shell.execute_reply": "2021-07-17T07:26:43.579798Z",
     "shell.execute_reply.started": "2021-07-17T07:26:41.500918Z"
    }
   },
   "outputs": [
    {
     "data": {
      "text/plain": [
       "<matplotlib.axes._subplots.AxesSubplot at 0x7fabed26b390>"
      ]
     },
     "execution_count": 111,
     "metadata": {},
     "output_type": "execute_result"
    },
    {
     "data": {
      "image/png": "[encoded data removed]",
      "text/plain": [
       "<Figure size 864x288 with 1 Axes>"
      ]
     },
     "metadata": {
      "needs_background": "light"
     },
     "output_type": "display_data"
    }
   ],
   "source": [
    "df = data.query('sample == 1')\n",
    "imp_num = pd.Series(f_classif(df[num_cols], df['price_log'])[0], index = num_cols)\n",
    "imp_num.sort_values(inplace = True)\n",
    "imp_num.plot(kind = 'barh', title='Значимость непрерывных переменных по ANOVA F test')"
   ]
  },
  {
   "cell_type": "markdown",
   "metadata": {},
   "source": [
    "**Выводы:**\n",
    "- Самый значимый признак mileage\n",
    "- Потом идут признаки production_date, owners  и engine_power\n",
    "- Последние по значимости признаки - engine_displacement и number_of_doors"
   ]
  },
  {
   "cell_type": "markdown",
   "metadata": {},
   "source": [
    "## Посмотрим на значимость категориальных и бинарных переменных\n",
    "\n",
    "Для оценки значимости категориальных и бинарных переменных будем использовать функцию mutual_info_classif из библиотеки sklearn. Данная функция опирается на непараметрические методы, основанные на оценке энтропии в группах категориальных переменных."
   ]
  },
  {
   "cell_type": "code",
   "execution_count": 112,
   "metadata": {
    "execution": {
     "iopub.execute_input": "2021-07-17T07:26:43.582876Z",
     "iopub.status.busy": "2021-07-17T07:26:43.582404Z",
     "iopub.status.idle": "2021-07-17T07:26:43.949418Z",
     "shell.execute_reply": "2021-07-17T07:26:43.948013Z",
     "shell.execute_reply.started": "2021-07-17T07:26:43.582824Z"
    }
   },
   "outputs": [
    {
     "name": "stdout",
     "output_type": "stream",
     "text": [
      "Найдены статистически значимые различия для признака body_type\n",
      "Найдены статистически значимые различия для признака brand\n",
      "Найдены статистически значимые различия для признака color\n",
      "Найдены статистически значимые различия для признака fuel_type\n",
      "Найдены статистически значимые различия для признака drive_type\n",
      "Найдены статистически значимые различия для признака vehicle_transmission\n",
      "Найдены статистически значимые различия для признака model_name\n",
      "Найдены статистически значимые различия для признака pts_isnan\n",
      "Найдены статистически значимые различия для признака pts\n",
      "Найдены статистически значимые различия для признака is_new\n",
      "Найдены статистически значимые различия для признака wheel\n",
      "Найдены статистически значимые различия для признака owners_isnan\n",
      "Найдены статистически значимые различия для признака vendor\n",
      "Признаки на удаление:  []\n"
     ]
    }
   ],
   "source": [
    "nom_cols = cat_cols + bin_cols\n",
    "delete_cols = []\n",
    "\n",
    "for col in nom_cols:\n",
    "    if not get_stat_dif(data.query('sample == 1'), col, 'price_log'):\n",
    "        delete_cols.append(col)\n",
    "        \n",
    "print('Признаки на удаление: ', delete_cols)"
   ]
  },
  {
   "cell_type": "markdown",
   "metadata": {},
   "source": [
    "**Выводы:**\n",
    "- Статистически значимые различия присутствуют по всем признакам\n",
    "- Кандидатов на удаления нет."
   ]
  },
  {
   "cell_type": "markdown",
   "metadata": {},
   "source": [
    "# 5. Data Preprocessing\n",
    "\n",
    "Перед обучением регрессии необходимо сделать две вещи:\n",
    "\n",
    " - Стандартизировать числовые признаки\n",
    " - Применить Label Encoding подход к категориальным признакам\n",
    " - Сделать разбиение на тестовую и валидационную выборки"
   ]
  },
  {
   "cell_type": "markdown",
   "metadata": {},
   "source": [
    "## Label Encoding для кактегориальных признаков"
   ]
  },
  {
   "cell_type": "code",
   "execution_count": 113,
   "metadata": {
    "execution": {
     "iopub.execute_input": "2021-07-17T07:26:43.951619Z",
     "iopub.status.busy": "2021-07-17T07:26:43.951159Z",
     "iopub.status.idle": "2021-07-17T07:26:44.072397Z",
     "shell.execute_reply": "2021-07-17T07:26:44.071156Z",
     "shell.execute_reply.started": "2021-07-17T07:26:43.951551Z"
    }
   },
   "outputs": [],
   "source": [
    "# применим подход Label Encoding для категориальных признаков\n",
    "for colum in cat_cols:\n",
    "    data[colum] = data[colum].astype('category').cat.codes"
   ]
  },
  {
   "cell_type": "code",
   "execution_count": 114,
   "metadata": {
    "execution": {
     "iopub.execute_input": "2021-07-17T07:26:44.075059Z",
     "iopub.status.busy": "2021-07-17T07:26:44.074565Z",
     "iopub.status.idle": "2021-07-17T07:26:44.110229Z",
     "shell.execute_reply": "2021-07-17T07:26:44.109179Z",
     "shell.execute_reply.started": "2021-07-17T07:26:44.075012Z"
    }
   },
   "outputs": [
    {
     "data": {
      "text/html": [
       "<div>\n",
       "<style scoped>\n",
       "    .dataframe tbody tr th:only-of-type {\n",
       "        vertical-align: middle;\n",
       "    }\n",
       "\n",
       "    .dataframe tbody tr th {\n",
       "        vertical-align: top;\n",
       "    }\n",
       "\n",
       "    .dataframe thead th {\n",
       "        text-align: right;\n",
       "    }\n",
       "</style>\n",
       "<table border=\"1\" class=\"dataframe\">\n",
       "  <thead>\n",
       "    <tr style=\"text-align: right;\">\n",
       "      <th></th>\n",
       "      <th>body_type</th>\n",
       "      <th>brand</th>\n",
       "      <th>color</th>\n",
       "      <th>fuel_type</th>\n",
       "      <th>mileage</th>\n",
       "      <th>model_date</th>\n",
       "      <th>name</th>\n",
       "      <th>number_of_doors</th>\n",
       "      <th>engine_power</th>\n",
       "      <th>wheel</th>\n",
       "      <th>drive_type</th>\n",
       "      <th>pts</th>\n",
       "      <th>owners</th>\n",
       "      <th>vehicle_transmission</th>\n",
       "      <th>production_date</th>\n",
       "      <th>vendor</th>\n",
       "      <th>model_name</th>\n",
       "      <th>engine_displacement</th>\n",
       "      <th>ownership</th>\n",
       "      <th>complectation_dict</th>\n",
       "      <th>equipment_dict</th>\n",
       "      <th>parsing_unixtime</th>\n",
       "      <th>price</th>\n",
       "      <th>sample</th>\n",
       "      <th>pts_isnan</th>\n",
       "      <th>is_new</th>\n",
       "      <th>owners_isnan</th>\n",
       "      <th>usd_rub_rate_date</th>\n",
       "      <th>price_usd</th>\n",
       "      <th>price_log</th>\n",
       "      <th>price_usd_log</th>\n",
       "    </tr>\n",
       "  </thead>\n",
       "  <tbody>\n",
       "    <tr>\n",
       "      <th>39576</th>\n",
       "      <td>2</td>\n",
       "      <td>1</td>\n",
       "      <td>12</td>\n",
       "      <td>0</td>\n",
       "      <td>12.154785</td>\n",
       "      <td>2006.0</td>\n",
       "      <td>30i 3.0 AT (272 л.с.) 4WD</td>\n",
       "      <td>5.0</td>\n",
       "      <td>5.609472</td>\n",
       "      <td>1</td>\n",
       "      <td>2</td>\n",
       "      <td>1</td>\n",
       "      <td>2.0</td>\n",
       "      <td>0</td>\n",
       "      <td>2009</td>\n",
       "      <td>1</td>\n",
       "      <td>524</td>\n",
       "      <td>1.386294</td>\n",
       "      <td>{'year': 2015, 'month': 6}</td>\n",
       "      <td>{'id': '0'}</td>\n",
       "      <td>{'wheel-heat': True, 'tinted-glass': True, 'wh...</td>\n",
       "      <td>2021-07-10 02:07:27</td>\n",
       "      <td>1035000.0</td>\n",
       "      <td>1</td>\n",
       "      <td>0</td>\n",
       "      <td>0</td>\n",
       "      <td>0</td>\n",
       "      <td>74.4675</td>\n",
       "      <td>13898.680632</td>\n",
       "      <td>13.849913</td>\n",
       "      <td>9.539621</td>\n",
       "    </tr>\n",
       "    <tr>\n",
       "      <th>7161</th>\n",
       "      <td>58</td>\n",
       "      <td>11</td>\n",
       "      <td>15</td>\n",
       "      <td>0</td>\n",
       "      <td>12.601491</td>\n",
       "      <td>2004.0</td>\n",
       "      <td>2.4 AT (140 л.с.)</td>\n",
       "      <td>4.0</td>\n",
       "      <td>4.948760</td>\n",
       "      <td>1</td>\n",
       "      <td>1</td>\n",
       "      <td>1</td>\n",
       "      <td>3.0</td>\n",
       "      <td>0</td>\n",
       "      <td>2007</td>\n",
       "      <td>1</td>\n",
       "      <td>405</td>\n",
       "      <td>1.223775</td>\n",
       "      <td>NaN</td>\n",
       "      <td>NaN</td>\n",
       "      <td>NaN</td>\n",
       "      <td>2020-10-21 00:05:23</td>\n",
       "      <td>0.0</td>\n",
       "      <td>0</td>\n",
       "      <td>0</td>\n",
       "      <td>0</td>\n",
       "      <td>0</td>\n",
       "      <td>77.7780</td>\n",
       "      <td>0.000000</td>\n",
       "      <td>0.000000</td>\n",
       "      <td>0.000000</td>\n",
       "    </tr>\n",
       "    <tr>\n",
       "      <th>40967</th>\n",
       "      <td>2</td>\n",
       "      <td>1</td>\n",
       "      <td>12</td>\n",
       "      <td>3</td>\n",
       "      <td>0.000000</td>\n",
       "      <td>2017.0</td>\n",
       "      <td>30d xDrive 3.0d AT (249 л.с.) 4WD</td>\n",
       "      <td>5.0</td>\n",
       "      <td>5.521461</td>\n",
       "      <td>1</td>\n",
       "      <td>2</td>\n",
       "      <td>1</td>\n",
       "      <td>0.0</td>\n",
       "      <td>0</td>\n",
       "      <td>2021</td>\n",
       "      <td>1</td>\n",
       "      <td>520</td>\n",
       "      <td>1.386294</td>\n",
       "      <td>NaN</td>\n",
       "      <td>{'id': '21184800', 'name': 'xDrive30d', 'avail...</td>\n",
       "      <td>{'asr': True, 'esp': True, 'adaptive-light': T...</td>\n",
       "      <td>2021-07-10 02:07:27</td>\n",
       "      <td>5540000.0</td>\n",
       "      <td>1</td>\n",
       "      <td>0</td>\n",
       "      <td>1</td>\n",
       "      <td>0</td>\n",
       "      <td>74.4675</td>\n",
       "      <td>74394.870245</td>\n",
       "      <td>15.527505</td>\n",
       "      <td>11.217156</td>\n",
       "    </tr>\n",
       "    <tr>\n",
       "      <th>17743</th>\n",
       "      <td>58</td>\n",
       "      <td>5</td>\n",
       "      <td>12</td>\n",
       "      <td>0</td>\n",
       "      <td>11.198228</td>\n",
       "      <td>2016.0</td>\n",
       "      <td>200 2.0 AT (184 л.с.)</td>\n",
       "      <td>4.0</td>\n",
       "      <td>5.220356</td>\n",
       "      <td>1</td>\n",
       "      <td>0</td>\n",
       "      <td>1</td>\n",
       "      <td>2.0</td>\n",
       "      <td>0</td>\n",
       "      <td>2016</td>\n",
       "      <td>1</td>\n",
       "      <td>177</td>\n",
       "      <td>1.098612</td>\n",
       "      <td>NaN</td>\n",
       "      <td>NaN</td>\n",
       "      <td>NaN</td>\n",
       "      <td>2020-10-21 02:56:20</td>\n",
       "      <td>0.0</td>\n",
       "      <td>0</td>\n",
       "      <td>0</td>\n",
       "      <td>0</td>\n",
       "      <td>0</td>\n",
       "      <td>77.7780</td>\n",
       "      <td>0.000000</td>\n",
       "      <td>0.000000</td>\n",
       "      <td>0.000000</td>\n",
       "    </tr>\n",
       "  </tbody>\n",
       "</table>\n",
       "</div>"
      ],
      "text/plain": [
       "       body_type  brand  color  fuel_type    mileage  model_date  \\\n",
       "39576          2      1     12          0  12.154785      2006.0   \n",
       "7161          58     11     15          0  12.601491      2004.0   \n",
       "40967          2      1     12          3   0.000000      2017.0   \n",
       "17743         58      5     12          0  11.198228      2016.0   \n",
       "\n",
       "                                    name  number_of_doors  engine_power  \\\n",
       "39576          30i 3.0 AT (272 л.с.) 4WD              5.0      5.609472   \n",
       "7161                   2.4 AT (140 л.с.)              4.0      4.948760   \n",
       "40967  30d xDrive 3.0d AT (249 л.с.) 4WD              5.0      5.521461   \n",
       "17743              200 2.0 AT (184 л.с.)              4.0      5.220356   \n",
       "\n",
       "       wheel  drive_type  pts  owners  vehicle_transmission  production_date  \\\n",
       "39576      1           2    1     2.0                     0             2009   \n",
       "7161       1           1    1     3.0                     0             2007   \n",
       "40967      1           2    1     0.0                     0             2021   \n",
       "17743      1           0    1     2.0                     0             2016   \n",
       "\n",
       "       vendor  model_name  engine_displacement                   ownership  \\\n",
       "39576       1         524             1.386294  {'year': 2015, 'month': 6}   \n",
       "7161        1         405             1.223775                         NaN   \n",
       "40967       1         520             1.386294                         NaN   \n",
       "17743       1         177             1.098612                         NaN   \n",
       "\n",
       "                                      complectation_dict  \\\n",
       "39576                                        {'id': '0'}   \n",
       "7161                                                 NaN   \n",
       "40967  {'id': '21184800', 'name': 'xDrive30d', 'avail...   \n",
       "17743                                                NaN   \n",
       "\n",
       "                                          equipment_dict    parsing_unixtime  \\\n",
       "39576  {'wheel-heat': True, 'tinted-glass': True, 'wh... 2021-07-10 02:07:27   \n",
       "7161                                                 NaN 2020-10-21 00:05:23   \n",
       "40967  {'asr': True, 'esp': True, 'adaptive-light': T... 2021-07-10 02:07:27   \n",
       "17743                                                NaN 2020-10-21 02:56:20   \n",
       "\n",
       "           price  sample  pts_isnan  is_new  owners_isnan  usd_rub_rate_date  \\\n",
       "39576  1035000.0       1          0       0             0            74.4675   \n",
       "7161         0.0       0          0       0             0            77.7780   \n",
       "40967  5540000.0       1          0       1             0            74.4675   \n",
       "17743        0.0       0          0       0             0            77.7780   \n",
       "\n",
       "          price_usd  price_log  price_usd_log  \n",
       "39576  13898.680632  13.849913       9.539621  \n",
       "7161       0.000000   0.000000       0.000000  \n",
       "40967  74394.870245  15.527505      11.217156  \n",
       "17743      0.000000   0.000000       0.000000  "
      ]
     },
     "execution_count": 114,
     "metadata": {},
     "output_type": "execute_result"
    }
   ],
   "source": [
    "data.sample(4)"
   ]
  },
  {
   "cell_type": "markdown",
   "metadata": {
    "papermill": {
     "duration": 0.033657,
     "end_time": "2020-10-26T12:47:03.29162",
     "exception": false,
     "start_time": "2020-10-26T12:47:03.257963",
     "status": "completed"
    },
    "tags": []
   },
   "source": [
    "## Стандартизируем числовые переменные:"
   ]
  },
  {
   "cell_type": "code",
   "execution_count": 115,
   "metadata": {
    "execution": {
     "iopub.execute_input": "2021-07-17T07:26:44.112196Z",
     "iopub.status.busy": "2021-07-17T07:26:44.111575Z",
     "iopub.status.idle": "2021-07-17T07:26:44.299064Z",
     "shell.execute_reply": "2021-07-17T07:26:44.297727Z",
     "shell.execute_reply.started": "2021-07-17T07:26:44.112152Z"
    },
    "papermill": {
     "duration": 0.10809,
     "end_time": "2020-10-26T12:47:03.549533",
     "exception": false,
     "start_time": "2020-10-26T12:47:03.441443",
     "status": "completed"
    },
    "tags": []
   },
   "outputs": [],
   "source": [
    "# Стандартизация числовых переменных\n",
    "scaler = StandardScaler()\n",
    "\n",
    "index = data.query('sample == 1')[num_cols].index\n",
    "values_income = data.query('sample == 1')[num_cols].values\n",
    "values_norm = scaler.fit_transform(values_income)\n",
    "data.loc[index, num_cols] = values_norm\n",
    "\n",
    "index = data.query('sample == 0')[num_cols].index\n",
    "values_income = data.query('sample == 0')[num_cols].values\n",
    "values_norm = scaler.transform(values_income)\n",
    "data.loc[index, num_cols] = values_norm"
   ]
  },
  {
   "cell_type": "markdown",
   "metadata": {
    "papermill": {
     "duration": 0.035737,
     "end_time": "2020-10-26T12:47:03.826552",
     "exception": false,
     "start_time": "2020-10-26T12:47:03.790815",
     "status": "completed"
    },
    "tags": []
   },
   "source": [
    "## Подготовка выборок"
   ]
  },
  {
   "cell_type": "code",
   "execution_count": 116,
   "metadata": {
    "execution": {
     "iopub.execute_input": "2021-07-17T07:26:44.300916Z",
     "iopub.status.busy": "2021-07-17T07:26:44.300550Z",
     "iopub.status.idle": "2021-07-17T07:26:44.353548Z",
     "shell.execute_reply": "2021-07-17T07:26:44.352531Z",
     "shell.execute_reply.started": "2021-07-17T07:26:44.300884Z"
    },
    "papermill": {
     "duration": 0.071275,
     "end_time": "2020-10-26T12:47:03.754",
     "exception": false,
     "start_time": "2020-10-26T12:47:03.682725",
     "status": "completed"
    },
    "tags": []
   },
   "outputs": [],
   "source": [
    "X = data.query('sample == 1').drop(columns=time_cols + del_cols + ['price','price_usd','usd_rub_rate_date'])\n",
    "X_sub = data.query('sample == 0').drop(columns=time_cols + del_cols + ['price','price_usd','usd_rub_rate_date'])\n",
    "\n",
    "y = data.query('sample == 1')['price_usd'].values"
   ]
  },
  {
   "cell_type": "code",
   "execution_count": 117,
   "metadata": {
    "execution": {
     "iopub.execute_input": "2021-07-17T07:26:44.355099Z",
     "iopub.status.busy": "2021-07-17T07:26:44.354668Z",
     "iopub.status.idle": "2021-07-17T07:26:44.362162Z",
     "shell.execute_reply": "2021-07-17T07:26:44.360320Z",
     "shell.execute_reply.started": "2021-07-17T07:26:44.355068Z"
    }
   },
   "outputs": [],
   "source": [
    "def get_columns():\n",
    "    time_cols = ['parsing_unixtime']\n",
    "    bin_cols = ['pts_isnan', 'pts', 'is_new', 'wheel', 'owners_isnan', 'vendor']\n",
    "    cat_cols = [\n",
    "        'body_type', 'brand', 'color', 'fuel_type',\n",
    "        'drive_type', 'vehicle_transmission', 'model_name'\n",
    "    ]\n",
    "    num_cols = [\n",
    "        'mileage', 'number_of_doors', 'engine_power',\n",
    "        'owners', 'production_date', 'engine_displacement']\n",
    "    del_cols = [\n",
    "        'name', 'ownership', 'complectation_dict',\n",
    "        'equipment_dict', 'usd_rub_rate_date', 'model_date'\n",
    "    ]\n",
    "    target_cols = ['price','price_usd','price_log','price_usd_log']\n",
    "    \n",
    "    return time_cols, bin_cols, cat_cols, num_cols, del_cols, target_cols"
   ]
  },
  {
   "cell_type": "code",
   "execution_count": 118,
   "metadata": {
    "execution": {
     "iopub.execute_input": "2021-07-17T07:26:44.364314Z",
     "iopub.status.busy": "2021-07-17T07:26:44.363985Z",
     "iopub.status.idle": "2021-07-17T07:26:44.383303Z",
     "shell.execute_reply": "2021-07-17T07:26:44.382318Z",
     "shell.execute_reply.started": "2021-07-17T07:26:44.364285Z"
    }
   },
   "outputs": [],
   "source": [
    "def prepare_data_before_split(data_in: pd.DataFrame, column_target: str) -> pd.DataFrame:\n",
    "    # Объединим подготовку в один модуль\n",
    "    data = data_in.copy()\n",
    "    time_cols, bin_cols, cat_cols, num_cols, del_cols, target_cols = get_columns()\n",
    "    \n",
    "    # применим подход Label Encoding для категориальных признаков\n",
    "    for colum in cat_cols:\n",
    "        data[colum] = data[colum].astype('category').cat.codes\n",
    "        \n",
    "    # Стандартизация числовых переменных\n",
    "    scaler = StandardScaler()\n",
    "\n",
    "    index = data.query('sample == 1')[num_cols].index\n",
    "    values_income = data.query('sample == 1')[num_cols].values\n",
    "    values_norm = scaler.fit_transform(values_income)\n",
    "    data.loc[index, num_cols] = values_norm\n",
    "\n",
    "    index = data.query('sample == 0')[num_cols].index\n",
    "    values_income = data.query('sample == 0')[num_cols].values\n",
    "    values_norm = scaler.transform(values_income)\n",
    "    data.loc[index, num_cols] = values_norm\n",
    "    \n",
    "    #\n",
    "    X = data.query('sample == 1').drop(columns=time_cols + del_cols + target_cols + ['sample'])\n",
    "    X_sub = data.query('sample == 0').drop(columns=time_cols + del_cols + target_cols + ['sample'])\n",
    "    y = data.query('sample == 1')[column_target]\n",
    "    \n",
    "    return X, X_sub, y"
   ]
  },
  {
   "cell_type": "code",
   "execution_count": 119,
   "metadata": {
    "execution": {
     "iopub.execute_input": "2021-07-17T07:26:44.384847Z",
     "iopub.status.busy": "2021-07-17T07:26:44.384327Z",
     "iopub.status.idle": "2021-07-17T07:26:44.414438Z",
     "shell.execute_reply": "2021-07-17T07:26:44.413613Z",
     "shell.execute_reply.started": "2021-07-17T07:26:44.384802Z"
    },
    "papermill": {
     "duration": 0.059208,
     "end_time": "2020-10-26T12:47:03.923564",
     "exception": false,
     "start_time": "2020-10-26T12:47:03.864356",
     "status": "completed"
    },
    "tags": []
   },
   "outputs": [],
   "source": [
    "X_train, X_test, y_train, y_test = train_test_split(X, y, test_size=VAL_SIZE, shuffle=True, random_state=RANDOM_SEED)"
   ]
  },
  {
   "cell_type": "markdown",
   "metadata": {
    "papermill": {
     "duration": 0.037164,
     "end_time": "2020-10-26T12:47:03.997616",
     "exception": false,
     "start_time": "2020-10-26T12:47:03.960452",
     "status": "completed"
    },
    "tags": []
   },
   "source": [
    "# 6. Model\n",
    "\n",
    "Загрузим и подготовим все данные снуля"
   ]
  },
  {
   "cell_type": "code",
   "execution_count": 120,
   "metadata": {
    "execution": {
     "iopub.execute_input": "2021-07-17T07:26:44.416337Z",
     "iopub.status.busy": "2021-07-17T07:26:44.415570Z",
     "iopub.status.idle": "2021-07-17T07:26:51.157696Z",
     "shell.execute_reply": "2021-07-17T07:26:51.156356Z",
     "shell.execute_reply.started": "2021-07-17T07:26:44.416284Z"
    }
   },
   "outputs": [
    {
     "name": "stdout",
     "output_type": "stream",
     "text": [
      "В новый признак 'pts_isnan' охраняем информацию, в каком наблюдении указано NaN\n",
      "Заполним пустые значения признака pts самым распространенным значением  ORIGINAL\n",
      "В новый признак 'owners_isnan' охраняем информацию, в каком наблюдении указано NaN\n",
      "Заполним пустые значения признака owners медианой 2.0\n"
     ]
    }
   ],
   "source": [
    "# Загрузим данные\n",
    "train, test, sample_submission = load_data_frames()\n",
    "\n",
    "# Согласуем наименования признаков\n",
    "rename_columns_train(train)\n",
    "rename_columns_test(test)\n",
    "\n",
    "# Согласуем форматы признаков\n",
    "prepare_columns_format_train(train)\n",
    "prepare_columns_format_test(test)\n",
    "\n",
    "# Объединим датасеты в один\n",
    "data = concatenate_data_frames(train, test)\n",
    "\n",
    "# Почистим и подготовим датасет\n",
    "data = clear_and_prepare_data(data)\n",
    "\n",
    "# сделаем предобработку\n",
    "X, X_sub, y = prepare_data_before_split(data, 'price_log')\n",
    "\n",
    "# Разобъем выборку на обучающую и тестовую\n",
    "X_train, X_test, y_train, y_test = train_test_split(X, y, test_size=VAL_SIZE, shuffle=True, random_state=RANDOM_SEED)"
   ]
  },
  {
   "cell_type": "markdown",
   "metadata": {},
   "source": [
    "## CatBoost\n",
    "\n",
    "У нас в данных практически все признаки категориальные. Специально для работы с такими данными была создана очень удобная библиотека CatBoost от Яндекса. [https://catboost.ai](http://)     \n",
    "На данный момент **CatBoost является одной из лучших библиотек для табличных данных!**"
   ]
  },
  {
   "cell_type": "code",
   "execution_count": 121,
   "metadata": {
    "execution": {
     "iopub.execute_input": "2021-07-17T07:26:51.160277Z",
     "iopub.status.busy": "2021-07-17T07:26:51.159844Z",
     "iopub.status.idle": "2021-07-17T07:27:32.448646Z",
     "shell.execute_reply": "2021-07-17T07:27:32.447129Z",
     "shell.execute_reply.started": "2021-07-17T07:26:51.160237Z"
    }
   },
   "outputs": [],
   "source": [
    "model = CatBoostRegressor(iterations = 5000,\n",
    "                          random_seed = RANDOM_SEED,\n",
    "                          eval_metric='MAPE',\n",
    "                          custom_metric=['R2', 'MAE'],\n",
    "                          silent=True,\n",
    "                         )\n",
    "model.fit(X_train, y_train,\n",
    "         #cat_features=cat_features_ids,\n",
    "         eval_set=(X_test, y_test),\n",
    "         verbose_eval=0,\n",
    "         use_best_model=True,\n",
    "         #plot=True\n",
    "         )\n",
    "\n",
    "model.save_model('catboost_single_model_2_baseline.model')"
   ]
  },
  {
   "cell_type": "code",
   "execution_count": 122,
   "metadata": {
    "execution": {
     "iopub.execute_input": "2021-07-17T07:27:32.450459Z",
     "iopub.status.busy": "2021-07-17T07:27:32.450169Z",
     "iopub.status.idle": "2021-07-17T07:27:32.497102Z",
     "shell.execute_reply": "2021-07-17T07:27:32.495131Z",
     "shell.execute_reply.started": "2021-07-17T07:27:32.450433Z"
    }
   },
   "outputs": [
    {
     "name": "stdout",
     "output_type": "stream",
     "text": [
      "Точность модели по метрике MAPE: 0.79%\n",
      "Точность модели по метрике MAPE если перевести в валюту: 11.20%\n"
     ]
    }
   ],
   "source": [
    "# Получим предсказанные значения для валидации модели\n",
    "y_true = y_test\n",
    "predict_test = model.predict(X_test)\n",
    "\n",
    "print(f\"Точность модели по метрике MAPE: {(mape(y_true, predict_test))*100:0.2f}%\")\n",
    "print(f\"Точность модели по метрике MAPE если перевести в валюту: {(mape(np.exp(y_true) - 1, np.exp(predict_test) - 1))*100:0.2f}%\")"
   ]
  },
  {
   "cell_type": "code",
   "execution_count": 123,
   "metadata": {
    "execution": {
     "iopub.execute_input": "2021-07-17T07:27:32.498489Z",
     "iopub.status.busy": "2021-07-17T07:27:32.498233Z",
     "iopub.status.idle": "2021-07-17T07:27:32.596043Z",
     "shell.execute_reply": "2021-07-17T07:27:32.594826Z",
     "shell.execute_reply.started": "2021-07-17T07:27:32.498465Z"
    }
   },
   "outputs": [],
   "source": [
    "# Получим предсказанные значения submission\n",
    "predict_submission = np.exp(model.predict(X_sub)) - 1\n",
    "\n",
    "# В качестве целевой переменной мы использовали цену в долларах. Надо перевести предсказанные значения submission обратно в рубли\n",
    "#usd_rub_rate_submission = data.query('sample == 0')['usd_rub_rate_date'].values\n",
    "#predict_submission = np.round(predict_submission * usd_rub_rate_submission, 2)\n"
   ]
  },
  {
   "cell_type": "markdown",
   "metadata": {},
   "source": [
    "Посмотрим на кроссвалидацию по этой модели"
   ]
  },
  {
   "cell_type": "code",
   "execution_count": 124,
   "metadata": {
    "execution": {
     "iopub.execute_input": "2021-07-17T07:27:32.598144Z",
     "iopub.status.busy": "2021-07-17T07:27:32.597836Z",
     "iopub.status.idle": "2021-07-17T07:29:08.516226Z",
     "shell.execute_reply": "2021-07-17T07:29:08.514759Z",
     "shell.execute_reply.started": "2021-07-17T07:27:32.598119Z"
    }
   },
   "outputs": [
    {
     "data": {
      "image/png": "[encoded data removed]",
      "text/plain": [
       "<Figure size 864x432 with 1 Axes>"
      ]
     },
     "metadata": {},
     "output_type": "display_data"
    }
   ],
   "source": [
    "score = make_scorer(mape, greater_is_better=False)\n",
    "\n",
    "cv_metrics = cross_validate(model, X_test, y_test, cv=5, scoring=score, return_train_score=True)\n",
    "\n",
    "vis_cross_val_score('MAPE', cv_metrics, -0.77, 1.1)"
   ]
  },
  {
   "cell_type": "markdown",
   "metadata": {},
   "source": [
    " ## Тест различных моделей \n",
    " \n",
    "Попробуем различные модели\n",
    "\n",
    "### 1. RandomForestRegressor"
   ]
  },
  {
   "cell_type": "code",
   "execution_count": 125,
   "metadata": {
    "execution": {
     "iopub.execute_input": "2021-07-17T07:29:08.518147Z",
     "iopub.status.busy": "2021-07-17T07:29:08.517820Z",
     "iopub.status.idle": "2021-07-17T07:29:15.520557Z",
     "shell.execute_reply": "2021-07-17T07:29:15.519156Z",
     "shell.execute_reply.started": "2021-07-17T07:29:08.518117Z"
    }
   },
   "outputs": [
    {
     "name": "stderr",
     "output_type": "stream",
     "text": [
      "[Parallel(n_jobs=-1)]: Using backend ThreadingBackend with 4 concurrent workers.\n",
      "[Parallel(n_jobs=-1)]: Done  42 tasks      | elapsed:    2.8s\n",
      "[Parallel(n_jobs=-1)]: Done 100 out of 100 | elapsed:    6.7s finished\n",
      "[Parallel(n_jobs=4)]: Using backend ThreadingBackend with 4 concurrent workers.\n",
      "[Parallel(n_jobs=4)]: Done  42 tasks      | elapsed:    0.1s\n",
      "[Parallel(n_jobs=4)]: Done 100 out of 100 | elapsed:    0.1s finished\n"
     ]
    },
    {
     "name": "stdout",
     "output_type": "stream",
     "text": [
      "Точность модели по метрике MAPE: 0.83%\n",
      "Точность модели по метрике MAPE если перевести в валюту: 11.64%\n"
     ]
    }
   ],
   "source": [
    "model = RandomForestRegressor(random_state = RANDOM_SEED, n_jobs = -1, verbose = 1)\n",
    "model.fit(X_train, y_train)\n",
    "\n",
    "y_true = y_test\n",
    "y_pred = model.predict(X_test)\n",
    "\n",
    "print(f\"Точность модели по метрике MAPE: {(mape(y_true, y_pred))*100:0.2f}%\")\n",
    "print(f\"Точность модели по метрике MAPE если перевести в валюту: {(mape(np.exp(y_true) - 1, np.exp(y_pred) - 1))*100:0.2f}%\")"
   ]
  },
  {
   "cell_type": "markdown",
   "metadata": {},
   "source": [
    "**Резюме:** мы получили МАРЕ = 11.64, это в районе baseline - CatBoostRegressor, что достаточно хорошо. Не будем пока тут уделять внимание округлению.\n"
   ]
  },
  {
   "cell_type": "markdown",
   "metadata": {},
   "source": [
    "### 2. LinearRegression"
   ]
  },
  {
   "cell_type": "code",
   "execution_count": 126,
   "metadata": {
    "execution": {
     "iopub.execute_input": "2021-07-17T07:29:15.522995Z",
     "iopub.status.busy": "2021-07-17T07:29:15.522577Z",
     "iopub.status.idle": "2021-07-17T07:29:15.606094Z",
     "shell.execute_reply": "2021-07-17T07:29:15.605014Z",
     "shell.execute_reply.started": "2021-07-17T07:29:15.522962Z"
    }
   },
   "outputs": [
    {
     "name": "stdout",
     "output_type": "stream",
     "text": [
      "Точность модели по метрике MAPE: 1.76%\n",
      "Точность модели по метрике MAPE если перевести в валюту: 25.67%\n"
     ]
    }
   ],
   "source": [
    "model = LinearRegression()\n",
    "model.fit(X_train, y_train)\n",
    "\n",
    "y_true = y_test\n",
    "y_pred = model.predict(X_test)\n",
    "\n",
    "print(f\"Точность модели по метрике MAPE: {(mape(y_true, y_pred))*100:0.2f}%\")\n",
    "print(f\"Точность модели по метрике MAPE если перевести в валюту: {(mape(np.exp(y_true) - 1, np.exp(y_pred) - 1))*100:0.2f}%\")"
   ]
  },
  {
   "cell_type": "markdown",
   "metadata": {},
   "source": [
    "**Резюме:** мы получили МАРЕ = 25.67, это в почти в 2 раза выше случайного леса. Можно попробовать подобрать оптимальные параметры для данной моедли, чтобы снизить метрику.\n",
    "\n"
   ]
  },
  {
   "cell_type": "markdown",
   "metadata": {},
   "source": [
    "### 3. ExtraTreeRegressor"
   ]
  },
  {
   "cell_type": "code",
   "execution_count": 127,
   "metadata": {
    "execution": {
     "iopub.execute_input": "2021-07-17T07:29:15.608699Z",
     "iopub.status.busy": "2021-07-17T07:29:15.607904Z",
     "iopub.status.idle": "2021-07-17T07:29:15.759635Z",
     "shell.execute_reply": "2021-07-17T07:29:15.758608Z",
     "shell.execute_reply.started": "2021-07-17T07:29:15.608649Z"
    }
   },
   "outputs": [
    {
     "name": "stdout",
     "output_type": "stream",
     "text": [
      "Точность модели по метрике MAPE: 1.15%\n",
      "Точность модели по метрике MAPE если перевести в валюту: 17.04%\n"
     ]
    }
   ],
   "source": [
    "model = ExtraTreeRegressor(random_state = RANDOM_SEED)\n",
    "model.fit(X_train, y_train)\n",
    "\n",
    "y_true = y_test\n",
    "y_pred = model.predict(X_test)\n",
    "\n",
    "print(f\"Точность модели по метрике MAPE: {(mape(y_true, y_pred))*100:0.2f}%\")\n",
    "print(f\"Точность модели по метрике MAPE если перевести в валюту: {(mape(np.exp(y_true) - 1, np.exp(y_pred) - 1))*100:0.2f}%\")"
   ]
  },
  {
   "cell_type": "markdown",
   "metadata": {},
   "source": [
    "**Резюме:** мы получили МАРЕ = 17.04, это лучше линейной регрессии. Но пока случайный лес показывает лучший результат."
   ]
  },
  {
   "cell_type": "markdown",
   "metadata": {},
   "source": [
    "### 4. GradientBoostingRegressor"
   ]
  },
  {
   "cell_type": "code",
   "execution_count": 128,
   "metadata": {
    "execution": {
     "iopub.execute_input": "2021-07-17T07:29:15.761553Z",
     "iopub.status.busy": "2021-07-17T07:29:15.761168Z",
     "iopub.status.idle": "2021-07-17T07:29:29.637766Z",
     "shell.execute_reply": "2021-07-17T07:29:29.636536Z",
     "shell.execute_reply.started": "2021-07-17T07:29:15.761509Z"
    }
   },
   "outputs": [
    {
     "name": "stdout",
     "output_type": "stream",
     "text": [
      "Точность модели по метрике MAPE: 0.99%\n",
      "Точность модели по метрике MAPE если перевести в валюту: 14.12%\n"
     ]
    }
   ],
   "source": [
    "# проверим градиентный бустинг \n",
    "model = GradientBoostingRegressor(n_estimators=250)\n",
    "model.fit(X_train, y_train)\n",
    "\n",
    "y_true = y_test\n",
    "y_pred = model.predict(X_test)\n",
    "\n",
    "print(f\"Точность модели по метрике MAPE: {(mape(y_true, y_pred))*100:0.2f}%\")\n",
    "print(f\"Точность модели по метрике MAPE если перевести в валюту: {(mape(np.exp(y_true) - 1, np.exp(y_pred) - 1))*100:0.2f}%\")"
   ]
  },
  {
   "cell_type": "markdown",
   "metadata": {},
   "source": [
    "**Резюме:** мы получили МАРЕ = 14.13, результат еще улучшился. Но случайный лес все еще показывает лучший результат."
   ]
  },
  {
   "cell_type": "markdown",
   "metadata": {},
   "source": [
    "### 5. Bagging на RandomForestRegressor"
   ]
  },
  {
   "cell_type": "code",
   "execution_count": 129,
   "metadata": {
    "execution": {
     "iopub.execute_input": "2021-07-17T07:29:29.639634Z",
     "iopub.status.busy": "2021-07-17T07:29:29.639321Z",
     "iopub.status.idle": "2021-07-17T07:29:47.238060Z",
     "shell.execute_reply": "2021-07-17T07:29:47.236827Z",
     "shell.execute_reply.started": "2021-07-17T07:29:29.639606Z"
    }
   },
   "outputs": [
    {
     "name": "stdout",
     "output_type": "stream",
     "text": [
      "Точность модели по метрике MAPE: 0.83%\n",
      "Точность модели по метрике MAPE если перевести в валюту: 11.73%\n"
     ]
    }
   ],
   "source": [
    "# проверим BaggingRegressor вместе со случайным лесом на всем трейне\n",
    "rf = RandomForestRegressor(random_state = RANDOM_SEED, n_jobs = -1, verbose = 1)\n",
    "model = BaggingRegressor(rf, n_estimators=3, n_jobs=-1, random_state=RANDOM_SEED)\n",
    "model.fit(X_train, y_train)\n",
    "\n",
    "y_true = y_test\n",
    "y_pred = model.predict(X_test)\n",
    "\n",
    "print(f\"Точность модели по метрике MAPE: {(mape(y_true, y_pred))*100:0.2f}%\")\n",
    "print(f\"Точность модели по метрике MAPE если перевести в валюту: {(mape(np.exp(y_true) - 1, np.exp(y_pred) - 1))*100:0.2f}%\")"
   ]
  },
  {
   "cell_type": "markdown",
   "metadata": {},
   "source": [
    "Сравним с просто RandomForestRegressor"
   ]
  },
  {
   "cell_type": "code",
   "execution_count": 130,
   "metadata": {
    "execution": {
     "iopub.execute_input": "2021-07-17T07:29:47.240009Z",
     "iopub.status.busy": "2021-07-17T07:29:47.239683Z",
     "iopub.status.idle": "2021-07-17T07:29:53.929067Z",
     "shell.execute_reply": "2021-07-17T07:29:53.928294Z",
     "shell.execute_reply.started": "2021-07-17T07:29:47.239976Z"
    }
   },
   "outputs": [
    {
     "name": "stderr",
     "output_type": "stream",
     "text": [
      "[Parallel(n_jobs=-1)]: Using backend ThreadingBackend with 4 concurrent workers.\n",
      "[Parallel(n_jobs=-1)]: Done  42 tasks      | elapsed:    2.7s\n",
      "[Parallel(n_jobs=-1)]: Done 100 out of 100 | elapsed:    6.3s finished\n",
      "[Parallel(n_jobs=4)]: Using backend ThreadingBackend with 4 concurrent workers.\n",
      "[Parallel(n_jobs=4)]: Done  42 tasks      | elapsed:    0.1s\n"
     ]
    },
    {
     "name": "stdout",
     "output_type": "stream",
     "text": [
      "Точность модели по метрике MAPE: 0.83%\n",
      "Точность модели по метрике MAPE если перевести в валюту: 11.64%\n"
     ]
    },
    {
     "name": "stderr",
     "output_type": "stream",
     "text": [
      "[Parallel(n_jobs=4)]: Done 100 out of 100 | elapsed:    0.1s finished\n"
     ]
    }
   ],
   "source": [
    "model = RandomForestRegressor(random_state = RANDOM_SEED, n_jobs = -1, verbose = 1)\n",
    "model.fit(X_train, y_train)\n",
    "\n",
    "y_true = y_test\n",
    "y_pred = model.predict(X_test)\n",
    "\n",
    "print(f\"Точность модели по метрике MAPE: {(mape(y_true, y_pred))*100:0.2f}%\")\n",
    "print(f\"Точность модели по метрике MAPE если перевести в валюту: {(mape(np.exp(y_true) - 1, np.exp(y_pred) - 1))*100:0.2f}%\")"
   ]
  },
  {
   "cell_type": "markdown",
   "metadata": {},
   "source": [
    "**Резюме:** Случайный лес без Бэгинга (МАРЕ = 11.64) оказался лучше чем с Бэгингом (МАРЕ = 11.73). Надо учитавыть, что это без настройки параметров."
   ]
  },
  {
   "cell_type": "markdown",
   "metadata": {},
   "source": [
    "### 6. Стеккинг на RandomForestRegressor и BaggingRegressor \n",
    "\n",
    "Для реализацции стеккинга определим функции:"
   ]
  },
  {
   "cell_type": "code",
   "execution_count": 131,
   "metadata": {
    "execution": {
     "iopub.execute_input": "2021-07-17T07:29:53.930573Z",
     "iopub.status.busy": "2021-07-17T07:29:53.930165Z",
     "iopub.status.idle": "2021-07-17T07:29:53.944694Z",
     "shell.execute_reply": "2021-07-17T07:29:53.942709Z",
     "shell.execute_reply.started": "2021-07-17T07:29:53.930545Z"
    }
   },
   "outputs": [],
   "source": [
    "cv = KFold(n_splits=5, shuffle=True, random_state=42)\n",
    "\n",
    "def compute_metric(clf, X_train=X_train, y_train=y_train, X_test=X_test):\n",
    "    clf.fit(X_train, y_train)\n",
    "    y_test_pred = clf.predict(X_test)\n",
    "    \n",
    "    print(f\"Точность модели по метрике MAPE: {(mape(y_test, y_test_pred))*100:0.2f}%\")\n",
    "    print(f\"Точность модели по метрике MAPE если перевести в валюту: {(mape(np.exp(y_test) - 1, np.exp(y_test_pred) - 1))*100:0.2f}%\")\n",
    "\n",
    "def generate_meta_features(classifiers, X_train, X_test, y_train, cv):\n",
    "   \n",
    "    features = [\n",
    "        compute_meta_feature(clf, X_train, X_test, y_train, cv)\n",
    "        for clf in tqdm(classifiers)\n",
    "    ]\n",
    "    \n",
    "    stacked_features_train = np.hstack([\n",
    "        features_train for features_train, features_test in features\n",
    "    ])\n",
    "\n",
    "    stacked_features_test = np.hstack([\n",
    "        features_test for features_train, features_test in features\n",
    "    ])\n",
    "    \n",
    "    return stacked_features_train, stacked_features_test\n",
    "\n",
    "def compute_meta_feature(clf, X_train, X_test, y_train, cv):\n",
    "    \n",
    "    X_meta_train = np.zeros((len(y_train)), dtype=np.float32)\n",
    "\n",
    "    splits = cv.split(X_train, y_train) \n",
    "    index = X_train.index\n",
    "    for train_fold_index, predict_fold_index in splits:\n",
    "        X_fold_train, X_fold_predict = X_train.loc[index[train_fold_index]], X_train.loc[index[predict_fold_index]]\n",
    "        y_fold_train = y_train.loc[index[train_fold_index]]\n",
    "        \n",
    "        folded_clf = clone(clf)\n",
    "        folded_clf.fit(X_fold_train, y_fold_train)\n",
    "        \n",
    "        X_meta_train[predict_fold_index] = folded_clf.predict(X_fold_predict)\n",
    "    \n",
    "    meta_clf = clone(clf)\n",
    "    meta_clf.fit(X_train, y_train)\n",
    "    \n",
    "    X_meta_test = meta_clf.predict(X_test)\n",
    "    \n",
    "    return X_meta_train.reshape(len(X_meta_train), 1), X_meta_test.reshape(len(X_meta_test), 1)"
   ]
  },
  {
   "cell_type": "code",
   "execution_count": 132,
   "metadata": {
    "execution": {
     "iopub.execute_input": "2021-07-17T07:29:53.946791Z",
     "iopub.status.busy": "2021-07-17T07:29:53.946325Z",
     "iopub.status.idle": "2021-07-17T07:29:53.965750Z",
     "shell.execute_reply": "2021-07-17T07:29:53.964513Z",
     "shell.execute_reply.started": "2021-07-17T07:29:53.946756Z"
    }
   },
   "outputs": [],
   "source": [
    "RANDOM_STATE = 42\n",
    "\n",
    "classifiers = [ \n",
    "    RandomForestRegressor(random_state = RANDOM_SEED, n_jobs = -1, verbose = 1),\n",
    "    BaggingRegressor(ExtraTreeRegressor(random_state=RANDOM_SEED), random_state=RANDOM_SEED)\n",
    "]\n",
    "\n",
    "meta_classifier = LinearRegression()"
   ]
  },
  {
   "cell_type": "code",
   "execution_count": 133,
   "metadata": {
    "execution": {
     "iopub.execute_input": "2021-07-17T07:29:53.967378Z",
     "iopub.status.busy": "2021-07-17T07:29:53.966939Z",
     "iopub.status.idle": "2021-07-17T07:30:31.763315Z",
     "shell.execute_reply": "2021-07-17T07:30:31.762609Z",
     "shell.execute_reply.started": "2021-07-17T07:29:53.967345Z"
    }
   },
   "outputs": [
    {
     "data": {
      "application/vnd.jupyter.widget-view+json": {
       "model_id": "3cc9b39486f04673a88f1291e1848074",
       "version_major": 2,
       "version_minor": 0
      },
      "text/plain": [
       "HBox(children=(FloatProgress(value=0.0, max=2.0), HTML(value='')))"
      ]
     },
     "metadata": {},
     "output_type": "display_data"
    },
    {
     "name": "stderr",
     "output_type": "stream",
     "text": [
      "[Parallel(n_jobs=-1)]: Using backend ThreadingBackend with 4 concurrent workers.\n",
      "[Parallel(n_jobs=-1)]: Done  42 tasks      | elapsed:    2.2s\n",
      "[Parallel(n_jobs=-1)]: Done 100 out of 100 | elapsed:    4.9s finished\n",
      "[Parallel(n_jobs=4)]: Using backend ThreadingBackend with 4 concurrent workers.\n",
      "[Parallel(n_jobs=4)]: Done  42 tasks      | elapsed:    0.0s\n",
      "[Parallel(n_jobs=4)]: Done 100 out of 100 | elapsed:    0.1s finished\n",
      "[Parallel(n_jobs=-1)]: Using backend ThreadingBackend with 4 concurrent workers.\n",
      "[Parallel(n_jobs=-1)]: Done  42 tasks      | elapsed:    2.1s\n",
      "[Parallel(n_jobs=-1)]: Done 100 out of 100 | elapsed:    4.9s finished\n",
      "[Parallel(n_jobs=4)]: Using backend ThreadingBackend with 4 concurrent workers.\n",
      "[Parallel(n_jobs=4)]: Done  42 tasks      | elapsed:    0.0s\n",
      "[Parallel(n_jobs=4)]: Done 100 out of 100 | elapsed:    0.1s finished\n",
      "[Parallel(n_jobs=-1)]: Using backend ThreadingBackend with 4 concurrent workers.\n",
      "[Parallel(n_jobs=-1)]: Done  42 tasks      | elapsed:    2.1s\n",
      "[Parallel(n_jobs=-1)]: Done 100 out of 100 | elapsed:    4.9s finished\n",
      "[Parallel(n_jobs=4)]: Using backend ThreadingBackend with 4 concurrent workers.\n",
      "[Parallel(n_jobs=4)]: Done  42 tasks      | elapsed:    0.1s\n",
      "[Parallel(n_jobs=4)]: Done 100 out of 100 | elapsed:    0.1s finished\n",
      "[Parallel(n_jobs=-1)]: Using backend ThreadingBackend with 4 concurrent workers.\n",
      "[Parallel(n_jobs=-1)]: Done  42 tasks      | elapsed:    2.1s\n",
      "[Parallel(n_jobs=-1)]: Done 100 out of 100 | elapsed:    4.9s finished\n",
      "[Parallel(n_jobs=4)]: Using backend ThreadingBackend with 4 concurrent workers.\n",
      "[Parallel(n_jobs=4)]: Done  42 tasks      | elapsed:    0.0s\n",
      "[Parallel(n_jobs=4)]: Done 100 out of 100 | elapsed:    0.1s finished\n",
      "[Parallel(n_jobs=-1)]: Using backend ThreadingBackend with 4 concurrent workers.\n",
      "[Parallel(n_jobs=-1)]: Done  42 tasks      | elapsed:    2.2s\n",
      "[Parallel(n_jobs=-1)]: Done 100 out of 100 | elapsed:    5.3s finished\n",
      "[Parallel(n_jobs=4)]: Using backend ThreadingBackend with 4 concurrent workers.\n",
      "[Parallel(n_jobs=4)]: Done  42 tasks      | elapsed:    0.0s\n",
      "[Parallel(n_jobs=4)]: Done 100 out of 100 | elapsed:    0.1s finished\n",
      "[Parallel(n_jobs=-1)]: Using backend ThreadingBackend with 4 concurrent workers.\n",
      "[Parallel(n_jobs=-1)]: Done  42 tasks      | elapsed:    2.7s\n",
      "[Parallel(n_jobs=-1)]: Done 100 out of 100 | elapsed:    6.3s finished\n",
      "[Parallel(n_jobs=4)]: Using backend ThreadingBackend with 4 concurrent workers.\n",
      "[Parallel(n_jobs=4)]: Done  42 tasks      | elapsed:    0.1s\n",
      "[Parallel(n_jobs=4)]: Done 100 out of 100 | elapsed:    0.1s finished\n"
     ]
    },
    {
     "name": "stdout",
     "output_type": "stream",
     "text": [
      "\n"
     ]
    }
   ],
   "source": [
    "stacked_features_train, stacked_features_test = generate_meta_features(classifiers, X_train, X_test, y_train, cv)"
   ]
  },
  {
   "cell_type": "code",
   "execution_count": 134,
   "metadata": {
    "execution": {
     "iopub.execute_input": "2021-07-17T07:30:31.764883Z",
     "iopub.status.busy": "2021-07-17T07:30:31.764470Z",
     "iopub.status.idle": "2021-07-17T07:30:31.800626Z",
     "shell.execute_reply": "2021-07-17T07:30:31.799768Z",
     "shell.execute_reply.started": "2021-07-17T07:30:31.764854Z"
    }
   },
   "outputs": [
    {
     "name": "stdout",
     "output_type": "stream",
     "text": [
      "Точность модели по метрике MAPE: 0.82%\n",
      "Точность модели по метрике MAPE если перевести в валюту: 11.54%\n"
     ]
    }
   ],
   "source": [
    "compute_metric(clf=meta_classifier, X_train=stacked_features_train, y_train=y_train, X_test=stacked_features_test)"
   ]
  },
  {
   "cell_type": "markdown",
   "metadata": {},
   "source": [
    "***Резюме*** Стеккинг показал самый лучший результат - МАРЕ = 11.53."
   ]
  },
  {
   "cell_type": "markdown",
   "metadata": {},
   "source": [
    "### 7. Сделаем подбор параметров для RandomForestRegressor"
   ]
  },
  {
   "cell_type": "markdown",
   "metadata": {},
   "source": [
    "Попробуем подбирать разные значения для некоторых параметров. Для перебора вариантов возьмем следующие параметры:\n",
    "\n",
    " - n_estimators \n",
    " - max_features \n",
    " - max_depth \n",
    " - min_samples_split \n",
    " - min_samples_leaf\n",
    " - bootstrap\n",
    "\n",
    "Мы можем сами указать, какие значения гиперпараметров надо перебрать."
   ]
  },
  {
   "cell_type": "code",
   "execution_count": 135,
   "metadata": {
    "execution": {
     "iopub.execute_input": "2021-07-17T07:30:31.802409Z",
     "iopub.status.busy": "2021-07-17T07:30:31.802126Z",
     "iopub.status.idle": "2021-07-17T07:30:31.813171Z",
     "shell.execute_reply": "2021-07-17T07:30:31.812140Z",
     "shell.execute_reply.started": "2021-07-17T07:30:31.802379Z"
    }
   },
   "outputs": [],
   "source": [
    "def find_best_params(X_train, y_train):\n",
    "    '''Функция для нахождения лучших гиперпараметров для модели.'''\n",
    "    \n",
    "    # Зададим сетку гиперпараметров, которые будут перебираться:\n",
    "    n_estimators = [int(x) for x in np.linspace(start = 100, stop = 1000, num = 5)]\n",
    "    max_features = ['auto', 'sqrt']\n",
    "    max_depth = [int(x) for x in np.linspace(10, 110, num = 3)]\n",
    "    max_depth.append(None)\n",
    "    min_samples_split = [2] #, 5, 10]\n",
    "    min_samples_leaf = [1]  #, 2, 4]\n",
    "    bootstrap = [True]      #, False]\n",
    "\n",
    "    random_grid = {'n_estimators': n_estimators,\n",
    "                   'max_features': max_features,\n",
    "                   'max_depth': max_depth,\n",
    "                   'min_samples_split': min_samples_split,\n",
    "                   'min_samples_leaf': min_samples_leaf,\n",
    "                   'bootstrap': bootstrap}\n",
    "    \n",
    "    # Обучим наш лес:\n",
    "    rf = RandomForestRegressor(random_state=42)\n",
    "    rf_random = RandomizedSearchCV(estimator=rf, param_distributions=random_grid, n_iter=50, \n",
    "                                   cv=3, verbose=2, random_state=42, n_jobs=-1)\n",
    "    rf_random.fit(X_train, y_train)\n",
    "\n",
    "    # View best hyperparameters\n",
    "    print('Оптимальные гиперпараметры:\\n')\n",
    "    print(rf_random.best_params_)\n",
    "    \n",
    "    return rf_random.best_params_"
   ]
  },
  {
   "cell_type": "code",
   "execution_count": 136,
   "metadata": {
    "execution": {
     "iopub.execute_input": "2021-07-17T07:30:31.815037Z",
     "iopub.status.busy": "2021-07-17T07:30:31.814624Z",
     "iopub.status.idle": "2021-07-17T07:30:31.824873Z",
     "shell.execute_reply": "2021-07-17T07:30:31.823686Z",
     "shell.execute_reply.started": "2021-07-17T07:30:31.815003Z"
    }
   },
   "outputs": [],
   "source": [
    "# запустим поиск гиперпаметров\n",
    "# best_params = find_best_params(X_train, y_train)"
   ]
  },
  {
   "cell_type": "markdown",
   "metadata": {},
   "source": [
    "**Резюме:** Поиск гиперпараметров не удалось осуществить. Kaggle обрывает сессию. Попробовал уменьшить сетку - тоже ничего не вышло. Надо будет посотреть разные варианты"
   ]
  },
  {
   "cell_type": "markdown",
   "metadata": {},
   "source": [
    "**В итоге** лучший результат был получен на модели CatBoostRegressor. Этот результат и отправим на проверку в соревновании на Kaggle."
   ]
  },
  {
   "cell_type": "markdown",
   "metadata": {
    "papermill": {
     "duration": 0.085876,
     "end_time": "2020-10-26T12:48:12.734207",
     "exception": false,
     "start_time": "2020-10-26T12:48:12.648331",
     "status": "completed"
    },
    "tags": []
   },
   "source": [
    "# Submission"
   ]
  },
  {
   "cell_type": "code",
   "execution_count": 137,
   "metadata": {
    "execution": {
     "iopub.execute_input": "2021-07-17T07:30:31.826686Z",
     "iopub.status.busy": "2021-07-17T07:30:31.826339Z",
     "iopub.status.idle": "2021-07-17T07:30:32.591520Z",
     "shell.execute_reply": "2021-07-17T07:30:32.589886Z",
     "shell.execute_reply.started": "2021-07-17T07:30:31.826655Z"
    },
    "papermill": {
     "duration": 0.628302,
     "end_time": "2020-10-26T12:48:13.763488",
     "exception": false,
     "start_time": "2020-10-26T12:48:13.135186",
     "status": "completed"
    },
    "tags": []
   },
   "outputs": [
    {
     "data": {
      "text/html": [
       "<div>\n",
       "<style scoped>\n",
       "    .dataframe tbody tr th:only-of-type {\n",
       "        vertical-align: middle;\n",
       "    }\n",
       "\n",
       "    .dataframe tbody tr th {\n",
       "        vertical-align: top;\n",
       "    }\n",
       "\n",
       "    .dataframe thead th {\n",
       "        text-align: right;\n",
       "    }\n",
       "</style>\n",
       "<table border=\"1\" class=\"dataframe\">\n",
       "  <thead>\n",
       "    <tr style=\"text-align: right;\">\n",
       "      <th></th>\n",
       "      <th>sell_id</th>\n",
       "      <th>price</th>\n",
       "    </tr>\n",
       "  </thead>\n",
       "  <tbody>\n",
       "    <tr>\n",
       "      <th>0</th>\n",
       "      <td>1100575026</td>\n",
       "      <td>7.562187e+05</td>\n",
       "    </tr>\n",
       "    <tr>\n",
       "      <th>1</th>\n",
       "      <td>1100549428</td>\n",
       "      <td>1.011719e+06</td>\n",
       "    </tr>\n",
       "    <tr>\n",
       "      <th>2</th>\n",
       "      <td>1100658222</td>\n",
       "      <td>1.056774e+06</td>\n",
       "    </tr>\n",
       "    <tr>\n",
       "      <th>3</th>\n",
       "      <td>1100937408</td>\n",
       "      <td>7.956625e+05</td>\n",
       "    </tr>\n",
       "    <tr>\n",
       "      <th>4</th>\n",
       "      <td>1101037972</td>\n",
       "      <td>8.610668e+05</td>\n",
       "    </tr>\n",
       "    <tr>\n",
       "      <th>5</th>\n",
       "      <td>1100912634</td>\n",
       "      <td>8.435558e+05</td>\n",
       "    </tr>\n",
       "    <tr>\n",
       "      <th>6</th>\n",
       "      <td>1101228730</td>\n",
       "      <td>7.487807e+05</td>\n",
       "    </tr>\n",
       "    <tr>\n",
       "      <th>7</th>\n",
       "      <td>1100165896</td>\n",
       "      <td>4.392823e+05</td>\n",
       "    </tr>\n",
       "    <tr>\n",
       "      <th>8</th>\n",
       "      <td>1100768262</td>\n",
       "      <td>2.188347e+06</td>\n",
       "    </tr>\n",
       "    <tr>\n",
       "      <th>9</th>\n",
       "      <td>1101218501</td>\n",
       "      <td>8.785228e+05</td>\n",
       "    </tr>\n",
       "  </tbody>\n",
       "</table>\n",
       "</div>"
      ],
      "text/plain": [
       "      sell_id         price\n",
       "0  1100575026  7.562187e+05\n",
       "1  1100549428  1.011719e+06\n",
       "2  1100658222  1.056774e+06\n",
       "3  1100937408  7.956625e+05\n",
       "4  1101037972  8.610668e+05\n",
       "5  1100912634  8.435558e+05\n",
       "6  1101228730  7.487807e+05\n",
       "7  1100165896  4.392823e+05\n",
       "8  1100768262  2.188347e+06\n",
       "9  1101218501  8.785228e+05"
      ]
     },
     "execution_count": 137,
     "metadata": {},
     "output_type": "execute_result"
    }
   ],
   "source": [
    "sample_submission['price'] = predict_submission\n",
    "sample_submission.to_csv(f'submission_2_v{VERSION}.csv', index=False)\n",
    "sample_submission.head(10)"
   ]
  },
  {
   "cell_type": "markdown",
   "metadata": {},
   "source": [
    "# 7. Итог:\n",
    "\n",
    "1. Была написана программа по сбору данных с сайта auto.ru\n",
    "2. Был подготовлен набор данных для обучения последующих алгоритмов\n",
    "\n",
    "3. В результате работы над данными:\n",
    " - был произведен разведывательный анализ данных\n",
    " - созданы новые признаки\n",
    " - отбраны признаки для модели по значимости\n",
    " - проведена проверка различных моделей, в частности  был посторен стеккинг на RandomForestRegressor и BaggingRegressor\n",
    "\n",
    "4. В финальной версии модели score - 10.85 (на валидации) и 19.34834 (Public Score на Kaggle)"
   ]
  }
 ],
 "metadata": {
  "kernelspec": {
   "display_name": "Python 3",
   "language": "python",
   "name": "python3"
  },
  "language_info": {
   "codemirror_mode": {
    "name": "ipython",
    "version": 3
   },
   "file_extension": ".py",
   "mimetype": "text/x-python",
   "name": "python",
   "nbconvert_exporter": "python",
   "pygments_lexer": "ipython3",
   "version": "3.6.6"
  }
 },
 "nbformat": 4,
 "nbformat_minor": 4
}
