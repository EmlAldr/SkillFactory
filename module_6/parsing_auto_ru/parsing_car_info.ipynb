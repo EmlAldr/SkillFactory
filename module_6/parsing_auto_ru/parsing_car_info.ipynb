{
 "cells": [
  {
   "cell_type": "code",
   "execution_count": 1,
   "metadata": {
    "id": "7RoG0s4RGfr0"
   },
   "outputs": [],
   "source": [
    "import pandas as pd\n",
    "import requests \n",
    "from pprint import pprint  \n",
    "import time\n"
   ]
  },
  {
   "cell_type": "code",
   "execution_count": 2,
   "metadata": {
    "id": "r5GPK5PfGfr1"
   },
   "outputs": [],
   "source": [
    "pd.set_option('display.max_columns', None)"
   ]
  },
  {
   "cell_type": "code",
   "execution_count": 9,
   "metadata": {
    "colab": {
     "base_uri": "https://localhost:8080/"
    },
    "id": "gB0asH9HHKWb",
    "outputId": "439152b0-d820-4017-871d-e88ab3ec026e"
   },
   "outputs": [
    {
     "name": "stdout",
     "output_type": "stream",
     "text": [
      "all_auto_ru_10_07_2021.csv  test.csv\r\n"
     ]
    }
   ],
   "source": [
    "!ls ../../data/auto_ru"
   ]
  },
  {
   "cell_type": "code",
   "execution_count": 10,
   "metadata": {
    "colab": {
     "base_uri": "https://localhost:8080/",
     "height": 414
    },
    "id": "w1PXOQeEGfr1",
    "outputId": "9d6f006a-3e8b-4ef9-ad8c-dd7ded2a5e8a"
   },
   "outputs": [
    {
     "data": {
      "text/html": [
       "<div>\n",
       "<style scoped>\n",
       "    .dataframe tbody tr th:only-of-type {\n",
       "        vertical-align: middle;\n",
       "    }\n",
       "\n",
       "    .dataframe tbody tr th {\n",
       "        vertical-align: top;\n",
       "    }\n",
       "\n",
       "    .dataframe thead th {\n",
       "        text-align: right;\n",
       "    }\n",
       "</style>\n",
       "<table border=\"1\" class=\"dataframe\">\n",
       "  <thead>\n",
       "    <tr style=\"text-align: right;\">\n",
       "      <th></th>\n",
       "      <th>bodyType</th>\n",
       "      <th>brand</th>\n",
       "      <th>car_url</th>\n",
       "      <th>color</th>\n",
       "      <th>complectation_dict</th>\n",
       "      <th>description</th>\n",
       "      <th>engineDisplacement</th>\n",
       "      <th>enginePower</th>\n",
       "      <th>equipment_dict</th>\n",
       "      <th>fuelType</th>\n",
       "      <th>image</th>\n",
       "      <th>mileage</th>\n",
       "      <th>modelDate</th>\n",
       "      <th>model_info</th>\n",
       "      <th>model_name</th>\n",
       "      <th>name</th>\n",
       "      <th>numberOfDoors</th>\n",
       "      <th>parsing_unixtime</th>\n",
       "      <th>priceCurrency</th>\n",
       "      <th>productionDate</th>\n",
       "      <th>sell_id</th>\n",
       "      <th>super_gen</th>\n",
       "      <th>vehicleConfiguration</th>\n",
       "      <th>vehicleTransmission</th>\n",
       "      <th>vendor</th>\n",
       "      <th>Владельцы</th>\n",
       "      <th>Владение</th>\n",
       "      <th>ПТС</th>\n",
       "      <th>Привод</th>\n",
       "      <th>Руль</th>\n",
       "      <th>Состояние</th>\n",
       "      <th>Таможня</th>\n",
       "    </tr>\n",
       "  </thead>\n",
       "  <tbody>\n",
       "    <tr>\n",
       "      <th>0</th>\n",
       "      <td>лифтбек</td>\n",
       "      <td>SKODA</td>\n",
       "      <td>https://auto.ru/cars/used/sale/skoda/octavia/1...</td>\n",
       "      <td>синий</td>\n",
       "      <td>NaN</td>\n",
       "      <td>Все автомобили, представленные в продаже, прох...</td>\n",
       "      <td>1.2 LTR</td>\n",
       "      <td>105 N12</td>\n",
       "      <td>{\"engine-proof\":true,\"tinted-glass\":true,\"airb...</td>\n",
       "      <td>бензин</td>\n",
       "      <td>https://autoru.naydex.net/o9DBXQ270/5ac010hAY0...</td>\n",
       "      <td>74000</td>\n",
       "      <td>2013</td>\n",
       "      <td>{\"code\":\"OCTAVIA\",\"name\":\"Octavia\",\"ru_name\":\"...</td>\n",
       "      <td>OCTAVIA</td>\n",
       "      <td>1.2 AMT (105 л.с.)</td>\n",
       "      <td>5</td>\n",
       "      <td>1603226273</td>\n",
       "      <td>RUB</td>\n",
       "      <td>2014</td>\n",
       "      <td>1100575026</td>\n",
       "      <td>{\"id\":\"10373605\",\"displacement\":1197,\"engine_t...</td>\n",
       "      <td>LIFTBACK ROBOT 1.2</td>\n",
       "      <td>роботизированная</td>\n",
       "      <td>EUROPEAN</td>\n",
       "      <td>3 или более</td>\n",
       "      <td>NaN</td>\n",
       "      <td>Оригинал</td>\n",
       "      <td>передний</td>\n",
       "      <td>Левый</td>\n",
       "      <td>Не требует ремонта</td>\n",
       "      <td>Растаможен</td>\n",
       "    </tr>\n",
       "    <tr>\n",
       "      <th>1</th>\n",
       "      <td>лифтбек</td>\n",
       "      <td>SKODA</td>\n",
       "      <td>https://auto.ru/cars/used/sale/skoda/octavia/1...</td>\n",
       "      <td>чёрный</td>\n",
       "      <td>NaN</td>\n",
       "      <td>ЛОТ: 01217195\\nАвтопрага Север\\nДанный автомоб...</td>\n",
       "      <td>1.6 LTR</td>\n",
       "      <td>110 N12</td>\n",
       "      <td>{\"cruise-control\":true,\"asr\":true,\"esp\":true,\"...</td>\n",
       "      <td>бензин</td>\n",
       "      <td>https://autoru.naydex.net/o9DBXQ270/5ac010hAY0...</td>\n",
       "      <td>60563</td>\n",
       "      <td>2017</td>\n",
       "      <td>{\"code\":\"OCTAVIA\",\"name\":\"Octavia\",\"ru_name\":\"...</td>\n",
       "      <td>OCTAVIA</td>\n",
       "      <td>1.6 MT (110 л.с.)</td>\n",
       "      <td>5</td>\n",
       "      <td>1603226277</td>\n",
       "      <td>RUB</td>\n",
       "      <td>2017</td>\n",
       "      <td>1100549428</td>\n",
       "      <td>{\"id\":\"20913311\",\"displacement\":1598,\"engine_t...</td>\n",
       "      <td>LIFTBACK MECHANICAL 1.6</td>\n",
       "      <td>механическая</td>\n",
       "      <td>EUROPEAN</td>\n",
       "      <td>1 владелец</td>\n",
       "      <td>NaN</td>\n",
       "      <td>Оригинал</td>\n",
       "      <td>передний</td>\n",
       "      <td>Левый</td>\n",
       "      <td>Не требует ремонта</td>\n",
       "      <td>Растаможен</td>\n",
       "    </tr>\n",
       "    <tr>\n",
       "      <th>2</th>\n",
       "      <td>лифтбек</td>\n",
       "      <td>SKODA</td>\n",
       "      <td>https://auto.ru/cars/used/sale/skoda/superb/11...</td>\n",
       "      <td>серый</td>\n",
       "      <td>{\"id\":\"20026336\",\"name\":\"Ambition\",\"available_...</td>\n",
       "      <td>Все автомобили, представленные в продаже, прох...</td>\n",
       "      <td>1.8 LTR</td>\n",
       "      <td>152 N12</td>\n",
       "      <td>{\"cruise-control\":true,\"tinted-glass\":true,\"es...</td>\n",
       "      <td>бензин</td>\n",
       "      <td>https://avatars.mds.yandex.net/get-autoru-vos/...</td>\n",
       "      <td>88000</td>\n",
       "      <td>2013</td>\n",
       "      <td>{\"code\":\"SUPERB\",\"name\":\"Superb\",\"ru_name\":\"Су...</td>\n",
       "      <td>SUPERB</td>\n",
       "      <td>DSG 1.8 AMT (152 л.с.)</td>\n",
       "      <td>5</td>\n",
       "      <td>1603226280</td>\n",
       "      <td>RUB</td>\n",
       "      <td>2014</td>\n",
       "      <td>1100658222</td>\n",
       "      <td>{\"id\":\"20026323\",\"nameplate\":\"DSG\",\"displaceme...</td>\n",
       "      <td>LIFTBACK ROBOT 1.8</td>\n",
       "      <td>роботизированная</td>\n",
       "      <td>EUROPEAN</td>\n",
       "      <td>1 владелец</td>\n",
       "      <td>NaN</td>\n",
       "      <td>Оригинал</td>\n",
       "      <td>передний</td>\n",
       "      <td>Левый</td>\n",
       "      <td>Не требует ремонта</td>\n",
       "      <td>Растаможен</td>\n",
       "    </tr>\n",
       "    <tr>\n",
       "      <th>3</th>\n",
       "      <td>лифтбек</td>\n",
       "      <td>SKODA</td>\n",
       "      <td>https://auto.ru/cars/used/sale/skoda/octavia/1...</td>\n",
       "      <td>коричневый</td>\n",
       "      <td>{\"id\":\"20803582\",\"name\":\"Ambition\",\"available_...</td>\n",
       "      <td>КОМПЛЕКТ ЗИМНЕЙ (ЛЕТНЕЙ) РЕЗИНЫ ПО СЕЗОНУ В ПО...</td>\n",
       "      <td>1.6 LTR</td>\n",
       "      <td>110 N12</td>\n",
       "      <td>{\"cruise-control\":true,\"roller-blind-for-rear-...</td>\n",
       "      <td>бензин</td>\n",
       "      <td>https://autoru.naydex.net/o9DBXQ270/5ac010hAY0...</td>\n",
       "      <td>95000</td>\n",
       "      <td>2013</td>\n",
       "      <td>{\"code\":\"OCTAVIA\",\"name\":\"Octavia\",\"ru_name\":\"...</td>\n",
       "      <td>OCTAVIA</td>\n",
       "      <td>1.6 AT (110 л.с.)</td>\n",
       "      <td>5</td>\n",
       "      <td>1603226284</td>\n",
       "      <td>RUB</td>\n",
       "      <td>2014</td>\n",
       "      <td>1100937408</td>\n",
       "      <td>{\"id\":\"20105521\",\"displacement\":1598,\"engine_t...</td>\n",
       "      <td>LIFTBACK AUTOMATIC 1.6</td>\n",
       "      <td>автоматическая</td>\n",
       "      <td>EUROPEAN</td>\n",
       "      <td>1 владелец</td>\n",
       "      <td>NaN</td>\n",
       "      <td>Оригинал</td>\n",
       "      <td>передний</td>\n",
       "      <td>Левый</td>\n",
       "      <td>Не требует ремонта</td>\n",
       "      <td>Растаможен</td>\n",
       "    </tr>\n",
       "  </tbody>\n",
       "</table>\n",
       "</div>"
      ],
      "text/plain": [
       "  bodyType  brand                                            car_url  \\\n",
       "0  лифтбек  SKODA  https://auto.ru/cars/used/sale/skoda/octavia/1...   \n",
       "1  лифтбек  SKODA  https://auto.ru/cars/used/sale/skoda/octavia/1...   \n",
       "2  лифтбек  SKODA  https://auto.ru/cars/used/sale/skoda/superb/11...   \n",
       "3  лифтбек  SKODA  https://auto.ru/cars/used/sale/skoda/octavia/1...   \n",
       "\n",
       "        color                                 complectation_dict  \\\n",
       "0       синий                                                NaN   \n",
       "1      чёрный                                                NaN   \n",
       "2       серый  {\"id\":\"20026336\",\"name\":\"Ambition\",\"available_...   \n",
       "3  коричневый  {\"id\":\"20803582\",\"name\":\"Ambition\",\"available_...   \n",
       "\n",
       "                                         description engineDisplacement  \\\n",
       "0  Все автомобили, представленные в продаже, прох...            1.2 LTR   \n",
       "1  ЛОТ: 01217195\\nАвтопрага Север\\nДанный автомоб...            1.6 LTR   \n",
       "2  Все автомобили, представленные в продаже, прох...            1.8 LTR   \n",
       "3  КОМПЛЕКТ ЗИМНЕЙ (ЛЕТНЕЙ) РЕЗИНЫ ПО СЕЗОНУ В ПО...            1.6 LTR   \n",
       "\n",
       "  enginePower                                     equipment_dict fuelType  \\\n",
       "0     105 N12  {\"engine-proof\":true,\"tinted-glass\":true,\"airb...   бензин   \n",
       "1     110 N12  {\"cruise-control\":true,\"asr\":true,\"esp\":true,\"...   бензин   \n",
       "2     152 N12  {\"cruise-control\":true,\"tinted-glass\":true,\"es...   бензин   \n",
       "3     110 N12  {\"cruise-control\":true,\"roller-blind-for-rear-...   бензин   \n",
       "\n",
       "                                               image  mileage  modelDate  \\\n",
       "0  https://autoru.naydex.net/o9DBXQ270/5ac010hAY0...    74000       2013   \n",
       "1  https://autoru.naydex.net/o9DBXQ270/5ac010hAY0...    60563       2017   \n",
       "2  https://avatars.mds.yandex.net/get-autoru-vos/...    88000       2013   \n",
       "3  https://autoru.naydex.net/o9DBXQ270/5ac010hAY0...    95000       2013   \n",
       "\n",
       "                                          model_info model_name  \\\n",
       "0  {\"code\":\"OCTAVIA\",\"name\":\"Octavia\",\"ru_name\":\"...    OCTAVIA   \n",
       "1  {\"code\":\"OCTAVIA\",\"name\":\"Octavia\",\"ru_name\":\"...    OCTAVIA   \n",
       "2  {\"code\":\"SUPERB\",\"name\":\"Superb\",\"ru_name\":\"Су...     SUPERB   \n",
       "3  {\"code\":\"OCTAVIA\",\"name\":\"Octavia\",\"ru_name\":\"...    OCTAVIA   \n",
       "\n",
       "                     name  numberOfDoors  parsing_unixtime priceCurrency  \\\n",
       "0      1.2 AMT (105 л.с.)              5        1603226273           RUB   \n",
       "1       1.6 MT (110 л.с.)              5        1603226277           RUB   \n",
       "2  DSG 1.8 AMT (152 л.с.)              5        1603226280           RUB   \n",
       "3       1.6 AT (110 л.с.)              5        1603226284           RUB   \n",
       "\n",
       "   productionDate     sell_id  \\\n",
       "0            2014  1100575026   \n",
       "1            2017  1100549428   \n",
       "2            2014  1100658222   \n",
       "3            2014  1100937408   \n",
       "\n",
       "                                           super_gen     vehicleConfiguration  \\\n",
       "0  {\"id\":\"10373605\",\"displacement\":1197,\"engine_t...       LIFTBACK ROBOT 1.2   \n",
       "1  {\"id\":\"20913311\",\"displacement\":1598,\"engine_t...  LIFTBACK MECHANICAL 1.6   \n",
       "2  {\"id\":\"20026323\",\"nameplate\":\"DSG\",\"displaceme...       LIFTBACK ROBOT 1.8   \n",
       "3  {\"id\":\"20105521\",\"displacement\":1598,\"engine_t...   LIFTBACK AUTOMATIC 1.6   \n",
       "\n",
       "  vehicleTransmission    vendor    Владельцы Владение       ПТС    Привод  \\\n",
       "0    роботизированная  EUROPEAN  3 или более      NaN  Оригинал  передний   \n",
       "1        механическая  EUROPEAN   1 владелец      NaN  Оригинал  передний   \n",
       "2    роботизированная  EUROPEAN   1 владелец      NaN  Оригинал  передний   \n",
       "3      автоматическая  EUROPEAN   1 владелец      NaN  Оригинал  передний   \n",
       "\n",
       "    Руль           Состояние     Таможня  \n",
       "0  Левый  Не требует ремонта  Растаможен  \n",
       "1  Левый  Не требует ремонта  Растаможен  \n",
       "2  Левый  Не требует ремонта  Растаможен  \n",
       "3  Левый  Не требует ремонта  Растаможен  "
      ]
     },
     "execution_count": 10,
     "metadata": {},
     "output_type": "execute_result"
    }
   ],
   "source": [
    "test_data = pd.read_csv('../../data/auto_ru/test.csv')\n",
    "test_data.head(4)"
   ]
  },
  {
   "cell_type": "code",
   "execution_count": 11,
   "metadata": {
    "colab": {
     "base_uri": "https://localhost:8080/"
    },
    "id": "ai12oRYfGfr2",
    "outputId": "eaaf0f50-bbbb-462c-f070-c6a89608c723"
   },
   "outputs": [
    {
     "data": {
      "text/plain": [
       "brand\n",
       "AUDI          [Q5, R8, Q7, Q3, A4, A3, A5, A6, RS7, S6, RS6,...\n",
       "BMW           [X5, X6, X7, X3, 5ER, X2, Z4, X1, 6ER, 7ER, X5...\n",
       "HONDA         [CR_V, ACCORD, PILOT, CIVIC, ODYSSEY, STREAM, ...\n",
       "INFINITI      [JX, FX, G35, Q50, QX56, QX50, QX80, EX, Q70, ...\n",
       "LEXUS         [LS, GS, ES, IS, LX, RX, NX, GX, UX, CT, LM, R...\n",
       "MERCEDES      [V_KLASSE, C_KLASSE, GLE_KLASSE, E_KLASSE, S_K...\n",
       "MITSUBISHI    [PAJERO_SPORT, OUTLANDER, L200, MONTERO, LANCE...\n",
       "NISSAN        [PATROL, TEANA, QASHQAI, AVENIR, X_TRAIL, MURA...\n",
       "SKODA         [OCTAVIA, SUPERB, OCTAVIA_RS, YETI, KODIAQ, RA...\n",
       "TOYOTA        [CAMRY, RAV_4, AVENSIS, GT86, LAND_CRUISER, CO...\n",
       "VOLKSWAGEN    [TOUAREG, TIGUAN, PASSAT, AMAROK, POLO, CADDY,...\n",
       "VOLVO         [V60_CROSS_COUNTRY, XC40, XC60, C30, V50, XC90...\n",
       "Name: model_name, dtype: object"
      ]
     },
     "execution_count": 11,
     "metadata": {},
     "output_type": "execute_result"
    }
   ],
   "source": [
    "mark_models = test_data.groupby('brand')['model_name'].unique()\n",
    "mark_models"
   ]
  },
  {
   "cell_type": "code",
   "execution_count": 12,
   "metadata": {
    "colab": {
     "base_uri": "https://localhost:8080/"
    },
    "id": "CCNqz9cvGfr3",
    "outputId": "2b9c6b8e-3ab8-47e2-b005-6bf4ee07ecae"
   },
   "outputs": [
    {
     "name": "stdout",
     "output_type": "stream",
     "text": [
      "примерное кол-во строк после парсинга должно быть := 51451\n"
     ]
    }
   ],
   "source": [
    "# кол-во объявлений на сайте на 9.9.2020 \n",
    "dict_of_num_cars_of_models ={\n",
    "    'AUDI':4355, \n",
    "    'BMW':7890, \n",
    "    'HONDA':978, \n",
    "    'INFINITI':719, \n",
    "    'LEXUS':1690, \n",
    "    'MERCEDES':11918, \n",
    "    'MITSUBISHI':3633,\n",
    "    'NISSAN':4965, \n",
    "    'SKODA':3593,\n",
    "    'TOYOTA':3878, \n",
    "    'VOLKSWAGEN':5885, \n",
    "    'VOLVO':1947\n",
    "                            \n",
    "}\n",
    "sum_of_ads = sum(dict_of_num_cars_of_models.values())\n",
    "print(f\"примерное кол-во строк после парсинга должно быть := {sum_of_ads}\")"
   ]
  },
  {
   "cell_type": "code",
   "execution_count": 13,
   "metadata": {
    "id": "RXBsBHZOGfr3"
   },
   "outputs": [],
   "source": [
    "mark_models_test_new = {\n",
    "    'BMW': \n",
    "    [\n",
    "        '02', '1ER', 'M1', '2ER', '2ACTIVETOURER', '2GRANDTOURER', '2000_C_CS', '3ER', '3_15', \n",
    "        '315', '3200', '321', '326', '327', '340', '4', '5ER', '501', '502', '503', '507', \n",
    "        '6ER', '600', '7ER', '700', '8ER', 'E3', 'E9', 'I3', 'I8', 'M2', 'M3', 'M4', 'M5', 'M6', \n",
    "        'M8', 'NEW_CLASS', 'X1', 'X2', 'X3', 'X3_M', 'X4', 'X4_M', 'X5', 'X5_M', 'X6', 'X6_M', \n",
    "        'X7', 'Z1', 'Z3', 'Z3M', 'Z4', 'Z4_M', 'Z8'\n",
    "    ]\n",
    "}\n",
    "\n",
    "mark_models_test = {\n",
    "    'BMW': ['X6', 'X6_M'],\n",
    "    'AUDI': ['A3', 'A4'],\n",
    "    'MERCEDES': ['A_KLASSE', 'B_KLASSE']\n",
    "}"
   ]
  },
  {
   "cell_type": "code",
   "execution_count": 14,
   "metadata": {
    "id": "Ade-E22xGfr4"
   },
   "outputs": [],
   "source": [
    "url = 'https://auto.ru/-/ajax/desktop/listing/'\n",
    "\n",
    "headers_str = '''\n",
    "Content-Type: application/json\n",
    "Accept: */*\n",
    "Host: auto.ru\n",
    "Accept-Language: ru\n",
    "Accept-Encoding: gzip, deflate, br\n",
    "Origin: https://auto.ru\n",
    "User-Agent: Mozilla/5.0 (Macintosh; Intel Mac OS X 10_15_6) AppleWebKit/605.1.15 (KHTML, like Gecko) Version/14.0.3 Safari/605.1.15\n",
    "Referer: https://auto.ru/moskva/cars/bmw/x6/all/?year_from=2006&page=2\n",
    "Content-Length: 140\n",
    "Connection: keep-alive\n",
    "Cookie: X-Vertis-DC=sas; _ym_d=1621806366; _ym_uid=1621800459792698824; from=direct; from_lifetime=1621806366665; _ga=GA1.2.421131736.1621806330; _gid=GA1.2.2021181961.1621806330; counter_ga_all7=2; cycada=iN2A5uLdR+zTy2ptvUs+H4BFdF0VWbLcZ9IHU3PcFB0=; _ym_isad=2; my=YwA%3D; yandexuid=7081273821577612209; yuidlt=1; gdpr=0; _csrf_token=404b142977c73006dc5c3410cd4430dc845a661fb6dfef17; autoru_sid=a%3Ag60aab6092i9el9r142u2ts0l9io4051.673c5078c87fa337d61ca68f7e918f5d%7C1621800457681.604800.HJmS2HhJZxh5vjtuilECrw.hmx2qo02oOO8FbDZTA0wjZ25syNtUcxazug4T1AxOqw; autoruuid=g60aab6092i9el9r142u2ts0l9io4051.673c5078c87fa337d61ca68f7e918f5d; suid=195b37884f463dfa96f787c1024c9de2.cfa1364ed2bb4ca2f35140d579e3a425\n",
    "x-client-date: 1621806544096\n",
    "x-requested-with: fetch\n",
    "x-page-request-id: f73d43ad7705aeb8a4a74162268c0e5c\n",
    "x-client-app-version: 857b8a483d9\n",
    "x-csrf-token: 404b142977c73006dc5c3410cd4430dc845a661fb6dfef17\n",
    "'''"
   ]
  },
  {
   "cell_type": "code",
   "execution_count": 15,
   "metadata": {
    "colab": {
     "base_uri": "https://localhost:8080/"
    },
    "id": "B_ssWcJnGfr5",
    "outputId": "9810980c-cb50-46d9-a445-37491c3ae636"
   },
   "outputs": [
    {
     "data": {
      "text/plain": [
       "{'Content-Type': 'application/json',\n",
       " 'Accept': '*/*',\n",
       " 'Host': 'auto.ru',\n",
       " 'Accept-Language': 'ru',\n",
       " 'Accept-Encoding': 'gzip, deflate, br',\n",
       " 'Origin': 'https://auto.ru',\n",
       " 'User-Agent': 'Mozilla/5.0 (Macintosh; Intel Mac OS X 10_15_6) AppleWebKit/605.1.15 (KHTML, like Gecko) Version/14.0.3 Safari/605.1.15',\n",
       " 'Referer': 'https://auto.ru/moskva/cars/bmw/x6/all/?year_from=2006&page=2',\n",
       " 'Content-Length': '140',\n",
       " 'Connection': 'keep-alive',\n",
       " 'Cookie': 'X-Vertis-DC=sas; _ym_d=1621806366; _ym_uid=1621800459792698824; from=direct; from_lifetime=1621806366665; _ga=GA1.2.421131736.1621806330; _gid=GA1.2.2021181961.1621806330; counter_ga_all7=2; cycada=iN2A5uLdR+zTy2ptvUs+H4BFdF0VWbLcZ9IHU3PcFB0=; _ym_isad=2; my=YwA%3D; yandexuid=7081273821577612209; yuidlt=1; gdpr=0; _csrf_token=404b142977c73006dc5c3410cd4430dc845a661fb6dfef17; autoru_sid=a%3Ag60aab6092i9el9r142u2ts0l9io4051.673c5078c87fa337d61ca68f7e918f5d%7C1621800457681.604800.HJmS2HhJZxh5vjtuilECrw.hmx2qo02oOO8FbDZTA0wjZ25syNtUcxazug4T1AxOqw; autoruuid=g60aab6092i9el9r142u2ts0l9io4051.673c5078c87fa337d61ca68f7e918f5d; suid=195b37884f463dfa96f787c1024c9de2.cfa1364ed2bb4ca2f35140d579e3a425',\n",
       " 'x-client-date': '1621806544096',\n",
       " 'x-requested-with': 'fetch',\n",
       " 'x-page-request-id': 'f73d43ad7705aeb8a4a74162268c0e5c',\n",
       " 'x-client-app-version': '857b8a483d9',\n",
       " 'x-csrf-token': '404b142977c73006dc5c3410cd4430dc845a661fb6dfef17'}"
      ]
     },
     "execution_count": 15,
     "metadata": {},
     "output_type": "execute_result"
    }
   ],
   "source": [
    "headers = {}\n",
    "for el in headers_str.strip().split('\\n'):\n",
    "    key, value = el.split(': ')\n",
    "    headers[key] = value\n",
    "    \n",
    "headers"
   ]
  },
  {
   "cell_type": "code",
   "execution_count": 16,
   "metadata": {
    "id": "SLR4BSwuGfr5"
   },
   "outputs": [],
   "source": [
    "# создаем функцию для обработки 23 необходимых столбцов\n",
    "def from_elem_to_dict(d_elem):\n",
    "    d_dict = {}\n",
    "    \n",
    "    try: d_dict['bodyType'] = d_elem['vehicle_info']['configuration']['human_name']\n",
    "    except: d_dict['bodyType'] = None\n",
    "\n",
    "    try: d_dict['brand'] = d_elem['vehicle_info']['mark_info']['code']\n",
    "    except: d_dict['brand'] = None\n",
    "\n",
    "    try: d_dict['color'] = d_elem['color_hex']\n",
    "    except: d_dict['color'] = None\n",
    "\n",
    "    try: d_dict['fuelType'] = d_elem['lk_summary'].split()[-1]\n",
    "    except: d_dict['fuelType'] = None\n",
    "\n",
    "    try: d_dict['modelDate'] = d_elem['vehicle_info']['super_gen']['year_from']\n",
    "    except: d_dict['modelDate'] = None\n",
    "\n",
    "    try: d_dict['name'] =  d_elem['vehicle_info']['tech_param']['human_name']\n",
    "    except: d_dict['name'] = None\n",
    "\n",
    "    try: d_dict['numberOfDoors'] = d_elem['vehicle_info']['configuration']['doors_count']\n",
    "    except: d_dict['numberOfDoors'] = None\n",
    "\n",
    "    try: d_dict['productionDate'] = d_elem['documents']['year']\n",
    "    except: d_dict['productionDate'] = None\n",
    "\n",
    "    try: d_dict['vehicleTransmission'] = d_elem['vehicle_info']['tech_param']['transmission']\n",
    "    except: d_dict['vehicleTransmission'] = None\n",
    "\n",
    "    try: d_dict['engineDisplacement'] = d_elem['vehicle_info']['tech_param']['human_name'].split()[1]\n",
    "    except: d_dict['engineDisplacement'] = None\n",
    "\n",
    "    try:\n",
    "        s1 = d_elem['vehicle_info']['configuration']['body_type'] \n",
    "        s2 = d_elem['vehicle_info']['tech_param']['transmission']\n",
    "        s3 = d_elem['vehicle_info']['tech_param']['human_name'].split()[1]\n",
    "        d_dict['vehicleConfiguration'] = s1+' '+s2+' '+s3\n",
    "    except: \n",
    "        d_dict['vehicleConfiguration'] = None\n",
    "\n",
    "    try: d_dict['enginePower'] = d_elem['vehicle_info']['tech_param']['power']\n",
    "    except: d_dict['enginePower'] = None\n",
    "\n",
    "    try: d_dict['description'] = d_elem['description']\n",
    "    except: d_dict['description'] = None\n",
    "\n",
    "    try: d_dict['mileage'] = d_elem['state']['mileage']\n",
    "    except: d_dict['mileage'] = None\n",
    "\n",
    "    try: d_dict['Привод'] = d_elem['lk_summary'].split(', ')[-2]\n",
    "    except: d_dict['Привод'] = None\n",
    "\n",
    "    try: d_dict['Руль'] = d_elem['vehicle_info']['steering_wheel']\n",
    "    except: d_dict['Руль'] = None\n",
    "\n",
    "    try: d_dict['Владельцы'] = d_elem['documents']['owners_number']\n",
    "    except: d_dict['Владельцы'] = None\n",
    "\n",
    "    try: d_dict['ПТС'] = d_elem['documents']['pts']\n",
    "    except: d_dict['ПТС'] = None\n",
    "\n",
    "    try: d_dict['Таможня'] = d_elem['documents']['custom_cleared']\n",
    "    except: d_dict['Таможня'] = None\n",
    "\n",
    "    try: d_dict['Владение'] =  d_elem['documents']['purchase_date']\n",
    "    except: d_dict['Владение'] = None\n",
    "\n",
    "\n",
    "    try: d_dict['price'] = d_elem['price_info']['RUR']\n",
    "    except: d_dict['price'] = None\n",
    "\n",
    "    # модель \n",
    "    try: d_dict['model'] =  d_elem['vehicle_info']['model_info']['code']\n",
    "    except: d_dict['model'] = None\n",
    "        \n",
    "    # вендор \n",
    "    try: d_dict['vendor'] =  d_elem['vehicle_info']['vendor']\n",
    "    except: d_dict['vendor'] = None\n",
    "    \n",
    "    # equipment\n",
    "    try: d_dict['equipment_dict'] =  str(d_elem['vehicle_info']['equipment'])\n",
    "    except: d_dict['equipment_dict'] = None\n",
    "        \n",
    "    # complectation\n",
    "    try: d_dict['complectation_dict'] =  str(d_elem['vehicle_info']['complectation'])\n",
    "    except: d_dict['complectation_dict'] = None\n",
    "        \n",
    "    return d_dict\n"
   ]
  },
  {
   "cell_type": "code",
   "execution_count": 17,
   "metadata": {
    "colab": {
     "base_uri": "https://localhost:8080/",
     "height": 446
    },
    "id": "FGc77Pb1Gfr6",
    "outputId": "993d6e2d-31a1-4991-fe6a-fae4a18e9fd3"
   },
   "outputs": [
    {
     "name": "stdout",
     "output_type": "stream",
     "text": [
      "1.BMW           ушло:0 сек., стр. 75 из 7890 0.95%,       всего стр. 75, прогноз 0 мин.\n",
      "2.AUDI          ушло:0 сек., стр. 76 из 4355 1.75%,       всего стр. 151, прогноз 0 мин.\n",
      "3.MERCEDES      ушло:0 сек., стр. 76 из 11918 0.64%,      всего стр. 227, прогноз 0 мин.\n",
      "Всего спарсили := 227 строк, на это ушло: 0 мин., \n"
     ]
    }
   ],
   "source": [
    "auto_ru = []\n",
    "page_num = 100\n",
    "\n",
    "iter_of_ads, iter_of_marks, old_iter_of_ads, sum_ads, sum_ads_from_dict = 0,0,0,0,0\n",
    "space = ' '\n",
    "start_time_global = time.clock()\n",
    "\n",
    "for mark, models in mark_models.items():\n",
    "    start_time = time.clock()\n",
    "    \n",
    "    for model in models:\n",
    "        for page in range(1, page_num):\n",
    "            params = {\n",
    "                \"category\":\"cars\",\n",
    "                \"section\":\"all\",\n",
    "                \"catalog_filter\":[{\"mark\": mark,\"model\": model}],\n",
    "                \"page\":page,\n",
    "                \"geo_radius\":200,\n",
    "                \"geo_id\":[213]\n",
    "            }\n",
    "            response = requests.post(url, json=params, headers=headers)\n",
    "            if response.status_code == 200:\n",
    "                data = response.json() \n",
    "                for elem in data['offers']:\n",
    "                    auto_ru.append(from_elem_to_dict(elem))\n",
    "                    iter_of_ads += 1\n",
    "            else:\n",
    "                break\n",
    "                    \n",
    "    iter_of_marks +=1\n",
    "    temp_1 = iter_of_ads-old_iter_of_ads\n",
    "    temp_2 = dict_of_num_cars_of_models[mark]\n",
    "    temp_3 = temp_1/temp_2\n",
    "    temp_4 = space*abs(13-len(mark)-len(str(iter_of_marks)))\n",
    "    temp_5 = int(time.clock() - start_time)\n",
    "    temp_8 = round(temp_3*100,2)\n",
    "    temp_7 = space*abs(18-len(str(temp_1))-len(str(temp_2))-len(str(temp_8))-len(str(temp_5)))\n",
    "    temp_9 = int(time.clock() - start_time_global)\n",
    "    \n",
    "\n",
    "    sum_ads += temp_1\n",
    "    sum_ads_from_dict += temp_2\n",
    "    temp_def = sum_ads/sum_ads_from_dict\n",
    "    temp_6 = (sum_of_ads*temp_def - iter_of_ads)*temp_9/sum_ads\n",
    "\n",
    "\n",
    "    print (f'{iter_of_marks}.{mark} {temp_4} ушло:{temp_5} сек., стр. {temp_1} из {temp_2} {temp_8}%,{temp_7}всего стр. {iter_of_ads}, прогноз {int(temp_6/60)} мин.')\n",
    "\n",
    "    old_iter_of_ads=iter_of_ads\n",
    "\n",
    "print (f'Всего спарсили := {iter_of_ads} строк, на это ушло: {int((time.clock() - start_time_global)/60)} мин., ')"
   ]
  },
  {
   "cell_type": "code",
   "execution_count": 18,
   "metadata": {
    "id": "YBX35ZMAGfr6"
   },
   "outputs": [
    {
     "name": "stdout",
     "output_type": "stream",
     "text": [
      "кол-во строк датасета:= 227\n"
     ]
    }
   ],
   "source": [
    "# запись датасета\n",
    "train_data = pd.DataFrame(auto_ru)\n",
    "train_data.to_csv('all_auto_ru_10_07_2021.csv', index=False)\n",
    "print(f'кол-во строк датасета:= {len(train_data)}')"
   ]
  },
  {
   "cell_type": "code",
   "execution_count": null,
   "metadata": {
    "id": "EFiwl58TGfr8"
   },
   "outputs": [],
   "source": []
  }
 ],
 "metadata": {
  "colab": {
   "name": "new_note.ipynb",
   "provenance": []
  },
  "kernelspec": {
   "display_name": "Python 3",
   "language": "python",
   "name": "python3"
  },
  "language_info": {
   "codemirror_mode": {
    "name": "ipython",
    "version": 3
   },
   "file_extension": ".py",
   "mimetype": "text/x-python",
   "name": "python",
   "nbconvert_exporter": "python",
   "pygments_lexer": "ipython3",
   "version": "3.6.6"
  }
 },
 "nbformat": 4,
 "nbformat_minor": 1
}
