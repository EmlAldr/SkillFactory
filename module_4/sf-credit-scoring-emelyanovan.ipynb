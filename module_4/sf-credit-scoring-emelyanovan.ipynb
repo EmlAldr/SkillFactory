{
 "cells": [
  {
   "cell_type": "markdown",
   "metadata": {
    "papermill": {
     "duration": 0.084394,
     "end_time": "2021-04-11T21:02:12.573651",
     "exception": false,
     "start_time": "2021-04-11T21:02:12.489257",
     "status": "completed"
    },
    "tags": []
   },
   "source": [
    "\n",
    "# Credit Scoring\n",
    "\n",
    "**Цель проекта** - предсказать дефолт клиента \n",
    "\n",
    "**Задачи**:\n",
    "\n",
    " - Подготовить набор данных для обучения модели\n",
    " - Потренировать работу с pandas на реальных данных\n",
    " - Попрактиковаться в предобработке различных данных, в частности с пропущенными данными (Nan) и с различными видами кодирования признаков\n",
    " - Попрактиковаться в Feature Engineering\n",
    " - Попрактиковаться в построении модели, в определении оптимальных гиперпарамтров для нее\n",
    " - Попрактиковаться в работе с несбалансированной выборкой и методами работы с ней"
   ]
  },
  {
   "cell_type": "markdown",
   "metadata": {
    "papermill": {
     "duration": 0.077286,
     "end_time": "2021-04-11T21:02:12.729353",
     "exception": false,
     "start_time": "2021-04-11T21:02:12.652067",
     "status": "completed"
    },
    "tags": []
   },
   "source": [
    "# 1. import"
   ]
  },
  {
   "cell_type": "code",
   "execution_count": 1,
   "metadata": {
    "execution": {
     "iopub.execute_input": "2021-04-11T21:02:12.899430Z",
     "iopub.status.busy": "2021-04-11T21:02:12.898628Z",
     "iopub.status.idle": "2021-04-11T21:02:14.652011Z",
     "shell.execute_reply": "2021-04-11T21:02:14.651176Z"
    },
    "papermill": {
     "duration": 1.844589,
     "end_time": "2021-04-11T21:02:14.652181",
     "exception": false,
     "start_time": "2021-04-11T21:02:12.807592",
     "status": "completed"
    },
    "tags": []
   },
   "outputs": [],
   "source": [
    "from pandas import Series\n",
    "import pandas as pd\n",
    "import numpy as np\n",
    "import seaborn as sns\n",
    "import os\n",
    "import math\n",
    "\n",
    "from sklearn.feature_selection import f_classif, mutual_info_classif\n",
    "from sklearn.preprocessing import LabelEncoder, OneHotEncoder, StandardScaler\n",
    "\n",
    "from sklearn.model_selection import train_test_split\n",
    "from sklearn.model_selection import GridSearchCV\n",
    "from sklearn.model_selection import cross_validate\n",
    "\n",
    "from sklearn.linear_model import LogisticRegression\n",
    "\n",
    "from sklearn.metrics import auc, roc_auc_score, roc_curve\n",
    "from sklearn.metrics import accuracy_score, precision_score, recall_score, f1_score\n",
    "from sklearn.metrics import confusion_matrix, balanced_accuracy_score, cohen_kappa_score\n",
    "from sklearn.metrics import precision_recall_curve\n",
    "\n",
    "from itertools import combinations\n",
    "from scipy.stats import ttest_ind\n",
    "\n",
    "from imblearn.over_sampling import SMOTE\n",
    "from imblearn.under_sampling import RandomUnderSampler\n",
    "\n",
    "import matplotlib.pyplot as plt\n",
    "%matplotlib inline"
   ]
  },
  {
   "cell_type": "code",
   "execution_count": 2,
   "metadata": {},
   "outputs": [],
   "source": [
    "#!pip install --user imblearn\n",
    "#!pip install --user -U scikit-learn\n",
    "#!pip install --user scikit-learn==0.24.1"
   ]
  },
  {
   "cell_type": "code",
   "execution_count": 3,
   "metadata": {
    "execution": {
     "iopub.execute_input": "2021-04-11T21:02:14.819473Z",
     "iopub.status.busy": "2021-04-11T21:02:14.818816Z",
     "iopub.status.idle": "2021-04-11T21:02:14.822623Z",
     "shell.execute_reply": "2021-04-11T21:02:14.821997Z"
    },
    "papermill": {
     "duration": 0.086765,
     "end_time": "2021-04-11T21:02:14.822767",
     "exception": false,
     "start_time": "2021-04-11T21:02:14.736002",
     "status": "completed"
    },
    "tags": []
   },
   "outputs": [],
   "source": [
    "# Уберем Warnings из отображения\n",
    "import warnings; warnings.simplefilter('ignore')\n",
    "\n",
    "# Поправим отображение дасетов\n",
    "pd.set_option('display.max_columns', None)"
   ]
  },
  {
   "cell_type": "code",
   "execution_count": 4,
   "metadata": {
    "execution": {
     "iopub.execute_input": "2021-04-11T21:02:14.987292Z",
     "iopub.status.busy": "2021-04-11T21:02:14.986628Z",
     "iopub.status.idle": "2021-04-11T21:02:14.996226Z",
     "shell.execute_reply": "2021-04-11T21:02:14.995459Z"
    },
    "papermill": {
     "duration": 0.094546,
     "end_time": "2021-04-11T21:02:14.996442",
     "exception": false,
     "start_time": "2021-04-11T21:02:14.901896",
     "status": "completed"
    },
    "tags": []
   },
   "outputs": [
    {
     "name": "stdout",
     "output_type": "stream",
     "text": [
      "./.DS_Store\n",
      "./requirements.txt\n",
      "./sf-credit-scoring-emelyanovan.ipynb\n",
      "./utils_module28072020.py\n",
      "./.ipynb_checkpoints/[SF-DST] Credit Scoring (EmelyanovAN)-checkpoint.ipynb\n",
      "./.ipynb_checkpoints/sf-credit-scoring-emelyanovan-checkpoint.ipynb\n",
      "./sf-dst-scoring/sample_submission.csv\n",
      "./sf-dst-scoring/test.csv\n",
      "./sf-dst-scoring/train.csv\n"
     ]
    }
   ],
   "source": [
    "# этот блок закомментирован так как используется только на kaggle\n",
    "for dirname, _, filenames in os.walk('.'):\n",
    "    for filename in filenames:\n",
    "        print(os.path.join(dirname, filename))\n",
    "        \n",
    "PATH_to_file = './sf-dst-scoring/'"
   ]
  },
  {
   "cell_type": "code",
   "execution_count": 5,
   "metadata": {
    "execution": {
     "iopub.execute_input": "2021-04-11T21:02:15.175283Z",
     "iopub.status.busy": "2021-04-11T21:02:15.160980Z",
     "iopub.status.idle": "2021-04-11T21:02:17.948296Z",
     "shell.execute_reply": "2021-04-11T21:02:17.947618Z"
    },
    "papermill": {
     "duration": 2.872132,
     "end_time": "2021-04-11T21:02:17.948465",
     "exception": false,
     "start_time": "2021-04-11T21:02:15.076333",
     "status": "completed"
    },
    "tags": []
   },
   "outputs": [],
   "source": [
    "RANDOM_SEED = 42\n",
    "!pip freeze > requirements.txt\n",
    "CURRENT_DATE = pd.to_datetime('04/04/2021')"
   ]
  },
  {
   "cell_type": "markdown",
   "metadata": {
    "papermill": {
     "duration": 0.080291,
     "end_time": "2021-04-11T21:02:18.108035",
     "exception": false,
     "start_time": "2021-04-11T21:02:18.027744",
     "status": "completed"
    },
    "tags": []
   },
   "source": [
    "# 2. Data"
   ]
  },
  {
   "cell_type": "code",
   "execution_count": 6,
   "metadata": {
    "execution": {
     "iopub.execute_input": "2021-04-11T21:02:18.273906Z",
     "iopub.status.busy": "2021-04-11T21:02:18.273257Z",
     "iopub.status.idle": "2021-04-11T21:02:18.633816Z",
     "shell.execute_reply": "2021-04-11T21:02:18.633075Z"
    },
    "papermill": {
     "duration": 0.446079,
     "end_time": "2021-04-11T21:02:18.633980",
     "exception": false,
     "start_time": "2021-04-11T21:02:18.187901",
     "status": "completed"
    },
    "tags": []
   },
   "outputs": [
    {
     "name": "stdout",
     "output_type": "stream",
     "text": [
      "Размерность тренировочного датасета:  (73799, 19)\n"
     ]
    },
    {
     "data": {
      "text/html": [
       "<div>\n",
       "<style scoped>\n",
       "    .dataframe tbody tr th:only-of-type {\n",
       "        vertical-align: middle;\n",
       "    }\n",
       "\n",
       "    .dataframe tbody tr th {\n",
       "        vertical-align: top;\n",
       "    }\n",
       "\n",
       "    .dataframe thead th {\n",
       "        text-align: right;\n",
       "    }\n",
       "</style>\n",
       "<table border=\"1\" class=\"dataframe\">\n",
       "  <thead>\n",
       "    <tr style=\"text-align: right;\">\n",
       "      <th></th>\n",
       "      <th>client_id</th>\n",
       "      <th>app_date</th>\n",
       "      <th>education</th>\n",
       "      <th>sex</th>\n",
       "      <th>age</th>\n",
       "      <th>car</th>\n",
       "      <th>car_type</th>\n",
       "      <th>decline_app_cnt</th>\n",
       "      <th>good_work</th>\n",
       "      <th>score_bki</th>\n",
       "      <th>bki_request_cnt</th>\n",
       "      <th>region_rating</th>\n",
       "      <th>home_address</th>\n",
       "      <th>work_address</th>\n",
       "      <th>income</th>\n",
       "      <th>sna</th>\n",
       "      <th>first_time</th>\n",
       "      <th>foreign_passport</th>\n",
       "      <th>default</th>\n",
       "    </tr>\n",
       "  </thead>\n",
       "  <tbody>\n",
       "    <tr>\n",
       "      <th>0</th>\n",
       "      <td>25905</td>\n",
       "      <td>01FEB2014</td>\n",
       "      <td>SCH</td>\n",
       "      <td>M</td>\n",
       "      <td>62</td>\n",
       "      <td>Y</td>\n",
       "      <td>Y</td>\n",
       "      <td>0</td>\n",
       "      <td>0</td>\n",
       "      <td>-2.008753</td>\n",
       "      <td>1</td>\n",
       "      <td>50</td>\n",
       "      <td>1</td>\n",
       "      <td>2</td>\n",
       "      <td>18000</td>\n",
       "      <td>4</td>\n",
       "      <td>1</td>\n",
       "      <td>N</td>\n",
       "      <td>0</td>\n",
       "    </tr>\n",
       "    <tr>\n",
       "      <th>1</th>\n",
       "      <td>63161</td>\n",
       "      <td>12MAR2014</td>\n",
       "      <td>SCH</td>\n",
       "      <td>F</td>\n",
       "      <td>59</td>\n",
       "      <td>N</td>\n",
       "      <td>N</td>\n",
       "      <td>0</td>\n",
       "      <td>0</td>\n",
       "      <td>-1.532276</td>\n",
       "      <td>3</td>\n",
       "      <td>50</td>\n",
       "      <td>2</td>\n",
       "      <td>3</td>\n",
       "      <td>19000</td>\n",
       "      <td>4</td>\n",
       "      <td>1</td>\n",
       "      <td>N</td>\n",
       "      <td>0</td>\n",
       "    </tr>\n",
       "  </tbody>\n",
       "</table>\n",
       "</div>"
      ],
      "text/plain": [
       "   client_id   app_date education sex  age car car_type  decline_app_cnt  \\\n",
       "0      25905  01FEB2014       SCH   M   62   Y        Y                0   \n",
       "1      63161  12MAR2014       SCH   F   59   N        N                0   \n",
       "\n",
       "   good_work  score_bki  bki_request_cnt  region_rating  home_address  \\\n",
       "0          0  -2.008753                1             50             1   \n",
       "1          0  -1.532276                3             50             2   \n",
       "\n",
       "   work_address  income  sna  first_time foreign_passport  default  \n",
       "0             2   18000    4           1                N        0  \n",
       "1             3   19000    4           1                N        0  "
      ]
     },
     "metadata": {},
     "output_type": "display_data"
    },
    {
     "name": "stdout",
     "output_type": "stream",
     "text": [
      "Размерность тестового датасета:  (36349, 18)\n"
     ]
    },
    {
     "data": {
      "text/html": [
       "<div>\n",
       "<style scoped>\n",
       "    .dataframe tbody tr th:only-of-type {\n",
       "        vertical-align: middle;\n",
       "    }\n",
       "\n",
       "    .dataframe tbody tr th {\n",
       "        vertical-align: top;\n",
       "    }\n",
       "\n",
       "    .dataframe thead th {\n",
       "        text-align: right;\n",
       "    }\n",
       "</style>\n",
       "<table border=\"1\" class=\"dataframe\">\n",
       "  <thead>\n",
       "    <tr style=\"text-align: right;\">\n",
       "      <th></th>\n",
       "      <th>client_id</th>\n",
       "      <th>app_date</th>\n",
       "      <th>education</th>\n",
       "      <th>sex</th>\n",
       "      <th>age</th>\n",
       "      <th>car</th>\n",
       "      <th>car_type</th>\n",
       "      <th>decline_app_cnt</th>\n",
       "      <th>good_work</th>\n",
       "      <th>score_bki</th>\n",
       "      <th>bki_request_cnt</th>\n",
       "      <th>region_rating</th>\n",
       "      <th>home_address</th>\n",
       "      <th>work_address</th>\n",
       "      <th>income</th>\n",
       "      <th>sna</th>\n",
       "      <th>first_time</th>\n",
       "      <th>foreign_passport</th>\n",
       "    </tr>\n",
       "  </thead>\n",
       "  <tbody>\n",
       "    <tr>\n",
       "      <th>0</th>\n",
       "      <td>74835</td>\n",
       "      <td>22MAR2014</td>\n",
       "      <td>GRD</td>\n",
       "      <td>M</td>\n",
       "      <td>29</td>\n",
       "      <td>Y</td>\n",
       "      <td>Y</td>\n",
       "      <td>0</td>\n",
       "      <td>0</td>\n",
       "      <td>-2.271884</td>\n",
       "      <td>3</td>\n",
       "      <td>50</td>\n",
       "      <td>1</td>\n",
       "      <td>2</td>\n",
       "      <td>50000</td>\n",
       "      <td>1</td>\n",
       "      <td>4</td>\n",
       "      <td>N</td>\n",
       "    </tr>\n",
       "    <tr>\n",
       "      <th>1</th>\n",
       "      <td>17527</td>\n",
       "      <td>24JAN2014</td>\n",
       "      <td>SCH</td>\n",
       "      <td>F</td>\n",
       "      <td>39</td>\n",
       "      <td>N</td>\n",
       "      <td>N</td>\n",
       "      <td>5</td>\n",
       "      <td>0</td>\n",
       "      <td>-1.504999</td>\n",
       "      <td>2</td>\n",
       "      <td>50</td>\n",
       "      <td>1</td>\n",
       "      <td>2</td>\n",
       "      <td>5000</td>\n",
       "      <td>4</td>\n",
       "      <td>3</td>\n",
       "      <td>N</td>\n",
       "    </tr>\n",
       "  </tbody>\n",
       "</table>\n",
       "</div>"
      ],
      "text/plain": [
       "   client_id   app_date education sex  age car car_type  decline_app_cnt  \\\n",
       "0      74835  22MAR2014       GRD   M   29   Y        Y                0   \n",
       "1      17527  24JAN2014       SCH   F   39   N        N                5   \n",
       "\n",
       "   good_work  score_bki  bki_request_cnt  region_rating  home_address  \\\n",
       "0          0  -2.271884                3             50             1   \n",
       "1          0  -1.504999                2             50             1   \n",
       "\n",
       "   work_address  income  sna  first_time foreign_passport  \n",
       "0             2   50000    1           4                N  \n",
       "1             2    5000    4           3                N  "
      ]
     },
     "metadata": {},
     "output_type": "display_data"
    }
   ],
   "source": [
    "# Загрузим данные обучающей и тестовой выборок \n",
    "data_train = pd.read_csv(PATH_to_file + 'train.csv')\n",
    "data_test = pd.read_csv(PATH_to_file + 'test.csv')\n",
    "\n",
    "# Посмотрим на загруженные данные\n",
    "print('Размерность тренировочного датасета: ', data_train.shape)\n",
    "display(data_train.head(2))\n",
    "print('Размерность тестового датасета: ', data_test.shape)\n",
    "display(data_test.head(2))"
   ]
  },
  {
   "cell_type": "code",
   "execution_count": 7,
   "metadata": {
    "execution": {
     "iopub.execute_input": "2021-04-11T21:02:18.805709Z",
     "iopub.status.busy": "2021-04-11T21:02:18.804987Z",
     "iopub.status.idle": "2021-04-11T21:02:18.877001Z",
     "shell.execute_reply": "2021-04-11T21:02:18.876487Z"
    },
    "papermill": {
     "duration": 0.162477,
     "end_time": "2021-04-11T21:02:18.877144",
     "exception": false,
     "start_time": "2021-04-11T21:02:18.714667",
     "status": "completed"
    },
    "tags": []
   },
   "outputs": [
    {
     "name": "stdout",
     "output_type": "stream",
     "text": [
      "Размерность тестового датасета:  (110148, 20)\n"
     ]
    },
    {
     "data": {
      "text/html": [
       "<div>\n",
       "<style scoped>\n",
       "    .dataframe tbody tr th:only-of-type {\n",
       "        vertical-align: middle;\n",
       "    }\n",
       "\n",
       "    .dataframe tbody tr th {\n",
       "        vertical-align: top;\n",
       "    }\n",
       "\n",
       "    .dataframe thead th {\n",
       "        text-align: right;\n",
       "    }\n",
       "</style>\n",
       "<table border=\"1\" class=\"dataframe\">\n",
       "  <thead>\n",
       "    <tr style=\"text-align: right;\">\n",
       "      <th></th>\n",
       "      <th>client_id</th>\n",
       "      <th>app_date</th>\n",
       "      <th>education</th>\n",
       "      <th>sex</th>\n",
       "      <th>age</th>\n",
       "      <th>car</th>\n",
       "      <th>car_type</th>\n",
       "      <th>decline_app_cnt</th>\n",
       "      <th>good_work</th>\n",
       "      <th>score_bki</th>\n",
       "      <th>bki_request_cnt</th>\n",
       "      <th>region_rating</th>\n",
       "      <th>home_address</th>\n",
       "      <th>work_address</th>\n",
       "      <th>income</th>\n",
       "      <th>sna</th>\n",
       "      <th>first_time</th>\n",
       "      <th>foreign_passport</th>\n",
       "      <th>default</th>\n",
       "      <th>train</th>\n",
       "    </tr>\n",
       "  </thead>\n",
       "  <tbody>\n",
       "    <tr>\n",
       "      <th>0</th>\n",
       "      <td>25905</td>\n",
       "      <td>01FEB2014</td>\n",
       "      <td>SCH</td>\n",
       "      <td>M</td>\n",
       "      <td>62</td>\n",
       "      <td>Y</td>\n",
       "      <td>Y</td>\n",
       "      <td>0</td>\n",
       "      <td>0</td>\n",
       "      <td>-2.008753</td>\n",
       "      <td>1</td>\n",
       "      <td>50</td>\n",
       "      <td>1</td>\n",
       "      <td>2</td>\n",
       "      <td>18000</td>\n",
       "      <td>4</td>\n",
       "      <td>1</td>\n",
       "      <td>N</td>\n",
       "      <td>0</td>\n",
       "      <td>1</td>\n",
       "    </tr>\n",
       "    <tr>\n",
       "      <th>1</th>\n",
       "      <td>63161</td>\n",
       "      <td>12MAR2014</td>\n",
       "      <td>SCH</td>\n",
       "      <td>F</td>\n",
       "      <td>59</td>\n",
       "      <td>N</td>\n",
       "      <td>N</td>\n",
       "      <td>0</td>\n",
       "      <td>0</td>\n",
       "      <td>-1.532276</td>\n",
       "      <td>3</td>\n",
       "      <td>50</td>\n",
       "      <td>2</td>\n",
       "      <td>3</td>\n",
       "      <td>19000</td>\n",
       "      <td>4</td>\n",
       "      <td>1</td>\n",
       "      <td>N</td>\n",
       "      <td>0</td>\n",
       "      <td>1</td>\n",
       "    </tr>\n",
       "  </tbody>\n",
       "</table>\n",
       "</div>"
      ],
      "text/plain": [
       "   client_id   app_date education sex  age car car_type  decline_app_cnt  \\\n",
       "0      25905  01FEB2014       SCH   M   62   Y        Y                0   \n",
       "1      63161  12MAR2014       SCH   F   59   N        N                0   \n",
       "\n",
       "   good_work  score_bki  bki_request_cnt  region_rating  home_address  \\\n",
       "0          0  -2.008753                1             50             1   \n",
       "1          0  -1.532276                3             50             2   \n",
       "\n",
       "   work_address  income  sna  first_time foreign_passport  default  train  \n",
       "0             2   18000    4           1                N        0      1  \n",
       "1             3   19000    4           1                N        0      1  "
      ]
     },
     "metadata": {},
     "output_type": "display_data"
    }
   ],
   "source": [
    "# Для корректной обработки признаков объединяем трейн и тест в один датасет\n",
    "# Необходимо помнить, что объединение датасетов является потенциальной опасностью для даталиков\n",
    "data_train['train'] = 1 # помечаем где у нас трейн\n",
    "data_test['train'] = 0 # помечаем где у нас тест\n",
    "\n",
    "data_test['default'] = 0\n",
    "data = data_train.append(data_test, sort=False).reset_index(drop=True) # объединяем\n",
    "\n",
    "# Посмотрим на общий датасет\n",
    "print('Размерность тестового датасета: ', data.shape)\n",
    "display(data.head(2))"
   ]
  },
  {
   "cell_type": "markdown",
   "metadata": {
    "papermill": {
     "duration": 0.082344,
     "end_time": "2021-04-11T21:02:19.042917",
     "exception": false,
     "start_time": "2021-04-11T21:02:18.960573",
     "status": "completed"
    },
    "tags": []
   },
   "source": [
    "# 3. Cleaning and Prepping Data\n",
    "## Определим вспомогательные функции"
   ]
  },
  {
   "cell_type": "code",
   "execution_count": 8,
   "metadata": {
    "execution": {
     "iopub.execute_input": "2021-04-11T21:02:19.219916Z",
     "iopub.status.busy": "2021-04-11T21:02:19.219236Z",
     "iopub.status.idle": "2021-04-11T21:02:19.222489Z",
     "shell.execute_reply": "2021-04-11T21:02:19.221963Z"
    },
    "papermill": {
     "duration": 0.09654,
     "end_time": "2021-04-11T21:02:19.222626",
     "exception": false,
     "start_time": "2021-04-11T21:02:19.126086",
     "status": "completed"
    },
    "tags": []
   },
   "outputs": [],
   "source": [
    "def data_full_info(data, full=True, short=False):\n",
    "    '''Функция для вывода общей информации по датасету.\n",
    "    data - набор исходных данных\n",
    "    full - флаг вывода информации для количественных признаков\n",
    "    short - флаг вывода информации из первых трех строк датасета\n",
    "    \n",
    "    Функция для выводит общую информацию по датасету.\n",
    "    \n",
    "    Если установлен флаг short, то отобразить первые три строки из датасета.\n",
    "    В ином случае - не отображать.\n",
    "    \n",
    "    \n",
    "    Если установлен флаг full, то отобразить информацию для количественных признаков.\n",
    "    В ином случае - не отображать.\n",
    "    '''\n",
    "        \n",
    "    list_of_names = list(data.columns)\n",
    "    temp_dict = {}\n",
    "    temp_dict['имя признака'] = list_of_names\n",
    "    temp_dict['тип'] = data.dtypes\n",
    "    temp_dict['# значений'] = data.describe(include='all').loc['count'].astype(int)\n",
    "    temp_dict['# пропусков(NaN)'] = data.isnull().sum().values \n",
    "    temp_dict['# уникальных'] = data.nunique().values\n",
    "    \n",
    "    if not short:\n",
    "        temp_dict['в первой строке'] =data.loc[0].values\n",
    "        temp_dict['во второй строке'] = data.loc[1].values\n",
    "        temp_dict['в третьей строке'] = data.loc[2].values\n",
    "        \n",
    "    if full :\n",
    "        temp_dict['минимум'] = data.describe(include='all').loc['min']\n",
    "        temp_dict['среднее'] = data.describe(include='all').loc['mean']\n",
    "        temp_dict['макс'] = data.describe(include='all').loc['max']\n",
    "        temp_dict['медиана'] = data.describe(include='all').loc['50%']\n",
    "        \n",
    "    temp_df = pd.DataFrame.from_dict(temp_dict, orient='index')\n",
    "    display(temp_df.T)\n",
    "\n",
    "    return\n"
   ]
  },
  {
   "cell_type": "code",
   "execution_count": 9,
   "metadata": {
    "execution": {
     "iopub.execute_input": "2021-04-11T21:02:19.402504Z",
     "iopub.status.busy": "2021-04-11T21:02:19.401777Z",
     "iopub.status.idle": "2021-04-11T21:02:19.404329Z",
     "shell.execute_reply": "2021-04-11T21:02:19.404867Z"
    },
    "papermill": {
     "duration": 0.100355,
     "end_time": "2021-04-11T21:02:19.405029",
     "exception": false,
     "start_time": "2021-04-11T21:02:19.304674",
     "status": "completed"
    },
    "tags": []
   },
   "outputs": [],
   "source": [
    "def column_info(data: pd.DataFrame, column: str) -> None:\n",
    "    '''Функция для вывода информации для номинативных признаков.\n",
    "    data - набор исходных данных\n",
    "    column - наименование признака\n",
    "    \n",
    "    Функция производит расчет ключевых значений номинативного признака и выводит их в stdout.\n",
    "    \n",
    "    '''\n",
    "    \n",
    "    n = 10 # Параметр для оценки наиболее часто встречающихся значений\n",
    "    print(f'Проведем анализ для переменной {column}')\n",
    "    \n",
    "    print('Тип данных: ', data[column].dtype)\n",
    "    print('Всего значений:', data.shape[0])\n",
    "    print('Пустых значений:', data.shape[0] - data[column].notnull().sum())\n",
    "    print(f'Значений, упомянутых более {n} раз:', (data[column].value_counts() > n).sum())\n",
    "    print('Уникальных значений:', data[column].nunique())\n",
    "      \n",
    "    display(pd.DataFrame(data[column].value_counts()).head(10))\n",
    "    \n",
    "\n",
    "def plot_column_info(data: pd.DataFrame, column: str) -> None:  \n",
    "    '''Функция для вывода информации для колличественных переменных.\n",
    "    data - набор исходных данных\n",
    "    column - наименование признака\n",
    "    \n",
    "    Функция производит расчет ключевых значений колличественного признака.\n",
    "    Определяет наличие выбросов. Выводит полученные данные в stdout. \n",
    "    Риует гистограмму исходных значений и значениий ограниченных границами выбросов IQR.\n",
    "    \n",
    "    '''\n",
    "    \n",
    "    max_value = data[column].max()\n",
    "    min_value = data[column].min()\n",
    "    perc25 = data[column].quantile(0.25)\n",
    "    perc75 = data[column].quantile(0.75)\n",
    "    IQR = perc75 - perc25\n",
    "    lower_limt = perc25 - 1.5*IQR\n",
    "    upper_limit = perc75 + 1.5*IQR\n",
    "\n",
    "    if max_value <= upper_limit and min_value >= lower_limt:\n",
    "        outliers_status = 'Выбросов Нет.'\n",
    "    else:\n",
    "        outliers_status = 'Есть выбросы.'\n",
    "\n",
    "    print('Всего значений:', data.shape[0])\n",
    "    print('Пустых значений:', data.shape[0] - data[column].notnull().sum())\n",
    "    \n",
    "    print('25-й перцентиль: {}, 75-й перцентиль: {}, IQR: {},'.format(perc25, perc75, IQR))\n",
    "    print(f'Границы значений: [{min_value}, {max_value}],')\n",
    "    print('Границы выбросов: [{f}, {l}].'.format(f=lower_limt, l=upper_limit))\n",
    "    print(outliers_status)\n",
    "    \n",
    "    plt.rcParams['figure.figsize'] = (10,7)\n",
    "    \n",
    "    data[column].loc[data[column].between(lower_limt, upper_limit)].hist(bins=20,\n",
    "                                                                         range=(min_value, max_value), \n",
    "                                                                         label='IQR')\n",
    "\n",
    "    data[column].hist(alpha=0.5, \n",
    "                      bins=20, \n",
    "                      range=(min_value, max_value), \n",
    "                      label='Исходные значения')\n",
    "\n",
    "    plt.legend();"
   ]
  },
  {
   "cell_type": "code",
   "execution_count": 10,
   "metadata": {
    "execution": {
     "iopub.execute_input": "2021-04-11T21:02:19.589757Z",
     "iopub.status.busy": "2021-04-11T21:02:19.589043Z",
     "iopub.status.idle": "2021-04-11T21:02:19.592175Z",
     "shell.execute_reply": "2021-04-11T21:02:19.591684Z"
    },
    "papermill": {
     "duration": 0.10468,
     "end_time": "2021-04-11T21:02:19.592324",
     "exception": false,
     "start_time": "2021-04-11T21:02:19.487644",
     "status": "completed"
    },
    "tags": []
   },
   "outputs": [],
   "source": [
    "def plot_column_info_log(data: pd.DataFrame, column: str) -> None:  \n",
    "    '''Функция для вывода информации для колличественных переменных.\n",
    "    data - набор исходных данных\n",
    "    column - наименование признака\n",
    "    \n",
    "    Функция производит расчет ключевых значений колличественного признака.\n",
    "    Определяет наличие выбросов. Выводит полученные данные в stdout. \n",
    "    Риует гистограмму исходных значений, boxplot исходных значений, гистограмму логарифма исходных значений \n",
    "    и boxplot для них.\n",
    "    \n",
    "    '''\n",
    "    \n",
    "    max_value = data[column].max()\n",
    "    min_value = data[column].min()\n",
    "    perc25 = data[column].quantile(0.25)\n",
    "    perc75 = data[column].quantile(0.75)\n",
    "    IQR = perc75 - perc25\n",
    "    lower_limt = perc25 - 1.5*IQR\n",
    "    upper_limit = perc75 + 1.5*IQR\n",
    "    \n",
    "    if max_value <= upper_limit and min_value >= lower_limt:\n",
    "        outliers_status = 'Выбросов Нет.'\n",
    "    else:\n",
    "        outliers_status = 'Есть выбросы.'\n",
    "    \n",
    "    outliers_num = data.query(f'{column} < {lower_limt} or {column} > {upper_limit}').shape[0]\n",
    "    \n",
    "    print('Всего значений:', data.shape[0])\n",
    "    print('Пустых значений:', data.shape[0] - data[column].notnull().sum())\n",
    "    \n",
    "    print('25-й перцентиль: {}, 75-й перцентиль: {}, IQR: {},'.format(perc25, perc75, IQR))\n",
    "    print(f'Границы значений: [{min_value}, {max_value}],')\n",
    "    print('Границы выбросов: [{f}, {l}].'.format(f=lower_limt, l=upper_limit))\n",
    "    print(outliers_status)\n",
    "    print('Количество выбросов:', outliers_num)\n",
    "    \n",
    "    plt.rcParams['figure.figsize'] = (12,4)\n",
    "    \n",
    "    ser_iqr = data[column].loc[data[column].between(lower_limt, upper_limit)]\n",
    "    ser_act = data[column]\n",
    "    ser_log = data[column].apply(lambda x: math.log(x + 1))\n",
    "    \n",
    "    fig = plt.figure()\n",
    "    st = fig.suptitle(f'Гистограммы и box-plot для признака \\'{column}\\' и log(\\'{column}\\')', fontsize='x-large')\n",
    "    \n",
    "    ax_1 = fig.add_subplot(1, 4, 1)\n",
    "    ax_2 = fig.add_subplot(1, 4, 2)\n",
    "    ax_3 = fig.add_subplot(1, 4, 3)\n",
    "    ax_4 = fig.add_subplot(1, 4, 4)\n",
    "    \n",
    "    ax_1.hist(ser_act, bins=15)\n",
    "    ax_1.set_title(f'\\'{column}\\'', loc = 'right', fontsize=10)\n",
    "    ax_1.spines['top'].set_visible(False)\n",
    "    ax_1.spines['right'].set_visible(False)\n",
    "    \n",
    "    ax_2.boxplot(ser_act)\n",
    "    ax_2.set_title(f'boxplot of \\'{column}\\'', loc = 'left', fontsize=10)\n",
    "    ax_2.spines['top'].set_visible(False)\n",
    "    ax_2.spines['right'].set_visible(False)\n",
    "    ax_2.spines['bottom'].set_visible(False)\n",
    "    ax_2.spines['left'].set_visible(False)\n",
    "    \n",
    "    ax_3.hist(ser_log, bins=15)\n",
    "    ax_3.set_title(f'log(\\'{column}\\')', loc = 'right', fontsize=10)\n",
    "    ax_3.spines['top'].set_visible(False)\n",
    "    ax_3.spines['right'].set_visible(False)\n",
    "    \n",
    "    ax_4.boxplot(ser_log)\n",
    "    ax_4.set_title(f'boxplot of log(\\'{column}\\')', loc = 'left', fontsize=10)\n",
    "    ax_4.spines['top'].set_visible(False)\n",
    "    ax_4.spines['right'].set_visible(False)\n",
    "    ax_4.spines['bottom'].set_visible(False)\n",
    "    ax_4.spines['left'].set_visible(False)\n",
    "    \n",
    "    \n",
    "    # shift subplots down:\n",
    "    st.set_y(0.99)\n",
    "    fig.subplots_adjust(top=0.85)\n",
    "    \n",
    "    plt.legend()\n",
    "    plt.show();"
   ]
  },
  {
   "cell_type": "code",
   "execution_count": 11,
   "metadata": {
    "execution": {
     "iopub.execute_input": "2021-04-11T21:02:19.767084Z",
     "iopub.status.busy": "2021-04-11T21:02:19.766425Z",
     "iopub.status.idle": "2021-04-11T21:02:19.769387Z",
     "shell.execute_reply": "2021-04-11T21:02:19.768839Z"
    },
    "papermill": {
     "duration": 0.094873,
     "end_time": "2021-04-11T21:02:19.769541",
     "exception": false,
     "start_time": "2021-04-11T21:02:19.674668",
     "status": "completed"
    },
    "tags": []
   },
   "outputs": [],
   "source": [
    "def replace_nan(data_in: pd.DataFrame, column: str, typ: str, new_value='') -> pd.DataFrame:\n",
    "    '''Функция возвращает датасет, в котором произведена замена пустых значений признака и добавлен новый\n",
    "    признак, в котором сохраняется информаця о том, в какой строке было пустое значение\n",
    "    data_in - набор исходных данных\n",
    "    column - наименование признака\n",
    "    typ - тип замены, может принимать значения: 'mode', 'median', 'mean', 'new_value'\n",
    "    \n",
    "    Создается новый признак с наименованием (column)_isnan, в котором сохраняется информаця \n",
    "    о том, в какой строке пустое значение признака (column)\n",
    "    В зависимости от типа замены (typ) функция определяет значение, \n",
    "    на которое будет производится замена.\n",
    "    Все значения признака (column) в наборе данных (data_in) заменяются на вычисленное значение.\n",
    "    Функция возращает откорректированный набор данных, изменений в исходном наборе нет.\n",
    "    \n",
    "    '''\n",
    "    \n",
    "    data = data_in.copy()\n",
    "    \n",
    "    print(f'В новый признак \\'{column}_isnan\\' охраняем информацию, в каком наблюдении указано NaN')\n",
    "    data.loc[:, column + '_isnan'] = pd.isna(data[column]).astype('uint8')\n",
    "    \n",
    "    if typ == 'mode':\n",
    "        m = data.loc[:, column].mode()[0]\n",
    "        s = 'самым распространенным значением '\n",
    "    elif typ == 'median':\n",
    "        m = data.loc[:, column].median()\n",
    "        s = 'медианой'\n",
    "    elif typ == 'mean':\n",
    "        m = data.loc[:, column].mean()\n",
    "        s = 'средневзвешенным значением'\n",
    "    elif typ == 'new_value':\n",
    "        m = new_value\n",
    "        s = 'указанным значением'\n",
    "    else:\n",
    "        return None\n",
    "    \n",
    "    print(f'Заполним пустые значения признака {column} {s} {m}')\n",
    "    data.loc[:, column] = data[column].fillna(m)\n",
    "    \n",
    "    return data"
   ]
  },
  {
   "cell_type": "code",
   "execution_count": 12,
   "metadata": {
    "execution": {
     "iopub.execute_input": "2021-04-11T21:02:19.938182Z",
     "iopub.status.busy": "2021-04-11T21:02:19.937469Z",
     "iopub.status.idle": "2021-04-11T21:02:19.947437Z",
     "shell.execute_reply": "2021-04-11T21:02:19.947945Z"
    },
    "papermill": {
     "duration": 0.096105,
     "end_time": "2021-04-11T21:02:19.948123",
     "exception": false,
     "start_time": "2021-04-11T21:02:19.852018",
     "status": "completed"
    },
    "tags": []
   },
   "outputs": [],
   "source": [
    "def all_metrics(d_y_true, d_y_pred, d_y_pred_prob):\n",
    "        \n",
    "    temp_dict = {}\n",
    "    temp1 = accuracy_score(d_y_true, d_y_pred)\n",
    "    temp_dict['accuracy'] = [temp1, '(TP+TN)/(P+N)']\n",
    "\n",
    "    temp1 = balanced_accuracy_score(d_y_true, d_y_pred)\n",
    "    temp_dict['balanced accuracy'] = [temp1, 'сбалансированная accuracy']\n",
    "    \n",
    "    temp1 = precision_score(d_y_true, d_y_pred)\n",
    "    temp_dict['precision'] = [temp1, 'точность = TP/(TP+FP)']\n",
    "    \n",
    "    temp1 = recall_score(d_y_true, d_y_pred)\n",
    "    temp_dict['recall'] = [temp1, 'полнота = TP/P']\n",
    "    \n",
    "    temp1 = f1_score(d_y_true, d_y_pred)\n",
    "    temp_dict['f1_score'] = [temp1, 'среднее гармоническое точности и полноты']\n",
    "    \n",
    "    temp1 = roc_auc_score(d_y_true, d_y_pred_prob)\n",
    "    temp_dict['roc_auc'] = [temp1, 'Area Under Curve - Receiver Operating Characteristic']    \n",
    "    \n",
    "    temp_df = pd.DataFrame.from_dict(temp_dict, orient='index', columns=['Значение', 'Описание'])\n",
    "    display(temp_df)\n",
    "\n",
    "    return\n",
    "\n",
    "\n",
    "def model_coef(d_columns, d_model_coef_0):\n",
    "\n",
    "    temp_dict = {}\n",
    "    temp_dict['имя признака'] = d_columns\n",
    "    temp_dict['коэффициент модели'] = d_model_coef_0\n",
    "    temp_dict['модуль коэф'] = abs(temp_dict['коэффициент модели'])\n",
    "    temp_df = pd.DataFrame.from_dict(temp_dict, orient='columns')\n",
    "    temp_df = temp_df.sort_values(by='модуль коэф', ascending=False)\n",
    "    temp_df.reset_index(drop=True,inplace=True)\n",
    "    \n",
    "    return temp_df.loc[:,['имя признака','коэффициент модели']]"
   ]
  },
  {
   "cell_type": "code",
   "execution_count": 13,
   "metadata": {
    "execution": {
     "iopub.execute_input": "2021-04-11T21:02:20.119749Z",
     "iopub.status.busy": "2021-04-11T21:02:20.118657Z",
     "iopub.status.idle": "2021-04-11T21:02:20.136247Z",
     "shell.execute_reply": "2021-04-11T21:02:20.136780Z"
    },
    "papermill": {
     "duration": 0.105377,
     "end_time": "2021-04-11T21:02:20.136952",
     "exception": false,
     "start_time": "2021-04-11T21:02:20.031575",
     "status": "completed"
    },
    "tags": []
   },
   "outputs": [],
   "source": [
    "def plot_cv_metrics(cv_metrics):\n",
    "    avg_f1_train, std_f1_train = cv_metrics['train_score'].mean(), cv_metrics['train_score'].std()\n",
    "    avg_f1_valid, std_f1_valid = cv_metrics['test_score'].mean(), cv_metrics['test_score'].std()\n",
    "    print('[train] F1-score = {:.2f} +/- {:.2f}'.format(avg_f1_train, std_f1_train))\n",
    "    print('[valid] F1-score = {:.2f} +/- {:.2f}'.format(avg_f1_valid, std_f1_valid))\n",
    "    \n",
    "    plt.figure(figsize=(15, 5))\n",
    "\n",
    "    plt.plot(cv_metrics['train_score'], label='train', marker='.')\n",
    "    plt.plot(cv_metrics['test_score'], label='valid', marker='.')\n",
    "\n",
    "    plt.ylim([0., 1.]);\n",
    "    plt.xlabel('CV iteration', fontsize=15)\n",
    "    plt.ylabel('F1-score', fontsize=15)\n",
    "    plt.legend(fontsize=15)\n",
    "    \n",
    "    \n",
    "def vis_cross_val_score(d_name_metric, d_vec, d_value_metric, d_my_font_scale):\n",
    "    num_folds = len(d_vec['train_score'])\n",
    "    avg_metric_train, std_metric_train = d_vec['train_score'].mean(), d_vec['train_score'].std()\n",
    "    avg_metric_test, std_metric_test = d_vec['test_score'].mean(), d_vec['test_score'].std()\n",
    "\n",
    "    plt.style.use('seaborn-paper')\n",
    "    sns.set(font_scale=d_my_font_scale)\n",
    "    color_text = plt.get_cmap('PuBu')(0.85)\n",
    "\n",
    "    plt.figure(figsize=(12, 6))\n",
    "    plt.plot(d_vec['train_score'], label='тренировочные значения', marker='.', color= 'darkblue')\n",
    "    plt.plot([0,num_folds-1], [avg_metric_train, avg_metric_train], color='blue', label='среднее трен. значений ', marker='.', lw=2, ls = '--')\n",
    "\n",
    "    plt.plot(d_vec['test_score'], label='тестовые значения', marker='.', color= 'red')\n",
    "    plt.plot([0,num_folds-1], [avg_metric_test, avg_metric_test], color='lightcoral', label='среднее тест. значений ', marker='.', lw=2, ls = '--')\n",
    "\n",
    "    plt.plot([0,num_folds-1], [d_value_metric, d_value_metric], color='grey', label='значение метрики до CV', marker='.', lw=3)\n",
    "\n",
    "    # plt.xlim([1, num_folds])\n",
    "    y_max = max(avg_metric_train,avg_metric_test) + 1.5*max(std_metric_train,std_metric_test)\n",
    "    y_min = min(avg_metric_train,avg_metric_test) - 3*max(std_metric_train,std_metric_test)\n",
    "    plt.ylim([y_min, y_max])\n",
    "    plt.xlabel('номер фолда', fontsize=15, color = color_text)\n",
    "    plt.ylabel(d_name_metric, fontsize=15, color = color_text)\n",
    "    plt.title(f'Кросс-валидация по метрике {d_name_metric} на {num_folds} фолдах', color = color_text, fontsize=17)\n",
    "    plt.legend(loc=\"lower right\", fontsize=11)\n",
    "    y_min_text = y_min +0.5*max(std_metric_train,std_metric_test)\n",
    "    plt.text(0, y_min_text, f'{d_name_metric} на трейне = {round(avg_metric_train,3)} +/- {round(std_metric_train,3)} \\n{d_name_metric} на тесте    = {round(avg_metric_test,3)} +/- {round(std_metric_test,3)} \\n{d_name_metric} до CV        = {round(d_value_metric,3)}', fontsize = 15)\n",
    "    plt.show()\n",
    "    return\n"
   ]
  },
  {
   "cell_type": "code",
   "execution_count": 14,
   "metadata": {
    "execution": {
     "iopub.execute_input": "2021-04-11T21:02:20.306580Z",
     "iopub.status.busy": "2021-04-11T21:02:20.305614Z",
     "iopub.status.idle": "2021-04-11T21:02:20.322547Z",
     "shell.execute_reply": "2021-04-11T21:02:20.321877Z"
    },
    "papermill": {
     "duration": 0.102863,
     "end_time": "2021-04-11T21:02:20.322689",
     "exception": false,
     "start_time": "2021-04-11T21:02:20.219826",
     "status": "completed"
    },
    "tags": []
   },
   "outputs": [],
   "source": [
    "# Класс-помощник для красивого отображения данных о модели. Взял у https://www.kaggle.com/ekalachev\n",
    "class ModelInspector():\n",
    "    def __init__(self, model, X, y):\n",
    "        self.model = model\n",
    "        self.X = X\n",
    "        self.y = y\n",
    "\n",
    "    def _plot_confusion_matrix(self, y_pred, ax):\n",
    "        tn, fp, fn, tp = confusion_matrix(self.y, y_pred).ravel()\n",
    "\n",
    "        matrix = np.eye(2)\n",
    "        matrix_annot = np.array([[f'TP\\n{tp}', f'FP\\n{fp}'], [f'FN\\n{fn}', f'TN\\n{tn}']])\n",
    "\n",
    "        sns.heatmap(matrix, annot=matrix_annot, annot_kws={\"size\": 20}, fmt='', cmap='Greens', cbar=False,\n",
    "                    xticklabels=['', 'Good client'], yticklabels=['Bad client', ''], ax=ax)\n",
    "\n",
    "    def _plot_metrics(self, y_pred, roc_auc, ax):\n",
    "        matrix = np.array([[1, 0, 1, 0, 1]]).T\n",
    "\n",
    "        matrix_annot = np.array([[\n",
    "            f'ROC AUC: {roc_auc:.4f}',\n",
    "            f'Balanced accuracy: {balanced_accuracy_score(self.y, y_pred):.3f}',\n",
    "            f'F1-score: {f1_score(self.y, y_pred):.3f}',\n",
    "            f'Precision score: {precision_score(self.y, y_pred):.3f}',\n",
    "            f'Recall score: {recall_score(self.y, y_pred):.3f}'\n",
    "        ]]).T\n",
    "\n",
    "        sns.heatmap(matrix, annot=matrix_annot, fmt='', cbar=False, yticklabels=[],\n",
    "                    xticklabels=[], annot_kws={'size': 16, 'ha': 'center'}, cmap='GnBu', ax=ax)\n",
    "\n",
    "    def _plot_logistic_regression(self, probs, ax):\n",
    "        fpr, tpr, threshold = roc_curve(self.y, probs)\n",
    "\n",
    "        ax.plot([0, 1], label='Baseline', linestyle='--')\n",
    "        ax.plot(fpr, tpr, label='Regression')\n",
    "        ax.set_ylabel('True Positive Rate')\n",
    "        ax.set_xlabel('False Positive Rate')\n",
    "        ax.legend(loc='lower right')\n",
    "\n",
    "    def inspect(self, size=5):\n",
    "        y_pred = self.model.predict(self.X)\n",
    "        probs = self.model.predict_proba(self.X)[:, 1]\n",
    "        roc_auc = roc_auc_score(self.y, probs)\n",
    "\n",
    "        fig, (ax1, ax2, ax3) = plt.subplots(1, 3, figsize=(3*size, size))\n",
    "\n",
    "        fig.suptitle(f'Model inspection. ROC AUC: {roc_auc:.4f}', fontsize=20)\n",
    "\n",
    "        ax1.set_title('Logistic Regression')\n",
    "        ax2.set_title('Confusion matrix')\n",
    "        ax3.set_title('Metrics')\n",
    "\n",
    "        # Plot logistic regression\n",
    "        self._plot_logistic_regression(probs, ax1)\n",
    "\n",
    "        # Plot confusion matrix\n",
    "        self._plot_confusion_matrix(y_pred, ax2)\n",
    "\n",
    "        # plot metrics\n",
    "        self._plot_metrics(y_pred, roc_auc, ax3)\n",
    "\n",
    "        plt.show()"
   ]
  },
  {
   "cell_type": "code",
   "execution_count": 15,
   "metadata": {
    "execution": {
     "iopub.execute_input": "2021-04-11T21:02:20.498177Z",
     "iopub.status.busy": "2021-04-11T21:02:20.497312Z",
     "iopub.status.idle": "2021-04-11T21:02:20.500517Z",
     "shell.execute_reply": "2021-04-11T21:02:20.499874Z"
    },
    "papermill": {
     "duration": 0.094611,
     "end_time": "2021-04-11T21:02:20.500659",
     "exception": false,
     "start_time": "2021-04-11T21:02:20.406048",
     "status": "completed"
    },
    "tags": []
   },
   "outputs": [],
   "source": [
    "def get_stat_dif(data: pd.DataFrame, column: str, target: str) -> bool:\n",
    "    '''Функция определяет, есть ли статистически значимые различия для признака.\n",
    "    data - набор исходных данных\n",
    "    column - наименование признака\n",
    "    target - наименование целевого признака\n",
    "    \n",
    "    Функция проверяет, есть ли статистическая разница в распределении целевого признака (target)\n",
    "    по номинативному признаку (column) в наборе данных (data). \n",
    "    Проверка осуществляется с помощью теста Стьюдента. \n",
    "    Проверяется нулевая гипотеза о том, что распределения целевого признака (target)\n",
    "    по различным парам значений номинативного признака (column) неразличимы.\n",
    "    Пары определяются из различных комбинаций n самых часто встречающихся занчений признака (column).\n",
    "    Если различия найдены, то информация об этом выводится в stdout.\n",
    "    \n",
    "    '''\n",
    "    \n",
    "    n = 10 # Параметр для оценки наиболее часто встречающихся значений\n",
    "    cols = data.loc[:, column].value_counts().index[:n]\n",
    "    combinations_all = list(combinations(cols, 2))\n",
    "    for comb in combinations_all:\n",
    "        if ttest_ind(data.loc[data.loc[:, column] == comb[0], target], \n",
    "                     data.loc[data.loc[:, column] == comb[1], target]).pvalue \\\n",
    "            <= 0.05/len(combinations_all): # Учли поправку Бонферони\n",
    "            print('Найдены статистически значимые различия для признака', column)\n",
    "            return True\n",
    "    \n",
    "    return False"
   ]
  },
  {
   "cell_type": "markdown",
   "metadata": {
    "papermill": {
     "duration": 0.082755,
     "end_time": "2021-04-11T21:02:20.666792",
     "exception": false,
     "start_time": "2021-04-11T21:02:20.584037",
     "status": "completed"
    },
    "tags": []
   },
   "source": [
    "## Проведем предварительный анализ данных"
   ]
  },
  {
   "cell_type": "code",
   "execution_count": 16,
   "metadata": {
    "execution": {
     "iopub.execute_input": "2021-04-11T21:02:20.840421Z",
     "iopub.status.busy": "2021-04-11T21:02:20.839754Z",
     "iopub.status.idle": "2021-04-11T21:02:22.568788Z",
     "shell.execute_reply": "2021-04-11T21:02:22.569671Z"
    },
    "papermill": {
     "duration": 1.818795,
     "end_time": "2021-04-11T21:02:22.569908",
     "exception": false,
     "start_time": "2021-04-11T21:02:20.751113",
     "status": "completed"
    },
    "tags": []
   },
   "outputs": [
    {
     "data": {
      "text/html": [
       "<div>\n",
       "<style scoped>\n",
       "    .dataframe tbody tr th:only-of-type {\n",
       "        vertical-align: middle;\n",
       "    }\n",
       "\n",
       "    .dataframe tbody tr th {\n",
       "        vertical-align: top;\n",
       "    }\n",
       "\n",
       "    .dataframe thead th {\n",
       "        text-align: right;\n",
       "    }\n",
       "</style>\n",
       "<table border=\"1\" class=\"dataframe\">\n",
       "  <thead>\n",
       "    <tr style=\"text-align: right;\">\n",
       "      <th></th>\n",
       "      <th>имя признака</th>\n",
       "      <th>тип</th>\n",
       "      <th># значений</th>\n",
       "      <th># пропусков(NaN)</th>\n",
       "      <th># уникальных</th>\n",
       "      <th>минимум</th>\n",
       "      <th>среднее</th>\n",
       "      <th>макс</th>\n",
       "      <th>медиана</th>\n",
       "    </tr>\n",
       "  </thead>\n",
       "  <tbody>\n",
       "    <tr>\n",
       "      <th>0</th>\n",
       "      <td>client_id</td>\n",
       "      <td>int64</td>\n",
       "      <td>110148</td>\n",
       "      <td>0</td>\n",
       "      <td>110148</td>\n",
       "      <td>1</td>\n",
       "      <td>55074.5</td>\n",
       "      <td>110148</td>\n",
       "      <td>55074.5</td>\n",
       "    </tr>\n",
       "    <tr>\n",
       "      <th>1</th>\n",
       "      <td>app_date</td>\n",
       "      <td>object</td>\n",
       "      <td>110148</td>\n",
       "      <td>0</td>\n",
       "      <td>120</td>\n",
       "      <td>NaN</td>\n",
       "      <td>NaN</td>\n",
       "      <td>NaN</td>\n",
       "      <td>NaN</td>\n",
       "    </tr>\n",
       "    <tr>\n",
       "      <th>2</th>\n",
       "      <td>education</td>\n",
       "      <td>object</td>\n",
       "      <td>109670</td>\n",
       "      <td>478</td>\n",
       "      <td>5</td>\n",
       "      <td>NaN</td>\n",
       "      <td>NaN</td>\n",
       "      <td>NaN</td>\n",
       "      <td>NaN</td>\n",
       "    </tr>\n",
       "    <tr>\n",
       "      <th>3</th>\n",
       "      <td>sex</td>\n",
       "      <td>object</td>\n",
       "      <td>110148</td>\n",
       "      <td>0</td>\n",
       "      <td>2</td>\n",
       "      <td>NaN</td>\n",
       "      <td>NaN</td>\n",
       "      <td>NaN</td>\n",
       "      <td>NaN</td>\n",
       "    </tr>\n",
       "    <tr>\n",
       "      <th>4</th>\n",
       "      <td>age</td>\n",
       "      <td>int64</td>\n",
       "      <td>110148</td>\n",
       "      <td>0</td>\n",
       "      <td>52</td>\n",
       "      <td>21</td>\n",
       "      <td>39.2494</td>\n",
       "      <td>72</td>\n",
       "      <td>37</td>\n",
       "    </tr>\n",
       "    <tr>\n",
       "      <th>5</th>\n",
       "      <td>car</td>\n",
       "      <td>object</td>\n",
       "      <td>110148</td>\n",
       "      <td>0</td>\n",
       "      <td>2</td>\n",
       "      <td>NaN</td>\n",
       "      <td>NaN</td>\n",
       "      <td>NaN</td>\n",
       "      <td>NaN</td>\n",
       "    </tr>\n",
       "    <tr>\n",
       "      <th>6</th>\n",
       "      <td>car_type</td>\n",
       "      <td>object</td>\n",
       "      <td>110148</td>\n",
       "      <td>0</td>\n",
       "      <td>2</td>\n",
       "      <td>NaN</td>\n",
       "      <td>NaN</td>\n",
       "      <td>NaN</td>\n",
       "      <td>NaN</td>\n",
       "    </tr>\n",
       "    <tr>\n",
       "      <th>7</th>\n",
       "      <td>decline_app_cnt</td>\n",
       "      <td>int64</td>\n",
       "      <td>110148</td>\n",
       "      <td>0</td>\n",
       "      <td>24</td>\n",
       "      <td>0</td>\n",
       "      <td>0.273205</td>\n",
       "      <td>33</td>\n",
       "      <td>0</td>\n",
       "    </tr>\n",
       "    <tr>\n",
       "      <th>8</th>\n",
       "      <td>good_work</td>\n",
       "      <td>int64</td>\n",
       "      <td>110148</td>\n",
       "      <td>0</td>\n",
       "      <td>2</td>\n",
       "      <td>0</td>\n",
       "      <td>0.165514</td>\n",
       "      <td>1</td>\n",
       "      <td>0</td>\n",
       "    </tr>\n",
       "    <tr>\n",
       "      <th>9</th>\n",
       "      <td>score_bki</td>\n",
       "      <td>float64</td>\n",
       "      <td>110148</td>\n",
       "      <td>0</td>\n",
       "      <td>102618</td>\n",
       "      <td>-3.62459</td>\n",
       "      <td>-1.90454</td>\n",
       "      <td>0.199773</td>\n",
       "      <td>-1.92082</td>\n",
       "    </tr>\n",
       "    <tr>\n",
       "      <th>10</th>\n",
       "      <td>bki_request_cnt</td>\n",
       "      <td>int64</td>\n",
       "      <td>110148</td>\n",
       "      <td>0</td>\n",
       "      <td>40</td>\n",
       "      <td>0</td>\n",
       "      <td>2.005</td>\n",
       "      <td>53</td>\n",
       "      <td>1</td>\n",
       "    </tr>\n",
       "    <tr>\n",
       "      <th>11</th>\n",
       "      <td>region_rating</td>\n",
       "      <td>int64</td>\n",
       "      <td>110148</td>\n",
       "      <td>0</td>\n",
       "      <td>7</td>\n",
       "      <td>20</td>\n",
       "      <td>56.7512</td>\n",
       "      <td>80</td>\n",
       "      <td>50</td>\n",
       "    </tr>\n",
       "    <tr>\n",
       "      <th>12</th>\n",
       "      <td>home_address</td>\n",
       "      <td>int64</td>\n",
       "      <td>110148</td>\n",
       "      <td>0</td>\n",
       "      <td>3</td>\n",
       "      <td>1</td>\n",
       "      <td>1.57494</td>\n",
       "      <td>3</td>\n",
       "      <td>2</td>\n",
       "    </tr>\n",
       "    <tr>\n",
       "      <th>13</th>\n",
       "      <td>work_address</td>\n",
       "      <td>int64</td>\n",
       "      <td>110148</td>\n",
       "      <td>0</td>\n",
       "      <td>3</td>\n",
       "      <td>1</td>\n",
       "      <td>2.49787</td>\n",
       "      <td>3</td>\n",
       "      <td>3</td>\n",
       "    </tr>\n",
       "    <tr>\n",
       "      <th>14</th>\n",
       "      <td>income</td>\n",
       "      <td>int64</td>\n",
       "      <td>110148</td>\n",
       "      <td>0</td>\n",
       "      <td>1207</td>\n",
       "      <td>1000</td>\n",
       "      <td>41012.6</td>\n",
       "      <td>1e+06</td>\n",
       "      <td>30000</td>\n",
       "    </tr>\n",
       "    <tr>\n",
       "      <th>15</th>\n",
       "      <td>sna</td>\n",
       "      <td>int64</td>\n",
       "      <td>110148</td>\n",
       "      <td>0</td>\n",
       "      <td>4</td>\n",
       "      <td>1</td>\n",
       "      <td>1.73159</td>\n",
       "      <td>4</td>\n",
       "      <td>1</td>\n",
       "    </tr>\n",
       "    <tr>\n",
       "      <th>16</th>\n",
       "      <td>first_time</td>\n",
       "      <td>int64</td>\n",
       "      <td>110148</td>\n",
       "      <td>0</td>\n",
       "      <td>4</td>\n",
       "      <td>1</td>\n",
       "      <td>2.76557</td>\n",
       "      <td>4</td>\n",
       "      <td>3</td>\n",
       "    </tr>\n",
       "    <tr>\n",
       "      <th>17</th>\n",
       "      <td>foreign_passport</td>\n",
       "      <td>object</td>\n",
       "      <td>110148</td>\n",
       "      <td>0</td>\n",
       "      <td>2</td>\n",
       "      <td>NaN</td>\n",
       "      <td>NaN</td>\n",
       "      <td>NaN</td>\n",
       "      <td>NaN</td>\n",
       "    </tr>\n",
       "    <tr>\n",
       "      <th>18</th>\n",
       "      <td>default</td>\n",
       "      <td>int64</td>\n",
       "      <td>110148</td>\n",
       "      <td>0</td>\n",
       "      <td>2</td>\n",
       "      <td>0</td>\n",
       "      <td>0.0850855</td>\n",
       "      <td>1</td>\n",
       "      <td>0</td>\n",
       "    </tr>\n",
       "    <tr>\n",
       "      <th>19</th>\n",
       "      <td>train</td>\n",
       "      <td>int64</td>\n",
       "      <td>110148</td>\n",
       "      <td>0</td>\n",
       "      <td>2</td>\n",
       "      <td>0</td>\n",
       "      <td>0.669999</td>\n",
       "      <td>1</td>\n",
       "      <td>1</td>\n",
       "    </tr>\n",
       "  </tbody>\n",
       "</table>\n",
       "</div>"
      ],
      "text/plain": [
       "        имя признака      тип # значений # пропусков(NaN) # уникальных  \\\n",
       "0          client_id    int64     110148                0       110148   \n",
       "1           app_date   object     110148                0          120   \n",
       "2          education   object     109670              478            5   \n",
       "3                sex   object     110148                0            2   \n",
       "4                age    int64     110148                0           52   \n",
       "5                car   object     110148                0            2   \n",
       "6           car_type   object     110148                0            2   \n",
       "7    decline_app_cnt    int64     110148                0           24   \n",
       "8          good_work    int64     110148                0            2   \n",
       "9          score_bki  float64     110148                0       102618   \n",
       "10   bki_request_cnt    int64     110148                0           40   \n",
       "11     region_rating    int64     110148                0            7   \n",
       "12      home_address    int64     110148                0            3   \n",
       "13      work_address    int64     110148                0            3   \n",
       "14            income    int64     110148                0         1207   \n",
       "15               sna    int64     110148                0            4   \n",
       "16        first_time    int64     110148                0            4   \n",
       "17  foreign_passport   object     110148                0            2   \n",
       "18           default    int64     110148                0            2   \n",
       "19             train    int64     110148                0            2   \n",
       "\n",
       "    минимум    среднее      макс  медиана  \n",
       "0         1    55074.5    110148  55074.5  \n",
       "1       NaN        NaN       NaN      NaN  \n",
       "2       NaN        NaN       NaN      NaN  \n",
       "3       NaN        NaN       NaN      NaN  \n",
       "4        21    39.2494        72       37  \n",
       "5       NaN        NaN       NaN      NaN  \n",
       "6       NaN        NaN       NaN      NaN  \n",
       "7         0   0.273205        33        0  \n",
       "8         0   0.165514         1        0  \n",
       "9  -3.62459   -1.90454  0.199773 -1.92082  \n",
       "10        0      2.005        53        1  \n",
       "11       20    56.7512        80       50  \n",
       "12        1    1.57494         3        2  \n",
       "13        1    2.49787         3        3  \n",
       "14     1000    41012.6     1e+06    30000  \n",
       "15        1    1.73159         4        1  \n",
       "16        1    2.76557         4        3  \n",
       "17      NaN        NaN       NaN      NaN  \n",
       "18        0  0.0850855         1        0  \n",
       "19        0   0.669999         1        1  "
      ]
     },
     "metadata": {},
     "output_type": "display_data"
    }
   ],
   "source": [
    "# Выведем общую информацию по датасету\n",
    "data_full_info(data, short=True)"
   ]
  },
  {
   "cell_type": "code",
   "execution_count": 17,
   "metadata": {
    "execution": {
     "iopub.execute_input": "2021-04-11T21:02:22.758720Z",
     "iopub.status.busy": "2021-04-11T21:02:22.753434Z",
     "iopub.status.idle": "2021-04-11T21:02:22.762666Z",
     "shell.execute_reply": "2021-04-11T21:02:22.762124Z"
    },
    "papermill": {
     "duration": 0.107111,
     "end_time": "2021-04-11T21:02:22.762812",
     "exception": false,
     "start_time": "2021-04-11T21:02:22.655701",
     "status": "completed"
    },
    "tags": []
   },
   "outputs": [
    {
     "name": "stdout",
     "output_type": "stream",
     "text": [
      "Всего пропусков - 478, в обучающей выборке - 307 (0.28%), в тестовой - 171 (0.16%)\n"
     ]
    }
   ],
   "source": [
    "# Посмотрим количество пропусков по признаку education\n",
    "N = data.shape[0]\n",
    "n = data_train['education'].isna().sum()\n",
    "m = data_test['education'].isna().sum()\n",
    "\n",
    "print(f'Всего пропусков - {n+m}, в обучающей выборке - {n} ({round(n*100/N, 2)}%), в тестовой - {m} ({round(m*100/N, 2)}%)')"
   ]
  },
  {
   "cell_type": "markdown",
   "metadata": {
    "papermill": {
     "duration": 0.085344,
     "end_time": "2021-04-11T21:02:22.933091",
     "exception": false,
     "start_time": "2021-04-11T21:02:22.847747",
     "status": "completed"
    },
    "tags": []
   },
   "source": [
    "**Резюме** по предварительному анализу: в тренировочной выборке 73799 клиентов, в тестовой - 36349. Всего данные о 110148 клиентах. Всего 20 признаков, из них 1 признак целевой - **default** и 1 искуственно добавленный признак тренировочной части датасета - **train**. Также присутствует 1 уникальный числовой признак **client_id**, который не несет полезной информации для нашей будущей модели. Всего пропусков - 478, в обучающей выборке - 307 (0.28%), в тестовой - 171 (0.16%), все пропуски в переменной education. "
   ]
  },
  {
   "cell_type": "markdown",
   "metadata": {
    "papermill": {
     "duration": 0.085375,
     "end_time": "2021-04-11T21:02:23.103536",
     "exception": false,
     "start_time": "2021-04-11T21:02:23.018161",
     "status": "completed"
    },
    "tags": []
   },
   "source": [
    "Описания полей датасета:\n",
    "\n",
    " - **client_id** - идентификатор клиента\n",
    " - **app_date** - дата подачи заявки\n",
    " - **education** - уровень образования\n",
    " - **sex** - пол заёмщика\n",
    " - **age** - возраст заёмщика\n",
    " - **car** - флаг наличия автомобиля\n",
    " - **car_type** - флаг автомобиля-иномарки\n",
    " - **decline_app_cnt** - количество отказанных прошлых заявок\n",
    " - **good_work** - флаг наличия «хорошей» работы\n",
    " - **score_bki** - скоринговый балл по данным из БКИ\n",
    " - **bki_request_cnt** - количество запросов в БКИ\n",
    " - **region_rating** - рейтинг региона\n",
    " - **home_address** - категоризатор домашнего адреса\n",
    " - **work_address** - категоризатор рабочего адреса\n",
    " - **income** - доход заёмщика\n",
    " - **sna** - связь заемщика с клиентами банка\n",
    " - **first_time** - давность наличия информации о заемщике\n",
    " - **foreign_passport** - наличие загранпаспорта\n",
    " - **default** - наличие дефолта\n",
    " - **train** - вспомогательный признак для определения обучающей и тестовой выборок"
   ]
  },
  {
   "cell_type": "markdown",
   "metadata": {
    "papermill": {
     "duration": 0.084934,
     "end_time": "2021-04-11T21:02:23.273794",
     "exception": false,
     "start_time": "2021-04-11T21:02:23.188860",
     "status": "completed"
    },
    "tags": []
   },
   "source": [
    "## Посмотрим на признаки более внимательно\n",
    "\n",
    "Расспределим признаки по разым спискам:\n",
    " - **Временны'е признаки (1)**\n",
    "  * 'app_date' - тип object, но исходя из описания признака отнесем во временным признаки\n",
    " - **Бинарные признаки (5 + 2 = 7)**\n",
    "  * 'sex', 'car', 'car_type', 'foreign_passport' тип object + 2 значения, добавим данные признаки к бинарным\n",
    "  * 'good_work' тип int64, но принимает одно из двух значений, добавим данный признак к бинарным\n",
    "  * 'default' - целевой, 'train' - вспомогательный. Их не включаем в списки.\n",
    " - **Категориальные признаки (6)**\n",
    "  * 'education', 'region_rating', 'home_address', 'work_address', 'sna', 'first_time' - тип int64, принимает от 3 до 7 значений, добавим к категориальны\n",
    " - **Колличественные признаки (5 + 1 = 6)**\n",
    "  * 'age','decline_app_cnt','score_bki','bki_request_cnt','income' тип int64, принимает много значений, доавим к колчественным признакам\n",
    "  * 'client_id' уникальный признак, не включаем в списки"
   ]
  },
  {
   "cell_type": "code",
   "execution_count": 18,
   "metadata": {
    "execution": {
     "iopub.execute_input": "2021-04-11T21:02:23.446593Z",
     "iopub.status.busy": "2021-04-11T21:02:23.445922Z",
     "iopub.status.idle": "2021-04-11T21:02:23.450484Z",
     "shell.execute_reply": "2021-04-11T21:02:23.450979Z"
    },
    "papermill": {
     "duration": 0.092347,
     "end_time": "2021-04-11T21:02:23.451153",
     "exception": false,
     "start_time": "2021-04-11T21:02:23.358806",
     "status": "completed"
    },
    "tags": []
   },
   "outputs": [],
   "source": [
    "# Временны'е признаки \n",
    "time_cols = ['app_date']\n",
    "\n",
    "# Бинарные признаки \n",
    "bin_cols = ['sex', 'car', 'car_type', 'good_work', 'foreign_passport']\n",
    "\n",
    "# Категориальные признаки\n",
    "cat_cols = ['education', 'region_rating', 'home_address', 'work_address', 'sna', 'first_time']\n",
    "\n",
    "# Колличественные признаки \n",
    "num_cols = ['age','decline_app_cnt','score_bki','bki_request_cnt','income']"
   ]
  },
  {
   "cell_type": "markdown",
   "metadata": {
    "papermill": {
     "duration": 0.084134,
     "end_time": "2021-04-11T21:02:23.620598",
     "exception": false,
     "start_time": "2021-04-11T21:02:23.536464",
     "status": "completed"
    },
    "tags": []
   },
   "source": [
    "## Проведем анализ по каждому признаку\n",
    "\n",
    "### Посмотрим на целевой признак 'default'"
   ]
  },
  {
   "cell_type": "code",
   "execution_count": 19,
   "metadata": {
    "execution": {
     "iopub.execute_input": "2021-04-11T21:02:23.793706Z",
     "iopub.status.busy": "2021-04-11T21:02:23.792743Z",
     "iopub.status.idle": "2021-04-11T21:02:24.042728Z",
     "shell.execute_reply": "2021-04-11T21:02:24.042185Z"
    },
    "papermill": {
     "duration": 0.337376,
     "end_time": "2021-04-11T21:02:24.042864",
     "exception": false,
     "start_time": "2021-04-11T21:02:23.705488",
     "status": "completed"
    },
    "tags": []
   },
   "outputs": [
    {
     "data": {
      "text/plain": [
       "<matplotlib.axes._subplots.AxesSubplot at 0x7ffa69eb1cc0>"
      ]
     },
     "execution_count": 19,
     "metadata": {},
     "output_type": "execute_result"
    },
    {
     "data": {
      "image/png": "[encoded data removed]",
      "text/plain": [
       "<Figure size 432x288 with 1 Axes>"
      ]
     },
     "metadata": {
      "needs_background": "light"
     },
     "output_type": "display_data"
    }
   ],
   "source": [
    "data.query('train == 1')['default'].hist()"
   ]
  },
  {
   "cell_type": "code",
   "execution_count": 20,
   "metadata": {
    "execution": {
     "iopub.execute_input": "2021-04-11T21:02:24.220138Z",
     "iopub.status.busy": "2021-04-11T21:02:24.219131Z",
     "iopub.status.idle": "2021-04-11T21:02:24.237955Z",
     "shell.execute_reply": "2021-04-11T21:02:24.239018Z"
    },
    "papermill": {
     "duration": 0.109923,
     "end_time": "2021-04-11T21:02:24.239202",
     "exception": false,
     "start_time": "2021-04-11T21:02:24.129279",
     "status": "completed"
    },
    "tags": []
   },
   "outputs": [
    {
     "data": {
      "text/plain": [
       "0    0.873006\n",
       "1    0.126994\n",
       "Name: default, dtype: float64"
      ]
     },
     "execution_count": 20,
     "metadata": {},
     "output_type": "execute_result"
    }
   ],
   "source": [
    "data.query('train == 1')['default'].value_counts(normalize=True)"
   ]
  },
  {
   "cell_type": "markdown",
   "metadata": {
    "papermill": {
     "duration": 0.087546,
     "end_time": "2021-04-11T21:02:24.413140",
     "exception": false,
     "start_time": "2021-04-11T21:02:24.325594",
     "status": "completed"
    },
    "tags": []
   },
   "source": [
    "**Резюме** Целевой признак принимает значение 1 в 12.7% случаях. Следоватьно обучающая выборка несбалансирована. Данный факт необходимо будет учесть при выборе метрики качества построения модели."
   ]
  },
  {
   "cell_type": "markdown",
   "metadata": {
    "papermill": {
     "duration": 0.087324,
     "end_time": "2021-04-11T21:02:24.587622",
     "exception": false,
     "start_time": "2021-04-11T21:02:24.500298",
     "status": "completed"
    },
    "tags": []
   },
   "source": [
    "### Бинарные признаки."
   ]
  },
  {
   "cell_type": "code",
   "execution_count": 21,
   "metadata": {
    "execution": {
     "iopub.execute_input": "2021-04-11T21:02:24.765553Z",
     "iopub.status.busy": "2021-04-11T21:02:24.764894Z",
     "iopub.status.idle": "2021-04-11T21:02:25.062730Z",
     "shell.execute_reply": "2021-04-11T21:02:25.062073Z"
    },
    "papermill": {
     "duration": 0.388928,
     "end_time": "2021-04-11T21:02:25.062870",
     "exception": false,
     "start_time": "2021-04-11T21:02:24.673942",
     "status": "completed"
    },
    "tags": []
   },
   "outputs": [
    {
     "data": {
      "text/html": [
       "<div>\n",
       "<style scoped>\n",
       "    .dataframe tbody tr th:only-of-type {\n",
       "        vertical-align: middle;\n",
       "    }\n",
       "\n",
       "    .dataframe tbody tr th {\n",
       "        vertical-align: top;\n",
       "    }\n",
       "\n",
       "    .dataframe thead th {\n",
       "        text-align: right;\n",
       "    }\n",
       "</style>\n",
       "<table border=\"1\" class=\"dataframe\">\n",
       "  <thead>\n",
       "    <tr style=\"text-align: right;\">\n",
       "      <th></th>\n",
       "      <th>имя признака</th>\n",
       "      <th>тип</th>\n",
       "      <th># значений</th>\n",
       "      <th># пропусков(NaN)</th>\n",
       "      <th># уникальных</th>\n",
       "      <th>в первой строке</th>\n",
       "      <th>во второй строке</th>\n",
       "      <th>в третьей строке</th>\n",
       "    </tr>\n",
       "  </thead>\n",
       "  <tbody>\n",
       "    <tr>\n",
       "      <th>0</th>\n",
       "      <td>sex</td>\n",
       "      <td>object</td>\n",
       "      <td>110148</td>\n",
       "      <td>0</td>\n",
       "      <td>2</td>\n",
       "      <td>M</td>\n",
       "      <td>F</td>\n",
       "      <td>M</td>\n",
       "    </tr>\n",
       "    <tr>\n",
       "      <th>1</th>\n",
       "      <td>car</td>\n",
       "      <td>object</td>\n",
       "      <td>110148</td>\n",
       "      <td>0</td>\n",
       "      <td>2</td>\n",
       "      <td>Y</td>\n",
       "      <td>N</td>\n",
       "      <td>Y</td>\n",
       "    </tr>\n",
       "    <tr>\n",
       "      <th>2</th>\n",
       "      <td>car_type</td>\n",
       "      <td>object</td>\n",
       "      <td>110148</td>\n",
       "      <td>0</td>\n",
       "      <td>2</td>\n",
       "      <td>Y</td>\n",
       "      <td>N</td>\n",
       "      <td>N</td>\n",
       "    </tr>\n",
       "    <tr>\n",
       "      <th>3</th>\n",
       "      <td>good_work</td>\n",
       "      <td>int64</td>\n",
       "      <td>110148</td>\n",
       "      <td>0</td>\n",
       "      <td>2</td>\n",
       "      <td>0</td>\n",
       "      <td>0</td>\n",
       "      <td>0</td>\n",
       "    </tr>\n",
       "    <tr>\n",
       "      <th>4</th>\n",
       "      <td>foreign_passport</td>\n",
       "      <td>object</td>\n",
       "      <td>110148</td>\n",
       "      <td>0</td>\n",
       "      <td>2</td>\n",
       "      <td>N</td>\n",
       "      <td>N</td>\n",
       "      <td>Y</td>\n",
       "    </tr>\n",
       "  </tbody>\n",
       "</table>\n",
       "</div>"
      ],
      "text/plain": [
       "       имя признака     тип # значений # пропусков(NaN) # уникальных  \\\n",
       "0               sex  object     110148                0            2   \n",
       "1               car  object     110148                0            2   \n",
       "2          car_type  object     110148                0            2   \n",
       "3         good_work   int64     110148                0            2   \n",
       "4  foreign_passport  object     110148                0            2   \n",
       "\n",
       "  в первой строке во второй строке в третьей строке  \n",
       "0               M                F                M  \n",
       "1               Y                N                Y  \n",
       "2               Y                N                N  \n",
       "3               0                0                0  \n",
       "4               N                N                Y  "
      ]
     },
     "metadata": {},
     "output_type": "display_data"
    }
   ],
   "source": [
    "# Выведем информацию по бинарным признакам\n",
    "data_full_info(data[bin_cols], full=False, short=False)"
   ]
  },
  {
   "cell_type": "markdown",
   "metadata": {
    "papermill": {
     "duration": 0.087457,
     "end_time": "2021-04-11T21:02:25.239559",
     "exception": false,
     "start_time": "2021-04-11T21:02:25.152102",
     "status": "completed"
    },
    "tags": []
   },
   "source": [
    "Пропусков нет. Часть признаков принимает значения типа object. Переформатируем так, чтобы они принимали значения 1 или 0."
   ]
  },
  {
   "cell_type": "code",
   "execution_count": 22,
   "metadata": {
    "execution": {
     "iopub.execute_input": "2021-04-11T21:02:25.425539Z",
     "iopub.status.busy": "2021-04-11T21:02:25.424879Z",
     "iopub.status.idle": "2021-04-11T21:02:25.592734Z",
     "shell.execute_reply": "2021-04-11T21:02:25.591995Z"
    },
    "papermill": {
     "duration": 0.26604,
     "end_time": "2021-04-11T21:02:25.592880",
     "exception": false,
     "start_time": "2021-04-11T21:02:25.326840",
     "status": "completed"
    },
    "tags": []
   },
   "outputs": [],
   "source": [
    "# Выносим в блок предобработки\n",
    "\n",
    "# Для бинарных признаков мы будем использовать LabelEncoder\n",
    "label_encoder = LabelEncoder()\n",
    "\n",
    "for column in bin_cols:\n",
    "    data.loc[:, column] = label_encoder.fit_transform(data[column])"
   ]
  },
  {
   "cell_type": "code",
   "execution_count": 23,
   "metadata": {
    "execution": {
     "iopub.execute_input": "2021-04-11T21:02:25.793146Z",
     "iopub.status.busy": "2021-04-11T21:02:25.791633Z",
     "iopub.status.idle": "2021-04-11T21:02:25.849191Z",
     "shell.execute_reply": "2021-04-11T21:02:25.849675Z"
    },
    "papermill": {
     "duration": 0.150867,
     "end_time": "2021-04-11T21:02:25.849865",
     "exception": false,
     "start_time": "2021-04-11T21:02:25.698998",
     "status": "completed"
    },
    "tags": []
   },
   "outputs": [
    {
     "data": {
      "text/html": [
       "<div>\n",
       "<style scoped>\n",
       "    .dataframe tbody tr th:only-of-type {\n",
       "        vertical-align: middle;\n",
       "    }\n",
       "\n",
       "    .dataframe tbody tr th {\n",
       "        vertical-align: top;\n",
       "    }\n",
       "\n",
       "    .dataframe thead th {\n",
       "        text-align: right;\n",
       "    }\n",
       "</style>\n",
       "<table border=\"1\" class=\"dataframe\">\n",
       "  <thead>\n",
       "    <tr style=\"text-align: right;\">\n",
       "      <th></th>\n",
       "      <th>имя признака</th>\n",
       "      <th>тип</th>\n",
       "      <th># значений</th>\n",
       "      <th># пропусков(NaN)</th>\n",
       "      <th># уникальных</th>\n",
       "      <th>в первой строке</th>\n",
       "      <th>во второй строке</th>\n",
       "      <th>в третьей строке</th>\n",
       "    </tr>\n",
       "  </thead>\n",
       "  <tbody>\n",
       "    <tr>\n",
       "      <th>0</th>\n",
       "      <td>sex</td>\n",
       "      <td>int64</td>\n",
       "      <td>110148</td>\n",
       "      <td>0</td>\n",
       "      <td>2</td>\n",
       "      <td>1</td>\n",
       "      <td>0</td>\n",
       "      <td>1</td>\n",
       "    </tr>\n",
       "    <tr>\n",
       "      <th>1</th>\n",
       "      <td>car</td>\n",
       "      <td>int64</td>\n",
       "      <td>110148</td>\n",
       "      <td>0</td>\n",
       "      <td>2</td>\n",
       "      <td>1</td>\n",
       "      <td>0</td>\n",
       "      <td>1</td>\n",
       "    </tr>\n",
       "    <tr>\n",
       "      <th>2</th>\n",
       "      <td>car_type</td>\n",
       "      <td>int64</td>\n",
       "      <td>110148</td>\n",
       "      <td>0</td>\n",
       "      <td>2</td>\n",
       "      <td>1</td>\n",
       "      <td>0</td>\n",
       "      <td>0</td>\n",
       "    </tr>\n",
       "    <tr>\n",
       "      <th>3</th>\n",
       "      <td>good_work</td>\n",
       "      <td>int64</td>\n",
       "      <td>110148</td>\n",
       "      <td>0</td>\n",
       "      <td>2</td>\n",
       "      <td>0</td>\n",
       "      <td>0</td>\n",
       "      <td>0</td>\n",
       "    </tr>\n",
       "    <tr>\n",
       "      <th>4</th>\n",
       "      <td>foreign_passport</td>\n",
       "      <td>int64</td>\n",
       "      <td>110148</td>\n",
       "      <td>0</td>\n",
       "      <td>2</td>\n",
       "      <td>0</td>\n",
       "      <td>0</td>\n",
       "      <td>1</td>\n",
       "    </tr>\n",
       "  </tbody>\n",
       "</table>\n",
       "</div>"
      ],
      "text/plain": [
       "       имя признака    тип # значений # пропусков(NaN) # уникальных  \\\n",
       "0               sex  int64     110148                0            2   \n",
       "1               car  int64     110148                0            2   \n",
       "2          car_type  int64     110148                0            2   \n",
       "3         good_work  int64     110148                0            2   \n",
       "4  foreign_passport  int64     110148                0            2   \n",
       "\n",
       "  в первой строке во второй строке в третьей строке  \n",
       "0               1                0                1  \n",
       "1               1                0                1  \n",
       "2               1                0                0  \n",
       "3               0                0                0  \n",
       "4               0                0                1  "
      ]
     },
     "metadata": {},
     "output_type": "display_data"
    }
   ],
   "source": [
    "# Проверим внесенные изменения\n",
    "data_full_info(data[bin_cols], full=False, short=False)"
   ]
  },
  {
   "cell_type": "markdown",
   "metadata": {
    "papermill": {
     "duration": 0.090279,
     "end_time": "2021-04-11T21:02:26.028449",
     "exception": false,
     "start_time": "2021-04-11T21:02:25.938170",
     "status": "completed"
    },
    "tags": []
   },
   "source": [
    "**Резюме:** Теперь с бинарными признаками все хорошо."
   ]
  },
  {
   "cell_type": "markdown",
   "metadata": {
    "papermill": {
     "duration": 0.08857,
     "end_time": "2021-04-11T21:02:26.206941",
     "exception": false,
     "start_time": "2021-04-11T21:02:26.118371",
     "status": "completed"
    },
    "tags": []
   },
   "source": [
    "### Категориальные признаки. "
   ]
  },
  {
   "cell_type": "code",
   "execution_count": 24,
   "metadata": {
    "execution": {
     "iopub.execute_input": "2021-04-11T21:02:26.391349Z",
     "iopub.status.busy": "2021-04-11T21:02:26.390719Z",
     "iopub.status.idle": "2021-04-11T21:02:26.512923Z",
     "shell.execute_reply": "2021-04-11T21:02:26.512294Z"
    },
    "papermill": {
     "duration": 0.217054,
     "end_time": "2021-04-11T21:02:26.513058",
     "exception": false,
     "start_time": "2021-04-11T21:02:26.296004",
     "status": "completed"
    },
    "tags": []
   },
   "outputs": [
    {
     "data": {
      "text/html": [
       "<div>\n",
       "<style scoped>\n",
       "    .dataframe tbody tr th:only-of-type {\n",
       "        vertical-align: middle;\n",
       "    }\n",
       "\n",
       "    .dataframe tbody tr th {\n",
       "        vertical-align: top;\n",
       "    }\n",
       "\n",
       "    .dataframe thead th {\n",
       "        text-align: right;\n",
       "    }\n",
       "</style>\n",
       "<table border=\"1\" class=\"dataframe\">\n",
       "  <thead>\n",
       "    <tr style=\"text-align: right;\">\n",
       "      <th></th>\n",
       "      <th>имя признака</th>\n",
       "      <th>тип</th>\n",
       "      <th># значений</th>\n",
       "      <th># пропусков(NaN)</th>\n",
       "      <th># уникальных</th>\n",
       "      <th>в первой строке</th>\n",
       "      <th>во второй строке</th>\n",
       "      <th>в третьей строке</th>\n",
       "    </tr>\n",
       "  </thead>\n",
       "  <tbody>\n",
       "    <tr>\n",
       "      <th>0</th>\n",
       "      <td>education</td>\n",
       "      <td>object</td>\n",
       "      <td>109670</td>\n",
       "      <td>478</td>\n",
       "      <td>5</td>\n",
       "      <td>SCH</td>\n",
       "      <td>SCH</td>\n",
       "      <td>SCH</td>\n",
       "    </tr>\n",
       "    <tr>\n",
       "      <th>1</th>\n",
       "      <td>region_rating</td>\n",
       "      <td>int64</td>\n",
       "      <td>110148</td>\n",
       "      <td>0</td>\n",
       "      <td>7</td>\n",
       "      <td>50</td>\n",
       "      <td>50</td>\n",
       "      <td>80</td>\n",
       "    </tr>\n",
       "    <tr>\n",
       "      <th>2</th>\n",
       "      <td>home_address</td>\n",
       "      <td>int64</td>\n",
       "      <td>110148</td>\n",
       "      <td>0</td>\n",
       "      <td>3</td>\n",
       "      <td>1</td>\n",
       "      <td>2</td>\n",
       "      <td>1</td>\n",
       "    </tr>\n",
       "    <tr>\n",
       "      <th>3</th>\n",
       "      <td>work_address</td>\n",
       "      <td>int64</td>\n",
       "      <td>110148</td>\n",
       "      <td>0</td>\n",
       "      <td>3</td>\n",
       "      <td>2</td>\n",
       "      <td>3</td>\n",
       "      <td>2</td>\n",
       "    </tr>\n",
       "    <tr>\n",
       "      <th>4</th>\n",
       "      <td>sna</td>\n",
       "      <td>int64</td>\n",
       "      <td>110148</td>\n",
       "      <td>0</td>\n",
       "      <td>4</td>\n",
       "      <td>4</td>\n",
       "      <td>4</td>\n",
       "      <td>1</td>\n",
       "    </tr>\n",
       "    <tr>\n",
       "      <th>5</th>\n",
       "      <td>first_time</td>\n",
       "      <td>int64</td>\n",
       "      <td>110148</td>\n",
       "      <td>0</td>\n",
       "      <td>4</td>\n",
       "      <td>1</td>\n",
       "      <td>1</td>\n",
       "      <td>4</td>\n",
       "    </tr>\n",
       "  </tbody>\n",
       "</table>\n",
       "</div>"
      ],
      "text/plain": [
       "    имя признака     тип # значений # пропусков(NaN) # уникальных  \\\n",
       "0      education  object     109670              478            5   \n",
       "1  region_rating   int64     110148                0            7   \n",
       "2   home_address   int64     110148                0            3   \n",
       "3   work_address   int64     110148                0            3   \n",
       "4            sna   int64     110148                0            4   \n",
       "5     first_time   int64     110148                0            4   \n",
       "\n",
       "  в первой строке во второй строке в третьей строке  \n",
       "0             SCH              SCH              SCH  \n",
       "1              50               50               80  \n",
       "2               1                2                1  \n",
       "3               2                3                2  \n",
       "4               4                4                1  \n",
       "5               1                1                4  "
      ]
     },
     "metadata": {},
     "output_type": "display_data"
    }
   ],
   "source": [
    "# Выведем информацию по категориальным признакам\n",
    "data_full_info(data[cat_cols], full=False, short=False)"
   ]
  },
  {
   "cell_type": "markdown",
   "metadata": {
    "papermill": {
     "duration": 0.089652,
     "end_time": "2021-04-11T21:02:26.692896",
     "exception": false,
     "start_time": "2021-04-11T21:02:26.603244",
     "status": "completed"
    },
    "tags": []
   },
   "source": [
    "Есть **проблемы** с признаком **'education'**:"
   ]
  },
  {
   "cell_type": "code",
   "execution_count": 25,
   "metadata": {
    "execution": {
     "iopub.execute_input": "2021-04-11T21:02:26.888831Z",
     "iopub.status.busy": "2021-04-11T21:02:26.888193Z",
     "iopub.status.idle": "2021-04-11T21:02:26.971588Z",
     "shell.execute_reply": "2021-04-11T21:02:26.971028Z"
    },
    "papermill": {
     "duration": 0.188386,
     "end_time": "2021-04-11T21:02:26.971725",
     "exception": false,
     "start_time": "2021-04-11T21:02:26.783339",
     "status": "completed"
    },
    "tags": []
   },
   "outputs": [
    {
     "name": "stdout",
     "output_type": "stream",
     "text": [
      "Проведем анализ для переменной education\n",
      "Тип данных:  object\n",
      "Всего значений: 110148\n",
      "Пустых значений: 478\n",
      "Значений, упомянутых более 10 раз: 5\n",
      "Уникальных значений: 5\n"
     ]
    },
    {
     "data": {
      "text/html": [
       "<div>\n",
       "<style scoped>\n",
       "    .dataframe tbody tr th:only-of-type {\n",
       "        vertical-align: middle;\n",
       "    }\n",
       "\n",
       "    .dataframe tbody tr th {\n",
       "        vertical-align: top;\n",
       "    }\n",
       "\n",
       "    .dataframe thead th {\n",
       "        text-align: right;\n",
       "    }\n",
       "</style>\n",
       "<table border=\"1\" class=\"dataframe\">\n",
       "  <thead>\n",
       "    <tr style=\"text-align: right;\">\n",
       "      <th></th>\n",
       "      <th>education</th>\n",
       "    </tr>\n",
       "  </thead>\n",
       "  <tbody>\n",
       "    <tr>\n",
       "      <th>SCH</th>\n",
       "      <td>57998</td>\n",
       "    </tr>\n",
       "    <tr>\n",
       "      <th>GRD</th>\n",
       "      <td>34768</td>\n",
       "    </tr>\n",
       "    <tr>\n",
       "      <th>UGR</th>\n",
       "      <td>14748</td>\n",
       "    </tr>\n",
       "    <tr>\n",
       "      <th>PGR</th>\n",
       "      <td>1865</td>\n",
       "    </tr>\n",
       "    <tr>\n",
       "      <th>ACD</th>\n",
       "      <td>291</td>\n",
       "    </tr>\n",
       "  </tbody>\n",
       "</table>\n",
       "</div>"
      ],
      "text/plain": [
       "     education\n",
       "SCH      57998\n",
       "GRD      34768\n",
       "UGR      14748\n",
       "PGR       1865\n",
       "ACD        291"
      ]
     },
     "metadata": {},
     "output_type": "display_data"
    }
   ],
   "source": [
    "column_info(data, 'education')"
   ]
  },
  {
   "cell_type": "code",
   "execution_count": 26,
   "metadata": {
    "execution": {
     "iopub.execute_input": "2021-04-11T21:02:27.159304Z",
     "iopub.status.busy": "2021-04-11T21:02:27.157833Z",
     "iopub.status.idle": "2021-04-11T21:02:27.208011Z",
     "shell.execute_reply": "2021-04-11T21:02:27.208694Z"
    },
    "papermill": {
     "duration": 0.146963,
     "end_time": "2021-04-11T21:02:27.208933",
     "exception": false,
     "start_time": "2021-04-11T21:02:27.061970",
     "status": "completed"
    },
    "tags": []
   },
   "outputs": [
    {
     "name": "stdout",
     "output_type": "stream",
     "text": [
      "В новый признак 'education_isnan' охраняем информацию, в каком наблюдении указано NaN\n",
      "Заполним пустые значения признака education самым распространенным значением  SCH\n"
     ]
    }
   ],
   "source": [
    "# Выносим в блок предобработки\n",
    "\n",
    "# Есть пустые значения. Заполняем пустые значения самым распространенным значением\n",
    "data = replace_nan(data, 'education', 'mode')"
   ]
  },
  {
   "cell_type": "code",
   "execution_count": 27,
   "metadata": {
    "execution": {
     "iopub.execute_input": "2021-04-11T21:02:27.412440Z",
     "iopub.status.busy": "2021-04-11T21:02:27.411322Z",
     "iopub.status.idle": "2021-04-11T21:02:27.417253Z",
     "shell.execute_reply": "2021-04-11T21:02:27.416765Z"
    },
    "papermill": {
     "duration": 0.116807,
     "end_time": "2021-04-11T21:02:27.417411",
     "exception": false,
     "start_time": "2021-04-11T21:02:27.300604",
     "status": "completed"
    },
    "tags": []
   },
   "outputs": [],
   "source": [
    "# Выносим в блок предобработки\n",
    "\n",
    "# Добавим новый признак 'education_isnan' к бинарным\n",
    "bin_cols.append('education_isnan')\n",
    "\n",
    "# Преобразуем education в целочисленный формат. \n",
    "edu = {'SCH' : 1, 'UGR' : 2, 'GRD' : 3, 'PGR' : 4, 'ACD' : 5}\n",
    "data.loc[:, 'education'] = data['education'].map(edu)"
   ]
  },
  {
   "cell_type": "code",
   "execution_count": 28,
   "metadata": {
    "execution": {
     "iopub.execute_input": "2021-04-11T21:02:27.604977Z",
     "iopub.status.busy": "2021-04-11T21:02:27.603067Z",
     "iopub.status.idle": "2021-04-11T21:02:27.678337Z",
     "shell.execute_reply": "2021-04-11T21:02:27.677609Z"
    },
    "papermill": {
     "duration": 0.170666,
     "end_time": "2021-04-11T21:02:27.678501",
     "exception": false,
     "start_time": "2021-04-11T21:02:27.507835",
     "status": "completed"
    },
    "tags": []
   },
   "outputs": [],
   "source": [
    "# Введем бинарный признак наличия выcшего образования\n",
    "data.loc[:, 'high_edu'] = data['education'].apply(lambda x: 1 if x >= 3 else 0)  \n",
    "bin_cols.append('high_edu')"
   ]
  },
  {
   "cell_type": "code",
   "execution_count": 29,
   "metadata": {
    "execution": {
     "iopub.execute_input": "2021-04-11T21:02:27.870322Z",
     "iopub.status.busy": "2021-04-11T21:02:27.865523Z",
     "iopub.status.idle": "2021-04-11T21:02:27.900052Z",
     "shell.execute_reply": "2021-04-11T21:02:27.899447Z"
    },
    "papermill": {
     "duration": 0.130894,
     "end_time": "2021-04-11T21:02:27.900189",
     "exception": false,
     "start_time": "2021-04-11T21:02:27.769295",
     "status": "completed"
    },
    "tags": []
   },
   "outputs": [],
   "source": [
    "# Введем количественный признак среднее значение дефолтов по региону\n",
    "default_mean = dict(data.query('train == 1').groupby('region_rating')['default'].mean())\n",
    "data.loc[:, 'region_default_mean'] = data['region_rating'].map(default_mean)\n",
    "num_cols.append('region_default_mean')"
   ]
  },
  {
   "cell_type": "code",
   "execution_count": 30,
   "metadata": {
    "execution": {
     "iopub.execute_input": "2021-04-11T21:02:28.090797Z",
     "iopub.status.busy": "2021-04-11T21:02:28.089624Z",
     "iopub.status.idle": "2021-04-11T21:02:28.196288Z",
     "shell.execute_reply": "2021-04-11T21:02:28.195678Z"
    },
    "papermill": {
     "duration": 0.203697,
     "end_time": "2021-04-11T21:02:28.196456",
     "exception": false,
     "start_time": "2021-04-11T21:02:27.992759",
     "status": "completed"
    },
    "tags": []
   },
   "outputs": [
    {
     "data": {
      "text/html": [
       "<div>\n",
       "<style scoped>\n",
       "    .dataframe tbody tr th:only-of-type {\n",
       "        vertical-align: middle;\n",
       "    }\n",
       "\n",
       "    .dataframe tbody tr th {\n",
       "        vertical-align: top;\n",
       "    }\n",
       "\n",
       "    .dataframe thead th {\n",
       "        text-align: right;\n",
       "    }\n",
       "</style>\n",
       "<table border=\"1\" class=\"dataframe\">\n",
       "  <thead>\n",
       "    <tr style=\"text-align: right;\">\n",
       "      <th></th>\n",
       "      <th>имя признака</th>\n",
       "      <th>тип</th>\n",
       "      <th># значений</th>\n",
       "      <th># пропусков(NaN)</th>\n",
       "      <th># уникальных</th>\n",
       "      <th>в первой строке</th>\n",
       "      <th>во второй строке</th>\n",
       "      <th>в третьей строке</th>\n",
       "    </tr>\n",
       "  </thead>\n",
       "  <tbody>\n",
       "    <tr>\n",
       "      <th>0</th>\n",
       "      <td>education</td>\n",
       "      <td>int64</td>\n",
       "      <td>110148</td>\n",
       "      <td>0</td>\n",
       "      <td>5</td>\n",
       "      <td>1</td>\n",
       "      <td>1</td>\n",
       "      <td>1</td>\n",
       "    </tr>\n",
       "    <tr>\n",
       "      <th>1</th>\n",
       "      <td>region_rating</td>\n",
       "      <td>int64</td>\n",
       "      <td>110148</td>\n",
       "      <td>0</td>\n",
       "      <td>7</td>\n",
       "      <td>50</td>\n",
       "      <td>50</td>\n",
       "      <td>80</td>\n",
       "    </tr>\n",
       "    <tr>\n",
       "      <th>2</th>\n",
       "      <td>home_address</td>\n",
       "      <td>int64</td>\n",
       "      <td>110148</td>\n",
       "      <td>0</td>\n",
       "      <td>3</td>\n",
       "      <td>1</td>\n",
       "      <td>2</td>\n",
       "      <td>1</td>\n",
       "    </tr>\n",
       "    <tr>\n",
       "      <th>3</th>\n",
       "      <td>work_address</td>\n",
       "      <td>int64</td>\n",
       "      <td>110148</td>\n",
       "      <td>0</td>\n",
       "      <td>3</td>\n",
       "      <td>2</td>\n",
       "      <td>3</td>\n",
       "      <td>2</td>\n",
       "    </tr>\n",
       "    <tr>\n",
       "      <th>4</th>\n",
       "      <td>sna</td>\n",
       "      <td>int64</td>\n",
       "      <td>110148</td>\n",
       "      <td>0</td>\n",
       "      <td>4</td>\n",
       "      <td>4</td>\n",
       "      <td>4</td>\n",
       "      <td>1</td>\n",
       "    </tr>\n",
       "    <tr>\n",
       "      <th>5</th>\n",
       "      <td>first_time</td>\n",
       "      <td>int64</td>\n",
       "      <td>110148</td>\n",
       "      <td>0</td>\n",
       "      <td>4</td>\n",
       "      <td>1</td>\n",
       "      <td>1</td>\n",
       "      <td>4</td>\n",
       "    </tr>\n",
       "    <tr>\n",
       "      <th>6</th>\n",
       "      <td>sex</td>\n",
       "      <td>int64</td>\n",
       "      <td>110148</td>\n",
       "      <td>0</td>\n",
       "      <td>2</td>\n",
       "      <td>1</td>\n",
       "      <td>0</td>\n",
       "      <td>1</td>\n",
       "    </tr>\n",
       "    <tr>\n",
       "      <th>7</th>\n",
       "      <td>car</td>\n",
       "      <td>int64</td>\n",
       "      <td>110148</td>\n",
       "      <td>0</td>\n",
       "      <td>2</td>\n",
       "      <td>1</td>\n",
       "      <td>0</td>\n",
       "      <td>1</td>\n",
       "    </tr>\n",
       "    <tr>\n",
       "      <th>8</th>\n",
       "      <td>car_type</td>\n",
       "      <td>int64</td>\n",
       "      <td>110148</td>\n",
       "      <td>0</td>\n",
       "      <td>2</td>\n",
       "      <td>1</td>\n",
       "      <td>0</td>\n",
       "      <td>0</td>\n",
       "    </tr>\n",
       "    <tr>\n",
       "      <th>9</th>\n",
       "      <td>good_work</td>\n",
       "      <td>int64</td>\n",
       "      <td>110148</td>\n",
       "      <td>0</td>\n",
       "      <td>2</td>\n",
       "      <td>0</td>\n",
       "      <td>0</td>\n",
       "      <td>0</td>\n",
       "    </tr>\n",
       "    <tr>\n",
       "      <th>10</th>\n",
       "      <td>foreign_passport</td>\n",
       "      <td>int64</td>\n",
       "      <td>110148</td>\n",
       "      <td>0</td>\n",
       "      <td>2</td>\n",
       "      <td>0</td>\n",
       "      <td>0</td>\n",
       "      <td>1</td>\n",
       "    </tr>\n",
       "    <tr>\n",
       "      <th>11</th>\n",
       "      <td>education_isnan</td>\n",
       "      <td>uint8</td>\n",
       "      <td>110148</td>\n",
       "      <td>0</td>\n",
       "      <td>2</td>\n",
       "      <td>0</td>\n",
       "      <td>0</td>\n",
       "      <td>0</td>\n",
       "    </tr>\n",
       "    <tr>\n",
       "      <th>12</th>\n",
       "      <td>high_edu</td>\n",
       "      <td>int64</td>\n",
       "      <td>110148</td>\n",
       "      <td>0</td>\n",
       "      <td>2</td>\n",
       "      <td>0</td>\n",
       "      <td>0</td>\n",
       "      <td>0</td>\n",
       "    </tr>\n",
       "  </tbody>\n",
       "</table>\n",
       "</div>"
      ],
      "text/plain": [
       "        имя признака    тип # значений # пропусков(NaN) # уникальных  \\\n",
       "0          education  int64     110148                0            5   \n",
       "1      region_rating  int64     110148                0            7   \n",
       "2       home_address  int64     110148                0            3   \n",
       "3       work_address  int64     110148                0            3   \n",
       "4                sna  int64     110148                0            4   \n",
       "5         first_time  int64     110148                0            4   \n",
       "6                sex  int64     110148                0            2   \n",
       "7                car  int64     110148                0            2   \n",
       "8           car_type  int64     110148                0            2   \n",
       "9          good_work  int64     110148                0            2   \n",
       "10  foreign_passport  int64     110148                0            2   \n",
       "11   education_isnan  uint8     110148                0            2   \n",
       "12          high_edu  int64     110148                0            2   \n",
       "\n",
       "   в первой строке во второй строке в третьей строке  \n",
       "0                1                1                1  \n",
       "1               50               50               80  \n",
       "2                1                2                1  \n",
       "3                2                3                2  \n",
       "4                4                4                1  \n",
       "5                1                1                4  \n",
       "6                1                0                1  \n",
       "7                1                0                1  \n",
       "8                1                0                0  \n",
       "9                0                0                0  \n",
       "10               0                0                1  \n",
       "11               0                0                0  \n",
       "12               0                0                0  "
      ]
     },
     "metadata": {},
     "output_type": "display_data"
    }
   ],
   "source": [
    "# Выведем информацию после изменений\n",
    "data_full_info(data[cat_cols + bin_cols], full=False, short=False)"
   ]
  },
  {
   "cell_type": "markdown",
   "metadata": {
    "papermill": {
     "duration": 0.091366,
     "end_time": "2021-04-11T21:02:28.380300",
     "exception": false,
     "start_time": "2021-04-11T21:02:28.288934",
     "status": "completed"
    },
    "tags": []
   },
   "source": [
    "**Резюме:** Теперь с категориальными признаками все хорошо. В дальнейшем останется только применить подход One-Hot Encoding для этих признаков."
   ]
  },
  {
   "cell_type": "markdown",
   "metadata": {
    "papermill": {
     "duration": 0.091233,
     "end_time": "2021-04-11T21:02:28.563015",
     "exception": false,
     "start_time": "2021-04-11T21:02:28.471782",
     "status": "completed"
    },
    "tags": []
   },
   "source": [
    "### Количественные признаки. \n",
    "\n",
    "#### 1. Признак 'age'"
   ]
  },
  {
   "cell_type": "code",
   "execution_count": 31,
   "metadata": {
    "execution": {
     "iopub.execute_input": "2021-04-11T21:02:28.750721Z",
     "iopub.status.busy": "2021-04-11T21:02:28.749980Z",
     "iopub.status.idle": "2021-04-11T21:02:29.314942Z",
     "shell.execute_reply": "2021-04-11T21:02:29.314271Z"
    },
    "papermill": {
     "duration": 0.6606,
     "end_time": "2021-04-11T21:02:29.315086",
     "exception": false,
     "start_time": "2021-04-11T21:02:28.654486",
     "status": "completed"
    },
    "tags": []
   },
   "outputs": [
    {
     "name": "stderr",
     "output_type": "stream",
     "text": [
      "No handles with labels found to put in legend.\n"
     ]
    },
    {
     "name": "stdout",
     "output_type": "stream",
     "text": [
      "Всего значений: 110148\n",
      "Пустых значений: 0\n",
      "25-й перцентиль: 30.0, 75-й перцентиль: 48.0, IQR: 18.0,\n",
      "Границы значений: [21, 72],\n",
      "Границы выбросов: [3.0, 75.0].\n",
      "Выбросов Нет.\n",
      "Количество выбросов: 0\n"
     ]
    },
    {
     "data": {
      "image/png": "[encoded data removed]",
      "text/plain": [
       "<Figure size 864x288 with 4 Axes>"
      ]
     },
     "metadata": {
      "needs_background": "light"
     },
     "output_type": "display_data"
    }
   ],
   "source": [
    "plot_column_info_log(data, 'age')"
   ]
  },
  {
   "cell_type": "code",
   "execution_count": 32,
   "metadata": {
    "execution": {
     "iopub.execute_input": "2021-04-11T21:02:29.514832Z",
     "iopub.status.busy": "2021-04-11T21:02:29.514158Z",
     "iopub.status.idle": "2021-04-11T21:02:29.527410Z",
     "shell.execute_reply": "2021-04-11T21:02:29.526736Z"
    },
    "papermill": {
     "duration": 0.11302,
     "end_time": "2021-04-11T21:02:29.527551",
     "exception": false,
     "start_time": "2021-04-11T21:02:29.414531",
     "status": "completed"
    },
    "tags": []
   },
   "outputs": [],
   "source": [
    "# Выносим в блок предобработки\n",
    "\n",
    "# Возьмем логарифм от признака\n",
    "data.loc[:, 'age'] = np.log(data['age'] + 1)"
   ]
  },
  {
   "cell_type": "markdown",
   "metadata": {
    "papermill": {
     "duration": 0.093749,
     "end_time": "2021-04-11T21:02:29.715235",
     "exception": false,
     "start_time": "2021-04-11T21:02:29.621486",
     "status": "completed"
    },
    "tags": []
   },
   "source": [
    "**Резюме - Age**: Распределение логнормальное , выбросов по квартилям нет. Взяли логарифм от признака"
   ]
  },
  {
   "cell_type": "markdown",
   "metadata": {
    "papermill": {
     "duration": 0.092845,
     "end_time": "2021-04-11T21:02:29.901767",
     "exception": false,
     "start_time": "2021-04-11T21:02:29.808922",
     "status": "completed"
    },
    "tags": []
   },
   "source": [
    "#### 2. Признак 'decline_app_cnt'"
   ]
  },
  {
   "cell_type": "code",
   "execution_count": 33,
   "metadata": {
    "execution": {
     "iopub.execute_input": "2021-04-11T21:02:30.105963Z",
     "iopub.status.busy": "2021-04-11T21:02:30.096852Z",
     "iopub.status.idle": "2021-04-11T21:02:30.816236Z",
     "shell.execute_reply": "2021-04-11T21:02:30.815603Z"
    },
    "papermill": {
     "duration": 0.820315,
     "end_time": "2021-04-11T21:02:30.816370",
     "exception": false,
     "start_time": "2021-04-11T21:02:29.996055",
     "status": "completed"
    },
    "tags": []
   },
   "outputs": [
    {
     "name": "stderr",
     "output_type": "stream",
     "text": [
      "No handles with labels found to put in legend.\n"
     ]
    },
    {
     "name": "stdout",
     "output_type": "stream",
     "text": [
      "Всего значений: 110148\n",
      "Пустых значений: 0\n",
      "25-й перцентиль: 0.0, 75-й перцентиль: 0.0, IQR: 0.0,\n",
      "Границы значений: [0, 33],\n",
      "Границы выбросов: [0.0, 0.0].\n",
      "Есть выбросы.\n",
      "Количество выбросов: 18677\n"
     ]
    },
    {
     "data": {
      "image/png": "[encoded data removed]",
      "text/plain": [
       "<Figure size 864x288 with 4 Axes>"
      ]
     },
     "metadata": {
      "needs_background": "light"
     },
     "output_type": "display_data"
    }
   ],
   "source": [
    "plot_column_info_log(data, 'decline_app_cnt')"
   ]
  },
  {
   "cell_type": "code",
   "execution_count": 34,
   "metadata": {
    "execution": {
     "iopub.execute_input": "2021-04-11T21:02:31.013485Z",
     "iopub.status.busy": "2021-04-11T21:02:31.012808Z",
     "iopub.status.idle": "2021-04-11T21:02:31.022177Z",
     "shell.execute_reply": "2021-04-11T21:02:31.021243Z"
    },
    "papermill": {
     "duration": 0.110751,
     "end_time": "2021-04-11T21:02:31.022323",
     "exception": false,
     "start_time": "2021-04-11T21:02:30.911572",
     "status": "completed"
    },
    "tags": []
   },
   "outputs": [
    {
     "data": {
      "text/plain": [
       "0     0.830437\n",
       "1     0.113484\n",
       "2     0.032883\n",
       "3     0.012392\n",
       "4     0.005502\n",
       "5     0.002315\n",
       "6     0.001416\n",
       "7     0.000527\n",
       "8     0.000336\n",
       "9     0.000263\n",
       "10    0.000145\n",
       "11    0.000091\n",
       "12    0.000045\n",
       "13    0.000036\n",
       "14    0.000027\n",
       "16    0.000027\n",
       "30    0.000009\n",
       "15    0.000009\n",
       "19    0.000009\n",
       "20    0.000009\n",
       "21    0.000009\n",
       "22    0.000009\n",
       "24    0.000009\n",
       "33    0.000009\n",
       "Name: decline_app_cnt, dtype: float64"
      ]
     },
     "execution_count": 34,
     "metadata": {},
     "output_type": "execute_result"
    }
   ],
   "source": [
    "data['decline_app_cnt'].value_counts(normalize=True)"
   ]
  },
  {
   "cell_type": "code",
   "execution_count": 35,
   "metadata": {
    "execution": {
     "iopub.execute_input": "2021-04-11T21:02:31.220427Z",
     "iopub.status.busy": "2021-04-11T21:02:31.219763Z",
     "iopub.status.idle": "2021-04-11T21:02:31.224918Z",
     "shell.execute_reply": "2021-04-11T21:02:31.225363Z"
    },
    "papermill": {
     "duration": 0.10802,
     "end_time": "2021-04-11T21:02:31.225579",
     "exception": false,
     "start_time": "2021-04-11T21:02:31.117559",
     "status": "completed"
    },
    "tags": []
   },
   "outputs": [],
   "source": [
    "# Выносим в блок предобработки\n",
    "\n",
    "# Добавим новый признак для сохранения информации у каких клиентов decline_app_cnt > 3\n",
    "index = data['decline_app_cnt'] > 3\n",
    "data.loc[:, 'decline_app_cnt_more_then_3'] = index.astype('int8')\n",
    "bin_cols.append('decline_app_cnt_more_then_3')\n",
    "\n",
    "# Для всех клиентов с decline_app_cnt > 3, установим decline_app_cnt = 3\n",
    "data.loc[index, 'decline_app_cnt'] = 3"
   ]
  },
  {
   "cell_type": "code",
   "execution_count": 36,
   "metadata": {
    "execution": {
     "iopub.execute_input": "2021-04-11T21:02:31.420912Z",
     "iopub.status.busy": "2021-04-11T21:02:31.420222Z",
     "iopub.status.idle": "2021-04-11T21:02:31.429516Z",
     "shell.execute_reply": "2021-04-11T21:02:31.428833Z"
    },
    "papermill": {
     "duration": 0.108186,
     "end_time": "2021-04-11T21:02:31.429653",
     "exception": false,
     "start_time": "2021-04-11T21:02:31.321467",
     "status": "completed"
    },
    "tags": []
   },
   "outputs": [
    {
     "data": {
      "text/plain": [
       "0    0.830437\n",
       "1    0.113484\n",
       "2    0.032883\n",
       "3    0.023196\n",
       "Name: decline_app_cnt, dtype: float64"
      ]
     },
     "execution_count": 36,
     "metadata": {},
     "output_type": "execute_result"
    }
   ],
   "source": [
    "data['decline_app_cnt'].value_counts(normalize=True)"
   ]
  },
  {
   "cell_type": "code",
   "execution_count": 37,
   "metadata": {
    "execution": {
     "iopub.execute_input": "2021-04-11T21:02:31.627360Z",
     "iopub.status.busy": "2021-04-11T21:02:31.626734Z",
     "iopub.status.idle": "2021-04-11T21:02:32.223868Z",
     "shell.execute_reply": "2021-04-11T21:02:32.224364Z"
    },
    "papermill": {
     "duration": 0.697805,
     "end_time": "2021-04-11T21:02:32.224554",
     "exception": false,
     "start_time": "2021-04-11T21:02:31.526749",
     "status": "completed"
    },
    "tags": []
   },
   "outputs": [
    {
     "name": "stderr",
     "output_type": "stream",
     "text": [
      "No handles with labels found to put in legend.\n"
     ]
    },
    {
     "name": "stdout",
     "output_type": "stream",
     "text": [
      "Всего значений: 110148\n",
      "Пустых значений: 0\n",
      "25-й перцентиль: 0.0, 75-й перцентиль: 0.0, IQR: 0.0,\n",
      "Границы значений: [0, 3],\n",
      "Границы выбросов: [0.0, 0.0].\n",
      "Есть выбросы.\n",
      "Количество выбросов: 18677\n"
     ]
    },
    {
     "data": {
      "image/png": "[encoded data removed]",
      "text/plain": [
       "<Figure size 864x288 with 4 Axes>"
      ]
     },
     "metadata": {
      "needs_background": "light"
     },
     "output_type": "display_data"
    }
   ],
   "source": [
    "plot_column_info_log(data, 'decline_app_cnt')"
   ]
  },
  {
   "cell_type": "markdown",
   "metadata": {
    "papermill": {
     "duration": 0.145352,
     "end_time": "2021-04-11T21:02:32.468596",
     "exception": false,
     "start_time": "2021-04-11T21:02:32.323244",
     "status": "completed"
    },
    "tags": []
   },
   "source": [
    "Логарифм от признака брать не имеет смысла. Возможно, есть смысл классифицировать признак 'decline_app_cnt' не как количественный, а как категориальный."
   ]
  },
  {
   "cell_type": "code",
   "execution_count": 38,
   "metadata": {
    "execution": {
     "iopub.execute_input": "2021-04-11T21:02:32.673170Z",
     "iopub.status.busy": "2021-04-11T21:02:32.672551Z",
     "iopub.status.idle": "2021-04-11T21:02:32.677826Z",
     "shell.execute_reply": "2021-04-11T21:02:32.677237Z"
    },
    "papermill": {
     "duration": 0.106175,
     "end_time": "2021-04-11T21:02:32.677969",
     "exception": false,
     "start_time": "2021-04-11T21:02:32.571794",
     "status": "completed"
    },
    "tags": []
   },
   "outputs": [],
   "source": [
    "# Классифицируем признак 'decline_app_cnt' не как количественный, а как категориальный.\n",
    "cat_cols.append('decline_app_cnt')\n",
    "num_cols.remove('decline_app_cnt')"
   ]
  },
  {
   "cell_type": "markdown",
   "metadata": {
    "papermill": {
     "duration": 0.098379,
     "end_time": "2021-04-11T21:02:32.874927",
     "exception": false,
     "start_time": "2021-04-11T21:02:32.776548",
     "status": "completed"
    },
    "tags": []
   },
   "source": [
    "**Резюме - decline_app_cnt**: Выбросы по квартилям есть, но они имеют право на существование. Для всех клиентов с decline_app_cnt > 3, установили decline_app_cnt = 3. Информацию о клиентах с decline_app_cnt > 3 сохранили в отдельный бинарный признак. Логарифм от признака брать не имеет смысла."
   ]
  },
  {
   "cell_type": "markdown",
   "metadata": {
    "papermill": {
     "duration": 0.098742,
     "end_time": "2021-04-11T21:02:33.071656",
     "exception": false,
     "start_time": "2021-04-11T21:02:32.972914",
     "status": "completed"
    },
    "tags": []
   },
   "source": [
    "#### 3. Признак 'bki_request_cnt'"
   ]
  },
  {
   "cell_type": "code",
   "execution_count": 39,
   "metadata": {
    "execution": {
     "iopub.execute_input": "2021-04-11T21:02:33.275386Z",
     "iopub.status.busy": "2021-04-11T21:02:33.274299Z",
     "iopub.status.idle": "2021-04-11T21:02:33.850569Z",
     "shell.execute_reply": "2021-04-11T21:02:33.849945Z"
    },
    "papermill": {
     "duration": 0.678844,
     "end_time": "2021-04-11T21:02:33.850710",
     "exception": false,
     "start_time": "2021-04-11T21:02:33.171866",
     "status": "completed"
    },
    "tags": []
   },
   "outputs": [
    {
     "name": "stderr",
     "output_type": "stream",
     "text": [
      "No handles with labels found to put in legend.\n"
     ]
    },
    {
     "name": "stdout",
     "output_type": "stream",
     "text": [
      "Всего значений: 110148\n",
      "Пустых значений: 0\n",
      "25-й перцентиль: 0.0, 75-й перцентиль: 3.0, IQR: 3.0,\n",
      "Границы значений: [0, 53],\n",
      "Границы выбросов: [-4.5, 7.5].\n",
      "Есть выбросы.\n",
      "Количество выбросов: 2636\n"
     ]
    },
    {
     "data": {
      "image/png": "[encoded data removed]",
      "text/plain": [
       "<Figure size 864x288 with 4 Axes>"
      ]
     },
     "metadata": {
      "needs_background": "light"
     },
     "output_type": "display_data"
    }
   ],
   "source": [
    "plot_column_info_log(data, 'bki_request_cnt')"
   ]
  },
  {
   "cell_type": "code",
   "execution_count": 40,
   "metadata": {
    "execution": {
     "iopub.execute_input": "2021-04-11T21:02:34.058544Z",
     "iopub.status.busy": "2021-04-11T21:02:34.057884Z",
     "iopub.status.idle": "2021-04-11T21:02:34.070222Z",
     "shell.execute_reply": "2021-04-11T21:02:34.069576Z"
    },
    "papermill": {
     "duration": 0.119976,
     "end_time": "2021-04-11T21:02:34.070361",
     "exception": false,
     "start_time": "2021-04-11T21:02:33.950385",
     "status": "completed"
    },
    "tags": []
   },
   "outputs": [],
   "source": [
    "# Выносим в блок предобработки\n",
    "\n",
    "# Возьмем логарифм от признака\n",
    "data.loc[:, 'bki_request_cnt'] = np.log(data['bki_request_cnt'] + 1)"
   ]
  },
  {
   "cell_type": "markdown",
   "metadata": {
    "papermill": {
     "duration": 0.100371,
     "end_time": "2021-04-11T21:02:34.271629",
     "exception": false,
     "start_time": "2021-04-11T21:02:34.171258",
     "status": "completed"
    },
    "tags": []
   },
   "source": [
    "**Резюме - bki_request_cnt**: Взяли логарифм от признака. Есть выбросы, но они теоритечески возможны для данного признака, удалять не стали."
   ]
  },
  {
   "cell_type": "markdown",
   "metadata": {
    "papermill": {
     "duration": 0.099623,
     "end_time": "2021-04-11T21:02:34.470884",
     "exception": false,
     "start_time": "2021-04-11T21:02:34.371261",
     "status": "completed"
    },
    "tags": []
   },
   "source": [
    "#### 4. Признак 'income'"
   ]
  },
  {
   "cell_type": "code",
   "execution_count": 41,
   "metadata": {
    "execution": {
     "iopub.execute_input": "2021-04-11T21:02:34.676369Z",
     "iopub.status.busy": "2021-04-11T21:02:34.675272Z",
     "iopub.status.idle": "2021-04-11T21:02:35.268389Z",
     "shell.execute_reply": "2021-04-11T21:02:35.268931Z"
    },
    "papermill": {
     "duration": 0.698438,
     "end_time": "2021-04-11T21:02:35.269117",
     "exception": false,
     "start_time": "2021-04-11T21:02:34.570679",
     "status": "completed"
    },
    "tags": []
   },
   "outputs": [
    {
     "name": "stderr",
     "output_type": "stream",
     "text": [
      "No handles with labels found to put in legend.\n"
     ]
    },
    {
     "name": "stdout",
     "output_type": "stream",
     "text": [
      "Всего значений: 110148\n",
      "Пустых значений: 0\n",
      "25-й перцентиль: 20000.0, 75-й перцентиль: 48000.0, IQR: 28000.0,\n",
      "Границы значений: [1000, 1000000],\n",
      "Границы выбросов: [-22000.0, 90000.0].\n",
      "Есть выбросы.\n",
      "Количество выбросов: 7000\n"
     ]
    },
    {
     "data": {
      "image/png": "[encoded data removed]",
      "text/plain": [
       "<Figure size 864x288 with 4 Axes>"
      ]
     },
     "metadata": {
      "needs_background": "light"
     },
     "output_type": "display_data"
    }
   ],
   "source": [
    "plot_column_info_log(data, 'income')"
   ]
  },
  {
   "cell_type": "code",
   "execution_count": 42,
   "metadata": {
    "execution": {
     "iopub.execute_input": "2021-04-11T21:02:35.478708Z",
     "iopub.status.busy": "2021-04-11T21:02:35.477813Z",
     "iopub.status.idle": "2021-04-11T21:02:35.491048Z",
     "shell.execute_reply": "2021-04-11T21:02:35.490542Z"
    },
    "papermill": {
     "duration": 0.12036,
     "end_time": "2021-04-11T21:02:35.491189",
     "exception": false,
     "start_time": "2021-04-11T21:02:35.370829",
     "status": "completed"
    },
    "tags": []
   },
   "outputs": [],
   "source": [
    "# Выносим в блок предобработки\n",
    "\n",
    "# Возьмем логарифм от признака\n",
    "data.loc[:, 'income'] = np.log(data['income'] + 1)"
   ]
  },
  {
   "cell_type": "markdown",
   "metadata": {
    "papermill": {
     "duration": 0.101354,
     "end_time": "2021-04-11T21:02:35.695523",
     "exception": false,
     "start_time": "2021-04-11T21:02:35.594169",
     "status": "completed"
    },
    "tags": []
   },
   "source": [
    "**Резюме - income**: Распределение логнормальное - взяли логарифм от признака, после логарифмирования выбросы остались, удалять их пока не будем. Построим модель, а потом вернемся к этому вопросу при необходимости."
   ]
  },
  {
   "cell_type": "markdown",
   "metadata": {
    "papermill": {
     "duration": 0.10064,
     "end_time": "2021-04-11T21:02:35.897714",
     "exception": false,
     "start_time": "2021-04-11T21:02:35.797074",
     "status": "completed"
    },
    "tags": []
   },
   "source": [
    "#### 5. Признак 'score_bki'"
   ]
  },
  {
   "cell_type": "code",
   "execution_count": 43,
   "metadata": {
    "execution": {
     "iopub.execute_input": "2021-04-11T21:02:36.108993Z",
     "iopub.status.busy": "2021-04-11T21:02:36.108342Z",
     "iopub.status.idle": "2021-04-11T21:02:36.405560Z",
     "shell.execute_reply": "2021-04-11T21:02:36.404981Z"
    },
    "papermill": {
     "duration": 0.405627,
     "end_time": "2021-04-11T21:02:36.405707",
     "exception": false,
     "start_time": "2021-04-11T21:02:36.000080",
     "status": "completed"
    },
    "tags": []
   },
   "outputs": [
    {
     "name": "stdout",
     "output_type": "stream",
     "text": [
      "Всего значений: 110148\n",
      "Пустых значений: 0\n",
      "25-й перцентиль: -2.2604336700000003, 75-й перцентиль: -1.5678881525, IQR: 0.6925455175000004,\n",
      "Границы значений: [-3.62458632, 0.19977285],\n",
      "Границы выбросов: [-3.299251946250001, -0.5290698762499992].\n",
      "Есть выбросы.\n"
     ]
    },
    {
     "data": {
      "image/png": "[encoded data removed]",
      "text/plain": [
       "<Figure size 720x504 with 1 Axes>"
      ]
     },
     "metadata": {
      "needs_background": "light"
     },
     "output_type": "display_data"
    }
   ],
   "source": [
    "plot_column_info(data, 'score_bki')"
   ]
  },
  {
   "cell_type": "markdown",
   "metadata": {
    "papermill": {
     "duration": 0.124176,
     "end_time": "2021-04-11T21:02:36.633144",
     "exception": false,
     "start_time": "2021-04-11T21:02:36.508968",
     "status": "completed"
    },
    "tags": []
   },
   "source": [
    "**Резюме - score_bki**: Распределение нормальное. Выбросов не много, не стали удалять"
   ]
  },
  {
   "cell_type": "markdown",
   "metadata": {
    "papermill": {
     "duration": 0.102957,
     "end_time": "2021-04-11T21:02:36.845602",
     "exception": false,
     "start_time": "2021-04-11T21:02:36.742645",
     "status": "completed"
    },
    "tags": []
   },
   "source": [
    "### Временные признаки. \n",
    "\n",
    "#### 1. Признак 'app_date'"
   ]
  },
  {
   "cell_type": "code",
   "execution_count": 44,
   "metadata": {
    "execution": {
     "iopub.execute_input": "2021-04-11T21:02:37.069384Z",
     "iopub.status.busy": "2021-04-11T21:02:37.068682Z",
     "iopub.status.idle": "2021-04-11T21:02:37.090929Z",
     "shell.execute_reply": "2021-04-11T21:02:37.090376Z"
    },
    "papermill": {
     "duration": 0.139958,
     "end_time": "2021-04-11T21:02:37.091076",
     "exception": false,
     "start_time": "2021-04-11T21:02:36.951118",
     "status": "completed"
    },
    "tags": []
   },
   "outputs": [],
   "source": [
    "# Выносим в блок предобработки\n",
    "\n",
    "# Преобразуем формат признака\n",
    "data.loc[:, 'app_date'] = pd.to_datetime(data['app_date'], format='%d%b%Y')"
   ]
  },
  {
   "cell_type": "code",
   "execution_count": 45,
   "metadata": {
    "execution": {
     "iopub.execute_input": "2021-04-11T21:02:37.306539Z",
     "iopub.status.busy": "2021-04-11T21:02:37.305434Z",
     "iopub.status.idle": "2021-04-11T21:02:37.346375Z",
     "shell.execute_reply": "2021-04-11T21:02:37.345844Z"
    },
    "papermill": {
     "duration": 0.151387,
     "end_time": "2021-04-11T21:02:37.346541",
     "exception": false,
     "start_time": "2021-04-11T21:02:37.195154",
     "status": "completed"
    },
    "tags": []
   },
   "outputs": [],
   "source": [
    "# Выносим в блок предобработки\n",
    "\n",
    "#  Добавим три новых признака: количество дней с первого дня учета клиентов, номер недели и номер месяца\n",
    "data.loc[:, 'app_date_day'] = (data['app_date'] - data['app_date'].min()).dt.days\n",
    "data.loc[:, 'app_date_week'] = data['app_date'].dt.week\n",
    "data.loc[:, 'app_date_month'] = data['app_date'].dt.month\n",
    "\n",
    "num_cols += ['app_date_day', 'app_date_week', 'app_date_month']"
   ]
  },
  {
   "cell_type": "code",
   "execution_count": 46,
   "metadata": {
    "execution": {
     "iopub.execute_input": "2021-04-11T21:02:37.559086Z",
     "iopub.status.busy": "2021-04-11T21:02:37.557970Z",
     "iopub.status.idle": "2021-04-11T21:02:37.853186Z",
     "shell.execute_reply": "2021-04-11T21:02:37.852612Z"
    },
    "papermill": {
     "duration": 0.40362,
     "end_time": "2021-04-11T21:02:37.853328",
     "exception": false,
     "start_time": "2021-04-11T21:02:37.449708",
     "status": "completed"
    },
    "tags": []
   },
   "outputs": [
    {
     "name": "stdout",
     "output_type": "stream",
     "text": [
      "Всего значений: 110148\n",
      "Пустых значений: 0\n",
      "25-й перцентиль: 33.0, 75-й перцентиль: 89.0, IQR: 56.0,\n",
      "Границы значений: [0, 119],\n",
      "Границы выбросов: [-51.0, 173.0].\n",
      "Выбросов Нет.\n"
     ]
    },
    {
     "data": {
      "image/png": "[encoded data removed]",
      "text/plain": [
       "<Figure size 720x504 with 1 Axes>"
      ]
     },
     "metadata": {
      "needs_background": "light"
     },
     "output_type": "display_data"
    }
   ],
   "source": [
    "plot_column_info(data, 'app_date_day')"
   ]
  },
  {
   "cell_type": "code",
   "execution_count": 47,
   "metadata": {
    "execution": {
     "iopub.execute_input": "2021-04-11T21:02:38.069628Z",
     "iopub.status.busy": "2021-04-11T21:02:38.068946Z",
     "iopub.status.idle": "2021-04-11T21:02:38.751589Z",
     "shell.execute_reply": "2021-04-11T21:02:38.751027Z"
    },
    "papermill": {
     "duration": 0.793139,
     "end_time": "2021-04-11T21:02:38.751742",
     "exception": false,
     "start_time": "2021-04-11T21:02:37.958603",
     "status": "completed"
    },
    "tags": []
   },
   "outputs": [
    {
     "name": "stdout",
     "output_type": "stream",
     "text": [
      "Всего значений: 110148\n",
      "Пустых значений: 0\n",
      "25-й перцентиль: 6.0, 75-й перцентиль: 14.0, IQR: 8.0,\n",
      "Границы значений: [1, 18],\n",
      "Границы выбросов: [-6.0, 26.0].\n",
      "Выбросов Нет.\n"
     ]
    },
    {
     "data": {
      "image/png": "[encoded data removed]",
      "text/plain": [
       "<Figure size 720x504 with 1 Axes>"
      ]
     },
     "metadata": {
      "needs_background": "light"
     },
     "output_type": "display_data"
    }
   ],
   "source": [
    "plot_column_info(data, 'app_date_week')"
   ]
  },
  {
   "cell_type": "code",
   "execution_count": 48,
   "metadata": {
    "execution": {
     "iopub.execute_input": "2021-04-11T21:02:38.976553Z",
     "iopub.status.busy": "2021-04-11T21:02:38.975851Z",
     "iopub.status.idle": "2021-04-11T21:02:39.260891Z",
     "shell.execute_reply": "2021-04-11T21:02:39.260321Z"
    },
    "papermill": {
     "duration": 0.400933,
     "end_time": "2021-04-11T21:02:39.261029",
     "exception": false,
     "start_time": "2021-04-11T21:02:38.860096",
     "status": "completed"
    },
    "tags": []
   },
   "outputs": [
    {
     "name": "stdout",
     "output_type": "stream",
     "text": [
      "Всего значений: 110148\n",
      "Пустых значений: 0\n",
      "25-й перцентиль: 2.0, 75-й перцентиль: 3.0, IQR: 1.0,\n",
      "Границы значений: [1, 4],\n",
      "Границы выбросов: [0.5, 4.5].\n",
      "Выбросов Нет.\n"
     ]
    },
    {
     "data": {
      "image/png": "[encoded data removed]",
      "text/plain": [
       "<Figure size 720x504 with 1 Axes>"
      ]
     },
     "metadata": {
      "needs_background": "light"
     },
     "output_type": "display_data"
    }
   ],
   "source": [
    "plot_column_info(data, 'app_date_month')"
   ]
  },
  {
   "cell_type": "code",
   "execution_count": 49,
   "metadata": {
    "execution": {
     "iopub.execute_input": "2021-04-11T21:02:39.647423Z",
     "iopub.status.busy": "2021-04-11T21:02:39.646373Z",
     "iopub.status.idle": "2021-04-11T21:02:45.927150Z",
     "shell.execute_reply": "2021-04-11T21:02:45.927632Z"
    },
    "papermill": {
     "duration": 6.559361,
     "end_time": "2021-04-11T21:02:45.927811",
     "exception": false,
     "start_time": "2021-04-11T21:02:39.368450",
     "status": "completed"
    },
    "tags": []
   },
   "outputs": [
    {
     "data": {
      "image/png": "[encoded data removed]",
      "text/plain": [
       "<Figure size 864x288 with 1 Axes>"
      ]
     },
     "metadata": {
      "needs_background": "light"
     },
     "output_type": "display_data"
    }
   ],
   "source": [
    "plt.subplots(figsize=(12, 4))\n",
    "sns.barplot(data=data.query('train == 1'), x='app_date_day', y='default', palette=\"PuBu\");"
   ]
  },
  {
   "cell_type": "code",
   "execution_count": 50,
   "metadata": {
    "execution": {
     "iopub.execute_input": "2021-04-11T21:02:46.173270Z",
     "iopub.status.busy": "2021-04-11T21:02:46.172632Z",
     "iopub.status.idle": "2021-04-11T21:02:47.801628Z",
     "shell.execute_reply": "2021-04-11T21:02:47.800994Z"
    },
    "papermill": {
     "duration": 1.764919,
     "end_time": "2021-04-11T21:02:47.801767",
     "exception": false,
     "start_time": "2021-04-11T21:02:46.036848",
     "status": "completed"
    },
    "tags": []
   },
   "outputs": [
    {
     "data": {
      "image/png": "[encoded data removed]",
      "text/plain": [
       "<Figure size 864x288 with 1 Axes>"
      ]
     },
     "metadata": {
      "needs_background": "light"
     },
     "output_type": "display_data"
    }
   ],
   "source": [
    "plt.subplots(figsize=(12, 4))\n",
    "sns.barplot(data=data.query('train == 1'), x='app_date_week', y='default', palette=\"PuBu\");"
   ]
  },
  {
   "cell_type": "code",
   "execution_count": 51,
   "metadata": {
    "execution": {
     "iopub.execute_input": "2021-04-11T21:02:48.047994Z",
     "iopub.status.busy": "2021-04-11T21:02:48.040960Z",
     "iopub.status.idle": "2021-04-11T21:02:49.010711Z",
     "shell.execute_reply": "2021-04-11T21:02:49.010142Z"
    },
    "papermill": {
     "duration": 1.09994,
     "end_time": "2021-04-11T21:02:49.010850",
     "exception": false,
     "start_time": "2021-04-11T21:02:47.910910",
     "status": "completed"
    },
    "tags": []
   },
   "outputs": [
    {
     "data": {
      "image/png": "[encoded data removed]",
      "text/plain": [
       "<Figure size 864x288 with 1 Axes>"
      ]
     },
     "metadata": {
      "needs_background": "light"
     },
     "output_type": "display_data"
    }
   ],
   "source": [
    "plt.subplots(figsize=(12, 4))\n",
    "sns.barplot(data=data.query('train == 1'), x='app_date_month', y='default', palette=\"PuBu\");"
   ]
  },
  {
   "cell_type": "code",
   "execution_count": 52,
   "metadata": {
    "execution": {
     "iopub.execute_input": "2021-04-11T21:02:49.236910Z",
     "iopub.status.busy": "2021-04-11T21:02:49.236084Z",
     "iopub.status.idle": "2021-04-11T21:02:49.323325Z",
     "shell.execute_reply": "2021-04-11T21:02:49.322669Z"
    },
    "papermill": {
     "duration": 0.202067,
     "end_time": "2021-04-11T21:02:49.323484",
     "exception": false,
     "start_time": "2021-04-11T21:02:49.121417",
     "status": "completed"
    },
    "tags": []
   },
   "outputs": [],
   "source": [
    "# Добавим биноминальный признак, является ли дата выходным днем или нет\n",
    "data.loc[:, 'weekend'] = data['app_date'].dt.weekday.apply(lambda x: 1 if x >= 5 else 0)\n",
    "bin_cols.append('weekend')"
   ]
  },
  {
   "cell_type": "markdown",
   "metadata": {
    "papermill": {
     "duration": 0.109697,
     "end_time": "2021-04-11T21:02:49.543563",
     "exception": false,
     "start_time": "2021-04-11T21:02:49.433866",
     "status": "completed"
    },
    "tags": []
   },
   "source": [
    "**Резюме - app_date_month, app_date_week, app_date_month**:  По всем трем признакам наблюдается тренд на снижение случаев дефолта. Что в целом объяснимо желанием компании снижения количества таких случаем и тем, что принимаются для этого некоторые действия. Отнесем пока все три признака к Количественным. Далее посмотрим на них при корреляционном анализе, скорее всего они будет сильно скоррелированы и чать из них придется убрать."
   ]
  },
  {
   "cell_type": "markdown",
   "metadata": {
    "papermill": {
     "duration": 0.109955,
     "end_time": "2021-04-11T21:02:49.763612",
     "exception": false,
     "start_time": "2021-04-11T21:02:49.653657",
     "status": "completed"
    },
    "tags": []
   },
   "source": [
    "## Оценка корреляций"
   ]
  },
  {
   "cell_type": "code",
   "execution_count": 53,
   "metadata": {
    "execution": {
     "iopub.execute_input": "2021-04-11T21:02:49.992679Z",
     "iopub.status.busy": "2021-04-11T21:02:49.990856Z",
     "iopub.status.idle": "2021-04-11T21:02:50.612278Z",
     "shell.execute_reply": "2021-04-11T21:02:50.612785Z"
    },
    "papermill": {
     "duration": 0.739498,
     "end_time": "2021-04-11T21:02:50.612952",
     "exception": false,
     "start_time": "2021-04-11T21:02:49.873454",
     "status": "completed"
    },
    "tags": []
   },
   "outputs": [
    {
     "data": {
      "text/plain": [
       "<matplotlib.axes._subplots.AxesSubplot at 0x7ffa6909f198>"
      ]
     },
     "execution_count": 53,
     "metadata": {},
     "output_type": "execute_result"
    },
    {
     "data": {
      "image/png": "[encoded data removed]",
      "text/plain": [
       "<Figure size 720x504 with 2 Axes>"
      ]
     },
     "metadata": {
      "needs_background": "light"
     },
     "output_type": "display_data"
    }
   ],
   "source": [
    "# Оценим корреляцию Пирсона для непрерывных переменных \n",
    "plt.figure(figsize = (10,7))\n",
    "sns.heatmap(data[num_cols].corr().abs(), vmin=0, vmax=1, annot=True)"
   ]
  },
  {
   "cell_type": "markdown",
   "metadata": {
    "papermill": {
     "duration": 0.111638,
     "end_time": "2021-04-11T21:02:50.837088",
     "exception": false,
     "start_time": "2021-04-11T21:02:50.725450",
     "status": "completed"
    },
    "tags": []
   },
   "source": [
    "Как и ожидалось, присутствует сильная корреляция между признаками 'app_date_day', 'app_date_week' и 'app_date_month', надо будет оставить только один признак. Посмотрим на более точные значения корреляций с целевым признаком:"
   ]
  },
  {
   "cell_type": "code",
   "execution_count": 54,
   "metadata": {
    "execution": {
     "iopub.execute_input": "2021-04-11T21:02:51.074182Z",
     "iopub.status.busy": "2021-04-11T21:02:51.069121Z",
     "iopub.status.idle": "2021-04-11T21:02:51.101800Z",
     "shell.execute_reply": "2021-04-11T21:02:51.101248Z"
    },
    "papermill": {
     "duration": 0.152455,
     "end_time": "2021-04-11T21:02:51.101936",
     "exception": false,
     "start_time": "2021-04-11T21:02:50.949481",
     "status": "completed"
    },
    "tags": []
   },
   "outputs": [
    {
     "data": {
      "text/html": [
       "<div>\n",
       "<style scoped>\n",
       "    .dataframe tbody tr th:only-of-type {\n",
       "        vertical-align: middle;\n",
       "    }\n",
       "\n",
       "    .dataframe tbody tr th {\n",
       "        vertical-align: top;\n",
       "    }\n",
       "\n",
       "    .dataframe thead th {\n",
       "        text-align: right;\n",
       "    }\n",
       "</style>\n",
       "<table border=\"1\" class=\"dataframe\">\n",
       "  <thead>\n",
       "    <tr style=\"text-align: right;\">\n",
       "      <th></th>\n",
       "      <th>app_date_day</th>\n",
       "      <th>app_date_week</th>\n",
       "      <th>app_date_month</th>\n",
       "      <th>default</th>\n",
       "    </tr>\n",
       "  </thead>\n",
       "  <tbody>\n",
       "    <tr>\n",
       "      <th>app_date_day</th>\n",
       "      <td>1.000000</td>\n",
       "      <td>0.998271</td>\n",
       "      <td>0.965003</td>\n",
       "      <td>-0.039372</td>\n",
       "    </tr>\n",
       "    <tr>\n",
       "      <th>app_date_week</th>\n",
       "      <td>0.998271</td>\n",
       "      <td>1.000000</td>\n",
       "      <td>0.963190</td>\n",
       "      <td>-0.039276</td>\n",
       "    </tr>\n",
       "    <tr>\n",
       "      <th>app_date_month</th>\n",
       "      <td>0.965003</td>\n",
       "      <td>0.963190</td>\n",
       "      <td>1.000000</td>\n",
       "      <td>-0.037115</td>\n",
       "    </tr>\n",
       "    <tr>\n",
       "      <th>default</th>\n",
       "      <td>-0.039372</td>\n",
       "      <td>-0.039276</td>\n",
       "      <td>-0.037115</td>\n",
       "      <td>1.000000</td>\n",
       "    </tr>\n",
       "  </tbody>\n",
       "</table>\n",
       "</div>"
      ],
      "text/plain": [
       "                app_date_day  app_date_week  app_date_month   default\n",
       "app_date_day        1.000000       0.998271        0.965003 -0.039372\n",
       "app_date_week       0.998271       1.000000        0.963190 -0.039276\n",
       "app_date_month      0.965003       0.963190        1.000000 -0.037115\n",
       "default            -0.039372      -0.039276       -0.037115  1.000000"
      ]
     },
     "execution_count": 54,
     "metadata": {},
     "output_type": "execute_result"
    }
   ],
   "source": [
    "data.query('train == 1')[['app_date_day', 'app_date_week', 'app_date_month', 'default']].corr()"
   ]
  },
  {
   "cell_type": "code",
   "execution_count": 55,
   "metadata": {
    "execution": {
     "iopub.execute_input": "2021-04-11T21:02:51.338803Z",
     "iopub.status.busy": "2021-04-11T21:02:51.337886Z",
     "iopub.status.idle": "2021-04-11T21:02:51.343611Z",
     "shell.execute_reply": "2021-04-11T21:02:51.343008Z"
    },
    "papermill": {
     "duration": 0.129184,
     "end_time": "2021-04-11T21:02:51.343746",
     "exception": false,
     "start_time": "2021-04-11T21:02:51.214562",
     "status": "completed"
    },
    "tags": []
   },
   "outputs": [],
   "source": [
    "data.drop(columns=['app_date_week', 'app_date_month'], inplace=True)\n",
    "num_cols.remove('app_date_week')\n",
    "num_cols.remove('app_date_month')"
   ]
  },
  {
   "cell_type": "markdown",
   "metadata": {
    "papermill": {
     "duration": 0.11304,
     "end_time": "2021-04-11T21:02:51.570753",
     "exception": false,
     "start_time": "2021-04-11T21:02:51.457713",
     "status": "completed"
    },
    "tags": []
   },
   "source": [
    "**Резюме** - временной признак 'app_date' оставляем как есть. Из его производных признаков 'app_date_day', 'app_date_week', 'app_date_month' оставляем только 'app_date_day'. "
   ]
  },
  {
   "cell_type": "markdown",
   "metadata": {
    "papermill": {
     "duration": 0.113608,
     "end_time": "2021-04-11T21:02:51.798050",
     "exception": false,
     "start_time": "2021-04-11T21:02:51.684442",
     "status": "completed"
    },
    "tags": []
   },
   "source": [
    "## Посмотрим на значимость колличественных переменных\n",
    "\n",
    "Для оценки значимости числовых переменных будем использовать функцию f_classif из библиотеки sklearn. \n",
    "\n",
    "В качестве меры значимости мы будем использовать значение f-статистики. Чем значение статистики выше, тем меньше вероятность того, что средние значения не отличаются, и тем важнее данный признак для нашей линейной модели."
   ]
  },
  {
   "cell_type": "code",
   "execution_count": 56,
   "metadata": {
    "execution": {
     "iopub.execute_input": "2021-04-11T21:02:52.035543Z",
     "iopub.status.busy": "2021-04-11T21:02:52.030933Z",
     "iopub.status.idle": "2021-04-11T21:02:52.222199Z",
     "shell.execute_reply": "2021-04-11T21:02:52.221662Z"
    },
    "papermill": {
     "duration": 0.310845,
     "end_time": "2021-04-11T21:02:52.222333",
     "exception": false,
     "start_time": "2021-04-11T21:02:51.911488",
     "status": "completed"
    },
    "tags": []
   },
   "outputs": [
    {
     "data": {
      "text/plain": [
       "<matplotlib.axes._subplots.AxesSubplot at 0x7ffa601c9dd8>"
      ]
     },
     "execution_count": 56,
     "metadata": {},
     "output_type": "execute_result"
    },
    {
     "data": {
      "image/png": "[encoded data removed]",
      "text/plain": [
       "<Figure size 720x504 with 1 Axes>"
      ]
     },
     "metadata": {
      "needs_background": "light"
     },
     "output_type": "display_data"
    }
   ],
   "source": [
    "df = data.query('train == 1')\n",
    "imp_num = pd.Series(f_classif(df[num_cols], df['default'])[0], index = num_cols)\n",
    "imp_num.sort_values(inplace = True)\n",
    "imp_num.plot(kind = 'barh', title='Значимость непрерывных переменных по ANOVA F test')"
   ]
  },
  {
   "cell_type": "markdown",
   "metadata": {
    "papermill": {
     "duration": 0.114207,
     "end_time": "2021-04-11T21:02:52.452356",
     "exception": false,
     "start_time": "2021-04-11T21:02:52.338149",
     "status": "completed"
    },
    "tags": []
   },
   "source": [
    "**Резюме** - оценка плательщика БКИ (score_bki) самый значимый показатель по ANOVA F test, потом кол-во отказанных заявок (declain_app_cnt) и в конце возраст (age)"
   ]
  },
  {
   "cell_type": "markdown",
   "metadata": {
    "papermill": {
     "duration": 0.114423,
     "end_time": "2021-04-11T21:02:52.684624",
     "exception": false,
     "start_time": "2021-04-11T21:02:52.570201",
     "status": "completed"
    },
    "tags": []
   },
   "source": [
    "## Посмотрим на значимость категориальных и бинарных переменных\n",
    "\n",
    "Для оценки значимости категориальных и бинарных переменных будем использовать функцию mutual_info_classif из библиотеки sklearn. Данная функция опирается на непараметрические методы, основанные на оценке энтропии в группах категориальных переменных."
   ]
  },
  {
   "cell_type": "code",
   "execution_count": 57,
   "metadata": {
    "execution": {
     "iopub.execute_input": "2021-04-11T21:02:52.921302Z",
     "iopub.status.busy": "2021-04-11T21:02:52.920572Z",
     "iopub.status.idle": "2021-04-11T21:02:53.486509Z",
     "shell.execute_reply": "2021-04-11T21:02:53.485844Z"
    },
    "papermill": {
     "duration": 0.687478,
     "end_time": "2021-04-11T21:02:53.486651",
     "exception": false,
     "start_time": "2021-04-11T21:02:52.799173",
     "status": "completed"
    },
    "tags": []
   },
   "outputs": [
    {
     "data": {
      "text/plain": [
       "<matplotlib.axes._subplots.AxesSubplot at 0x7ffa6938bf98>"
      ]
     },
     "execution_count": 57,
     "metadata": {},
     "output_type": "execute_result"
    },
    {
     "data": {
      "image/png": "[encoded data removed]",
      "text/plain": [
       "<Figure size 720x504 with 1 Axes>"
      ]
     },
     "metadata": {
      "needs_background": "light"
     },
     "output_type": "display_data"
    }
   ],
   "source": [
    "df = data.query('train == 1')\n",
    "imp_cat = Series(mutual_info_classif(df[bin_cols + cat_cols], df['default'],\n",
    "                                     discrete_features =True), index = bin_cols + cat_cols)\n",
    "imp_cat.sort_values(inplace = True)\n",
    "imp_cat.plot(kind = 'barh')"
   ]
  },
  {
   "cell_type": "markdown",
   "metadata": {
    "papermill": {
     "duration": 0.116268,
     "end_time": "2021-04-11T21:02:53.720187",
     "exception": false,
     "start_time": "2021-04-11T21:02:53.603919",
     "status": "completed"
    },
    "tags": []
   },
   "source": [
    "**Резюме:**  Самыми значимыми признаками по Mutual information тесту является связь заемщика с клиентами банка (sna) и давность наличия информации о заемщике (first_time). Самыми незаничимыми - в конце пол (sex) и факт, того что образование не указано в данных о клиенте (education_isnan)."
   ]
  },
  {
   "cell_type": "code",
   "execution_count": 58,
   "metadata": {
    "execution": {
     "iopub.execute_input": "2021-04-11T21:02:53.960128Z",
     "iopub.status.busy": "2021-04-11T21:02:53.959151Z",
     "iopub.status.idle": "2021-04-11T21:02:54.217936Z",
     "shell.execute_reply": "2021-04-11T21:02:54.217384Z"
    },
    "papermill": {
     "duration": 0.381532,
     "end_time": "2021-04-11T21:02:54.218070",
     "exception": false,
     "start_time": "2021-04-11T21:02:53.836538",
     "status": "completed"
    },
    "tags": []
   },
   "outputs": [
    {
     "name": "stdout",
     "output_type": "stream",
     "text": [
      "Найдены статистически значимые различия для признака education\n",
      "Найдены статистически значимые различия для признака region_rating\n",
      "Найдены статистически значимые различия для признака home_address\n",
      "Найдены статистически значимые различия для признака work_address\n",
      "Найдены статистически значимые различия для признака sna\n",
      "Найдены статистически значимые различия для признака first_time\n",
      "Найдены статистически значимые различия для признака decline_app_cnt\n",
      "Найдены статистически значимые различия для признака sex\n",
      "Найдены статистически значимые различия для признака car\n",
      "Найдены статистически значимые различия для признака car_type\n",
      "Найдены статистически значимые различия для признака good_work\n",
      "Найдены статистически значимые различия для признака foreign_passport\n",
      "Найдены статистически значимые различия для признака high_edu\n",
      "Найдены статистически значимые различия для признака decline_app_cnt_more_then_3\n",
      "Признаки на удаление:  ['education_isnan', 'weekend']\n"
     ]
    }
   ],
   "source": [
    "nom_cols = cat_cols + bin_cols\n",
    "delete_cols = []\n",
    "\n",
    "for col in nom_cols:\n",
    "    if not get_stat_dif(data.query('train == 1'), col, 'default'):\n",
    "        delete_cols.append(col)\n",
    "        \n",
    "print('Признаки на удаление: ', delete_cols)"
   ]
  },
  {
   "cell_type": "code",
   "execution_count": 59,
   "metadata": {
    "execution": {
     "iopub.execute_input": "2021-04-11T21:02:54.468415Z",
     "iopub.status.busy": "2021-04-11T21:02:54.467447Z",
     "iopub.status.idle": "2021-04-11T21:02:54.470457Z",
     "shell.execute_reply": "2021-04-11T21:02:54.469846Z"
    },
    "papermill": {
     "duration": 0.13388,
     "end_time": "2021-04-11T21:02:54.470591",
     "exception": false,
     "start_time": "2021-04-11T21:02:54.336711",
     "status": "completed"
    },
    "tags": []
   },
   "outputs": [],
   "source": [
    "# Уберем лишние признаки\n",
    "data.drop(columns=delete_cols, inplace=True)\n",
    "\n",
    "for col in delete_cols:\n",
    "    if col in bin_cols:\n",
    "        bin_cols.remove(col)\n",
    "    if col in cat_cols:\n",
    "        cat_cols.remove(col)"
   ]
  },
  {
   "cell_type": "code",
   "execution_count": 60,
   "metadata": {
    "execution": {
     "iopub.execute_input": "2021-04-11T21:02:54.726358Z",
     "iopub.status.busy": "2021-04-11T21:02:54.723622Z",
     "iopub.status.idle": "2021-04-11T21:02:54.730734Z",
     "shell.execute_reply": "2021-04-11T21:02:54.731248Z"
    },
    "papermill": {
     "duration": 0.143652,
     "end_time": "2021-04-11T21:02:54.731434",
     "exception": false,
     "start_time": "2021-04-11T21:02:54.587782",
     "status": "completed"
    },
    "tags": []
   },
   "outputs": [
    {
     "data": {
      "text/html": [
       "<div>\n",
       "<style scoped>\n",
       "    .dataframe tbody tr th:only-of-type {\n",
       "        vertical-align: middle;\n",
       "    }\n",
       "\n",
       "    .dataframe tbody tr th {\n",
       "        vertical-align: top;\n",
       "    }\n",
       "\n",
       "    .dataframe thead th {\n",
       "        text-align: right;\n",
       "    }\n",
       "</style>\n",
       "<table border=\"1\" class=\"dataframe\">\n",
       "  <thead>\n",
       "    <tr style=\"text-align: right;\">\n",
       "      <th></th>\n",
       "      <th>client_id</th>\n",
       "      <th>app_date</th>\n",
       "      <th>education</th>\n",
       "      <th>sex</th>\n",
       "      <th>age</th>\n",
       "      <th>car</th>\n",
       "      <th>car_type</th>\n",
       "      <th>decline_app_cnt</th>\n",
       "      <th>good_work</th>\n",
       "      <th>score_bki</th>\n",
       "      <th>bki_request_cnt</th>\n",
       "      <th>region_rating</th>\n",
       "      <th>home_address</th>\n",
       "      <th>work_address</th>\n",
       "      <th>income</th>\n",
       "      <th>sna</th>\n",
       "      <th>first_time</th>\n",
       "      <th>foreign_passport</th>\n",
       "      <th>default</th>\n",
       "      <th>train</th>\n",
       "      <th>high_edu</th>\n",
       "      <th>region_default_mean</th>\n",
       "      <th>decline_app_cnt_more_then_3</th>\n",
       "      <th>app_date_day</th>\n",
       "    </tr>\n",
       "  </thead>\n",
       "  <tbody>\n",
       "    <tr>\n",
       "      <th>0</th>\n",
       "      <td>25905</td>\n",
       "      <td>2014-02-01</td>\n",
       "      <td>1</td>\n",
       "      <td>1</td>\n",
       "      <td>4.143135</td>\n",
       "      <td>1</td>\n",
       "      <td>1</td>\n",
       "      <td>0</td>\n",
       "      <td>0</td>\n",
       "      <td>-2.008753</td>\n",
       "      <td>0.693147</td>\n",
       "      <td>50</td>\n",
       "      <td>1</td>\n",
       "      <td>2</td>\n",
       "      <td>9.798183</td>\n",
       "      <td>4</td>\n",
       "      <td>1</td>\n",
       "      <td>0</td>\n",
       "      <td>0</td>\n",
       "      <td>1</td>\n",
       "      <td>0</td>\n",
       "      <td>0.136141</td>\n",
       "      <td>0</td>\n",
       "      <td>31</td>\n",
       "    </tr>\n",
       "    <tr>\n",
       "      <th>1</th>\n",
       "      <td>63161</td>\n",
       "      <td>2014-03-12</td>\n",
       "      <td>1</td>\n",
       "      <td>0</td>\n",
       "      <td>4.094345</td>\n",
       "      <td>0</td>\n",
       "      <td>0</td>\n",
       "      <td>0</td>\n",
       "      <td>0</td>\n",
       "      <td>-1.532276</td>\n",
       "      <td>1.386294</td>\n",
       "      <td>50</td>\n",
       "      <td>2</td>\n",
       "      <td>3</td>\n",
       "      <td>9.852247</td>\n",
       "      <td>4</td>\n",
       "      <td>1</td>\n",
       "      <td>0</td>\n",
       "      <td>0</td>\n",
       "      <td>1</td>\n",
       "      <td>0</td>\n",
       "      <td>0.136141</td>\n",
       "      <td>0</td>\n",
       "      <td>70</td>\n",
       "    </tr>\n",
       "    <tr>\n",
       "      <th>2</th>\n",
       "      <td>25887</td>\n",
       "      <td>2014-02-01</td>\n",
       "      <td>1</td>\n",
       "      <td>1</td>\n",
       "      <td>3.258097</td>\n",
       "      <td>1</td>\n",
       "      <td>0</td>\n",
       "      <td>2</td>\n",
       "      <td>0</td>\n",
       "      <td>-1.408142</td>\n",
       "      <td>0.693147</td>\n",
       "      <td>80</td>\n",
       "      <td>1</td>\n",
       "      <td>2</td>\n",
       "      <td>10.308986</td>\n",
       "      <td>1</td>\n",
       "      <td>4</td>\n",
       "      <td>1</td>\n",
       "      <td>0</td>\n",
       "      <td>1</td>\n",
       "      <td>0</td>\n",
       "      <td>0.073154</td>\n",
       "      <td>0</td>\n",
       "      <td>31</td>\n",
       "    </tr>\n",
       "    <tr>\n",
       "      <th>3</th>\n",
       "      <td>16222</td>\n",
       "      <td>2014-01-23</td>\n",
       "      <td>1</td>\n",
       "      <td>0</td>\n",
       "      <td>3.988984</td>\n",
       "      <td>0</td>\n",
       "      <td>0</td>\n",
       "      <td>0</td>\n",
       "      <td>0</td>\n",
       "      <td>-2.057471</td>\n",
       "      <td>1.098612</td>\n",
       "      <td>50</td>\n",
       "      <td>2</td>\n",
       "      <td>3</td>\n",
       "      <td>9.210440</td>\n",
       "      <td>1</td>\n",
       "      <td>3</td>\n",
       "      <td>0</td>\n",
       "      <td>0</td>\n",
       "      <td>1</td>\n",
       "      <td>0</td>\n",
       "      <td>0.136141</td>\n",
       "      <td>0</td>\n",
       "      <td>22</td>\n",
       "    </tr>\n",
       "    <tr>\n",
       "      <th>4</th>\n",
       "      <td>101655</td>\n",
       "      <td>2014-04-18</td>\n",
       "      <td>3</td>\n",
       "      <td>1</td>\n",
       "      <td>3.891820</td>\n",
       "      <td>0</td>\n",
       "      <td>0</td>\n",
       "      <td>0</td>\n",
       "      <td>1</td>\n",
       "      <td>-1.244723</td>\n",
       "      <td>0.693147</td>\n",
       "      <td>60</td>\n",
       "      <td>2</td>\n",
       "      <td>3</td>\n",
       "      <td>10.308986</td>\n",
       "      <td>1</td>\n",
       "      <td>4</td>\n",
       "      <td>1</td>\n",
       "      <td>0</td>\n",
       "      <td>1</td>\n",
       "      <td>1</td>\n",
       "      <td>0.128834</td>\n",
       "      <td>0</td>\n",
       "      <td>107</td>\n",
       "    </tr>\n",
       "  </tbody>\n",
       "</table>\n",
       "</div>"
      ],
      "text/plain": [
       "   client_id   app_date  education  sex       age  car  car_type  \\\n",
       "0      25905 2014-02-01          1    1  4.143135    1         1   \n",
       "1      63161 2014-03-12          1    0  4.094345    0         0   \n",
       "2      25887 2014-02-01          1    1  3.258097    1         0   \n",
       "3      16222 2014-01-23          1    0  3.988984    0         0   \n",
       "4     101655 2014-04-18          3    1  3.891820    0         0   \n",
       "\n",
       "   decline_app_cnt  good_work  score_bki  bki_request_cnt  region_rating  \\\n",
       "0                0          0  -2.008753         0.693147             50   \n",
       "1                0          0  -1.532276         1.386294             50   \n",
       "2                2          0  -1.408142         0.693147             80   \n",
       "3                0          0  -2.057471         1.098612             50   \n",
       "4                0          1  -1.244723         0.693147             60   \n",
       "\n",
       "   home_address  work_address     income  sna  first_time  foreign_passport  \\\n",
       "0             1             2   9.798183    4           1                 0   \n",
       "1             2             3   9.852247    4           1                 0   \n",
       "2             1             2  10.308986    1           4                 1   \n",
       "3             2             3   9.210440    1           3                 0   \n",
       "4             2             3  10.308986    1           4                 1   \n",
       "\n",
       "   default  train  high_edu  region_default_mean  decline_app_cnt_more_then_3  \\\n",
       "0        0      1         0             0.136141                            0   \n",
       "1        0      1         0             0.136141                            0   \n",
       "2        0      1         0             0.073154                            0   \n",
       "3        0      1         0             0.136141                            0   \n",
       "4        0      1         1             0.128834                            0   \n",
       "\n",
       "   app_date_day  \n",
       "0            31  \n",
       "1            70  \n",
       "2            31  \n",
       "3            22  \n",
       "4           107  "
      ]
     },
     "execution_count": 60,
     "metadata": {},
     "output_type": "execute_result"
    }
   ],
   "source": [
    "data.head()"
   ]
  },
  {
   "cell_type": "markdown",
   "metadata": {
    "papermill": {
     "duration": 0.1187,
     "end_time": "2021-04-11T21:02:54.969244",
     "exception": false,
     "start_time": "2021-04-11T21:02:54.850544",
     "status": "completed"
    },
    "tags": []
   },
   "source": [
    "# 3. Data Preprocessing\n",
    "\n",
    "Перед обучением регрессии необходимо сделать две вещи:\n",
    " - Стандартизировать числовые признаки\n",
    " - Применить OneHotEncoding подход к категориальным признакам\n",
    " - Удалить ненужные признаки\n",
    " - Сделать разбиение на тестовую и валидационную выборки"
   ]
  },
  {
   "cell_type": "markdown",
   "metadata": {
    "papermill": {
     "duration": 0.118767,
     "end_time": "2021-04-11T21:02:55.207444",
     "exception": false,
     "start_time": "2021-04-11T21:02:55.088677",
     "status": "completed"
    },
    "tags": []
   },
   "source": [
    "## OneHotEncoding для кактегориальных признаков"
   ]
  },
  {
   "cell_type": "code",
   "execution_count": 61,
   "metadata": {
    "execution": {
     "iopub.execute_input": "2021-04-11T21:02:55.457722Z",
     "iopub.status.busy": "2021-04-11T21:02:55.456939Z",
     "iopub.status.idle": "2021-04-11T21:02:55.486523Z",
     "shell.execute_reply": "2021-04-11T21:02:55.485834Z"
    },
    "papermill": {
     "duration": 0.160972,
     "end_time": "2021-04-11T21:02:55.486665",
     "exception": false,
     "start_time": "2021-04-11T21:02:55.325693",
     "status": "completed"
    },
    "tags": []
   },
   "outputs": [],
   "source": [
    "# реализуем метод OneHotEncoding через get_dummies\n",
    "data = pd.get_dummies(data, prefix=cat_cols, columns=cat_cols)"
   ]
  },
  {
   "cell_type": "code",
   "execution_count": 62,
   "metadata": {
    "execution": {
     "iopub.execute_input": "2021-04-11T21:02:55.749807Z",
     "iopub.status.busy": "2021-04-11T21:02:55.742190Z",
     "iopub.status.idle": "2021-04-11T21:02:55.760841Z",
     "shell.execute_reply": "2021-04-11T21:02:55.759881Z"
    },
    "papermill": {
     "duration": 0.15352,
     "end_time": "2021-04-11T21:02:55.760987",
     "exception": false,
     "start_time": "2021-04-11T21:02:55.607467",
     "status": "completed"
    },
    "tags": []
   },
   "outputs": [
    {
     "data": {
      "text/html": [
       "<div>\n",
       "<style scoped>\n",
       "    .dataframe tbody tr th:only-of-type {\n",
       "        vertical-align: middle;\n",
       "    }\n",
       "\n",
       "    .dataframe tbody tr th {\n",
       "        vertical-align: top;\n",
       "    }\n",
       "\n",
       "    .dataframe thead th {\n",
       "        text-align: right;\n",
       "    }\n",
       "</style>\n",
       "<table border=\"1\" class=\"dataframe\">\n",
       "  <thead>\n",
       "    <tr style=\"text-align: right;\">\n",
       "      <th></th>\n",
       "      <th>client_id</th>\n",
       "      <th>app_date</th>\n",
       "      <th>sex</th>\n",
       "      <th>age</th>\n",
       "      <th>car</th>\n",
       "      <th>car_type</th>\n",
       "      <th>good_work</th>\n",
       "      <th>score_bki</th>\n",
       "      <th>bki_request_cnt</th>\n",
       "      <th>income</th>\n",
       "      <th>foreign_passport</th>\n",
       "      <th>default</th>\n",
       "      <th>train</th>\n",
       "      <th>high_edu</th>\n",
       "      <th>region_default_mean</th>\n",
       "      <th>decline_app_cnt_more_then_3</th>\n",
       "      <th>app_date_day</th>\n",
       "      <th>education_1</th>\n",
       "      <th>education_2</th>\n",
       "      <th>education_3</th>\n",
       "      <th>education_4</th>\n",
       "      <th>education_5</th>\n",
       "      <th>region_rating_20</th>\n",
       "      <th>region_rating_30</th>\n",
       "      <th>region_rating_40</th>\n",
       "      <th>region_rating_50</th>\n",
       "      <th>region_rating_60</th>\n",
       "      <th>region_rating_70</th>\n",
       "      <th>region_rating_80</th>\n",
       "      <th>home_address_1</th>\n",
       "      <th>home_address_2</th>\n",
       "      <th>home_address_3</th>\n",
       "      <th>work_address_1</th>\n",
       "      <th>work_address_2</th>\n",
       "      <th>work_address_3</th>\n",
       "      <th>sna_1</th>\n",
       "      <th>sna_2</th>\n",
       "      <th>sna_3</th>\n",
       "      <th>sna_4</th>\n",
       "      <th>first_time_1</th>\n",
       "      <th>first_time_2</th>\n",
       "      <th>first_time_3</th>\n",
       "      <th>first_time_4</th>\n",
       "      <th>decline_app_cnt_0</th>\n",
       "      <th>decline_app_cnt_1</th>\n",
       "      <th>decline_app_cnt_2</th>\n",
       "      <th>decline_app_cnt_3</th>\n",
       "    </tr>\n",
       "  </thead>\n",
       "  <tbody>\n",
       "    <tr>\n",
       "      <th>0</th>\n",
       "      <td>25905</td>\n",
       "      <td>2014-02-01</td>\n",
       "      <td>1</td>\n",
       "      <td>4.143135</td>\n",
       "      <td>1</td>\n",
       "      <td>1</td>\n",
       "      <td>0</td>\n",
       "      <td>-2.008753</td>\n",
       "      <td>0.693147</td>\n",
       "      <td>9.798183</td>\n",
       "      <td>0</td>\n",
       "      <td>0</td>\n",
       "      <td>1</td>\n",
       "      <td>0</td>\n",
       "      <td>0.136141</td>\n",
       "      <td>0</td>\n",
       "      <td>31</td>\n",
       "      <td>1</td>\n",
       "      <td>0</td>\n",
       "      <td>0</td>\n",
       "      <td>0</td>\n",
       "      <td>0</td>\n",
       "      <td>0</td>\n",
       "      <td>0</td>\n",
       "      <td>0</td>\n",
       "      <td>1</td>\n",
       "      <td>0</td>\n",
       "      <td>0</td>\n",
       "      <td>0</td>\n",
       "      <td>1</td>\n",
       "      <td>0</td>\n",
       "      <td>0</td>\n",
       "      <td>0</td>\n",
       "      <td>1</td>\n",
       "      <td>0</td>\n",
       "      <td>0</td>\n",
       "      <td>0</td>\n",
       "      <td>0</td>\n",
       "      <td>1</td>\n",
       "      <td>1</td>\n",
       "      <td>0</td>\n",
       "      <td>0</td>\n",
       "      <td>0</td>\n",
       "      <td>1</td>\n",
       "      <td>0</td>\n",
       "      <td>0</td>\n",
       "      <td>0</td>\n",
       "    </tr>\n",
       "    <tr>\n",
       "      <th>1</th>\n",
       "      <td>63161</td>\n",
       "      <td>2014-03-12</td>\n",
       "      <td>0</td>\n",
       "      <td>4.094345</td>\n",
       "      <td>0</td>\n",
       "      <td>0</td>\n",
       "      <td>0</td>\n",
       "      <td>-1.532276</td>\n",
       "      <td>1.386294</td>\n",
       "      <td>9.852247</td>\n",
       "      <td>0</td>\n",
       "      <td>0</td>\n",
       "      <td>1</td>\n",
       "      <td>0</td>\n",
       "      <td>0.136141</td>\n",
       "      <td>0</td>\n",
       "      <td>70</td>\n",
       "      <td>1</td>\n",
       "      <td>0</td>\n",
       "      <td>0</td>\n",
       "      <td>0</td>\n",
       "      <td>0</td>\n",
       "      <td>0</td>\n",
       "      <td>0</td>\n",
       "      <td>0</td>\n",
       "      <td>1</td>\n",
       "      <td>0</td>\n",
       "      <td>0</td>\n",
       "      <td>0</td>\n",
       "      <td>0</td>\n",
       "      <td>1</td>\n",
       "      <td>0</td>\n",
       "      <td>0</td>\n",
       "      <td>0</td>\n",
       "      <td>1</td>\n",
       "      <td>0</td>\n",
       "      <td>0</td>\n",
       "      <td>0</td>\n",
       "      <td>1</td>\n",
       "      <td>1</td>\n",
       "      <td>0</td>\n",
       "      <td>0</td>\n",
       "      <td>0</td>\n",
       "      <td>1</td>\n",
       "      <td>0</td>\n",
       "      <td>0</td>\n",
       "      <td>0</td>\n",
       "    </tr>\n",
       "  </tbody>\n",
       "</table>\n",
       "</div>"
      ],
      "text/plain": [
       "   client_id   app_date  sex       age  car  car_type  good_work  score_bki  \\\n",
       "0      25905 2014-02-01    1  4.143135    1         1          0  -2.008753   \n",
       "1      63161 2014-03-12    0  4.094345    0         0          0  -1.532276   \n",
       "\n",
       "   bki_request_cnt    income  foreign_passport  default  train  high_edu  \\\n",
       "0         0.693147  9.798183                 0        0      1         0   \n",
       "1         1.386294  9.852247                 0        0      1         0   \n",
       "\n",
       "   region_default_mean  decline_app_cnt_more_then_3  app_date_day  \\\n",
       "0             0.136141                            0            31   \n",
       "1             0.136141                            0            70   \n",
       "\n",
       "   education_1  education_2  education_3  education_4  education_5  \\\n",
       "0            1            0            0            0            0   \n",
       "1            1            0            0            0            0   \n",
       "\n",
       "   region_rating_20  region_rating_30  region_rating_40  region_rating_50  \\\n",
       "0                 0                 0                 0                 1   \n",
       "1                 0                 0                 0                 1   \n",
       "\n",
       "   region_rating_60  region_rating_70  region_rating_80  home_address_1  \\\n",
       "0                 0                 0                 0               1   \n",
       "1                 0                 0                 0               0   \n",
       "\n",
       "   home_address_2  home_address_3  work_address_1  work_address_2  \\\n",
       "0               0               0               0               1   \n",
       "1               1               0               0               0   \n",
       "\n",
       "   work_address_3  sna_1  sna_2  sna_3  sna_4  first_time_1  first_time_2  \\\n",
       "0               0      0      0      0      1             1             0   \n",
       "1               1      0      0      0      1             1             0   \n",
       "\n",
       "   first_time_3  first_time_4  decline_app_cnt_0  decline_app_cnt_1  \\\n",
       "0             0             0                  1                  0   \n",
       "1             0             0                  1                  0   \n",
       "\n",
       "   decline_app_cnt_2  decline_app_cnt_3  \n",
       "0                  0                  0  \n",
       "1                  0                  0  "
      ]
     },
     "execution_count": 62,
     "metadata": {},
     "output_type": "execute_result"
    }
   ],
   "source": [
    "data.head(2)"
   ]
  },
  {
   "cell_type": "markdown",
   "metadata": {
    "papermill": {
     "duration": 0.119835,
     "end_time": "2021-04-11T21:02:56.000541",
     "exception": false,
     "start_time": "2021-04-11T21:02:55.880706",
     "status": "completed"
    },
    "tags": []
   },
   "source": [
    "## Стандартизируем числовые переменные:"
   ]
  },
  {
   "cell_type": "code",
   "execution_count": 63,
   "metadata": {
    "execution": {
     "iopub.execute_input": "2021-04-11T21:02:56.249954Z",
     "iopub.status.busy": "2021-04-11T21:02:56.249196Z",
     "iopub.status.idle": "2021-04-11T21:02:56.674586Z",
     "shell.execute_reply": "2021-04-11T21:02:56.673890Z"
    },
    "papermill": {
     "duration": 0.5519,
     "end_time": "2021-04-11T21:02:56.674730",
     "exception": false,
     "start_time": "2021-04-11T21:02:56.122830",
     "status": "completed"
    },
    "tags": []
   },
   "outputs": [],
   "source": [
    "# Стандартизация числовых переменных\n",
    "scaler = StandardScaler()\n",
    "\n",
    "index = data.query('train == 1')[num_cols].index\n",
    "values_income = data.query('train == 1')[num_cols].values\n",
    "values_norm = scaler.fit_transform(values_income)\n",
    "data.loc[index, num_cols] = values_norm\n",
    "\n",
    "index = data.query('train == 0')[num_cols].index\n",
    "values_income = data.query('train == 0')[num_cols].values\n",
    "values_norm = scaler.transform(values_income)\n",
    "data.loc[index, num_cols] = values_norm"
   ]
  },
  {
   "cell_type": "code",
   "execution_count": 64,
   "metadata": {
    "execution": {
     "iopub.execute_input": "2021-04-11T21:02:56.944988Z",
     "iopub.status.busy": "2021-04-11T21:02:56.942268Z",
     "iopub.status.idle": "2021-04-11T21:02:56.950256Z",
     "shell.execute_reply": "2021-04-11T21:02:56.949693Z"
    },
    "papermill": {
     "duration": 0.155526,
     "end_time": "2021-04-11T21:02:56.950388",
     "exception": false,
     "start_time": "2021-04-11T21:02:56.794862",
     "status": "completed"
    },
    "tags": []
   },
   "outputs": [
    {
     "data": {
      "text/html": [
       "<div>\n",
       "<style scoped>\n",
       "    .dataframe tbody tr th:only-of-type {\n",
       "        vertical-align: middle;\n",
       "    }\n",
       "\n",
       "    .dataframe tbody tr th {\n",
       "        vertical-align: top;\n",
       "    }\n",
       "\n",
       "    .dataframe thead th {\n",
       "        text-align: right;\n",
       "    }\n",
       "</style>\n",
       "<table border=\"1\" class=\"dataframe\">\n",
       "  <thead>\n",
       "    <tr style=\"text-align: right;\">\n",
       "      <th></th>\n",
       "      <th>client_id</th>\n",
       "      <th>app_date</th>\n",
       "      <th>sex</th>\n",
       "      <th>age</th>\n",
       "      <th>car</th>\n",
       "      <th>car_type</th>\n",
       "      <th>good_work</th>\n",
       "      <th>score_bki</th>\n",
       "      <th>bki_request_cnt</th>\n",
       "      <th>income</th>\n",
       "      <th>foreign_passport</th>\n",
       "      <th>default</th>\n",
       "      <th>train</th>\n",
       "      <th>high_edu</th>\n",
       "      <th>region_default_mean</th>\n",
       "      <th>decline_app_cnt_more_then_3</th>\n",
       "      <th>app_date_day</th>\n",
       "      <th>education_1</th>\n",
       "      <th>education_2</th>\n",
       "      <th>education_3</th>\n",
       "      <th>education_4</th>\n",
       "      <th>education_5</th>\n",
       "      <th>region_rating_20</th>\n",
       "      <th>region_rating_30</th>\n",
       "      <th>region_rating_40</th>\n",
       "      <th>region_rating_50</th>\n",
       "      <th>region_rating_60</th>\n",
       "      <th>region_rating_70</th>\n",
       "      <th>region_rating_80</th>\n",
       "      <th>home_address_1</th>\n",
       "      <th>home_address_2</th>\n",
       "      <th>home_address_3</th>\n",
       "      <th>work_address_1</th>\n",
       "      <th>work_address_2</th>\n",
       "      <th>work_address_3</th>\n",
       "      <th>sna_1</th>\n",
       "      <th>sna_2</th>\n",
       "      <th>sna_3</th>\n",
       "      <th>sna_4</th>\n",
       "      <th>first_time_1</th>\n",
       "      <th>first_time_2</th>\n",
       "      <th>first_time_3</th>\n",
       "      <th>first_time_4</th>\n",
       "      <th>decline_app_cnt_0</th>\n",
       "      <th>decline_app_cnt_1</th>\n",
       "      <th>decline_app_cnt_2</th>\n",
       "      <th>decline_app_cnt_3</th>\n",
       "    </tr>\n",
       "  </thead>\n",
       "  <tbody>\n",
       "    <tr>\n",
       "      <th>0</th>\n",
       "      <td>25905</td>\n",
       "      <td>2014-02-01</td>\n",
       "      <td>1</td>\n",
       "      <td>1.711137</td>\n",
       "      <td>1</td>\n",
       "      <td>1</td>\n",
       "      <td>0</td>\n",
       "      <td>-0.208799</td>\n",
       "      <td>-0.281005</td>\n",
       "      <td>-0.785016</td>\n",
       "      <td>0</td>\n",
       "      <td>0</td>\n",
       "      <td>1</td>\n",
       "      <td>0</td>\n",
       "      <td>0.302051</td>\n",
       "      <td>0</td>\n",
       "      <td>-0.935052</td>\n",
       "      <td>1</td>\n",
       "      <td>0</td>\n",
       "      <td>0</td>\n",
       "      <td>0</td>\n",
       "      <td>0</td>\n",
       "      <td>0</td>\n",
       "      <td>0</td>\n",
       "      <td>0</td>\n",
       "      <td>1</td>\n",
       "      <td>0</td>\n",
       "      <td>0</td>\n",
       "      <td>0</td>\n",
       "      <td>1</td>\n",
       "      <td>0</td>\n",
       "      <td>0</td>\n",
       "      <td>0</td>\n",
       "      <td>1</td>\n",
       "      <td>0</td>\n",
       "      <td>0</td>\n",
       "      <td>0</td>\n",
       "      <td>0</td>\n",
       "      <td>1</td>\n",
       "      <td>1</td>\n",
       "      <td>0</td>\n",
       "      <td>0</td>\n",
       "      <td>0</td>\n",
       "      <td>1</td>\n",
       "      <td>0</td>\n",
       "      <td>0</td>\n",
       "      <td>0</td>\n",
       "    </tr>\n",
       "    <tr>\n",
       "      <th>1</th>\n",
       "      <td>63161</td>\n",
       "      <td>2014-03-12</td>\n",
       "      <td>0</td>\n",
       "      <td>1.539988</td>\n",
       "      <td>0</td>\n",
       "      <td>0</td>\n",
       "      <td>0</td>\n",
       "      <td>0.747545</td>\n",
       "      <td>0.772607</td>\n",
       "      <td>-0.707526</td>\n",
       "      <td>0</td>\n",
       "      <td>0</td>\n",
       "      <td>1</td>\n",
       "      <td>0</td>\n",
       "      <td>0.302051</td>\n",
       "      <td>0</td>\n",
       "      <td>0.279082</td>\n",
       "      <td>1</td>\n",
       "      <td>0</td>\n",
       "      <td>0</td>\n",
       "      <td>0</td>\n",
       "      <td>0</td>\n",
       "      <td>0</td>\n",
       "      <td>0</td>\n",
       "      <td>0</td>\n",
       "      <td>1</td>\n",
       "      <td>0</td>\n",
       "      <td>0</td>\n",
       "      <td>0</td>\n",
       "      <td>0</td>\n",
       "      <td>1</td>\n",
       "      <td>0</td>\n",
       "      <td>0</td>\n",
       "      <td>0</td>\n",
       "      <td>1</td>\n",
       "      <td>0</td>\n",
       "      <td>0</td>\n",
       "      <td>0</td>\n",
       "      <td>1</td>\n",
       "      <td>1</td>\n",
       "      <td>0</td>\n",
       "      <td>0</td>\n",
       "      <td>0</td>\n",
       "      <td>1</td>\n",
       "      <td>0</td>\n",
       "      <td>0</td>\n",
       "      <td>0</td>\n",
       "    </tr>\n",
       "    <tr>\n",
       "      <th>2</th>\n",
       "      <td>25887</td>\n",
       "      <td>2014-02-01</td>\n",
       "      <td>1</td>\n",
       "      <td>-1.393439</td>\n",
       "      <td>1</td>\n",
       "      <td>0</td>\n",
       "      <td>0</td>\n",
       "      <td>0.996696</td>\n",
       "      <td>-0.281005</td>\n",
       "      <td>-0.052888</td>\n",
       "      <td>1</td>\n",
       "      <td>0</td>\n",
       "      <td>1</td>\n",
       "      <td>0</td>\n",
       "      <td>-1.777877</td>\n",
       "      <td>0</td>\n",
       "      <td>-0.935052</td>\n",
       "      <td>1</td>\n",
       "      <td>0</td>\n",
       "      <td>0</td>\n",
       "      <td>0</td>\n",
       "      <td>0</td>\n",
       "      <td>0</td>\n",
       "      <td>0</td>\n",
       "      <td>0</td>\n",
       "      <td>0</td>\n",
       "      <td>0</td>\n",
       "      <td>0</td>\n",
       "      <td>1</td>\n",
       "      <td>1</td>\n",
       "      <td>0</td>\n",
       "      <td>0</td>\n",
       "      <td>0</td>\n",
       "      <td>1</td>\n",
       "      <td>0</td>\n",
       "      <td>1</td>\n",
       "      <td>0</td>\n",
       "      <td>0</td>\n",
       "      <td>0</td>\n",
       "      <td>0</td>\n",
       "      <td>0</td>\n",
       "      <td>0</td>\n",
       "      <td>1</td>\n",
       "      <td>0</td>\n",
       "      <td>0</td>\n",
       "      <td>1</td>\n",
       "      <td>0</td>\n",
       "    </tr>\n",
       "    <tr>\n",
       "      <th>3</th>\n",
       "      <td>16222</td>\n",
       "      <td>2014-01-23</td>\n",
       "      <td>0</td>\n",
       "      <td>1.170400</td>\n",
       "      <td>0</td>\n",
       "      <td>0</td>\n",
       "      <td>0</td>\n",
       "      <td>-0.306582</td>\n",
       "      <td>0.335319</td>\n",
       "      <td>-1.627419</td>\n",
       "      <td>0</td>\n",
       "      <td>0</td>\n",
       "      <td>1</td>\n",
       "      <td>0</td>\n",
       "      <td>0.302051</td>\n",
       "      <td>0</td>\n",
       "      <td>-1.215237</td>\n",
       "      <td>1</td>\n",
       "      <td>0</td>\n",
       "      <td>0</td>\n",
       "      <td>0</td>\n",
       "      <td>0</td>\n",
       "      <td>0</td>\n",
       "      <td>0</td>\n",
       "      <td>0</td>\n",
       "      <td>1</td>\n",
       "      <td>0</td>\n",
       "      <td>0</td>\n",
       "      <td>0</td>\n",
       "      <td>0</td>\n",
       "      <td>1</td>\n",
       "      <td>0</td>\n",
       "      <td>0</td>\n",
       "      <td>0</td>\n",
       "      <td>1</td>\n",
       "      <td>1</td>\n",
       "      <td>0</td>\n",
       "      <td>0</td>\n",
       "      <td>0</td>\n",
       "      <td>0</td>\n",
       "      <td>0</td>\n",
       "      <td>1</td>\n",
       "      <td>0</td>\n",
       "      <td>1</td>\n",
       "      <td>0</td>\n",
       "      <td>0</td>\n",
       "      <td>0</td>\n",
       "    </tr>\n",
       "    <tr>\n",
       "      <th>4</th>\n",
       "      <td>101655</td>\n",
       "      <td>2014-04-18</td>\n",
       "      <td>1</td>\n",
       "      <td>0.829565</td>\n",
       "      <td>0</td>\n",
       "      <td>0</td>\n",
       "      <td>1</td>\n",
       "      <td>1.324697</td>\n",
       "      <td>-0.281005</td>\n",
       "      <td>-0.052888</td>\n",
       "      <td>1</td>\n",
       "      <td>0</td>\n",
       "      <td>1</td>\n",
       "      <td>1</td>\n",
       "      <td>0.060760</td>\n",
       "      <td>0</td>\n",
       "      <td>1.430952</td>\n",
       "      <td>0</td>\n",
       "      <td>0</td>\n",
       "      <td>1</td>\n",
       "      <td>0</td>\n",
       "      <td>0</td>\n",
       "      <td>0</td>\n",
       "      <td>0</td>\n",
       "      <td>0</td>\n",
       "      <td>0</td>\n",
       "      <td>1</td>\n",
       "      <td>0</td>\n",
       "      <td>0</td>\n",
       "      <td>0</td>\n",
       "      <td>1</td>\n",
       "      <td>0</td>\n",
       "      <td>0</td>\n",
       "      <td>0</td>\n",
       "      <td>1</td>\n",
       "      <td>1</td>\n",
       "      <td>0</td>\n",
       "      <td>0</td>\n",
       "      <td>0</td>\n",
       "      <td>0</td>\n",
       "      <td>0</td>\n",
       "      <td>0</td>\n",
       "      <td>1</td>\n",
       "      <td>1</td>\n",
       "      <td>0</td>\n",
       "      <td>0</td>\n",
       "      <td>0</td>\n",
       "    </tr>\n",
       "  </tbody>\n",
       "</table>\n",
       "</div>"
      ],
      "text/plain": [
       "   client_id   app_date  sex       age  car  car_type  good_work  score_bki  \\\n",
       "0      25905 2014-02-01    1  1.711137    1         1          0  -0.208799   \n",
       "1      63161 2014-03-12    0  1.539988    0         0          0   0.747545   \n",
       "2      25887 2014-02-01    1 -1.393439    1         0          0   0.996696   \n",
       "3      16222 2014-01-23    0  1.170400    0         0          0  -0.306582   \n",
       "4     101655 2014-04-18    1  0.829565    0         0          1   1.324697   \n",
       "\n",
       "   bki_request_cnt    income  foreign_passport  default  train  high_edu  \\\n",
       "0        -0.281005 -0.785016                 0        0      1         0   \n",
       "1         0.772607 -0.707526                 0        0      1         0   \n",
       "2        -0.281005 -0.052888                 1        0      1         0   \n",
       "3         0.335319 -1.627419                 0        0      1         0   \n",
       "4        -0.281005 -0.052888                 1        0      1         1   \n",
       "\n",
       "   region_default_mean  decline_app_cnt_more_then_3  app_date_day  \\\n",
       "0             0.302051                            0     -0.935052   \n",
       "1             0.302051                            0      0.279082   \n",
       "2            -1.777877                            0     -0.935052   \n",
       "3             0.302051                            0     -1.215237   \n",
       "4             0.060760                            0      1.430952   \n",
       "\n",
       "   education_1  education_2  education_3  education_4  education_5  \\\n",
       "0            1            0            0            0            0   \n",
       "1            1            0            0            0            0   \n",
       "2            1            0            0            0            0   \n",
       "3            1            0            0            0            0   \n",
       "4            0            0            1            0            0   \n",
       "\n",
       "   region_rating_20  region_rating_30  region_rating_40  region_rating_50  \\\n",
       "0                 0                 0                 0                 1   \n",
       "1                 0                 0                 0                 1   \n",
       "2                 0                 0                 0                 0   \n",
       "3                 0                 0                 0                 1   \n",
       "4                 0                 0                 0                 0   \n",
       "\n",
       "   region_rating_60  region_rating_70  region_rating_80  home_address_1  \\\n",
       "0                 0                 0                 0               1   \n",
       "1                 0                 0                 0               0   \n",
       "2                 0                 0                 1               1   \n",
       "3                 0                 0                 0               0   \n",
       "4                 1                 0                 0               0   \n",
       "\n",
       "   home_address_2  home_address_3  work_address_1  work_address_2  \\\n",
       "0               0               0               0               1   \n",
       "1               1               0               0               0   \n",
       "2               0               0               0               1   \n",
       "3               1               0               0               0   \n",
       "4               1               0               0               0   \n",
       "\n",
       "   work_address_3  sna_1  sna_2  sna_3  sna_4  first_time_1  first_time_2  \\\n",
       "0               0      0      0      0      1             1             0   \n",
       "1               1      0      0      0      1             1             0   \n",
       "2               0      1      0      0      0             0             0   \n",
       "3               1      1      0      0      0             0             0   \n",
       "4               1      1      0      0      0             0             0   \n",
       "\n",
       "   first_time_3  first_time_4  decline_app_cnt_0  decline_app_cnt_1  \\\n",
       "0             0             0                  1                  0   \n",
       "1             0             0                  1                  0   \n",
       "2             0             1                  0                  0   \n",
       "3             1             0                  1                  0   \n",
       "4             0             1                  1                  0   \n",
       "\n",
       "   decline_app_cnt_2  decline_app_cnt_3  \n",
       "0                  0                  0  \n",
       "1                  0                  0  \n",
       "2                  1                  0  \n",
       "3                  0                  0  \n",
       "4                  0                  0  "
      ]
     },
     "execution_count": 64,
     "metadata": {},
     "output_type": "execute_result"
    }
   ],
   "source": [
    "data.head()"
   ]
  },
  {
   "cell_type": "markdown",
   "metadata": {
    "papermill": {
     "duration": 0.12138,
     "end_time": "2021-04-11T21:02:57.194944",
     "exception": false,
     "start_time": "2021-04-11T21:02:57.073564",
     "status": "completed"
    },
    "tags": []
   },
   "source": [
    "## Убираем лишние признаки"
   ]
  },
  {
   "cell_type": "code",
   "execution_count": 65,
   "metadata": {
    "execution": {
     "iopub.execute_input": "2021-04-11T21:02:57.441113Z",
     "iopub.status.busy": "2021-04-11T21:02:57.440139Z",
     "iopub.status.idle": "2021-04-11T21:02:57.452075Z",
     "shell.execute_reply": "2021-04-11T21:02:57.452616Z"
    },
    "papermill": {
     "duration": 0.136895,
     "end_time": "2021-04-11T21:02:57.452788",
     "exception": false,
     "start_time": "2021-04-11T21:02:57.315893",
     "status": "completed"
    },
    "tags": []
   },
   "outputs": [],
   "source": [
    "# Удалим лишнее 'app_date', 'client_id'\n",
    "\n",
    "data.drop(['app_date', 'client_id'], axis=1, inplace=True)"
   ]
  },
  {
   "cell_type": "markdown",
   "metadata": {
    "papermill": {
     "duration": 0.120276,
     "end_time": "2021-04-11T21:02:57.694699",
     "exception": false,
     "start_time": "2021-04-11T21:02:57.574423",
     "status": "completed"
    },
    "tags": []
   },
   "source": [
    "## Подготовка выборок"
   ]
  },
  {
   "cell_type": "code",
   "execution_count": 66,
   "metadata": {
    "execution": {
     "iopub.execute_input": "2021-04-11T21:02:57.942357Z",
     "iopub.status.busy": "2021-04-11T21:02:57.941419Z",
     "iopub.status.idle": "2021-04-11T21:02:58.016875Z",
     "shell.execute_reply": "2021-04-11T21:02:58.017425Z"
    },
    "papermill": {
     "duration": 0.202898,
     "end_time": "2021-04-11T21:02:58.017607",
     "exception": false,
     "start_time": "2021-04-11T21:02:57.814709",
     "status": "completed"
    },
    "tags": []
   },
   "outputs": [],
   "source": [
    "# Разбиваем датасет на тренировочный и тестовый\n",
    "\n",
    "train_data = data.query('train == 1').drop(['train'], axis=1)\n",
    "test_data = data.query('train == 0').drop(['train'], axis=1)\n",
    "\n",
    "X = train_data.drop(['default'], axis=1).values\n",
    "y = train_data.default.values            "
   ]
  },
  {
   "cell_type": "markdown",
   "metadata": {
    "papermill": {
     "duration": 0.120451,
     "end_time": "2021-04-11T21:02:58.261166",
     "exception": false,
     "start_time": "2021-04-11T21:02:58.140715",
     "status": "completed"
    },
    "tags": []
   },
   "source": [
    "Подготовка признаков для модели завершена."
   ]
  },
  {
   "cell_type": "code",
   "execution_count": 67,
   "metadata": {
    "execution": {
     "iopub.execute_input": "2021-04-11T21:02:58.513055Z",
     "iopub.status.busy": "2021-04-11T21:02:58.509728Z",
     "iopub.status.idle": "2021-04-11T21:02:58.553389Z",
     "shell.execute_reply": "2021-04-11T21:02:58.552608Z"
    },
    "papermill": {
     "duration": 0.170848,
     "end_time": "2021-04-11T21:02:58.553576",
     "exception": false,
     "start_time": "2021-04-11T21:02:58.382728",
     "status": "completed"
    },
    "tags": []
   },
   "outputs": [],
   "source": [
    "# Разделим данные для обучения следующим образом:\n",
    "\n",
    "X_train, X_valid, y_train, y_valid = train_test_split(X, y, test_size=0.20, random_state=RANDOM_SEED)"
   ]
  },
  {
   "cell_type": "markdown",
   "metadata": {
    "papermill": {
     "duration": 0.122224,
     "end_time": "2021-04-11T21:02:58.821346",
     "exception": false,
     "start_time": "2021-04-11T21:02:58.699122",
     "status": "completed"
    },
    "tags": []
   },
   "source": [
    "# 4. Model \n",
    "## Модель и Оценка качества модели\n",
    "\n",
    "В качестве модели будем использовать модель логистической регрессии"
   ]
  },
  {
   "cell_type": "code",
   "execution_count": 68,
   "metadata": {
    "execution": {
     "iopub.execute_input": "2021-04-11T21:02:59.070831Z",
     "iopub.status.busy": "2021-04-11T21:02:59.069638Z",
     "iopub.status.idle": "2021-04-11T21:03:00.296181Z",
     "shell.execute_reply": "2021-04-11T21:03:00.296973Z"
    },
    "papermill": {
     "duration": 1.355298,
     "end_time": "2021-04-11T21:03:00.297243",
     "exception": false,
     "start_time": "2021-04-11T21:02:58.941945",
     "status": "completed"
    },
    "tags": []
   },
   "outputs": [],
   "source": [
    "model = LogisticRegression(random_state=RANDOM_SEED)\n",
    "model.fit(X_train, y_train)\n",
    "\n",
    "y_pred = model.predict(X_valid)\n",
    "y_pred_proba = model.predict_proba(X_valid)[:,1]"
   ]
  },
  {
   "cell_type": "markdown",
   "metadata": {
    "papermill": {
     "duration": 0.120291,
     "end_time": "2021-04-11T21:03:00.589077",
     "exception": false,
     "start_time": "2021-04-11T21:03:00.468786",
     "status": "completed"
    },
    "tags": []
   },
   "source": [
    "Оценим качество модели:"
   ]
  },
  {
   "cell_type": "code",
   "execution_count": 69,
   "metadata": {},
   "outputs": [
    {
     "data": {
      "text/plain": [
       "(2,)"
      ]
     },
     "execution_count": 69,
     "metadata": {},
     "output_type": "execute_result"
    }
   ],
   "source": [
    "np.array([1, 2]).shape"
   ]
  },
  {
   "cell_type": "code",
   "execution_count": 70,
   "metadata": {
    "execution": {
     "iopub.execute_input": "2021-04-11T21:03:00.836275Z",
     "iopub.status.busy": "2021-04-11T21:03:00.835193Z",
     "iopub.status.idle": "2021-04-11T21:03:01.365795Z",
     "shell.execute_reply": "2021-04-11T21:03:01.365137Z"
    },
    "papermill": {
     "duration": 0.656062,
     "end_time": "2021-04-11T21:03:01.365933",
     "exception": false,
     "start_time": "2021-04-11T21:03:00.709871",
     "status": "completed"
    },
    "tags": []
   },
   "outputs": [
    {
     "data": {
      "image/png": "[encoded data removed]",
      "text/plain": [
       "<Figure size 1080x360 with 3 Axes>"
      ]
     },
     "metadata": {
      "needs_background": "light"
     },
     "output_type": "display_data"
    }
   ],
   "source": [
    " ModelInspector(model, X_valid, y_valid).inspect()"
   ]
  },
  {
   "cell_type": "markdown",
   "metadata": {
    "papermill": {
     "duration": 0.125213,
     "end_time": "2021-04-11T21:03:01.615992",
     "exception": false,
     "start_time": "2021-04-11T21:03:01.490779",
     "status": "completed"
    },
    "tags": []
   },
   "source": [
    "**Резюме** - Результаты оцениваются по Метрике качества модели - по площади под кривой ROC AUC. В нашей модели мы абсолютно не угадали дефолтных клиентов, тем самым обеспечили себе огромную ошибку второго рода и как следствие колосальный убыток, но ROC-AUC у нас высокий. Благо f1 как-то сигнализирует о том что что-то не впорядке. "
   ]
  },
  {
   "cell_type": "markdown",
   "metadata": {
    "papermill": {
     "duration": 0.12284,
     "end_time": "2021-04-11T21:03:01.861729",
     "exception": false,
     "start_time": "2021-04-11T21:03:01.738889",
     "status": "completed"
    },
    "tags": []
   },
   "source": [
    "### Кросс-валидация\n",
    "\n",
    "Посмотрим на метрику качества на различных разбиениях:"
   ]
  },
  {
   "cell_type": "code",
   "execution_count": 71,
   "metadata": {
    "execution": {
     "iopub.execute_input": "2021-04-11T21:03:02.113717Z",
     "iopub.status.busy": "2021-04-11T21:03:02.113066Z",
     "iopub.status.idle": "2021-04-11T21:03:03.928860Z",
     "shell.execute_reply": "2021-04-11T21:03:03.928283Z"
    },
    "papermill": {
     "duration": 1.944222,
     "end_time": "2021-04-11T21:03:03.929000",
     "exception": false,
     "start_time": "2021-04-11T21:03:01.984778",
     "status": "completed"
    },
    "tags": []
   },
   "outputs": [
    {
     "data": {
      "image/png": "[encoded data removed]",
      "text/plain": [
       "<Figure size 864x432 with 1 Axes>"
      ]
     },
     "metadata": {},
     "output_type": "display_data"
    }
   ],
   "source": [
    "cv_metrics = cross_validate(model, X_valid, y_valid, cv=5, scoring='roc_auc', return_train_score=True)\n",
    "vis_cross_val_score('ROC-AUC', cv_metrics, 0.744556, 1.1)"
   ]
  },
  {
   "cell_type": "markdown",
   "metadata": {
    "papermill": {
     "duration": 0.127943,
     "end_time": "2021-04-11T21:03:04.183059",
     "exception": false,
     "start_time": "2021-04-11T21:03:04.055116",
     "status": "completed"
    },
    "tags": []
   },
   "source": [
    "**Резюме** - модель, которую мы получили, очень плохая, несмотря на то, что целевая метрика ROC-AUC достаточно высокая (=0.7445).\n",
    "Потому что:\n",
    "\n",
    "Из матрицы ошибок видно, что мы почти не угадываем дефолтных клиентов (58 из 1789). Об этом также свидетествует метрика полнота recall = 0.020799, которая собственно описывает этот момент. Таким образом все клиенты попали в ошибку второго рода, а это очень плохо для банка, так как мы будем выдавать кредиты людям которые их не смогут вернуть - риск потерять все деньги.\n",
    "Но целевая переменная площадь под ROC кривой оказалась не такой уж плохой. \n",
    "Кросс валидация показала дисперсию ошибки на тесте 0.014 и так как мы не использовали перемешивания, то можно сказать что модель лучше работает на крайних фолдах, чем на средних. В анализе признака data приводилась аналитика, которая говорила о том что вероятно в середине периода в банке проводилась какая-то акция и порог выдачи кредита снижался. Но мы в своей работе стремились создать надежный алгоритм который снижает ошибку второго рода (снижает потери банка) и достаточно стабильно работает (f1, PRC_AUC) при оптимальных значениях точности, а не гнались за просто высоким результатом на лидерборде."
   ]
  },
  {
   "cell_type": "markdown",
   "metadata": {
    "papermill": {
     "duration": 0.124825,
     "end_time": "2021-04-11T21:03:04.433003",
     "exception": false,
     "start_time": "2021-04-11T21:03:04.308178",
     "status": "completed"
    },
    "tags": []
   },
   "source": [
    "### Попробуем решить проблему поиском оптимальных значений гипер-параметров для логистической регрессии. "
   ]
  },
  {
   "cell_type": "code",
   "execution_count": 72,
   "metadata": {
    "execution": {
     "iopub.execute_input": "2021-04-11T21:03:04.695030Z",
     "iopub.status.busy": "2021-04-11T21:03:04.694324Z",
     "iopub.status.idle": "2021-04-11T21:03:04.697558Z",
     "shell.execute_reply": "2021-04-11T21:03:04.697025Z"
    },
    "papermill": {
     "duration": 0.138957,
     "end_time": "2021-04-11T21:03:04.697703",
     "exception": false,
     "start_time": "2021-04-11T21:03:04.558746",
     "status": "completed"
    },
    "tags": []
   },
   "outputs": [],
   "source": [
    "def find_best_params(X_train, y_train):\n",
    "    '''Функция для нахождения лучших гиперпараметров для модели.'''\n",
    "    \n",
    "    # Добавим типы регуляризации\n",
    "    penalty = ['l1', 'l2', 'elasticnet']\n",
    "\n",
    "    # Зададим ограничения для параметра регуляризации\n",
    "    C = np.logspace(0, 4, 10)\n",
    "\n",
    "    # Создадим гиперпараметры\n",
    "    hyperparameters = dict(C=C, penalty=penalty)\n",
    "    \n",
    "    param_grid = [\n",
    "        {'penalty': ['l1'], 'C':[0.1, 1, 10], 'max_iter':[1000],'tol':[1e-5]},\n",
    "        {'penalty': ['l2'], 'C':[0.1, 1, 10], 'max_iter':[1000],'tol':[1e-5]},\n",
    "        {'penalty': ['none'], 'max_iter':[1000],'tol':[1e-5]}\n",
    "    ]\n",
    "\n",
    "    model = LogisticRegression(random_state=RANDOM_SEED, multi_class='ovr', class_weight='balanced')\n",
    "    model.fit(X_train, y_train)\n",
    "\n",
    "    # Создаем сетку поиска с использованием 5-кратной перекрестной проверки\n",
    "    clf = GridSearchCV(model, hyperparameters, scoring='f1', cv=5, verbose=0)\n",
    "\n",
    "    best_model = clf.fit(X_train, y_train)\n",
    "\n",
    "    # View best hyperparameters\n",
    "    best_params = best_model.best_estimator_.get_params()\n",
    "    print('Лучшее Penalty:', best_params['penalty'])\n",
    "    print('Лучшее C:', best_params['C'])\n",
    "    print('Лучший solver:', best_params['solver'])\n",
    "    \n",
    "    return best_params['penalty'], best_params['C'], best_params['solver']"
   ]
  },
  {
   "cell_type": "code",
   "execution_count": 73,
   "metadata": {
    "execution": {
     "iopub.execute_input": "2021-04-11T21:03:04.954335Z",
     "iopub.status.busy": "2021-04-11T21:03:04.953687Z",
     "iopub.status.idle": "2021-04-11T21:03:52.235389Z",
     "shell.execute_reply": "2021-04-11T21:03:52.235942Z"
    },
    "papermill": {
     "duration": 47.412553,
     "end_time": "2021-04-11T21:03:52.236125",
     "exception": false,
     "start_time": "2021-04-11T21:03:04.823572",
     "status": "completed"
    },
    "tags": []
   },
   "outputs": [
    {
     "name": "stdout",
     "output_type": "stream",
     "text": [
      "Лучшее Penalty: l2\n",
      "Лучшее C: 7.742636826811269\n",
      "Лучший solver: lbfgs\n"
     ]
    }
   ],
   "source": [
    "best_penalty, best_C, best_solver = find_best_params(X_train, y_train)"
   ]
  },
  {
   "cell_type": "code",
   "execution_count": 74,
   "metadata": {
    "execution": {
     "iopub.execute_input": "2021-04-11T21:03:52.492639Z",
     "iopub.status.busy": "2021-04-11T21:03:52.491960Z",
     "iopub.status.idle": "2021-04-11T21:03:52.497224Z",
     "shell.execute_reply": "2021-04-11T21:03:52.496411Z"
    },
    "papermill": {
     "duration": 0.135741,
     "end_time": "2021-04-11T21:03:52.497444",
     "exception": false,
     "start_time": "2021-04-11T21:03:52.361703",
     "status": "completed"
    },
    "tags": []
   },
   "outputs": [
    {
     "name": "stdout",
     "output_type": "stream",
     "text": [
      "l2 7.742636826811269 lbfgs\n"
     ]
    }
   ],
   "source": [
    "print(best_penalty, best_C, best_solver)"
   ]
  },
  {
   "cell_type": "markdown",
   "metadata": {
    "papermill": {
     "duration": 0.126544,
     "end_time": "2021-04-11T21:03:52.755059",
     "exception": false,
     "start_time": "2021-04-11T21:03:52.628515",
     "status": "completed"
    },
    "tags": []
   },
   "source": [
    "Оценим качество модели с выбранными гиперпараметрами:"
   ]
  },
  {
   "cell_type": "code",
   "execution_count": 75,
   "metadata": {
    "execution": {
     "iopub.execute_input": "2021-04-11T21:03:53.017056Z",
     "iopub.status.busy": "2021-04-11T21:03:53.015878Z",
     "iopub.status.idle": "2021-04-11T21:03:54.183557Z",
     "shell.execute_reply": "2021-04-11T21:03:54.184345Z"
    },
    "papermill": {
     "duration": 1.302517,
     "end_time": "2021-04-11T21:03:54.184641",
     "exception": false,
     "start_time": "2021-04-11T21:03:52.882124",
     "status": "completed"
    },
    "tags": []
   },
   "outputs": [],
   "source": [
    "model = LogisticRegression(penalty=best_penalty,\n",
    "                           C=best_C,\n",
    "                           solver=best_solver,\n",
    "                           random_state=RANDOM_SEED)\n",
    "\n",
    "model.fit(X_train, y_train)\n",
    "\n",
    "y_pred = model.predict(X_valid)\n",
    "y_pred_proba = model.predict_proba(X_valid)[:,1]"
   ]
  },
  {
   "cell_type": "code",
   "execution_count": 76,
   "metadata": {
    "execution": {
     "iopub.execute_input": "2021-04-11T21:03:54.505458Z",
     "iopub.status.busy": "2021-04-11T21:03:54.504386Z",
     "iopub.status.idle": "2021-04-11T21:03:55.140059Z",
     "shell.execute_reply": "2021-04-11T21:03:55.140576Z"
    },
    "papermill": {
     "duration": 0.769565,
     "end_time": "2021-04-11T21:03:55.140747",
     "exception": false,
     "start_time": "2021-04-11T21:03:54.371182",
     "status": "completed"
    },
    "tags": []
   },
   "outputs": [
    {
     "data": {
      "image/png": "[encoded data removed]",
      "text/plain": [
       "<Figure size 1080x360 with 3 Axes>"
      ]
     },
     "metadata": {},
     "output_type": "display_data"
    }
   ],
   "source": [
    " ModelInspector(model, X_valid, y_valid).inspect()"
   ]
  },
  {
   "cell_type": "markdown",
   "metadata": {
    "papermill": {
     "duration": 0.129057,
     "end_time": "2021-04-11T21:03:55.399955",
     "exception": false,
     "start_time": "2021-04-11T21:03:55.270898",
     "status": "completed"
    },
    "tags": []
   },
   "source": [
    "**Резюме** - На оптимальных гиперпараметрах ситуация изменилась не сильно. Проблема с поиском дефолтных клиентов не решена. \n",
    "\n",
    "Есть гипотеза, что корень проблемы лежит в несбалансированности нашей исходной выборки. Один из возможных вариантов решения - это изменить выборку данных: \n",
    " 1) oversampling — увеличение кол-ва объектов классов-меньшинств; \n",
    " \n",
    " 2) undersampling — сокращение кол-ва объектов превалирующих классов."
   ]
  },
  {
   "cell_type": "code",
   "execution_count": 77,
   "metadata": {
    "execution": {
     "iopub.execute_input": "2021-04-11T21:03:55.664716Z",
     "iopub.status.busy": "2021-04-11T21:03:55.664076Z",
     "iopub.status.idle": "2021-04-11T21:03:57.906633Z",
     "shell.execute_reply": "2021-04-11T21:03:57.905962Z"
    },
    "papermill": {
     "duration": 2.378029,
     "end_time": "2021-04-11T21:03:57.906788",
     "exception": false,
     "start_time": "2021-04-11T21:03:55.528759",
     "status": "completed"
    },
    "tags": []
   },
   "outputs": [],
   "source": [
    "# Попробуем undersampling и oversampling\n",
    "\n",
    "over = SMOTE(sampling_strategy=0.5, random_state=RANDOM_SEED)\n",
    "under = RandomUnderSampler(sampling_strategy=0.5, random_state=RANDOM_SEED)\n",
    "\n",
    "X_over, y_over = over.fit_resample(X, y)\n",
    "X_under, y_under = under.fit_resample(X, y)"
   ]
  },
  {
   "cell_type": "markdown",
   "metadata": {
    "papermill": {
     "duration": 0.131152,
     "end_time": "2021-04-11T21:03:58.168154",
     "exception": false,
     "start_time": "2021-04-11T21:03:58.037002",
     "status": "completed"
    },
    "tags": []
   },
   "source": [
    "### Наша модель на несбалансированной выборке:"
   ]
  },
  {
   "cell_type": "code",
   "execution_count": 78,
   "metadata": {
    "execution": {
     "iopub.execute_input": "2021-04-11T21:03:58.437274Z",
     "iopub.status.busy": "2021-04-11T21:03:58.436570Z",
     "iopub.status.idle": "2021-04-11T21:04:00.160720Z",
     "shell.execute_reply": "2021-04-11T21:04:00.160055Z"
    },
    "papermill": {
     "duration": 1.863256,
     "end_time": "2021-04-11T21:04:00.160860",
     "exception": false,
     "start_time": "2021-04-11T21:03:58.297604",
     "status": "completed"
    },
    "tags": []
   },
   "outputs": [
    {
     "data": {
      "image/png": "[encoded data removed]",
      "text/plain": [
       "<Figure size 1080x360 with 3 Axes>"
      ]
     },
     "metadata": {},
     "output_type": "display_data"
    }
   ],
   "source": [
    "X_train, X_valid, y_train, y_valid = train_test_split(X, y, test_size=0.20, random_state=RANDOM_SEED)\n",
    "\n",
    "model = LogisticRegression(penalty=best_penalty,\n",
    "                           C=best_C,\n",
    "                           solver=best_solver,\n",
    "                           random_state=RANDOM_SEED)\n",
    "\n",
    "model.fit(X_train, y_train)\n",
    "ModelInspector(model, X_valid, y_valid).inspect()"
   ]
  },
  {
   "cell_type": "markdown",
   "metadata": {
    "papermill": {
     "duration": 0.132668,
     "end_time": "2021-04-11T21:04:00.426760",
     "exception": false,
     "start_time": "2021-04-11T21:04:00.294092",
     "status": "completed"
    },
    "tags": []
   },
   "source": [
    "### Наша модель выборке, сбалансированной методом oversampling:"
   ]
  },
  {
   "cell_type": "code",
   "execution_count": 79,
   "metadata": {
    "execution": {
     "iopub.execute_input": "2021-04-11T21:04:00.699908Z",
     "iopub.status.busy": "2021-04-11T21:04:00.698809Z",
     "iopub.status.idle": "2021-04-11T21:04:02.898316Z",
     "shell.execute_reply": "2021-04-11T21:04:02.898825Z"
    },
    "papermill": {
     "duration": 2.340922,
     "end_time": "2021-04-11T21:04:02.898991",
     "exception": false,
     "start_time": "2021-04-11T21:04:00.558069",
     "status": "completed"
    },
    "tags": []
   },
   "outputs": [
    {
     "data": {
      "image/png": "[encoded data removed]",
      "text/plain": [
       "<Figure size 1080x360 with 3 Axes>"
      ]
     },
     "metadata": {},
     "output_type": "display_data"
    }
   ],
   "source": [
    "X_train, X_valid, y_train, y_valid = train_test_split(X_over, y_over, test_size=0.20, random_state=42)\n",
    "\n",
    "model = LogisticRegression(penalty=best_penalty,\n",
    "                           C=best_C,\n",
    "                           solver=best_solver,\n",
    "                           random_state=RANDOM_SEED)\n",
    "\n",
    "model.fit(X_train, y_train)\n",
    "ModelInspector(model, X_valid, y_valid).inspect()"
   ]
  },
  {
   "cell_type": "markdown",
   "metadata": {
    "papermill": {
     "duration": 0.134924,
     "end_time": "2021-04-11T21:04:03.169444",
     "exception": false,
     "start_time": "2021-04-11T21:04:03.034520",
     "status": "completed"
    },
    "tags": []
   },
   "source": [
    "### Наша модель выборке, сбалансированной методом undersampling:"
   ]
  },
  {
   "cell_type": "code",
   "execution_count": 80,
   "metadata": {
    "execution": {
     "iopub.execute_input": "2021-04-11T21:04:03.448649Z",
     "iopub.status.busy": "2021-04-11T21:04:03.447699Z",
     "iopub.status.idle": "2021-04-11T21:04:04.443309Z",
     "shell.execute_reply": "2021-04-11T21:04:04.442700Z"
    },
    "papermill": {
     "duration": 1.137737,
     "end_time": "2021-04-11T21:04:04.443461",
     "exception": false,
     "start_time": "2021-04-11T21:04:03.305724",
     "status": "completed"
    },
    "tags": []
   },
   "outputs": [
    {
     "data": {
      "image/png": "[encoded data removed]",
      "text/plain": [
       "<Figure size 1080x360 with 3 Axes>"
      ]
     },
     "metadata": {},
     "output_type": "display_data"
    }
   ],
   "source": [
    "X_train, X_valid, y_train, y_valid = train_test_split(X_under, y_under, test_size=0.20, random_state=42)\n",
    "\n",
    "model = LogisticRegression(penalty=best_penalty,\n",
    "                           C=best_C,\n",
    "                           solver=best_solver,\n",
    "                           random_state=RANDOM_SEED)\n",
    "\n",
    "model.fit(X_train, y_train)\n",
    "ModelInspector(model, X_valid, y_valid).inspect()"
   ]
  },
  {
   "cell_type": "markdown",
   "metadata": {
    "papermill": {
     "duration": 0.153014,
     "end_time": "2021-04-11T21:04:04.741719",
     "exception": false,
     "start_time": "2021-04-11T21:04:04.588705",
     "status": "completed"
    },
    "tags": []
   },
   "source": [
    "**Резюме** - Максимальное значение метрики ROC_AUC при валидации было достигнуто на несбаласированной метрики. Но такую модель использовать неправильно, так как такая моедль плохо ищет дефолтных клиентов, а модель должна работать для бизнеса. \n",
    "Выбираем модель обученную на выборке, сбалансированной методом oversampling. Значение метрики ROC_AUC довольно высоко, одновременно с этим занчение метрики f1 также принимает более выгодное значение нежеле чем на несбалансированной выборке."
   ]
  },
  {
   "cell_type": "markdown",
   "metadata": {
    "papermill": {
     "duration": 0.137156,
     "end_time": "2021-04-11T21:04:05.016614",
     "exception": false,
     "start_time": "2021-04-11T21:04:04.879458",
     "status": "completed"
    },
    "tags": []
   },
   "source": [
    "### Итог:\n",
    "В результате работы над данными:\n",
    "\n",
    " - был произведен разведывательный анализ данных\n",
    " - созданы новые признаки\n",
    " - отбраны признаки для модели по значимости\n",
    " - произведена балансировка классов с помощью undersampling\n",
    " - подобраны оптимальные гиперпараметры для модели\n",
    " - проведена проверка модели на переобучение - результат отрицательный\n",
    "\n",
    "В финальной версии модели score -"
   ]
  },
  {
   "cell_type": "markdown",
   "metadata": {
    "papermill": {
     "duration": 0.136922,
     "end_time": "2021-04-11T21:04:05.293420",
     "exception": false,
     "start_time": "2021-04-11T21:04:05.156498",
     "status": "completed"
    },
    "tags": []
   },
   "source": [
    "# 4.Submission"
   ]
  },
  {
   "cell_type": "code",
   "execution_count": 81,
   "metadata": {
    "execution": {
     "iopub.execute_input": "2021-04-11T21:04:05.575875Z",
     "iopub.status.busy": "2021-04-11T21:04:05.573006Z",
     "iopub.status.idle": "2021-04-11T21:04:07.119356Z",
     "shell.execute_reply": "2021-04-11T21:04:07.120227Z"
    },
    "papermill": {
     "duration": 1.689999,
     "end_time": "2021-04-11T21:04:07.120519",
     "exception": false,
     "start_time": "2021-04-11T21:04:05.430520",
     "status": "completed"
    },
    "tags": []
   },
   "outputs": [
    {
     "data": {
      "text/plain": [
       "LogisticRegression(C=7.742636826811269, random_state=42)"
      ]
     },
     "execution_count": 81,
     "metadata": {},
     "output_type": "execute_result"
    }
   ],
   "source": [
    "X_train, X_valid, y_train, y_valid = train_test_split(X_over, y_over, test_size=0.20, random_state=42)\n",
    "\n",
    "model = LogisticRegression(penalty=best_penalty,\n",
    "                           C=best_C,\n",
    "                           solver=best_solver,\n",
    "                           random_state=RANDOM_SEED)\n",
    "\n",
    "model.fit(X_train, y_train)"
   ]
  },
  {
   "cell_type": "code",
   "execution_count": 82,
   "metadata": {
    "execution": {
     "iopub.execute_input": "2021-04-11T21:04:07.452991Z",
     "iopub.status.busy": "2021-04-11T21:04:07.452296Z",
     "iopub.status.idle": "2021-04-11T21:04:07.467378Z",
     "shell.execute_reply": "2021-04-11T21:04:07.468243Z"
    },
    "papermill": {
     "duration": 0.160983,
     "end_time": "2021-04-11T21:04:07.468523",
     "exception": false,
     "start_time": "2021-04-11T21:04:07.307540",
     "status": "completed"
    },
    "tags": []
   },
   "outputs": [],
   "source": [
    "X_test = test_data.drop(['default'], axis=1).values\n",
    "\n",
    "y_pred_prob = model.predict_proba(X_test)[:,1]"
   ]
  },
  {
   "cell_type": "code",
   "execution_count": 83,
   "metadata": {
    "execution": {
     "iopub.execute_input": "2021-04-11T21:04:07.800038Z",
     "iopub.status.busy": "2021-04-11T21:04:07.799380Z",
     "iopub.status.idle": "2021-04-11T21:04:07.940371Z",
     "shell.execute_reply": "2021-04-11T21:04:07.939728Z"
    },
    "papermill": {
     "duration": 0.284751,
     "end_time": "2021-04-11T21:04:07.940559",
     "exception": false,
     "start_time": "2021-04-11T21:04:07.655808",
     "status": "completed"
    },
    "tags": []
   },
   "outputs": [],
   "source": [
    "submit = pd.DataFrame(data_test['client_id'])\n",
    "submit['default'] = y_pred_prob\n",
    "submit.to_csv('submission.csv', index=False)"
   ]
  }
 ],
 "metadata": {
  "kernelspec": {
   "display_name": "Python 3",
   "language": "python",
   "name": "python3"
  },
  "language_info": {
   "codemirror_mode": {
    "name": "ipython",
    "version": 3
   },
   "file_extension": ".py",
   "mimetype": "text/x-python",
   "name": "python",
   "nbconvert_exporter": "python",
   "pygments_lexer": "ipython3",
   "version": "3.6.6"
  },
  "papermill": {
   "default_parameters": {},
   "duration": 122.845966,
   "end_time": "2021-04-11T21:04:08.792635",
   "environment_variables": {},
   "exception": null,
   "input_path": "__notebook__.ipynb",
   "output_path": "__notebook__.ipynb",
   "parameters": {},
   "start_time": "2021-04-11T21:02:05.946669",
   "version": "2.3.2"
  }
 },
 "nbformat": 4,
 "nbformat_minor": 5
}
