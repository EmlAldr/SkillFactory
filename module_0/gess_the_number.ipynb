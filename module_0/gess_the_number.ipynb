{
 "cells": [
  {
   "cell_type": "markdown",
   "metadata": {},
   "source": [
    "# Угадай число!\n",
    "Игра представляет собой следующее: компьютер загадывает целое число от 1 до 100, и нам его нужно угадать.\n",
    "Под «угадать», подразумевается «подобрать алгоритм, который угадывает число».\n",
    "\n",
    "Для наглядности, будем запускать игру 1000 раз. Эффективность каждого представленного алгоритма будем рассчитывать как среднее значение количества попыток алгоритма для поиска заданного числа."
   ]
  },
  {
   "cell_type": "code",
   "execution_count": 1,
   "metadata": {},
   "outputs": [],
   "source": [
    "import numpy as np\n",
    "\n",
    "\n",
    "def score_game(game_core):\n",
    "    \"\"\"Чтобы узнать, как быстро переданный алгоритм угадывает число, запускаем игру number_of_games раз.\n",
    "    Потом рассчитаем среднее значение количества попыток.\n",
    "    \n",
    "    Функция принимает в качестве аргумента алгоритм поиска и возвращает среднее число попыток.\n",
    "    Если переданный алгоритм не смог угадать число, то функция возвращает -1 (ошибку).\n",
    "    \n",
    "    \"\"\"\n",
    "    number_of_games = 1000\n",
    "    count_ls = []\n",
    "    \n",
    "    # Фиксируем RANDOM SEED, чтобы эксперимент был воспроизводим!\n",
    "    np.random.seed(1) \n",
    "    # Задаем набор из number_of_games штук random чисел и запускаем поиск согласно алгоритму для каждого.\n",
    "    random_array = np.random.randint(1,101, size=(number_of_games))\n",
    "    for number in random_array:\n",
    "        count = game_core(number)  \n",
    "        if count < 0:\n",
    "            print(f\"Ваш алгоритм не смог угадать число {number}. Необходимо его перепроверить!\")\n",
    "            return -1  \n",
    "        else:\n",
    "            count_ls.append(count)\n",
    "    score = int(np.mean(count_ls))\n",
    "    \n",
    "    print(f\"Ваш алгоритм угадывает число в среднем за {score} попыток\")\n",
    "    return score"
   ]
  },
  {
   "cell_type": "markdown",
   "metadata": {},
   "source": [
    "### Алгоритм угадывания числа \"вручную\".\n",
    "Алгоритм написан автором модуля, оформил его в виде функции для едиообразия. Можно запустить игру с ручным поиском загаднного числа, но это слишком долго."
   ]
  },
  {
   "cell_type": "code",
   "execution_count": 2,
   "metadata": {},
   "outputs": [],
   "source": [
    "def game_core_manual(number: int) -> int:\n",
    "    \"\"\"В бесконечном цикле просим угадать загаданное число и ввести его. \n",
    "    В качестве ответа говорим, что или угадал, или информацию о том, \n",
    "    больше или меньше загаданное число.\n",
    "    \n",
    "    Функция принимает загаданное число и возвращает число попыток.\n",
    "    Если алгоритм работаем слишком долго, то функция возвращает -1 (ошибку).\n",
    "    \n",
    "    \"\"\"\n",
    "    count = 0\n",
    "    while True:   \n",
    "        # Если алгоритм работает аномально долго, то возвращаем ошибку\n",
    "        if count > 10000: \n",
    "            print(f\"Вы сделали уже {count} попыток. Похоже сегодня не Ваш день(\")\n",
    "            return -1\n",
    "        count += 1\n",
    "        \n",
    "        predict = int(input(\"Угадайте число: \"))        \n",
    "        if number == predict: \n",
    "            print(f\"Вы угадали число {number} за {count} попыток.\")\n",
    "            return count \n",
    "        elif number > predict: \n",
    "            print(f\"Угадываемое число больше {predict} \")\n",
    "        elif number < predict: \n",
    "            print(f\"Угадываемое число меньше {predict} \")    "
   ]
  },
  {
   "cell_type": "markdown",
   "metadata": {},
   "source": [
    "### Алгоритм поиска заданного числа простым перебором по диапазону от 1 до 100\n",
    "Алгоритм написан автором модуля, оформил его в виде функции для едиообразия. "
   ]
  },
  {
   "cell_type": "code",
   "execution_count": 3,
   "metadata": {},
   "outputs": [],
   "source": [
    "def game_core_v0(number: int) -> int:\n",
    "    \"\"\"Перебираем все числа от 1 до 100 и проверяем угадили число или нет.\n",
    "    \n",
    "    Функция принимает загаданное число и возвращает число попыток.\n",
    "    \n",
    "    \"\"\"\n",
    "    for count in range(1,101):\n",
    "        if number == count: \n",
    "            return count"
   ]
  },
  {
   "cell_type": "code",
   "execution_count": 4,
   "metadata": {},
   "outputs": [
    {
     "name": "stdout",
     "output_type": "stream",
     "text": [
      "Ваш алгоритм угадывает число в среднем за 50 попыток\n"
     ]
    },
    {
     "data": {
      "text/plain": [
       "50"
      ]
     },
     "execution_count": 4,
     "metadata": {},
     "output_type": "execute_result"
    }
   ],
   "source": [
    "# запускаем\n",
    "score_game(game_core_v0)"
   ]
  },
  {
   "cell_type": "markdown",
   "metadata": {},
   "source": [
    "### Алгоритм поиска заданного числа угадыванием (random) по диапазону от 1 до 100\n",
    "Алгоритм написан автором модуля. Совершенно не учитывает информацию о том, что число больше или меньше нужного нам."
   ]
  },
  {
   "cell_type": "code",
   "execution_count": 5,
   "metadata": {},
   "outputs": [],
   "source": [
    "def game_core_v1(number: int) -> int:\n",
    "    \"\"\"Просто угадываем на random, никак не используя информацию о больше или меньше.\n",
    "    \n",
    "    Функция принимает загаданное число и возвращает число попыток.\n",
    "    Если алгоритм работаем слишком долго, то функция возвращает -1 (ошибку).\n",
    "    \n",
    "    \"\"\"\n",
    "    count = 0\n",
    "    while True:\n",
    "        # Если алгоритм работает аномально долго, то возвращаем ошибку\n",
    "        if count > 10000: return -1\n",
    "        count += 1\n",
    "        \n",
    "        # Берем random число из диапазона и делаем по нему проверку.\n",
    "        predict = np.random.randint(1,101) \n",
    "        if number == predict: \n",
    "            return count "
   ]
  },
  {
   "cell_type": "code",
   "execution_count": 6,
   "metadata": {},
   "outputs": [
    {
     "name": "stdout",
     "output_type": "stream",
     "text": [
      "Ваш алгоритм угадывает число в среднем за 101 попыток\n"
     ]
    },
    {
     "data": {
      "text/plain": [
       "101"
      ]
     },
     "execution_count": 6,
     "metadata": {},
     "output_type": "execute_result"
    }
   ],
   "source": [
    "# запускаем\n",
    "score_game(game_core_v1)"
   ]
  },
  {
   "cell_type": "markdown",
   "metadata": {},
   "source": [
    "### Алгоритм поиска заданного числа угадыванием (random) по диапазону от 1 до 100 и дальнейшим перебором\n",
    "Алгоритм написан автором модуля. Учитывает информацию о том, что число random больше или меньше нужного нам на первой итерации. Далее производится простой перебор."
   ]
  },
  {
   "cell_type": "code",
   "execution_count": 7,
   "metadata": {},
   "outputs": [],
   "source": [
    "def game_core_v2(number: int) -> int:\n",
    "    \"\"\"Сначала устанавливаем любое random число, а потом уменьшаем или увеличиваем его\n",
    "    в зависимости от того, больше оно или меньше нужного.\n",
    "    \n",
    "    Функция принимает загаданное число и возвращает число попыток.\n",
    "    \n",
    "    \"\"\"\n",
    "    count = 1\n",
    "    predict = np.random.randint(1,101)    \n",
    "    while number != predict:\n",
    "        count += 1\n",
    "        if number > predict: \n",
    "            predict += 1\n",
    "        elif number < predict: \n",
    "            predict -= 1\n",
    "            \n",
    "    return count "
   ]
  },
  {
   "cell_type": "code",
   "execution_count": 8,
   "metadata": {
    "scrolled": true
   },
   "outputs": [
    {
     "name": "stdout",
     "output_type": "stream",
     "text": [
      "Ваш алгоритм угадывает число в среднем за 33 попыток\n"
     ]
    },
    {
     "data": {
      "text/plain": [
       "33"
      ]
     },
     "execution_count": 8,
     "metadata": {},
     "output_type": "execute_result"
    }
   ],
   "source": [
    "# Проверяем\n",
    "score_game(game_core_v2)"
   ]
  },
  {
   "cell_type": "markdown",
   "metadata": {},
   "source": [
    "### Алгоритм поиска заданного числа угадыванием (random)  по диапазону, который сужается на каждой следующей итерации\n",
    "Учитывает информацию о том, что число random больше или меньше нужного на каждой итерации и в сужает диапозон для следующей."
   ]
  },
  {
   "cell_type": "code",
   "execution_count": 9,
   "metadata": {},
   "outputs": [],
   "source": [
    "def game_core_v3(number: int) -> int:\n",
    "    \"\"\"В бесконечном цикле берем random число из диапазона [lower_limit, upper_limit] и проверяем. \n",
    "    Если это загаданное число, то возвращаем число попыток. Если загаданное чило больше, \n",
    "    то сдвигаем нижнюю границу lower_limit. Если меньше, то верхнюю upper_limit.  \n",
    "    На первой итерации этот диапазон равен от 1 до 100. Далее на каждой итерации цикла диапазон будет уменьшаться.\n",
    "       \n",
    "    Функция принимает загаданное число и возвращает число попыток. \n",
    "    Если алгоритм работаем слишком долго, то функция возвращает -1 (ошибку).\n",
    "       \n",
    "    \"\"\"\n",
    "    count = 0\n",
    "    lower_limit = 1\n",
    "    upper_limit = 100\n",
    "        \n",
    "    while True:\n",
    "        # Если алгоритм работает аномально долго, то возвращаем ошибку\n",
    "        if count > 10000: return -1\n",
    "        count += 1\n",
    "        \n",
    "        # Берем random число из диапазона и делаем по нему проверку. Если не подходит, то сужаем диапазон.\n",
    "        predict = np.random.randint(lower_limit, upper_limit + 1)\n",
    "        if number == predict: \n",
    "            return count \n",
    "        elif number > predict:\n",
    "            lower_limit = predict + 1\n",
    "        elif number < predict: \n",
    "            upper_limit = predict - 1\n"
   ]
  },
  {
   "cell_type": "code",
   "execution_count": 10,
   "metadata": {},
   "outputs": [
    {
     "name": "stdout",
     "output_type": "stream",
     "text": [
      "Ваш алгоритм угадывает число в среднем за 7 попыток\n"
     ]
    },
    {
     "data": {
      "text/plain": [
       "7"
      ]
     },
     "execution_count": 10,
     "metadata": {},
     "output_type": "execute_result"
    }
   ],
   "source": [
    "# Проверяем\n",
    "score_game(game_core_v3)"
   ]
  },
  {
   "cell_type": "markdown",
   "metadata": {},
   "source": [
    "### Алгоритм поиска заданного числа - берется середина диапазона поиска, который сужается на каждой следующей итерации\n",
    "Учитывает информацию о том, что середина диапазона поиска больше или меньше нужного на каждой итерации и в сужает диапозон для следующей. На кажой итерации диапазон уменьшается вдвое, что обеспечивает большую и стабильную скорость поиска."
   ]
  },
  {
   "cell_type": "code",
   "execution_count": 11,
   "metadata": {},
   "outputs": [],
   "source": [
    "def game_core_v4(number: int) -> int:\n",
    "    \"\"\"В бесконечном цикле берем число - середину диапазона [lower_limit, upper_limit] и проверяем. \n",
    "    Если это загаданное число, то возвращаем число попыток. Если загаданное чило больше, \n",
    "    то сдвигаем нижнюю границу lower_limit. Если меньше - верхнюю upper_limit. \n",
    "    На первой итерации этот диапазон равен от 1 до 100. Далее на каждой итерации цикла диапазон будет уменьшаться.\n",
    "    \n",
    "    Функция принимает загаданное число и возвращает число попыток.\n",
    "    Если алгоритм работаем слишком долго, то функция возвращает -1 (ошибку).\n",
    "    \n",
    "    \"\"\"\n",
    "    count = 0\n",
    "    lower_limit = 1\n",
    "    upper_limit = 100\n",
    "        \n",
    "    while True:\n",
    "        # Если алгоритм работает аномально долго, то возвращаем ошибку\n",
    "        if count > 10000: return -1\n",
    "        count += 1\n",
    "        \n",
    "        # Берем середину диапазона и делаем по нему проверку. Если не подходит, то сужаем диапазон.\n",
    "        predict = (lower_limit + upper_limit) // 2\n",
    "        if number == predict: \n",
    "            return count \n",
    "        elif number > predict:\n",
    "            lower_limit = predict + 1\n",
    "        elif number < predict: \n",
    "            upper_limit = predict - 1"
   ]
  },
  {
   "cell_type": "code",
   "execution_count": 12,
   "metadata": {},
   "outputs": [
    {
     "name": "stdout",
     "output_type": "stream",
     "text": [
      "Ваш алгоритм угадывает число в среднем за 5 попыток\n"
     ]
    },
    {
     "data": {
      "text/plain": [
       "5"
      ]
     },
     "execution_count": 12,
     "metadata": {},
     "output_type": "execute_result"
    }
   ],
   "source": [
    "# Проверяем\n",
    "score_game(game_core_v4)"
   ]
  }
 ],
 "metadata": {
  "kernelspec": {
   "display_name": "Python 3",
   "language": "python",
   "name": "python3"
  },
  "language_info": {
   "codemirror_mode": {
    "name": "ipython",
    "version": 3
   },
   "file_extension": ".py",
   "mimetype": "text/x-python",
   "name": "python",
   "nbconvert_exporter": "python",
   "pygments_lexer": "ipython3",
   "version": "3.6.6"
  }
 },
 "nbformat": 4,
 "nbformat_minor": 2
}
