{
 "cells": [
  {
   "cell_type": "code",
   "execution_count": 22,
   "metadata": {},
   "outputs": [],
   "source": [
    "import numpy as np\n",
    "\n",
    "\n",
    "def score_game(game_core):\n",
    "    '''Запускаем игру number_of_games раз, чтобы узнать, как быстро игра угадывает число'''\n",
    "    number_of_games = 1000\n",
    "    count_ls = []\n",
    "    \n",
    "    np.random.seed(1)  # фиксируем RANDOM SEED, чтобы ваш эксперимент был воспроизводим!\n",
    "    random_array = np.random.randint(1,101, size=(number_of_games))\n",
    "    for number in random_array:\n",
    "        count_ls.append(game_core(number))\n",
    "    score = int(np.mean(count_ls))\n",
    "    \n",
    "    print(f\"Ваш алгоритм угадывает число в среднем за {score} попыток\")\n",
    "    return(score)"
   ]
  },
  {
   "cell_type": "code",
   "execution_count": 26,
   "metadata": {},
   "outputs": [],
   "source": [
    "def game_core_manual(number: int) -> int:\n",
    "    '''В бесконечном цикле просим угадать загаданное число и ввести его. \n",
    "       В качестве ответа говорим, что или угадал, или информацию о том, \n",
    "       больше или меньше загаданное число'''\n",
    "    count = 0\n",
    "    while True:                        \n",
    "        predict = int(input(\"Угадай число: \"))\n",
    "        count += 1\n",
    "        if number == predict: \n",
    "            print (f\"Вы угадали число {number} за {count} попыток.\")\n",
    "            return count # выход из цикла, если угадали\n",
    "        elif number > predict: print (f\"Угадываемое число больше {predict} \")\n",
    "        elif number < predict: print (f\"Угадываемое число меньше {predict} \")    "
   ]
  },
  {
   "cell_type": "code",
   "execution_count": 31,
   "metadata": {},
   "outputs": [],
   "source": [
    "# Можно запустить игру с ручным поиском загаднного числа, но это слишком долго\n",
    "# score_game(game_core_v0)"
   ]
  },
  {
   "cell_type": "code",
   "execution_count": 29,
   "metadata": {},
   "outputs": [],
   "source": [
    "def game_core_v0(number: int) -> int:\n",
    "    '''Перебираем все числа от 1 до 100 и проверяем угадили число или нет '''\n",
    "    for count in range(1,101):\n",
    "        if number == count: \n",
    "            return count"
   ]
  },
  {
   "cell_type": "code",
   "execution_count": 30,
   "metadata": {},
   "outputs": [
    {
     "name": "stdout",
     "output_type": "stream",
     "text": [
      "Ваш алгоритм угадывает число в среднем за 50 попыток\n"
     ]
    },
    {
     "data": {
      "text/plain": [
       "50"
      ]
     },
     "execution_count": 30,
     "metadata": {},
     "output_type": "execute_result"
    }
   ],
   "source": [
    "# запускаем\n",
    "score_game(game_core_v0)"
   ]
  },
  {
   "cell_type": "code",
   "execution_count": 32,
   "metadata": {},
   "outputs": [],
   "source": [
    "def game_core_v1(number: int) -> int:\n",
    "    '''Просто угадываем на random, никак не используя информацию о больше или меньше.\n",
    "       Функция принимает загаданное число и возвращает число попыток'''\n",
    "    count = 0\n",
    "    while True:\n",
    "        count+=1\n",
    "        predict = np.random.randint(1,101) # предполагаемое число\n",
    "        if number == predict: \n",
    "            return(count) # выход из цикла, если угадали"
   ]
  },
  {
   "cell_type": "code",
   "execution_count": 33,
   "metadata": {},
   "outputs": [
    {
     "name": "stdout",
     "output_type": "stream",
     "text": [
      "Ваш алгоритм угадывает число в среднем за 101 попыток\n"
     ]
    },
    {
     "data": {
      "text/plain": [
       "101"
      ]
     },
     "execution_count": 33,
     "metadata": {},
     "output_type": "execute_result"
    }
   ],
   "source": [
    "# запускаем\n",
    "score_game(game_core_v1)"
   ]
  },
  {
   "cell_type": "code",
   "execution_count": 7,
   "metadata": {},
   "outputs": [],
   "source": [
    "def game_core_v2(number: int) -> int:\n",
    "    '''Сначала устанавливаем любое random число, а потом уменьшаем или увеличиваем его\n",
    "       в зависимости от того, больше оно или меньше нужного.\n",
    "       Функция принимает загаданное число и возвращает число попыток'''\n",
    "    count = 1\n",
    "    predict = np.random.randint(1,101)\n",
    "    while number != predict:\n",
    "        count+=1\n",
    "        if number > predict: \n",
    "            predict += 1\n",
    "        elif number < predict: \n",
    "            predict -= 1\n",
    "    return(count) # выход из цикла, если угадали"
   ]
  },
  {
   "cell_type": "code",
   "execution_count": 24,
   "metadata": {
    "scrolled": true
   },
   "outputs": [
    {
     "name": "stdout",
     "output_type": "stream",
     "text": [
      "Ваш алгоритм угадывает число в среднем за 33 попыток\n"
     ]
    },
    {
     "data": {
      "text/plain": [
       "33"
      ]
     },
     "execution_count": 24,
     "metadata": {},
     "output_type": "execute_result"
    }
   ],
   "source": [
    "# Проверяем\n",
    "score_game(game_core_v2)"
   ]
  },
  {
   "cell_type": "code",
   "execution_count": 52,
   "metadata": {},
   "outputs": [],
   "source": [
    "def game_core_v3(number: int) -> int:\n",
    "    '''В бесконечном цикле берем random число из диапазона [lower_limit, upper_limit].\n",
    "       и проверяем. Если это загаданное число, то возвращаем число попыток. \n",
    "       Если загаданное чило больше, то сдвигаем нижнюю границу lower_limit. Если меньше, то верхнюю upper_limit.  \n",
    "       На первой итерации этот диапазон равен от 1 до 100. На каждой итерации цикла диапазон будет уменьшаться.\n",
    "       Функция принимает загаданное число и возвращает число попыток'''\n",
    "    count = 0\n",
    "    lower_limit = 1\n",
    "    upper_limit = 100\n",
    "        \n",
    "    while True:\n",
    "        predict = np.random.randint(lower_limit, upper_limit + 1)\n",
    "        count += 1\n",
    "        if count > 10000:\n",
    "            return None\n",
    "        if number == predict: \n",
    "            return count # выход из цикла, если угадали\n",
    "        elif number > predict:\n",
    "            lower_limit = predict + 1\n",
    "        elif number < predict: \n",
    "            upper_limit = predict - 1\n"
   ]
  },
  {
   "cell_type": "code",
   "execution_count": 53,
   "metadata": {},
   "outputs": [
    {
     "name": "stdout",
     "output_type": "stream",
     "text": [
      "Ваш алгоритм угадывает число в среднем за 7 попыток\n"
     ]
    },
    {
     "data": {
      "text/plain": [
       "7"
      ]
     },
     "execution_count": 53,
     "metadata": {},
     "output_type": "execute_result"
    }
   ],
   "source": [
    "# Проверяем\n",
    "score_game(game_core_v3)"
   ]
  },
  {
   "cell_type": "code",
   "execution_count": 56,
   "metadata": {},
   "outputs": [],
   "source": [
    "def game_core_v4(number: int) -> int:\n",
    "    '''В бесконечном цикле берем число из середины диапазона [lower_limit, upper_limit].\n",
    "       и проверяем. Если это загаданное число, то возвращаем число попыток. \n",
    "       Если загаданное чило больше, то сдвигаем нижнюю границу lower_limit. Если меньше, то верхнюю upper_limit.  \n",
    "       На первой итерации этот диапазон равен от 1 до 100. На каждой итерации цикла диапазон будет уменьшаться.\n",
    "       Функция принимает загаданное число и возвращает число попыток'''\n",
    "    count = 0\n",
    "    lower_limit = 1\n",
    "    upper_limit = 100\n",
    "        \n",
    "    while True:\n",
    "        predict = (lower_limit + upper_limit) // 2\n",
    "        count += 1\n",
    "        if count > 10000:\n",
    "            print(predict, lower_limit, upper_limit, number)\n",
    "            return None\n",
    "        if number == predict: \n",
    "            return count # выход из цикла, если угадали\n",
    "        elif number > predict:\n",
    "            lower_limit = predict + 1\n",
    "        elif number < predict: \n",
    "            upper_limit = predict - 1"
   ]
  },
  {
   "cell_type": "code",
   "execution_count": 57,
   "metadata": {},
   "outputs": [
    {
     "name": "stdout",
     "output_type": "stream",
     "text": [
      "Ваш алгоритм угадывает число в среднем за 5 попыток\n"
     ]
    },
    {
     "data": {
      "text/plain": [
       "5"
      ]
     },
     "execution_count": 57,
     "metadata": {},
     "output_type": "execute_result"
    }
   ],
   "source": [
    "# Проверяем\n",
    "score_game(game_core_v4)"
   ]
  }
 ],
 "metadata": {
  "kernelspec": {
   "display_name": "Python 3",
   "language": "python",
   "name": "python3"
  },
  "language_info": {
   "codemirror_mode": {
    "name": "ipython",
    "version": 3
   },
   "file_extension": ".py",
   "mimetype": "text/x-python",
   "name": "python",
   "nbconvert_exporter": "python",
   "pygments_lexer": "ipython3",
   "version": "3.6.6"
  }
 },
 "nbformat": 4,
 "nbformat_minor": 2
}
