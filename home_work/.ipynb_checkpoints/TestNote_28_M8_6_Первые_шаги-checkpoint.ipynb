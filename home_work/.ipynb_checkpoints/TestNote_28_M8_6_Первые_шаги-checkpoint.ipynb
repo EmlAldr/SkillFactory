{
 "cells": [
  {
   "cell_type": "markdown",
   "metadata": {},
   "source": [
    "# \"Первые шаги\""
   ]
  },
  {
   "cell_type": "code",
   "execution_count": 1,
   "metadata": {
    "ExecuteTime": {
     "end_time": "2019-08-11T16:38:24.515634Z",
     "start_time": "2019-08-11T16:38:22.013322Z"
    }
   },
   "outputs": [],
   "source": [
    "import numpy as np, pandas as pd\n",
    "import matplotlib.pyplot as plt"
   ]
  },
  {
   "cell_type": "code",
   "execution_count": 2,
   "metadata": {
    "ExecuteTime": {
     "end_time": "2019-08-11T16:38:27.710187Z",
     "start_time": "2019-08-11T16:38:27.679268Z"
    }
   },
   "outputs": [
    {
     "data": {
      "text/html": [
       "<div>\n",
       "<style scoped>\n",
       "    .dataframe tbody tr th:only-of-type {\n",
       "        vertical-align: middle;\n",
       "    }\n",
       "\n",
       "    .dataframe tbody tr th {\n",
       "        vertical-align: top;\n",
       "    }\n",
       "\n",
       "    .dataframe thead th {\n",
       "        text-align: right;\n",
       "    }\n",
       "</style>\n",
       "<table border=\"1\" class=\"dataframe\">\n",
       "  <thead>\n",
       "    <tr style=\"text-align: right;\">\n",
       "      <th></th>\n",
       "      <th>ts</th>\n",
       "      <th>serialNo</th>\n",
       "      <th>home</th>\n",
       "      <th>batteryVoltageMilliV</th>\n",
       "      <th>insideTemperatureCentiC</th>\n",
       "      <th>humidityMilliPerc</th>\n",
       "    </tr>\n",
       "  </thead>\n",
       "  <tbody>\n",
       "    <tr>\n",
       "      <th>0</th>\n",
       "      <td>2018-10-01</td>\n",
       "      <td>VA4202760704</td>\n",
       "      <td>165132</td>\n",
       "      <td>2787.1310</td>\n",
       "      <td>1953.0737</td>\n",
       "      <td>575.49180</td>\n",
       "    </tr>\n",
       "    <tr>\n",
       "      <th>1</th>\n",
       "      <td>2018-10-02</td>\n",
       "      <td>VA4202760704</td>\n",
       "      <td>165132</td>\n",
       "      <td>2786.1047</td>\n",
       "      <td>1901.0000</td>\n",
       "      <td>550.63710</td>\n",
       "    </tr>\n",
       "    <tr>\n",
       "      <th>2</th>\n",
       "      <td>2018-10-03</td>\n",
       "      <td>VA4202760704</td>\n",
       "      <td>165132</td>\n",
       "      <td>2784.6934</td>\n",
       "      <td>1878.0369</td>\n",
       "      <td>550.09204</td>\n",
       "    </tr>\n",
       "    <tr>\n",
       "      <th>3</th>\n",
       "      <td>2018-10-04</td>\n",
       "      <td>VA4202760704</td>\n",
       "      <td>165132</td>\n",
       "      <td>2773.3500</td>\n",
       "      <td>1976.9114</td>\n",
       "      <td>583.65820</td>\n",
       "    </tr>\n",
       "    <tr>\n",
       "      <th>4</th>\n",
       "      <td>2018-10-05</td>\n",
       "      <td>VA4202760704</td>\n",
       "      <td>165132</td>\n",
       "      <td>2776.4314</td>\n",
       "      <td>2041.4010</td>\n",
       "      <td>589.74110</td>\n",
       "    </tr>\n",
       "  </tbody>\n",
       "</table>\n",
       "</div>"
      ],
      "text/plain": [
       "           ts      serialNo    home  batteryVoltageMilliV  \\\n",
       "0  2018-10-01  VA4202760704  165132             2787.1310   \n",
       "1  2018-10-02  VA4202760704  165132             2786.1047   \n",
       "2  2018-10-03  VA4202760704  165132             2784.6934   \n",
       "3  2018-10-04  VA4202760704  165132             2773.3500   \n",
       "4  2018-10-05  VA4202760704  165132             2776.4314   \n",
       "\n",
       "   insideTemperatureCentiC  humidityMilliPerc  \n",
       "0                1953.0737          575.49180  \n",
       "1                1901.0000          550.63710  \n",
       "2                1878.0369          550.09204  \n",
       "3                1976.9114          583.65820  \n",
       "4                2041.4010          589.74110  "
      ]
     },
     "execution_count": 2,
     "metadata": {},
     "output_type": "execute_result"
    }
   ],
   "source": [
    "df = pd.read_csv('../data/srt_data.csv')\n",
    "df.head()"
   ]
  },
  {
   "cell_type": "code",
   "execution_count": 3,
   "metadata": {
    "ExecuteTime": {
     "end_time": "2019-08-11T16:38:42.642291Z",
     "start_time": "2019-08-11T16:38:42.637304Z"
    }
   },
   "outputs": [
    {
     "data": {
      "text/plain": [
       "(4824, 6)"
      ]
     },
     "execution_count": 3,
     "metadata": {},
     "output_type": "execute_result"
    }
   ],
   "source": [
    "df.shape"
   ]
  },
  {
   "cell_type": "code",
   "execution_count": 4,
   "metadata": {
    "ExecuteTime": {
     "end_time": "2019-08-11T16:39:17.259008Z",
     "start_time": "2019-08-11T16:39:17.253024Z"
    }
   },
   "outputs": [
    {
     "name": "stdout",
     "output_type": "stream",
     "text": [
      "df.ts.min() = 2018-10-01\n",
      "df.ts.max() = 2019-04-30\n"
     ]
    }
   ],
   "source": [
    "print(f'df.ts.min() = {df.ts.min()}')\n",
    "print(f'df.ts.max() = {df.ts.max()}')"
   ]
  },
  {
   "cell_type": "code",
   "execution_count": 5,
   "metadata": {
    "ExecuteTime": {
     "end_time": "2019-08-11T16:39:40.369262Z",
     "start_time": "2019-08-11T16:39:40.360290Z"
    }
   },
   "outputs": [
    {
     "data": {
      "text/plain": [
       "ts                         0\n",
       "serialNo                   0\n",
       "home                       0\n",
       "batteryVoltageMilliV       3\n",
       "insideTemperatureCentiC    2\n",
       "humidityMilliPerc          0\n",
       "dtype: int64"
      ]
     },
     "execution_count": 5,
     "metadata": {},
     "output_type": "execute_result"
    }
   ],
   "source": [
    "df.isna().sum()"
   ]
  },
  {
   "cell_type": "code",
   "execution_count": 6,
   "metadata": {
    "ExecuteTime": {
     "end_time": "2019-08-11T16:40:39.218359Z",
     "start_time": "2019-08-11T16:40:39.212375Z"
    }
   },
   "outputs": [
    {
     "data": {
      "text/plain": [
       "8"
      ]
     },
     "execution_count": 6,
     "metadata": {},
     "output_type": "execute_result"
    }
   ],
   "source": [
    "df.home.nunique()"
   ]
  },
  {
   "cell_type": "code",
   "execution_count": 7,
   "metadata": {
    "ExecuteTime": {
     "end_time": "2019-08-11T16:40:49.799134Z",
     "start_time": "2019-08-11T16:40:49.793149Z"
    }
   },
   "outputs": [
    {
     "data": {
      "text/plain": [
       "array([165132, 174376,  29473, 234419, 193000, 213528, 251841, 300551])"
      ]
     },
     "execution_count": 7,
     "metadata": {},
     "output_type": "execute_result"
    }
   ],
   "source": [
    "df.home.unique()"
   ]
  },
  {
   "cell_type": "code",
   "execution_count": 8,
   "metadata": {
    "ExecuteTime": {
     "end_time": "2019-08-11T16:41:02.362659Z",
     "start_time": "2019-08-11T16:41:02.357672Z"
    }
   },
   "outputs": [
    {
     "data": {
      "text/plain": [
       "25"
      ]
     },
     "execution_count": 8,
     "metadata": {},
     "output_type": "execute_result"
    }
   ],
   "source": [
    "df.serialNo.nunique()"
   ]
  },
  {
   "cell_type": "code",
   "execution_count": 9,
   "metadata": {
    "ExecuteTime": {
     "end_time": "2019-08-11T16:41:46.647505Z",
     "start_time": "2019-08-11T16:41:46.429090Z"
    }
   },
   "outputs": [
    {
     "data": {
      "text/plain": [
       "<matplotlib.axes._subplots.AxesSubplot at 0x7fc7029d4b70>"
      ]
     },
     "execution_count": 9,
     "metadata": {},
     "output_type": "execute_result"
    },
    {
     "data": {
      "image/png": "[encoded data removed]",
      "text/plain": [
       "<Figure size 432x288 with 1 Axes>"
      ]
     },
     "metadata": {
      "needs_background": "light"
     },
     "output_type": "display_data"
    }
   ],
   "source": [
    "df.plot('ts', 'batteryVoltageMilliV')"
   ]
  },
  {
   "cell_type": "code",
   "execution_count": 10,
   "metadata": {
    "ExecuteTime": {
     "end_time": "2019-08-11T16:42:19.137839Z",
     "start_time": "2019-08-11T16:42:19.124872Z"
    }
   },
   "outputs": [
    {
     "data": {
      "text/html": [
       "<div>\n",
       "<style scoped>\n",
       "    .dataframe tbody tr th:only-of-type {\n",
       "        vertical-align: middle;\n",
       "    }\n",
       "\n",
       "    .dataframe tbody tr th {\n",
       "        vertical-align: top;\n",
       "    }\n",
       "\n",
       "    .dataframe thead th {\n",
       "        text-align: right;\n",
       "    }\n",
       "</style>\n",
       "<table border=\"1\" class=\"dataframe\">\n",
       "  <thead>\n",
       "    <tr style=\"text-align: right;\">\n",
       "      <th></th>\n",
       "      <th>ts</th>\n",
       "      <th>serialNo</th>\n",
       "      <th>home</th>\n",
       "      <th>batteryVoltageMilliV</th>\n",
       "      <th>insideTemperatureCentiC</th>\n",
       "      <th>humidityMilliPerc</th>\n",
       "    </tr>\n",
       "  </thead>\n",
       "  <tbody>\n",
       "    <tr>\n",
       "      <th>10</th>\n",
       "      <td>2018-10-11</td>\n",
       "      <td>VA4202760704</td>\n",
       "      <td>165132</td>\n",
       "      <td>NaN</td>\n",
       "      <td>2135.1000</td>\n",
       "      <td>657.02356</td>\n",
       "    </tr>\n",
       "    <tr>\n",
       "      <th>11</th>\n",
       "      <td>2018-10-12</td>\n",
       "      <td>VA4202760704</td>\n",
       "      <td>165132</td>\n",
       "      <td>NaN</td>\n",
       "      <td>2138.1677</td>\n",
       "      <td>676.12256</td>\n",
       "    </tr>\n",
       "    <tr>\n",
       "      <th>12</th>\n",
       "      <td>2018-10-13</td>\n",
       "      <td>VA4202760704</td>\n",
       "      <td>165132</td>\n",
       "      <td>NaN</td>\n",
       "      <td>2080.6738</td>\n",
       "      <td>653.83685</td>\n",
       "    </tr>\n",
       "  </tbody>\n",
       "</table>\n",
       "</div>"
      ],
      "text/plain": [
       "            ts      serialNo    home  batteryVoltageMilliV  \\\n",
       "10  2018-10-11  VA4202760704  165132                   NaN   \n",
       "11  2018-10-12  VA4202760704  165132                   NaN   \n",
       "12  2018-10-13  VA4202760704  165132                   NaN   \n",
       "\n",
       "    insideTemperatureCentiC  humidityMilliPerc  \n",
       "10                2135.1000          657.02356  \n",
       "11                2138.1677          676.12256  \n",
       "12                2080.6738          653.83685  "
      ]
     },
     "execution_count": 10,
     "metadata": {},
     "output_type": "execute_result"
    }
   ],
   "source": [
    "df[df.batteryVoltageMilliV.isna()].head()"
   ]
  },
  {
   "cell_type": "code",
   "execution_count": 11,
   "metadata": {
    "ExecuteTime": {
     "end_time": "2019-08-11T16:42:45.261041Z",
     "start_time": "2019-08-11T16:42:45.249087Z"
    }
   },
   "outputs": [
    {
     "data": {
      "text/html": [
       "<div>\n",
       "<style scoped>\n",
       "    .dataframe tbody tr th:only-of-type {\n",
       "        vertical-align: middle;\n",
       "    }\n",
       "\n",
       "    .dataframe tbody tr th {\n",
       "        vertical-align: top;\n",
       "    }\n",
       "\n",
       "    .dataframe thead th {\n",
       "        text-align: right;\n",
       "    }\n",
       "</style>\n",
       "<table border=\"1\" class=\"dataframe\">\n",
       "  <thead>\n",
       "    <tr style=\"text-align: right;\">\n",
       "      <th></th>\n",
       "      <th>ts</th>\n",
       "      <th>serialNo</th>\n",
       "      <th>home</th>\n",
       "      <th>batteryVoltageMilliV</th>\n",
       "      <th>insideTemperatureCentiC</th>\n",
       "      <th>humidityMilliPerc</th>\n",
       "    </tr>\n",
       "  </thead>\n",
       "  <tbody>\n",
       "    <tr>\n",
       "      <th>23</th>\n",
       "      <td>2018-10-24</td>\n",
       "      <td>VA4202760704</td>\n",
       "      <td>165132</td>\n",
       "      <td>2750.4220</td>\n",
       "      <td>NaN</td>\n",
       "      <td>605.1256</td>\n",
       "    </tr>\n",
       "    <tr>\n",
       "      <th>24</th>\n",
       "      <td>2018-10-25</td>\n",
       "      <td>VA4202760704</td>\n",
       "      <td>165132</td>\n",
       "      <td>2750.6438</td>\n",
       "      <td>NaN</td>\n",
       "      <td>617.4750</td>\n",
       "    </tr>\n",
       "  </tbody>\n",
       "</table>\n",
       "</div>"
      ],
      "text/plain": [
       "            ts      serialNo    home  batteryVoltageMilliV  \\\n",
       "23  2018-10-24  VA4202760704  165132             2750.4220   \n",
       "24  2018-10-25  VA4202760704  165132             2750.6438   \n",
       "\n",
       "    insideTemperatureCentiC  humidityMilliPerc  \n",
       "23                      NaN           605.1256  \n",
       "24                      NaN           617.4750  "
      ]
     },
     "execution_count": 11,
     "metadata": {},
     "output_type": "execute_result"
    }
   ],
   "source": [
    "df[df.insideTemperatureCentiC.isna()].head()"
   ]
  },
  {
   "cell_type": "markdown",
   "metadata": {},
   "source": [
    "# Задания"
   ]
  },
  {
   "cell_type": "markdown",
   "metadata": {},
   "source": [
    "Выберите данные с датчика с серийным номером VA2170620672.\n",
    "\n",
    "Укажите максимальное значение напряжения на батарее (batteryVoltageMilliV)."
   ]
  },
  {
   "cell_type": "code",
   "execution_count": 12,
   "metadata": {},
   "outputs": [
    {
     "data": {
      "text/html": [
       "<div>\n",
       "<style scoped>\n",
       "    .dataframe tbody tr th:only-of-type {\n",
       "        vertical-align: middle;\n",
       "    }\n",
       "\n",
       "    .dataframe tbody tr th {\n",
       "        vertical-align: top;\n",
       "    }\n",
       "\n",
       "    .dataframe thead th {\n",
       "        text-align: right;\n",
       "    }\n",
       "</style>\n",
       "<table border=\"1\" class=\"dataframe\">\n",
       "  <thead>\n",
       "    <tr style=\"text-align: right;\">\n",
       "      <th></th>\n",
       "      <th>ts</th>\n",
       "      <th>serialNo</th>\n",
       "      <th>home</th>\n",
       "      <th>batteryVoltageMilliV</th>\n",
       "      <th>insideTemperatureCentiC</th>\n",
       "      <th>humidityMilliPerc</th>\n",
       "    </tr>\n",
       "  </thead>\n",
       "  <tbody>\n",
       "    <tr>\n",
       "      <th>0</th>\n",
       "      <td>2018-10-01</td>\n",
       "      <td>VA4202760704</td>\n",
       "      <td>165132</td>\n",
       "      <td>2787.1310</td>\n",
       "      <td>1953.0737</td>\n",
       "      <td>575.49180</td>\n",
       "    </tr>\n",
       "    <tr>\n",
       "      <th>1</th>\n",
       "      <td>2018-10-02</td>\n",
       "      <td>VA4202760704</td>\n",
       "      <td>165132</td>\n",
       "      <td>2786.1047</td>\n",
       "      <td>1901.0000</td>\n",
       "      <td>550.63710</td>\n",
       "    </tr>\n",
       "    <tr>\n",
       "      <th>2</th>\n",
       "      <td>2018-10-03</td>\n",
       "      <td>VA4202760704</td>\n",
       "      <td>165132</td>\n",
       "      <td>2784.6934</td>\n",
       "      <td>1878.0369</td>\n",
       "      <td>550.09204</td>\n",
       "    </tr>\n",
       "    <tr>\n",
       "      <th>3</th>\n",
       "      <td>2018-10-04</td>\n",
       "      <td>VA4202760704</td>\n",
       "      <td>165132</td>\n",
       "      <td>2773.3500</td>\n",
       "      <td>1976.9114</td>\n",
       "      <td>583.65820</td>\n",
       "    </tr>\n",
       "    <tr>\n",
       "      <th>4</th>\n",
       "      <td>2018-10-05</td>\n",
       "      <td>VA4202760704</td>\n",
       "      <td>165132</td>\n",
       "      <td>2776.4314</td>\n",
       "      <td>2041.4010</td>\n",
       "      <td>589.74110</td>\n",
       "    </tr>\n",
       "    <tr>\n",
       "      <th>...</th>\n",
       "      <td>...</td>\n",
       "      <td>...</td>\n",
       "      <td>...</td>\n",
       "      <td>...</td>\n",
       "      <td>...</td>\n",
       "      <td>...</td>\n",
       "    </tr>\n",
       "    <tr>\n",
       "      <th>4819</th>\n",
       "      <td>2018-11-04</td>\n",
       "      <td>VA2297627392</td>\n",
       "      <td>29473</td>\n",
       "      <td>2839.3096</td>\n",
       "      <td>2206.2460</td>\n",
       "      <td>546.30554</td>\n",
       "    </tr>\n",
       "    <tr>\n",
       "      <th>4820</th>\n",
       "      <td>2018-11-05</td>\n",
       "      <td>VA2297627392</td>\n",
       "      <td>29473</td>\n",
       "      <td>2837.7888</td>\n",
       "      <td>2283.2390</td>\n",
       "      <td>507.30124</td>\n",
       "    </tr>\n",
       "    <tr>\n",
       "      <th>4821</th>\n",
       "      <td>2018-11-06</td>\n",
       "      <td>VA2297627392</td>\n",
       "      <td>29473</td>\n",
       "      <td>2834.2258</td>\n",
       "      <td>2211.2030</td>\n",
       "      <td>531.17975</td>\n",
       "    </tr>\n",
       "    <tr>\n",
       "      <th>4822</th>\n",
       "      <td>2018-11-07</td>\n",
       "      <td>VA2297627392</td>\n",
       "      <td>29473</td>\n",
       "      <td>2832.5845</td>\n",
       "      <td>2289.9302</td>\n",
       "      <td>529.25730</td>\n",
       "    </tr>\n",
       "    <tr>\n",
       "      <th>4823</th>\n",
       "      <td>2018-11-08</td>\n",
       "      <td>VA2297627392</td>\n",
       "      <td>29473</td>\n",
       "      <td>2822.0774</td>\n",
       "      <td>2313.9124</td>\n",
       "      <td>522.14813</td>\n",
       "    </tr>\n",
       "  </tbody>\n",
       "</table>\n",
       "<p>4824 rows × 6 columns</p>\n",
       "</div>"
      ],
      "text/plain": [
       "              ts      serialNo    home  batteryVoltageMilliV  \\\n",
       "0     2018-10-01  VA4202760704  165132             2787.1310   \n",
       "1     2018-10-02  VA4202760704  165132             2786.1047   \n",
       "2     2018-10-03  VA4202760704  165132             2784.6934   \n",
       "3     2018-10-04  VA4202760704  165132             2773.3500   \n",
       "4     2018-10-05  VA4202760704  165132             2776.4314   \n",
       "...          ...           ...     ...                   ...   \n",
       "4819  2018-11-04  VA2297627392   29473             2839.3096   \n",
       "4820  2018-11-05  VA2297627392   29473             2837.7888   \n",
       "4821  2018-11-06  VA2297627392   29473             2834.2258   \n",
       "4822  2018-11-07  VA2297627392   29473             2832.5845   \n",
       "4823  2018-11-08  VA2297627392   29473             2822.0774   \n",
       "\n",
       "      insideTemperatureCentiC  humidityMilliPerc  \n",
       "0                   1953.0737          575.49180  \n",
       "1                   1901.0000          550.63710  \n",
       "2                   1878.0369          550.09204  \n",
       "3                   1976.9114          583.65820  \n",
       "4                   2041.4010          589.74110  \n",
       "...                       ...                ...  \n",
       "4819                2206.2460          546.30554  \n",
       "4820                2283.2390          507.30124  \n",
       "4821                2211.2030          531.17975  \n",
       "4822                2289.9302          529.25730  \n",
       "4823                2313.9124          522.14813  \n",
       "\n",
       "[4824 rows x 6 columns]"
      ]
     },
     "execution_count": 12,
     "metadata": {},
     "output_type": "execute_result"
    }
   ],
   "source": [
    "df.query('')"
   ]
  },
  {
   "cell_type": "code",
   "execution_count": null,
   "metadata": {},
   "outputs": [],
   "source": []
  },
  {
   "cell_type": "code",
   "execution_count": null,
   "metadata": {},
   "outputs": [],
   "source": []
  },
  {
   "cell_type": "code",
   "execution_count": null,
   "metadata": {},
   "outputs": [],
   "source": []
  }
 ],
 "metadata": {
  "kernelspec": {
   "display_name": "Python 3",
   "language": "python",
   "name": "python3"
  },
  "language_info": {
   "codemirror_mode": {
    "name": "ipython",
    "version": 3
   },
   "file_extension": ".py",
   "mimetype": "text/x-python",
   "name": "python",
   "nbconvert_exporter": "python",
   "pygments_lexer": "ipython3",
   "version": "3.6.6"
  },
  "toc": {
   "base_numbering": 1,
   "nav_menu": {},
   "number_sections": true,
   "sideBar": true,
   "skip_h1_title": false,
   "title_cell": "Table of Contents",
   "title_sidebar": "Contents",
   "toc_cell": false,
   "toc_position": {},
   "toc_section_display": true,
   "toc_window_display": false
  },
  "varInspector": {
   "cols": {
    "lenName": 16,
    "lenType": 16,
    "lenVar": 40
   },
   "kernels_config": {
    "python": {
     "delete_cmd_postfix": "",
     "delete_cmd_prefix": "del ",
     "library": "var_list.py",
     "varRefreshCmd": "print(var_dic_list())"
    },
    "r": {
     "delete_cmd_postfix": ") ",
     "delete_cmd_prefix": "rm(",
     "library": "var_list.r",
     "varRefreshCmd": "cat(var_dic_list()) "
    }
   },
   "types_to_exclude": [
    "module",
    "function",
    "builtin_function_or_method",
    "instance",
    "_Feature"
   ],
   "window_display": false
  }
 },
 "nbformat": 4,
 "nbformat_minor": 2
}
