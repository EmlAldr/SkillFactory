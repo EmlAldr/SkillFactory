{
 "cells": [
  {
   "cell_type": "markdown",
   "metadata": {},
   "source": [
    "# Алгоритмы SVD и ALS"
   ]
  },
  {
   "cell_type": "markdown",
   "metadata": {},
   "source": [
    "## SINGULAR VALUE DECOMPOSITION (SVD)\n",
    "\n",
    "В теореме о сингулярном разложении утверждается, что у любой матрицы размера × существует разложение в произведение трех матриц  $U,\\ \\Sigma,\\ V^{T}$:\n",
    "$$\\underset{n\\times m}{A} = \\underset{n\\times n}{U}\\times \\underset{n\\times m}{\\Sigma }\\times \\underset{m\\times m}{V^{T}}$$\n",
    "\n",
    "Матрицы $U$ и $V$ ортогональные, а $\\Sigma$ — диагональная.\n",
    "$$\\begin{equation}\\begin{array}{c} \\boldsymbol{U} \\boldsymbol{U}^{T}=\\boldsymbol{I}_{n}, \\quad \\boldsymbol{V} \\boldsymbol{V}^{T}=\\boldsymbol{I}_{m} \\\\ \\boldsymbol{\\Sigma}=\\operatorname{diag}\\left(\\lambda_{1}, \\ldots, \\lambda_{\\min (n, m)}\\right), \\quad \\lambda_{1} \\geqslant \\ldots \\geqslant \\lambda_{\\min (n, m)} \\geqslant 0 \\end{array}\\end{equation}$$\n",
    "\n",
    "Усеченное разложение — из лямбд остаются только первые чисел, остальные равны нулю.\n",
    "$$\\begin{equation}\\lambda_{d+1}, \\ldots, \\lambda_{\\min }(n, m):=0\\end{equation}$$\n",
    "\n",
    "Это равносильно тому, что у матриц $U$ и $V$ мы оставляем только первые $d$ столбцов, а матрицу $\\Sigma$ обрезаем до квадратной $d \\times d$.\n",
    "$$\\begin{equation}\\underset{n \\times m}{\\boldsymbol{A}^{\\prime}}=\\underset{n \\times d}{\\boldsymbol{U}^{\\prime}} \\times \\underset{d \\times d}{\\boldsymbol{\\Sigma}^{\\prime}} \\times\\underset{d \\times m}{ \\boldsymbol{V}^{\\prime T}}\\end{equation}$$\n",
    "\n",
    "Это было сингулярное разложение для матриц, теперь будем использовать его для наших рекомендаций.\n",
    "\n",
    "У нас была матрица, мы разложили её в произведение трёх (двух) матриц, причем разложили приблизительно. \n",
    "\n",
    "Теперь, чтобы предсказать оценку пользователя для фильма, нам нужно:\n",
    "- взять некоторый вектор (набор параметров) для данного пользователя; \n",
    "- взять вектор для данного фильма. \n",
    "\n",
    "Их скалярное произведение и будет нужным нам предсказанием:\n",
    "$$\\begin{equation}\\hat{r}_{u i}=\\left\\langle\\boldsymbol{p}_{u}, \\boldsymbol{q}_{i}\\right\\rangle\\end{equation}$$\n"
   ]
  },
  {
   "cell_type": "markdown",
   "metadata": {},
   "source": [
    "<img src=\"../images/ml9_7.png\" alt=\"Binary-cross-entropy\" width=\"600\" align=\"center\">"
   ]
  },
  {
   "cell_type": "markdown",
   "metadata": {},
   "source": [
    "То есть, чтобы предсказать оценку пользователю для фильма, мы берём вектор некоторых параметров для пользователя, потом берём вектор некоторых параметров для фильма и наше предсказание — это их скалярное произведение. "
   ]
  },
  {
   "cell_type": "markdown",
   "metadata": {},
   "source": [
    "Алгоритм достаточно простой, но даёт удивительно хорошие результаты.\n",
    "\n",
    "**Почему сразу не сделать SVD?**\n",
    "\n",
    "- матрица оценок нам полностью не известна;\n",
    "- SVD-разложение не единственное.\n",
    "\n",
    "\n",
    "У нас есть оценки пользователей, при помощи которых мы можем найти такие оптимальные параметры, при которых модель предсказывала бы эти оценки как можно лучше:\n",
    "$$\\begin{equation}\\mathbf{E}_{(u, i)}\\left(\\hat{r}_{u i}(\\Theta)-r_{u i}\\right)^{2} \\rightarrow \\min _{\\Theta}\\end{equation}$$\n",
    "\n",
    "Мы хотим найти такие параметры θ, чтобы квадрат ошибки был как можно меньше. \n",
    "\n",
    "→ Парадокс: мы хотим меньше ошибаться в будущем, но мы не знаем, какие оценки у нас будут спрашивать. И оптимизировать это мы не можем. \n",
    "\n",
    "Но нам известны уже проставленные пользователями оценки. Попробуем подобрать параметры так, чтобы на тех оценках, которые у нас уже есть, ошибка была как можно меньше:\n",
    "$$\\begin{equation}\\underbrace{\\sum_{(u, i) \\in \\mathcal{D}}\\left(\\hat{r}_{u i}(\\Theta)-r_{u i}\\right)^{2}}_{\\text {качество на обучающей выборке }}+\\underbrace{\\lambda \\sum_{\\theta \\in \\Theta} \\theta^{2}}_{\\text {регуляризация }} \\rightarrow \\min _{\\Theta}\\end{equation}$$\n"
   ]
  },
  {
   "cell_type": "markdown",
   "metadata": {},
   "source": [
    "## ALTERNATING LEAST SQUARES (ALS)\n",
    "\n",
    "ALS — итеративный алгоритм разложения матрицы предпочтений на произведение двух матриц: \n",
    "\n",
    "- факторов пользователей (U);\n",
    "- факторов товаров (I).\n",
    "\n",
    "Работает по принципу минимизации среднеквадратичной ошибки на проставленных рейтингах. "
   ]
  },
  {
   "cell_type": "markdown",
   "metadata": {},
   "source": [
    "<img src=\"../images/ml9_9_1.png\" alt=\"Binary-cross-entropy\" width=\"700\" align=\"center\">"
   ]
  },
  {
   "cell_type": "markdown",
   "metadata": {},
   "source": [
    "Оптимизация происходит поочерёдно:\n",
    "\n",
    "- сначала по факторам пользователей;\n",
    "- затем по факторам товаров.\n",
    "\n",
    "Для обхода переобучения, к ошибке добавляются регуляризационные коэффициенты.\n",
    "\n",
    "**А ЕСЛИ ПРЕДПОЧТЕНИЯ МЕНЯЮТСЯ?**\n",
    "\n",
    "- Матрица предпочтений отражает предпочтения «в плоскости».\n",
    "- Матрица предпочтений не отражает изменения предпочтений во времени.\n",
    "- Матрица предпочтений не учитывает близость продуктов по  составу/цели/назначению."
   ]
  },
  {
   "cell_type": "markdown",
   "metadata": {},
   "source": [
    "## ЗАДАНИЕ\n",
    "\n",
    "В следующем задании вам необходимо будет написать свою имплементацию SVD-разложения. Но сначала разберём по шагам, как это сделать.\n",
    "\n",
    "### Шаг 1. \n",
    "Создадим матрицу 'пользователь-фильм', на которой будем практиковаться с SVD-разложением."
   ]
  },
  {
   "cell_type": "code",
   "execution_count": 9,
   "metadata": {},
   "outputs": [],
   "source": [
    "import numpy as np\n",
    "from scipy import linalg"
   ]
  },
  {
   "cell_type": "code",
   "execution_count": 4,
   "metadata": {},
   "outputs": [],
   "source": [
    "user_movie_matrix = np.array(((1,5,0,5,4), (5,4,4,3,2), (0,4,0,0,5), (4,4,1,4,0), (0,4,3,5,0), (2,4,3,5,3)))"
   ]
  },
  {
   "cell_type": "markdown",
   "metadata": {},
   "source": [
    "### Шаг 2. \n",
    "Сингулярное разложение матрицы — это некое новое представление исходной матрицы, которое отображено в сингулярных числах и сингулярных векторах. Так выглядит формула сингулярного разложения:\n",
    "$$M \\Sigma U$$\n",
    "\n",
    "где $M$ — исходная матрица 'пользователь-фильм'; $\\Sigma$ — матрица, на диагонали которой лежат сингулярные числа, а вне диагонали нули; $U$ — матрица-представление пользователей; $V$ — матрица-представление фильмов. \n",
    "\n",
    "### Шаг 3. \n",
    "Нам важно понимать, что в лице матриц $U$ и $V$ мы получаем новое представление пользователей и фильмов соответственно. Мы не будем заставлять вас с нуля рассчитывать сингулярные числа и сингулярные векторы, воспользуемся встроенной функцией библиотеки scipy: \n",
    "\n",
    "U, s, V = scipy.linalg.svd(M) "
   ]
  },
  {
   "cell_type": "markdown",
   "metadata": {},
   "source": [
    "Задание 9.7.1\n",
    "\n",
    "При помощи библиотеки scipy проведите SVD-разложение матрицы user_movie_matrix. Введите в ответ вторую координату полученного вектора  (без округления)."
   ]
  },
  {
   "cell_type": "code",
   "execution_count": 12,
   "metadata": {},
   "outputs": [],
   "source": [
    "U, s, V = linalg.svd(user_movie_matrix) "
   ]
  },
  {
   "cell_type": "code",
   "execution_count": 13,
   "metadata": {},
   "outputs": [
    {
     "data": {
      "text/plain": [
       "array([16.46644354,  6.21001334,  4.39908461,  2.90336429,  1.58445634])"
      ]
     },
     "execution_count": 13,
     "metadata": {},
     "output_type": "execute_result"
    }
   ],
   "source": [
    "s"
   ]
  },
  {
   "cell_type": "code",
   "execution_count": 17,
   "metadata": {},
   "outputs": [
    {
     "data": {
      "text/plain": [
       "(6, 5)"
      ]
     },
     "metadata": {},
     "output_type": "display_data"
    },
    {
     "data": {
      "text/plain": [
       "(6, 6)"
      ]
     },
     "metadata": {},
     "output_type": "display_data"
    },
    {
     "data": {
      "text/plain": [
       "(5,)"
      ]
     },
     "metadata": {},
     "output_type": "display_data"
    },
    {
     "data": {
      "text/plain": [
       "(5, 5)"
      ]
     },
     "metadata": {},
     "output_type": "display_data"
    }
   ],
   "source": [
    "display(user_movie_matrix.shape)\n",
    "display(U.shape)\n",
    "display(s.shape)\n",
    "display(V.shape)"
   ]
  },
  {
   "cell_type": "markdown",
   "metadata": {},
   "source": [
    "На этом этапе мы получили новое матричное представление пользователей и фильмов. Заметим, что размерность нашего разложения совпадает с размерностью исходной матрицы. \n",
    "\n",
    "На практике обычно используют сокращенное представление, так как SVD-алгоритм обладает свойством уменьшения размерности без значительной потери информации. На больших матрицах 1 000 000 x 1 000 000 это особенно ощутимо. \n",
    "\n",
    "Чтобы сократить размерность, например до двух компонент, необходимо взять по две первых строки из каждой матрицы-представления. "
   ]
  },
  {
   "cell_type": "markdown",
   "metadata": {},
   "source": [
    "Извлеките из матричных представлений первые две строки и сохраните их. Все дальнейшие действия будут производиться с ними."
   ]
  },
  {
   "cell_type": "code",
   "execution_count": 20,
   "metadata": {},
   "outputs": [],
   "source": [
    "U_new = U[:2, :]\n",
    "V_new = V[:2, :]"
   ]
  },
  {
   "cell_type": "markdown",
   "metadata": {},
   "source": [
    "SVD-разложение на две компоненты произведено. Теперь посмотрим, какой фильм наше новое представление порекомендует в первую очередь для существующего пользователя.\n",
    "\n",
    "Из исходной матрицы выберем вторую строчку (пользователь №2) — user_2.\n",
    "\n",
    "Важно! Имеется в виду именно индекс (то есть это третья строчка, если считать первую строку первой, а не нулевой).\n",
    "\n",
    "\n",
    "\n",
    "Чтобы перевести пользователя в новое представление сниженной размерности, необходимо его исходный вектор умножить на транспонированную матрицу-представление фильмов.\n",
    "$$lowdim = user\\_2 V^{T}$$"
   ]
  },
  {
   "cell_type": "markdown",
   "metadata": {},
   "source": [
    "Задание 9.7.2\n",
    "\n",
    "Введите вторую координату полученного вектора $lowdim$."
   ]
  },
  {
   "cell_type": "code",
   "execution_count": 30,
   "metadata": {},
   "outputs": [
    {
     "data": {
      "text/plain": [
       "array([-4.09679486,  4.68635611])"
      ]
     },
     "execution_count": 30,
     "metadata": {},
     "output_type": "execute_result"
    }
   ],
   "source": [
    "user_2 = user_movie_matrix[2, :]\n",
    "\n",
    "lowdim = np.dot(user_2, V_new.T)\n",
    "lowdim"
   ]
  },
  {
   "cell_type": "markdown",
   "metadata": {},
   "source": [
    "### Финальный шаг. \n",
    "Необходимо произвести обратную трансформацию вектора в вектор оценок фильмов (т. е. в исходное представление фильмов). Для этого необходимо представление пользователя сниженной размерности умножить на матрицу-представление фильмов: $inversed\\_transformation=lowdim V$"
   ]
  },
  {
   "cell_type": "code",
   "execution_count": 32,
   "metadata": {},
   "outputs": [
    {
     "data": {
      "text/plain": [
       "array([-0.6096677 ,  3.54684982, -0.57140075,  1.15887633,  4.9116525 ])"
      ]
     },
     "execution_count": 32,
     "metadata": {},
     "output_type": "execute_result"
    }
   ],
   "source": [
    "inversed_transformation = np.dot(lowdim, V_new)\n",
    "inversed_transformation"
   ]
  },
  {
   "cell_type": "code",
   "execution_count": 34,
   "metadata": {},
   "outputs": [
    {
     "data": {
      "text/plain": [
       "array([0, 4, 0, 0, 5])"
      ]
     },
     "execution_count": 34,
     "metadata": {},
     "output_type": "execute_result"
    }
   ],
   "source": [
    "user_2"
   ]
  },
  {
   "cell_type": "markdown",
   "metadata": {},
   "source": [
    "Задание 9.7.3\n",
    "\n",
    "1. Произведите обратную трансформацию вектора сниженной размерности в исходное пространство оценок. Теперь мы получили новый вектор оценок для пользователя №2 (обратите внимание на незначительное изменение оценок фильмов, которые этот пользователь действительно посмотрел). Укажите индекс непросмотренного пользователем №2 фильма, который имеет наибольшую оценку."
   ]
  },
  {
   "cell_type": "markdown",
   "metadata": {},
   "source": [
    "2. Найдите модуль разности настоящей оценки для фильма с индексом 4 и предсказания. В ответе укажите результат, округлённый до трёх знаков после точки-разделителя."
   ]
  },
  {
   "cell_type": "code",
   "execution_count": 38,
   "metadata": {},
   "outputs": [
    {
     "data": {
      "text/plain": [
       "0.088"
      ]
     },
     "execution_count": 38,
     "metadata": {},
     "output_type": "execute_result"
    }
   ],
   "source": [
    "i = 4\n",
    "round(np.abs(user_2 - inversed_transformation)[i], 3)"
   ]
  },
  {
   "cell_type": "markdown",
   "metadata": {},
   "source": [
    "3. А теперь давайте проверим наше SVD-разложение на новом пользователе. Выведите индекс непросмотренного новым пользователем фильма, который имеет наибольшую оценку. При этом новый пользователь что-то успел посмотреть:"
   ]
  },
  {
   "cell_type": "code",
   "execution_count": 39,
   "metadata": {},
   "outputs": [],
   "source": [
    "new_user = np.array((0, 0, 3, 4, 0))"
   ]
  },
  {
   "cell_type": "code",
   "execution_count": 40,
   "metadata": {},
   "outputs": [
    {
     "data": {
      "text/plain": [
       "array([ 1.88933495,  1.46416086,  1.72840648,  2.3739358 , -0.58706807])"
      ]
     },
     "execution_count": 40,
     "metadata": {},
     "output_type": "execute_result"
    }
   ],
   "source": [
    "new_lowdim = np.dot(new_user, V_new.T)\n",
    "new_inversed_transformation = np.dot(new_lowdim, V_new)\n",
    "new_inversed_transformation"
   ]
  },
  {
   "cell_type": "code",
   "execution_count": null,
   "metadata": {},
   "outputs": [],
   "source": []
  }
 ],
 "metadata": {
  "kernelspec": {
   "display_name": "Python 3",
   "language": "python",
   "name": "python3"
  },
  "language_info": {
   "codemirror_mode": {
    "name": "ipython",
    "version": 3
   },
   "file_extension": ".py",
   "mimetype": "text/x-python",
   "name": "python",
   "nbconvert_exporter": "python",
   "pygments_lexer": "ipython3",
   "version": "3.6.6"
  }
 },
 "nbformat": 4,
 "nbformat_minor": 2
}
