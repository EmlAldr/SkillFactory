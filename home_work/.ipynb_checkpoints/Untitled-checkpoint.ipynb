{
 "cells": [
  {
   "cell_type": "code",
   "execution_count": 14,
   "metadata": {},
   "outputs": [],
   "source": [
    "def eq_1(x, y, z, w):\n",
    "    if x == 0:\n",
    "        return -1\n",
    "    return (x+y+z) + (x+y+w)/x - 2\n",
    "\n",
    "\n",
    "def eq_2(x, y, z, w):\n",
    "    return (x+z) * (x+y+z) * y + 12\n",
    "\n",
    "\n",
    "def eq_3(x, y, z, w):\n",
    "    return w + (x+z) + w -10\n",
    "\n",
    "\n",
    "def eq_4(x, y, z, w):\n",
    "    return z * (y+z) * (x+y+z+w) - 160\n",
    "\n",
    "\n",
    "def eq_5(x, y, z, w):\n",
    "    return (x+y+w) * (x+y+z+w) - y"
   ]
  },
  {
   "cell_type": "code",
   "execution_count": 7,
   "metadata": {},
   "outputs": [
    {
     "name": "stdout",
     "output_type": "stream",
     "text": [
      "0.0\n",
      "0\n",
      "0\n",
      "0\n",
      "39\n"
     ]
    }
   ],
   "source": [
    "x = 9\n",
    "y = -3\n",
    "z = -5\n",
    "w = 3\n",
    "\n",
    "print(eq_1(x, y, z, w))\n",
    "print(eq_2(x, y, z, w))\n",
    "print(eq_3(x, y, z, w))\n",
    "print(eq_4(x, y, z, w))\n",
    "print(eq_5(x, y, z, w))"
   ]
  },
  {
   "cell_type": "code",
   "execution_count": 8,
   "metadata": {},
   "outputs": [
    {
     "name": "stdout",
     "output_type": "stream",
     "text": [
      "0.0\n",
      "0\n",
      "0\n",
      "0\n",
      "-13\n"
     ]
    }
   ],
   "source": [
    "x = -4\n",
    "y = -3\n",
    "z = 8\n",
    "w = 3\n",
    "\n",
    "print(eq_1(x, y, z, w))\n",
    "print(eq_2(x, y, z, w))\n",
    "print(eq_3(x, y, z, w))\n",
    "print(eq_4(x, y, z, w))\n",
    "print(eq_5(x, y, z, w))"
   ]
  },
  {
   "cell_type": "code",
   "execution_count": 17,
   "metadata": {},
   "outputs": [
    {
     "name": "stdout",
     "output_type": "stream",
     "text": [
      "x=-4, y=-3, z=8, w=3, eq_5=-13\n",
      "x=9, y=-3, z=-5, w=3, eq_5=39\n"
     ]
    }
   ],
   "source": [
    "for x in range(-9, 10, 1):\n",
    "    for y in range(-9, 10, 1):\n",
    "        for z in range(-9, 10, 1):\n",
    "            for w in range(-9, 10, 1):\n",
    "                if eq_1(x, y, z, w) == 0 and eq_2(x, y, z, w) == 0 and eq_3(x, y, z, w) == 0 and eq_4(x, y, z, w) == 0:\n",
    "                    print(f'x={x}, y={y}, z={z}, w={w}, eq_5={eq_5(x, y, z, w)}')"
   ]
  }
 ],
 "metadata": {
  "kernelspec": {
   "display_name": "Python 3",
   "language": "python",
   "name": "python3"
  },
  "language_info": {
   "codemirror_mode": {
    "name": "ipython",
    "version": 3
   },
   "file_extension": ".py",
   "mimetype": "text/x-python",
   "name": "python",
   "nbconvert_exporter": "python",
   "pygments_lexer": "ipython3",
   "version": "3.6.6"
  }
 },
 "nbformat": 4,
 "nbformat_minor": 2
}
