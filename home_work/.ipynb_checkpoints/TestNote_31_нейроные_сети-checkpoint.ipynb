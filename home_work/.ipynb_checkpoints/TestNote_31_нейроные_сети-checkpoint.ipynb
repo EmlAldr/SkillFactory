{
 "cells": [
  {
   "cell_type": "markdown",
   "metadata": {},
   "source": [
    "# Функции активации"
   ]
  },
  {
   "cell_type": "markdown",
   "metadata": {},
   "source": [
    "**Функция активации** нейрона определяет выходной сигнал, который, в свою очередь, определяется входным сигналом или набором входных сигналов. Функцию активации используют, чтобы получить выходные данные узла.\n",
    "\n",
    "Функции активации делятся на два типа:\n",
    "- линейные функции активации;\n",
    "- нелинейные функции активации.\n",
    "\n",
    "**Сигмоида (Sigmoid)** — возрастающая нелинейная функция, имеющая форму буквы «S». В нейронных сетях она используется потому, что позволяет усиливать слабые сигналы.\n",
    "\n",
    "Проблемы Sigmoid-активации:\n",
    "- Нейроны с сигмоидой могут насыщаться и приводить к угасающим градиентам.\n",
    "- Не центрированы в нуле.\n",
    "- Дорого вычислять."
   ]
  },
  {
   "cell_type": "markdown",
   "metadata": {},
   "source": [
    "<img src=\"../images/pasted_image_0.png\" alt=\"Binary-cross-entropy\" width=\"800\" align=\"center\">"
   ]
  },
  {
   "cell_type": "markdown",
   "metadata": {},
   "source": [
    "**Функция Tanh** похожа на сигмоиду, но её преимущество состоит в том, что отрицательные входные данные будут отображаться строго отрицательными, а нулевые входные данные будут отображаться вблизи нуля.\n",
    "\n",
    "Характеристики Tanh активации:\n",
    "- ентрирована в нуле;\n",
    "- но все ещё как сигмоида."
   ]
  },
  {
   "cell_type": "markdown",
   "metadata": {},
   "source": [
    "<img src=\"../images/pasted_image_0-2.png\" alt=\"Binary-cross-entropy\" width=\"800\" align=\"center\">"
   ]
  },
  {
   "cell_type": "markdown",
   "metadata": {},
   "source": [
    "**ReLU (rectified linear unit)** является наиболее часто используемой функцией активации в мире, так как она используется практически во всех свёрточных нейронных сетях или для Deep Learning.\n",
    "\n",
    "Характеристики ReLU активации:\n",
    "- быстро считается;\n",
    "- градиенты не угасают при х > 0;\n",
    "- не центрирована в нуле;\n",
    "- если не было активации, не будет обновления. "
   ]
  },
  {
   "cell_type": "markdown",
   "metadata": {},
   "source": [
    "<img src=\"../images/pasted_image_0-3.png\" alt=\"Binary-cross-entropy\" width=\"800\" align=\"center\">"
   ]
  },
  {
   "cell_type": "markdown",
   "metadata": {},
   "source": [
    "**Leaky ReLU** является попыткой решить проблему выхода ReLU из строя.\n",
    "\n",
    "Характеристики Leaky ReLU-активации:\n",
    "- сегда будут обновления;\n",
    "- римерно центрирована в нуле;\n",
    "- а ≠ 1."
   ]
  },
  {
   "cell_type": "markdown",
   "metadata": {},
   "source": [
    "<img src=\"../images/pasted_image_0-4.png\" alt=\"Binary-cross-entropy\" width=\"800\" align=\"center\">"
   ]
  },
  {
   "cell_type": "markdown",
   "metadata": {},
   "source": [
    "**Функция активации ELU (Exponential Linear Unit)**, по результатам исследований, быстрее сводит к нулю и даёт более точные результаты.\n",
    "\n",
    "В отрицательной части аргументов использует экспоненту."
   ]
  },
  {
   "cell_type": "markdown",
   "metadata": {},
   "source": [
    "<img src=\"../images/pasted_image_0-5.png\" alt=\"Binary-cross-entropy\" width=\"900\" align=\"center\">"
   ]
  },
  {
   "cell_type": "markdown",
   "metadata": {},
   "source": [
    "Характеристики ELU:\n",
    "\n",
    "- примерно центрирована в нуле;\n",
    "- сходимость быстрее ReLU."
   ]
  },
  {
   "cell_type": "markdown",
   "metadata": {},
   "source": [
    "<img src=\"../images/pasted_image_0-6.png\" alt=\"Binary-cross-entropy\" width=\"500\" align=\"center\">"
   ]
  },
  {
   "cell_type": "code",
   "execution_count": null,
   "metadata": {},
   "outputs": [],
   "source": []
  },
  {
   "cell_type": "code",
   "execution_count": null,
   "metadata": {},
   "outputs": [],
   "source": []
  },
  {
   "cell_type": "code",
   "execution_count": null,
   "metadata": {},
   "outputs": [],
   "source": []
  },
  {
   "cell_type": "code",
   "execution_count": null,
   "metadata": {},
   "outputs": [],
   "source": []
  },
  {
   "cell_type": "code",
   "execution_count": null,
   "metadata": {},
   "outputs": [],
   "source": []
  },
  {
   "cell_type": "code",
   "execution_count": null,
   "metadata": {},
   "outputs": [],
   "source": []
  },
  {
   "cell_type": "code",
   "execution_count": null,
   "metadata": {},
   "outputs": [],
   "source": []
  }
 ],
 "metadata": {
  "kernelspec": {
   "display_name": "Python 3",
   "language": "python",
   "name": "python3"
  },
  "language_info": {
   "codemirror_mode": {
    "name": "ipython",
    "version": 3
   },
   "file_extension": ".py",
   "mimetype": "text/x-python",
   "name": "python",
   "nbconvert_exporter": "python",
   "pygments_lexer": "ipython3",
   "version": "3.6.6"
  }
 },
 "nbformat": 4,
 "nbformat_minor": 2
}
