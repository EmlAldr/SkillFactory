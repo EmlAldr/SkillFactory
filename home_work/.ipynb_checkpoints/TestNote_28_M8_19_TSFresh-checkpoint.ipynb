{
 "cells": [
  {
   "cell_type": "markdown",
   "metadata": {},
   "source": [
    "# Выделение признаков"
   ]
  },
  {
   "cell_type": "code",
   "execution_count": 2,
   "metadata": {},
   "outputs": [
    {
     "name": "stdout",
     "output_type": "stream",
     "text": [
      "Collecting tsfresh\n",
      "\u001b[?25l  Downloading https://files.pythonhosted.org/packages/22/7f/53e845c3e19078d15e228db642ad06d5a91207a66115cb4f30a2eca28f17/tsfresh-0.18.0-py2.py3-none-any.whl (94kB)\n",
      "\u001b[K     |████████████████████████████████| 102kB 1.5MB/s ta 0:00:01\n",
      "\u001b[?25hRequirement already satisfied: scipy>=1.2.0 in /opt/conda/lib/python3.6/site-packages (from tsfresh) (1.3.1)\n",
      "Requirement already satisfied: tqdm>=4.10.0 in /opt/conda/lib/python3.6/site-packages (from tsfresh) (4.36.1)\n",
      "Requirement already satisfied: numpy>=1.15.1 in /opt/conda/lib/python3.6/site-packages (from tsfresh) (1.17.0)\n",
      "Collecting distributed>=2.11.0\n",
      "\u001b[?25l  Downloading https://files.pythonhosted.org/packages/96/b7/f58dd1e30f940a8b38de10f5d92b2fce08f38dcba3eb1ddb017260588ed4/distributed-2021.3.0-py3-none-any.whl (675kB)\n",
      "\u001b[K     |████████████████████████████████| 675kB 5.7MB/s eta 0:00:01\n",
      "\u001b[?25hCollecting stumpy>=1.7.2\n",
      "\u001b[?25l  Downloading https://files.pythonhosted.org/packages/5f/c6/fa2bcce767c2e5aa65eab89936ab6162c4ba0de774ca2726a3aad71455d7/stumpy-1.9.2-py3-none-any.whl (113kB)\n",
      "\u001b[K     |████████████████████████████████| 122kB 11.7MB/s eta 0:00:01    |████████████████████▎           | 71kB 11.1MB/s eta 0:00:01\n",
      "\u001b[?25hRequirement already satisfied: statsmodels>=0.9.0 in /opt/conda/lib/python3.6/site-packages (from tsfresh) (0.10.1)\n",
      "Collecting matrixprofile>=1.1.10<2.0.0\n",
      "\u001b[?25l  Downloading https://files.pythonhosted.org/packages/36/2f/29149ceb8392df26d4f9b2c3f8400ad66cba5786a542b61530572f6ef3cd/matrixprofile-1.1.10-cp36-cp36m-manylinux2010_x86_64.whl (1.1MB)\n",
      "\u001b[K     |████████████████████████████████| 1.1MB 9.7MB/s eta 0:00:01\n",
      "\u001b[?25hRequirement already satisfied: pandas>=0.25.0 in /opt/conda/lib/python3.6/site-packages (from tsfresh) (0.25.2)\n",
      "Requirement already satisfied: requests>=2.9.1 in /opt/conda/lib/python3.6/site-packages (from tsfresh) (2.22.0)\n",
      "Requirement already satisfied: scikit-learn>=0.22.0 in /notebooks/home/.local/lib/python3.6/site-packages (from tsfresh) (0.24.1)\n",
      "Requirement already satisfied: patsy>=0.4.1 in /opt/conda/lib/python3.6/site-packages (from tsfresh) (0.5.1)\n",
      "Collecting dask[dataframe]>=2.9.0\n",
      "\u001b[?25l  Downloading https://files.pythonhosted.org/packages/2e/86/95faa4a9c1f7fbfa2df2ae9e7e1a11349cb97a81e2f38ff9dda301606882/dask-2021.3.0-py3-none-any.whl (925kB)\n",
      "\u001b[K     |████████████████████████████████| 931kB 10.6MB/s eta 0:00:01\n",
      "\u001b[?25hRequirement already satisfied: click>=6.6 in /opt/conda/lib/python3.6/site-packages (from distributed>=2.11.0->tsfresh) (7.0)\n",
      "Collecting contextvars; python_version < \"3.7\"\n",
      "  Downloading https://files.pythonhosted.org/packages/83/96/55b82d9f13763be9d672622e1b8106c85acb83edd7cc2fa5bc67cd9877e9/contextvars-2.4.tar.gz\n",
      "Requirement already satisfied: sortedcontainers!=2.0.0,!=2.0.1 in /opt/conda/lib/python3.6/site-packages (from distributed>=2.11.0->tsfresh) (2.1.0)\n",
      "Requirement already satisfied: msgpack>=0.6.0 in /opt/conda/lib/python3.6/site-packages (from distributed>=2.11.0->tsfresh) (0.6.1)\n",
      "Requirement already satisfied: tornado>=5; python_version < \"3.8\" in /opt/conda/lib/python3.6/site-packages (from distributed>=2.11.0->tsfresh) (6.0.3)\n",
      "Requirement already satisfied: toolz>=0.8.2 in /opt/conda/lib/python3.6/site-packages (from distributed>=2.11.0->tsfresh) (0.10.0)\n",
      "Requirement already satisfied: zict>=0.1.3 in /opt/conda/lib/python3.6/site-packages (from distributed>=2.11.0->tsfresh) (1.0.0)\n",
      "Requirement already satisfied: pyyaml in /opt/conda/lib/python3.6/site-packages (from distributed>=2.11.0->tsfresh) (5.1.2)\n",
      "Requirement already satisfied: psutil>=5.0 in /opt/conda/lib/python3.6/site-packages (from distributed>=2.11.0->tsfresh) (5.6.3)\n",
      "Requirement already satisfied: setuptools in /opt/conda/lib/python3.6/site-packages (from distributed>=2.11.0->tsfresh) (41.4.0)\n",
      "Collecting tblib>=1.6.0\n",
      "  Downloading https://files.pythonhosted.org/packages/f8/cd/2fad4add11c8837e72f50a30e2bda30e67a10d70462f826b291443a55c7d/tblib-1.7.0-py2.py3-none-any.whl\n",
      "Collecting cloudpickle>=1.5.0\n",
      "  Downloading https://files.pythonhosted.org/packages/e7/e3/898487e5dbeb612054cf2e0c188463acb358167fef749c53c8bb8918cea1/cloudpickle-1.6.0-py3-none-any.whl\n",
      "Collecting numba>=0.48\n",
      "\u001b[?25l  Downloading https://files.pythonhosted.org/packages/4a/c1/e7fdbfc886a9d9c11767533903db0d816c0f656fd6029f4a061742893694/numba-0.53.1-cp36-cp36m-manylinux2014_x86_64.whl (3.4MB)\n",
      "\u001b[K     |████████████████████████████████| 3.4MB 8.1MB/s eta 0:00:01\n",
      "\u001b[?25hCollecting protobuf==3.11.2\n",
      "\u001b[?25l  Downloading https://files.pythonhosted.org/packages/ca/ac/838c8c8a5f33a58132dd2ad2a30329f6ae1614a9f56ffb79eaaf71a9d156/protobuf-3.11.2-cp36-cp36m-manylinux1_x86_64.whl (1.3MB)\n",
      "\u001b[K     |████████████████████████████████| 1.3MB 10.0MB/s eta 0:00:01\n",
      "\u001b[?25hRequirement already satisfied: matplotlib>=3.0.3 in /opt/conda/lib/python3.6/site-packages (from matrixprofile>=1.1.10<2.0.0->tsfresh) (3.0.3)\n",
      "Requirement already satisfied: python-dateutil>=2.6.1 in /opt/conda/lib/python3.6/site-packages (from pandas>=0.25.0->tsfresh) (2.8.0)\n",
      "Requirement already satisfied: pytz>=2017.2 in /opt/conda/lib/python3.6/site-packages (from pandas>=0.25.0->tsfresh) (2019.3)\n",
      "Requirement already satisfied: idna<2.9,>=2.5 in /opt/conda/lib/python3.6/site-packages (from requests>=2.9.1->tsfresh) (2.8)\n",
      "Requirement already satisfied: urllib3!=1.25.0,!=1.25.1,<1.26,>=1.21.1 in /opt/conda/lib/python3.6/site-packages (from requests>=2.9.1->tsfresh) (1.24.2)\n",
      "Requirement already satisfied: chardet<3.1.0,>=3.0.2 in /opt/conda/lib/python3.6/site-packages (from requests>=2.9.1->tsfresh) (3.0.4)\n",
      "Requirement already satisfied: certifi>=2017.4.17 in /opt/conda/lib/python3.6/site-packages (from requests>=2.9.1->tsfresh) (2019.9.11)\n",
      "Requirement already satisfied: joblib>=0.11 in /opt/conda/lib/python3.6/site-packages (from scikit-learn>=0.22.0->tsfresh) (0.13.2)\n",
      "Requirement already satisfied: threadpoolctl>=2.0.0 in /notebooks/home/.local/lib/python3.6/site-packages (from scikit-learn>=0.22.0->tsfresh) (2.1.0)\n",
      "Requirement already satisfied: six in /opt/conda/lib/python3.6/site-packages (from patsy>=0.4.1->tsfresh) (1.12.0)\n",
      "Collecting fsspec>=0.6.0; extra == \"dataframe\"\n",
      "\u001b[?25l  Downloading https://files.pythonhosted.org/packages/40/e1/7111d8afc76ee3171f4f99592cd29bac9d233ae1aa34623011506f955434/fsspec-2021.7.0-py3-none-any.whl (118kB)\n",
      "\u001b[K     |████████████████████████████████| 122kB 10.1MB/s eta 0:00:01\n",
      "\u001b[?25hRequirement already satisfied: partd>=0.3.10; extra == \"dataframe\" in /opt/conda/lib/python3.6/site-packages (from dask[dataframe]>=2.9.0->tsfresh) (1.0.0)\n",
      "Collecting immutables>=0.9\n",
      "\u001b[?25l  Downloading https://files.pythonhosted.org/packages/4f/ae/0b6a1d3643099d63c6eb122b2299d535162c8600c11409eeebe47aa3b4c8/immutables-0.16-cp36-cp36m-manylinux_2_5_x86_64.manylinux1_x86_64.whl (103kB)\n",
      "\u001b[K     |████████████████████████████████| 112kB 13.0MB/s eta 0:00:01\n",
      "\u001b[?25hRequirement already satisfied: heapdict in /opt/conda/lib/python3.6/site-packages (from zict>=0.1.3->distributed>=2.11.0->tsfresh) (1.0.1)\n",
      "Collecting llvmlite<0.37,>=0.36.0rc1\n",
      "\u001b[?25l  Downloading https://files.pythonhosted.org/packages/4d/5a/707cc7e072d71bc19869d093e5cf9b7be98cb42d2398489465474d007ce8/llvmlite-0.36.0-cp36-cp36m-manylinux2010_x86_64.whl (25.3MB)\n",
      "\u001b[K     |████████████████████████████████| 25.3MB 6.0MB/s eta 0:00:011    |████████████▍                   | 9.8MB 10.1MB/s eta 0:00:02     |█████████████▏                  | 10.4MB 10.1MB/s eta 0:00:02     |███████████████████▏            | 15.2MB 12.8MB/s eta 0:00:01     |███████████████████████████████ | 24.5MB 6.0MB/s eta 0:00:01\n",
      "\u001b[?25hRequirement already satisfied: cycler>=0.10 in /opt/conda/lib/python3.6/site-packages (from matplotlib>=3.0.3->matrixprofile>=1.1.10<2.0.0->tsfresh) (0.10.0)\n",
      "Requirement already satisfied: kiwisolver>=1.0.1 in /opt/conda/lib/python3.6/site-packages (from matplotlib>=3.0.3->matrixprofile>=1.1.10<2.0.0->tsfresh) (1.1.0)\n",
      "Requirement already satisfied: pyparsing!=2.0.4,!=2.1.2,!=2.1.6,>=2.0.1 in /opt/conda/lib/python3.6/site-packages (from matplotlib>=3.0.3->matrixprofile>=1.1.10<2.0.0->tsfresh) (2.4.2)\n",
      "Requirement already satisfied: locket in /opt/conda/lib/python3.6/site-packages (from partd>=0.3.10; extra == \"dataframe\"->dask[dataframe]>=2.9.0->tsfresh) (0.2.0)\n",
      "Collecting typing-extensions>=3.7.4.3; python_version < \"3.8\"\n"
     ]
    },
    {
     "name": "stdout",
     "output_type": "stream",
     "text": [
      "  Downloading https://files.pythonhosted.org/packages/2e/35/6c4fff5ab443b57116cb1aad46421fb719bed2825664e8fe77d66d99bcbc/typing_extensions-3.10.0.0-py3-none-any.whl\n",
      "Building wheels for collected packages: contextvars\n",
      "  Building wheel for contextvars (setup.py) ... \u001b[?25ldone\n",
      "\u001b[?25h  Created wheel for contextvars: filename=contextvars-2.4-cp36-none-any.whl size=7668 sha256=3bb291bf89d79363f9eb5f48c257175e16f7822bb26e284806690f0d6eaa9c22\n",
      "  Stored in directory: /notebooks/home/.cache/pip/wheels/a5/7d/68/1ebae2668bda2228686e3c1cf16f2c2384cea6e9334ad5f6de\n",
      "Successfully built contextvars\n",
      "\u001b[31mERROR: spyder 3.3.6 requires pyqt5<5.13; python_version >= \"3\", which is not installed.\u001b[0m\n",
      "\u001b[31mERROR: spyder 3.3.6 requires pyqtwebengine<5.13; python_version >= \"3\", which is not installed.\u001b[0m\n",
      "\u001b[31mERROR: stumpy 1.9.2 has requirement scipy>=1.5, but you'll have scipy 1.3.1 which is incompatible.\u001b[0m\n",
      "\u001b[31mERROR: matrixprofile 1.1.10 has requirement scipy<2.0.0,>=1.3.2, but you'll have scipy 1.3.1 which is incompatible.\u001b[0m\n",
      "Installing collected packages: typing-extensions, immutables, contextvars, fsspec, dask, tblib, cloudpickle, distributed, llvmlite, numba, stumpy, protobuf, matrixprofile, tsfresh\n",
      "\u001b[33m  WARNING: The scripts dask-scheduler, dask-ssh and dask-worker are installed in '/notebooks/home/.local/bin' which is not on PATH.\n",
      "  Consider adding this directory to PATH or, if you prefer to suppress this warning, use --no-warn-script-location.\u001b[0m\n",
      "Successfully installed cloudpickle-1.6.0 contextvars-2.4 dask-2021.3.0 distributed-2021.3.0 fsspec-2021.7.0 immutables-0.16 llvmlite-0.36.0 matrixprofile-1.1.10 numba-0.53.1 protobuf-3.11.2 stumpy-1.9.2 tblib-1.7.0 tsfresh-0.18.0 typing-extensions-3.10.0.0\n"
     ]
    }
   ],
   "source": [
    "!pip install --user tsfresh"
   ]
  },
  {
   "cell_type": "code",
   "execution_count": 1,
   "metadata": {
    "ExecuteTime": {
     "end_time": "2019-08-24T15:47:27.801063Z",
     "start_time": "2019-08-24T15:47:27.794083Z"
    }
   },
   "outputs": [
    {
     "ename": "ModuleNotFoundError",
     "evalue": "No module named 'tsfresh'",
     "output_type": "error",
     "traceback": [
      "\u001b[0;31m---------------------------------------------------------------------------\u001b[0m",
      "\u001b[0;31mModuleNotFoundError\u001b[0m                       Traceback (most recent call last)",
      "\u001b[0;32m<ipython-input-1-944dcfc39e1a>\u001b[0m in \u001b[0;36m<module>\u001b[0;34m\u001b[0m\n\u001b[1;32m      9\u001b[0m \u001b[0;34m\u001b[0m\u001b[0m\n\u001b[1;32m     10\u001b[0m \u001b[0;31m# выделение признаков при помощи TSFresh\u001b[0m\u001b[0;34m\u001b[0m\u001b[0;34m\u001b[0m\u001b[0m\n\u001b[0;32m---> 11\u001b[0;31m \u001b[0;32mfrom\u001b[0m \u001b[0mtsfresh\u001b[0m \u001b[0;32mimport\u001b[0m \u001b[0mextract_features\u001b[0m\u001b[0;34m,\u001b[0m \u001b[0mextract_relevant_features\u001b[0m\u001b[0;34m,\u001b[0m \u001b[0mselect_features\u001b[0m\u001b[0;34m\u001b[0m\u001b[0m\n\u001b[0m\u001b[1;32m     12\u001b[0m \u001b[0;32mfrom\u001b[0m \u001b[0mtsfresh\u001b[0m\u001b[0;34m.\u001b[0m\u001b[0mutilities\u001b[0m\u001b[0;34m.\u001b[0m\u001b[0mdataframe_functions\u001b[0m \u001b[0;32mimport\u001b[0m \u001b[0mimpute\u001b[0m\u001b[0;34m\u001b[0m\u001b[0m\n\u001b[1;32m     13\u001b[0m \u001b[0;32mfrom\u001b[0m \u001b[0mtsfresh\u001b[0m\u001b[0;34m.\u001b[0m\u001b[0mfeature_extraction\u001b[0m \u001b[0;32mimport\u001b[0m \u001b[0mComprehensiveFCParameters\u001b[0m\u001b[0;34m,\u001b[0m \u001b[0mEfficientFCParameters\u001b[0m\u001b[0;34m,\u001b[0m \u001b[0mMinimalFCParameters\u001b[0m\u001b[0;34m\u001b[0m\u001b[0m\n",
      "\u001b[0;31mModuleNotFoundError\u001b[0m: No module named 'tsfresh'"
     ]
    }
   ],
   "source": [
    "%matplotlib inline\n",
    "import pandas as pd\n",
    "import matplotlib.pyplot as plt\n",
    "import numpy as np\n",
    "import random\n",
    "\n",
    "from sklearn.ensemble import RandomForestClassifier\n",
    "from sklearn.model_selection import train_test_split\n",
    "\n",
    "# выделение признаков при помощи TSFresh\n",
    "from tsfresh import extract_features, extract_relevant_features, select_features\n",
    "from tsfresh.utilities.dataframe_functions import impute\n",
    "from tsfresh.feature_extraction import ComprehensiveFCParameters, EfficientFCParameters, MinimalFCParameters"
   ]
  },
  {
   "cell_type": "markdown",
   "metadata": {},
   "source": [
    "# Создаём временные ряды и визуализируем их"
   ]
  },
  {
   "cell_type": "code",
   "execution_count": 9,
   "metadata": {
    "ExecuteTime": {
     "end_time": "2019-08-24T15:47:39.126999Z",
     "start_time": "2019-08-24T15:47:34.617048Z"
    }
   },
   "outputs": [
    {
     "data": {
      "image/png": "[encoded data removed]",
      "text/plain": [
       "<Figure size 432x288 with 1 Axes>"
      ]
     },
     "metadata": {
      "needs_background": "light"
     },
     "output_type": "display_data"
    },
    {
     "name": "stdout",
     "output_type": "stream",
     "text": [
      "data.shape = (122000, 4)\n",
      "data.id.nunique() = 2000\n"
     ]
    },
    {
     "data": {
      "text/html": [
       "<div>\n",
       "<style scoped>\n",
       "    .dataframe tbody tr th:only-of-type {\n",
       "        vertical-align: middle;\n",
       "    }\n",
       "\n",
       "    .dataframe tbody tr th {\n",
       "        vertical-align: top;\n",
       "    }\n",
       "\n",
       "    .dataframe thead th {\n",
       "        text-align: right;\n",
       "    }\n",
       "</style>\n",
       "<table border=\"1\" class=\"dataframe\">\n",
       "  <thead>\n",
       "    <tr style=\"text-align: right;\">\n",
       "      <th></th>\n",
       "      <th>t</th>\n",
       "      <th>y</th>\n",
       "      <th>class</th>\n",
       "      <th>id</th>\n",
       "    </tr>\n",
       "  </thead>\n",
       "  <tbody>\n",
       "    <tr>\n",
       "      <th>0</th>\n",
       "      <td>0.0</td>\n",
       "      <td>3.245872</td>\n",
       "      <td>1</td>\n",
       "      <td>0</td>\n",
       "    </tr>\n",
       "    <tr>\n",
       "      <th>1</th>\n",
       "      <td>0.1</td>\n",
       "      <td>3.348260</td>\n",
       "      <td>1</td>\n",
       "      <td>0</td>\n",
       "    </tr>\n",
       "    <tr>\n",
       "      <th>2</th>\n",
       "      <td>0.2</td>\n",
       "      <td>3.436487</td>\n",
       "      <td>1</td>\n",
       "      <td>0</td>\n",
       "    </tr>\n",
       "  </tbody>\n",
       "</table>\n",
       "</div>"
      ],
      "text/plain": [
       "     t         y  class  id\n",
       "0  0.0  3.245872      1   0\n",
       "1  0.1  3.348260      1   0\n",
       "2  0.2  3.436487      1   0"
      ]
     },
     "execution_count": 9,
     "metadata": {},
     "output_type": "execute_result"
    }
   ],
   "source": [
    "N = 1000 ## количество семплов каждого класса\n",
    "Nvis = 5 ## сколько семплов будем визуализировать\n",
    "timePoints = 61  ## количество элементов в каждом из рядов\n",
    "\n",
    "df = pd.DataFrame()\n",
    "data = pd.DataFrame()\n",
    "t = np.linspace(0, 6, timePoints) \n",
    "\n",
    "random.seed(42)\n",
    "\n",
    "## генерируем семплы первого класса\n",
    "for i in range(N):\n",
    "    A = 1 + random.random()        ## амплитуда\n",
    "    w = 1 + random.random()        ## частота\n",
    "    ph = np.pi * random.random()   ## фаза\n",
    "    \n",
    "    \n",
    "    df['t']  = t                   ## ось времени\n",
    "    df['y']  = A*np.sin(t*w + ph)  ## значения временного ряда\n",
    "    df['class'] = 1                ## класс временного ряда \n",
    "    df['id'] = i                   ## номер временного ряда\n",
    "    \n",
    "    data = data.append(df)         ## добавляем семпл в общий дейтафрейм\n",
    "    if i < Nvis:                   ## визуализируем первые Nvis-штук\n",
    "        plt.plot(df.t, df.y, color='g') \n",
    "    \n",
    "## генерируем семплы второго класса    \n",
    "for i in range(N, 2*N):\n",
    "    A = 1 + random.random()          ## амплитуда\n",
    "    w = 0 + random.random()          ## частота\n",
    "    ph = 2*np.pi * random.random()   ## фаза\n",
    "    \n",
    "    df['t']  = t                     ## ось времени\n",
    "    df['y']  = A*np.sin(t*w + ph)    ## значения временного ряда\n",
    "    df['class'] = 0                  ## класс временного ряда \n",
    "    df['id'] = i                     ## номер временного ряда\n",
    "    \n",
    "    data = data.append(df)           ## добавляем семпл в общий дейтафрейм\n",
    "    if i < Nvis+N:                   ## визуализируем первые Nvis-штук\n",
    "        plt.plot(df.t, df.y, color='r') \n",
    "    \n",
    "## cдвигаем все значения вверх, чтобы все значения были положительными    \n",
    "data['y'] = data.y + np.abs(data.y.min())\n",
    "    \n",
    "plt.xlabel(\"Время\")\n",
    "plt.ylabel(\"Значение\")\n",
    "plt.title('Два вида рядов (первого и второго класса)')\n",
    "plt.xlim([t[0], t[-1]])\n",
    "plt.show()\n",
    "\n",
    "print('data.shape =', data.shape)\n",
    "print('data.id.nunique() =', data.id.nunique())\n",
    "data.head(3)"
   ]
  },
  {
   "cell_type": "markdown",
   "metadata": {},
   "source": [
    "# Выделение признаков при помощи TSFresh\n",
    "http://tsfresh.readthedocs.io/en/latest/"
   ]
  },
  {
   "cell_type": "code",
   "execution_count": 3,
   "metadata": {
    "ExecuteTime": {
     "end_time": "2019-08-24T12:19:20.842803Z",
     "start_time": "2019-08-24T12:19:14.507723Z"
    }
   },
   "outputs": [
    {
     "name": "stderr",
     "output_type": "stream",
     "text": [
      "Feature Extraction: 100%|██████████████████████████████████████████████████████████████| 10/10 [00:05<00:00,  1.77it/s]\n",
      "C:\\Users\\abogomolov\\AppData\\Local\\Continuum\\miniconda3\\lib\\site-packages\\pandas\\core\\indexing.py:189: SettingWithCopyWarning: \n",
      "A value is trying to be set on a copy of a slice from a DataFrame\n",
      "\n",
      "See the caveats in the documentation: http://pandas.pydata.org/pandas-docs/stable/indexing.html#indexing-view-versus-copy\n",
      "  self._setitem_with_indexer(indexer, value)\n"
     ]
    },
    {
     "name": "stdout",
     "output_type": "stream",
     "text": [
      "data.shape = (122000, 4)\n",
      "features.shape = (2000, 17)\n"
     ]
    },
    {
     "data": {
      "text/html": [
       "<div>\n",
       "<style scoped>\n",
       "    .dataframe tbody tr th:only-of-type {\n",
       "        vertical-align: middle;\n",
       "    }\n",
       "\n",
       "    .dataframe tbody tr th {\n",
       "        vertical-align: top;\n",
       "    }\n",
       "\n",
       "    .dataframe thead th {\n",
       "        text-align: right;\n",
       "    }\n",
       "</style>\n",
       "<table border=\"1\" class=\"dataframe\">\n",
       "  <thead>\n",
       "    <tr style=\"text-align: right;\">\n",
       "      <th>variable</th>\n",
       "      <th>id</th>\n",
       "      <th>y__abs_energy</th>\n",
       "      <th>y__binned_entropy__max_bins_10</th>\n",
       "      <th>y__count_above_mean</th>\n",
       "      <th>y__count_below_mean</th>\n",
       "      <th>y__first_location_of_maximum</th>\n",
       "      <th>y__first_location_of_minimum</th>\n",
       "      <th>y__kurtosis</th>\n",
       "      <th>y__maximum</th>\n",
       "      <th>y__mean</th>\n",
       "      <th>y__mean_change</th>\n",
       "      <th>y__median</th>\n",
       "      <th>y__minimum</th>\n",
       "      <th>y__skewness</th>\n",
       "      <th>y__standard_deviation</th>\n",
       "      <th>y__sum_values</th>\n",
       "      <th>label</th>\n",
       "    </tr>\n",
       "  </thead>\n",
       "  <tbody>\n",
       "    <tr>\n",
       "      <th>0</th>\n",
       "      <td>0</td>\n",
       "      <td>324.355057</td>\n",
       "      <td>2.177507</td>\n",
       "      <td>31.0</td>\n",
       "      <td>30.0</td>\n",
       "      <td>0.114754</td>\n",
       "      <td>0.622951</td>\n",
       "      <td>-1.522487</td>\n",
       "      <td>3.638476</td>\n",
       "      <td>1.993396</td>\n",
       "      <td>-0.002539</td>\n",
       "      <td>2.021114</td>\n",
       "      <td>0.361503</td>\n",
       "      <td>0.010053</td>\n",
       "      <td>1.159167</td>\n",
       "      <td>121.597163</td>\n",
       "      <td>0</td>\n",
       "    </tr>\n",
       "    <tr>\n",
       "      <th>1</th>\n",
       "      <td>1</td>\n",
       "      <td>246.532037</td>\n",
       "      <td>2.185494</td>\n",
       "      <td>27.0</td>\n",
       "      <td>34.0</td>\n",
       "      <td>0.540984</td>\n",
       "      <td>0.836066</td>\n",
       "      <td>-1.365224</td>\n",
       "      <td>3.222351</td>\n",
       "      <td>1.831576</td>\n",
       "      <td>-0.017766</td>\n",
       "      <td>1.756307</td>\n",
       "      <td>0.776047</td>\n",
       "      <td>0.291575</td>\n",
       "      <td>0.828757</td>\n",
       "      <td>111.726131</td>\n",
       "      <td>0</td>\n",
       "    </tr>\n",
       "    <tr>\n",
       "      <th>2</th>\n",
       "      <td>2</td>\n",
       "      <td>382.290408</td>\n",
       "      <td>2.146856</td>\n",
       "      <td>31.0</td>\n",
       "      <td>30.0</td>\n",
       "      <td>0.983607</td>\n",
       "      <td>0.508197</td>\n",
       "      <td>-1.548907</td>\n",
       "      <td>3.891279</td>\n",
       "      <td>2.096981</td>\n",
       "      <td>0.000943</td>\n",
       "      <td>2.144667</td>\n",
       "      <td>0.107249</td>\n",
       "      <td>-0.083391</td>\n",
       "      <td>1.367380</td>\n",
       "      <td>127.915835</td>\n",
       "      <td>0</td>\n",
       "    </tr>\n",
       "  </tbody>\n",
       "</table>\n",
       "</div>"
      ],
      "text/plain": [
       "variable  id  y__abs_energy  y__binned_entropy__max_bins_10  \\\n",
       "0          0     324.355057                        2.177507   \n",
       "1          1     246.532037                        2.185494   \n",
       "2          2     382.290408                        2.146856   \n",
       "\n",
       "variable  y__count_above_mean  y__count_below_mean  \\\n",
       "0                        31.0                 30.0   \n",
       "1                        27.0                 34.0   \n",
       "2                        31.0                 30.0   \n",
       "\n",
       "variable  y__first_location_of_maximum  y__first_location_of_minimum  \\\n",
       "0                             0.114754                      0.622951   \n",
       "1                             0.540984                      0.836066   \n",
       "2                             0.983607                      0.508197   \n",
       "\n",
       "variable  y__kurtosis  y__maximum   y__mean  y__mean_change  y__median  \\\n",
       "0           -1.522487    3.638476  1.993396       -0.002539   2.021114   \n",
       "1           -1.365224    3.222351  1.831576       -0.017766   1.756307   \n",
       "2           -1.548907    3.891279  2.096981        0.000943   2.144667   \n",
       "\n",
       "variable  y__minimum  y__skewness  y__standard_deviation  y__sum_values  label  \n",
       "0           0.361503     0.010053               1.159167     121.597163      0  \n",
       "1           0.776047     0.291575               0.828757     111.726131      0  \n",
       "2           0.107249    -0.083391               1.367380     127.915835      0  "
      ]
     },
     "execution_count": 3,
     "metadata": {},
     "output_type": "execute_result"
    }
   ],
   "source": [
    "def featuresTSFresh(data):    \n",
    "\n",
    "    ## список фич (см. документацию по TSFresh: https://media.readthedocs.org/pdf/tsfresh/latest/tsfresh.pdf)\n",
    "    extraction_settings = \\\n",
    "    {\n",
    "        ## признак: параметр\n",
    "        \"maximum\": None,\n",
    "        \"mean\": None,\n",
    "        \"minimum\": None,\n",
    "        \"median\": None,\n",
    "        \"standard_deviation\": None,\n",
    "        \"binned_entropy\": [{\"max_bins\" : 10}],\n",
    "        \"count_above_mean\": None,\n",
    "        \"count_below_mean\": None,\n",
    "        \"first_location_of_maximum\": None,\n",
    "        \"first_location_of_minimum\": None,\n",
    "        \"mean_change\": None,\n",
    "        \"sum_values\": None,\n",
    "        \"kurtosis\": None,\n",
    "        \"skewness\": None,\n",
    "        \"abs_energy\": None        \n",
    "    }\n",
    "\n",
    "    ## извлечение фич из данных    \n",
    "    featuresDF = extract_features(\n",
    "        data, \n",
    "        column_id='id',  ## номер временного ряда\n",
    "        column_sort='t', ## ось времени\n",
    "        default_fc_parameters=extraction_settings, ## список фич, которые хотим извлечь\n",
    "        impute_function=impute                     ## заменить все inf и NaN\n",
    "    )\n",
    "    \n",
    "    ## вытаскиваем колонку id из индекса \n",
    "    featuresDF = featuresDF.reset_index()\n",
    "\n",
    "    return featuresDF\n",
    "\n",
    "## убираем колонку class из данных (мы не хотим из неё извлекать фичи)\n",
    "features = featuresTSFresh(data.drop('class', axis=1))\n",
    "\n",
    "## помечаем ряды (добавляем обратно первый и второй класс)\n",
    "features['label'] = 0\n",
    "features['label'].iloc[N:] = 1\n",
    "\n",
    "print('data.shape =', data.shape)\n",
    "print('features.shape =', features.shape)\n",
    "features.head(3)"
   ]
  },
  {
   "cell_type": "markdown",
   "metadata": {},
   "source": [
    "# Машинное обучение"
   ]
  },
  {
   "cell_type": "code",
   "execution_count": 12,
   "metadata": {
    "ExecuteTime": {
     "end_time": "2019-08-24T16:05:44.017262Z",
     "start_time": "2019-08-24T16:05:43.066800Z"
    }
   },
   "outputs": [
    {
     "name": "stdout",
     "output_type": "stream",
     "text": [
      "trainSet.shape = (1200, 17)\n",
      "testSet.shape  = (800, 17)\n",
      "\n",
      "Value counts train:\n",
      " 1    603\n",
      "0    597\n",
      "Name: label, dtype: int64\n",
      "\n",
      "Value counts test:\n",
      " 0    403\n",
      "1    397\n",
      "Name: label, dtype: int64\n"
     ]
    },
    {
     "data": {
      "image/png": "[encoded data removed]",
      "text/plain": [
       "<Figure size 432x288 with 1 Axes>"
      ]
     },
     "metadata": {
      "needs_background": "light"
     },
     "output_type": "display_data"
    },
    {
     "name": "stderr",
     "output_type": "stream",
     "text": [
      "C:\\Users\\abogomolov\\AppData\\Local\\Continuum\\miniconda3\\lib\\site-packages\\ipykernel_launcher.py:40: SettingWithCopyWarning: \n",
      "A value is trying to be set on a copy of a slice from a DataFrame.\n",
      "Try using .loc[row_indexer,col_indexer] = value instead\n",
      "\n",
      "See the caveats in the documentation: http://pandas.pydata.org/pandas-docs/stable/indexing.html#indexing-view-versus-copy\n",
      "C:\\Users\\abogomolov\\AppData\\Local\\Continuum\\miniconda3\\lib\\site-packages\\ipykernel_launcher.py:41: SettingWithCopyWarning: \n",
      "A value is trying to be set on a copy of a slice from a DataFrame.\n",
      "Try using .loc[row_indexer,col_indexer] = value instead\n",
      "\n",
      "See the caveats in the documentation: http://pandas.pydata.org/pandas-docs/stable/indexing.html#indexing-view-versus-copy\n"
     ]
    },
    {
     "name": "stdout",
     "output_type": "stream",
     "text": [
      "                          features  importances\n",
      "6                      y__kurtosis     0.534585\n",
      "5     y__first_location_of_minimum     0.275902\n",
      "1   y__binned_entropy__max_bins_10     0.095343\n",
      "13           y__standard_deviation     0.034904\n",
      "4     y__first_location_of_maximum     0.026450\n",
      "9                   y__mean_change     0.008867\n",
      "14                   y__sum_values     0.007737\n",
      "8                          y__mean     0.007394\n",
      "10                       y__median     0.004071\n",
      "0                    y__abs_energy     0.002101\n",
      "12                     y__skewness     0.001782\n",
      "3              y__count_below_mean     0.000392\n",
      "7                       y__maximum     0.000305\n",
      "11                      y__minimum     0.000131\n",
      "2              y__count_above_mean     0.000035\n",
      "\n",
      "   Pos  Neg\n",
      "0  394    9\n",
      "1   63  334\n",
      "\n",
      "AUC = 0.960  Точность = 0.910\n",
      "\n"
     ]
    },
    {
     "data": {
      "image/png": "[encoded data removed]",
      "text/plain": [
       "<Figure size 432x288 with 1 Axes>"
      ]
     },
     "metadata": {
      "needs_background": "light"
     },
     "output_type": "display_data"
    }
   ],
   "source": [
    "## разбиваем выделенные фичи на тренировочный и тестовый наборы \n",
    "trainSet, testSet = train_test_split(features, test_size=0.4, random_state=42) \n",
    "\n",
    "## выводим статистику по нашим наборам\n",
    "print('trainSet.shape =', trainSet.shape)\n",
    "print('testSet.shape  =', testSet.shape)\n",
    "print()\n",
    "print('Value counts train:\\n', trainSet.label.value_counts())\n",
    "print()\n",
    "print('Value counts test:\\n', testSet.label.value_counts())\n",
    "\n",
    "## лист фич\n",
    "featureList = trainSet.drop(['id', 'label'], axis=1).columns\n",
    "\n",
    "## параметры классификатора\n",
    "params = {'n_estimators': 100, 'max_depth': 4, 'min_samples_split': 2, 'max_features' : 1.0, 'class_weight' : 'balanced',\n",
    "         'random_state': 42}\n",
    "\n",
    "## обучаем классификатор\n",
    "clf = RandomForestClassifier(**params).fit(trainSet[featureList], trainSet['label'])\n",
    "\n",
    "## делаем предсказание на тестовом наборе\n",
    "y_pred = clf.predict(testSet[featureList])\n",
    "y_pred_proba = clf.predict_proba(testSet[featureList])[:, 1]  ## вероятности\n",
    "\n",
    "## визуализируем вероятности для предсказаний\n",
    "import matplotlib.pyplot as plt\n",
    "plt.hist(y_pred_proba)\n",
    "plt.ylabel('Распределение вероятностей (test-set)')\n",
    "plt.show()\n",
    "\n",
    "\n",
    "\n",
    "from sklearn.metrics import confusion_matrix\n",
    "from sklearn.metrics import roc_curve, auc\n",
    "from math import isnan\n",
    "\n",
    "## создадим для удобства дейтафрейм с результатами\n",
    "res = testSet\n",
    "res['pred'] = y_pred \n",
    "res['pred_proba'] = y_pred_proba\n",
    "\n",
    "## получаем из классификатора важность фич и отображаем их\n",
    "ftmprt = pd.DataFrame()\n",
    "ftmprt['features'] = featureList\n",
    "ftmprt['importances'] = clf.feature_importances_\n",
    "ftmprt = ftmprt.sort_values('importances', ascending=False)\n",
    "print(ftmprt.head(20))\n",
    "print()\n",
    "proba = res.pred_proba\n",
    "\n",
    "## считаем матрицу ошибок\n",
    "CM = confusion_matrix(res['label'], res['pred'])\n",
    "CM_DF = pd.DataFrame(data=CM, columns = ['Pos', 'Neg'])\n",
    "print(CM_DF)\n",
    "\n",
    "# ROC-AUC \n",
    "FPR, TPR, thresholds = roc_curve(res['label'], res['pred_proba'])\n",
    "roc_auc = auc(FPR, TPR)\n",
    "acc = res[res['pred'] == res['label']].shape[0] / res.shape[0] ## точность\n",
    "print(f\"\\nAUC = {roc_auc:.3f}  Точность = {acc:.3f}\\n\")\n",
    "\n",
    "# ROC-кривая\n",
    "plt.title('Receiver Operating Characteristic')\n",
    "plt.plot(FPR, TPR, 'b', label=f'AUC = {roc_auc:.2f}')\n",
    "plt.legend(loc='lower right')\n",
    "plt.plot([0, 1], [0, 1], 'r--')\n",
    "plt.xlim([0, 1])\n",
    "plt.ylim([0, 1])\n",
    "plt.ylabel('True Positive Rate')\n",
    "plt.xlabel('False Positive Rate')\n",
    "plt.show()"
   ]
  }
 ],
 "metadata": {
  "kernelspec": {
   "display_name": "Python 3",
   "language": "python",
   "name": "python3"
  },
  "language_info": {
   "codemirror_mode": {
    "name": "ipython",
    "version": 3
   },
   "file_extension": ".py",
   "mimetype": "text/x-python",
   "name": "python",
   "nbconvert_exporter": "python",
   "pygments_lexer": "ipython3",
   "version": "3.6.6"
  },
  "toc": {
   "base_numbering": 1,
   "nav_menu": {},
   "number_sections": true,
   "sideBar": true,
   "skip_h1_title": false,
   "title_cell": "Table of Contents",
   "title_sidebar": "Contents",
   "toc_cell": false,
   "toc_position": {},
   "toc_section_display": true,
   "toc_window_display": false
  },
  "varInspector": {
   "cols": {
    "lenName": 16,
    "lenType": 16,
    "lenVar": 40
   },
   "kernels_config": {
    "python": {
     "delete_cmd_postfix": "",
     "delete_cmd_prefix": "del ",
     "library": "var_list.py",
     "varRefreshCmd": "print(var_dic_list())"
    },
    "r": {
     "delete_cmd_postfix": ") ",
     "delete_cmd_prefix": "rm(",
     "library": "var_list.r",
     "varRefreshCmd": "cat(var_dic_list()) "
    }
   },
   "types_to_exclude": [
    "module",
    "function",
    "builtin_function_or_method",
    "instance",
    "_Feature"
   ],
   "window_display": false
  }
 },
 "nbformat": 4,
 "nbformat_minor": 2
}
