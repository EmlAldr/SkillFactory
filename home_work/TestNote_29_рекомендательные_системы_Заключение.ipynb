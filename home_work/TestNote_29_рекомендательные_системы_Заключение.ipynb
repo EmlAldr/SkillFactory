{
 "cells": [
  {
   "cell_type": "markdown",
   "metadata": {},
   "source": [
    "# ЧТО ДАЛЬШЕ?\n",
    "\n",
    "- Как определить, что новая рекомендательная система стала лучше?\n",
    "- А/Б-тестирование.\n",
    "- Однорукие бандиты.\n",
    "- Элементы Reinforcement Learning.\n",
    "\n",
    "**МЕТРИКИ КАЧЕСТВА**\n",
    "\n",
    "**Prediction Accuracy** — оценивают точность предсказываемого рейтинга.\n",
    "<img src=\"../images/ml9_24.png\" alt=\"Binary-cross-entropy\" width=\"700\" align=\"center\">"
   ]
  },
  {
   "cell_type": "markdown",
   "metadata": {},
   "source": [
    "**Decision support** — оценивают релевантность рекомендаций.\n",
    "\n",
    "<img src=\"../images/ml9_25.png\" alt=\"Binary-cross-entropy\" width=\"700\" align=\"center\">"
   ]
  },
  {
   "cell_type": "markdown",
   "metadata": {},
   "source": [
    "**Rank Accuracy метрики** — оценивают качество ранжирования выдаваемых рекомендаций.\n",
    "\n",
    "<img src=\"../images/ml9_26.png\" alt=\"Binary-cross-entropy\" width=\"700\" align=\"center\">"
   ]
  },
  {
   "cell_type": "markdown",
   "metadata": {},
   "source": [
    "# КАКИЕ ГРАНИ РЕКОМЕНДАТЕЛЬНЫХ СИСТЕМ СЕГОДНЯ МОЖНО СОВЕРШЕНСТВОВАТЬ?\n",
    "\n",
    "- Принимать во внимание контекст рекомендации (где находится пользователь, что он делает/делал ранее).\n",
    "- Может оцениваться несколько характеристик товара, в этом случае должна учитываться каждая в отдельности.\n",
    "- Иметь возможность работать не с пользователями, а с группами пользователей (всей группе рекомендуем товар X).\n",
    "- При показе рекомендаций учитывать различные бизнес-правила, фильтры и ограничения.\n",
    "- Фокусироваться на ранжировании рекомендаций, а не на оценке конкретного рейтинга.\n",
    "- Обращать внимание на accuracy/novely tradeoff (часто интереснее советовать что-то принципиально новое).\n",
    "- Вместо близости предпочтений учитывать социальную близость между пользователями (друзья в Facebook).\n",
    "- Система должна подстраиваться под пользователя, пользователь должен иметь возможность настраивать систему.\n",
    "- Прозрачность рекомендаций (важно понимать, почему показана именно такая).\n",
    "- Развивать устойчивость к искусственным манипуляциям (чтобы фейковые отзывы не влияли на оценку)."
   ]
  },
  {
   "cell_type": "markdown",
   "metadata": {},
   "source": [
    "# Выводы\n",
    "\n",
    "- Классические методы рекомендаций позволяют получить быстрый результат.\n",
    "- Нейронные сети позволяют строить более гибкие рекомендации, учитывая последовательность покупок.\n",
    "- Word2vec и ассоциативные правила позволяют визуализировать результат."
   ]
  },
  {
   "cell_type": "markdown",
   "metadata": {},
   "source": [
    "# Задачи\n",
    "\n",
    "Для решения заданий будут необходимы следующие пакеты:"
   ]
  },
  {
   "cell_type": "code",
   "execution_count": 2,
   "metadata": {},
   "outputs": [],
   "source": [
    "import pandas as pd\n",
    "import numpy as np\n",
    "import surprise\n",
    "import apyori"
   ]
  },
  {
   "cell_type": "markdown",
   "metadata": {},
   "source": [
    "Библиотека surprise — это специализированная библиотека для работы с рекомендательными системами, более подробно можно познакомиться с ней здесь http://surpriselib.com "
   ]
  },
  {
   "cell_type": "markdown",
   "metadata": {},
   "source": [
    "В данной библиотеке есть встроенные датасеты, одним из которых мы и будем пользоваться. Загрузим датасет ml-100k:"
   ]
  },
  {
   "cell_type": "code",
   "execution_count": 70,
   "metadata": {},
   "outputs": [],
   "source": [
    "data = surprise.Dataset.load_builtin(\"ml-100k\")\n",
    "trainingSet = data.build_full_trainset()"
   ]
  },
  {
   "cell_type": "markdown",
   "metadata": {},
   "source": [
    "Важно! Если при запуске предыдущей ячейки вам выходит сообщение о предложении скачать датасет, ответьте на него утвердительно."
   ]
  },
  {
   "cell_type": "code",
   "execution_count": 4,
   "metadata": {},
   "outputs": [],
   "source": [
    "testSet = trainingSet.build_testset()"
   ]
  },
  {
   "cell_type": "markdown",
   "metadata": {},
   "source": [
    "Задание 9.10.1\n",
    "\n",
    "Найдите количество пользователей в trainingSet."
   ]
  },
  {
   "cell_type": "code",
   "execution_count": 15,
   "metadata": {},
   "outputs": [
    {
     "data": {
      "text/plain": [
       "943"
      ]
     },
     "execution_count": 15,
     "metadata": {},
     "output_type": "execute_result"
    }
   ],
   "source": [
    "trainingSet.n_users"
   ]
  },
  {
   "cell_type": "markdown",
   "metadata": {},
   "source": [
    "Задание 9.10.2\n",
    "\n",
    "Найдите количество items в trainingSet."
   ]
  },
  {
   "cell_type": "code",
   "execution_count": 17,
   "metadata": {},
   "outputs": [
    {
     "data": {
      "text/plain": [
       "1682"
      ]
     },
     "execution_count": 17,
     "metadata": {},
     "output_type": "execute_result"
    }
   ],
   "source": [
    "trainingSet.n_items"
   ]
  },
  {
   "cell_type": "markdown",
   "metadata": {},
   "source": [
    "Задание 9.10.3\n",
    "\n",
    "Выведите среднее значение по всем показателям рейтинга для trainingSet. Ответ округлите до сотых.\n"
   ]
  },
  {
   "cell_type": "code",
   "execution_count": 19,
   "metadata": {
    "scrolled": true
   },
   "outputs": [
    {
     "data": {
      "text/plain": [
       "3.52986"
      ]
     },
     "execution_count": 19,
     "metadata": {},
     "output_type": "execute_result"
    }
   ],
   "source": [
    "trainingSet.global_mean"
   ]
  },
  {
   "cell_type": "markdown",
   "metadata": {},
   "source": [
    "Задание 9.10.4\n",
    "\n",
    "Проведите тренировку алгоритма user-based коллаборативной фильтрации KNNBasic.\n",
    "\n",
    "Постройте рекомендации testset c использованием этого алгоритма. Выведите предсказание под  8-ым индексом. В качестве ответа укажите id рекомендованного фильма."
   ]
  },
  {
   "cell_type": "code",
   "execution_count": 41,
   "metadata": {},
   "outputs": [
    {
     "name": "stdout",
     "output_type": "stream",
     "text": [
      "Computing the msd similarity matrix...\n",
      "Done computing similarity matrix.\n"
     ]
    }
   ],
   "source": [
    "from surprise import KNNBasic\n",
    "\n",
    "# инициализирууем модель(алгоритм) и обучим его\n",
    "model = KNNBasic()\n",
    "model.fit(trainingSet)\n",
    "\n",
    "# получим предсказания\n",
    "pred_knnb = model.test(testSet)"
   ]
  },
  {
   "cell_type": "code",
   "execution_count": 42,
   "metadata": {},
   "outputs": [
    {
     "data": {
      "text/plain": [
       "'663'"
      ]
     },
     "execution_count": 42,
     "metadata": {},
     "output_type": "execute_result"
    }
   ],
   "source": [
    "pred_knnb[8].iid"
   ]
  },
  {
   "cell_type": "markdown",
   "metadata": {},
   "source": [
    "Задание 9.10.5\n",
    "\n",
    "Проведите тренировку алгоритма SVD. Укажите параметр random_state=829. Постройте рекомендации testset c использованием этого алгоритма. Выведите предсказание под 42-ым индексом. \n",
    "\n",
    "В качестве ответа укажите разницу между истинным значением рейтинга для этого предсказания и оцениваемым. Округлите до тысячных."
   ]
  },
  {
   "cell_type": "code",
   "execution_count": 43,
   "metadata": {},
   "outputs": [],
   "source": [
    "from surprise import SVD\n",
    "\n",
    "# инициализирууем модель(алгоритм) и обучим его\n",
    "model = SVD(random_state=829)\n",
    "model.fit(trainingSet)\n",
    "\n",
    "# получим предсказания\n",
    "pred_svd = model.test(testSet)"
   ]
  },
  {
   "cell_type": "code",
   "execution_count": 44,
   "metadata": {},
   "outputs": [
    {
     "data": {
      "text/plain": [
       "Prediction(uid='186', iid='148', r_ui=4.0, est=3.575883908398154, details={'was_impossible': False})"
      ]
     },
     "execution_count": 44,
     "metadata": {},
     "output_type": "execute_result"
    }
   ],
   "source": [
    "pred_svd[42]"
   ]
  },
  {
   "cell_type": "code",
   "execution_count": 45,
   "metadata": {},
   "outputs": [
    {
     "data": {
      "text/plain": [
       "0.424"
      ]
     },
     "execution_count": 45,
     "metadata": {},
     "output_type": "execute_result"
    }
   ],
   "source": [
    "round(abs(pred_svd[42].r_ui - pred_svd[42].est), 3)"
   ]
  },
  {
   "cell_type": "markdown",
   "metadata": {},
   "source": [
    "Задание 9.10.6\n",
    "\n",
    "Рассчитайте метрику качества RMSE для предсказаний через функцию surprise.accuracy.rmse() для обоих обученных ранее алгоритмов. \n",
    "\n",
    "В качестве ответа укажите значение RMSE для того алгоритма, который дал лучший результат. Округлите ответ до двух знаков после точки-разделителя."
   ]
  },
  {
   "cell_type": "code",
   "execution_count": 46,
   "metadata": {},
   "outputs": [
    {
     "name": "stdout",
     "output_type": "stream",
     "text": [
      "RMSE: 0.7781\n",
      "RMSE: 0.6747\n",
      "rmse_knnb = 0.7780707712292397, rmse_svd = 0.6746987152322735\n"
     ]
    }
   ],
   "source": [
    "from surprise import accuracy\n",
    "\n",
    "# compute RMSE\n",
    "rmse_knnb = accuracy.rmse(pred_knnb)\n",
    "rmse_svd  = accuracy.rmse(pred_svd)\n",
    "\n",
    "print(f'rmse_knnb = {rmse_knnb}, rmse_svd = {rmse_svd}')"
   ]
  },
  {
   "cell_type": "markdown",
   "metadata": {},
   "source": [
    "Задание 9.10.7\n",
    "\n",
    "Cформируем датафрейм из нашего датасета."
   ]
  },
  {
   "cell_type": "code",
   "execution_count": 71,
   "metadata": {},
   "outputs": [
    {
     "data": {
      "text/html": [
       "<div>\n",
       "<style scoped>\n",
       "    .dataframe tbody tr th:only-of-type {\n",
       "        vertical-align: middle;\n",
       "    }\n",
       "\n",
       "    .dataframe tbody tr th {\n",
       "        vertical-align: top;\n",
       "    }\n",
       "\n",
       "    .dataframe thead th {\n",
       "        text-align: right;\n",
       "    }\n",
       "</style>\n",
       "<table border=\"1\" class=\"dataframe\">\n",
       "  <thead>\n",
       "    <tr style=\"text-align: right;\">\n",
       "      <th></th>\n",
       "      <th>user_id</th>\n",
       "      <th>movie_id</th>\n",
       "      <th>rating</th>\n",
       "      <th>3</th>\n",
       "    </tr>\n",
       "  </thead>\n",
       "  <tbody>\n",
       "    <tr>\n",
       "      <th>0</th>\n",
       "      <td>196</td>\n",
       "      <td>242</td>\n",
       "      <td>3.0</td>\n",
       "      <td>881250949</td>\n",
       "    </tr>\n",
       "    <tr>\n",
       "      <th>1</th>\n",
       "      <td>186</td>\n",
       "      <td>302</td>\n",
       "      <td>3.0</td>\n",
       "      <td>891717742</td>\n",
       "    </tr>\n",
       "    <tr>\n",
       "      <th>2</th>\n",
       "      <td>22</td>\n",
       "      <td>377</td>\n",
       "      <td>1.0</td>\n",
       "      <td>878887116</td>\n",
       "    </tr>\n",
       "    <tr>\n",
       "      <th>3</th>\n",
       "      <td>244</td>\n",
       "      <td>51</td>\n",
       "      <td>2.0</td>\n",
       "      <td>880606923</td>\n",
       "    </tr>\n",
       "    <tr>\n",
       "      <th>4</th>\n",
       "      <td>166</td>\n",
       "      <td>346</td>\n",
       "      <td>1.0</td>\n",
       "      <td>886397596</td>\n",
       "    </tr>\n",
       "  </tbody>\n",
       "</table>\n",
       "</div>"
      ],
      "text/plain": [
       "  user_id movie_id  rating          3\n",
       "0     196      242     3.0  881250949\n",
       "1     186      302     3.0  891717742\n",
       "2      22      377     1.0  878887116\n",
       "3     244       51     2.0  880606923\n",
       "4     166      346     1.0  886397596"
      ]
     },
     "execution_count": 71,
     "metadata": {},
     "output_type": "execute_result"
    }
   ],
   "source": [
    "df = pd.DataFrame(data.raw_ratings)\n",
    "df.columns = ['user_id', 'movie_id', 'rating', 3]\n",
    "df.head()"
   ]
  },
  {
   "cell_type": "markdown",
   "metadata": {},
   "source": [
    "1. Сформируйте для каждого user_id текстовую строку, содержащую набор movie_id, получивших оценку 4 и выше. Используйте пробел (\" \") в качестве разделителя.\n",
    "\n",
    "Для проверки результата введите строку для user_id 100. Укажите параметр random_state=829."
   ]
  },
  {
   "cell_type": "code",
   "execution_count": 78,
   "metadata": {},
   "outputs": [
    {
     "data": {
      "text/plain": [
       "user_id\n",
       "1      61 33 160 20 202 171 265 47 222 253 113 227 90...\n",
       "10     16 486 611 7 100 488 285 504 289 340 505 489 6...\n",
       "100    344 355 750 302 691 316 752 313 879 300 328 12...\n",
       "101    405 121 24 284 50 237 181 924 257 742 255 117 ...\n",
       "102    195 307 89 202 186 183 98 208 510 50 101 588 1...\n",
       "                             ...                        \n",
       "95     625 233 68 1 527 172 1206 416 174 143 96 843 1...\n",
       "96     156 87 673 479 153 91 519 8 484 645 64 100 170...\n",
       "97     228 222 670 89 482 98 50 115 7 435 28 428 655 ...\n",
       "98     47 517 116 629 523 514 25 428 435 211 210 659 194\n",
       "99     4 79 1016 403 50 742 181 182 597 410 168 204 5...\n",
       "Name: movie_id, Length: 942, dtype: object"
      ]
     },
     "execution_count": 78,
     "metadata": {},
     "output_type": "execute_result"
    }
   ],
   "source": [
    "good = df[df['rating'] >= 4].groupby('user_id')['movie_id'].apply(lambda r: ' '.join([str(a) for a in r]))\n",
    "good"
   ]
  },
  {
   "cell_type": "code",
   "execution_count": 79,
   "metadata": {},
   "outputs": [
    {
     "data": {
      "text/plain": [
       "'344 355 750 302 691 316 752 313 879 300 328 1235 690 347 269 258 900 294 272 751 898 315'"
      ]
     },
     "execution_count": 79,
     "metadata": {},
     "output_type": "execute_result"
    }
   ],
   "source": [
    "good['100']"
   ]
  },
  {
   "cell_type": "code",
   "execution_count": 77,
   "metadata": {},
   "outputs": [
    {
     "data": {
      "text/html": [
       "<div>\n",
       "<style scoped>\n",
       "    .dataframe tbody tr th:only-of-type {\n",
       "        vertical-align: middle;\n",
       "    }\n",
       "\n",
       "    .dataframe tbody tr th {\n",
       "        vertical-align: top;\n",
       "    }\n",
       "\n",
       "    .dataframe thead th {\n",
       "        text-align: right;\n",
       "    }\n",
       "</style>\n",
       "<table border=\"1\" class=\"dataframe\">\n",
       "  <thead>\n",
       "    <tr style=\"text-align: right;\">\n",
       "      <th></th>\n",
       "      <th>user_id</th>\n",
       "      <th>movie_id</th>\n",
       "      <th>rating</th>\n",
       "      <th>3</th>\n",
       "    </tr>\n",
       "  </thead>\n",
       "  <tbody>\n",
       "    <tr>\n",
       "      <th>8793</th>\n",
       "      <td>100</td>\n",
       "      <td>316</td>\n",
       "      <td>5.0</td>\n",
       "      <td>891375313</td>\n",
       "    </tr>\n",
       "    <tr>\n",
       "      <th>18058</th>\n",
       "      <td>100</td>\n",
       "      <td>313</td>\n",
       "      <td>5.0</td>\n",
       "      <td>891374706</td>\n",
       "    </tr>\n",
       "    <tr>\n",
       "      <th>97602</th>\n",
       "      <td>100</td>\n",
       "      <td>315</td>\n",
       "      <td>5.0</td>\n",
       "      <td>891375557</td>\n",
       "    </tr>\n",
       "  </tbody>\n",
       "</table>\n",
       "</div>"
      ],
      "text/plain": [
       "      user_id movie_id  rating          3\n",
       "8793      100      316     5.0  891375313\n",
       "18058     100      313     5.0  891374706\n",
       "97602     100      315     5.0  891375557"
      ]
     },
     "execution_count": 77,
     "metadata": {},
     "output_type": "execute_result"
    }
   ],
   "source": [
    "df.query(f'user_id == \"100\" and rating == 5')"
   ]
  },
  {
   "cell_type": "markdown",
   "metadata": {},
   "source": [
    "2. Используя алгоритм apriory из модуля apyory, рассчитайте ассоциативные правила для полученного набора фильмов с положительными оценками. Будем считать, что хороший рейтинг — это когда оценка >=4. Используйте следующие ограничения:\n",
    "\n",
    "  - минимальный support 0.2,\n",
    "  - минимальное значение confidence 0.3,\n",
    "  - минимальное значение lift 2,\n",
    "  - минимальная длина 2.\n",
    "\n",
    "Сколько правил получилось?"
   ]
  },
  {
   "cell_type": "code",
   "execution_count": 56,
   "metadata": {},
   "outputs": [
    {
     "data": {
      "text/plain": [
       "user_id\n",
       "1      61 33 160 20 202 171 265 47 222 253 113 227 90...\n",
       "10     16 486 611 7 100 488 285 504 289 340 505 489 6...\n",
       "100    344 355 750 302 691 316 752 313 879 300 328 12...\n",
       "101    405 121 24 284 50 237 181 924 257 742 255 117 ...\n",
       "102    195 307 89 202 186 183 98 208 510 50 101 588 1...\n",
       "                             ...                        \n",
       "95     625 233 68 1 527 172 1206 416 174 143 96 843 1...\n",
       "96     156 87 673 479 153 91 519 8 484 645 64 100 170...\n",
       "97     228 222 670 89 482 98 50 115 7 435 28 428 655 ...\n",
       "98     47 517 116 629 523 514 25 428 435 211 210 659 194\n",
       "99     4 79 1016 403 50 742 181 182 597 410 168 204 5...\n",
       "Name: movie_id, Length: 942, dtype: object"
      ]
     },
     "execution_count": 56,
     "metadata": {},
     "output_type": "execute_result"
    }
   ],
   "source": [
    "good = df[df['rating'] >= 4].groupby('user_id')['movie_id'].apply(lambda r: ' '.join([str(a) for a in r]))\n",
    "good"
   ]
  },
  {
   "cell_type": "code",
   "execution_count": 57,
   "metadata": {},
   "outputs": [],
   "source": [
    "import apyori\n",
    "\n",
    "association_rules = apyori.apriori(good.apply(lambda r: r.split(' ')), \n",
    "                                   min_support=0.2, \n",
    "                                   min_confidence=0.3, \n",
    "                                   min_lift=2, \n",
    "                                   min_length=2)"
   ]
  },
  {
   "cell_type": "code",
   "execution_count": 60,
   "metadata": {},
   "outputs": [],
   "source": [
    "asr_df = pd.DataFrame(columns = ['from', 'to', 'confidence', 'support', 'lift'])\n",
    "for item in association_rules:\n",
    "    pair = item[0] \n",
    "    items = [x for x in pair]\n",
    "    asr_df.loc[len(asr_df), :] =  ' '.join(list(item[2][0][0])), \\\n",
    "                                  ' '.join(list(item[2][0][1])),\\\n",
    "                                  item[2][0][2], item[1], item[2][0][3]"
   ]
  },
  {
   "cell_type": "code",
   "execution_count": 61,
   "metadata": {},
   "outputs": [
    {
     "data": {
      "text/html": [
       "<div>\n",
       "<style scoped>\n",
       "    .dataframe tbody tr th:only-of-type {\n",
       "        vertical-align: middle;\n",
       "    }\n",
       "\n",
       "    .dataframe tbody tr th {\n",
       "        vertical-align: top;\n",
       "    }\n",
       "\n",
       "    .dataframe thead th {\n",
       "        text-align: right;\n",
       "    }\n",
       "</style>\n",
       "<table border=\"1\" class=\"dataframe\">\n",
       "  <thead>\n",
       "    <tr style=\"text-align: right;\">\n",
       "      <th></th>\n",
       "      <th>from</th>\n",
       "      <th>to</th>\n",
       "      <th>confidence</th>\n",
       "      <th>support</th>\n",
       "      <th>lift</th>\n",
       "    </tr>\n",
       "  </thead>\n",
       "  <tbody>\n",
       "    <tr>\n",
       "      <th>0</th>\n",
       "      <td>172</td>\n",
       "      <td>174</td>\n",
       "      <td>0.819113</td>\n",
       "      <td>0.254777</td>\n",
       "      <td>2.21725</td>\n",
       "    </tr>\n",
       "    <tr>\n",
       "      <th>1</th>\n",
       "      <td>173</td>\n",
       "      <td>174</td>\n",
       "      <td>0.762097</td>\n",
       "      <td>0.200637</td>\n",
       "      <td>2.06292</td>\n",
       "    </tr>\n",
       "    <tr>\n",
       "      <th>2</th>\n",
       "      <td>174</td>\n",
       "      <td>195</td>\n",
       "      <td>0.548851</td>\n",
       "      <td>0.20276</td>\n",
       "      <td>2.38257</td>\n",
       "    </tr>\n",
       "    <tr>\n",
       "      <th>3</th>\n",
       "      <td>174</td>\n",
       "      <td>204</td>\n",
       "      <td>0.543103</td>\n",
       "      <td>0.200637</td>\n",
       "      <td>2.17704</td>\n",
       "    </tr>\n",
       "    <tr>\n",
       "      <th>4</th>\n",
       "      <td>174</td>\n",
       "      <td>210</td>\n",
       "      <td>0.563218</td>\n",
       "      <td>0.208068</td>\n",
       "      <td>2.25767</td>\n",
       "    </tr>\n",
       "    <tr>\n",
       "      <th>5</th>\n",
       "      <td>174</td>\n",
       "      <td>79</td>\n",
       "      <td>0.591954</td>\n",
       "      <td>0.218684</td>\n",
       "      <td>2.1122</td>\n",
       "    </tr>\n",
       "    <tr>\n",
       "      <th>6</th>\n",
       "      <td>172</td>\n",
       "      <td>181 174</td>\n",
       "      <td>0.651877</td>\n",
       "      <td>0.20276</td>\n",
       "      <td>2.6583</td>\n",
       "    </tr>\n",
       "    <tr>\n",
       "      <th>7</th>\n",
       "      <td>172</td>\n",
       "      <td>50 174</td>\n",
       "      <td>0.78157</td>\n",
       "      <td>0.2431</td>\n",
       "      <td>2.51276</td>\n",
       "    </tr>\n",
       "    <tr>\n",
       "      <th>8</th>\n",
       "      <td>172</td>\n",
       "      <td>181 50</td>\n",
       "      <td>0.750853</td>\n",
       "      <td>0.233546</td>\n",
       "      <td>2.02666</td>\n",
       "    </tr>\n",
       "    <tr>\n",
       "      <th>9</th>\n",
       "      <td>174</td>\n",
       "      <td>50 98</td>\n",
       "      <td>0.577586</td>\n",
       "      <td>0.213376</td>\n",
       "      <td>2.12534</td>\n",
       "    </tr>\n",
       "  </tbody>\n",
       "</table>\n",
       "</div>"
      ],
      "text/plain": [
       "  from       to confidence   support     lift\n",
       "0  172      174   0.819113  0.254777  2.21725\n",
       "1  173      174   0.762097  0.200637  2.06292\n",
       "2  174      195   0.548851   0.20276  2.38257\n",
       "3  174      204   0.543103  0.200637  2.17704\n",
       "4  174      210   0.563218  0.208068  2.25767\n",
       "5  174       79   0.591954  0.218684   2.1122\n",
       "6  172  181 174   0.651877   0.20276   2.6583\n",
       "7  172   50 174    0.78157    0.2431  2.51276\n",
       "8  172   181 50   0.750853  0.233546  2.02666\n",
       "9  174    50 98   0.577586  0.213376  2.12534"
      ]
     },
     "execution_count": 61,
     "metadata": {},
     "output_type": "execute_result"
    }
   ],
   "source": [
    "asr_df"
   ]
  },
  {
   "cell_type": "code",
   "execution_count": null,
   "metadata": {},
   "outputs": [],
   "source": []
  }
 ],
 "metadata": {
  "kernelspec": {
   "display_name": "Python 3",
   "language": "python",
   "name": "python3"
  },
  "language_info": {
   "codemirror_mode": {
    "name": "ipython",
    "version": 3
   },
   "file_extension": ".py",
   "mimetype": "text/x-python",
   "name": "python",
   "nbconvert_exporter": "python",
   "pygments_lexer": "ipython3",
   "version": "3.6.6"
  }
 },
 "nbformat": 4,
 "nbformat_minor": 2
}
