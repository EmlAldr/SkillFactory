{
 "cells": [
  {
   "cell_type": "markdown",
   "metadata": {},
   "source": [
    "# Ассоциативные правила. Практика"
   ]
  },
  {
   "cell_type": "markdown",
   "metadata": {},
   "source": [
    "Строить ассоциативные правила мы будем на основе датасета от Netflix.\n",
    "\n",
    "Примечание: так как предобработка датасета занимает большое время, мы сделали её за вас! Готовый датасет можно найти здесь.\n",
    "\n",
    "Также вам понадобятся данные с ID и названиями фильмов, которые можно найти здесь.\n",
    "\n",
    "Если вам интересно самостоятельно обработать данные с самого начала, то можете скачать датасет, приложенный к уроку, и выполнить шаги, изложенные в скринкасте. Они также прописаны в приложенном к уроку ноутбуке.\n",
    "https://www.kaggle.com/netflix-inc/netflix-prize-data"
   ]
  },
  {
   "cell_type": "markdown",
   "metadata": {},
   "source": [
    "**Подготовить данные самому**"
   ]
  },
  {
   "cell_type": "code",
   "execution_count": 1,
   "metadata": {},
   "outputs": [],
   "source": [
    "import pandas as pd"
   ]
  },
  {
   "cell_type": "code",
   "execution_count": 2,
   "metadata": {},
   "outputs": [],
   "source": [
    "data_all = []\n",
    "for i in range(4):\n",
    "    data = pd.read_csv('/home/aprosvetov/netflix/combined_data_' + str(i+1)+'.txt', header = None, names = ['Cust_Id', 'Rating'], usecols = [0,1])\n",
    "    data_all.append(data)"
   ]
  },
  {
   "cell_type": "code",
   "execution_count": 3,
   "metadata": {},
   "outputs": [],
   "source": [
    "df = pd.concat(data_all)"
   ]
  },
  {
   "cell_type": "code",
   "execution_count": 4,
   "metadata": {},
   "outputs": [
    {
     "name": "stdout",
     "output_type": "stream",
     "text": [
      "Full dataset shape: (100498277, 2)\n",
      "-Dataset examples-\n",
      "           Cust_Id  Rating\n",
      "0               1:     NaN\n",
      "5000000    2560324     4.0\n",
      "10000000   2271935     2.0\n",
      "15000000   1921803     2.0\n",
      "20000000   1933327     3.0\n",
      "25000000   1465002     3.0\n",
      "30000000    961023     4.0\n",
      "35000000   1372532     5.0\n",
      "40000000    854274     5.0\n",
      "45000000    116334     3.0\n",
      "50000000    768483     3.0\n",
      "55000000   1331144     5.0\n",
      "60000000   1609324     2.0\n",
      "65000000   1699240     3.0\n",
      "70000000   1776418     4.0\n",
      "75000000   1643826     5.0\n",
      "80000000    932047     4.0\n",
      "85000000   2292868     4.0\n",
      "90000000    932191     4.0\n",
      "95000000   1815101     3.0\n",
      "100000000   872339     4.0\n"
     ]
    }
   ],
   "source": [
    "import numpy as np\n",
    "df.index = np.arange(0,len(df))\n",
    "print('Full dataset shape: {}'.format(df.shape))\n",
    "print('-Dataset examples-')\n",
    "print(df.iloc[::5000000, :])"
   ]
  },
  {
   "cell_type": "code",
   "execution_count": null,
   "metadata": {},
   "outputs": [],
   "source": [
    "df.shape"
   ]
  },
  {
   "cell_type": "code",
   "execution_count": null,
   "metadata": {},
   "outputs": [],
   "source": [
    "import numpy as np\n",
    "df_nan = pd.DataFrame(pd.isnull(df.Rating))\n",
    "df_nan = df_nan[df_nan['Rating'] == True]\n",
    "df_nan = df_nan.reset_index()\n",
    "\n",
    "movie_np = []\n",
    "movie_id = 1\n",
    "\n",
    "for i,j in zip(df_nan['index'][1:],df_nan['index'][:-1]):\n",
    "    # numpy approach\n",
    "    temp = np.full((1,np.abs(i-j-1)), movie_id)\n",
    "    movie_np = np.append(movie_np, temp)\n",
    "    movie_id += 1\n",
    "\n",
    "# Account for last record and corresponding length\n",
    "# numpy approach\n",
    "last_record = np.full((1,len(df) - df_nan.iloc[-1, 0] - 1),movie_id)\n",
    "movie_np = np.append(movie_np, last_record)"
   ]
  },
  {
   "cell_type": "code",
   "execution_count": null,
   "metadata": {},
   "outputs": [],
   "source": [
    "df = df[pd.notnull(df['Rating'])]\n",
    "\n",
    "df['Movie_Id'] = movie_np.astype(int)\n",
    "df['Cust_Id'] = df['Cust_Id'].astype(int)\n",
    "print('-Dataset examples-')\n",
    "print(df.sample(3))"
   ]
  },
  {
   "cell_type": "code",
   "execution_count": null,
   "metadata": {},
   "outputs": [],
   "source": [
    "df.to_csv('/srv/aprosvetov/netflix/data_prep.csv', sep=';', index = None)"
   ]
  },
  {
   "cell_type": "markdown",
   "metadata": {},
   "source": [
    "**Взять уже подготовленные данные**\n",
    "\n",
    "Подготовленные данные в data_fin.csv, но 100 млн.строк юпитер не может прочитать, падает ядро. Почистил файл и оставил 30 млн. data_fin_half.csv"
   ]
  },
  {
   "cell_type": "code",
   "execution_count": 1,
   "metadata": {},
   "outputs": [
    {
     "name": "stdout",
     "output_type": "stream",
     "text": [
      "-rw-r--r--  1  501 dialout 1806696634 Aug 22 17:26 data_fin.csv\r\n",
      "-rw-r--r--  1 root root     566312581 Aug 22 17:56 data_fin_half.csv\r\n"
     ]
    }
   ],
   "source": [
    "!ls -la ../data/ | grep data_fin"
   ]
  },
  {
   "cell_type": "code",
   "execution_count": 8,
   "metadata": {},
   "outputs": [
    {
     "name": "stdout",
     "output_type": "stream",
     "text": [
      "Collecting apyori\n",
      "  Downloading https://files.pythonhosted.org/packages/5e/62/5ffde5c473ea4b033490617ec5caa80d59804875ad3c3c57c0976533a21a/apyori-1.1.2.tar.gz\n",
      "Building wheels for collected packages: apyori\n",
      "  Building wheel for apyori (setup.py) ... \u001b[?25ldone\n",
      "\u001b[?25h  Created wheel for apyori: filename=apyori-1.1.2-cp36-none-any.whl size=5975 sha256=fafd95a7196bc8ba9b5a2503e7284514d07d28a019ebdc574a012b4b29b6ad2c\n",
      "  Stored in directory: /notebooks/home/.cache/pip/wheels/5d/92/bb/474bbadbc8c0062b9eb168f69982a0443263f8ab1711a8cad0\n",
      "Successfully built apyori\n",
      "Installing collected packages: apyori\n",
      "\u001b[33m  WARNING: The script apyori-run is installed in '/notebooks/home/.local/bin' which is not on PATH.\n",
      "  Consider adding this directory to PATH or, if you prefer to suppress this warning, use --no-warn-script-location.\u001b[0m\n",
      "Successfully installed apyori-1.1.2\n"
     ]
    }
   ],
   "source": [
    "!pip install --user apyori"
   ]
  },
  {
   "cell_type": "code",
   "execution_count": 3,
   "metadata": {},
   "outputs": [],
   "source": [
    "import pandas as pd"
   ]
  },
  {
   "cell_type": "markdown",
   "metadata": {},
   "source": [
    "Итак, для начала откроем наш (уже предобработанный) датасет:"
   ]
  },
  {
   "cell_type": "code",
   "execution_count": 4,
   "metadata": {},
   "outputs": [
    {
     "data": {
      "text/html": [
       "<div>\n",
       "<style scoped>\n",
       "    .dataframe tbody tr th:only-of-type {\n",
       "        vertical-align: middle;\n",
       "    }\n",
       "\n",
       "    .dataframe tbody tr th {\n",
       "        vertical-align: top;\n",
       "    }\n",
       "\n",
       "    .dataframe thead th {\n",
       "        text-align: right;\n",
       "    }\n",
       "</style>\n",
       "<table border=\"1\" class=\"dataframe\">\n",
       "  <thead>\n",
       "    <tr style=\"text-align: right;\">\n",
       "      <th></th>\n",
       "      <th>Cust_Id</th>\n",
       "      <th>Rating</th>\n",
       "      <th>Movie_Id</th>\n",
       "    </tr>\n",
       "  </thead>\n",
       "  <tbody>\n",
       "    <tr>\n",
       "      <th>0</th>\n",
       "      <td>1488844</td>\n",
       "      <td>3.0</td>\n",
       "      <td>1</td>\n",
       "    </tr>\n",
       "    <tr>\n",
       "      <th>1</th>\n",
       "      <td>822109</td>\n",
       "      <td>5.0</td>\n",
       "      <td>1</td>\n",
       "    </tr>\n",
       "    <tr>\n",
       "      <th>2</th>\n",
       "      <td>885013</td>\n",
       "      <td>4.0</td>\n",
       "      <td>1</td>\n",
       "    </tr>\n",
       "    <tr>\n",
       "      <th>3</th>\n",
       "      <td>30878</td>\n",
       "      <td>4.0</td>\n",
       "      <td>1</td>\n",
       "    </tr>\n",
       "    <tr>\n",
       "      <th>4</th>\n",
       "      <td>823519</td>\n",
       "      <td>3.0</td>\n",
       "      <td>1</td>\n",
       "    </tr>\n",
       "  </tbody>\n",
       "</table>\n",
       "</div>"
      ],
      "text/plain": [
       "   Cust_Id  Rating  Movie_Id\n",
       "0  1488844     3.0         1\n",
       "1   822109     5.0         1\n",
       "2   885013     4.0         1\n",
       "3    30878     4.0         1\n",
       "4   823519     3.0         1"
      ]
     },
     "execution_count": 4,
     "metadata": {},
     "output_type": "execute_result"
    }
   ],
   "source": [
    "df = pd.read_csv('../data/data_fin_half.csv', sep=';')\n",
    "df.head()"
   ]
  },
  {
   "cell_type": "markdown",
   "metadata": {},
   "source": [
    "Получаем следующее:"
   ]
  },
  {
   "cell_type": "code",
   "execution_count": 88,
   "metadata": {},
   "outputs": [
    {
     "name": "stdout",
     "output_type": "stream",
     "text": [
      "<class 'pandas.core.frame.DataFrame'>\n",
      "RangeIndex: 30480507 entries, 0 to 30480506\n",
      "Data columns (total 3 columns):\n",
      "Cust_Id     int64\n",
      "Rating      float64\n",
      "Movie_Id    int64\n",
      "dtypes: float64(1), int64(2)\n",
      "memory usage: 697.6 MB\n"
     ]
    }
   ],
   "source": [
    "df.info()"
   ]
  },
  {
   "cell_type": "markdown",
   "metadata": {},
   "source": [
    "Здесь есть ID для пользователя, ID для фильма и рейтинг, который поставил данный пользователь данному фильму.\n",
    "\n",
    "Из полученного датасета возьмем только те записи, у которых наивысший рейтинг (5) и объединим их по \"Cust_Id\". Фильмы сгруппируем в строчку с разделителем \"пробел\" так, чтобы для каждого пользователя была строка с Id тех фильмов, которые ему понравились:"
   ]
  },
  {
   "cell_type": "code",
   "execution_count": 5,
   "metadata": {},
   "outputs": [],
   "source": [
    "good = df[df['Rating']==5].groupby('Cust_Id')['Movie_Id'].apply(lambda r: ' '.join([str(A) for A in r]))"
   ]
  },
  {
   "cell_type": "markdown",
   "metadata": {},
   "source": [
    "Получаем датасет следующего вида:"
   ]
  },
  {
   "cell_type": "code",
   "execution_count": 6,
   "metadata": {},
   "outputs": [
    {
     "data": {
      "text/plain": [
       "Cust_Id\n",
       "6     12918 13728 13883 14187 14240 14454 14482 1455...\n",
       "7     12693 12778 12870 12904 13052 13072 13123 1329...\n",
       "8     12732 13651 14149 14367 15124 15887 16242 1676...\n",
       "10    13195 13748 13955 14050 14313 14367 14621 1472...\n",
       "25                                          15107 15270\n",
       "Name: Movie_Id, dtype: object"
      ]
     },
     "execution_count": 6,
     "metadata": {},
     "output_type": "execute_result"
    }
   ],
   "source": [
    "good.head()"
   ]
  },
  {
   "cell_type": "markdown",
   "metadata": {},
   "source": [
    "Сначала идёт ID пользователя, дальше через пробел фильмы, которые нравятся этому пользователю.\n",
    "\n",
    "Для дальнейших операций загружаем библиотеку apyori, которая представляет из себя реализацию алгоритмов Apriori в языке Python. Эта библиотека не является предустановленной, поэтому первоначально установите ее (например, через менеджер pip)"
   ]
  },
  {
   "cell_type": "code",
   "execution_count": 9,
   "metadata": {},
   "outputs": [],
   "source": [
    "import apyori"
   ]
  },
  {
   "cell_type": "markdown",
   "metadata": {},
   "source": [
    "Теперь, когда необходимая библиотека подгружена, сделаем несколько ассоциативных правил. Мы можем регулировать их количество, меняя параметры алгоритмов. Посмотрим, какие ассоциативные правила получаются для support = 0.04"
   ]
  },
  {
   "cell_type": "code",
   "execution_count": 10,
   "metadata": {},
   "outputs": [],
   "source": [
    "association_rules = apyori.apriori(good.apply(lambda r: r.split(' ')), \n",
    "                                   min_support=0.04, \n",
    "                                   min_confidence=0.1, min_lift=2, \n",
    "                                   min_length=2)"
   ]
  },
  {
   "cell_type": "markdown",
   "metadata": {},
   "source": [
    "\n",
    "Напомним, что support, confidence и lift — это показатели, которые мы учились рассчитывать ранее. Мы можем регулировать их для того, чтобы настроить ассоциативные правила.\n",
    "\n",
    "Строго говоря, мы получили не сами ассоциативные правила, а генератор. Это можно проверить, если, например, вызвать переменную association_rules:"
   ]
  },
  {
   "cell_type": "code",
   "execution_count": 11,
   "metadata": {},
   "outputs": [
    {
     "data": {
      "text/plain": [
       "<generator object apriori at 0x7f960c14a360>"
      ]
     },
     "execution_count": 11,
     "metadata": {},
     "output_type": "execute_result"
    }
   ],
   "source": [
    "association_rules"
   ]
  },
  {
   "cell_type": "markdown",
   "metadata": {},
   "source": [
    "Пройдемся по генератору и объединим его результаты. Эта процедура может занять некоторое время."
   ]
  },
  {
   "cell_type": "code",
   "execution_count": 12,
   "metadata": {},
   "outputs": [],
   "source": [
    "asr_df = pd.DataFrame(columns = ['from', 'to', 'confidence', 'support', 'lift'])\n",
    "for item in association_rules:\n",
    "    pair = item[0] \n",
    "    items = [x for x in pair]\n",
    "    asr_df.loc[len(asr_df), :] =  ' '.join(list(item[2][0][0])), \\\n",
    "                                  ' '.join(list(item[2][0][1])),\\\n",
    "                                  item[2][0][2], item[1], item[2][0][3]"
   ]
  },
  {
   "cell_type": "markdown",
   "metadata": {},
   "source": [
    "Посмотрим, что получилось:"
   ]
  },
  {
   "cell_type": "code",
   "execution_count": 13,
   "metadata": {},
   "outputs": [
    {
     "data": {
      "text/html": [
       "<div>\n",
       "<style scoped>\n",
       "    .dataframe tbody tr th:only-of-type {\n",
       "        vertical-align: middle;\n",
       "    }\n",
       "\n",
       "    .dataframe tbody tr th {\n",
       "        vertical-align: top;\n",
       "    }\n",
       "\n",
       "    .dataframe thead th {\n",
       "        text-align: right;\n",
       "    }\n",
       "</style>\n",
       "<table border=\"1\" class=\"dataframe\">\n",
       "  <thead>\n",
       "    <tr style=\"text-align: right;\">\n",
       "      <th></th>\n",
       "      <th>from</th>\n",
       "      <th>to</th>\n",
       "      <th>confidence</th>\n",
       "      <th>support</th>\n",
       "      <th>lift</th>\n",
       "    </tr>\n",
       "  </thead>\n",
       "  <tbody>\n",
       "    <tr>\n",
       "      <th>0</th>\n",
       "      <td>12870</td>\n",
       "      <td>13728</td>\n",
       "      <td>0.345912</td>\n",
       "      <td>0.0486241</td>\n",
       "      <td>2.14654</td>\n",
       "    </tr>\n",
       "    <tr>\n",
       "      <th>1</th>\n",
       "      <td>12870</td>\n",
       "      <td>14240</td>\n",
       "      <td>0.454075</td>\n",
       "      <td>0.0638284</td>\n",
       "      <td>2.11231</td>\n",
       "    </tr>\n",
       "    <tr>\n",
       "      <th>2</th>\n",
       "      <td>12870</td>\n",
       "      <td>14550</td>\n",
       "      <td>0.595409</td>\n",
       "      <td>0.0836955</td>\n",
       "      <td>2.70152</td>\n",
       "    </tr>\n",
       "    <tr>\n",
       "      <th>3</th>\n",
       "      <td>12870</td>\n",
       "      <td>14621</td>\n",
       "      <td>0.325363</td>\n",
       "      <td>0.0457357</td>\n",
       "      <td>2.10945</td>\n",
       "    </tr>\n",
       "    <tr>\n",
       "      <th>4</th>\n",
       "      <td>12870</td>\n",
       "      <td>14691</td>\n",
       "      <td>0.336783</td>\n",
       "      <td>0.0473409</td>\n",
       "      <td>2.05946</td>\n",
       "    </tr>\n",
       "    <tr>\n",
       "      <th>...</th>\n",
       "      <td>...</td>\n",
       "      <td>...</td>\n",
       "      <td>...</td>\n",
       "      <td>...</td>\n",
       "      <td>...</td>\n",
       "    </tr>\n",
       "    <tr>\n",
       "      <th>90</th>\n",
       "      <td>14240</td>\n",
       "      <td>14961 16377</td>\n",
       "      <td>0.18832</td>\n",
       "      <td>0.0404823</td>\n",
       "      <td>4.17229</td>\n",
       "    </tr>\n",
       "    <tr>\n",
       "      <th>91</th>\n",
       "      <td>14240</td>\n",
       "      <td>14961 16954</td>\n",
       "      <td>0.256678</td>\n",
       "      <td>0.055177</td>\n",
       "      <td>4.20926</td>\n",
       "    </tr>\n",
       "    <tr>\n",
       "      <th>92</th>\n",
       "      <td>14240</td>\n",
       "      <td>14961 17157</td>\n",
       "      <td>0.201692</td>\n",
       "      <td>0.0433568</td>\n",
       "      <td>4.20284</td>\n",
       "    </tr>\n",
       "    <tr>\n",
       "      <th>93</th>\n",
       "      <td>14240</td>\n",
       "      <td>16265 16954</td>\n",
       "      <td>0.220548</td>\n",
       "      <td>0.0474104</td>\n",
       "      <td>3.27853</td>\n",
       "    </tr>\n",
       "    <tr>\n",
       "      <th>94</th>\n",
       "      <td>14550</td>\n",
       "      <td>17157 16377</td>\n",
       "      <td>0.200998</td>\n",
       "      <td>0.0442995</td>\n",
       "      <td>2.87821</td>\n",
       "    </tr>\n",
       "  </tbody>\n",
       "</table>\n",
       "<p>95 rows × 5 columns</p>\n",
       "</div>"
      ],
      "text/plain": [
       "     from           to confidence    support     lift\n",
       "0   12870        13728   0.345912  0.0486241  2.14654\n",
       "1   12870        14240   0.454075  0.0638284  2.11231\n",
       "2   12870        14550   0.595409  0.0836955  2.70152\n",
       "3   12870        14621   0.325363  0.0457357  2.10945\n",
       "4   12870        14691   0.336783  0.0473409  2.05946\n",
       "..    ...          ...        ...        ...      ...\n",
       "90  14240  14961 16377    0.18832  0.0404823  4.17229\n",
       "91  14240  14961 16954   0.256678   0.055177  4.20926\n",
       "92  14240  14961 17157   0.201692  0.0433568  4.20284\n",
       "93  14240  16265 16954   0.220548  0.0474104  3.27853\n",
       "94  14550  17157 16377   0.200998  0.0442995  2.87821\n",
       "\n",
       "[95 rows x 5 columns]"
      ]
     },
     "execution_count": 13,
     "metadata": {},
     "output_type": "execute_result"
    }
   ],
   "source": [
    "asr_df"
   ]
  },
  {
   "cell_type": "code",
   "execution_count": 14,
   "metadata": {},
   "outputs": [
    {
     "data": {
      "text/html": [
       "<div>\n",
       "<style scoped>\n",
       "    .dataframe tbody tr th:only-of-type {\n",
       "        vertical-align: middle;\n",
       "    }\n",
       "\n",
       "    .dataframe tbody tr th {\n",
       "        vertical-align: top;\n",
       "    }\n",
       "\n",
       "    .dataframe thead th {\n",
       "        text-align: right;\n",
       "    }\n",
       "</style>\n",
       "<table border=\"1\" class=\"dataframe\">\n",
       "  <thead>\n",
       "    <tr style=\"text-align: right;\">\n",
       "      <th></th>\n",
       "      <th>from</th>\n",
       "      <th>to</th>\n",
       "      <th>confidence</th>\n",
       "      <th>support</th>\n",
       "      <th>lift</th>\n",
       "    </tr>\n",
       "  </thead>\n",
       "  <tbody>\n",
       "    <tr>\n",
       "      <th>56</th>\n",
       "      <td>14961</td>\n",
       "      <td>16265</td>\n",
       "      <td>0.490286</td>\n",
       "      <td>0.0656444</td>\n",
       "      <td>3.81504</td>\n",
       "    </tr>\n",
       "    <tr>\n",
       "      <th>25</th>\n",
       "      <td>14240</td>\n",
       "      <td>14961</td>\n",
       "      <td>0.540143</td>\n",
       "      <td>0.116112</td>\n",
       "      <td>4.03423</td>\n",
       "    </tr>\n",
       "    <tr>\n",
       "      <th>90</th>\n",
       "      <td>14240</td>\n",
       "      <td>14961 16377</td>\n",
       "      <td>0.18832</td>\n",
       "      <td>0.0404823</td>\n",
       "      <td>4.17229</td>\n",
       "    </tr>\n",
       "    <tr>\n",
       "      <th>80</th>\n",
       "      <td>14240</td>\n",
       "      <td>14961 14550</td>\n",
       "      <td>0.281741</td>\n",
       "      <td>0.0605647</td>\n",
       "      <td>4.18257</td>\n",
       "    </tr>\n",
       "    <tr>\n",
       "      <th>92</th>\n",
       "      <td>14240</td>\n",
       "      <td>14961 17157</td>\n",
       "      <td>0.201692</td>\n",
       "      <td>0.0433568</td>\n",
       "      <td>4.20284</td>\n",
       "    </tr>\n",
       "    <tr>\n",
       "      <th>91</th>\n",
       "      <td>14240</td>\n",
       "      <td>14961 16954</td>\n",
       "      <td>0.256678</td>\n",
       "      <td>0.055177</td>\n",
       "      <td>4.20926</td>\n",
       "    </tr>\n",
       "    <tr>\n",
       "      <th>86</th>\n",
       "      <td>14240</td>\n",
       "      <td>14961 14691</td>\n",
       "      <td>0.270395</td>\n",
       "      <td>0.0581256</td>\n",
       "      <td>4.23367</td>\n",
       "    </tr>\n",
       "    <tr>\n",
       "      <th>89</th>\n",
       "      <td>14240</td>\n",
       "      <td>16265 14961</td>\n",
       "      <td>0.278897</td>\n",
       "      <td>0.0599532</td>\n",
       "      <td>4.2486</td>\n",
       "    </tr>\n",
       "    <tr>\n",
       "      <th>85</th>\n",
       "      <td>14240</td>\n",
       "      <td>14961 14621</td>\n",
       "      <td>0.217596</td>\n",
       "      <td>0.0467757</td>\n",
       "      <td>4.26421</td>\n",
       "    </tr>\n",
       "    <tr>\n",
       "      <th>31</th>\n",
       "      <td>14302</td>\n",
       "      <td>16147</td>\n",
       "      <td>0.741323</td>\n",
       "      <td>0.0433406</td>\n",
       "      <td>11.8443</td>\n",
       "    </tr>\n",
       "  </tbody>\n",
       "</table>\n",
       "</div>"
      ],
      "text/plain": [
       "     from           to confidence    support     lift\n",
       "56  14961        16265   0.490286  0.0656444  3.81504\n",
       "25  14240        14961   0.540143   0.116112  4.03423\n",
       "90  14240  14961 16377    0.18832  0.0404823  4.17229\n",
       "80  14240  14961 14550   0.281741  0.0605647  4.18257\n",
       "92  14240  14961 17157   0.201692  0.0433568  4.20284\n",
       "91  14240  14961 16954   0.256678   0.055177  4.20926\n",
       "86  14240  14961 14691   0.270395  0.0581256  4.23367\n",
       "89  14240  16265 14961   0.278897  0.0599532   4.2486\n",
       "85  14240  14961 14621   0.217596  0.0467757  4.26421\n",
       "31  14302        16147   0.741323  0.0433406  11.8443"
      ]
     },
     "execution_count": 14,
     "metadata": {},
     "output_type": "execute_result"
    }
   ],
   "source": [
    "asr_df.sort_values('lift').tail(10)"
   ]
  },
  {
   "cell_type": "markdown",
   "metadata": {},
   "source": [
    "Мы видим здесь таблицу, где 2023 ассоциативных правила, и для каждого рассчитаны известные нам показатели.\n",
    "\n",
    "Для того чтобы перейти от Id фильмов, к их названиям, нужно загрузить еще один файл, в котором содержится Id фильма, год его производства и название:"
   ]
  },
  {
   "cell_type": "code",
   "execution_count": 16,
   "metadata": {},
   "outputs": [],
   "source": [
    "titles = pd.read_csv('../data/movie_titles.csv', encoding = \"ISO-8859-1\", \n",
    "                     header = None, \n",
    "                     names = ['Movie_Id', 'Year', 'Name'])"
   ]
  },
  {
   "cell_type": "markdown",
   "metadata": {},
   "source": [
    "Мы можем написать процедуру, которая будет выводить названия фильмов в ассоциативном правиле и фильм, которое это ассоциативное правило рекомендует:"
   ]
  },
  {
   "cell_type": "code",
   "execution_count": 66,
   "metadata": {},
   "outputs": [],
   "source": [
    "def get_rule_title(rule):\n",
    "    display(rule)\n",
    "    print(titles[titles.Movie_Id.isin(rule['from'].split(' '))]['Name'].values)\n",
    "    print('----------->')\n",
    "    print(titles[titles.Movie_Id.isin(rule['to'].split(' '))]['Name'].values)"
   ]
  },
  {
   "cell_type": "markdown",
   "metadata": {},
   "source": [
    "Можем посмотреть, как выглядит это правило. Например, вызовем сотое правило:"
   ]
  },
  {
   "cell_type": "code",
   "execution_count": 33,
   "metadata": {},
   "outputs": [
    {
     "name": "stdout",
     "output_type": "stream",
     "text": [
      "['The Shawshank Redemption: Special Edition']\n",
      "----------->\n",
      "['Saving Private Ryan']\n"
     ]
    }
   ],
   "source": [
    "get_rule_title(asr_df.loc[45])"
   ]
  },
  {
   "cell_type": "markdown",
   "metadata": {},
   "source": [
    "То есть, если человеку нравится фильм «Монстры», то мы советуем ему посмотреть фильм «В поисках Немо».\n",
    "\n",
    "Перейдём к построению рекомендаций для случайного человека под id=159992. Посмотрим, какие фильмы он смотрел и как он их оценил. "
   ]
  },
  {
   "cell_type": "code",
   "execution_count": 89,
   "metadata": {},
   "outputs": [
    {
     "data": {
      "text/plain": [
       "12833                         Family Guy: Vol. 2: Season 3\n",
       "13980                                  The Virgin Suicides\n",
       "14549            The Shawshank Redemption: Special Edition\n",
       "14620                                  Shrek (Full-screen)\n",
       "14690                                           The Matrix\n",
       "14724                Austin Powers: The Spy Who Shagged Me\n",
       "14960    Lord of the Rings: The Return of the King: Ext...\n",
       "15061                                               Grease\n",
       "15843                                  Remember the Titans\n",
       "15901                   Blue Collar Comedy Tour: The Movie\n",
       "16301                      Family Guy: Vol. 1: Seasons 1-2\n",
       "16376                                       The Green Mile\n",
       "16437                                   The Wedding Singer\n",
       "17298                                                 Clue\n",
       "Name: Name, dtype: object"
      ]
     },
     "execution_count": 89,
     "metadata": {},
     "output_type": "execute_result"
    }
   ],
   "source": [
    "j = 14482\n",
    "\n",
    "titles[titles.Movie_Id.isin(good.iloc[j].split(' '))]['Name']"
   ]
  },
  {
   "cell_type": "markdown",
   "metadata": {},
   "source": [
    "Как мы можем посчитать посчитать рекомендации для этого человека? Мы можем пройтись по всем правилам в нашей таблице и проверить, если они присутствуют в просмотрах человека и у них высокий рейтинг, значит это правило ему подходит и мы можем добавить этот фильм в список рекомендаций."
   ]
  },
  {
   "cell_type": "code",
   "execution_count": 86,
   "metadata": {},
   "outputs": [],
   "source": [
    "def print_rule_title(rule):\n",
    "    \n",
    "    return (titles[titles.Movie_Id.isin(rule['to'].split(' '))]['Name'].values)"
   ]
  },
  {
   "cell_type": "code",
   "execution_count": 90,
   "metadata": {},
   "outputs": [
    {
     "name": "stdout",
     "output_type": "stream",
     "text": [
      "{'Lord of the Rings: The Return of the King: Extended Edition', 'Dead Poets Society', 'The Matrix', 'Star Wars: Episode IV: A New Hope', 'A Few Good Men', 'Indiana Jones and the Last Crusade', 'Shrek (Full-screen)', 'Saving Private Ryan', 'Titanic', 'The Green Mile', \"Ocean's Eleven\", 'The Fugitive', \"Harry Potter and the Sorcerer's Stone\"}\n"
     ]
    }
   ],
   "source": [
    "result = []\n",
    "for A in asr_df.index:\n",
    "    if len(set(good.iloc[j].split(' ')) & set(asr_df['from'].loc[A].split(' '))) == len(asr_df['from'].loc[A].split(' ')):\n",
    "        result.append(print_rule_title(asr_df.loc[A])[0])\n",
    "print(set(result))"
   ]
  },
  {
   "cell_type": "markdown",
   "metadata": {},
   "source": [
    "Если вы запустите этот код, то увидите, что здесь в рекомендации будут два фильма:\n",
    "\n",
    "'Pretty Woman', 'Dirty Dancing'\n",
    "Сложность такой рекомендательной системы состоит в том, что мы ограничены теми ассоциативными правилами, которые были созданы. Если фильм редкий, то он в эти ассоциативные правила, скорее всего, не попадёт.\n",
    "\n",
    "Также для разных людей будет разное количество рекомендаций, в зависимости от того, сколько фильмов посмотрел каждый из них. И, если нам захочется порекомендовать каждому пользователю минимум три фильма, то не с каждым пользователем мы сможем это сделать.\n",
    "\n",
    "Эту проблему можно решить с помощью алгоритма Коллаборативная фильтрация. "
   ]
  },
  {
   "cell_type": "markdown",
   "metadata": {},
   "source": [
    "# Задания"
   ]
  },
  {
   "cell_type": "markdown",
   "metadata": {},
   "source": [
    "Задание 9.4.1\n",
    "\n",
    "1. Найдите фильмы, которые понравились пользователю с ID, равным 130. Понравившимися пользователю фильмами мы будем считать те фильмы, которым он поставил наивысшую оценку (5). Скопируйте все ID фильмов. Например: 68 943 325 1234."
   ]
  },
  {
   "cell_type": "code",
   "execution_count": 93,
   "metadata": {},
   "outputs": [
    {
     "name": "stdout",
     "output_type": "stream",
     "text": [
      "{16377, 16954, 15124, 17157}\n"
     ]
    }
   ],
   "source": [
    "j = 130\n",
    "\n",
    "def print_rule_title_id(rule):\n",
    "        return (titles[titles.Movie_Id.isin(rule['to'].split(' '))]['Movie_Id'].values)\n",
    "\n",
    "result = []\n",
    "for A in asr_df.index:\n",
    "    if len(set(good.iloc[j].split(' ')) & set(asr_df['from'].loc[A].split(' '))) == len(asr_df['from'].loc[A].split(' ')):\n",
    "        result.append(print_rule_title_id(asr_df.loc[A])[0])\n",
    "print(set(result))"
   ]
  },
  {
   "cell_type": "markdown",
   "metadata": {},
   "source": [
    "2. Найдите ассоциативное правило с индексом 315. Введите название рекомендуемого фильма без кавычек."
   ]
  },
  {
   "cell_type": "code",
   "execution_count": 96,
   "metadata": {},
   "outputs": [
    {
     "data": {
      "text/html": [
       "<div>\n",
       "<style scoped>\n",
       "    .dataframe tbody tr th:only-of-type {\n",
       "        vertical-align: middle;\n",
       "    }\n",
       "\n",
       "    .dataframe tbody tr th {\n",
       "        vertical-align: top;\n",
       "    }\n",
       "\n",
       "    .dataframe thead th {\n",
       "        text-align: right;\n",
       "    }\n",
       "</style>\n",
       "<table border=\"1\" class=\"dataframe\">\n",
       "  <thead>\n",
       "    <tr style=\"text-align: right;\">\n",
       "      <th></th>\n",
       "      <th>from</th>\n",
       "      <th>to</th>\n",
       "      <th>confidence</th>\n",
       "      <th>support</th>\n",
       "      <th>lift</th>\n",
       "    </tr>\n",
       "  </thead>\n",
       "  <tbody>\n",
       "    <tr>\n",
       "      <th>0</th>\n",
       "      <td>12870</td>\n",
       "      <td>13728</td>\n",
       "      <td>0.345912</td>\n",
       "      <td>0.0486241</td>\n",
       "      <td>2.14654</td>\n",
       "    </tr>\n",
       "    <tr>\n",
       "      <th>1</th>\n",
       "      <td>12870</td>\n",
       "      <td>14240</td>\n",
       "      <td>0.454075</td>\n",
       "      <td>0.0638284</td>\n",
       "      <td>2.11231</td>\n",
       "    </tr>\n",
       "    <tr>\n",
       "      <th>2</th>\n",
       "      <td>12870</td>\n",
       "      <td>14550</td>\n",
       "      <td>0.595409</td>\n",
       "      <td>0.0836955</td>\n",
       "      <td>2.70152</td>\n",
       "    </tr>\n",
       "    <tr>\n",
       "      <th>3</th>\n",
       "      <td>12870</td>\n",
       "      <td>14621</td>\n",
       "      <td>0.325363</td>\n",
       "      <td>0.0457357</td>\n",
       "      <td>2.10945</td>\n",
       "    </tr>\n",
       "    <tr>\n",
       "      <th>4</th>\n",
       "      <td>12870</td>\n",
       "      <td>14691</td>\n",
       "      <td>0.336783</td>\n",
       "      <td>0.0473409</td>\n",
       "      <td>2.05946</td>\n",
       "    </tr>\n",
       "    <tr>\n",
       "      <th>...</th>\n",
       "      <td>...</td>\n",
       "      <td>...</td>\n",
       "      <td>...</td>\n",
       "      <td>...</td>\n",
       "      <td>...</td>\n",
       "    </tr>\n",
       "    <tr>\n",
       "      <th>90</th>\n",
       "      <td>14240</td>\n",
       "      <td>14961 16377</td>\n",
       "      <td>0.18832</td>\n",
       "      <td>0.0404823</td>\n",
       "      <td>4.17229</td>\n",
       "    </tr>\n",
       "    <tr>\n",
       "      <th>91</th>\n",
       "      <td>14240</td>\n",
       "      <td>14961 16954</td>\n",
       "      <td>0.256678</td>\n",
       "      <td>0.055177</td>\n",
       "      <td>4.20926</td>\n",
       "    </tr>\n",
       "    <tr>\n",
       "      <th>92</th>\n",
       "      <td>14240</td>\n",
       "      <td>14961 17157</td>\n",
       "      <td>0.201692</td>\n",
       "      <td>0.0433568</td>\n",
       "      <td>4.20284</td>\n",
       "    </tr>\n",
       "    <tr>\n",
       "      <th>93</th>\n",
       "      <td>14240</td>\n",
       "      <td>16265 16954</td>\n",
       "      <td>0.220548</td>\n",
       "      <td>0.0474104</td>\n",
       "      <td>3.27853</td>\n",
       "    </tr>\n",
       "    <tr>\n",
       "      <th>94</th>\n",
       "      <td>14550</td>\n",
       "      <td>17157 16377</td>\n",
       "      <td>0.200998</td>\n",
       "      <td>0.0442995</td>\n",
       "      <td>2.87821</td>\n",
       "    </tr>\n",
       "  </tbody>\n",
       "</table>\n",
       "<p>95 rows × 5 columns</p>\n",
       "</div>"
      ],
      "text/plain": [
       "     from           to confidence    support     lift\n",
       "0   12870        13728   0.345912  0.0486241  2.14654\n",
       "1   12870        14240   0.454075  0.0638284  2.11231\n",
       "2   12870        14550   0.595409  0.0836955  2.70152\n",
       "3   12870        14621   0.325363  0.0457357  2.10945\n",
       "4   12870        14691   0.336783  0.0473409  2.05946\n",
       "..    ...          ...        ...        ...      ...\n",
       "90  14240  14961 16377    0.18832  0.0404823  4.17229\n",
       "91  14240  14961 16954   0.256678   0.055177  4.20926\n",
       "92  14240  14961 17157   0.201692  0.0433568  4.20284\n",
       "93  14240  16265 16954   0.220548  0.0474104  3.27853\n",
       "94  14550  17157 16377   0.200998  0.0442995  2.87821\n",
       "\n",
       "[95 rows x 5 columns]"
      ]
     },
     "execution_count": 96,
     "metadata": {},
     "output_type": "execute_result"
    }
   ],
   "source": [
    "asr_df"
   ]
  },
  {
   "cell_type": "markdown",
   "metadata": {},
   "source": [
    "3. Постройте рекомендацию для пользователя с ID = 21. Найдите рекомендованный фильм с самым коротким названием. Введите его без кавычек."
   ]
  },
  {
   "cell_type": "code",
   "execution_count": 97,
   "metadata": {},
   "outputs": [
    {
     "name": "stdout",
     "output_type": "stream",
     "text": [
      "set()\n"
     ]
    }
   ],
   "source": [
    "j = 21\n",
    "\n",
    "result = []\n",
    "for A in asr_df.index:\n",
    "    if len(set(good.iloc[j].split(' ')) & set(asr_df['from'].loc[A].split(' '))) == len(asr_df['from'].loc[A].split(' ')):\n",
    "        result.append(print_rule_title(asr_df.loc[A])[0])\n",
    "print(set(result))"
   ]
  }
 ],
 "metadata": {
  "kernelspec": {
   "display_name": "Python 3",
   "language": "python",
   "name": "python3"
  },
  "language_info": {
   "codemirror_mode": {
    "name": "ipython",
    "version": 3
   },
   "file_extension": ".py",
   "mimetype": "text/x-python",
   "name": "python",
   "nbconvert_exporter": "python",
   "pygments_lexer": "ipython3",
   "version": "3.6.6"
  }
 },
 "nbformat": 4,
 "nbformat_minor": 2
}
