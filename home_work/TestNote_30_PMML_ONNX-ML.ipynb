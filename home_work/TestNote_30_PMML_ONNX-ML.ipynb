{
 "cells": [
  {
   "cell_type": "markdown",
   "metadata": {},
   "source": [
    "# TestNote_30_Сериализация\n",
    "\n",
    "Среда или требования к инференсу модели для вашего проекта могут быть устроены так, что потребуют реализации на другом языке программирования, отличном от Python. Например, если компания разрабатывает десктопное приложение, то для внедрения модели её потребуется «перевести» на Java или C++. Как это сделать?\n",
    "\n",
    "В таких случаях используется генерация файла формата PMML (Predictive Model Markup Language). "
   ]
  },
  {
   "cell_type": "markdown",
   "metadata": {},
   "source": [
    "**Определение: PMML**\n",
    "\n",
    "PMML — это XML-диалект, который используется для описания статистических моделей и моделей data science. PMML-совместимые приложения позволяют легко обмениваться моделями данных между собой. Разработка и внедрение PMML осуществляется IT-консорциумом Data Mining Group."
   ]
  },
  {
   "cell_type": "markdown",
   "metadata": {},
   "source": [
    "На момент подготовки данного материала актуальная версия спецификации — 4.4. Подробнее с ней можно ознакомиться на официальном сайте http://dmg.org/pmml/v4-4/GeneralStructure.html\n",
    "\n",
    "К сожалению, далеко не все библиотеки машинного обучения (в том числе sklearn) поддерживают возможность сохранения обученной модели в указанном формате. Хорошая новость заключается в том, что можно использовать сторонние библиотеки. Одной из самых популярных является Nyoka https://open-source.softwareag.com/nyoka/. "
   ]
  },
  {
   "cell_type": "markdown",
   "metadata": {},
   "source": [
    "Давайте сохраним модель из предыдущего блока в формат PMML.\n",
    "\n",
    "Для установки можно использовать систему управления пакетами pip:"
   ]
  },
  {
   "cell_type": "code",
   "execution_count": 2,
   "metadata": {},
   "outputs": [
    {
     "name": "stdout",
     "output_type": "stream",
     "text": [
      "Collecting nyoka==4.2.1\n",
      "\u001b[?25l  Downloading https://files.pythonhosted.org/packages/fe/91/e7dc53dd8a7e33aaced50a57c4392cb6f7330fc289d87d283a6252e9e71c/nyoka-4.2.1-py3-none-any.whl (331kB)\n",
      "\u001b[K     |████████████████████████████████| 337kB 3.0MB/s eta 0:00:01\n",
      "\u001b[?25hRequirement already satisfied: lxml in /opt/conda/lib/python3.6/site-packages (from nyoka==4.2.1) (4.4.1)\n",
      "Installing collected packages: nyoka\n",
      "Successfully installed nyoka-4.2.1\n"
     ]
    }
   ],
   "source": [
    "!pip install --user nyoka==4.2.1"
   ]
  },
  {
   "cell_type": "markdown",
   "metadata": {},
   "source": [
    "Рассмотрим пример работы с библиотекой:"
   ]
  },
  {
   "cell_type": "code",
   "execution_count": 3,
   "metadata": {},
   "outputs": [],
   "source": [
    "from nyoka import skl_to_pmml\n",
    "from sklearn.preprocessing import MinMaxScaler\n",
    "from sklearn.pipeline import Pipeline\n",
    "from sklearn.linear_model import LinearRegression\n",
    "from sklearn.datasets import load_diabetes\n",
    "\n",
    "X, y = load_diabetes(return_X_y=True)\n",
    "cols = load_diabetes()['feature_names']\n",
    "\n",
    "scaler = MinMaxScaler()\n",
    "pipe = Pipeline([  \n",
    "            ('Scaling', MinMaxScaler()),\n",
    "            ('Linear', LinearRegression())\n",
    "        ])\n",
    "\n",
    "# Тренировка пайплайна, включающего линейную модель и нормализацию признаков\n",
    "pipe.fit(X, y)\n",
    "\n",
    "# Сохраним пайплайн в формате pmml в файл pipe.pmml\n",
    "skl_to_pmml(pipeline=pipe, col_names=cols, pmml_f_name=\"./models/pipe.pmml\")"
   ]
  },
  {
   "cell_type": "code",
   "execution_count": 7,
   "metadata": {},
   "outputs": [
    {
     "name": "stdout",
     "output_type": "stream",
     "text": [
      "<?xml version=\"1.0\" encoding=\"UTF-8\"?>\r\n",
      "<PMML xmlns=\"http://www.dmg.org/PMML-4_4\" version=\"4.4\">\r\n",
      "    <Header copyright=\"Copyright (c) 2018 Software AG\" description=\"Default Description\">\r\n",
      "        <Application name=\"Nyoka\" version=\"4.2.1\"/>\r\n",
      "        <Timestamp>2021-08-31 19:18:01.049057</Timestamp>\r\n",
      "    </Header>\r\n",
      "    <DataDictionary numberOfFields=\"11\">\r\n",
      "        <DataField name=\"age\" optype=\"continuous\" dataType=\"double\"/>\r\n",
      "        <DataField name=\"sex\" optype=\"continuous\" dataType=\"double\"/>\r\n",
      "        <DataField name=\"bmi\" optype=\"continuous\" dataType=\"double\"/>\r\n",
      "        <DataField name=\"bp\" optype=\"continuous\" dataType=\"double\"/>\r\n",
      "        <DataField name=\"s1\" optype=\"continuous\" dataType=\"double\"/>\r\n",
      "        <DataField name=\"s2\" optype=\"continuous\" dataType=\"double\"/>\r\n",
      "        <DataField name=\"s3\" optype=\"continuous\" dataType=\"double\"/>\r\n",
      "        <DataField name=\"s4\" optype=\"continuous\" dataType=\"double\"/>\r\n",
      "        <DataField name=\"s5\" optype=\"continuous\" dataType=\"double\"/>\r\n",
      "        <DataField name=\"s6\" optype=\"continuous\" dataType=\"double\"/>\r\n",
      "        <DataField name=\"target\" optype=\"continuous\" dataType=\"double\"/>\r\n",
      "    </DataDictionary>\r\n",
      "    <TransformationDictionary>\r\n",
      "        <DerivedField name=\"minMaxScaler(age)\" optype=\"continuous\" dataType=\"double\">\r\n",
      "            <Apply function=\"+\">\r\n",
      "                <Apply function=\"*\">\r\n",
      "                    <FieldRef field=\"age\"/>\r\n",
      "                    <Constant dataType=\"double\">4.5881597377142169</Constant>\r\n",
      "                </Apply>\r\n",
      "                <Constant dataType=\"double\">0.4919683257918569</Constant>\r\n",
      "            </Apply>\r\n",
      "        </DerivedField>\r\n",
      "        <DerivedField name=\"minMaxScaler(sex)\" optype=\"continuous\" dataType=\"double\">\r\n",
      "            <Apply function=\"+\">\r\n",
      "                <Apply function=\"*\">\r\n",
      "                    <FieldRef field=\"sex\"/>\r\n",
      "                    <Constant dataType=\"double\">10.4907845791424386</Constant>\r\n",
      "                </Apply>\r\n",
      "                <Constant dataType=\"double\">0.4683257918552023</Constant>\r\n",
      "            </Apply>\r\n",
      "        </DerivedField>\r\n",
      "        <DerivedField name=\"minMaxScaler(bmi)\" optype=\"continuous\" dataType=\"double\">\r\n",
      "            <Apply function=\"+\">\r\n",
      "                <Apply function=\"*\">\r\n",
      "                    <FieldRef field=\"bmi\"/>\r\n",
      "                    <Constant dataType=\"double\">3.8339071393769570</Constant>\r\n",
      "                </Apply>\r\n",
      "                <Constant dataType=\"double\">0.3461071014546974</Constant>\r\n",
      "            </Apply>\r\n",
      "        </DerivedField>\r\n",
      "        <DerivedField name=\"minMaxScaler(bp)\" optype=\"continuous\" dataType=\"double\">\r\n",
      "            <Apply function=\"+\">\r\n",
      "                <Apply function=\"*\">\r\n",
      "                    <FieldRef field=\"bp\"/>\r\n",
      "                    <Constant dataType=\"double\">4.0909195538124639</Constant>\r\n",
      "                </Apply>\r\n",
      "                <Constant dataType=\"double\">0.4598177299110946</Constant>\r\n",
      "            </Apply>\r\n",
      "        </DerivedField>\r\n",
      "        <DerivedField name=\"minMaxScaler(s1)\" optype=\"continuous\" dataType=\"double\">\r\n",
      "            <Apply function=\"+\">\r\n",
      "                <Apply function=\"*\">\r\n",
      "                    <FieldRef field=\"s1\"/>\r\n",
      "                    <Constant dataType=\"double\">3.5625935547838301</Constant>\r\n",
      "                </Apply>\r\n",
      "                <Constant dataType=\"double\">0.4516679975157490</Constant>\r\n",
      "            </Apply>\r\n",
      "        </DerivedField>\r\n",
      "        <DerivedField name=\"minMaxScaler(s2)\" optype=\"continuous\" dataType=\"double\">\r\n",
      "            <Apply function=\"+\">\r\n",
      "                <Apply function=\"*\">\r\n",
      "                    <FieldRef field=\"s2\"/>\r\n",
      "                    <Constant dataType=\"double\">3.1806508981813320</Constant>\r\n",
      "                </Apply>\r\n",
      "                <Constant dataType=\"double\">0.3677248021488698</Constant>\r\n",
      "            </Apply>\r\n",
      "        </DerivedField>\r\n",
      "        <DerivedField name=\"minMaxScaler(s3)\" optype=\"continuous\" dataType=\"double\">\r\n",
      "            <Apply function=\"+\">\r\n",
      "                <Apply function=\"*\">\r\n",
      "                    <FieldRef field=\"s3\"/>\r\n",
      "                    <Constant dataType=\"double\">3.5275096785989719</Constant>\r\n",
      "                </Apply>\r\n",
      "                <Constant dataType=\"double\">0.3608891108891130</Constant>\r\n",
      "            </Apply>\r\n",
      "        </DerivedField>\r\n",
      "        <DerivedField name=\"minMaxScaler(s4)\" optype=\"continuous\" dataType=\"double\">\r\n",
      "            <Apply function=\"+\">\r\n",
      "                <Apply function=\"*\">\r\n",
      "                    <FieldRef field=\"s4\"/>\r\n",
      "                    <Constant dataType=\"double\">3.8222070280359022</Constant>\r\n",
      "                </Apply>\r\n",
      "                <Constant dataType=\"double\">0.2919956091365689</Constant>\r\n",
      "            </Apply>\r\n",
      "        </DerivedField>\r\n",
      "        <DerivedField name=\"minMaxScaler(s5)\" optype=\"continuous\" dataType=\"double\">\r\n",
      "            <Apply function=\"+\">\r\n",
      "                <Apply function=\"*\">\r\n",
      "                    <FieldRef field=\"s5\"/>\r\n",
      "                    <Constant dataType=\"double\">3.8506507312567555</Constant>\r\n",
      "                </Apply>\r\n",
      "                <Constant dataType=\"double\">0.4855569899177540</Constant>\r\n",
      "            </Apply>\r\n",
      "        </DerivedField>\r\n",
      "        <DerivedField name=\"minMaxScaler(s6)\" optype=\"continuous\" dataType=\"double\">\r\n",
      "            <Apply function=\"+\">\r\n",
      "                <Apply function=\"*\">\r\n",
      "                    <FieldRef field=\"s6\"/>\r\n",
      "                    <Constant dataType=\"double\">3.6579246897879174</Constant>\r\n",
      "                </Apply>\r\n",
      "                <Constant dataType=\"double\">0.5039421362950792</Constant>\r\n",
      "            </Apply>\r\n",
      "        </DerivedField>\r\n",
      "    </TransformationDictionary>\r\n",
      "    <RegressionModel modelName=\"LinearRegression\" functionName=\"regression\">\r\n",
      "        <MiningSchema>\r\n",
      "            <MiningField name=\"age\" usageType=\"active\" optype=\"continuous\"/>\r\n",
      "            <MiningField name=\"sex\" usageType=\"active\" optype=\"continuous\"/>\r\n",
      "            <MiningField name=\"bmi\" usageType=\"active\" optype=\"continuous\"/>\r\n",
      "            <MiningField name=\"bp\" usageType=\"active\" optype=\"continuous\"/>\r\n",
      "            <MiningField name=\"s1\" usageType=\"active\" optype=\"continuous\"/>\r\n",
      "            <MiningField name=\"s2\" usageType=\"active\" optype=\"continuous\"/>\r\n",
      "            <MiningField name=\"s3\" usageType=\"active\" optype=\"continuous\"/>\r\n",
      "            <MiningField name=\"s4\" usageType=\"active\" optype=\"continuous\"/>\r\n",
      "            <MiningField name=\"s5\" usageType=\"active\" optype=\"continuous\"/>\r\n",
      "            <MiningField name=\"s6\" usageType=\"active\" optype=\"continuous\"/>\r\n",
      "            <MiningField name=\"target\" usageType=\"target\" optype=\"continuous\"/>\r\n",
      "        </MiningSchema>\r\n",
      "        <Output>\r\n",
      "            <OutputField name=\"predicted_target\" optype=\"continuous\" dataType=\"double\" feature=\"predictedValue\"/>\r\n",
      "        </Output>\r\n",
      "        <RegressionTable intercept=\"-2.0767117591487363\">\r\n",
      "            <NumericPredictor name=\"minMaxScaler(age)\" exponent=\"1\" coefficient=\"-2.1821816130706337\"/>\r\n",
      "            <NumericPredictor name=\"minMaxScaler(sex)\" exponent=\"1\" coefficient=\"-22.8599765400253006\"/>\r\n",
      "            <NumericPredictor name=\"minMaxScaler(bmi)\" exponent=\"1\" coefficient=\"135.5900828820315667\"/>\r\n",
      "            <NumericPredictor name=\"minMaxScaler(bp)\" exponent=\"1\" coefficient=\"79.2952350742428962\"/>\r\n",
      "            <NumericPredictor name=\"minMaxScaler(s1)\" exponent=\"1\" coefficient=\"-222.3616445284824295\"/>\r\n",
      "            <NumericPredictor name=\"minMaxScaler(s2)\" exponent=\"1\" coefficient=\"149.8893946821580414\"/>\r\n",
      "            <NumericPredictor name=\"minMaxScaler(s3)\" exponent=\"1\" coefficient=\"28.6447322694450150\"/>\r\n",
      "            <NumericPredictor name=\"minMaxScaler(s4)\" exponent=\"1\" coefficient=\"46.3251139808711230\"/>\r\n",
      "            <NumericPredictor name=\"minMaxScaler(s5)\" exponent=\"1\" coefficient=\"195.1045092168606061\"/>\r\n",
      "            <NumericPredictor name=\"minMaxScaler(s6)\" exponent=\"1\" coefficient=\"18.4873643188551320\"/>\r\n",
      "        </RegressionTable>\r\n",
      "    </RegressionModel>\r\n",
      "</PMML>\r\n"
     ]
    }
   ],
   "source": [
    "!cat ./models/pipe.pmml"
   ]
  },
  {
   "cell_type": "markdown",
   "metadata": {},
   "source": [
    "Таким образом, в файле содержится вся информация для того, чтобы пайплайн мог быть использован на любом языке программирования.\n",
    "\n",
    "В разработке моделей на основе нейронных сетей сегодня наиболее распространен формат ONNX (Open Neural Network Exchange)."
   ]
  },
  {
   "cell_type": "markdown",
   "metadata": {},
   "source": [
    "**Определение: ONNX**\n",
    "\n",
    "ONNX (Open Neural Network Exchange) — это открытый стандарт для обеспечения совместимости моделей машинного обучения. Он позволяет разработчикам искусственного интеллекта использовать модели с различными инфраструктурами, инструментами, средами исполнения и компиляторами.\n",
    "\n",
    "\n",
    "Стандарт поддерживается совместно компаниями Microsoft, Amazon, Facebook и другими партнерами как проект с открытым исходным кодом."
   ]
  },
  {
   "cell_type": "markdown",
   "metadata": {},
   "source": [
    "**Информация на будущее**\n",
    "\n",
    "Часто стандарт ONNX и его библиотеки используют для конвертации из одного фреймворка в другой (например, из Pytorch в Tensorflow для использования в продакшне). Для конвертации различных фреймворков (не только DL) в формат ONNX и обратно существует ряд библиотек: \n",
    "\n",
    "- ONNX-Tensorflow https://github.com/onnx/onnx-tensorflow\n",
    "- Tensorflow-ONNX https://github.com/onnx/tensorflow-onnx\n",
    "- Keras-ONNX https://github.com/onnx/keras-onnx\n",
    "- Sklearn-ONNX https://github.com/onnx/sklearn-onnx\n",
    "- …и другие.\n",
    "\n",
    "Также в рамках стандарта ONNX есть инструмент ONNX-runtime https://github.com/microsoft/onnxruntime. Он служит для ускорения инференса Python-моделей, а также инференса на других языках, например Java, C++.\n",
    "\n",
    "В дополнение: \n",
    "- Документация по работе с Pickle https://docs.python.org/3/library/pickle.html\n",
    "- Документация по работе с Joblib https://joblib.readthedocs.io/en/latest/"
   ]
  },
  {
   "cell_type": "markdown",
   "metadata": {},
   "source": [
    "**Задание для продвинутых (необязательно, но рекомендуется)**\n",
    "\n",
    "Для выполнения этого задания вам понадобится ознакомиться с документацией http://onnx.ai/sklearn-onnx/api_summary.html.\n",
    "\n",
    "В задаче ниже мы обучаем модель sklearn, конвертируем ее в ONNX и делаем инференс через ONNX-runtime.\n",
    "\n",
    "Дополните код ниже недостающими элементами:"
   ]
  },
  {
   "cell_type": "code",
   "execution_count": 9,
   "metadata": {},
   "outputs": [
    {
     "name": "stdout",
     "output_type": "stream",
     "text": [
      "Collecting onnxruntime\n",
      "\u001b[?25l  Downloading https://files.pythonhosted.org/packages/19/7d/fb6da206e9b161dd49a1f3095a52bde5ad96b505868769041cb04652267d/onnxruntime-1.8.1-cp36-cp36m-manylinux_2_17_x86_64.manylinux2014_x86_64.whl (4.5MB)\n",
      "\u001b[K     |████████████████████████████████| 4.5MB 3.1MB/s eta 0:00:01\n",
      "\u001b[?25hRequirement already satisfied: numpy>=1.16.6 in /opt/conda/lib/python3.6/site-packages (from onnxruntime) (1.17.0)\n",
      "Collecting flatbuffers\n",
      "  Downloading https://files.pythonhosted.org/packages/3d/d0/26033c70d642fbc1e35d3619cf3210986fb953c173b1226709f75056c149/flatbuffers-2.0-py2.py3-none-any.whl\n",
      "Requirement already satisfied: protobuf in /notebooks/home/.local/lib/python3.6/site-packages (from onnxruntime) (3.11.2)\n",
      "Requirement already satisfied: setuptools in /opt/conda/lib/python3.6/site-packages (from protobuf->onnxruntime) (41.4.0)\n",
      "Requirement already satisfied: six>=1.9 in /opt/conda/lib/python3.6/site-packages (from protobuf->onnxruntime) (1.12.0)\n",
      "Installing collected packages: flatbuffers, onnxruntime\n",
      "\u001b[33m  WARNING: The script onnxruntime_test is installed in '/notebooks/home/.local/bin' which is not on PATH.\n",
      "  Consider adding this directory to PATH or, if you prefer to suppress this warning, use --no-warn-script-location.\u001b[0m\n",
      "Successfully installed flatbuffers-2.0 onnxruntime-1.8.1\n"
     ]
    }
   ],
   "source": [
    "!pip install --user onnxruntime"
   ]
  },
  {
   "cell_type": "code",
   "execution_count": 11,
   "metadata": {},
   "outputs": [
    {
     "name": "stdout",
     "output_type": "stream",
     "text": [
      "Collecting skl2onnx\n",
      "\u001b[?25l  Downloading https://files.pythonhosted.org/packages/fb/3d/6c8f1f1499f38b172810e44f62eddf1c3effc90be7899cfaa8a7657bf980/skl2onnx-1.9.2-py2.py3-none-any.whl (240kB)\n",
      "\u001b[K     |████████████████████████████████| 245kB 3.2MB/s eta 0:00:01\n",
      "\u001b[?25hCollecting onnxconverter-common>=1.6.1\n",
      "\u001b[?25l  Downloading https://files.pythonhosted.org/packages/42/f5/82c29029a643dd4de8e0374fe2d5831f50ca58623dd1ee41e0b8df8a7d71/onnxconverter_common-1.8.1-py2.py3-none-any.whl (77kB)\n",
      "\u001b[K     |████████████████████████████████| 81kB 4.1MB/s  eta 0:00:01\n",
      "\u001b[?25hRequirement already satisfied: scikit-learn>=0.19 in /notebooks/home/.local/lib/python3.6/site-packages (from skl2onnx) (0.24.1)\n",
      "Requirement already satisfied: protobuf in /notebooks/home/.local/lib/python3.6/site-packages (from skl2onnx) (3.11.2)\n",
      "Requirement already satisfied: numpy>=1.15 in /opt/conda/lib/python3.6/site-packages (from skl2onnx) (1.17.0)\n",
      "Collecting onnx>=1.2.1\n",
      "\u001b[?25l  Downloading https://files.pythonhosted.org/packages/fa/f4/4dd2fb863294a39c03d3adb9aacfaa543f64e8d9c07ed98739b5bf413dfe/onnx-1.10.1-cp36-cp36m-manylinux_2_12_x86_64.manylinux2010_x86_64.whl (12.3MB)\n",
      "\u001b[K     |████████████████████████████████| 12.3MB 11.6MB/s eta 0:00:01   |███████████                     | 4.3MB 6.8MB/s eta 0:00:02\n",
      "\u001b[?25hRequirement already satisfied: scipy>=1.0 in /notebooks/home/.local/lib/python3.6/site-packages (from skl2onnx) (1.5.4)\n",
      "Requirement already satisfied: threadpoolctl>=2.0.0 in /notebooks/home/.local/lib/python3.6/site-packages (from scikit-learn>=0.19->skl2onnx) (2.1.0)\n",
      "Requirement already satisfied: joblib>=0.11 in /opt/conda/lib/python3.6/site-packages (from scikit-learn>=0.19->skl2onnx) (0.13.2)\n",
      "Requirement already satisfied: six>=1.9 in /opt/conda/lib/python3.6/site-packages (from protobuf->skl2onnx) (1.12.0)\n",
      "Requirement already satisfied: setuptools in /opt/conda/lib/python3.6/site-packages (from protobuf->skl2onnx) (41.4.0)\n",
      "Requirement already satisfied: typing-extensions>=3.6.2.1 in /notebooks/home/.local/lib/python3.6/site-packages (from onnx>=1.2.1->skl2onnx) (3.10.0.0)\n",
      "Installing collected packages: onnx, onnxconverter-common, skl2onnx\n",
      "\u001b[33m  WARNING: The scripts backend-test-tools, check-model and check-node are installed in '/notebooks/home/.local/bin' which is not on PATH.\n",
      "  Consider adding this directory to PATH or, if you prefer to suppress this warning, use --no-warn-script-location.\u001b[0m\n",
      "Successfully installed onnx-1.10.1 onnxconverter-common-1.8.1 skl2onnx-1.9.2\n"
     ]
    }
   ],
   "source": [
    "!pip install --user skl2onnx"
   ]
  },
  {
   "cell_type": "code",
   "execution_count": 15,
   "metadata": {},
   "outputs": [
    {
     "ename": "AttributeError",
     "evalue": "module 'google.protobuf.descriptor' has no attribute '_internal_create_key'",
     "output_type": "error",
     "traceback": [
      "\u001b[0;31m---------------------------------------------------------------------------\u001b[0m",
      "\u001b[0;31mAttributeError\u001b[0m                            Traceback (most recent call last)",
      "\u001b[0;32m<ipython-input-15-92a9b11fcee7>\u001b[0m in \u001b[0;36m<module>\u001b[0;34m\u001b[0m\n\u001b[1;32m      3\u001b[0m \u001b[0;32mfrom\u001b[0m \u001b[0msklearn\u001b[0m\u001b[0;34m.\u001b[0m\u001b[0mmodel_selection\u001b[0m \u001b[0;32mimport\u001b[0m \u001b[0mtrain_test_split\u001b[0m\u001b[0;34m\u001b[0m\u001b[0m\n\u001b[1;32m      4\u001b[0m \u001b[0;32mfrom\u001b[0m \u001b[0msklearn\u001b[0m\u001b[0;34m.\u001b[0m\u001b[0mlinear_model\u001b[0m \u001b[0;32mimport\u001b[0m \u001b[0mLinearRegression\u001b[0m\u001b[0;34m\u001b[0m\u001b[0m\n\u001b[0;32m----> 5\u001b[0;31m \u001b[0;32mfrom\u001b[0m \u001b[0mskl2onnx\u001b[0m \u001b[0;32mimport\u001b[0m \u001b[0mconvert_sklearn\u001b[0m\u001b[0;34m\u001b[0m\u001b[0m\n\u001b[0m\u001b[1;32m      6\u001b[0m \u001b[0;32mfrom\u001b[0m \u001b[0mskl2onnx\u001b[0m\u001b[0;34m.\u001b[0m\u001b[0mcommon\u001b[0m\u001b[0;34m.\u001b[0m\u001b[0mdata_types\u001b[0m \u001b[0;32mimport\u001b[0m \u001b[0mFloatTensorType\u001b[0m\u001b[0;34m\u001b[0m\u001b[0m\n\u001b[1;32m      7\u001b[0m \u001b[0;34m\u001b[0m\u001b[0m\n",
      "\u001b[0;32m~/.local/lib/python3.6/site-packages/skl2onnx/__init__.py\u001b[0m in \u001b[0;36m<module>\u001b[0;34m\u001b[0m\n\u001b[1;32m     13\u001b[0m \u001b[0;34m\u001b[0m\u001b[0m\n\u001b[1;32m     14\u001b[0m \u001b[0;34m\u001b[0m\u001b[0m\n\u001b[0;32m---> 15\u001b[0;31m \u001b[0;32mfrom\u001b[0m \u001b[0;34m.\u001b[0m\u001b[0mconvert\u001b[0m \u001b[0;32mimport\u001b[0m \u001b[0mconvert_sklearn\u001b[0m\u001b[0;34m,\u001b[0m \u001b[0mto_onnx\u001b[0m\u001b[0;34m,\u001b[0m \u001b[0mwrap_as_onnx_mixin\u001b[0m  \u001b[0;31m# noqa\u001b[0m\u001b[0;34m\u001b[0m\u001b[0m\n\u001b[0m\u001b[1;32m     16\u001b[0m from ._supported_operators import (  # noqa\n\u001b[1;32m     17\u001b[0m     \u001b[0mupdate_registered_converter\u001b[0m\u001b[0;34m,\u001b[0m \u001b[0mget_model_alias\u001b[0m\u001b[0;34m\u001b[0m\u001b[0m\n",
      "\u001b[0;32m~/.local/lib/python3.6/site-packages/skl2onnx/convert.py\u001b[0m in \u001b[0;36m<module>\u001b[0;34m\u001b[0m\n\u001b[1;32m      3\u001b[0m \u001b[0;32mimport\u001b[0m \u001b[0mwarnings\u001b[0m\u001b[0;34m\u001b[0m\u001b[0m\n\u001b[1;32m      4\u001b[0m \u001b[0;32mfrom\u001b[0m \u001b[0muuid\u001b[0m \u001b[0;32mimport\u001b[0m \u001b[0muuid4\u001b[0m\u001b[0;34m\u001b[0m\u001b[0m\n\u001b[0;32m----> 5\u001b[0;31m \u001b[0;32mfrom\u001b[0m \u001b[0;34m.\u001b[0m\u001b[0mproto\u001b[0m \u001b[0;32mimport\u001b[0m \u001b[0mget_latest_tested_opset_version\u001b[0m\u001b[0;34m\u001b[0m\u001b[0m\n\u001b[0m\u001b[1;32m      6\u001b[0m \u001b[0;32mfrom\u001b[0m \u001b[0;34m.\u001b[0m\u001b[0mcommon\u001b[0m\u001b[0;34m.\u001b[0m\u001b[0m_topology\u001b[0m \u001b[0;32mimport\u001b[0m \u001b[0mconvert_topology\u001b[0m\u001b[0;34m\u001b[0m\u001b[0m\n\u001b[1;32m      7\u001b[0m \u001b[0;32mfrom\u001b[0m \u001b[0;34m.\u001b[0m\u001b[0mcommon\u001b[0m\u001b[0;34m.\u001b[0m\u001b[0mutils_sklearn\u001b[0m \u001b[0;32mimport\u001b[0m \u001b[0m_process_options\u001b[0m\u001b[0;34m\u001b[0m\u001b[0m\n",
      "\u001b[0;32m~/.local/lib/python3.6/site-packages/skl2onnx/proto/__init__.py\u001b[0m in \u001b[0;36m<module>\u001b[0;34m\u001b[0m\n\u001b[1;32m      6\u001b[0m \u001b[0;31m# fixes by overwriting ONNX functions without changing any lines\u001b[0m\u001b[0;34m\u001b[0m\u001b[0;34m\u001b[0m\u001b[0m\n\u001b[1;32m      7\u001b[0m \u001b[0;31m# elsewhere.\u001b[0m\u001b[0;34m\u001b[0m\u001b[0;34m\u001b[0m\u001b[0m\n\u001b[0;32m----> 8\u001b[0;31m \u001b[0;32mfrom\u001b[0m \u001b[0monnx\u001b[0m \u001b[0;32mimport\u001b[0m \u001b[0monnx_pb\u001b[0m \u001b[0;32mas\u001b[0m \u001b[0monnx_proto\u001b[0m  \u001b[0;31m# noqa\u001b[0m\u001b[0;34m\u001b[0m\u001b[0m\n\u001b[0m\u001b[1;32m      9\u001b[0m \u001b[0;32mfrom\u001b[0m \u001b[0monnx\u001b[0m \u001b[0;32mimport\u001b[0m \u001b[0mdefs\u001b[0m  \u001b[0;31m# noqa\u001b[0m\u001b[0;34m\u001b[0m\u001b[0m\n\u001b[1;32m     10\u001b[0m \u001b[0;34m\u001b[0m\u001b[0m\n",
      "\u001b[0;32m~/.local/lib/python3.6/site-packages/onnx/__init__.py\u001b[0m in \u001b[0;36m<module>\u001b[0;34m\u001b[0m\n\u001b[1;32m      9\u001b[0m \u001b[0;34m\u001b[0m\u001b[0m\n\u001b[1;32m     10\u001b[0m \u001b[0;32mfrom\u001b[0m \u001b[0;34m.\u001b[0m\u001b[0monnx_cpp2py_export\u001b[0m \u001b[0;32mimport\u001b[0m \u001b[0mONNX_ML\u001b[0m\u001b[0;34m\u001b[0m\u001b[0m\n\u001b[0;32m---> 11\u001b[0;31m \u001b[0;32mfrom\u001b[0m \u001b[0monnx\u001b[0m\u001b[0;34m.\u001b[0m\u001b[0mexternal_data_helper\u001b[0m \u001b[0;32mimport\u001b[0m \u001b[0mload_external_data_for_model\u001b[0m\u001b[0;34m,\u001b[0m \u001b[0mwrite_external_data_tensors\u001b[0m\u001b[0;34m,\u001b[0m \u001b[0mconvert_model_to_external_data\u001b[0m\u001b[0;34m\u001b[0m\u001b[0m\n\u001b[0m\u001b[1;32m     12\u001b[0m \u001b[0;32mfrom\u001b[0m \u001b[0;34m.\u001b[0m\u001b[0monnx_pb\u001b[0m \u001b[0;32mimport\u001b[0m \u001b[0;34m*\u001b[0m  \u001b[0;31m# noqa\u001b[0m\u001b[0;34m\u001b[0m\u001b[0m\n\u001b[1;32m     13\u001b[0m \u001b[0;32mfrom\u001b[0m \u001b[0;34m.\u001b[0m\u001b[0monnx_operators_pb\u001b[0m \u001b[0;32mimport\u001b[0m \u001b[0;34m*\u001b[0m \u001b[0;31m# noqa\u001b[0m\u001b[0;34m\u001b[0m\u001b[0m\n",
      "\u001b[0;32m~/.local/lib/python3.6/site-packages/onnx/external_data_helper.py\u001b[0m in \u001b[0;36m<module>\u001b[0;34m\u001b[0m\n\u001b[1;32m     12\u001b[0m \u001b[0;32mfrom\u001b[0m \u001b[0mtyping\u001b[0m \u001b[0;32mimport\u001b[0m \u001b[0mIterable\u001b[0m\u001b[0;34m,\u001b[0m \u001b[0mText\u001b[0m\u001b[0;34m,\u001b[0m \u001b[0mOptional\u001b[0m\u001b[0;34m\u001b[0m\u001b[0m\n\u001b[1;32m     13\u001b[0m \u001b[0;34m\u001b[0m\u001b[0m\n\u001b[0;32m---> 14\u001b[0;31m \u001b[0;32mfrom\u001b[0m \u001b[0;34m.\u001b[0m\u001b[0monnx_pb\u001b[0m \u001b[0;32mimport\u001b[0m \u001b[0mTensorProto\u001b[0m\u001b[0;34m,\u001b[0m \u001b[0mModelProto\u001b[0m\u001b[0;34m\u001b[0m\u001b[0m\n\u001b[0m\u001b[1;32m     15\u001b[0m \u001b[0;34m\u001b[0m\u001b[0m\n\u001b[1;32m     16\u001b[0m \u001b[0;34m\u001b[0m\u001b[0m\n",
      "\u001b[0;32m~/.local/lib/python3.6/site-packages/onnx/onnx_pb.py\u001b[0m in \u001b[0;36m<module>\u001b[0;34m\u001b[0m\n\u001b[1;32m      6\u001b[0m \u001b[0;32mfrom\u001b[0m \u001b[0m__future__\u001b[0m \u001b[0;32mimport\u001b[0m \u001b[0municode_literals\u001b[0m\u001b[0;34m\u001b[0m\u001b[0m\n\u001b[1;32m      7\u001b[0m \u001b[0;34m\u001b[0m\u001b[0m\n\u001b[0;32m----> 8\u001b[0;31m \u001b[0;32mfrom\u001b[0m \u001b[0;34m.\u001b[0m\u001b[0monnx_ml_pb2\u001b[0m \u001b[0;32mimport\u001b[0m \u001b[0;34m*\u001b[0m  \u001b[0;31m# noqa\u001b[0m\u001b[0;34m\u001b[0m\u001b[0m\n\u001b[0m",
      "\u001b[0;32m~/.local/lib/python3.6/site-packages/onnx/onnx_ml_pb2.py\u001b[0m in \u001b[0;36m<module>\u001b[0;34m\u001b[0m\n\u001b[1;32m     20\u001b[0m   \u001b[0msyntax\u001b[0m\u001b[0;34m=\u001b[0m\u001b[0;34m'proto2'\u001b[0m\u001b[0;34m,\u001b[0m\u001b[0;34m\u001b[0m\u001b[0m\n\u001b[1;32m     21\u001b[0m   \u001b[0mserialized_options\u001b[0m\u001b[0;34m=\u001b[0m\u001b[0;32mNone\u001b[0m\u001b[0;34m,\u001b[0m\u001b[0;34m\u001b[0m\u001b[0m\n\u001b[0;32m---> 22\u001b[0;31m   \u001b[0mcreate_key\u001b[0m\u001b[0;34m=\u001b[0m\u001b[0m_descriptor\u001b[0m\u001b[0;34m.\u001b[0m\u001b[0m_internal_create_key\u001b[0m\u001b[0;34m,\u001b[0m\u001b[0;34m\u001b[0m\u001b[0m\n\u001b[0m\u001b[1;32m     23\u001b[0m   \u001b[0mserialized_pb\u001b[0m\u001b[0;34m=\u001b[0m\u001b[0;34mb'\\n\\x12onnx/onnx-ml.proto\\x12\\x04onnx\\\"\\xcc\\x05\\n\\x0e\\x41ttributeProto\\x12\\x0c\\n\\x04name\\x18\\x01 \\x01(\\t\\x12\\x15\\n\\rref_attr_name\\x18\\x15 \\x01(\\t\\x12\\x12\\n\\ndoc_string\\x18\\r \\x01(\\t\\x12\\x30\\n\\x04type\\x18\\x14 \\x01(\\x0e\\x32\\\".onnx.AttributeProto.AttributeType\\x12\\t\\n\\x01\\x66\\x18\\x02 \\x01(\\x02\\x12\\t\\n\\x01i\\x18\\x03 \\x01(\\x03\\x12\\t\\n\\x01s\\x18\\x04 \\x01(\\x0c\\x12\\x1c\\n\\x01t\\x18\\x05 \\x01(\\x0b\\x32\\x11.onnx.TensorProto\\x12\\x1b\\n\\x01g\\x18\\x06 \\x01(\\x0b\\x32\\x10.onnx.GraphProto\\x12.\\n\\rsparse_tensor\\x18\\x16 \\x01(\\x0b\\x32\\x17.onnx.SparseTensorProto\\x12\\x1b\\n\\x02tp\\x18\\x0e \\x01(\\x0b\\x32\\x0f.onnx.TypeProto\\x12\\x0e\\n\\x06\\x66loats\\x18\\x07 \\x03(\\x02\\x12\\x0c\\n\\x04ints\\x18\\x08 \\x03(\\x03\\x12\\x0f\\n\\x07strings\\x18\\t \\x03(\\x0c\\x12\\\"\\n\\x07tensors\\x18\\n \\x03(\\x0b\\x32\\x11.onnx.TensorProto\\x12 \\n\\x06graphs\\x18\\x0b \\x03(\\x0b\\x32\\x10.onnx.GraphProto\\x12/\\n\\x0esparse_tensors\\x18\\x17 \\x03(\\x0b\\x32\\x17.onnx.SparseTensorProto\\x12$\\n\\x0btype_protos\\x18\\x0f \\x03(\\x0b\\x32\\x0f.onnx.TypeProto\\\"\\xd9\\x01\\n\\rAttributeType\\x12\\r\\n\\tUNDEFINED\\x10\\x00\\x12\\t\\n\\x05\\x46LOAT\\x10\\x01\\x12\\x07\\n\\x03INT\\x10\\x02\\x12\\n\\n\\x06STRING\\x10\\x03\\x12\\n\\n\\x06TENSOR\\x10\\x04\\x12\\t\\n\\x05GRAPH\\x10\\x05\\x12\\x11\\n\\rSPARSE_TENSOR\\x10\\x0b\\x12\\x0e\\n\\nTYPE_PROTO\\x10\\r\\x12\\n\\n\\x06\\x46LOATS\\x10\\x06\\x12\\x08\\n\\x04INTS\\x10\\x07\\x12\\x0b\\n\\x07STRINGS\\x10\\x08\\x12\\x0b\\n\\x07TENSORS\\x10\\t\\x12\\n\\n\\x06GRAPHS\\x10\\n\\x12\\x12\\n\\x0eSPARSE_TENSORS\\x10\\x0c\\x12\\x0f\\n\\x0bTYPE_PROTOS\\x10\\x0e\\\"Q\\n\\x0eValueInfoProto\\x12\\x0c\\n\\x04name\\x18\\x01 \\x01(\\t\\x12\\x1d\\n\\x04type\\x18\\x02 \\x01(\\x0b\\x32\\x0f.onnx.TypeProto\\x12\\x12\\n\\ndoc_string\\x18\\x03 \\x01(\\t\\\"\\x96\\x01\\n\\tNodeProto\\x12\\r\\n\\x05input\\x18\\x01 \\x03(\\t\\x12\\x0e\\n\\x06output\\x18\\x02 \\x03(\\t\\x12\\x0c\\n\\x04name\\x18\\x03 \\x01(\\t\\x12\\x0f\\n\\x07op_type\\x18\\x04 \\x01(\\t\\x12\\x0e\\n\\x06\\x64omain\\x18\\x07 \\x01(\\t\\x12\\'\\n\\tattribute\\x18\\x05 \\x03(\\x0b\\x32\\x14.onnx.AttributeProto\\x12\\x12\\n\\ndoc_string\\x18\\x06 \\x01(\\t\\\"\\xd6\\x01\\n\\x11TrainingInfoProto\\x12(\\n\\x0einitialization\\x18\\x01 \\x01(\\x0b\\x32\\x10.onnx.GraphProto\\x12#\\n\\talgorithm\\x18\\x02 \\x01(\\x0b\\x32\\x10.onnx.GraphProto\\x12<\\n\\x16initialization_binding\\x18\\x03 \\x03(\\x0b\\x32\\x1c.onnx.StringStringEntryProto\\x12\\x34\\n\\x0eupdate_binding\\x18\\x04 \\x03(\\x0b\\x32\\x1c.onnx.StringStringEntryProto\\\"\\xeb\\x02\\n\\nModelProto\\x12\\x12\\n\\nir_version\\x18\\x01 \\x01(\\x03\\x12.\\n\\x0copset_import\\x18\\x08 \\x03(\\x0b\\x32\\x18.onnx.OperatorSetIdProto\\x12\\x15\\n\\rproducer_name\\x18\\x02 \\x01(\\t\\x12\\x18\\n\\x10producer_version\\x18\\x03 \\x01(\\t\\x12\\x0e\\n\\x06\\x64omain\\x18\\x04 \\x01(\\t\\x12\\x15\\n\\rmodel_version\\x18\\x05 \\x01(\\x03\\x12\\x12\\n\\ndoc_string\\x18\\x06 \\x01(\\t\\x12\\x1f\\n\\x05graph\\x18\\x07 \\x01(\\x0b\\x32\\x10.onnx.GraphProto\\x12\\x34\\n\\x0emetadata_props\\x18\\x0e \\x03(\\x0b\\x32\\x1c.onnx.StringStringEntryProto\\x12.\\n\\rtraining_info\\x18\\x14 \\x03(\\x0b\\x32\\x17.onnx.TrainingInfoProto\\x12&\\n\\tfunctions\\x18\\x19 \\x03(\\x0b\\x32\\x13.onnx.FunctionProto\\\"4\\n\\x16StringStringEntryProto\\x12\\x0b\\n\\x03key\\x18\\x01 \\x01(\\t\\x12\\r\\n\\x05value\\x18\\x02 \\x01(\\t\\\"k\\n\\x10TensorAnnotation\\x12\\x13\\n\\x0btensor_name\\x18\\x01 \\x01(\\t\\x12\\x42\\n\\x1cquant_parameter_tensor_names\\x18\\x02 \\x03(\\x0b\\x32\\x1c.onnx.StringStringEntryProto\\\"\\xd8\\x02\\n\\nGraphProto\\x12\\x1d\\n\\x04node\\x18\\x01 \\x03(\\x0b\\x32\\x0f.onnx.NodeProto\\x12\\x0c\\n\\x04name\\x18\\x02 \\x01(\\t\\x12&\\n\\x0binitializer\\x18\\x05 \\x03(\\x0b\\x32\\x11.onnx.TensorProto\\x12\\x33\\n\\x12sparse_initializer\\x18\\x0f \\x03(\\x0b\\x32\\x17.onnx.SparseTensorProto\\x12\\x12\\n\\ndoc_string\\x18\\n \\x01(\\t\\x12#\\n\\x05input\\x18\\x0b \\x03(\\x0b\\x32\\x14.onnx.ValueInfoProto\\x12$\\n\\x06output\\x18\\x0c \\x03(\\x0b\\x32\\x14.onnx.ValueInfoProto\\x12(\\n\\nvalue_info\\x18\\r \\x03(\\x0b\\x32\\x14.onnx.ValueInfoProto\\x12\\x37\\n\\x17quantization_annotation\\x18\\x0e \\x03(\\x0b\\x32\\x16.onnx.TensorAnnotation\\\"\\xb8\\x05\\n\\x0bTensorProto\\x12\\x0c\\n\\x04\\x64ims\\x18\\x01 \\x03(\\x03\\x12\\x11\\n\\tdata_type\\x18\\x02 \\x01(\\x05\\x12*\\n\\x07segment\\x18\\x03 \\x01(\\x0b\\x32\\x19.onnx.TensorProto.Segment\\x12\\x16\\n\\nfloat_data\\x18\\x04 \\x03(\\x02\\x42\\x02\\x10\\x01\\x12\\x16\\n\\nint32_data\\x18\\x05 \\x03(\\x05\\x42\\x02\\x10\\x01\\x12\\x13\\n\\x0bstring_data\\x18\\x06 \\x03(\\x0c\\x12\\x16\\n\\nint64_data\\x18\\x07 \\x03(\\x03\\x42\\x02\\x10\\x01\\x12\\x0c\\n\\x04name\\x18\\x08 \\x01(\\t\\x12\\x12\\n\\ndoc_string\\x18\\x0c \\x01(\\t\\x12\\x10\\n\\x08raw_data\\x18\\t \\x01(\\x0c\\x12\\x33\\n\\rexternal_data\\x18\\r \\x03(\\x0b\\x32\\x1c.onnx.StringStringEntryProto\\x12\\x35\\n\\rdata_location\\x18\\x0e \\x01(\\x0e\\x32\\x1e.onnx.TensorProto.DataLocation\\x12\\x17\\n\\x0b\\x64ouble_data\\x18\\n \\x03(\\x01\\x42\\x02\\x10\\x01\\x12\\x17\\n\\x0buint64_data\\x18\\x0b \\x03(\\x04\\x42\\x02\\x10\\x01\\x1a%\\n\\x07Segment\\x12\\r\\n\\x05\\x62\\x65gin\\x18\\x01 \\x01(\\x03\\x12\\x0b\\n\\x03\\x65nd\\x18\\x02 \\x01(\\x03\\\"\\xda\\x01\\n\\x08\\x44\\x61taType\\x12\\r\\n\\tUNDEFINED\\x10\\x00\\x12\\t\\n\\x05\\x46LOAT\\x10\\x01\\x12\\t\\n\\x05UINT8\\x10\\x02\\x12\\x08\\n\\x04INT8\\x10\\x03\\x12\\n\\n\\x06UINT16\\x10\\x04\\x12\\t\\n\\x05INT16\\x10\\x05\\x12\\t\\n\\x05INT32\\x10\\x06\\x12\\t\\n\\x05INT64\\x10\\x07\\x12\\n\\n\\x06STRING\\x10\\x08\\x12\\x08\\n\\x04\\x42OOL\\x10\\t\\x12\\x0b\\n\\x07\\x46LOAT16\\x10\\n\\x12\\n\\n\\x06\\x44OUBLE\\x10\\x0b\\x12\\n\\n\\x06UINT32\\x10\\x0c\\x12\\n\\n\\x06UINT64\\x10\\r\\x12\\r\\n\\tCOMPLEX64\\x10\\x0e\\x12\\x0e\\n\\nCOMPLEX128\\x10\\x0f\\x12\\x0c\\n\\x08\\x42\\x46LOAT16\\x10\\x10\\\")\\n\\x0c\\x44\\x61taLocation\\x12\\x0b\\n\\x07\\x44\\x45\\x46\\x41ULT\\x10\\x00\\x12\\x0c\\n\\x08\\x45XTERNAL\\x10\\x01\\\"h\\n\\x11SparseTensorProto\\x12!\\n\\x06values\\x18\\x01 \\x01(\\x0b\\x32\\x11.onnx.TensorProto\\x12\\\"\\n\\x07indices\\x18\\x02 \\x01(\\x0b\\x32\\x11.onnx.TensorProto\\x12\\x0c\\n\\x04\\x64ims\\x18\\x03 \\x03(\\x03\\\"\\x95\\x01\\n\\x10TensorShapeProto\\x12-\\n\\x03\\x64im\\x18\\x01 \\x03(\\x0b\\x32 .onnx.TensorShapeProto.Dimension\\x1aR\\n\\tDimension\\x12\\x13\\n\\tdim_value\\x18\\x01 \\x01(\\x03H\\x00\\x12\\x13\\n\\tdim_param\\x18\\x02 \\x01(\\tH\\x00\\x12\\x12\\n\\ndenotation\\x18\\x03 \\x01(\\tB\\x07\\n\\x05value\\\"\\xa5\\x05\\n\\tTypeProto\\x12-\\n\\x0btensor_type\\x18\\x01 \\x01(\\x0b\\x32\\x16.onnx.TypeProto.TensorH\\x00\\x12\\x31\\n\\rsequence_type\\x18\\x04 \\x01(\\x0b\\x32\\x18.onnx.TypeProto.SequenceH\\x00\\x12\\'\\n\\x08map_type\\x18\\x05 \\x01(\\x0b\\x32\\x13.onnx.TypeProto.MapH\\x00\\x12\\x31\\n\\roptional_type\\x18\\t \\x01(\\x0b\\x32\\x18.onnx.TypeProto.OptionalH\\x00\\x12:\\n\\x12sparse_tensor_type\\x18\\x08 \\x01(\\x0b\\x32\\x1c.onnx.TypeProto.SparseTensorH\\x00\\x12-\\n\\x0bopaque_type\\x18\\x07 \\x01(\\x0b\\x32\\x16.onnx.TypeProto.OpaqueH\\x00\\x12\\x12\\n\\ndenotation\\x18\\x06 \\x01(\\t\\x1a\\x42\\n\\x06Tensor\\x12\\x11\\n\\telem_type\\x18\\x01 \\x01(\\x05\\x12%\\n\\x05shape\\x18\\x02 \\x01(\\x0b\\x32\\x16.onnx.TensorShapeProto\\x1a.\\n\\x08Sequence\\x12\\\"\\n\\telem_type\\x18\\x01 \\x01(\\x0b\\x32\\x0f.onnx.TypeProto\\x1a<\\n\\x03Map\\x12\\x10\\n\\x08key_type\\x18\\x01 \\x01(\\x05\\x12#\\n\\nvalue_type\\x18\\x02 \\x01(\\x0b\\x32\\x0f.onnx.TypeProto\\x1a.\\n\\x08Optional\\x12\\\"\\n\\telem_type\\x18\\x01 \\x01(\\x0b\\x32\\x0f.onnx.TypeProto\\x1aH\\n\\x0cSparseTensor\\x12\\x11\\n\\telem_type\\x18\\x01 \\x01(\\x05\\x12%\\n\\x05shape\\x18\\x02 \\x01(\\x0b\\x32\\x16.onnx.TensorShapeProto\\x1a&\\n\\x06Opaque\\x12\\x0e\\n\\x06\\x64omain\\x18\\x01 \\x01(\\t\\x12\\x0c\\n\\x04name\\x18\\x02 \\x01(\\tB\\x07\\n\\x05value\\\"5\\n\\x12OperatorSetIdProto\\x12\\x0e\\n\\x06\\x64omain\\x18\\x01 \\x01(\\t\\x12\\x0f\\n\\x07version\\x18\\x02 \\x01(\\x03\\\"\\xe5\\x01\\n\\rFunctionProto\\x12\\x0c\\n\\x04name\\x18\\x01 \\x01(\\t\\x12\\r\\n\\x05input\\x18\\x04 \\x03(\\t\\x12\\x0e\\n\\x06output\\x18\\x05 \\x03(\\t\\x12\\x11\\n\\tattribute\\x18\\x06 \\x03(\\t\\x12\\x1d\\n\\x04node\\x18\\x07 \\x03(\\x0b\\x32\\x0f.onnx.NodeProto\\x12\\x12\\n\\ndoc_string\\x18\\x08 \\x01(\\t\\x12.\\n\\x0copset_import\\x18\\t \\x03(\\x0b\\x32\\x18.onnx.OperatorSetIdProto\\x12\\x0e\\n\\x06\\x64omain\\x18\\n \\x01(\\tJ\\x04\\x08\\x02\\x10\\x03J\\x04\\x08\\x03\\x10\\x04R\\rsince_versionR\\x06status*\\xe4\\x01\\n\\x07Version\\x12\\x12\\n\\x0e_START_VERSION\\x10\\x00\\x12\\x19\\n\\x15IR_VERSION_2017_10_10\\x10\\x01\\x12\\x19\\n\\x15IR_VERSION_2017_10_30\\x10\\x02\\x12\\x18\\n\\x14IR_VERSION_2017_11_3\\x10\\x03\\x12\\x18\\n\\x14IR_VERSION_2019_1_22\\x10\\x04\\x12\\x18\\n\\x14IR_VERSION_2019_3_18\\x10\\x05\\x12\\x18\\n\\x14IR_VERSION_2019_9_19\\x10\\x06\\x12\\x17\\n\\x13IR_VERSION_2020_5_8\\x10\\x07\\x12\\x0e\\n\\nIR_VERSION\\x10\\x08*.\\n\\x0eOperatorStatus\\x12\\x10\\n\\x0c\\x45XPERIMENTAL\\x10\\x00\\x12\\n\\n\\x06STABLE\\x10\\x01'\u001b[0m\u001b[0;34m\u001b[0m\u001b[0m\n\u001b[1;32m     24\u001b[0m )\n",
      "\u001b[0;31mAttributeError\u001b[0m: module 'google.protobuf.descriptor' has no attribute '_internal_create_key'"
     ]
    }
   ],
   "source": [
    "import onnxruntime as rt \n",
    "from sklearn.datasets import load_boston\n",
    "from sklearn.model_selection import train_test_split\n",
    "from sklearn.linear_model import LinearRegression\n",
    "from skl2onnx import convert_sklearn\n",
    "from skl2onnx.common.data_types import FloatTensorType\n",
    "\n",
    "\n",
    "# загружаем данные\n",
    "X, y = load_boston(return_X_y=True)\n",
    "X_train, X_test, y_train, y_test = train_test_split(X, y, random_state=7)\n",
    "print(X_train.shape, X_test.shape)\n",
    "\n",
    "# обучаем модель\n",
    "model = LinearRegression()\n",
    "model.fit(X_train, y_train)\n",
    "\n",
    "# делаем инференс моделью на тесте\n",
    "test_pred = model.predict(X_test)\n",
    "print('sklearn model predict:\\n', test_pred)\n",
    "\n",
    "# конвертируем модель в onnx формат\n",
    "initial_type = [('float_input', FloatTensorType([None, X_train.shape[1]]))]\n",
    "model_onnx = convert_sklearn(model, initial_types=initial_type)\n",
    "\n",
    "# сохраняем модель в файл\n",
    "with open(\"./models/model.onnx\", \"wb\") as f:\n",
    "    f.write(model_onnx.SerializeToString())\n",
    "\n",
    "# Делаем инференс на тесте через onnxruntime\n",
    "sess = rt.InferenceSession(\"./models/model.onnx\")\n",
    "input_name = sess.get_inputs()[0].name\n",
    "label_name = sess.get_outputs()[0].name\n",
    "test_pred_onnx = sess.run([label_name], {input_name:  X_test.astype(np.float32)})[0].reshape(-1)\n",
    "print('onnx model predict:\\n',test_pred_onnx) "
   ]
  },
  {
   "cell_type": "code",
   "execution_count": null,
   "metadata": {},
   "outputs": [],
   "source": []
  }
 ],
 "metadata": {
  "kernelspec": {
   "display_name": "Python 3",
   "language": "python",
   "name": "python3"
  },
  "language_info": {
   "codemirror_mode": {
    "name": "ipython",
    "version": 3
   },
   "file_extension": ".py",
   "mimetype": "text/x-python",
   "name": "python",
   "nbconvert_exporter": "python",
   "pygments_lexer": "ipython3",
   "version": "3.6.6"
  }
 },
 "nbformat": 4,
 "nbformat_minor": 2
}
