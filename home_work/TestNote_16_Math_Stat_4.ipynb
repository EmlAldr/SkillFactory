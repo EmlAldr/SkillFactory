{
 "cells": [
  {
   "cell_type": "code",
   "execution_count": 1,
   "metadata": {},
   "outputs": [],
   "source": [
    "import numpy as np\n",
    "from scipy.optimize import linprog"
   ]
  },
  {
   "cell_type": "markdown",
   "metadata": {},
   "source": [
    "Допустим, у нас есть n товаров с заданными стоимостями vi и массой wi. В сумку убирается с кг. Сколько какого товара взять, чтобы сумма всех стоимостей товаров была наибольшей?"
   ]
  },
  {
   "cell_type": "code",
   "execution_count": 2,
   "metadata": {},
   "outputs": [],
   "source": [
    "values = [4, 2, 1, 7, 3, 6]\n",
    "weights = [5, 9, 8, 2, 6, 5]\n",
    "C = 15\n",
    "n = 6"
   ]
  },
  {
   "cell_type": "markdown",
   "metadata": {},
   "source": [
    "Сформулируем задачу линейного программирования:"
   ]
  },
  {
   "cell_type": "code",
   "execution_count": 3,
   "metadata": {},
   "outputs": [
    {
     "data": {
      "text/plain": [
       "array([-4, -2, -1, -7, -3, -6])"
      ]
     },
     "execution_count": 3,
     "metadata": {},
     "output_type": "execute_result"
    }
   ],
   "source": [
    "c = -np.array(values)\n",
    "c"
   ]
  },
  {
   "cell_type": "code",
   "execution_count": 4,
   "metadata": {},
   "outputs": [
    {
     "data": {
      "text/plain": [
       "array([[5, 9, 8, 2, 6, 5]])"
      ]
     },
     "execution_count": 4,
     "metadata": {},
     "output_type": "execute_result"
    }
   ],
   "source": [
    "A = np.array(weights).reshape(1, 6)\n",
    "A"
   ]
  },
  {
   "cell_type": "code",
   "execution_count": 5,
   "metadata": {},
   "outputs": [
    {
     "data": {
      "text/plain": [
       "array([15])"
      ]
     },
     "execution_count": 5,
     "metadata": {},
     "output_type": "execute_result"
    }
   ],
   "source": [
    "b = np.array(C).reshape(1,)\n",
    "b"
   ]
  },
  {
   "cell_type": "markdown",
   "metadata": {},
   "source": [
    "Передаем определенные параметры задачи ЛП в функцию linprog"
   ]
  },
  {
   "cell_type": "code",
   "execution_count": 6,
   "metadata": {},
   "outputs": [
    {
     "data": {
      "text/plain": [
       "     con: array([], dtype=float64)\n",
       "     fun: -52.500000000030745\n",
       " message: 'Optimization terminated successfully.'\n",
       "     nit: 5\n",
       "   slack: array([-2.24886776e-11])\n",
       "  status: 0\n",
       " success: True\n",
       "       x: array([6.18738521e-14, 1.05853304e-12, 1.21475941e-13, 7.50000000e+00,\n",
       "       4.00246685e-13, 4.71394154e-13])"
      ]
     },
     "execution_count": 6,
     "metadata": {},
     "output_type": "execute_result"
    }
   ],
   "source": [
    "linprog(c=c, A_ub=A, b_ub=b)"
   ]
  },
  {
   "cell_type": "markdown",
   "metadata": {},
   "source": [
    "Предположим, что товары в задаче нельзя дробить и решим задачу целочисленного линейного программирования.\n",
    "\n",
    "Scipy этого делать не умеет. Будем использовать новую библиотеку **cvxpy**."
   ]
  },
  {
   "cell_type": "code",
   "execution_count": 18,
   "metadata": {},
   "outputs": [],
   "source": [
    "linprog?"
   ]
  },
  {
   "cell_type": "code",
   "execution_count": 7,
   "metadata": {},
   "outputs": [
    {
     "name": "stdout",
     "output_type": "stream",
     "text": [
      "Requirement already satisfied: cvxpy in /notebooks/home/.local/lib/python3.6/site-packages (1.1.10)\r\n",
      "Requirement already satisfied: scipy>=1.1.0 in /opt/conda/lib/python3.6/site-packages (from cvxpy) (1.3.1)\r\n",
      "Requirement already satisfied: osqp>=0.4.1 in /notebooks/home/.local/lib/python3.6/site-packages (from cvxpy) (0.6.2.post0)\r\n",
      "Requirement already satisfied: scs>=1.1.6 in /notebooks/home/.local/lib/python3.6/site-packages (from cvxpy) (2.1.2)\r\n",
      "Requirement already satisfied: numpy>=1.15 in /opt/conda/lib/python3.6/site-packages (from cvxpy) (1.17.0)\r\n",
      "Requirement already satisfied: ecos>=2 in /notebooks/home/.local/lib/python3.6/site-packages (from cvxpy) (2.0.7.post1)\r\n",
      "Requirement already satisfied: qdldl in /notebooks/home/.local/lib/python3.6/site-packages (from osqp>=0.4.1->cvxpy) (0.1.5.post0)\r\n"
     ]
    }
   ],
   "source": [
    "!pip install --user cvxpy"
   ]
  },
  {
   "cell_type": "code",
   "execution_count": 8,
   "metadata": {},
   "outputs": [],
   "source": [
    "import cvxpy"
   ]
  },
  {
   "cell_type": "code",
   "execution_count": 9,
   "metadata": {},
   "outputs": [],
   "source": [
    "values = [4, 2, 1, 7, 3, 6]\n",
    "weights = [5, 9, 8, 2, 6, 5]\n",
    "C = 15\n",
    "n = 6\n",
    "\n",
    "c = - np.array(values)\n",
    "A = np.array(weights)         #shape = (6,)\n",
    "A = np.expand_dims(A, 0)      #shape = (1,6)\n",
    "b = np.array([C])"
   ]
  },
  {
   "cell_type": "markdown",
   "metadata": {},
   "source": [
    "Определяем искомые переменные в количестве n=6 и с условием, что они целочисленные"
   ]
  },
  {
   "cell_type": "code",
   "execution_count": 10,
   "metadata": {},
   "outputs": [],
   "source": [
    "x = cvxpy.Variable(shape=n, integer=True)"
   ]
  },
  {
   "cell_type": "markdown",
   "metadata": {},
   "source": [
    "Задаем условия в явном виде:"
   ]
  },
  {
   "cell_type": "code",
   "execution_count": 11,
   "metadata": {},
   "outputs": [],
   "source": [
    "constraint = (A @ x <= b)\n",
    "total_value = (c @ x)"
   ]
  },
  {
   "cell_type": "code",
   "execution_count": 12,
   "metadata": {},
   "outputs": [],
   "source": [
    "problem = cvxpy.Problem(cvxpy.Minimize(total_value), constraints=[constraint])"
   ]
  },
  {
   "cell_type": "code",
   "execution_count": 13,
   "metadata": {},
   "outputs": [
    {
     "data": {
      "text/plain": [
       "-138412039.0000002"
      ]
     },
     "execution_count": 13,
     "metadata": {},
     "output_type": "execute_result"
    }
   ],
   "source": [
    "problem.solve(solver='ECOS_BB')"
   ]
  },
  {
   "cell_type": "markdown",
   "metadata": {},
   "source": [
    "Теперь положительные $x$"
   ]
  },
  {
   "cell_type": "code",
   "execution_count": 14,
   "metadata": {},
   "outputs": [
    {
     "name": "stderr",
     "output_type": "stream",
     "text": [
      "/notebooks/home/.local/lib/python3.6/site-packages/cvxpy/problems/problem.py:1126: UserWarning: Solution may be inaccurate. Try another solver, adjusting the solver settings, or solve with verbose=True for more information.\n",
      "  \"Solution may be inaccurate. Try another solver, \"\n"
     ]
    },
    {
     "data": {
      "text/plain": [
       "-49.000000015906025"
      ]
     },
     "execution_count": 14,
     "metadata": {},
     "output_type": "execute_result"
    }
   ],
   "source": [
    "x = cvxpy.Variable(shape=n, integer=True)\n",
    "constraint = (A @ x <= b)\n",
    "x_positive = (x >= 0)\n",
    "total_value = c @ x\n",
    "problem = cvxpy.Problem(cvxpy.Minimize(total_value), constraints=[constraint, x_positive])\n",
    "problem.solve(solver='ECOS_BB')"
   ]
  },
  {
   "cell_type": "code",
   "execution_count": 15,
   "metadata": {},
   "outputs": [
    {
     "data": {
      "text/plain": [
       "array([7.01265807e-10, 7.99333027e-10, 3.58703130e-10, 7.00000000e+00,\n",
       "       4.67143021e-10, 9.34955115e-10])"
      ]
     },
     "execution_count": 15,
     "metadata": {},
     "output_type": "execute_result"
    }
   ],
   "source": [
    "x.value"
   ]
  },
  {
   "cell_type": "markdown",
   "metadata": {},
   "source": [
    "Теперь $x = 0$ или $1$"
   ]
  },
  {
   "cell_type": "code",
   "execution_count": 16,
   "metadata": {},
   "outputs": [
    {
     "name": "stderr",
     "output_type": "stream",
     "text": [
      "/notebooks/home/.local/lib/python3.6/site-packages/cvxpy/expressions/expression.py:550: UserWarning: \n",
      "This use of ``*`` has resulted in matrix multiplication.\n",
      "Using ``*`` for matrix multiplication has been deprecated since CVXPY 1.1.\n",
      "    Use ``*`` for matrix-scalar and vector-scalar multiplication.\n",
      "    Use ``@`` for matrix-matrix and matrix-vector multiplication.\n",
      "    Use ``multiply`` for elementwise multiplication.\n",
      "\n",
      "  warnings.warn(__STAR_MATMUL_WARNING__, UserWarning)\n"
     ]
    },
    {
     "data": {
      "text/plain": [
       "-17.00000000382157"
      ]
     },
     "execution_count": 16,
     "metadata": {},
     "output_type": "execute_result"
    }
   ],
   "source": [
    "x = cvxpy.Variable(shape=n, boolean=True)\n",
    "constraint = A @ x <= b\n",
    "x_positive = x >= 0\n",
    "total_value = c * x\n",
    "problem = cvxpy.Problem(cvxpy.Minimize(total_value), constraints=[constraint, x_positive])\n",
    "problem.solve(solver='ECOS_BB')"
   ]
  },
  {
   "cell_type": "code",
   "execution_count": 17,
   "metadata": {},
   "outputs": [
    {
     "data": {
      "text/plain": [
       "array([1.00000000e+00, 2.25474413e-10, 2.07396078e-10, 1.00000000e+00,\n",
       "       2.24003299e-10, 1.00000000e+00])"
      ]
     },
     "execution_count": 17,
     "metadata": {},
     "output_type": "execute_result"
    }
   ],
   "source": [
    "x.value"
   ]
  },
  {
   "cell_type": "markdown",
   "metadata": {},
   "source": [
    "Составьте оптимальный план перевозок, со Склада № 1 и Склада № 2, в три торговых центра, с учётом тарифов, запасов и потребностей, которые указаны в таблице:\n",
    "\n",
    "                    | ТЦ1 (110 шт) | ТЦ2 (150 шт) | ТЦ3 (140 шт)\n",
    "    Склад1 (180 шт) |   2 y.e.     |   5 y.e.     |   3 y.e.\n",
    "    Склад2 (220 шт) |   7 y.e.     |   7 y.e.     |   6 y.e."
   ]
  },
  {
   "cell_type": "code",
   "execution_count": 24,
   "metadata": {},
   "outputs": [],
   "source": [
    "n = 6\n",
    "\n",
    "c = np.array([2, 5, 3, 7, 7, 6])\n",
    "A_eq = np.array([[1, 0, 0, 1, 0, 0], \n",
    "                 [0, 1, 0, 0, 1, 0],\n",
    "                 [0, 0, 1, 0, 0, 1]])\n",
    "b_eq = np.array([110, 150, 140])\n",
    "\n",
    "A_ub = np.array([[1, 1, 1, 0, 0, 0], \n",
    "                 [0, 0, 0, 1, 1, 1]])\n",
    "b_ub = np.array([180, 220])"
   ]
  },
  {
   "cell_type": "markdown",
   "metadata": {},
   "source": [
    "Решим с помощью scipy.optimize.linprog"
   ]
  },
  {
   "cell_type": "code",
   "execution_count": 26,
   "metadata": {},
   "outputs": [
    {
     "data": {
      "text/plain": [
       "     con: array([4.39231886e-06, 6.01910361e-06, 5.61240731e-06])\n",
       "     fun: 1899.9999256826495\n",
       " message: 'Optimization terminated successfully.'\n",
       "     nit: 5\n",
       "   slack: array([7.20364935e-06, 8.82018043e-06])\n",
       "  status: 0\n",
       " success: True\n",
       "       x: array([1.09999995e+02, 4.43103329e-08, 6.99999980e+01, 8.98577274e-07,\n",
       "       1.49999994e+02, 6.99999963e+01])"
      ]
     },
     "execution_count": 26,
     "metadata": {},
     "output_type": "execute_result"
    }
   ],
   "source": [
    "linprog(c=c,\n",
    "        A_ub=A_ub,\n",
    "        b_ub=b_ub,\n",
    "        A_eq=A_eq,\n",
    "        b_eq=b_eq)"
   ]
  },
  {
   "cell_type": "markdown",
   "metadata": {},
   "source": [
    "Решим с помощью cvxpy"
   ]
  },
  {
   "cell_type": "code",
   "execution_count": 29,
   "metadata": {},
   "outputs": [
    {
     "data": {
      "text/plain": [
       "1900.0000000102355"
      ]
     },
     "execution_count": 29,
     "metadata": {},
     "output_type": "execute_result"
    }
   ],
   "source": [
    "x = cvxpy.Variable(shape=n, integer=True)\n",
    "\n",
    "constraint_ub = (A_ub @ x <= b_ub)\n",
    "constraint_eq = (A_eq @ x == b_eq)\n",
    "x_positive = (x >= 0)\n",
    "\n",
    "total_value = c @ x\n",
    "problem = cvxpy.Problem(cvxpy.Minimize(total_value), constraints=[constraint_ub, constraint_eq, x_positive])\n",
    "problem.solve(solver='ECOS_BB')"
   ]
  },
  {
   "cell_type": "markdown",
   "metadata": {},
   "source": [
    "Эксперт курса предлагает решать так (по факту то же самое, но оформление более понятно):\n",
    "\n",
    "У меня y - искомая переменная, c - матрица затрат, total_value - это то, что минимизируется в задаче - сумма элементов матрицы поэлементного умножения y и c\n",
    "Ограничения:\n",
    " - первые два - суммы по рядам (ограничения, связанные с объёмом продукции на складах)\n",
    " - следующие три - суммы по столбцам (ограничения, связанные с объёмом необходимой продукции в ТЦ)\n",
    " - последнее - неотрицательность элементов y"
   ]
  },
  {
   "cell_type": "code",
   "execution_count": 31,
   "metadata": {},
   "outputs": [
    {
     "data": {
      "text/plain": [
       "1900.0000000102355"
      ]
     },
     "execution_count": 31,
     "metadata": {},
     "output_type": "execute_result"
    }
   ],
   "source": [
    "c = np.array([[2, 5, 3], [7, 7, 6]])\n",
    "y = cvxpy.Variable(shape=(2, 3), integer=True)\n",
    "constraint = [cvxpy.sum(y[0, :]) <= 180, \n",
    "              cvxpy.sum(y[1, :]) <= 220, \n",
    "              cvxpy.sum(y[:, 0]) == 110, \n",
    "              cvxpy.sum(y[:, 1]) == 150, \n",
    "              cvxpy.sum(y[:, 2]) == 140, \n",
    "              y >= 0]\n",
    "total_value = cvxpy.sum(cvxpy.multiply(c, y))\n",
    "problem = cvxpy.Problem(cvxpy.Minimize(total_value), constraints=constraint)\n",
    "problem.solve(solver='ECOS_BB')"
   ]
  },
  {
   "cell_type": "markdown",
   "metadata": {},
   "source": [
    "Решите задачу о назначениях:\n",
    "\n",
    "Задачи/Исполнители\n",
    "\n",
    "      | 1    | 2    | 3    | 4    | 5\n",
    "    1 | 1000 | 12   | 10   | 19   | 9\n",
    "    2 | 12   | 1000 | 3    | 7    | 2 \n",
    "    3 | 10   | 3    | 1000 | 6    | 20 \n",
    "    4 | 19   | 7    | 6    | 1000 | 4\n",
    "    5 | 9    | 2    | 20   | 4    | 1000"
   ]
  },
  {
   "cell_type": "code",
   "execution_count": 46,
   "metadata": {},
   "outputs": [],
   "source": [
    "c = np.array([[1000, 12, 10, 19, 8],\n",
    "              [12, 1000, 3, 7, 2],\n",
    "              [10, 3, 1000, 6, 20],\n",
    "              [19, 7, 6, 1000, 4],\n",
    "              [8, 2, 20, 4, 1000]])\n",
    "\n",
    "y = cvxpy.Variable(shape=(5, 5), boolean=True)\n",
    "constraints = [cvxpy.sum(y[0, :]) == 1, \n",
    "              cvxpy.sum(y[1, :]) == 1, \n",
    "              cvxpy.sum(y[2, :]) == 1,\n",
    "              cvxpy.sum(y[3, :]) == 1,\n",
    "              cvxpy.sum(y[4, :]) == 1,              \n",
    "              cvxpy.sum(y[:, 0]) == 1, \n",
    "              cvxpy.sum(y[:, 1]) == 1, \n",
    "              cvxpy.sum(y[:, 2]) == 1, \n",
    "              cvxpy.sum(y[:, 3]) == 1, \n",
    "              cvxpy.sum(y[:, 4]) == 1]\n",
    "\n",
    "total_value = cvxpy.sum(cvxpy.multiply(c, y))"
   ]
  },
  {
   "cell_type": "code",
   "execution_count": 47,
   "metadata": {},
   "outputs": [
    {
     "data": {
      "text/plain": [
       "31.99999999996171"
      ]
     },
     "execution_count": 47,
     "metadata": {},
     "output_type": "execute_result"
    }
   ],
   "source": [
    "problem = cvxpy.Problem(cvxpy.Minimize(total_value), constraints=constraints)\n",
    "problem.solve(solver='ECOS_BB')"
   ]
  },
  {
   "cell_type": "markdown",
   "metadata": {},
   "source": [
    "Условия можно записать более компактно:"
   ]
  },
  {
   "cell_type": "code",
   "execution_count": 48,
   "metadata": {},
   "outputs": [
    {
     "data": {
      "text/plain": [
       "31.999999999961364"
      ]
     },
     "execution_count": 48,
     "metadata": {},
     "output_type": "execute_result"
    }
   ],
   "source": [
    "c = np.array([[1000, 12, 10, 19, 8],\n",
    "    [12, 1000, 3, 7, 2], \n",
    "    [10, 3, 1000, 6, 20], \n",
    "    [19, 7, 6, 1000, 4], \n",
    "    [8, 2, 20, 4, 1000]])\n",
    "y = cvxpy.Variable(shape=(5,5), boolean=True)\n",
    "constraints = [\n",
    "    cvxpy.sum(y, axis=0) == np.ones(5),\n",
    "    cvxpy.sum(y, axis=1) == np.ones(5)\n",
    "]\n",
    "total_value = cvxpy.sum(cvxpy.multiply(y, c))\n",
    "problem = cvxpy.Problem(cvxpy.Minimize(total_value), constraints=constraints)\n",
    "problem.solve(solver='ECOS_BB')"
   ]
  },
  {
   "cell_type": "markdown",
   "metadata": {},
   "source": [
    "Решить задачу Коммивояжера"
   ]
  },
  {
   "cell_type": "code",
   "execution_count": 57,
   "metadata": {},
   "outputs": [],
   "source": [
    "from itertools import product"
   ]
  },
  {
   "cell_type": "code",
   "execution_count": 56,
   "metadata": {},
   "outputs": [],
   "source": [
    "# коэффициенты стоимости пути между точками\n",
    "c = np.array([[1000, 12, 10, 19, 8],\n",
    "              [12, 1000, 3, 7, 2],\n",
    "              [10, 3, 1000, 6, 20],\n",
    "              [19, 7, 6, 1000, 4],\n",
    "              [8, 2, 20, 4, 1000]])"
   ]
  },
  {
   "cell_type": "code",
   "execution_count": 58,
   "metadata": {},
   "outputs": [],
   "source": [
    "y = cvxpy.Variable(shape=(5,5), boolean=True)\n",
    "\n",
    "# Условия, в каждую точку надо зайти 1 раз и выйти 1 раз\n",
    "constraints = [\n",
    "    cvxpy.sum(y, axis=0) == np.ones(5),\n",
    "    cvxpy.sum(y, axis=1) == np.ones(5)\n",
    "]"
   ]
  },
  {
   "cell_type": "code",
   "execution_count": 59,
   "metadata": {},
   "outputs": [],
   "source": [
    "# Добавим условие исключения подциклов \n",
    "u = cvxpy.Variable(shape=5, boolean=True)\n",
    "\n",
    "for i,j in product(range(5), range(5)):\n",
    "    if i >= 0 and j >= 1 and i != j:\n",
    "        u[i] - u[j] + 5*y[i, j] <= 4"
   ]
  },
  {
   "cell_type": "code",
   "execution_count": 60,
   "metadata": {},
   "outputs": [
    {
     "data": {
      "text/plain": [
       "31.999999999961364"
      ]
     },
     "execution_count": 60,
     "metadata": {},
     "output_type": "execute_result"
    }
   ],
   "source": [
    "total_value = cvxpy.sum(cvxpy.multiply(y, c))\n",
    "problem = cvxpy.Problem(cvxpy.Minimize(total_value), constraints=constraints)\n",
    "problem.solve(solver='ECOS_BB')"
   ]
  }
 ],
 "metadata": {
  "kernelspec": {
   "display_name": "Python 3",
   "language": "python",
   "name": "python3"
  },
  "language_info": {
   "codemirror_mode": {
    "name": "ipython",
    "version": 3
   },
   "file_extension": ".py",
   "mimetype": "text/x-python",
   "name": "python",
   "nbconvert_exporter": "python",
   "pygments_lexer": "ipython3",
   "version": "3.6.6"
  }
 },
 "nbformat": 4,
 "nbformat_minor": 2
}
