{
 "cells": [
  {
   "cell_type": "code",
   "execution_count": 1,
   "metadata": {},
   "outputs": [],
   "source": [
    "import numpy as np"
   ]
  },
  {
   "cell_type": "markdown",
   "metadata": {},
   "source": [
    "В школе у пятниклассника Вовочки оценки ставятся по стобалльной шкале. Оценки по предметам ставятся каждый день. В конце четверти учитель проставил в дневник случайные выборки оценок за  дней, чтобы родители могли составить представление об успеваемости.\n",
    "\n",
    "Оценки Вовочки по математике и русскому языку выглядят так:"
   ]
  },
  {
   "cell_type": "code",
   "execution_count": 17,
   "metadata": {},
   "outputs": [],
   "source": [
    "# Математика: \n",
    "m = np.array([20, 23, 29, 22, 50, 43, 35])\n",
    "\n",
    "# Русский язык:\n",
    "r = np.array([70, 65, 58, 90, 45, 57, 50])"
   ]
  },
  {
   "cell_type": "markdown",
   "metadata": {},
   "source": [
    "1. Найдите долю оценок выше 40 среди оценок по математике:"
   ]
  },
  {
   "cell_type": "code",
   "execution_count": 7,
   "metadata": {},
   "outputs": [
    {
     "data": {
      "text/plain": [
       "0.2857142857142857"
      ]
     },
     "execution_count": 7,
     "metadata": {},
     "output_type": "execute_result"
    }
   ],
   "source": [
    "len(m[m > 40])/len(m)"
   ]
  },
  {
   "cell_type": "markdown",
   "metadata": {},
   "source": [
    "2. Найдите среднюю оценку Вовочки по математике:"
   ]
  },
  {
   "cell_type": "code",
   "execution_count": 9,
   "metadata": {},
   "outputs": [
    {
     "data": {
      "text/plain": [
       "31.714285714285715"
      ]
     },
     "execution_count": 9,
     "metadata": {},
     "output_type": "execute_result"
    }
   ],
   "source": [
    "m.sum()/len(m)"
   ]
  },
  {
   "cell_type": "markdown",
   "metadata": {},
   "source": [
    "3. Найдите среднюю оценку Вовочки по русскому языку:"
   ]
  },
  {
   "cell_type": "code",
   "execution_count": 10,
   "metadata": {},
   "outputs": [
    {
     "data": {
      "text/plain": [
       "62.142857142857146"
      ]
     },
     "execution_count": 10,
     "metadata": {},
     "output_type": "execute_result"
    }
   ],
   "source": [
    "r.sum()/len(r)"
   ]
  },
  {
   "cell_type": "markdown",
   "metadata": {},
   "source": [
    "4. Найдите медианную оценку Вовочки по математике:"
   ]
  },
  {
   "cell_type": "code",
   "execution_count": 11,
   "metadata": {},
   "outputs": [],
   "source": [
    "m.sort()"
   ]
  },
  {
   "cell_type": "code",
   "execution_count": 12,
   "metadata": {},
   "outputs": [
    {
     "data": {
      "text/plain": [
       "array([20, 22, 23, 29, 35, 43, 50])"
      ]
     },
     "execution_count": 12,
     "metadata": {},
     "output_type": "execute_result"
    }
   ],
   "source": [
    "m"
   ]
  },
  {
   "cell_type": "markdown",
   "metadata": {},
   "source": [
    "5. Найдите медианную оценку Вовочки по русскому языку:"
   ]
  },
  {
   "cell_type": "code",
   "execution_count": 13,
   "metadata": {},
   "outputs": [
    {
     "data": {
      "text/plain": [
       "array([45, 50, 57, 58, 65, 70, 90])"
      ]
     },
     "execution_count": 13,
     "metadata": {},
     "output_type": "execute_result"
    }
   ],
   "source": [
    "r.sort()\n",
    "r"
   ]
  },
  {
   "cell_type": "markdown",
   "metadata": {},
   "source": [
    "6. Найдите стандартное отклонение оценки Вовочки по математике (по неисправленной формуле):"
   ]
  },
  {
   "cell_type": "code",
   "execution_count": 29,
   "metadata": {},
   "outputs": [
    {
     "data": {
      "text/plain": [
       "10.606120681868907"
      ]
     },
     "execution_count": 29,
     "metadata": {},
     "output_type": "execute_result"
    }
   ],
   "source": [
    "m_mean = m.sum()/len(m)\n",
    "s = (m - m_mean)**2\n",
    "(s.sum()/len(m))**0.5"
   ]
  },
  {
   "cell_type": "markdown",
   "metadata": {},
   "source": [
    "7. Найдите стандартное отклонение оценки Вовочки по математике (по исправленной формуле):"
   ]
  },
  {
   "cell_type": "code",
   "execution_count": 21,
   "metadata": {},
   "outputs": [
    {
     "data": {
      "text/plain": [
       "11.455919659202191"
      ]
     },
     "execution_count": 21,
     "metadata": {},
     "output_type": "execute_result"
    }
   ],
   "source": [
    "m_mean = m.sum()/len(m)\n",
    "s = (m - m_mean)**2\n",
    "(s.sum()/(len(m)-1))**0.5"
   ]
  },
  {
   "cell_type": "markdown",
   "metadata": {},
   "source": [
    "8. Найдите стандартное отклонение оценки Вовочки по русскому языку (по неисправленной формуле):"
   ]
  },
  {
   "cell_type": "code",
   "execution_count": 25,
   "metadata": {},
   "outputs": [
    {
     "data": {
      "text/plain": [
       "13.788489728015605"
      ]
     },
     "metadata": {},
     "output_type": "display_data"
    }
   ],
   "source": [
    "r_mean = r.sum()/len(r)\n",
    "s = (r - r_mean)**2\n",
    "r_std = (s.sum()/len(r))**0.5\n",
    "display(r_std)"
   ]
  },
  {
   "cell_type": "markdown",
   "metadata": {},
   "source": [
    " 9. Найдите стандартное отклонение оценки Вовочки по русскому языку (по исправленной формуле):"
   ]
  },
  {
   "cell_type": "code",
   "execution_count": 26,
   "metadata": {},
   "outputs": [
    {
     "data": {
      "text/plain": [
       "14.89327109165491"
      ]
     },
     "metadata": {},
     "output_type": "display_data"
    }
   ],
   "source": [
    "r_mean = r.sum()/len(r)\n",
    "s = (r - r_mean)**2\n",
    "r_std = (s.sum()/(len(r)-1))**0.5\n",
    "display(r_std)"
   ]
  },
  {
   "cell_type": "markdown",
   "metadata": {},
   "source": [
    "11. Найдите коэффициент корреляции между оценками Вовочки по математике и русскому языку:"
   ]
  },
  {
   "cell_type": "code",
   "execution_count": 28,
   "metadata": {},
   "outputs": [
    {
     "data": {
      "text/plain": [
       "-0.7694801436457975"
      ]
     },
     "execution_count": 28,
     "metadata": {},
     "output_type": "execute_result"
    }
   ],
   "source": [
    "m_mean = m.sum()/len(m)\n",
    "r_mean = r.sum()/len(r)\n",
    "\n",
    "s_rm = (m - m_mean)*(r - r_mean)\n",
    "s_m = (m - m_mean)**2\n",
    "s_r = (r - r_mean)**2\n",
    "\n",
    "corr_rm = s_rm.sum() / (s_m.sum()*s_r.sum())**0.5\n",
    "corr_rm"
   ]
  },
  {
   "cell_type": "markdown",
   "metadata": {},
   "source": [
    "Мама Вовочки Вероника в прошлом хакер. Она взломала базу данных оценок сына и добыла оценки ещё за  дня:  по математике,  по русскому языку и  по математике,  по русскому языку. Теперь выборки его оценок выглядят так:"
   ]
  },
  {
   "cell_type": "code",
   "execution_count": null,
   "metadata": {},
   "outputs": [],
   "source": [
    "# Математика: \n",
    "m = np.array([20, 23, 29, 22, 50, 43, 35, 98, 28])\n",
    "\n",
    "# Русский язык:\n",
    "r = np.array([70, 65, 58, 90, 45, 57, 50, 90, 38])"
   ]
  },
  {
   "cell_type": "markdown",
   "metadata": {},
   "source": [
    "# Доверительный интервал для среднего"
   ]
  },
  {
   "cell_type": "code",
   "execution_count": 1,
   "metadata": {},
   "outputs": [],
   "source": [
    "from scipy.stats import norm "
   ]
  },
  {
   "cell_type": "code",
   "execution_count": 2,
   "metadata": {},
   "outputs": [
    {
     "name": "stdout",
     "output_type": "stream",
     "text": [
      "2.1700903775845606\n"
     ]
    }
   ],
   "source": [
    "alpha = 0.03\n",
    "value = -norm.ppf(alpha/2)\n",
    "print(value) # 2.17"
   ]
  },
  {
   "cell_type": "markdown",
   "metadata": {},
   "source": [
    "### Задачи"
   ]
  },
  {
   "cell_type": "markdown",
   "metadata": {},
   "source": [
    "1. Найдите -критическое для интервала с уровнем доверия 93 %. Укажите с точностью до двух знаков после разделительной точки."
   ]
  },
  {
   "cell_type": "code",
   "execution_count": 3,
   "metadata": {},
   "outputs": [
    {
     "data": {
      "text/plain": [
       "1.8119106729525982"
      ]
     },
     "metadata": {},
     "output_type": "display_data"
    }
   ],
   "source": [
    "alpha = 1 - 0.93\n",
    "\n",
    "z_critical = -norm.ppf(alpha/2)\n",
    "display(z_critical)"
   ]
  },
  {
   "cell_type": "markdown",
   "metadata": {},
   "source": [
    "2. Парфюмерная компания хочет узнать возраст женщин, которые являются их покупательницами. Ранее уже было изучено, что средний возраст был 37, а среднеквадратичное отклонение равно 3.4. Размер выборки — 200 человек. Рассчитайте 95 % доверительный интервал для среднего возраста. Запишите в ответ верхнюю границу интервала, округлите до сотых."
   ]
  },
  {
   "cell_type": "code",
   "execution_count": 21,
   "metadata": {},
   "outputs": [],
   "source": [
    "X = 37\n",
    "sigma = 3.4**0.5\n",
    "n = 200\n",
    "alpha = 1 - 0.95"
   ]
  },
  {
   "cell_type": "code",
   "execution_count": 22,
   "metadata": {},
   "outputs": [
    {
     "data": {
      "text/plain": [
       "37.255548038442484"
      ]
     },
     "metadata": {},
     "output_type": "display_data"
    },
    {
     "data": {
      "text/plain": [
       "37.47120730027889"
      ]
     },
     "metadata": {},
     "output_type": "display_data"
    }
   ],
   "source": [
    "z_critical = -norm.ppf(alpha/2)\n",
    "rb = X + z_critical * sigma / n**0.5\n",
    "display(rb)\n",
    "display(X + z_critical * 3.4 / n**0.5)"
   ]
  },
  {
   "cell_type": "markdown",
   "metadata": {},
   "source": [
    "3. Диетологи хотят узнать, сколько сладостей (в кг) потребляют жители города. По данным последнего исследования, среднее количество употребленного сладкого за месяц — 7.6 кг, среднеквадратичное отклонение 0.8. Размер выборки — 60 человек. Рассчитайте 99 % доверительный интервал для среднего количества употребленного сладкого. Запишите в ответ нижнюю границу, округлите до сотых."
   ]
  },
  {
   "cell_type": "code",
   "execution_count": 24,
   "metadata": {},
   "outputs": [],
   "source": [
    "X = 7.6\n",
    "sigma = 0.8**0.5\n",
    "n = 60\n",
    "alpha = 1 - 0.99"
   ]
  },
  {
   "cell_type": "code",
   "execution_count": 25,
   "metadata": {},
   "outputs": [
    {
     "data": {
      "text/plain": [
       "7.302568851641903"
      ]
     },
     "metadata": {},
     "output_type": "display_data"
    },
    {
     "data": {
      "text/plain": [
       "7.333969493458188"
      ]
     },
     "metadata": {},
     "output_type": "display_data"
    }
   ],
   "source": [
    "z_critical = -norm.ppf(alpha/2)\n",
    "rb = X - z_critical * sigma / n**0.5\n",
    "display(rb)\n",
    "display(X - z_critical * 0.8 / n**0.5)"
   ]
  },
  {
   "cell_type": "markdown",
   "metadata": {},
   "source": [
    "## Распределение Стьюдента"
   ]
  },
  {
   "cell_type": "code",
   "execution_count": 27,
   "metadata": {},
   "outputs": [],
   "source": [
    "from scipy.stats import t "
   ]
  },
  {
   "cell_type": "code",
   "execution_count": 30,
   "metadata": {},
   "outputs": [
    {
     "name": "stdout",
     "output_type": "stream",
     "text": [
      "1.9842169515086827\n",
      "1.9842169515086827\n"
     ]
    }
   ],
   "source": [
    "# 0.95 - доверительный интервал, 100-1 число степеней свободы\n",
    "# для двустороннего t-теста\n",
    "# 1 + (1-0.95)/2 = (1 + 0.95)/2\n",
    "value = t.ppf((1 + 0.95)/2, 100-1)\n",
    "print(value) # 1.98\n",
    "\n",
    "# Можно использовать так:\n",
    "# 0.95 - доверительный интервал, 100-1 число степеней свободы\n",
    "value = -t.ppf((1 - 0.95)/2, 100-1)\n",
    "print(value) # 1.98"
   ]
  },
  {
   "cell_type": "markdown",
   "metadata": {},
   "source": [
    "# Практика по доверительным интервалам"
   ]
  },
  {
   "cell_type": "markdown",
   "metadata": {},
   "source": [
    "## УСЛОВИЯ ЗАДАЧИ № 1\n",
    "\n",
    "Управляющий супермаркета хочет оценить, сколько денег покупатели тратят за один поход в супермаркет в среднем. На основании ранее собранных данных известно, что расходы одного покупателя распределены приблизительно нормально. Управляющий взял случайную выборку из 15 покупателей и выяснил, что их средние расходы равны 2000 рублей, а выборочное стандартное отклонение равно 400 рублей."
   ]
  },
  {
   "cell_type": "code",
   "execution_count": 31,
   "metadata": {},
   "outputs": [],
   "source": [
    "# Для случая с известным значением σ предел погрешности и его интервалы \n",
    "# можно найти, используя функцию confidence_interval_norm():\n",
    "\n",
    "from scipy.stats import norm\n",
    "import math\n",
    "\n",
    "def confidence_interval_norm(alpha, sigma, n, mean):\n",
    "    value = -norm.ppf(alpha / 2) * sigma / math.sqrt(n)\n",
    "    return mean - value, mean + value"
   ]
  },
  {
   "cell_type": "code",
   "execution_count": 32,
   "metadata": {},
   "outputs": [],
   "source": [
    "# Для случая с неизвестным σ предел погрешности \n",
    "# находится через confidence_interval_t():\n",
    "\n",
    "from scipy.stats import t\n",
    "import math\n",
    "\n",
    "def confidence_interval_t(alpha, s, n, mean):\n",
    "    value = -t.ppf(alpha / 2, n - 1) * s / math.sqrt(n)\n",
    "    return mean - value, mean + value"
   ]
  },
  {
   "cell_type": "markdown",
   "metadata": {},
   "source": [
    "В обоих случаях:\n",
    "\n",
    " - первый аргумент функции — уровень значимости alpha;\n",
    " - второй — выборочное отклонение s или σ ;\n",
    " - третий — размер выборки n;\n",
    " - четвертый — среднее значение выборки."
   ]
  },
  {
   "cell_type": "code",
   "execution_count": 34,
   "metadata": {},
   "outputs": [],
   "source": [
    "n = 15 # выборку из 15 покупателей\n",
    "X_mean = 2000 # средние расходы равны 2000 рубле\n",
    "s = 400 # выборочное стандартное отклонение равно 400 рублей"
   ]
  },
  {
   "cell_type": "code",
   "execution_count": 37,
   "metadata": {},
   "outputs": [
    {
     "data": {
      "text/plain": [
       "(1818.092671377004, 2181.907328622996)"
      ]
     },
     "metadata": {},
     "output_type": "display_data"
    },
    {
     "data": {
      "text/plain": [
       "(1778.4873833741433, 2221.5126166258565)"
      ]
     },
     "metadata": {},
     "output_type": "display_data"
    },
    {
     "data": {
      "text/plain": [
       "(1692.553004440083, 2307.446995559917)"
      ]
     },
     "metadata": {},
     "output_type": "display_data"
    }
   ],
   "source": [
    "alphas = [0.9, 0.95, 0.99]\n",
    "\n",
    "for alpha in alphas:\n",
    "    display(confidence_interval_t(1-alpha, s, n, X_mean))"
   ]
  },
  {
   "cell_type": "markdown",
   "metadata": {},
   "source": [
    "## УСЛОВИЯ ЗАДАЧИ № 2\n",
    "\n",
    "Чиновника интересует сумма подоходного налога, выплачиваемого домохозяйствами за год. На случайной выборке из 250 домохозяйств был посчитан средний размер выплаченного налога, и он составил 3540 долларов. Также на основании ранее предоставленных данных из налоговой инспекции известно истинное стандартное отклонение величины подоходного налога, равное 1150 долларов."
   ]
  },
  {
   "cell_type": "code",
   "execution_count": 38,
   "metadata": {},
   "outputs": [],
   "source": [
    "n = 250\n",
    "X_mean = 3540\n",
    "sigma = 1150"
   ]
  },
  {
   "cell_type": "code",
   "execution_count": 39,
   "metadata": {},
   "outputs": [
    {
     "data": {
      "text/plain": [
       "(3352.6537883505453, 3727.3462116494547)"
      ]
     },
     "metadata": {},
     "output_type": "display_data"
    }
   ],
   "source": [
    "alpha = 0.99\n",
    "\n",
    "display(confidence_interval_norm(1-alpha, sigma, n, X_mean))"
   ]
  },
  {
   "cell_type": "markdown",
   "metadata": {},
   "source": [
    "## Доверительный интервал для пропорции\n",
    "\n",
    "Чтобы оценить удовлетворенность клиентов сети отелей, менеджер взял случайную выборку из 189 комментариев, оставленных посетителями на онлайн-платформе по бронированию, и провел анализ их содержания. Выяснилось, что 132 комментария были положительными, остальные — негативными."
   ]
  },
  {
   "cell_type": "code",
   "execution_count": 43,
   "metadata": {},
   "outputs": [],
   "source": [
    "from scipy.stats import norm\n",
    "from math import sqrt"
   ]
  },
  {
   "cell_type": "code",
   "execution_count": 44,
   "metadata": {},
   "outputs": [
    {
     "data": {
      "text/plain": [
       "0.644"
      ]
     },
     "metadata": {},
     "output_type": "display_data"
    },
    {
     "data": {
      "text/plain": [
       "0.753"
      ]
     },
     "metadata": {},
     "output_type": "display_data"
    }
   ],
   "source": [
    "n = 189\n",
    "p_mean = 132/189\n",
    "alpha = 1 - 0.9\n",
    "\n",
    "z = -norm.ppf(alpha / 2)\n",
    "p_lower = p_mean - z*sqrt(p_mean*(1-p_mean)/n)\n",
    "p_upper = p_mean + z*sqrt(p_mean*(1-p_mean)/n)\n",
    "\n",
    "display(round(p_lower, 3), round(p_upper, 3))"
   ]
  }
 ],
 "metadata": {
  "kernelspec": {
   "display_name": "Python 3",
   "language": "python",
   "name": "python3"
  },
  "language_info": {
   "codemirror_mode": {
    "name": "ipython",
    "version": 3
   },
   "file_extension": ".py",
   "mimetype": "text/x-python",
   "name": "python",
   "nbconvert_exporter": "python",
   "pygments_lexer": "ipython3",
   "version": "3.6.6"
  }
 },
 "nbformat": 4,
 "nbformat_minor": 2
}
