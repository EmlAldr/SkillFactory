{
 "cells": [
  {
   "cell_type": "code",
   "execution_count": 27,
   "metadata": {},
   "outputs": [],
   "source": [
    "def get_median(arr: list):  \n",
    "    arr.sort()\n",
    "    n = len(arr)\n",
    "    if n % 2 == 1:\n",
    "        return arr[int(n / 2)]\n",
    "    else:\n",
    "        return (arr[int(n / 2)] + arr[int(n / 2) - 1]) / 2"
   ]
  },
  {
   "cell_type": "code",
   "execution_count": 28,
   "metadata": {},
   "outputs": [
    {
     "name": "stdout",
     "output_type": "stream",
     "text": [
      "start test 1\n",
      "median of [1, 2, 3, 4, 5] must be 3, calculaled 3, test is Correct\n",
      "stop test 1\n",
      "start test 2\n",
      "median of [3, 3, 7, 9] must be 5, calculaled 5.0, test is Correct\n",
      "stop test 2\n"
     ]
    }
   ],
   "source": [
    "def test(n, arr, median):\n",
    "    print('start test {}'.format(n))\n",
    "    calc_median = get_median(arr)\n",
    "    result = 'Correct' if median == calc_median else 'InCorrect'\n",
    "    print('median of {0} must be {1}, calculaled {2}, test is {3}'\n",
    "          .format(arr, median, calc_median, result))\n",
    "    print('stop test {}'.format(n))\n",
    "    \n",
    "    \n",
    "test(1, [5, 2, 1, 3, 4], 3)\n",
    "test(2, [3, 3, 7, 9], 5)"
   ]
  },
  {
   "cell_type": "code",
   "execution_count": 33,
   "metadata": {},
   "outputs": [
    {
     "name": "stdout",
     "output_type": "stream",
     "text": [
      "29.0\n"
     ]
    }
   ],
   "source": [
    "user_db = [{'orders': 12}, {'orders': 30}, {'orders': 45}]\n",
    "\n",
    "def avg_orders(user_db: list) -> float:\n",
    "    order_sum = sum([user['orders'] for user in user_db])\n",
    "    return order_sum / len(user_db)\n",
    "\n",
    "orders_per_user = avg_orders(user_db)\n",
    "print(orders_per_user)"
   ]
  },
  {
   "cell_type": "code",
   "execution_count": 43,
   "metadata": {},
   "outputs": [],
   "source": [
    "from random import random\n",
    "\n",
    "# добавьте функцию get_euro_rate\n",
    "def get_euro_rate() -> float:\n",
    "    return 65 + 20 * random()\n",
    "\n",
    "# используйте get_euro_rate в следующей функции\n",
    "def to_euro(price):  \n",
    "    exchange_rate =  get_euro_rate()\n",
    "    rounded = round(price/exchange_rate, 2)  \n",
    "    return '€' + str(rounded)"
   ]
  },
  {
   "cell_type": "code",
   "execution_count": 44,
   "metadata": {},
   "outputs": [
    {
     "data": {
      "text/plain": [
       "['Mr. Boris', 'Mr. Ivan', 'Mr. Bob']"
      ]
     },
     "execution_count": 44,
     "metadata": {},
     "output_type": "execute_result"
    }
   ],
   "source": [
    "# Теперь перепишем с лямбда функцией  \n",
    "guests = [\"Boris\", \"Ivan\", \"Bob\"]  \n",
    "list(map(lambda name: \"Mr. \" + name, guests))  "
   ]
  },
  {
   "cell_type": "code",
   "execution_count": 53,
   "metadata": {},
   "outputs": [],
   "source": [
    "values = [4, 8, 15, 16, 23, 42]\n",
    "mean = 18\n",
    "\n",
    "result = list(map(lambda x: x - mean, values))"
   ]
  },
  {
   "cell_type": "code",
   "execution_count": 55,
   "metadata": {},
   "outputs": [],
   "source": [
    "values = [4, 8, 15, 16, 23, 42]\n",
    "mean = 18\n",
    "\n",
    "result = list(filter(lambda x: x > mean, values))"
   ]
  },
  {
   "cell_type": "code",
   "execution_count": 56,
   "metadata": {},
   "outputs": [
    {
     "data": {
      "text/plain": [
       "[23, 42]"
      ]
     },
     "execution_count": 56,
     "metadata": {},
     "output_type": "execute_result"
    }
   ],
   "source": [
    "result"
   ]
  },
  {
   "cell_type": "code",
   "execution_count": 57,
   "metadata": {},
   "outputs": [],
   "source": [
    "def normalize(numbers: list, mean=0, std=1) -> list:\n",
    "    return list(map(lambda x: (x - mean) / std, numbers))"
   ]
  },
  {
   "cell_type": "code",
   "execution_count": 58,
   "metadata": {},
   "outputs": [
    {
     "name": "stdout",
     "output_type": "stream",
     "text": [
      "[10.0, 20.0]\n",
      "[5.0, 10.0]\n",
      "[-5.0, 5.0]\n"
     ]
    }
   ],
   "source": [
    "print(normalize([10, 20]))\n",
    "#=> [10, 20]\n",
    "\n",
    "print(normalize([10, 20], std=2))\n",
    "#=> [5, 10]\n",
    "\n",
    "print(normalize([10, 20], mean=15))\n",
    "#=> [-5, 5]"
   ]
  },
  {
   "cell_type": "code",
   "execution_count": 59,
   "metadata": {},
   "outputs": [],
   "source": [
    "def sum_args(*args):\n",
    "    s = 0\n",
    "    for arg in args:\n",
    "        s += arg\n",
    "    return s"
   ]
  },
  {
   "cell_type": "code",
   "execution_count": 60,
   "metadata": {},
   "outputs": [
    {
     "data": {
      "text/plain": [
       "21"
      ]
     },
     "execution_count": 60,
     "metadata": {},
     "output_type": "execute_result"
    }
   ],
   "source": [
    "sum_args(10, 15, -4)"
   ]
  },
  {
   "cell_type": "code",
   "execution_count": 61,
   "metadata": {},
   "outputs": [
    {
     "name": "stdout",
     "output_type": "stream",
     "text": [
      "school :  skillfactory\n",
      "school :  skillfactory\n",
      "course :  analytics\n",
      "language :  python\n"
     ]
    }
   ],
   "source": [
    "def print_config(**kwargs):  \n",
    "    for key, value in kwargs.items():  \n",
    "        print(key, \": \", value)  \n",
    "  \n",
    "  \n",
    "print_config(school=\"skillfactory\")  \n",
    "# => school :  skillfactory  \n",
    "print_config(school=\"skillfactory\", course=\"analytics\", language=\"python\")  \n",
    "# => school :  skillfactory  \n",
    "# course :  analytics  \n",
    "# language :  python "
   ]
  },
  {
   "cell_type": "code",
   "execution_count": null,
   "metadata": {},
   "outputs": [],
   "source": []
  },
  {
   "cell_type": "code",
   "execution_count": 65,
   "metadata": {},
   "outputs": [],
   "source": [
    "def count_letters(sentence, average=False):\n",
    "    # Если average=False, то функция должна возвращать количество букв в строке без учёта пробелов\n",
    "    # Если он равен True, то функция должна возвращать количество букв в среднем на слово\n",
    "    if average == False:\n",
    "        return len(sentence.replace(' ', ''))\n",
    "    else:\n",
    "        len_word_list = list(map(len, sentence.split(' ')))\n",
    "        return sum(len_word_list) / len(len_word_list)"
   ]
  },
  {
   "cell_type": "code",
   "execution_count": 67,
   "metadata": {},
   "outputs": [
    {
     "name": "stdout",
     "output_type": "stream",
     "text": [
      "Start test {}.format(n)\n",
      "test #1 is Correct. Actual result is 8, Expected 8\n",
      "Stop test 1\n",
      "----------\n",
      "Start test {}.format(n)\n",
      "test #2 is Correct. Actual result is 4.0, Expected 4\n",
      "Stop test 2\n",
      "----------\n",
      "Start test {}.format(n)\n",
      "test #3 is Correct. Actual result is 24, Expected 24\n",
      "Stop test 3\n",
      "----------\n",
      "Start test {}.format(n)\n",
      "test #4 is Incorrect. Actual result is 3.4285714285714284, Expected 3.429\n",
      "Stop test 4\n",
      "----------\n"
     ]
    }
   ],
   "source": [
    "def test(n, actual, expected):\n",
    "    print('Start test {}.format(n)')\n",
    "    res = 'Correct' if actual == expected else 'Incorrect'\n",
    "    print('test #{0} is {1}. Actual result is {2}, Expected {3}'.format(n, res, actual, expected))\n",
    "    print('Stop test {}'.format(n))\n",
    "    print('-' * 10)\n",
    "\n",
    "test(1, count_letters(\"Beep boop\"), 8)\n",
    "test(2, count_letters(\"Beep boop\", average=True), 4)   \n",
    "test(3, count_letters(\"I will build my own theme park\"), 24)\n",
    "test(4, count_letters(\"I will build my own theme park\", average=True), 3.429)"
   ]
  },
  {
   "cell_type": "code",
   "execution_count": 68,
   "metadata": {},
   "outputs": [
    {
     "data": {
      "text/plain": [
       "['a', 'f', 'o', 's']"
      ]
     },
     "execution_count": 68,
     "metadata": {},
     "output_type": "execute_result"
    }
   ],
   "source": [
    "sorted('sofa')"
   ]
  },
  {
   "cell_type": "code",
   "execution_count": null,
   "metadata": {},
   "outputs": [],
   "source": [
    "# Напишите функцию always(n), которая возвращает функцию, которая в свою очередь возвращает n"
   ]
  },
  {
   "cell_type": "code",
   "execution_count": 73,
   "metadata": {},
   "outputs": [],
   "source": [
    "def always(n):\n",
    "    return lambda: n"
   ]
  },
  {
   "cell_type": "code",
   "execution_count": 74,
   "metadata": {},
   "outputs": [
    {
     "data": {
      "text/plain": [
       "5"
      ]
     },
     "execution_count": 74,
     "metadata": {},
     "output_type": "execute_result"
    }
   ],
   "source": [
    "five = always(5)\n",
    "five() # должно вернуть 5"
   ]
  }
 ],
 "metadata": {
  "kernelspec": {
   "display_name": "Python 3",
   "language": "python",
   "name": "python3"
  },
  "language_info": {
   "codemirror_mode": {
    "name": "ipython",
    "version": 3
   },
   "file_extension": ".py",
   "mimetype": "text/x-python",
   "name": "python",
   "nbconvert_exporter": "python",
   "pygments_lexer": "ipython3",
   "version": "3.6.6"
  }
 },
 "nbformat": 4,
 "nbformat_minor": 2
}
