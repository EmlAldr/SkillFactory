{
 "cells": [
  {
   "cell_type": "code",
   "execution_count": 0,
   "metadata": {
    "colab": {},
    "colab_type": "code",
    "id": "OBP-JbR-s00X"
   },
   "outputs": [],
   "source": [
    "# Загрузка библиотек\n",
    "import numpy as np # для работы с массивами\n",
    "import pandas as pd # для работы с DataFrame \n",
    "from sklearn import datasets # для импорта данных\n",
    "import seaborn as sns # библиотека для визуализации статистических данных\n",
    "import matplotlib.pyplot as plt # для построения графиков\n",
    "\n",
    "%matplotlib inline\n"
   ]
  },
  {
   "cell_type": "code",
   "execution_count": 0,
   "metadata": {
    "colab": {},
    "colab_type": "code",
    "id": "kXAjM2H6s01j"
   },
   "outputs": [],
   "source": [
    "# загружаем датасет\n",
    "boston = datasets.load_boston()\n",
    "bostonDF=pd.DataFrame(boston.data, columns=boston.feature_names)\n",
    "bostonDF['PRICE']=boston.target\n",
    "bostonDF.head()"
   ]
  },
  {
   "cell_type": "code",
   "execution_count": 0,
   "metadata": {
    "colab": {},
    "colab_type": "code",
    "id": "vF0xrPYhs03O",
    "scrolled": true
   },
   "outputs": [],
   "source": [
    "# CRIM: Per capita crime rate by town\n",
    "# ZN: Proportion of residential land zoned for lots over 25,000 sq. ft\n",
    "# INDUS: Proportion of non-retail business acres per town\n",
    "# CHAS: Charles River dummy variable (= 1 if tract bounds river; 0 otherwise)\n",
    "# NOX: Nitric oxide concentration (parts per 10 million)\n",
    "# RM: Average number of rooms per dwelling\n",
    "# AGE: Proportion of owner-occupied units built prior to 1940\n",
    "# DIS: Weighted distances to five Boston employment centers\n",
    "# RAD: Index of accessibility to radial highways\n",
    "# TAX: Full-value property tax rate per $10,000\n",
    "# PTRATIO: Pupil-teacher ratio by town\n",
    "# B: 1000(Bk — 0.63)², where Bk is the proportion of [people of African American descent] by town\n",
    "# LSTAT: Percentage of lower status of the population\n",
    "# MEDV: Median value of owner-occupied homes in $1000s"
   ]
  },
  {
   "cell_type": "code",
   "execution_count": 0,
   "metadata": {
    "colab": {},
    "colab_type": "code",
    "id": "q1DRX1Pms038"
   },
   "outputs": [],
   "source": [
    "# Хотим узнать, как обращаться к столбцам bostonDF\n",
    "bostonDF.columns"
   ]
  },
  {
   "cell_type": "code",
   "execution_count": 0,
   "metadata": {
    "colab": {},
    "colab_type": "code",
    "id": "pVuzLNwNs04z"
   },
   "outputs": [],
   "source": [
    "# полная матрица корреляций\n",
    "# используем метод Pandas corr()\n",
    "C = bostonDF.corr(method='pearson')\n",
    "C"
   ]
  },
  {
   "cell_type": "code",
   "execution_count": 0,
   "metadata": {
    "colab": {},
    "colab_type": "code",
    "id": "V_KsJ0SEs05-"
   },
   "outputs": [],
   "source": [
    "# представим корреляционную матрицу в виде \"тепловой карты\" с помощью функции heatmap из библиотеки seaborn\n",
    "plt.figure(figsize=(16,6)) # размер графика\n",
    "sns.heatmap(data=C, annot=True)"
   ]
  },
  {
   "cell_type": "markdown",
   "metadata": {
    "colab_type": "text",
    "collapsed": true,
    "id": "aRf3F6IHs06W"
   },
   "source": [
    "Строим регрессию из видео"
   ]
  },
  {
   "cell_type": "code",
   "execution_count": 0,
   "metadata": {
    "colab": {},
    "colab_type": "code",
    "id": "nZLeejsBs07z"
   },
   "outputs": [],
   "source": [
    "Data=bostonDF[['CRIM','RM']]\n",
    "Data.head()"
   ]
  },
  {
   "cell_type": "code",
   "execution_count": 0,
   "metadata": {
    "colab": {},
    "colab_type": "code",
    "id": "hlQK1ow9s08Q"
   },
   "outputs": [],
   "source": [
    "np.shape(Data)"
   ]
  },
  {
   "cell_type": "code",
   "execution_count": 0,
   "metadata": {
    "colab": {},
    "colab_type": "code",
    "id": "YZjdiyfbs09r"
   },
   "outputs": [],
   "source": [
    "# Создаем вектор из единиц для коэффициента w_0 и записываем все векторы в СТОЛБЦЫ матрицы признаков А\n",
    "CRIM=Data['CRIM']\n",
    "RM= Data['RM']\n",
    "A= np.column_stack((np.ones(506), CRIM, RM))\n",
    "A"
   ]
  },
  {
   "cell_type": "code",
   "execution_count": 0,
   "metadata": {
    "colab": {},
    "colab_type": "code",
    "id": "0YAVjH_Os0-C"
   },
   "outputs": [],
   "source": [
    "# Добавим настройку для удобного чтения значений А\n",
    "np.set_printoptions(suppress=True)\n",
    "A"
   ]
  },
  {
   "cell_type": "code",
   "execution_count": 0,
   "metadata": {
    "colab": {},
    "colab_type": "code",
    "id": "5VOMIB-As0_B"
   },
   "outputs": [],
   "source": [
    "# Создаем целевой вектор\n",
    "y=bostonDF[['PRICE']] # объект типа dataframe - то, что нужно\n",
    "y_s = bostonDF['PRICE'] #  объект типа series - не подойдет"
   ]
  },
  {
   "cell_type": "code",
   "execution_count": 0,
   "metadata": {
    "colab": {},
    "colab_type": "code",
    "id": "LrychO1Xs0_s"
   },
   "outputs": [],
   "source": [
    "type(y)"
   ]
  },
  {
   "cell_type": "code",
   "execution_count": 0,
   "metadata": {
    "colab": {},
    "colab_type": "code",
    "id": "HS0RSpGvs1At"
   },
   "outputs": [],
   "source": [
    "type(y_s)"
   ]
  },
  {
   "cell_type": "code",
   "execution_count": 0,
   "metadata": {
    "colab": {},
    "colab_type": "code",
    "id": "VrWaTdBas1BU"
   },
   "outputs": [],
   "source": [
    "# вычислим OLS оценку для коэффициентов\n",
    "w_hat=np.linalg.inv(A.T@A)@A.T@y\n",
    "w_hat"
   ]
  },
  {
   "cell_type": "code",
   "execution_count": 0,
   "metadata": {
    "colab": {},
    "colab_type": "code",
    "id": "n2lyMBxws1Bk"
   },
   "outputs": [],
   "source": [
    "# прогноз\n",
    "# добавились данные по новому городку:\n",
    "CRIM_new=0.1\n",
    "RM_new=8\n",
    "# делаем прогноз типичной соимости дома\n",
    "PRICE_new=w_hat.iloc[0]+w_hat.iloc[1]*CRIM_new+w_hat.iloc[2]*RM_new\n",
    "PRICE_new"
   ]
  },
  {
   "cell_type": "code",
   "execution_count": 0,
   "metadata": {
    "colab": {},
    "colab_type": "code",
    "id": "DC-NbrL3s1CA"
   },
   "outputs": [],
   "source": [
    "# короткий способ сделать прогноз\n",
    "new=np.array([1,CRIM_new,RM_new])\n",
    "new@w_hat"
   ]
  },
  {
   "cell_type": "code",
   "execution_count": 0,
   "metadata": {
    "colab": {},
    "colab_type": "code",
    "id": "h55Xvqmfs1C1"
   },
   "outputs": [],
   "source": [
    "# классическая OLS регрессия в numpy одной командой\n",
    "np.linalg.lstsq(A,y,rcond=None)"
   ]
  },
  {
   "cell_type": "markdown",
   "metadata": {
    "colab_type": "text",
    "collapsed": true,
    "id": "8fOhMg0ns1DZ"
   },
   "source": [
    "Стандартизация данных"
   ]
  },
  {
   "cell_type": "code",
   "execution_count": 0,
   "metadata": {
    "colab": {},
    "colab_type": "code",
    "id": "wJ3PpaYbs1Df"
   },
   "outputs": [],
   "source": [
    "Data.head()"
   ]
  },
  {
   "cell_type": "code",
   "execution_count": 0,
   "metadata": {
    "colab": {},
    "colab_type": "code",
    "id": "N9Drcrd9s1D_"
   },
   "outputs": [],
   "source": [
    "# метод .mean() позволяет вычислить арифметическое среднее значение вектора\n",
    "meanCRIM = Data['CRIM'].mean()\n",
    "meanRM  = Data['RM'].mean()\n",
    "mean_y = y.mean()\n",
    "print('mean value of CRIME:', meanCRIM)\n",
    "print('mean value of RM:', meanRM)\n",
    "print('mean value of PRICE:', mean_y)"
   ]
  },
  {
   "cell_type": "code",
   "execution_count": 0,
   "metadata": {
    "colab": {},
    "colab_type": "code",
    "id": "e860o4XFs1Ej"
   },
   "outputs": [],
   "source": [
    "# Центрирование\n",
    "CRIM_c = Data['CRIM'] - meanCRIM\n",
    "RM_c = Data['RM'] - meanRM\n",
    "y_c = y - mean_y\n",
    "print('CRIME до центрирования:\\n', CRIM.head(4))\n",
    "print('CRIME после центрирования:\\n', CRIM_c.head(4))\n"
   ]
  },
  {
   "cell_type": "code",
   "execution_count": 0,
   "metadata": {
    "colab": {},
    "colab_type": "code",
    "id": "Ms_nT0CDs1FL"
   },
   "outputs": [],
   "source": [
    "print('среднее арифметическое вектора CRIM после центрирования:',CRIM_c.mean())"
   ]
  },
  {
   "cell_type": "code",
   "execution_count": 0,
   "metadata": {
    "colab": {},
    "colab_type": "code",
    "id": "t2GCWzRgs1GN"
   },
   "outputs": [],
   "source": [
    "# вычисляем длины векторов для нормирования\n",
    "CRIM_c_norm = np.linalg.norm(CRIM_c)\n",
    "RM_c_norm = np.linalg.norm(RM_c)\n",
    "y_c_norm = np.linalg.norm(y_c)\n",
    "print('norm of CRIME:\\n', CRIM_c_norm)"
   ]
  },
  {
   "cell_type": "code",
   "execution_count": 0,
   "metadata": {
    "colab": {},
    "colab_type": "code",
    "id": "WzUFGCEbs1Ge"
   },
   "outputs": [],
   "source": [
    "# Нормирование: делим каждый центрированный вектор на его длину\n",
    "CRIM_st=CRIM_c / CRIM_c_norm\n",
    "RM_st=RM_c / RM_c_norm\n",
    "y_st=y_c / y_c_norm\n",
    "print('CRIME до центрирования:\\n', CRIM.head(4))\n",
    "print('CRIME после центрирования:\\n', CRIM_c.head(4))\n",
    "print('CRIME после нормирования:\\n', CRIM_st.head(4))"
   ]
  },
  {
   "cell_type": "code",
   "execution_count": 0,
   "metadata": {
    "colab": {},
    "colab_type": "code",
    "id": "dvqOiLKEs1G1"
   },
   "outputs": [],
   "source": [
    "# Матрица центрированных признаков - БЕЗ константы!\n",
    "A_st=np.column_stack(( CRIM_st, RM_st,))\n",
    "A_st"
   ]
  },
  {
   "cell_type": "code",
   "execution_count": 0,
   "metadata": {
    "colab": {},
    "colab_type": "code",
    "id": "4Ipk6QmAs1IB"
   },
   "outputs": [],
   "source": [
    "# OLS оценка коэффициентов центрированной регрессии\n",
    "w_hat_st=np.linalg.inv(A_st.T@A_st)@A_st.T@y_st.values\n",
    "w_hat_st"
   ]
  },
  {
   "cell_type": "code",
   "execution_count": 0,
   "metadata": {
    "colab": {},
    "colab_type": "code",
    "id": "VQ98KKRgs1IN"
   },
   "outputs": [],
   "source": [
    "# добавились данные по новому городку:\n",
    "CRIM_new=0.1\n",
    "RM_new=8\n",
    "# чтобы сделать прогноз по новым данным, их тоже нужно стандартизировать"
   ]
  },
  {
   "cell_type": "code",
   "execution_count": 0,
   "metadata": {
    "colab": {},
    "colab_type": "code",
    "id": "YJ99mXE9s1I1"
   },
   "outputs": [],
   "source": [
    "# Стандартизация новых данных\n",
    "CRIM_new_st = (CRIM_new - meanCRIM) / CRIM_c_norm\n",
    "RM_new_st = (RM_new - meanRM) / RM_c_norm\n",
    "print('new CRIME st:', CRIM_new_st)\n",
    "print('new RM st:', RM_new_st)"
   ]
  },
  {
   "cell_type": "code",
   "execution_count": 0,
   "metadata": {
    "colab": {},
    "colab_type": "code",
    "id": "e7FGiVXWs1I8"
   },
   "outputs": [],
   "source": [
    "# Прогноз стандартизированного y\n",
    "y_st_new = w_hat_st[0]*CRIM_new_st + w_hat_st[1]*RM_new_st\n",
    "print('new PRICE st predict:', y_st_new)"
   ]
  },
  {
   "cell_type": "markdown",
   "metadata": {
    "colab_type": "text",
    "id": "ynFUkO1Ys1JO"
   },
   "source": [
    "Стандартизированный прогноз для нас может не иметь никакого смысла сам по себе, \n",
    "\n",
    "поэтому его необходимо пересчитать обратно.\n",
    "\n",
    "Для этого сделаем операции, обратные стандартизации - умножим на длину центрированного вектора y и прибавим среднее\n"
   ]
  },
  {
   "cell_type": "code",
   "execution_count": 0,
   "metadata": {
    "colab": {},
    "colab_type": "code",
    "id": "CZULrZ0Qs1JU",
    "scrolled": true
   },
   "outputs": [],
   "source": [
    "# Пересчет стандартизированного прогноза в понятный\n",
    "y_new = y_st_new * y_c_norm + mean_y\n",
    "print('new PRICE predict:', y_new)"
   ]
  },
  {
   "cell_type": "code",
   "execution_count": 0,
   "metadata": {
    "colab": {},
    "colab_type": "code",
    "id": "pdXywY2Fs1Jt"
   },
   "outputs": [],
   "source": [
    "# Пересчет стандартизированных коэффициентов в обычные\n",
    "# здесь создаем вектор из единиц, который далее заполним нужными значениями\n",
    "w_hat_not_st=np.ones((3,1))"
   ]
  },
  {
   "cell_type": "code",
   "execution_count": 0,
   "metadata": {
    "colab": {},
    "colab_type": "code",
    "id": "bT7zgk0Ws1Kd"
   },
   "outputs": [],
   "source": [
    "# Пересчет стандартизированных  коэффициентов в обычные\n",
    "w_hat_not_st[0]= (- w_hat_st[0] * meanCRIM / CRIM_c_norm - w_hat_st[1] * meanRM / RM_c_norm) * y_c_norm  + y.mean()\n",
    "w_hat_not_st[1] = (w_hat_st[0] / CRIM_c_norm) * y_c_norm\n",
    "w_hat_not_st[2] = ( w_hat_st[1] / RM_c_norm )* y_c_norm\n",
    "w_hat_not_st"
   ]
  },
  {
   "cell_type": "code",
   "execution_count": 0,
   "metadata": {
    "colab": {},
    "colab_type": "code",
    "id": "D8H32-1Ts1Kr"
   },
   "outputs": [],
   "source": [
    "# Сравнение с ранее полученными обычными коэффициентами\n",
    "w_hat"
   ]
  },
  {
   "cell_type": "code",
   "execution_count": 0,
   "metadata": {
    "colab": {},
    "colab_type": "code",
    "id": "sqoZSTGVs1LP"
   },
   "outputs": [],
   "source": [
    "# Матрица Грама стандартизированных признаков\n",
    "A_st.T@A_st"
   ]
  },
  {
   "cell_type": "code",
   "execution_count": 0,
   "metadata": {
    "colab": {},
    "colab_type": "code",
    "id": "afRFOtUbs1LY"
   },
   "outputs": [],
   "source": [
    "# Матрица корреляций обычных признаков\n",
    "Data.corr(method='pearson')"
   ]
  },
  {
   "cell_type": "code",
   "execution_count": 0,
   "metadata": {
    "colab": {},
    "colab_type": "code",
    "id": "TEKX9Lkes1Lg"
   },
   "outputs": [],
   "source": [
    "# Стандартизированные признаки ортогональны вектору констант"
   ]
  },
  {
   "cell_type": "code",
   "execution_count": 0,
   "metadata": {
    "colab": {},
    "colab_type": "code",
    "id": "kQdYlM1Is1Ln"
   },
   "outputs": [],
   "source": [
    "CRIM_st@np.ones(506)"
   ]
  },
  {
   "cell_type": "code",
   "execution_count": 0,
   "metadata": {
    "colab": {},
    "colab_type": "code",
    "id": "ICQKPAgqs1MM"
   },
   "outputs": [],
   "source": [
    "RM_st@np.ones(506)"
   ]
  },
  {
   "cell_type": "code",
   "execution_count": 0,
   "metadata": {
    "colab": {},
    "colab_type": "code",
    "id": "4Ow6Xez6s1MV"
   },
   "outputs": [],
   "source": []
  }
 ],
 "metadata": {
  "colab": {
   "name": "OLS_classic_screencast.ipynb",
   "provenance": []
  },
  "kernelspec": {
   "display_name": "Python 3",
   "language": "python",
   "name": "python3"
  },
  "language_info": {
   "codemirror_mode": {
    "name": "ipython",
    "version": 3
   },
   "file_extension": ".py",
   "mimetype": "text/x-python",
   "name": "python",
   "nbconvert_exporter": "python",
   "pygments_lexer": "ipython3",
   "version": "3.6.6"
  }
 },
 "nbformat": 4,
 "nbformat_minor": 1
}
