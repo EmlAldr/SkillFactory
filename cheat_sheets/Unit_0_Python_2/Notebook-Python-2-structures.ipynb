{
 "cells": [
  {
   "cell_type": "markdown",
   "metadata": {},
   "source": [
    "# Блок A2.4 Модуля A2"
   ]
  },
  {
   "cell_type": "markdown",
   "metadata": {},
   "source": [
    "## A2.4.1 Вложенные списки\n",
    "На практике в качестве элементов списков часто выступают сами списки. Например, при чтении CSV-файла (это разновидность текстового файла) после разбиения строк на столбцы мы будем иметь набор списков. Рассмотрим простой пример: имеется CSV-файл со товарными позициями интернет-магазина. В первом столбце — идентификатор товара, во втором — название, в третьем — количество штук на складе. При чтении такого файла получим следующую структуру:"
   ]
  },
  {
   "cell_type": "code",
   "execution_count": 1,
   "metadata": {},
   "outputs": [],
   "source": [
    "csv_file = [\n",
    "    ['100412', 'Ботинки для горных лыж ATOMIC Hawx Prime 100', 9],\n",
    "    ['100728', 'Скейтборд Jdbug RT03', 32],\n",
    "    ['100732', 'Роллерсерф Razor RipStik Bright', 11],\n",
    "    ['100803', 'Ботинки для сноуборда DC Tucknee', 20],\n",
    "    ['100898', 'Шагомер Omron HJA-306', 2],\n",
    "    ['100934', 'Пульсометр Beurer PM62', 17],\n",
    "]"
   ]
  },
  {
   "cell_type": "markdown",
   "metadata": {},
   "source": [
    "Допустим, нам надо забрать из этой \"базы\" количество шагомеров. Раз это список, то к его элементам можно обращаться по номеру индекса. У шагомера пятая по счету \"строка\" в списке, поэтому сначала обратимся к ней:"
   ]
  },
  {
   "cell_type": "code",
   "execution_count": 2,
   "metadata": {},
   "outputs": [
    {
     "name": "stdout",
     "output_type": "stream",
     "text": [
      "['100898', 'Шагомер Omron HJA-306', 2]\n"
     ]
    }
   ],
   "source": [
    "print(csv_file[4])"
   ]
  },
  {
   "cell_type": "markdown",
   "metadata": {},
   "source": [
    "Теперь, имея более простой список из трех элементов, просто обратимся к третьему по счету. Для этого достаточно указать его номер в квадратных скобках:"
   ]
  },
  {
   "cell_type": "code",
   "execution_count": 3,
   "metadata": {},
   "outputs": [
    {
     "name": "stdout",
     "output_type": "stream",
     "text": [
      "2\n"
     ]
    }
   ],
   "source": [
    "print(csv_file[4][2])"
   ]
  },
  {
   "cell_type": "markdown",
   "metadata": {},
   "source": [
    "### Получение идентификатора товара\n",
    "Напишите код, который записывает в переменную pulsometer_id идентификатор товара \"Пульсометр Beurer PM62\""
   ]
  },
  {
   "cell_type": "code",
   "execution_count": 7,
   "metadata": {},
   "outputs": [],
   "source": [
    "csv_file = [\n",
    "    ['100412', 'Ботинки для горных лыж ATOMIC Hawx Prime 100', 9],\n",
    "    ['100728', 'Скейтборд Jdbug RT03', 32],\n",
    "    ['100732', 'Роллерсерф Razor RipStik Bright', 11],\n",
    "    ['100803', 'Ботинки для сноуборда DC Tucknee', 20],\n",
    "    ['100898', 'Шагомер Omron HJA-306', 2],\n",
    "    ['100934', 'Пульсометр Beurer PM62', 17],\n",
    "]\n",
    "pulsometer_id = csv_file[5][0] # Выбираем 5-й элемент вложенного списка, в котором выбираем нулевой элемент номера товара"
   ]
  },
  {
   "cell_type": "code",
   "execution_count": 6,
   "metadata": {},
   "outputs": [
    {
     "data": {
      "text/plain": [
       "'100934'"
      ]
     },
     "execution_count": 6,
     "metadata": {},
     "output_type": "execute_result"
    }
   ],
   "source": [
    "pulsometer_id"
   ]
  },
  {
   "cell_type": "markdown",
   "metadata": {},
   "source": [
    "## A2.4.2 Проход по вложенному списку"
   ]
  },
  {
   "cell_type": "markdown",
   "metadata": {},
   "source": [
    "Искать элементы списка вручную крайне неэффективно. Давайте автоматизируем процесс поиска. Для этого сначала напишем цикл, который проходит по элементам CSV-файла:"
   ]
  },
  {
   "cell_type": "code",
   "execution_count": 8,
   "metadata": {},
   "outputs": [
    {
     "name": "stdout",
     "output_type": "stream",
     "text": [
      "['100412', 'Ботинки для горных лыж ATOMIC Hawx Prime 100', 9]\n",
      "['100728', 'Скейтборд Jdbug RT03', 32]\n",
      "['100732', 'Роллерсерф Razor RipStik Bright', 11]\n",
      "['100803', 'Ботинки для сноуборда DC Tucknee', 20]\n",
      "['100898', 'Шагомер Omron HJA-306', 2]\n",
      "['100934', 'Пульсометр Beurer PM62', 17]\n"
     ]
    }
   ],
   "source": [
    "for record in csv_file:\n",
    "    print(record)"
   ]
  },
  {
   "cell_type": "markdown",
   "metadata": {},
   "source": [
    "В каждом шаге цикла в переменную record пишется список с тремя столбцами. Осталось добавить проверку: если второй столбец равен искомому товару, то выводим на экран третий по счету столбец:"
   ]
  },
  {
   "cell_type": "code",
   "execution_count": 9,
   "metadata": {},
   "outputs": [
    {
     "name": "stdout",
     "output_type": "stream",
     "text": [
      "Количество шагомеров на складе - 2шт\n"
     ]
    }
   ],
   "source": [
    "for record in csv_file:\n",
    "    if record[1] == 'Шагомер Omron HJA-306':\n",
    "        print('Количество шагомеров на складе - {}шт'.format(record[2]))"
   ]
  },
  {
   "cell_type": "markdown",
   "metadata": {},
   "source": [
    "### Фильтрация товарных позиций по количеству\n",
    "Отфильтруйте список товарных позиций csv_file, оставив только те позиции, у которых количество штук на складе больше 10. Результат запишите в переменную csv_file_filtered"
   ]
  },
  {
   "cell_type": "code",
   "execution_count": 11,
   "metadata": {},
   "outputs": [],
   "source": [
    "csv_file = [\n",
    "    ['100412', 'Ботинки для горных лыж ATOMIC Hawx Prime 100', 9],\n",
    "    ['100728', 'Скейтборд Jdbug RT03', 32],\n",
    "    ['100732', 'Роллерсерф Razor RipStik Bright', 11],\n",
    "    ['100803', 'Ботинки для сноуборда DC Tucknee', 20],\n",
    "    ['100898', 'Шагомер Omron HJA-306', 2],\n",
    "    ['100934', 'Пульсометр Beurer PM62', 17],\n",
    "]\n",
    "csv_file_filtered=[] # Создаем новый список, куда занесем отфильтрованный\n",
    "for record in csv_file: # Проходимся по элементам вложенного списка\n",
    "    if record[2]>10: # Если количество штук больше 10-ти\n",
    "        csv_file_filtered.append(record) #Добавляем весь вложенный список товара в новый список"
   ]
  },
  {
   "cell_type": "markdown",
   "metadata": {},
   "source": [
    "## A2.4.3 Вложенные словари\n",
    "Перебор вложенных словарей происходит полностью аналогично спискам. Даже синтаксис такой же. Допустим, имеется словарь с данными сотрудников, и нам надо узнать телефон Владимира:"
   ]
  },
  {
   "cell_type": "code",
   "execution_count": 12,
   "metadata": {},
   "outputs": [],
   "source": [
    "contacts = {\n",
    "    'Борискин Владимир': {\n",
    "        'tel': '5387',\n",
    "        'position': 'менеджер'\n",
    "    },\n",
    "    \n",
    "    'Сомова Наталья': {\n",
    "        'tel': '5443',\n",
    "        'position': 'разработчик'\n",
    "    },\n",
    "}"
   ]
  },
  {
   "cell_type": "markdown",
   "metadata": {},
   "source": [
    "Для получения телефона сначала обращаемся к ключу по имени сотрудника:"
   ]
  },
  {
   "cell_type": "code",
   "execution_count": 14,
   "metadata": {},
   "outputs": [
    {
     "name": "stdout",
     "output_type": "stream",
     "text": [
      "{'tel': '5387', 'position': 'менеджер'}\n"
     ]
    }
   ],
   "source": [
    "print(contacts['Борискин Владимир'])"
   ]
  },
  {
   "cell_type": "markdown",
   "metadata": {},
   "source": [
    "Теперь для получения номера телефона осталось в полученном словаре обратиться к ключу tel:"
   ]
  },
  {
   "cell_type": "code",
   "execution_count": 15,
   "metadata": {},
   "outputs": [
    {
     "name": "stdout",
     "output_type": "stream",
     "text": [
      "5387\n"
     ]
    }
   ],
   "source": [
    "print(contacts['Борискин Владимир']['tel'])"
   ]
  },
  {
   "cell_type": "markdown",
   "metadata": {},
   "source": [
    "### Фильтрация товарных словарей\n",
    "Разработчики поменяли формат выгрузки из базы данных товарных позиций. Теперь это список словарей, каждый столбец в котором имеет имя. Напишите код, который оставляет только те товары, в названии которых есть слово \"Ботинки\". Результат запишите в переменную csv_dict_boots"
   ]
  },
  {
   "cell_type": "code",
   "execution_count": 17,
   "metadata": {},
   "outputs": [],
   "source": [
    "csv_dict = [\n",
    "    {'id': '100412', 'position': 'Ботинки для горных лыж ATOMIC Hawx Prime 100', 'count': 9},\n",
    "    {'id': '100728', 'position': 'Скейтборд Jdbug RT03', 'count': 32},\n",
    "    {'id': '100732', 'position': 'Роллерсерф Razor RipStik Bright', 'count': 11},\n",
    "    {'id': '100803', 'position': 'Ботинки для сноуборда DC Tucknee', 'count': 20},\n",
    "    {'id': '100898', 'position': 'Шагомер Omron HJA-306', 'count': 2},\n",
    "    {'id': '100934', 'position': 'Пульсометр Beurer PM62', 'count': 17},\n",
    "]\n",
    "csv_dict_boots = [] #Создаем словарь, куда поместим товары, в названии которых есть слово \"Ботинки\"\n",
    "for record in csv_dict: # Проходимся по элементам вложенного словаря\n",
    "    if 'Ботинки' in record['position']: # Если слово Ботинки есть в значении ключа 'position'\n",
    "        csv_dict_boots.append(record) #Добавляем весь словарь с этим товаром в новый список"
   ]
  },
  {
   "cell_type": "markdown",
   "metadata": {},
   "source": [
    "## A2.4.4 Задачи на вложенные структуры"
   ]
  },
  {
   "cell_type": "markdown",
   "metadata": {},
   "source": [
    "### Задание 1\n",
    "Как из словаря сотрудников в прошлом шаге получить позицию Натальи (“разработчик”)?\n",
    "* print(contacts['Сомова Наталья'][0])\n",
    "* print(contacts['Сомова Наталья']['position']) верно\n",
    "* print(contacts[1]['tel'])\n"
   ]
  },
  {
   "cell_type": "markdown",
   "metadata": {},
   "source": [
    "### Задание 2\n",
    "Дана статистика результатов рекламной кампании по каналу (ключ 'source') и сумме расходов ('cost').\n",
    "\n",
    "`results = [\n",
    "\t{'cost': 98, 'source': 'vk'},\n",
    "\t{'cost': 153, 'source': 'yandex'},\n",
    "\t{'cost': 110, 'source': 'facebook'},\n",
    "]`\n",
    "\n",
    "Напишите код, который ищет минимальное значение ключа cost в этом словаре. Укажите это значение в качестве ответа"
   ]
  },
  {
   "cell_type": "code",
   "execution_count": 29,
   "metadata": {},
   "outputs": [
    {
     "name": "stdout",
     "output_type": "stream",
     "text": [
      "98\n"
     ]
    }
   ],
   "source": [
    "results = [\n",
    "\t{'cost': 98, 'source': 'vk'},\n",
    "\t{'cost': 153, 'source': 'yandex'},\n",
    "\t{'cost': 110, 'source': 'facebook'},\n",
    "]\n",
    "min=1000 # Задаем значение минимума, с которым будем сравнивать значения из словаря\n",
    "for stat in results: # Проходимся по словарям списка\n",
    "    if stat['cost']<min: # Если значение ключа cost меньше заданного минимума\n",
    "        min=stat['cost'] # присваиваем значение переменной минимума, с котрой будем сравнивать в следцющем цикле\n",
    "print(min)"
   ]
  },
  {
   "cell_type": "markdown",
   "metadata": {},
   "source": [
    "### Задание 3\n"
   ]
  },
  {
   "cell_type": "markdown",
   "metadata": {},
   "source": [
    "На каждом этапе производственной линии закладываются отклонения от исходных размеров, ведущие к деформации, т. е. после каждого этапа размер детали умножается на значение ключа damage:\n",
    "\n",
    "`defect_stats = [\n",
    "\t{'step number': 1, 'damage': 0.98},\n",
    "\t{'step number': 2, 'damage': 0.99},\n",
    "\t{'step number': 3, 'damage': 0.99},\n",
    "\t{'step number': 4, 'damage': 0.96},\n",
    "\t{'step number': 5, 'damage': 0.97},\n",
    "\t{'step number': 6, 'damage': 0.97},\n",
    "]`\n",
    "\n",
    "Если исходный размер детали принять за 100%, то на каком шаге повреждения приведут к размеру менее 90%?"
   ]
  },
  {
   "cell_type": "code",
   "execution_count": 32,
   "metadata": {},
   "outputs": [
    {
     "name": "stdout",
     "output_type": "stream",
     "text": [
      "5\n"
     ]
    }
   ],
   "source": [
    "defect_stats = [\n",
    "\t{'step number': 1, 'damage': 0.98},\n",
    "\t{'step number': 2, 'damage': 0.99},\n",
    "\t{'step number': 3, 'damage': 0.99},\n",
    "\t{'step number': 4, 'damage': 0.96},\n",
    "\t{'step number': 5, 'damage': 0.97},\n",
    "\t{'step number': 6, 'damage': 0.97},\n",
    "]\n",
    "size=100 # исходный размер 100% с отклонением 0%\n",
    "number=0 # этап производственной линии\n",
    "for step in defect_stats: #Проходимся по каждому из словарей списка\n",
    "    size*=step['damage'] # Уменьшаем исходный размер на величину деформации (умножаем на значение ключа damage)\n",
    "    if size<90: # Если получившиеся повреждения привели к размеру менее 90%\n",
    "        number=step['step number'] # Определяем этап, на котором это произошло\n",
    "        break\n",
    "print(number)"
   ]
  },
  {
   "cell_type": "markdown",
   "metadata": {},
   "source": [
    "### Задание 4\n",
    "Имеется статистика курсов валют. Какая валюта имеет минимальный курс по отношению к рублю за 1 единицу? Для определения курса валюты необходимо значение ключа 'Value' разделить на значение ключа 'Nominal'. В качестве ответа укажите код валюты (например, AUD)"
   ]
  },
  {
   "cell_type": "code",
   "execution_count": 33,
   "metadata": {},
   "outputs": [],
   "source": [
    "currency = {\n",
    "\t'AMD': {\n",
    "\t\t'Name': 'Армянских драмов',\n",
    "\t\t'Nominal': 100,\n",
    "\t\t'Value': 13.121\n",
    "\t},\n",
    "\n",
    "\t'AUD': {\n",
    "\t\t'Name': 'Австралийский доллар',\n",
    "\t\t'Nominal': 1,\n",
    "\t\t'Value': 45.5309\n",
    "\t},\n",
    "\n",
    "\t'INR': {\n",
    "\t\t'Name': 'Индийских рупий',\n",
    "\t\t'Nominal': 100,\n",
    "\t\t'Value': 92.9658\n",
    "\t},\n",
    "\n",
    "\t'MDL': {\n",
    "\t\t'Name': 'Молдавских леев',\n",
    "\t\t'Nominal': 10,\n",
    "\t\t'Value': 36.9305\n",
    "\t},\n",
    "}"
   ]
  },
  {
   "cell_type": "code",
   "execution_count": 35,
   "metadata": {},
   "outputs": [
    {
     "name": "stdout",
     "output_type": "stream",
     "text": [
      "AMD\n"
     ]
    }
   ],
   "source": [
    "min=1000000\n",
    "valuta=''\n",
    "for exchange, rate in currency.items(): # Проходимся по каждому элементу вложенного словаря currency\n",
    "    if rate['Value']/rate['Nominal']<min: #Если значение ключа Value, деленное на значение ключа Nominal меньше минимума\n",
    "        min=rate['Value']/rate['Nominal'] #Задаем новый минимум\n",
    "        valuta=exchange # Присваиваем переменной valuta название валюты, в которой находится минимум \n",
    "print(valuta)"
   ]
  },
  {
   "cell_type": "markdown",
   "metadata": {},
   "source": [
    "### Задание 5\n",
    "Согласно сайту www.bodycounters.com в четырех частях фильма “Пираты Карибского моря” было довольно много погибших. Вот их статистика:\n",
    "\n",
    "`bodycount = {\n",
    "\t'Проклятие Черной жемчужины': {\n",
    "\t\t'человек': 17\n",
    "\t}, \n",
    "\n",
    "\t'Сундук мертвеца': {\n",
    "\t\t'человек': 56,\n",
    "\t\t'раков-отшельников': 1\n",
    "\t},\n",
    "\n",
    "\t'На краю света': {\n",
    "\t\t'человек': 88\n",
    "\t},\n",
    "\n",
    "\t'На странных берегах': {\n",
    "\t\t'человек': 56,\n",
    "\t\t'русалок': 2,\n",
    "\t\t'ядовитых жаб': 3,\n",
    "\t\t'пиратов зомби': 2\n",
    "\t}\n",
    "}`\n",
    "\n",
    "Напишите скрипт, который считает общее число погибших живых существ во всех сериях. Укажите итоговое число в качестве ответа. Пиратов-зомби в последней части тоже считайте живыми."
   ]
  },
  {
   "cell_type": "code",
   "execution_count": 7,
   "metadata": {},
   "outputs": [
    {
     "data": {
      "text/plain": [
       "225"
      ]
     },
     "execution_count": 7,
     "metadata": {},
     "output_type": "execute_result"
    }
   ],
   "source": [
    "bodycount = {\n",
    "\t'Проклятие Черной жемчужины': {\n",
    "\t\t'человек': 17\n",
    "\t}, \n",
    "\n",
    "\t'Сундук мертвеца': {\n",
    "\t\t'человек': 56,\n",
    "\t\t'раков-отшельников': 1\n",
    "\t},\n",
    "\n",
    "\t'На краю света': {\n",
    "\t\t'человек': 88\n",
    "\t},\n",
    "\n",
    "\t'На странных берегах': {\n",
    "\t\t'человек': 56,\n",
    "\t\t'русалок': 2,\n",
    "\t\t'ядовитых жаб': 3,\n",
    "\t\t'пиратов зомби': 2\n",
    "\t}\n",
    "}\n",
    "result = [] #создадим словарь, куда будем помещать число всех выживших\n",
    "for film, died in bodycount.items():\n",
    "    for key in died.values():# пройдемся по всем ключам сложенных словарей\n",
    "        result.append(key)\n",
    "sum(result)"
   ]
  },
  {
   "cell_type": "markdown",
   "metadata": {},
   "source": [
    "## A2.4.5 Тест"
   ]
  },
  {
   "cell_type": "markdown",
   "metadata": {},
   "source": [
    "Повторим основные особенности словарей. Отметьте верные утверждения:\n",
    "* элементом словаря является пара \"ключ-значение\" [верно]\n",
    "* поиск по ключам словаря быстрее поиска по аналогичному списку и практически не зависит от его размеров [верно]\n",
    "* к несуществующему ключу словаря можно обратиться без ошибок"
   ]
  },
  {
   "cell_type": "markdown",
   "metadata": {},
   "source": [
    "Необходимо в цикле пройти по ключам словаря и вывести их на экран. С помощью какого метода в переменной цикла будет сразу доступны ключи словаря?\n",
    "* dict.keys() [верно]\n",
    "* dict.values() \n",
    "* dict.items() [верно]"
   ]
  },
  {
   "cell_type": "markdown",
   "metadata": {},
   "source": [
    "Что делает метод setdefault?\n",
    "* обновляет значение существующего ключа словаря\n",
    "* добавляет новый ключ в словарь; если ключ существует, то ничего не меняется [верно]\n",
    "* удаляет ключ из словаря"
   ]
  },
  {
   "cell_type": "markdown",
   "metadata": {},
   "source": [
    "Дан словарь со статусами прилета авиарейсов:\n",
    "\n",
    "`arrivals = {\n",
    "\t'Париж': {'время': '15:25', 'статус': 'ожидается', 'рейс': ['Аэрофлот']},\n",
    "\t'Пекин': {'время': '15:35', 'статус': 'опаздывает', 'рейс': ['China Southern Airlines', 'Россия']},\n",
    "\t'Лиссабон': {'время': '15:40', 'статус': 'ожидается', 'рейс': ['Nordwind', 'Аэрофлот']},\n",
    "}`\n",
    "\n",
    "Как узнать статус рейса из Лиссабона?\n",
    "* arrivals['Лиссабон'][1]\n",
    "* arrivals[2]['статус']\n",
    "* arrivals['Лиссабон']['статус'] верно\n",
    "* arrivals['статус']['Лиссабон']"
   ]
  },
  {
   "cell_type": "markdown",
   "metadata": {},
   "source": [
    "Как посчитать количество авиакомпаний, которые участвуют в рейсе из Пекина?\n",
    "* arrivals['Пекин']['рейс'] + 1\n",
    "* len(arrivals['Пекин']['рейс']) верно\n",
    "* arrivals['Пекин']['рейс'][0] + arrivals['Пекин']['рейс'][1]"
   ]
  },
  {
   "cell_type": "code",
   "execution_count": null,
   "metadata": {},
   "outputs": [],
   "source": []
  }
 ],
 "metadata": {
  "kernelspec": {
   "display_name": "Python 3",
   "language": "python",
   "name": "python3"
  },
  "language_info": {
   "codemirror_mode": {
    "name": "ipython",
    "version": 3
   },
   "file_extension": ".py",
   "mimetype": "text/x-python",
   "name": "python",
   "nbconvert_exporter": "python",
   "pygments_lexer": "ipython3",
   "version": "3.7.3"
  }
 },
 "nbformat": 4,
 "nbformat_minor": 2
}
