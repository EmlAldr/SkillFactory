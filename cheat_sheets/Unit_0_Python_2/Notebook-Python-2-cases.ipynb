{
 "cells": [
  {
   "cell_type": "markdown",
   "metadata": {},
   "source": [
    "# Блок A2.5 Модуля A2"
   ]
  },
  {
   "cell_type": "markdown",
   "metadata": {},
   "source": [
    "## А2.5.1 Использование словарей и списков для хранения данных\n",
    "В предыдущей части мы изучили распространенные структуры данных такие, как списки, словари, а также различные производные конструкции, например, списки словарей, вложенные словари.\n",
    "\n",
    "Рассмотренные нами структуры данных часто используются для хранения информации о каких-то событиях, происходящих внутри систем. Записи о событиях, которые совершаются в ходе выполнения программы или использования программы пользователями, чаще всего записываются в файлы, которые называются логами. В качестве примера мы рассмотрим небольшой кусочек логов мобильного приложения.\n",
    "\n",
    "Логи хранятся в базах данных или в файлах. Мы рассмотрим случай, когда логи хранят в файлах."
   ]
  },
  {
   "cell_type": "markdown",
   "metadata": {},
   "source": [
    "## А2.5.1 Использование словарей и списков для хранения данных\n",
    "В предыдущей части мы изучили распространенные структуры данных такие, как списки, словари, а также различные производные конструкции, например, списки словарей, вложенные словари.\n",
    "\n",
    "Рассмотренные нами структуры данных часто используются для хранения информации о каких-то событиях, происходящих внутри систем. Записи о событиях, которые совершаются в ходе выполнения программы или использования программы пользователями, чаще всего записываются в файлы, которые называются логами. В качестве примера мы рассмотрим небольшой кусочек логов мобильного приложения.\n",
    "\n",
    "Логи хранятся в базах данных или в файлах. Мы рассмотрим случай, когда логи хранят в файлах."
   ]
  },
  {
   "cell_type": "markdown",
   "metadata": {},
   "source": [
    "## А2.5.2 Первая работа с файлами\n",
    "### Чтение логов из JSON-файла\n",
    "Одним из форматов, в которых хранятся логи, является формат JSON. Этот формат позволяет хранить данные в структурном виде, то есть в виде списков, словарей, а также более сложных вложенных конструкций.\n",
    "Скачать файл можно по ссылке: https://lms.skillfactory.ru/assets/courseware/v1/6d23dbcdd02e18bb40dcdee6cd4a94d5/asset-v1:Skillfactory+PY-30+16OCT2019+type@asset+block/data.json"
   ]
  },
  {
   "cell_type": "markdown",
   "metadata": {},
   "source": [
    "Словарь содержит различные параметры, такие как:\n",
    "\n",
    "* идентификатор события (id);\n",
    "* идентификатор клиента (client_id);\n",
    "* идентификатор пользователя (user_id);\n",
    "* категория действия (category);\n",
    "* действие, которое совершил пользователь (action);\n",
    "* дополнительные параметры события (options).\n",
    "\n",
    "Мы будем использовать не все параметры, а только client_id и category, но вы можете заняться более детальным анализом и исследовать эти данные, используя все параметры."
   ]
  },
  {
   "cell_type": "markdown",
   "metadata": {},
   "source": [
    "## А2.5.3 Открытие файла в Python\n",
    "### Библиотека json и функция open\n",
    "Для того чтобы открыть JSON-файл с помощью Python и прочитать данные, можно воспользоваться библиотекой JSON. Сейчас нам не стоит заострять внимание на особенностях её использования. Главное —  научиться открывать с её помощью файлы. Делается это через следующую конструкцию:"
   ]
  },
  {
   "cell_type": "code",
   "execution_count": 2,
   "metadata": {},
   "outputs": [],
   "source": [
    "import json\n",
    "with open('data.json', 'rb') as infile:\n",
    "    data = json.load(infile)"
   ]
  },
  {
   "cell_type": "markdown",
   "metadata": {},
   "source": [
    "Здесь 'data.json' указывает на путь к файлу. Чтобы код сработал корректно, нужно чтобы файл с данными хранился в той же папке, в которой вы создали ноутбук с кодом. \n",
    "\n",
    "Итак, этот код открывает файл 'data.json' и затем преобразует JSON в объекты, с которыми может работать Python: в словари и списки. Всё это записывается в переменную data.\n",
    "\n",
    "Давайте посмотрим, что представляет собой data:"
   ]
  },
  {
   "cell_type": "code",
   "execution_count": 3,
   "metadata": {},
   "outputs": [
    {
     "data": {
      "text/plain": [
       "dict"
      ]
     },
     "execution_count": 3,
     "metadata": {},
     "output_type": "execute_result"
    }
   ],
   "source": [
    "type(data)"
   ]
  },
  {
   "cell_type": "markdown",
   "metadata": {},
   "source": [
    "Эта переменная представляет собой словарь. Значит, у него есть ключи. Посмотрим их:"
   ]
  },
  {
   "cell_type": "code",
   "execution_count": 4,
   "metadata": {},
   "outputs": [
    {
     "data": {
      "text/plain": [
       "dict_keys(['events_data'])"
      ]
     },
     "execution_count": 4,
     "metadata": {},
     "output_type": "execute_result"
    }
   ],
   "source": [
    "data.keys()"
   ]
  },
  {
   "cell_type": "markdown",
   "metadata": {},
   "source": [
    "В нашем словаре всего один ключ 'events_data'. Посмотрим, какое значение доступно по этому ключу:"
   ]
  },
  {
   "cell_type": "code",
   "execution_count": 5,
   "metadata": {},
   "outputs": [
    {
     "data": {
      "text/plain": [
       "[{'id': 47946124,\n",
       "  'client_id': 62526,\n",
       "  'user_id': 110777,\n",
       "  'category': 'page',\n",
       "  'action': 'enter',\n",
       "  'options': {'name': 'landing'}},\n",
       " {'id': 47947076,\n",
       "  'client_id': 61944,\n",
       "  'user_id': 108565,\n",
       "  'category': 'page',\n",
       "  'action': 'enter',\n",
       "  'options': {'name': 'landing'}},\n",
       " {'id': 47962056,\n",
       "  'client_id': 27115,\n",
       "  'user_id': 49440,\n",
       "  'category': 'page',\n",
       "  'action': 'enter',\n",
       "  'options': {'name': 'page'}},\n",
       " {'id': 47962120,\n",
       "  'client_id': 27115,\n",
       "  'user_id': 49440,\n",
       "  'category': 'datepicker',\n",
       "  'action': 'apply',\n",
       "  'options': {'endDate': '2019-03-31 23:59:59',\n",
       "   'startDate': '2019-03-25 00:00:00'}},\n",
       " {'id': 47962218,\n",
       "  'client_id': 27115,\n",
       "  'user_id': 49440,\n",
       "  'category': 'table',\n",
       "  'action': 'sort',\n",
       "  'options': {'dir': 'ASC', 'name': 'deal_date'}},\n",
       " {'id': 47962238,\n",
       "  'client_id': 27115,\n",
       "  'user_id': 49440,\n",
       "  'category': 'table',\n",
       "  'action': 'sort',\n",
       "  'options': {'dir': 'DESC', 'name': 'deal_date'}},\n",
       " {'id': 47962532,\n",
       "  'client_id': 27115,\n",
       "  'user_id': 49440,\n",
       "  'category': 'table',\n",
       "  'action': 'sort',\n",
       "  'options': {'dir': 'ASC', 'name': 'deal_date'}},\n",
       " {'id': 47962534,\n",
       "  'client_id': 27115,\n",
       "  'user_id': 49440,\n",
       "  'category': 'table',\n",
       "  'action': 'sort',\n",
       "  'options': {'dir': 'DESC', 'name': 'deal_date'}},\n",
       " {'id': 47962696,\n",
       "  'client_id': 27115,\n",
       "  'user_id': 49440,\n",
       "  'category': 'datepicker',\n",
       "  'action': 'apply',\n",
       "  'options': {'endDate': '2019-03-10 23:59:59',\n",
       "   'startDate': '2019-03-04 00:00:00'}},\n",
       " {'id': 47962748,\n",
       "  'client_id': 27115,\n",
       "  'user_id': 49440,\n",
       "  'category': 'datepicker',\n",
       "  'action': 'apply',\n",
       "  'options': {'endDate': '2019-02-24 23:59:59',\n",
       "   'startDate': '2019-02-18 00:00:00'}},\n",
       " {'id': 47962830,\n",
       "  'client_id': 27115,\n",
       "  'user_id': 49440,\n",
       "  'category': 'datepicker',\n",
       "  'action': 'apply',\n",
       "  'options': {'endDate': '2019-03-31 23:59:59',\n",
       "   'startDate': '2019-03-25 00:00:00'}},\n",
       " {'id': 47962860,\n",
       "  'client_id': 27115,\n",
       "  'user_id': 49440,\n",
       "  'category': 'datepicker',\n",
       "  'action': 'apply',\n",
       "  'options': {'endDate': '2019-03-31 23:59:59',\n",
       "   'startDate': '2019-03-28 00:00:00'}},\n",
       " {'id': 47962952,\n",
       "  'client_id': 27115,\n",
       "  'user_id': 49440,\n",
       "  'category': 'datepicker',\n",
       "  'action': 'apply',\n",
       "  'options': {'endDate': '2019-03-31 23:59:59',\n",
       "   'startDate': '2019-03-29 00:00:00'}},\n",
       " {'id': 47964366,\n",
       "  'client_id': 62017,\n",
       "  'user_id': 108835,\n",
       "  'category': 'page',\n",
       "  'action': 'enter',\n",
       "  'options': {'name': 'landing'}},\n",
       " {'id': 47989384,\n",
       "  'client_id': 63120,\n",
       "  'user_id': 113069,\n",
       "  'category': 'page',\n",
       "  'action': 'enter',\n",
       "  'options': {'name': 'landing'}},\n",
       " {'id': 48010418,\n",
       "  'client_id': 59883,\n",
       "  'user_id': 108493,\n",
       "  'category': 'page',\n",
       "  'action': 'enter',\n",
       "  'options': {'name': 'landing'}},\n",
       " {'id': 48012170,\n",
       "  'client_id': 2913,\n",
       "  'user_id': 37412,\n",
       "  'category': 'page',\n",
       "  'action': 'enter',\n",
       "  'options': {'name': 'landing'}},\n",
       " {'id': 48014430,\n",
       "  'client_id': 62940,\n",
       "  'user_id': 112351,\n",
       "  'category': 'page',\n",
       "  'action': 'enter',\n",
       "  'options': {'name': 'landing'}},\n",
       " {'id': 48022684,\n",
       "  'client_id': 63149,\n",
       "  'user_id': 113143,\n",
       "  'category': 'page',\n",
       "  'action': 'enter',\n",
       "  'options': {'name': 'landing'}},\n",
       " {'id': 48026886,\n",
       "  'client_id': 45391,\n",
       "  'user_id': 76047,\n",
       "  'category': 'page',\n",
       "  'action': 'enter',\n",
       "  'options': {'name': 'landing'}},\n",
       " {'id': 48034878,\n",
       "  'client_id': 18923,\n",
       "  'user_id': 36488,\n",
       "  'category': 'page',\n",
       "  'action': 'enter',\n",
       "  'options': {'name': 'landing'}},\n",
       " {'id': 48042052,\n",
       "  'client_id': 63019,\n",
       "  'user_id': 113169,\n",
       "  'category': 'page',\n",
       "  'action': 'enter',\n",
       "  'options': {'name': 'landing'}},\n",
       " {'id': 48043326,\n",
       "  'client_id': 18923,\n",
       "  'user_id': 36488,\n",
       "  'category': 'page',\n",
       "  'action': 'enter',\n",
       "  'options': {'name': 'landing'}},\n",
       " {'id': 48043640,\n",
       "  'client_id': 18923,\n",
       "  'user_id': 36488,\n",
       "  'category': 'page',\n",
       "  'action': 'enter',\n",
       "  'options': {'name': 'landing'}},\n",
       " {'id': 48051248,\n",
       "  'client_id': 15759,\n",
       "  'user_id': 92681,\n",
       "  'category': 'page',\n",
       "  'action': 'enter',\n",
       "  'options': {'name': 'landing'}},\n",
       " {'id': 48061250,\n",
       "  'client_id': 62007,\n",
       "  'user_id': 92681,\n",
       "  'category': 'page',\n",
       "  'action': 'enter',\n",
       "  'options': {'name': 'page'}},\n",
       " {'id': 48066902,\n",
       "  'client_id': 62941,\n",
       "  'user_id': 112357,\n",
       "  'category': 'page',\n",
       "  'action': 'enter',\n",
       "  'options': {'name': 'landing'}},\n",
       " {'id': 48081876,\n",
       "  'client_id': 51009,\n",
       "  'user_id': 87778,\n",
       "  'category': 'page',\n",
       "  'action': 'enter',\n",
       "  'options': {'name': 'landing'}},\n",
       " {'id': 48106514,\n",
       "  'client_id': 62236,\n",
       "  'user_id': 109579,\n",
       "  'category': 'page',\n",
       "  'action': 'enter',\n",
       "  'options': {'name': 'landing'}},\n",
       " {'id': 48110768,\n",
       "  'client_id': 44682,\n",
       "  'user_id': 74909,\n",
       "  'category': 'page',\n",
       "  'action': 'enter',\n",
       "  'options': {'name': 'landing'}},\n",
       " {'id': 48114652,\n",
       "  'client_id': 39709,\n",
       "  'user_id': 67955,\n",
       "  'category': 'page',\n",
       "  'action': 'enter',\n",
       "  'options': {'name': 'landing'}},\n",
       " {'id': 48118216,\n",
       "  'client_id': 60459,\n",
       "  'user_id': 32532,\n",
       "  'category': 'page',\n",
       "  'action': 'enter',\n",
       "  'options': {'name': 'page'}},\n",
       " {'id': 48118370,\n",
       "  'client_id': 62144,\n",
       "  'user_id': 109283,\n",
       "  'category': 'page',\n",
       "  'action': 'enter',\n",
       "  'options': {'name': 'landing'}},\n",
       " {'id': 48118516,\n",
       "  'client_id': 60459,\n",
       "  'user_id': 32532,\n",
       "  'category': 'report',\n",
       "  'action': 'change_mode',\n",
       "  'options': {'mode': 'deals'}},\n",
       " {'id': 48118564,\n",
       "  'client_id': 60459,\n",
       "  'user_id': 32532,\n",
       "  'category': 'report',\n",
       "  'action': 'change_mode',\n",
       "  'options': {'mode': 'summary'}},\n",
       " {'id': 48118590,\n",
       "  'client_id': 60459,\n",
       "  'user_id': 32532,\n",
       "  'category': 'report',\n",
       "  'action': 'change_mode',\n",
       "  'options': {'mode': 'deals'}},\n",
       " {'id': 48118920,\n",
       "  'client_id': 60459,\n",
       "  'user_id': 32532,\n",
       "  'category': 'report',\n",
       "  'action': 'change_mode',\n",
       "  'options': {'mode': 'summary'}},\n",
       " {'id': 48120374,\n",
       "  'client_id': 60459,\n",
       "  'user_id': 32532,\n",
       "  'category': 'page',\n",
       "  'action': 'enter',\n",
       "  'options': {'name': 'page'}},\n",
       " {'id': 48120386,\n",
       "  'client_id': 60459,\n",
       "  'user_id': 32532,\n",
       "  'category': 'report',\n",
       "  'action': 'change_mode',\n",
       "  'options': {'mode': 'deals'}},\n",
       " {'id': 48120602,\n",
       "  'client_id': 52492,\n",
       "  'user_id': 91178,\n",
       "  'category': 'page',\n",
       "  'action': 'enter',\n",
       "  'options': {'name': 'page'}},\n",
       " {'id': 48120604,\n",
       "  'client_id': 52492,\n",
       "  'user_id': 105477,\n",
       "  'category': 'page',\n",
       "  'action': 'enter',\n",
       "  'options': {'name': 'page'}},\n",
       " {'id': 48120770,\n",
       "  'client_id': 60459,\n",
       "  'user_id': 32532,\n",
       "  'category': 'page',\n",
       "  'action': 'enter',\n",
       "  'options': {'name': 'page'}},\n",
       " {'id': 48120876,\n",
       "  'client_id': 60459,\n",
       "  'user_id': 32532,\n",
       "  'category': 'table',\n",
       "  'action': 'sort',\n",
       "  'options': {'dir': 'ASC', 'name': 'visitor_id'}},\n",
       " {'id': 48120896,\n",
       "  'client_id': 60459,\n",
       "  'user_id': 32532,\n",
       "  'category': 'table',\n",
       "  'action': 'sort',\n",
       "  'options': {'dir': 'DESC', 'name': 'visitor_id'}},\n",
       " {'id': 48121006,\n",
       "  'client_id': 60459,\n",
       "  'user_id': 32532,\n",
       "  'category': 'table',\n",
       "  'action': 'sort',\n",
       "  'options': {'dir': 'ASC', 'name': 'visitor_id'}},\n",
       " {'id': 48121008,\n",
       "  'client_id': 60459,\n",
       "  'user_id': 32532,\n",
       "  'category': 'table',\n",
       "  'action': 'sort',\n",
       "  'options': {'dir': 'DESC', 'name': 'visitor_id'}},\n",
       " {'id': 48125372,\n",
       "  'client_id': 52492,\n",
       "  'user_id': 91178,\n",
       "  'category': 'page',\n",
       "  'action': 'enter',\n",
       "  'options': {'name': 'page'}},\n",
       " {'id': 48130434,\n",
       "  'client_id': 18923,\n",
       "  'user_id': 36488,\n",
       "  'category': 'page',\n",
       "  'action': 'enter',\n",
       "  'options': {'name': 'landing'}},\n",
       " {'id': 48135712,\n",
       "  'client_id': 25301,\n",
       "  'user_id': 54229,\n",
       "  'category': 'page',\n",
       "  'action': 'enter',\n",
       "  'options': {'name': 'landing'}},\n",
       " {'id': 48136376,\n",
       "  'client_id': 18923,\n",
       "  'user_id': 36488,\n",
       "  'category': 'page',\n",
       "  'action': 'enter',\n",
       "  'options': {'name': 'landing'}},\n",
       " {'id': 48136890,\n",
       "  'client_id': 33645,\n",
       "  'user_id': 61378,\n",
       "  'category': 'page',\n",
       "  'action': 'enter',\n",
       "  'options': {'name': 'landing'}},\n",
       " {'id': 48145332,\n",
       "  'client_id': 62089,\n",
       "  'user_id': 109095,\n",
       "  'category': 'page',\n",
       "  'action': 'enter',\n",
       "  'options': {'name': 'landing'}},\n",
       " {'id': 48155244,\n",
       "  'client_id': 26705,\n",
       "  'user_id': 48880,\n",
       "  'category': 'page',\n",
       "  'action': 'enter',\n",
       "  'options': {'name': 'landing'}},\n",
       " {'id': 48160942,\n",
       "  'client_id': 1103,\n",
       "  'user_id': 109501,\n",
       "  'category': 'page',\n",
       "  'action': 'enter',\n",
       "  'options': {'name': 'page'}},\n",
       " {'id': 48166190,\n",
       "  'client_id': 62439,\n",
       "  'user_id': 110397,\n",
       "  'category': 'page',\n",
       "  'action': 'enter',\n",
       "  'options': {'name': 'landing'}},\n",
       " {'id': 48167428,\n",
       "  'client_id': 44196,\n",
       "  'user_id': 74136,\n",
       "  'category': 'page',\n",
       "  'action': 'enter',\n",
       "  'options': {'name': 'landing'}},\n",
       " {'id': 48171114,\n",
       "  'client_id': 62602,\n",
       "  'user_id': 111069,\n",
       "  'category': 'page',\n",
       "  'action': 'enter',\n",
       "  'options': {'name': 'page'}},\n",
       " {'id': 48173426,\n",
       "  'client_id': 62602,\n",
       "  'user_id': 111069,\n",
       "  'category': 'page',\n",
       "  'action': 'enter',\n",
       "  'options': {'name': 'page'}},\n",
       " {'id': 48173444,\n",
       "  'client_id': 62602,\n",
       "  'user_id': 111069,\n",
       "  'category': 'report',\n",
       "  'action': 'link_click',\n",
       "  'options': {'url': 'javascript:void(0);',\n",
       "   'name': 'deal_count',\n",
       "   'value': '1'}},\n",
       " {'id': 48173446,\n",
       "  'client_id': 62602,\n",
       "  'user_id': 111069,\n",
       "  'category': 'page',\n",
       "  'action': 'enter',\n",
       "  'options': {'name': 'page'}},\n",
       " {'id': 48173640,\n",
       "  'client_id': 62602,\n",
       "  'user_id': 111069,\n",
       "  'category': 'page',\n",
       "  'action': 'enter',\n",
       "  'options': {'name': 'page'}},\n",
       " {'id': 48173686,\n",
       "  'client_id': 62602,\n",
       "  'user_id': 111069,\n",
       "  'category': 'page',\n",
       "  'action': 'enter',\n",
       "  'options': {'name': 'page'}},\n",
       " {'id': 48173698,\n",
       "  'client_id': 62602,\n",
       "  'user_id': 111069,\n",
       "  'category': 'page',\n",
       "  'action': 'enter',\n",
       "  'options': {'name': 'page'}},\n",
       " {'id': 48174302,\n",
       "  'client_id': 62602,\n",
       "  'user_id': 111069,\n",
       "  'category': 'page',\n",
       "  'action': 'enter',\n",
       "  'options': {'name': 'page'}},\n",
       " {'id': 48174312,\n",
       "  'client_id': 62602,\n",
       "  'user_id': 111069,\n",
       "  'category': 'report',\n",
       "  'action': 'link_click',\n",
       "  'options': {'url': 'javascript:void(0);',\n",
       "   'name': 'deal_count',\n",
       "   'value': '1'}},\n",
       " {'id': 48174314,\n",
       "  'client_id': 62602,\n",
       "  'user_id': 111069,\n",
       "  'category': 'page',\n",
       "  'action': 'enter',\n",
       "  'options': {'name': 'page'}},\n",
       " {'id': 48174338,\n",
       "  'client_id': 62602,\n",
       "  'user_id': 111069,\n",
       "  'category': 'page',\n",
       "  'action': 'enter',\n",
       "  'options': {'name': 'page'}},\n",
       " {'id': 48179988,\n",
       "  'client_id': 50149,\n",
       "  'user_id': 86073,\n",
       "  'category': 'page',\n",
       "  'action': 'enter',\n",
       "  'options': {'name': 'landing'}},\n",
       " {'id': 57301281,\n",
       "  'client_id': 57009,\n",
       "  'user_id': 107244,\n",
       "  'category': 'page',\n",
       "  'action': 'enter',\n",
       "  'options': {'name': 'landing'}},\n",
       " {'id': 57326589,\n",
       "  'client_id': 57207,\n",
       "  'user_id': 107968,\n",
       "  'category': 'page',\n",
       "  'action': 'enter',\n",
       "  'options': {'name': 'landing'}},\n",
       " {'id': 57328781,\n",
       "  'client_id': 32792,\n",
       "  'user_id': 57997,\n",
       "  'category': 'page',\n",
       "  'action': 'enter',\n",
       "  'options': {'name': 'landing'}},\n",
       " {'id': 57335607,\n",
       "  'client_id': 27323,\n",
       "  'user_id': 92681,\n",
       "  'category': 'page',\n",
       "  'action': 'enter',\n",
       "  'options': {'name': 'landing'}},\n",
       " {'id': 57355249,\n",
       "  'client_id': 24500,\n",
       "  'user_id': 45371,\n",
       "  'category': 'page',\n",
       "  'action': 'enter',\n",
       "  'options': {'name': 'landing'}},\n",
       " {'id': 57357969,\n",
       "  'client_id': 24500,\n",
       "  'user_id': 45371,\n",
       "  'category': 'page',\n",
       "  'action': 'enter',\n",
       "  'options': {'name': 'page'}},\n",
       " {'id': 57364085,\n",
       "  'client_id': 58330,\n",
       "  'user_id': 122756,\n",
       "  'category': 'page',\n",
       "  'action': 'enter',\n",
       "  'options': {'name': 'landing'}},\n",
       " {'id': 57368897,\n",
       "  'client_id': 61245,\n",
       "  'user_id': 122796,\n",
       "  'category': 'page',\n",
       "  'action': 'enter',\n",
       "  'options': {'name': 'landing'}},\n",
       " {'id': 57380235,\n",
       "  'client_id': 19799,\n",
       "  'user_id': 108493,\n",
       "  'category': 'page',\n",
       "  'action': 'enter',\n",
       "  'options': {'name': 'landing'}},\n",
       " {'id': 57397813,\n",
       "  'client_id': 56544,\n",
       "  'user_id': 105404,\n",
       "  'category': 'page',\n",
       "  'action': 'enter',\n",
       "  'options': {'name': 'page'}},\n",
       " {'id': 57397881,\n",
       "  'client_id': 56544,\n",
       "  'user_id': 105404,\n",
       "  'category': 'datepicker',\n",
       "  'action': 'apply',\n",
       "  'options': {'endDate': '2019-03-31 23:59:59',\n",
       "   'startDate': '2019-03-31 00:00:00'}},\n",
       " {'id': 57397923,\n",
       "  'client_id': 56544,\n",
       "  'user_id': 105404,\n",
       "  'category': 'datepicker',\n",
       "  'action': 'apply',\n",
       "  'options': {'endDate': '2019-03-30 23:59:59',\n",
       "   'startDate': '2019-03-30 00:00:00'}},\n",
       " {'id': 57397987,\n",
       "  'client_id': 56544,\n",
       "  'user_id': 105404,\n",
       "  'category': 'datepicker',\n",
       "  'action': 'apply',\n",
       "  'options': {'endDate': '2019-03-29 23:59:59',\n",
       "   'startDate': '2019-03-29 00:00:00'}},\n",
       " {'id': 57398079,\n",
       "  'client_id': 56544,\n",
       "  'user_id': 105404,\n",
       "  'category': 'datepicker',\n",
       "  'action': 'apply',\n",
       "  'options': {'endDate': '2019-03-28 23:59:59',\n",
       "   'startDate': '2019-03-28 00:00:00'}},\n",
       " {'id': 57398119,\n",
       "  'client_id': 56544,\n",
       "  'user_id': 105404,\n",
       "  'category': 'datepicker',\n",
       "  'action': 'apply',\n",
       "  'options': {'endDate': '2019-03-27 23:59:59',\n",
       "   'startDate': '2019-03-27 00:00:00'}},\n",
       " {'id': 57398165,\n",
       "  'client_id': 56544,\n",
       "  'user_id': 105404,\n",
       "  'category': 'datepicker',\n",
       "  'action': 'apply',\n",
       "  'options': {'endDate': '2019-03-26 23:59:59',\n",
       "   'startDate': '2019-03-26 00:00:00'}},\n",
       " {'id': 57398203,\n",
       "  'client_id': 56544,\n",
       "  'user_id': 105404,\n",
       "  'category': 'datepicker',\n",
       "  'action': 'apply',\n",
       "  'options': {'endDate': '2019-03-25 23:59:59',\n",
       "   'startDate': '2019-03-25 00:00:00'}},\n",
       " {'id': 57414209,\n",
       "  'client_id': 23207,\n",
       "  'user_id': 43300,\n",
       "  'category': 'page',\n",
       "  'action': 'enter',\n",
       "  'options': {'name': 'landing'}},\n",
       " {'id': 57414633,\n",
       "  'client_id': 23207,\n",
       "  'user_id': 43300,\n",
       "  'category': 'page',\n",
       "  'action': 'enter',\n",
       "  'options': {'name': 'landing'}},\n",
       " {'id': 57414663,\n",
       "  'client_id': 23207,\n",
       "  'user_id': 85282,\n",
       "  'category': 'page',\n",
       "  'action': 'enter',\n",
       "  'options': {'name': 'landing'}},\n",
       " {'id': 57414851,\n",
       "  'client_id': 23207,\n",
       "  'user_id': 43300,\n",
       "  'category': 'page',\n",
       "  'action': 'enter',\n",
       "  'options': {'name': 'landing'}},\n",
       " {'id': 57420219,\n",
       "  'client_id': 48128,\n",
       "  'user_id': 121686,\n",
       "  'category': 'page',\n",
       "  'action': 'enter',\n",
       "  'options': {'name': 'landing'}},\n",
       " {'id': 57424709,\n",
       "  'client_id': 58113,\n",
       "  'user_id': 120952,\n",
       "  'category': 'page',\n",
       "  'action': 'enter',\n",
       "  'options': {'name': 'page'}},\n",
       " {'id': 57424757,\n",
       "  'client_id': 58113,\n",
       "  'user_id': 120952,\n",
       "  'category': 'report',\n",
       "  'action': 'change_mode',\n",
       "  'options': {'mode': 'deals'}},\n",
       " {'id': 57425399,\n",
       "  'client_id': 58113,\n",
       "  'user_id': 120952,\n",
       "  'category': 'table',\n",
       "  'action': 'sort',\n",
       "  'options': {'dir': 'ASC', 'name': 'ac'}},\n",
       " {'id': 57425421,\n",
       "  'client_id': 58113,\n",
       "  'user_id': 120952,\n",
       "  'category': 'table',\n",
       "  'action': 'sort',\n",
       "  'options': {'dir': 'DESC', 'name': 'ac'}},\n",
       " {'id': 57426007,\n",
       "  'client_id': 58113,\n",
       "  'user_id': 120952,\n",
       "  'category': 'datepicker',\n",
       "  'action': 'apply',\n",
       "  'options': {'endDate': '2019-03-24 23:59:59',\n",
       "   'startDate': '2019-03-18 00:00:00'}},\n",
       " {'id': 57426303,\n",
       "  'client_id': 58113,\n",
       "  'user_id': 120952,\n",
       "  'category': 'datepicker',\n",
       "  'action': 'apply',\n",
       "  'options': {'endDate': '2019-03-17 23:59:59',\n",
       "   'startDate': '2019-03-11 00:00:00'}},\n",
       " {'id': 57431787,\n",
       "  'client_id': 58113,\n",
       "  'user_id': 120952,\n",
       "  'category': 'page',\n",
       "  'action': 'enter',\n",
       "  'options': {'name': 'page'}},\n",
       " {'id': 57444593,\n",
       "  'client_id': 57613,\n",
       "  'user_id': 110958,\n",
       "  'category': 'page',\n",
       "  'action': 'enter',\n",
       "  'options': {'name': 'landing'}},\n",
       " {'id': 57453741,\n",
       "  'client_id': 61244,\n",
       "  'user_id': 120170,\n",
       "  'category': 'page',\n",
       "  'action': 'enter',\n",
       "  'options': {'name': 'landing'}},\n",
       " {'id': 57467371,\n",
       "  'client_id': 53666,\n",
       "  'user_id': 122224,\n",
       "  'category': 'page',\n",
       "  'action': 'enter',\n",
       "  'options': {'name': 'landing'}},\n",
       " {'id': 57473917,\n",
       "  'client_id': 53018,\n",
       "  'user_id': 92402,\n",
       "  'category': 'page',\n",
       "  'action': 'enter',\n",
       "  'options': {'name': 'landing'}},\n",
       " {'id': 57475785,\n",
       "  'client_id': 53666,\n",
       "  'user_id': 122224,\n",
       "  'category': 'page',\n",
       "  'action': 'enter',\n",
       "  'options': {'name': 'landing'}},\n",
       " {'id': 57492477,\n",
       "  'client_id': 41737,\n",
       "  'user_id': 122874,\n",
       "  'category': 'page',\n",
       "  'action': 'enter',\n",
       "  'options': {'name': 'landing'}},\n",
       " {'id': 57493427,\n",
       "  'client_id': 61078,\n",
       "  'user_id': 119662,\n",
       "  'category': 'page',\n",
       "  'action': 'enter',\n",
       "  'options': {'name': 'landing'}},\n",
       " {'id': 57515935,\n",
       "  'client_id': 20820,\n",
       "  'user_id': 116898,\n",
       "  'category': 'page',\n",
       "  'action': 'enter',\n",
       "  'options': {'name': 'landing'}},\n",
       " {'id': 57517657,\n",
       "  'client_id': 41737,\n",
       "  'user_id': 122874,\n",
       "  'category': 'page',\n",
       "  'action': 'enter',\n",
       "  'options': {'name': 'landing'}},\n",
       " {'id': 57540495,\n",
       "  'client_id': 49700,\n",
       "  'user_id': 84946,\n",
       "  'category': 'page',\n",
       "  'action': 'enter',\n",
       "  'options': {'name': 'landing'}}]"
      ]
     },
     "execution_count": 5,
     "metadata": {},
     "output_type": "execute_result"
    }
   ],
   "source": [
    "data['events_data']"
   ]
  },
  {
   "cell_type": "markdown",
   "metadata": {},
   "source": [
    "Мы получили список, в котором хранятся наши события в виде отдельных словарей. С этими словарями мы уже познакомились выше, когда рассматривали структуру нашего JSON-файла с логом."
   ]
  },
  {
   "cell_type": "markdown",
   "metadata": {},
   "source": [
    "## А2.5.4 Работа с данными\n",
    "### Покопаемся в данных\n",
    "Для удобства давайте запишем полученный в предыдущем модуле список в новую переменную data_list, чтобы нам не приходилось каждый раз обращаться к одному и тому же ключу 'events_data' в словаре data."
   ]
  },
  {
   "cell_type": "code",
   "execution_count": 6,
   "metadata": {},
   "outputs": [],
   "source": [
    "data_list = data['events_data']"
   ]
  },
  {
   "cell_type": "markdown",
   "metadata": {},
   "source": [
    "Теперь мы можем оценить, сколько событий хранится в нашем логе. Для этого посчитаем длину получившегося списка:"
   ]
  },
  {
   "cell_type": "code",
   "execution_count": 7,
   "metadata": {},
   "outputs": [
    {
     "name": "stdout",
     "output_type": "stream",
     "text": [
      "107\n"
     ]
    }
   ],
   "source": [
    "print(len(data_list))"
   ]
  },
  {
   "cell_type": "markdown",
   "metadata": {},
   "source": [
    "Целых 107 событий! В первую очередь, нам интересно знать, какие это события. Для этого давайте пройдемся циклом по всем событиям и запишем в новый список все встречающиеся категории (ключ 'category'):"
   ]
  },
  {
   "cell_type": "code",
   "execution_count": 8,
   "metadata": {},
   "outputs": [
    {
     "name": "stdout",
     "output_type": "stream",
     "text": [
      "['page', 'page', 'page', 'datepicker', 'table', 'table', 'table', 'table', 'datepicker', 'datepicker', 'datepicker', 'datepicker', 'datepicker', 'page', 'page', 'page', 'page', 'page', 'page', 'page', 'page', 'page', 'page', 'page', 'page', 'page', 'page', 'page', 'page', 'page', 'page', 'page', 'page', 'report', 'report', 'report', 'report', 'page', 'report', 'page', 'page', 'page', 'table', 'table', 'table', 'table', 'page', 'page', 'page', 'page', 'page', 'page', 'page', 'page', 'page', 'page', 'page', 'page', 'report', 'page', 'page', 'page', 'page', 'page', 'report', 'page', 'page', 'page', 'page', 'page', 'page', 'page', 'page', 'page', 'page', 'page', 'page', 'page', 'datepicker', 'datepicker', 'datepicker', 'datepicker', 'datepicker', 'datepicker', 'datepicker', 'page', 'page', 'page', 'page', 'page', 'page', 'report', 'table', 'table', 'datepicker', 'datepicker', 'page', 'page', 'page', 'page', 'page', 'page', 'page', 'page', 'page', 'page', 'page']\n"
     ]
    }
   ],
   "source": [
    "categories = []\n",
    "for item in data_list:\n",
    "    category = item['category']\n",
    "    categories.append(category)\n",
    "print (categories)"
   ]
  },
  {
   "cell_type": "markdown",
   "metadata": {},
   "source": [
    "Как видно, чаще всего встречается категория 'page', означающая просмотр страницы.\n",
    "\n",
    "Давайте подсчитаем частоту встречаемости каждого из событий. Для этого можно использовать удобную конструкцию Counter, которая доступна в библиотеке Collections. Эта библиотека идёт в составе Python, то есть её не нужно устанавливать дополнительно, она предоставляет широкие возможности для работы с различными структурами данных. "
   ]
  },
  {
   "cell_type": "code",
   "execution_count": 9,
   "metadata": {},
   "outputs": [
    {
     "name": "stdout",
     "output_type": "stream",
     "text": [
      "Counter({'page': 74, 'datepicker': 15, 'table': 10, 'report': 8})\n"
     ]
    }
   ],
   "source": [
    "import collections\n",
    "c = collections.Counter()\n",
    "for category in categories:\n",
    "    c[category] += 1\n",
    "print (c)"
   ]
  },
  {
   "cell_type": "markdown",
   "metadata": {},
   "source": [
    "Таким образом мы посчитали сколько разных событий записано в наш лог."
   ]
  },
  {
   "cell_type": "markdown",
   "metadata": {},
   "source": [
    "## А2.5.5 Анализируем данные\n",
    "### Первый пример анализа данных\n",
    "Теперь давайте посмотрим, какие клиенты совершают события table. Для этого пройдемся по каждому словарю из списка data_list и добавим значение client_id в новый список table_clients, но только в тех случаях, где category = 'table':"
   ]
  },
  {
   "cell_type": "code",
   "execution_count": 10,
   "metadata": {},
   "outputs": [
    {
     "name": "stdout",
     "output_type": "stream",
     "text": [
      "[27115, 27115, 27115, 27115, 60459, 60459, 60459, 60459, 58113, 58113]\n"
     ]
    }
   ],
   "source": [
    "table_clients = []\n",
    "for item in data_list:\n",
    "    client_id = item['client_id']\n",
    "    category = item['category']\n",
    "    if category == 'table':\n",
    "        table_clients.append(client_id)\n",
    "print (table_clients)"
   ]
  },
  {
   "cell_type": "markdown",
   "metadata": {},
   "source": [
    "У нас получился список table_clients, который включает в себя клиентов, совершавших действие с категорией 'table'. Давайте применим такую же конструкцию, которую мы применяли для подсчета количества разных событий, чтобы посчитать, кто из клиентов чаще всего совершал действие 'table':"
   ]
  },
  {
   "cell_type": "code",
   "execution_count": 11,
   "metadata": {},
   "outputs": [
    {
     "name": "stdout",
     "output_type": "stream",
     "text": [
      "Counter({27115: 4, 60459: 4, 58113: 2})\n"
     ]
    }
   ],
   "source": [
    "c = collections.Counter()\n",
    "for table_client in table_clients:\n",
    "    c[table_client] += 1\n",
    "print (c)"
   ]
  },
  {
   "cell_type": "markdown",
   "metadata": {},
   "source": [
    "Мы видим, что у нас всего 3 пользователя, два из которых совершили по 4 действия.\n",
    "\n",
    "У нас данных мало, поэтому всё можно оценить просто выводом словаря «c» на экран с помощью print, но иногда данных так много, что посчитать количество пользователей не так просто. Для этого можно посчитать, сколько ключей содержится в словаре «c»:"
   ]
  },
  {
   "cell_type": "code",
   "execution_count": 12,
   "metadata": {},
   "outputs": [
    {
     "name": "stdout",
     "output_type": "stream",
     "text": [
      "3\n"
     ]
    }
   ],
   "source": [
    "print (len(c.keys()))"
   ]
  },
  {
   "cell_type": "markdown",
   "metadata": {},
   "source": [
    "Вывести информацию по конкретному пользователю можно, обратившись по соответствующему ключу:"
   ]
  },
  {
   "cell_type": "code",
   "execution_count": 13,
   "metadata": {},
   "outputs": [
    {
     "name": "stdout",
     "output_type": "stream",
     "text": [
      "4\n"
     ]
    }
   ],
   "source": [
    "print(c[27115])"
   ]
  },
  {
   "cell_type": "markdown",
   "metadata": {},
   "source": [
    "Итак, мы рассмотрели пример анализа данных с помощью использования словарей и списков. Иногда это действительно удобный способ, но в дальнейшем мы рассмотрим применение пакета Pandas для анализа данных, который раскроет нам новые возможности. С помощью этого пакета также можно анализировать данные, но при этом в более гибкой и удобной форме."
   ]
  },
  {
   "cell_type": "markdown",
   "metadata": {},
   "source": [
    "## А2.5.6 Задания"
   ]
  },
  {
   "cell_type": "markdown",
   "metadata": {},
   "source": [
    "1. Подсчитайте количество клиентов (client_id), которые совершали какие-либо действия"
   ]
  },
  {
   "cell_type": "code",
   "execution_count": 14,
   "metadata": {},
   "outputs": [
    {
     "name": "stdout",
     "output_type": "stream",
     "text": [
      "51\n"
     ]
    }
   ],
   "source": [
    "c = collections.Counter()\n",
    "for item in data_list:\n",
    "    c[item['client_id']]+=1\n",
    "print(len(c))"
   ]
  },
  {
   "cell_type": "markdown",
   "metadata": {},
   "source": [
    "* 49\n",
    "* 51 [верно]\n",
    "* 50"
   ]
  },
  {
   "cell_type": "markdown",
   "metadata": {},
   "source": [
    "2. Сколько действий совершил клиент (client_id) под номером 60459?"
   ]
  },
  {
   "cell_type": "code",
   "execution_count": 19,
   "metadata": {},
   "outputs": [
    {
     "name": "stdout",
     "output_type": "stream",
     "text": [
      "12\n"
     ]
    }
   ],
   "source": [
    "c = collections.Counter()\n",
    "kolvo=0\n",
    "for item in data_list:\n",
    "    if item['client_id']==60459:\n",
    "        kolvo+=1 # Увеличиваем счетчик количества действий определенного клиента\n",
    "print(kolvo)"
   ]
  },
  {
   "cell_type": "markdown",
   "metadata": {},
   "source": [
    "3. Сколько действий с категорией (category) = page совершил клиент под номером 62602?"
   ]
  },
  {
   "cell_type": "code",
   "execution_count": 23,
   "metadata": {},
   "outputs": [
    {
     "name": "stdout",
     "output_type": "stream",
     "text": [
      "9\n"
     ]
    }
   ],
   "source": [
    "kolvo=0\n",
    "for item in data_list:\n",
    "    if item['client_id']==62602:\n",
    "        if item['category']=='page':\n",
    "            kolvo+=1\n",
    "print(kolvo)"
   ]
  },
  {
   "cell_type": "markdown",
   "metadata": {},
   "source": [
    "4. Сколько уникальных клиентов совершили действия с категорией (category) = report?\n"
   ]
  },
  {
   "cell_type": "code",
   "execution_count": 25,
   "metadata": {},
   "outputs": [
    {
     "name": "stdout",
     "output_type": "stream",
     "text": [
      "3\n"
     ]
    }
   ],
   "source": [
    "c=collections.Counter()\n",
    "new=[]\n",
    "for item in data_list:\n",
    "    category=item['category']\n",
    "    if category=='report':\n",
    "        new.append(item['client_id']) #Добавляем в новый словрь всех клиентов с данной категорией\n",
    "for s in new:\n",
    "    c[s]+=1 # считаем уникальное число клиентов в словаре\n",
    "print(len(c))"
   ]
  },
  {
   "cell_type": "markdown",
   "metadata": {},
   "source": [
    "5. Перечислите в каждом из полей идентификаторы клиентов, которые совершили действия с категорией (category) = report (В порядке возрастания)"
   ]
  },
  {
   "cell_type": "code",
   "execution_count": 26,
   "metadata": {},
   "outputs": [
    {
     "name": "stdout",
     "output_type": "stream",
     "text": [
      "Counter({60459: 5, 62602: 2, 58113: 1})\n"
     ]
    }
   ],
   "source": [
    "c=collections.Counter()\n",
    "new=[]\n",
    "for item in data_list:\n",
    "    if item['category']=='report':\n",
    "        new.append(item['client_id'])\n",
    "for s in new:\n",
    "    c[s]+=1\n",
    "print(c)"
   ]
  },
  {
   "cell_type": "code",
   "execution_count": null,
   "metadata": {},
   "outputs": [],
   "source": []
  }
 ],
 "metadata": {
  "kernelspec": {
   "display_name": "Python 3",
   "language": "python",
   "name": "python3"
  },
  "language_info": {
   "codemirror_mode": {
    "name": "ipython",
    "version": 3
   },
   "file_extension": ".py",
   "mimetype": "text/x-python",
   "name": "python",
   "nbconvert_exporter": "python",
   "pygments_lexer": "ipython3",
   "version": "3.7.3"
  }
 },
 "nbformat": 4,
 "nbformat_minor": 2
}
