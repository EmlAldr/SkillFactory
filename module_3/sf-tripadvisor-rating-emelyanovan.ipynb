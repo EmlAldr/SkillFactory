{
 "cells": [
  {
   "cell_type": "markdown",
   "metadata": {},
   "source": [
    "![](https://www.pata.org/wp-content/uploads/2014/09/TripAdvisor_Logo-300x119.png)\n",
    "# Predict TripAdvisor Rating\n",
    "## Цель проекта - предсказать рейтинг ресторана в TripAdvisor\n",
    "**Задачи:**\n",
    "* Подготовить набор данных для обучения модели \n",
    "* Потренировать работу с pandas на реальных данных\n",
    "* Научится работать с Kaggle Notebooks\n",
    "* Попрактиковаться в предобработке различных данных, в частности с пропущенными данными (Nan) и с различными видами кодирования признаков\n",
    "* Также попрактиковаться в Feature Engineering\n"
   ]
  },
  {
   "cell_type": "markdown",
   "metadata": {},
   "source": [
    "# import"
   ]
  },
  {
   "cell_type": "code",
   "execution_count": 1,
   "metadata": {
    "_cell_guid": "b1076dfc-b9ad-4769-8c92-a6c4dae69d19",
    "_uuid": "8f2839f25d086af736a60e9eeb907d3b93b6e0e5"
   },
   "outputs": [
    {
     "name": "stdout",
     "output_type": "stream",
     "text": [
      "./kaggle_task.csv\n",
      "./main_task.csv\n",
      "./requirements.txt\n",
      "./sample_submission.csv\n",
      "./sf-tripadvisor-rating-emelyanovan.ipynb\n",
      "./worldcities.csv\n",
      "./your_first_model.ipynb\n",
      "./.ipynb_checkpoints/sf-tripadvisor-rating-emelyanovan-checkpoint.ipynb\n",
      "./.ipynb_checkpoints/your_first_model-checkpoint.ipynb\n"
     ]
    }
   ],
   "source": [
    "import numpy as np \n",
    "import pandas as pd \n",
    "import re\n",
    "\n",
    "import matplotlib.pyplot as plt\n",
    "import seaborn as sns \n",
    "%matplotlib inline\n",
    "\n",
    "# Загружаем специальный удобный инструмент для разделения датасета:\n",
    "from sklearn.model_selection import train_test_split\n",
    "\n",
    "# Input data files are available in the \"../input/\" directory.\n",
    "import os\n",
    "for dirname, _, filenames in os.walk('.'):\n",
    "    for filename in filenames:\n",
    "        print(os.path.join(dirname, filename))"
   ]
  },
  {
   "cell_type": "code",
   "execution_count": 2,
   "metadata": {},
   "outputs": [],
   "source": [
    "# Зафиксируем RANDOM_SEED, чтобы эксперименты были воспроизводимы:\n",
    "RANDOM_SEED = 42\n",
    "\n",
    "# Зафиксируем версию пакетов, чтобы эксперименты были воспроизводимы:\n",
    "!pip freeze > requirements.txt"
   ]
  },
  {
   "cell_type": "markdown",
   "metadata": {},
   "source": [
    "# DATA\n",
    "\n",
    "Загрузим основные и дополнительные данные"
   ]
  },
  {
   "cell_type": "code",
   "execution_count": 3,
   "metadata": {
    "_cell_guid": "79c7e3d0-c299-4dcb-8224-4455121ee9b0",
    "_uuid": "d629ff2d2480ee46fbb7e2d37f6b5fab8052498a"
   },
   "outputs": [],
   "source": [
    "DATA_DIR = '.'\n",
    "df_train = pd.read_csv(DATA_DIR + '/main_task.csv')\n",
    "df_test = pd.read_csv(DATA_DIR + '/kaggle_task.csv')\n",
    "sample_submission = pd.read_csv(DATA_DIR + '/sample_submission.csv')\n",
    "\n",
    "df_cities = pd.read_csv('./worldcities.csv')"
   ]
  },
  {
   "cell_type": "code",
   "execution_count": 4,
   "metadata": {},
   "outputs": [
    {
     "data": {
      "text/html": [
       "<div>\n",
       "<style scoped>\n",
       "    .dataframe tbody tr th:only-of-type {\n",
       "        vertical-align: middle;\n",
       "    }\n",
       "\n",
       "    .dataframe tbody tr th {\n",
       "        vertical-align: top;\n",
       "    }\n",
       "\n",
       "    .dataframe thead th {\n",
       "        text-align: right;\n",
       "    }\n",
       "</style>\n",
       "<table border=\"1\" class=\"dataframe\">\n",
       "  <thead>\n",
       "    <tr style=\"text-align: right;\">\n",
       "      <th></th>\n",
       "      <th>Restaurant_id</th>\n",
       "      <th>City</th>\n",
       "      <th>Cuisine Style</th>\n",
       "      <th>Ranking</th>\n",
       "      <th>Rating</th>\n",
       "      <th>Price Range</th>\n",
       "      <th>Number of Reviews</th>\n",
       "      <th>Reviews</th>\n",
       "      <th>URL_TA</th>\n",
       "      <th>ID_TA</th>\n",
       "    </tr>\n",
       "  </thead>\n",
       "  <tbody>\n",
       "    <tr>\n",
       "      <th>33841</th>\n",
       "      <td>id_411</td>\n",
       "      <td>Munich</td>\n",
       "      <td>['French', 'European', 'Vegetarian Friendly']</td>\n",
       "      <td>414.0</td>\n",
       "      <td>4.5</td>\n",
       "      <td>$$ - $$$</td>\n",
       "      <td>64.0</td>\n",
       "      <td>[['Gorgeous', 'Wonderful Crepes and Cider'], [...</td>\n",
       "      <td>/Restaurant_Review-g187309-d3483466-Reviews-Cr...</td>\n",
       "      <td>d3483466</td>\n",
       "    </tr>\n",
       "    <tr>\n",
       "      <th>23613</th>\n",
       "      <td>id_5803</td>\n",
       "      <td>Milan</td>\n",
       "      <td>NaN</td>\n",
       "      <td>5806.0</td>\n",
       "      <td>2.5</td>\n",
       "      <td>NaN</td>\n",
       "      <td>3.0</td>\n",
       "      <td>[[], []]</td>\n",
       "      <td>/Restaurant_Review-g187849-d11643638-Reviews-T...</td>\n",
       "      <td>d11643638</td>\n",
       "    </tr>\n",
       "    <tr>\n",
       "      <th>6470</th>\n",
       "      <td>id_5594</td>\n",
       "      <td>Paris</td>\n",
       "      <td>['Italian', 'European', 'Pizza']</td>\n",
       "      <td>5595.0</td>\n",
       "      <td>3.5</td>\n",
       "      <td>$$ - $$$</td>\n",
       "      <td>101.0</td>\n",
       "      <td>[['Nice pasta in quint restaurant', 'A reasona...</td>\n",
       "      <td>/Restaurant_Review-g187147-d5888829-Reviews-Vi...</td>\n",
       "      <td>d5888829</td>\n",
       "    </tr>\n",
       "    <tr>\n",
       "      <th>38902</th>\n",
       "      <td>id_4397</td>\n",
       "      <td>Paris</td>\n",
       "      <td>['French']</td>\n",
       "      <td>4398.0</td>\n",
       "      <td>4.0</td>\n",
       "      <td>$$ - $$$</td>\n",
       "      <td>44.0</td>\n",
       "      <td>[['Typical bistrot offering good food and ext....</td>\n",
       "      <td>/Restaurant_Review-g187147-d4664062-Reviews-Le...</td>\n",
       "      <td>d4664062</td>\n",
       "    </tr>\n",
       "    <tr>\n",
       "      <th>21414</th>\n",
       "      <td>id_10351</td>\n",
       "      <td>London</td>\n",
       "      <td>['Cafe', 'British']</td>\n",
       "      <td>10360.0</td>\n",
       "      <td>3.5</td>\n",
       "      <td>$</td>\n",
       "      <td>156.0</td>\n",
       "      <td>[['Nice place', 'Ok but greasy as hell'], ['11...</td>\n",
       "      <td>/Restaurant_Review-g186338-d1480861-Reviews-Em...</td>\n",
       "      <td>d1480861</td>\n",
       "    </tr>\n",
       "  </tbody>\n",
       "</table>\n",
       "</div>"
      ],
      "text/plain": [
       "      Restaurant_id    City                                  Cuisine Style  \\\n",
       "33841        id_411  Munich  ['French', 'European', 'Vegetarian Friendly']   \n",
       "23613       id_5803   Milan                                            NaN   \n",
       "6470        id_5594   Paris               ['Italian', 'European', 'Pizza']   \n",
       "38902       id_4397   Paris                                     ['French']   \n",
       "21414      id_10351  London                            ['Cafe', 'British']   \n",
       "\n",
       "       Ranking  Rating Price Range  Number of Reviews  \\\n",
       "33841    414.0     4.5    $$ - $$$               64.0   \n",
       "23613   5806.0     2.5         NaN                3.0   \n",
       "6470    5595.0     3.5    $$ - $$$              101.0   \n",
       "38902   4398.0     4.0    $$ - $$$               44.0   \n",
       "21414  10360.0     3.5           $              156.0   \n",
       "\n",
       "                                                 Reviews  \\\n",
       "33841  [['Gorgeous', 'Wonderful Crepes and Cider'], [...   \n",
       "23613                                           [[], []]   \n",
       "6470   [['Nice pasta in quint restaurant', 'A reasona...   \n",
       "38902  [['Typical bistrot offering good food and ext....   \n",
       "21414  [['Nice place', 'Ok but greasy as hell'], ['11...   \n",
       "\n",
       "                                                  URL_TA      ID_TA  \n",
       "33841  /Restaurant_Review-g187309-d3483466-Reviews-Cr...   d3483466  \n",
       "23613  /Restaurant_Review-g187849-d11643638-Reviews-T...  d11643638  \n",
       "6470   /Restaurant_Review-g187147-d5888829-Reviews-Vi...   d5888829  \n",
       "38902  /Restaurant_Review-g187147-d4664062-Reviews-Le...   d4664062  \n",
       "21414  /Restaurant_Review-g186338-d1480861-Reviews-Em...   d1480861  "
      ]
     },
     "execution_count": 4,
     "metadata": {},
     "output_type": "execute_result"
    }
   ],
   "source": [
    "df_train.sample(5)"
   ]
  },
  {
   "cell_type": "code",
   "execution_count": 5,
   "metadata": {},
   "outputs": [
    {
     "data": {
      "text/html": [
       "<div>\n",
       "<style scoped>\n",
       "    .dataframe tbody tr th:only-of-type {\n",
       "        vertical-align: middle;\n",
       "    }\n",
       "\n",
       "    .dataframe tbody tr th {\n",
       "        vertical-align: top;\n",
       "    }\n",
       "\n",
       "    .dataframe thead th {\n",
       "        text-align: right;\n",
       "    }\n",
       "</style>\n",
       "<table border=\"1\" class=\"dataframe\">\n",
       "  <thead>\n",
       "    <tr style=\"text-align: right;\">\n",
       "      <th></th>\n",
       "      <th>Restaurant_id</th>\n",
       "      <th>City</th>\n",
       "      <th>Cuisine Style</th>\n",
       "      <th>Ranking</th>\n",
       "      <th>Price Range</th>\n",
       "      <th>Number of Reviews</th>\n",
       "      <th>Reviews</th>\n",
       "      <th>URL_TA</th>\n",
       "      <th>ID_TA</th>\n",
       "    </tr>\n",
       "  </thead>\n",
       "  <tbody>\n",
       "    <tr>\n",
       "      <th>7260</th>\n",
       "      <td>id_7260</td>\n",
       "      <td>Vienna</td>\n",
       "      <td>['German', 'Austrian', 'Bar', 'European', 'Pub...</td>\n",
       "      <td>130.0</td>\n",
       "      <td>$$ - $$$</td>\n",
       "      <td>481.0</td>\n",
       "      <td>[['Non-smoking area completly separated', 'Din...</td>\n",
       "      <td>/Restaurant_Review-g190454-d1830549-Reviews-Ma...</td>\n",
       "      <td>d1830549</td>\n",
       "    </tr>\n",
       "    <tr>\n",
       "      <th>9426</th>\n",
       "      <td>id_9426</td>\n",
       "      <td>London</td>\n",
       "      <td>['Bar', 'British', 'Pub']</td>\n",
       "      <td>6251.0</td>\n",
       "      <td>$$ - $$$</td>\n",
       "      <td>95.0</td>\n",
       "      <td>[['Evening Out', 'Lovely'], ['11/29/2017', '02...</td>\n",
       "      <td>/Restaurant_Review-g186338-d2525651-Reviews-Go...</td>\n",
       "      <td>d2525651</td>\n",
       "    </tr>\n",
       "    <tr>\n",
       "      <th>9063</th>\n",
       "      <td>id_9063</td>\n",
       "      <td>Budapest</td>\n",
       "      <td>['European', 'Seafood', 'Grill', 'Hungarian']</td>\n",
       "      <td>1127.0</td>\n",
       "      <td>$$ - $$$</td>\n",
       "      <td>22.0</td>\n",
       "      <td>[['Too high price for bad quality', 'Tradition...</td>\n",
       "      <td>/Restaurant_Review-g274887-d7804840-Reviews-He...</td>\n",
       "      <td>d7804840</td>\n",
       "    </tr>\n",
       "    <tr>\n",
       "      <th>2625</th>\n",
       "      <td>id_2625</td>\n",
       "      <td>Barcelona</td>\n",
       "      <td>['Mediterranean', 'Spanish', 'European']</td>\n",
       "      <td>6048.0</td>\n",
       "      <td>$</td>\n",
       "      <td>46.0</td>\n",
       "      <td>[['Why not', 'une honte'], ['08/15/2017', '08/...</td>\n",
       "      <td>/Restaurant_Review-g187497-d986365-Reviews-Res...</td>\n",
       "      <td>d986365</td>\n",
       "    </tr>\n",
       "    <tr>\n",
       "      <th>6293</th>\n",
       "      <td>id_6293</td>\n",
       "      <td>Paris</td>\n",
       "      <td>['French']</td>\n",
       "      <td>8874.0</td>\n",
       "      <td>$$ - $$$</td>\n",
       "      <td>13.0</td>\n",
       "      <td>[['Good Italian food in Paris', 'Very nice foo...</td>\n",
       "      <td>/Restaurant_Review-g187147-d3159249-Reviews-Ca...</td>\n",
       "      <td>d3159249</td>\n",
       "    </tr>\n",
       "  </tbody>\n",
       "</table>\n",
       "</div>"
      ],
      "text/plain": [
       "     Restaurant_id       City  \\\n",
       "7260       id_7260     Vienna   \n",
       "9426       id_9426     London   \n",
       "9063       id_9063   Budapest   \n",
       "2625       id_2625  Barcelona   \n",
       "6293       id_6293      Paris   \n",
       "\n",
       "                                          Cuisine Style  Ranking Price Range  \\\n",
       "7260  ['German', 'Austrian', 'Bar', 'European', 'Pub...    130.0    $$ - $$$   \n",
       "9426                          ['Bar', 'British', 'Pub']   6251.0    $$ - $$$   \n",
       "9063      ['European', 'Seafood', 'Grill', 'Hungarian']   1127.0    $$ - $$$   \n",
       "2625           ['Mediterranean', 'Spanish', 'European']   6048.0           $   \n",
       "6293                                         ['French']   8874.0    $$ - $$$   \n",
       "\n",
       "      Number of Reviews                                            Reviews  \\\n",
       "7260              481.0  [['Non-smoking area completly separated', 'Din...   \n",
       "9426               95.0  [['Evening Out', 'Lovely'], ['11/29/2017', '02...   \n",
       "9063               22.0  [['Too high price for bad quality', 'Tradition...   \n",
       "2625               46.0  [['Why not', 'une honte'], ['08/15/2017', '08/...   \n",
       "6293               13.0  [['Good Italian food in Paris', 'Very nice foo...   \n",
       "\n",
       "                                                 URL_TA     ID_TA  \n",
       "7260  /Restaurant_Review-g190454-d1830549-Reviews-Ma...  d1830549  \n",
       "9426  /Restaurant_Review-g186338-d2525651-Reviews-Go...  d2525651  \n",
       "9063  /Restaurant_Review-g274887-d7804840-Reviews-He...  d7804840  \n",
       "2625  /Restaurant_Review-g187497-d986365-Reviews-Res...   d986365  \n",
       "6293  /Restaurant_Review-g187147-d3159249-Reviews-Ca...  d3159249  "
      ]
     },
     "execution_count": 5,
     "metadata": {},
     "output_type": "execute_result"
    }
   ],
   "source": [
    "df_test.sample(5)"
   ]
  },
  {
   "cell_type": "code",
   "execution_count": 6,
   "metadata": {},
   "outputs": [
    {
     "data": {
      "text/html": [
       "<div>\n",
       "<style scoped>\n",
       "    .dataframe tbody tr th:only-of-type {\n",
       "        vertical-align: middle;\n",
       "    }\n",
       "\n",
       "    .dataframe tbody tr th {\n",
       "        vertical-align: top;\n",
       "    }\n",
       "\n",
       "    .dataframe thead th {\n",
       "        text-align: right;\n",
       "    }\n",
       "</style>\n",
       "<table border=\"1\" class=\"dataframe\">\n",
       "  <thead>\n",
       "    <tr style=\"text-align: right;\">\n",
       "      <th></th>\n",
       "      <th>Restaurant_id</th>\n",
       "      <th>Rating</th>\n",
       "    </tr>\n",
       "  </thead>\n",
       "  <tbody>\n",
       "    <tr>\n",
       "      <th>0</th>\n",
       "      <td>id_0</td>\n",
       "      <td>2.0</td>\n",
       "    </tr>\n",
       "    <tr>\n",
       "      <th>1</th>\n",
       "      <td>id_1</td>\n",
       "      <td>2.5</td>\n",
       "    </tr>\n",
       "    <tr>\n",
       "      <th>2</th>\n",
       "      <td>id_2</td>\n",
       "      <td>4.0</td>\n",
       "    </tr>\n",
       "    <tr>\n",
       "      <th>3</th>\n",
       "      <td>id_3</td>\n",
       "      <td>1.0</td>\n",
       "    </tr>\n",
       "    <tr>\n",
       "      <th>4</th>\n",
       "      <td>id_4</td>\n",
       "      <td>4.0</td>\n",
       "    </tr>\n",
       "  </tbody>\n",
       "</table>\n",
       "</div>"
      ],
      "text/plain": [
       "  Restaurant_id  Rating\n",
       "0          id_0     2.0\n",
       "1          id_1     2.5\n",
       "2          id_2     4.0\n",
       "3          id_3     1.0\n",
       "4          id_4     4.0"
      ]
     },
     "execution_count": 6,
     "metadata": {},
     "output_type": "execute_result"
    }
   ],
   "source": [
    "sample_submission.head(5)"
   ]
  },
  {
   "cell_type": "code",
   "execution_count": 7,
   "metadata": {},
   "outputs": [],
   "source": [
    "# ВАЖНО! дря корректной обработки признаков объединяем трейн и тест в один датасет\n",
    "df_train['sample'] = 1 # помечаем где у нас трейн\n",
    "df_test['sample'] = 0 # помечаем где у нас тест\n",
    "df_test['Rating'] = 0 # в тесте у нас нет значения Rating, мы его должны предсказать, по этому пока просто заполняем нулями\n",
    "\n",
    "data = df_test.append(df_train, sort=False).reset_index(drop=True) # объединяем"
   ]
  },
  {
   "cell_type": "code",
   "execution_count": 8,
   "metadata": {},
   "outputs": [
    {
     "name": "stdout",
     "output_type": "stream",
     "text": [
      "<class 'pandas.core.frame.DataFrame'>\n",
      "RangeIndex: 50000 entries, 0 to 49999\n",
      "Data columns (total 11 columns):\n",
      "Restaurant_id        50000 non-null object\n",
      "City                 50000 non-null object\n",
      "Cuisine Style        38410 non-null object\n",
      "Ranking              50000 non-null float64\n",
      "Price Range          32639 non-null object\n",
      "Number of Reviews    46800 non-null float64\n",
      "Reviews              49998 non-null object\n",
      "URL_TA               50000 non-null object\n",
      "ID_TA                50000 non-null object\n",
      "sample               50000 non-null int64\n",
      "Rating               50000 non-null float64\n",
      "dtypes: float64(3), int64(1), object(7)\n",
      "memory usage: 4.2+ MB\n"
     ]
    }
   ],
   "source": [
    "data.info()"
   ]
  },
  {
   "cell_type": "code",
   "execution_count": 9,
   "metadata": {},
   "outputs": [],
   "source": [
    "# Выносим в блок предобработки\n",
    "\n",
    "# Приведем наименования признаков к единому виду: 1. без заглавных букв 2. внесто пробелов нижнее подчеркивание\n",
    "data.columns = [x.lower().replace(' ', '_') for x in data.columns]"
   ]
  },
  {
   "cell_type": "code",
   "execution_count": 10,
   "metadata": {},
   "outputs": [
    {
     "data": {
      "text/html": [
       "<div>\n",
       "<style scoped>\n",
       "    .dataframe tbody tr th:only-of-type {\n",
       "        vertical-align: middle;\n",
       "    }\n",
       "\n",
       "    .dataframe tbody tr th {\n",
       "        vertical-align: top;\n",
       "    }\n",
       "\n",
       "    .dataframe thead th {\n",
       "        text-align: right;\n",
       "    }\n",
       "</style>\n",
       "<table border=\"1\" class=\"dataframe\">\n",
       "  <thead>\n",
       "    <tr style=\"text-align: right;\">\n",
       "      <th></th>\n",
       "      <th>restaurant_id</th>\n",
       "      <th>city</th>\n",
       "      <th>cuisine_style</th>\n",
       "      <th>ranking</th>\n",
       "      <th>price_range</th>\n",
       "      <th>number_of_reviews</th>\n",
       "      <th>reviews</th>\n",
       "      <th>url_ta</th>\n",
       "      <th>id_ta</th>\n",
       "      <th>sample</th>\n",
       "      <th>rating</th>\n",
       "    </tr>\n",
       "  </thead>\n",
       "  <tbody>\n",
       "    <tr>\n",
       "      <th>0</th>\n",
       "      <td>id_0</td>\n",
       "      <td>Paris</td>\n",
       "      <td>['Bar', 'Pub']</td>\n",
       "      <td>12963.0</td>\n",
       "      <td>$$ - $$$</td>\n",
       "      <td>4.0</td>\n",
       "      <td>[[], []]</td>\n",
       "      <td>/Restaurant_Review-g187147-d10746918-Reviews-L...</td>\n",
       "      <td>d10746918</td>\n",
       "      <td>0</td>\n",
       "      <td>0.0</td>\n",
       "    </tr>\n",
       "    <tr>\n",
       "      <th>1</th>\n",
       "      <td>id_1</td>\n",
       "      <td>Helsinki</td>\n",
       "      <td>['European', 'Scandinavian', 'Gluten Free Opti...</td>\n",
       "      <td>106.0</td>\n",
       "      <td>$$ - $$$</td>\n",
       "      <td>97.0</td>\n",
       "      <td>[['Very good reviews!', 'Fine dining in Hakani...</td>\n",
       "      <td>/Restaurant_Review-g189934-d6674944-Reviews-Ra...</td>\n",
       "      <td>d6674944</td>\n",
       "      <td>0</td>\n",
       "      <td>0.0</td>\n",
       "    </tr>\n",
       "    <tr>\n",
       "      <th>2</th>\n",
       "      <td>id_2</td>\n",
       "      <td>Edinburgh</td>\n",
       "      <td>['Vegetarian Friendly']</td>\n",
       "      <td>810.0</td>\n",
       "      <td>$$ - $$$</td>\n",
       "      <td>28.0</td>\n",
       "      <td>[['Better than the Links', 'Ivy Black'], ['12/...</td>\n",
       "      <td>/Restaurant_Review-g186525-d13129638-Reviews-B...</td>\n",
       "      <td>d13129638</td>\n",
       "      <td>0</td>\n",
       "      <td>0.0</td>\n",
       "    </tr>\n",
       "    <tr>\n",
       "      <th>3</th>\n",
       "      <td>id_3</td>\n",
       "      <td>London</td>\n",
       "      <td>['Italian', 'Mediterranean', 'European', 'Vege...</td>\n",
       "      <td>1669.0</td>\n",
       "      <td>$$$$</td>\n",
       "      <td>202.0</td>\n",
       "      <td>[['Most exquisite', 'Delicious and authentic']...</td>\n",
       "      <td>/Restaurant_Review-g186338-d680417-Reviews-Qui...</td>\n",
       "      <td>d680417</td>\n",
       "      <td>0</td>\n",
       "      <td>0.0</td>\n",
       "    </tr>\n",
       "    <tr>\n",
       "      <th>4</th>\n",
       "      <td>id_4</td>\n",
       "      <td>Bratislava</td>\n",
       "      <td>['Italian', 'Mediterranean', 'European', 'Seaf...</td>\n",
       "      <td>37.0</td>\n",
       "      <td>$$$$</td>\n",
       "      <td>162.0</td>\n",
       "      <td>[['Always the best in bratislava', 'Very good ...</td>\n",
       "      <td>/Restaurant_Review-g274924-d1112354-Reviews-Ma...</td>\n",
       "      <td>d1112354</td>\n",
       "      <td>0</td>\n",
       "      <td>0.0</td>\n",
       "    </tr>\n",
       "    <tr>\n",
       "      <th>...</th>\n",
       "      <td>...</td>\n",
       "      <td>...</td>\n",
       "      <td>...</td>\n",
       "      <td>...</td>\n",
       "      <td>...</td>\n",
       "      <td>...</td>\n",
       "      <td>...</td>\n",
       "      <td>...</td>\n",
       "      <td>...</td>\n",
       "      <td>...</td>\n",
       "      <td>...</td>\n",
       "    </tr>\n",
       "    <tr>\n",
       "      <th>49995</th>\n",
       "      <td>id_499</td>\n",
       "      <td>Milan</td>\n",
       "      <td>['Italian', 'Vegetarian Friendly', 'Vegan Opti...</td>\n",
       "      <td>500.0</td>\n",
       "      <td>$$ - $$$</td>\n",
       "      <td>79.0</td>\n",
       "      <td>[['The real Italian experience!', 'Wonderful f...</td>\n",
       "      <td>/Restaurant_Review-g187849-d2104414-Reviews-Ro...</td>\n",
       "      <td>d2104414</td>\n",
       "      <td>1</td>\n",
       "      <td>4.5</td>\n",
       "    </tr>\n",
       "    <tr>\n",
       "      <th>49996</th>\n",
       "      <td>id_6340</td>\n",
       "      <td>Paris</td>\n",
       "      <td>['French', 'American', 'Bar', 'European', 'Veg...</td>\n",
       "      <td>6341.0</td>\n",
       "      <td>$$ - $$$</td>\n",
       "      <td>542.0</td>\n",
       "      <td>[['Parisian atmosphere', 'Bit pricey but inter...</td>\n",
       "      <td>/Restaurant_Review-g187147-d1800036-Reviews-La...</td>\n",
       "      <td>d1800036</td>\n",
       "      <td>1</td>\n",
       "      <td>3.5</td>\n",
       "    </tr>\n",
       "    <tr>\n",
       "      <th>49997</th>\n",
       "      <td>id_1649</td>\n",
       "      <td>Stockholm</td>\n",
       "      <td>['Japanese', 'Sushi']</td>\n",
       "      <td>1652.0</td>\n",
       "      <td>NaN</td>\n",
       "      <td>4.0</td>\n",
       "      <td>[['Good by swedish standards', 'A hidden jewel...</td>\n",
       "      <td>/Restaurant_Review-g189852-d947615-Reviews-Sus...</td>\n",
       "      <td>d947615</td>\n",
       "      <td>1</td>\n",
       "      <td>4.5</td>\n",
       "    </tr>\n",
       "    <tr>\n",
       "      <th>49998</th>\n",
       "      <td>id_640</td>\n",
       "      <td>Warsaw</td>\n",
       "      <td>['Polish', 'European', 'Eastern European', 'Ce...</td>\n",
       "      <td>641.0</td>\n",
       "      <td>$$ - $$$</td>\n",
       "      <td>70.0</td>\n",
       "      <td>[['Underground restaurant', 'Oldest Restaurant...</td>\n",
       "      <td>/Restaurant_Review-g274856-d1100838-Reviews-Ho...</td>\n",
       "      <td>d1100838</td>\n",
       "      <td>1</td>\n",
       "      <td>4.0</td>\n",
       "    </tr>\n",
       "    <tr>\n",
       "      <th>49999</th>\n",
       "      <td>id_4824</td>\n",
       "      <td>Milan</td>\n",
       "      <td>['Spanish']</td>\n",
       "      <td>4827.0</td>\n",
       "      <td>$$ - $$$</td>\n",
       "      <td>260.0</td>\n",
       "      <td>[['Average', 'Nice an informal'], ['01/31/2016...</td>\n",
       "      <td>/Restaurant_Review-g187849-d1109020-Reviews-Ta...</td>\n",
       "      <td>d1109020</td>\n",
       "      <td>1</td>\n",
       "      <td>3.0</td>\n",
       "    </tr>\n",
       "  </tbody>\n",
       "</table>\n",
       "<p>50000 rows × 11 columns</p>\n",
       "</div>"
      ],
      "text/plain": [
       "      restaurant_id        city  \\\n",
       "0              id_0       Paris   \n",
       "1              id_1    Helsinki   \n",
       "2              id_2   Edinburgh   \n",
       "3              id_3      London   \n",
       "4              id_4  Bratislava   \n",
       "...             ...         ...   \n",
       "49995        id_499       Milan   \n",
       "49996       id_6340       Paris   \n",
       "49997       id_1649   Stockholm   \n",
       "49998        id_640      Warsaw   \n",
       "49999       id_4824       Milan   \n",
       "\n",
       "                                           cuisine_style  ranking price_range  \\\n",
       "0                                         ['Bar', 'Pub']  12963.0    $$ - $$$   \n",
       "1      ['European', 'Scandinavian', 'Gluten Free Opti...    106.0    $$ - $$$   \n",
       "2                                ['Vegetarian Friendly']    810.0    $$ - $$$   \n",
       "3      ['Italian', 'Mediterranean', 'European', 'Vege...   1669.0        $$$$   \n",
       "4      ['Italian', 'Mediterranean', 'European', 'Seaf...     37.0        $$$$   \n",
       "...                                                  ...      ...         ...   \n",
       "49995  ['Italian', 'Vegetarian Friendly', 'Vegan Opti...    500.0    $$ - $$$   \n",
       "49996  ['French', 'American', 'Bar', 'European', 'Veg...   6341.0    $$ - $$$   \n",
       "49997                              ['Japanese', 'Sushi']   1652.0         NaN   \n",
       "49998  ['Polish', 'European', 'Eastern European', 'Ce...    641.0    $$ - $$$   \n",
       "49999                                        ['Spanish']   4827.0    $$ - $$$   \n",
       "\n",
       "       number_of_reviews                                            reviews  \\\n",
       "0                    4.0                                           [[], []]   \n",
       "1                   97.0  [['Very good reviews!', 'Fine dining in Hakani...   \n",
       "2                   28.0  [['Better than the Links', 'Ivy Black'], ['12/...   \n",
       "3                  202.0  [['Most exquisite', 'Delicious and authentic']...   \n",
       "4                  162.0  [['Always the best in bratislava', 'Very good ...   \n",
       "...                  ...                                                ...   \n",
       "49995               79.0  [['The real Italian experience!', 'Wonderful f...   \n",
       "49996              542.0  [['Parisian atmosphere', 'Bit pricey but inter...   \n",
       "49997                4.0  [['Good by swedish standards', 'A hidden jewel...   \n",
       "49998               70.0  [['Underground restaurant', 'Oldest Restaurant...   \n",
       "49999              260.0  [['Average', 'Nice an informal'], ['01/31/2016...   \n",
       "\n",
       "                                                  url_ta      id_ta  sample  \\\n",
       "0      /Restaurant_Review-g187147-d10746918-Reviews-L...  d10746918       0   \n",
       "1      /Restaurant_Review-g189934-d6674944-Reviews-Ra...   d6674944       0   \n",
       "2      /Restaurant_Review-g186525-d13129638-Reviews-B...  d13129638       0   \n",
       "3      /Restaurant_Review-g186338-d680417-Reviews-Qui...    d680417       0   \n",
       "4      /Restaurant_Review-g274924-d1112354-Reviews-Ma...   d1112354       0   \n",
       "...                                                  ...        ...     ...   \n",
       "49995  /Restaurant_Review-g187849-d2104414-Reviews-Ro...   d2104414       1   \n",
       "49996  /Restaurant_Review-g187147-d1800036-Reviews-La...   d1800036       1   \n",
       "49997  /Restaurant_Review-g189852-d947615-Reviews-Sus...    d947615       1   \n",
       "49998  /Restaurant_Review-g274856-d1100838-Reviews-Ho...   d1100838       1   \n",
       "49999  /Restaurant_Review-g187849-d1109020-Reviews-Ta...   d1109020       1   \n",
       "\n",
       "       rating  \n",
       "0         0.0  \n",
       "1         0.0  \n",
       "2         0.0  \n",
       "3         0.0  \n",
       "4         0.0  \n",
       "...       ...  \n",
       "49995     4.5  \n",
       "49996     3.5  \n",
       "49997     4.5  \n",
       "49998     4.0  \n",
       "49999     3.0  \n",
       "\n",
       "[50000 rows x 11 columns]"
      ]
     },
     "execution_count": 10,
     "metadata": {},
     "output_type": "execute_result"
    }
   ],
   "source": [
    "data"
   ]
  },
  {
   "cell_type": "markdown",
   "metadata": {},
   "source": [
    "### Добавим к нашему датасету еще один с информацией по городам."
   ]
  },
  {
   "cell_type": "code",
   "execution_count": 11,
   "metadata": {},
   "outputs": [
    {
     "name": "stdout",
     "output_type": "stream",
     "text": [
      "Oporto\n"
     ]
    }
   ],
   "source": [
    "# Проверим, что все города упомянутые в исходном датасете города есть в информации по городам\n",
    "all_ct = list(df_cities['city_ascii'].unique())\n",
    "ct = list(data['city'].unique())\n",
    "\n",
    "for item in ct:\n",
    "    if item not in all_ct:\n",
    "        print(item)"
   ]
  },
  {
   "cell_type": "code",
   "execution_count": 12,
   "metadata": {},
   "outputs": [],
   "source": [
    "# Вынесем в предобработку в виде отдельной функции merge_city_info()\n",
    "\n",
    "# Oporto нет в датасете с информацией по городам. Но есть город Porto, что одно и тоже. Заменим Porto на Oporto\n",
    "df_cities.loc[df_cities['city_ascii'] == 'Porto', 'city_ascii'] = 'Oporto'\n",
    "\n",
    "# Выделим в отдельный датасет \n",
    "ct = list(data['city'].unique()) # 1. только те города, которые нам понадобятся\n",
    "not_cntr = ['Venezuela','United States', 'Canada'] # 2. исключим страны НЕ Европы\n",
    "\n",
    "cities = df_cities.query(f'city_ascii in {ct} and country not in {not_cntr}')[['city_ascii', 'country', 'capital', 'population']]\n",
    "\n",
    "# Добавляем к нашему датасету доп информацию по городам\n",
    "# Важно! how='left' - так не сбивается порядок строк, иначе они перемешаются и public score будет нехорошим\n",
    "data = pd.merge(data, cities, how='left', left_on='city', right_on='city_ascii', sort=False)"
   ]
  },
  {
   "cell_type": "code",
   "execution_count": 13,
   "metadata": {},
   "outputs": [
    {
     "data": {
      "text/html": [
       "<div>\n",
       "<style scoped>\n",
       "    .dataframe tbody tr th:only-of-type {\n",
       "        vertical-align: middle;\n",
       "    }\n",
       "\n",
       "    .dataframe tbody tr th {\n",
       "        vertical-align: top;\n",
       "    }\n",
       "\n",
       "    .dataframe thead th {\n",
       "        text-align: right;\n",
       "    }\n",
       "</style>\n",
       "<table border=\"1\" class=\"dataframe\">\n",
       "  <thead>\n",
       "    <tr style=\"text-align: right;\">\n",
       "      <th></th>\n",
       "      <th>restaurant_id</th>\n",
       "      <th>city</th>\n",
       "      <th>cuisine_style</th>\n",
       "      <th>ranking</th>\n",
       "      <th>price_range</th>\n",
       "      <th>number_of_reviews</th>\n",
       "      <th>reviews</th>\n",
       "      <th>url_ta</th>\n",
       "      <th>id_ta</th>\n",
       "      <th>sample</th>\n",
       "      <th>rating</th>\n",
       "      <th>city_ascii</th>\n",
       "      <th>country</th>\n",
       "      <th>capital</th>\n",
       "      <th>population</th>\n",
       "    </tr>\n",
       "  </thead>\n",
       "  <tbody>\n",
       "    <tr>\n",
       "      <th>0</th>\n",
       "      <td>id_0</td>\n",
       "      <td>Paris</td>\n",
       "      <td>['Bar', 'Pub']</td>\n",
       "      <td>12963.0</td>\n",
       "      <td>$$ - $$$</td>\n",
       "      <td>4.0</td>\n",
       "      <td>[[], []]</td>\n",
       "      <td>/Restaurant_Review-g187147-d10746918-Reviews-L...</td>\n",
       "      <td>d10746918</td>\n",
       "      <td>0</td>\n",
       "      <td>0.0</td>\n",
       "      <td>Paris</td>\n",
       "      <td>France</td>\n",
       "      <td>primary</td>\n",
       "      <td>11020000.0</td>\n",
       "    </tr>\n",
       "    <tr>\n",
       "      <th>1</th>\n",
       "      <td>id_1</td>\n",
       "      <td>Helsinki</td>\n",
       "      <td>['European', 'Scandinavian', 'Gluten Free Opti...</td>\n",
       "      <td>106.0</td>\n",
       "      <td>$$ - $$$</td>\n",
       "      <td>97.0</td>\n",
       "      <td>[['Very good reviews!', 'Fine dining in Hakani...</td>\n",
       "      <td>/Restaurant_Review-g189934-d6674944-Reviews-Ra...</td>\n",
       "      <td>d6674944</td>\n",
       "      <td>0</td>\n",
       "      <td>0.0</td>\n",
       "      <td>Helsinki</td>\n",
       "      <td>Finland</td>\n",
       "      <td>primary</td>\n",
       "      <td>642045.0</td>\n",
       "    </tr>\n",
       "    <tr>\n",
       "      <th>2</th>\n",
       "      <td>id_2</td>\n",
       "      <td>Edinburgh</td>\n",
       "      <td>['Vegetarian Friendly']</td>\n",
       "      <td>810.0</td>\n",
       "      <td>$$ - $$$</td>\n",
       "      <td>28.0</td>\n",
       "      <td>[['Better than the Links', 'Ivy Black'], ['12/...</td>\n",
       "      <td>/Restaurant_Review-g186525-d13129638-Reviews-B...</td>\n",
       "      <td>d13129638</td>\n",
       "      <td>0</td>\n",
       "      <td>0.0</td>\n",
       "      <td>Edinburgh</td>\n",
       "      <td>United Kingdom</td>\n",
       "      <td>NaN</td>\n",
       "      <td>488050.0</td>\n",
       "    </tr>\n",
       "    <tr>\n",
       "      <th>3</th>\n",
       "      <td>id_3</td>\n",
       "      <td>London</td>\n",
       "      <td>['Italian', 'Mediterranean', 'European', 'Vege...</td>\n",
       "      <td>1669.0</td>\n",
       "      <td>$$$$</td>\n",
       "      <td>202.0</td>\n",
       "      <td>[['Most exquisite', 'Delicious and authentic']...</td>\n",
       "      <td>/Restaurant_Review-g186338-d680417-Reviews-Qui...</td>\n",
       "      <td>d680417</td>\n",
       "      <td>0</td>\n",
       "      <td>0.0</td>\n",
       "      <td>London</td>\n",
       "      <td>United Kingdom</td>\n",
       "      <td>primary</td>\n",
       "      <td>10979000.0</td>\n",
       "    </tr>\n",
       "    <tr>\n",
       "      <th>4</th>\n",
       "      <td>id_4</td>\n",
       "      <td>Bratislava</td>\n",
       "      <td>['Italian', 'Mediterranean', 'European', 'Seaf...</td>\n",
       "      <td>37.0</td>\n",
       "      <td>$$$$</td>\n",
       "      <td>162.0</td>\n",
       "      <td>[['Always the best in bratislava', 'Very good ...</td>\n",
       "      <td>/Restaurant_Review-g274924-d1112354-Reviews-Ma...</td>\n",
       "      <td>d1112354</td>\n",
       "      <td>0</td>\n",
       "      <td>0.0</td>\n",
       "      <td>Bratislava</td>\n",
       "      <td>Slovakia</td>\n",
       "      <td>primary</td>\n",
       "      <td>429564.0</td>\n",
       "    </tr>\n",
       "    <tr>\n",
       "      <th>...</th>\n",
       "      <td>...</td>\n",
       "      <td>...</td>\n",
       "      <td>...</td>\n",
       "      <td>...</td>\n",
       "      <td>...</td>\n",
       "      <td>...</td>\n",
       "      <td>...</td>\n",
       "      <td>...</td>\n",
       "      <td>...</td>\n",
       "      <td>...</td>\n",
       "      <td>...</td>\n",
       "      <td>...</td>\n",
       "      <td>...</td>\n",
       "      <td>...</td>\n",
       "      <td>...</td>\n",
       "    </tr>\n",
       "    <tr>\n",
       "      <th>49995</th>\n",
       "      <td>id_499</td>\n",
       "      <td>Milan</td>\n",
       "      <td>['Italian', 'Vegetarian Friendly', 'Vegan Opti...</td>\n",
       "      <td>500.0</td>\n",
       "      <td>$$ - $$$</td>\n",
       "      <td>79.0</td>\n",
       "      <td>[['The real Italian experience!', 'Wonderful f...</td>\n",
       "      <td>/Restaurant_Review-g187849-d2104414-Reviews-Ro...</td>\n",
       "      <td>d2104414</td>\n",
       "      <td>1</td>\n",
       "      <td>4.5</td>\n",
       "      <td>Milan</td>\n",
       "      <td>Italy</td>\n",
       "      <td>admin</td>\n",
       "      <td>1351562.0</td>\n",
       "    </tr>\n",
       "    <tr>\n",
       "      <th>49996</th>\n",
       "      <td>id_6340</td>\n",
       "      <td>Paris</td>\n",
       "      <td>['French', 'American', 'Bar', 'European', 'Veg...</td>\n",
       "      <td>6341.0</td>\n",
       "      <td>$$ - $$$</td>\n",
       "      <td>542.0</td>\n",
       "      <td>[['Parisian atmosphere', 'Bit pricey but inter...</td>\n",
       "      <td>/Restaurant_Review-g187147-d1800036-Reviews-La...</td>\n",
       "      <td>d1800036</td>\n",
       "      <td>1</td>\n",
       "      <td>3.5</td>\n",
       "      <td>Paris</td>\n",
       "      <td>France</td>\n",
       "      <td>primary</td>\n",
       "      <td>11020000.0</td>\n",
       "    </tr>\n",
       "    <tr>\n",
       "      <th>49997</th>\n",
       "      <td>id_1649</td>\n",
       "      <td>Stockholm</td>\n",
       "      <td>['Japanese', 'Sushi']</td>\n",
       "      <td>1652.0</td>\n",
       "      <td>NaN</td>\n",
       "      <td>4.0</td>\n",
       "      <td>[['Good by swedish standards', 'A hidden jewel...</td>\n",
       "      <td>/Restaurant_Review-g189852-d947615-Reviews-Sus...</td>\n",
       "      <td>d947615</td>\n",
       "      <td>1</td>\n",
       "      <td>4.5</td>\n",
       "      <td>Stockholm</td>\n",
       "      <td>Sweden</td>\n",
       "      <td>primary</td>\n",
       "      <td>972647.0</td>\n",
       "    </tr>\n",
       "    <tr>\n",
       "      <th>49998</th>\n",
       "      <td>id_640</td>\n",
       "      <td>Warsaw</td>\n",
       "      <td>['Polish', 'European', 'Eastern European', 'Ce...</td>\n",
       "      <td>641.0</td>\n",
       "      <td>$$ - $$$</td>\n",
       "      <td>70.0</td>\n",
       "      <td>[['Underground restaurant', 'Oldest Restaurant...</td>\n",
       "      <td>/Restaurant_Review-g274856-d1100838-Reviews-Ho...</td>\n",
       "      <td>d1100838</td>\n",
       "      <td>1</td>\n",
       "      <td>4.0</td>\n",
       "      <td>Warsaw</td>\n",
       "      <td>Poland</td>\n",
       "      <td>primary</td>\n",
       "      <td>1790658.0</td>\n",
       "    </tr>\n",
       "    <tr>\n",
       "      <th>49999</th>\n",
       "      <td>id_4824</td>\n",
       "      <td>Milan</td>\n",
       "      <td>['Spanish']</td>\n",
       "      <td>4827.0</td>\n",
       "      <td>$$ - $$$</td>\n",
       "      <td>260.0</td>\n",
       "      <td>[['Average', 'Nice an informal'], ['01/31/2016...</td>\n",
       "      <td>/Restaurant_Review-g187849-d1109020-Reviews-Ta...</td>\n",
       "      <td>d1109020</td>\n",
       "      <td>1</td>\n",
       "      <td>3.0</td>\n",
       "      <td>Milan</td>\n",
       "      <td>Italy</td>\n",
       "      <td>admin</td>\n",
       "      <td>1351562.0</td>\n",
       "    </tr>\n",
       "  </tbody>\n",
       "</table>\n",
       "<p>50000 rows × 15 columns</p>\n",
       "</div>"
      ],
      "text/plain": [
       "      restaurant_id        city  \\\n",
       "0              id_0       Paris   \n",
       "1              id_1    Helsinki   \n",
       "2              id_2   Edinburgh   \n",
       "3              id_3      London   \n",
       "4              id_4  Bratislava   \n",
       "...             ...         ...   \n",
       "49995        id_499       Milan   \n",
       "49996       id_6340       Paris   \n",
       "49997       id_1649   Stockholm   \n",
       "49998        id_640      Warsaw   \n",
       "49999       id_4824       Milan   \n",
       "\n",
       "                                           cuisine_style  ranking price_range  \\\n",
       "0                                         ['Bar', 'Pub']  12963.0    $$ - $$$   \n",
       "1      ['European', 'Scandinavian', 'Gluten Free Opti...    106.0    $$ - $$$   \n",
       "2                                ['Vegetarian Friendly']    810.0    $$ - $$$   \n",
       "3      ['Italian', 'Mediterranean', 'European', 'Vege...   1669.0        $$$$   \n",
       "4      ['Italian', 'Mediterranean', 'European', 'Seaf...     37.0        $$$$   \n",
       "...                                                  ...      ...         ...   \n",
       "49995  ['Italian', 'Vegetarian Friendly', 'Vegan Opti...    500.0    $$ - $$$   \n",
       "49996  ['French', 'American', 'Bar', 'European', 'Veg...   6341.0    $$ - $$$   \n",
       "49997                              ['Japanese', 'Sushi']   1652.0         NaN   \n",
       "49998  ['Polish', 'European', 'Eastern European', 'Ce...    641.0    $$ - $$$   \n",
       "49999                                        ['Spanish']   4827.0    $$ - $$$   \n",
       "\n",
       "       number_of_reviews                                            reviews  \\\n",
       "0                    4.0                                           [[], []]   \n",
       "1                   97.0  [['Very good reviews!', 'Fine dining in Hakani...   \n",
       "2                   28.0  [['Better than the Links', 'Ivy Black'], ['12/...   \n",
       "3                  202.0  [['Most exquisite', 'Delicious and authentic']...   \n",
       "4                  162.0  [['Always the best in bratislava', 'Very good ...   \n",
       "...                  ...                                                ...   \n",
       "49995               79.0  [['The real Italian experience!', 'Wonderful f...   \n",
       "49996              542.0  [['Parisian atmosphere', 'Bit pricey but inter...   \n",
       "49997                4.0  [['Good by swedish standards', 'A hidden jewel...   \n",
       "49998               70.0  [['Underground restaurant', 'Oldest Restaurant...   \n",
       "49999              260.0  [['Average', 'Nice an informal'], ['01/31/2016...   \n",
       "\n",
       "                                                  url_ta      id_ta  sample  \\\n",
       "0      /Restaurant_Review-g187147-d10746918-Reviews-L...  d10746918       0   \n",
       "1      /Restaurant_Review-g189934-d6674944-Reviews-Ra...   d6674944       0   \n",
       "2      /Restaurant_Review-g186525-d13129638-Reviews-B...  d13129638       0   \n",
       "3      /Restaurant_Review-g186338-d680417-Reviews-Qui...    d680417       0   \n",
       "4      /Restaurant_Review-g274924-d1112354-Reviews-Ma...   d1112354       0   \n",
       "...                                                  ...        ...     ...   \n",
       "49995  /Restaurant_Review-g187849-d2104414-Reviews-Ro...   d2104414       1   \n",
       "49996  /Restaurant_Review-g187147-d1800036-Reviews-La...   d1800036       1   \n",
       "49997  /Restaurant_Review-g189852-d947615-Reviews-Sus...    d947615       1   \n",
       "49998  /Restaurant_Review-g274856-d1100838-Reviews-Ho...   d1100838       1   \n",
       "49999  /Restaurant_Review-g187849-d1109020-Reviews-Ta...   d1109020       1   \n",
       "\n",
       "       rating  city_ascii         country  capital  population  \n",
       "0         0.0       Paris          France  primary  11020000.0  \n",
       "1         0.0    Helsinki         Finland  primary    642045.0  \n",
       "2         0.0   Edinburgh  United Kingdom      NaN    488050.0  \n",
       "3         0.0      London  United Kingdom  primary  10979000.0  \n",
       "4         0.0  Bratislava        Slovakia  primary    429564.0  \n",
       "...       ...         ...             ...      ...         ...  \n",
       "49995     4.5       Milan           Italy    admin   1351562.0  \n",
       "49996     3.5       Paris          France  primary  11020000.0  \n",
       "49997     4.5   Stockholm          Sweden  primary    972647.0  \n",
       "49998     4.0      Warsaw          Poland  primary   1790658.0  \n",
       "49999     3.0       Milan           Italy    admin   1351562.0  \n",
       "\n",
       "[50000 rows x 15 columns]"
      ]
     },
     "execution_count": 13,
     "metadata": {},
     "output_type": "execute_result"
    }
   ],
   "source": [
    "data"
   ]
  },
  {
   "cell_type": "markdown",
   "metadata": {},
   "source": [
    "Подробнее по признакам:\n",
    "* city: Город \n",
    "* cuisine_style: Кухня\n",
    "* ranking: Ранг ресторана относительно других ресторанов в этом городе\n",
    "* price_range: Цены в ресторане в 3 категориях\n",
    "* number_of_reviews: Количество отзывов\n",
    "* reviews: 2 последних отзыва и даты этих отзывов\n",
    "* url_ta: страница ресторана на 'www.tripadvisor.com' \n",
    "* id_ta: ID ресторана в TripAdvisor\n",
    "* rating: Рейтинг ресторана\n",
    "* city_ascii: Город (дубль city)\n",
    "* capital: Является ли столицей (primary - country's capital, admin - first-level admin, None - not capital)\n",
    "* population: Население города"
   ]
  },
  {
   "cell_type": "code",
   "execution_count": 14,
   "metadata": {},
   "outputs": [
    {
     "data": {
      "text/html": [
       "<div>\n",
       "<style scoped>\n",
       "    .dataframe tbody tr th:only-of-type {\n",
       "        vertical-align: middle;\n",
       "    }\n",
       "\n",
       "    .dataframe tbody tr th {\n",
       "        vertical-align: top;\n",
       "    }\n",
       "\n",
       "    .dataframe thead th {\n",
       "        text-align: right;\n",
       "    }\n",
       "</style>\n",
       "<table border=\"1\" class=\"dataframe\">\n",
       "  <thead>\n",
       "    <tr style=\"text-align: right;\">\n",
       "      <th></th>\n",
       "      <th>restaurant_id</th>\n",
       "      <th>city</th>\n",
       "      <th>cuisine_style</th>\n",
       "      <th>ranking</th>\n",
       "      <th>price_range</th>\n",
       "      <th>number_of_reviews</th>\n",
       "      <th>reviews</th>\n",
       "      <th>url_ta</th>\n",
       "      <th>id_ta</th>\n",
       "      <th>sample</th>\n",
       "      <th>rating</th>\n",
       "      <th>city_ascii</th>\n",
       "      <th>country</th>\n",
       "      <th>capital</th>\n",
       "      <th>population</th>\n",
       "    </tr>\n",
       "  </thead>\n",
       "  <tbody>\n",
       "    <tr>\n",
       "      <th>35113</th>\n",
       "      <td>id_5060</td>\n",
       "      <td>London</td>\n",
       "      <td>['American', 'Vegetarian Friendly']</td>\n",
       "      <td>5069.0</td>\n",
       "      <td>$$ - $$$</td>\n",
       "      <td>181.0</td>\n",
       "      <td>[['Better than many other burgers!', 'A quiet ...</td>\n",
       "      <td>/Restaurant_Review-g186338-d3783928-Reviews-By...</td>\n",
       "      <td>d3783928</td>\n",
       "      <td>1</td>\n",
       "      <td>3.5</td>\n",
       "      <td>London</td>\n",
       "      <td>United Kingdom</td>\n",
       "      <td>primary</td>\n",
       "      <td>10979000.0</td>\n",
       "    </tr>\n",
       "    <tr>\n",
       "      <th>5130</th>\n",
       "      <td>id_5130</td>\n",
       "      <td>Madrid</td>\n",
       "      <td>['Chinese', 'Asian', 'Vegetarian Friendly', 'V...</td>\n",
       "      <td>666.0</td>\n",
       "      <td>$$ - $$$</td>\n",
       "      <td>109.0</td>\n",
       "      <td>[['Extremely close to authentic chinese food!'...</td>\n",
       "      <td>/Restaurant_Review-g187514-d9721997-Reviews-Re...</td>\n",
       "      <td>d9721997</td>\n",
       "      <td>0</td>\n",
       "      <td>0.0</td>\n",
       "      <td>Madrid</td>\n",
       "      <td>Spain</td>\n",
       "      <td>primary</td>\n",
       "      <td>3266126.0</td>\n",
       "    </tr>\n",
       "    <tr>\n",
       "      <th>34776</th>\n",
       "      <td>id_2885</td>\n",
       "      <td>Brussels</td>\n",
       "      <td>['Chinese', 'Japanese', 'Asian', 'Fusion']</td>\n",
       "      <td>2886.0</td>\n",
       "      <td>$</td>\n",
       "      <td>4.0</td>\n",
       "      <td>[['Tasty japanese noodles', 'Mixed experience'...</td>\n",
       "      <td>/Restaurant_Review-g1136501-d11817074-Reviews-...</td>\n",
       "      <td>d11817074</td>\n",
       "      <td>1</td>\n",
       "      <td>4.5</td>\n",
       "      <td>Brussels</td>\n",
       "      <td>Belgium</td>\n",
       "      <td>primary</td>\n",
       "      <td>185103.0</td>\n",
       "    </tr>\n",
       "    <tr>\n",
       "      <th>28482</th>\n",
       "      <td>id_1034</td>\n",
       "      <td>Lyon</td>\n",
       "      <td>NaN</td>\n",
       "      <td>1035.0</td>\n",
       "      <td>NaN</td>\n",
       "      <td>11.0</td>\n",
       "      <td>[['Nice pub', 'A very good place for Internati...</td>\n",
       "      <td>/Restaurant_Review-g187265-d10451816-Reviews-T...</td>\n",
       "      <td>d10451816</td>\n",
       "      <td>1</td>\n",
       "      <td>4.5</td>\n",
       "      <td>Lyon</td>\n",
       "      <td>France</td>\n",
       "      <td>admin</td>\n",
       "      <td>516092.0</td>\n",
       "    </tr>\n",
       "    <tr>\n",
       "      <th>46523</th>\n",
       "      <td>id_14988</td>\n",
       "      <td>London</td>\n",
       "      <td>['Fast Food', 'American']</td>\n",
       "      <td>14999.0</td>\n",
       "      <td>$</td>\n",
       "      <td>70.0</td>\n",
       "      <td>[['Pay and go', 'Favorite McDonald’s in London...</td>\n",
       "      <td>/Restaurant_Review-g186338-d5018815-Reviews-Mc...</td>\n",
       "      <td>d5018815</td>\n",
       "      <td>1</td>\n",
       "      <td>3.5</td>\n",
       "      <td>London</td>\n",
       "      <td>United Kingdom</td>\n",
       "      <td>primary</td>\n",
       "      <td>10979000.0</td>\n",
       "    </tr>\n",
       "  </tbody>\n",
       "</table>\n",
       "</div>"
      ],
      "text/plain": [
       "      restaurant_id      city  \\\n",
       "35113       id_5060    London   \n",
       "5130        id_5130    Madrid   \n",
       "34776       id_2885  Brussels   \n",
       "28482       id_1034      Lyon   \n",
       "46523      id_14988    London   \n",
       "\n",
       "                                           cuisine_style  ranking price_range  \\\n",
       "35113                ['American', 'Vegetarian Friendly']   5069.0    $$ - $$$   \n",
       "5130   ['Chinese', 'Asian', 'Vegetarian Friendly', 'V...    666.0    $$ - $$$   \n",
       "34776         ['Chinese', 'Japanese', 'Asian', 'Fusion']   2886.0           $   \n",
       "28482                                                NaN   1035.0         NaN   \n",
       "46523                          ['Fast Food', 'American']  14999.0           $   \n",
       "\n",
       "       number_of_reviews                                            reviews  \\\n",
       "35113              181.0  [['Better than many other burgers!', 'A quiet ...   \n",
       "5130               109.0  [['Extremely close to authentic chinese food!'...   \n",
       "34776                4.0  [['Tasty japanese noodles', 'Mixed experience'...   \n",
       "28482               11.0  [['Nice pub', 'A very good place for Internati...   \n",
       "46523               70.0  [['Pay and go', 'Favorite McDonald’s in London...   \n",
       "\n",
       "                                                  url_ta      id_ta  sample  \\\n",
       "35113  /Restaurant_Review-g186338-d3783928-Reviews-By...   d3783928       1   \n",
       "5130   /Restaurant_Review-g187514-d9721997-Reviews-Re...   d9721997       0   \n",
       "34776  /Restaurant_Review-g1136501-d11817074-Reviews-...  d11817074       1   \n",
       "28482  /Restaurant_Review-g187265-d10451816-Reviews-T...  d10451816       1   \n",
       "46523  /Restaurant_Review-g186338-d5018815-Reviews-Mc...   d5018815       1   \n",
       "\n",
       "       rating city_ascii         country  capital  population  \n",
       "35113     3.5     London  United Kingdom  primary  10979000.0  \n",
       "5130      0.0     Madrid           Spain  primary   3266126.0  \n",
       "34776     4.5   Brussels         Belgium  primary    185103.0  \n",
       "28482     4.5       Lyon          France    admin    516092.0  \n",
       "46523     3.5     London  United Kingdom  primary  10979000.0  "
      ]
     },
     "execution_count": 14,
     "metadata": {},
     "output_type": "execute_result"
    }
   ],
   "source": [
    "data.sample(5)"
   ]
  },
  {
   "cell_type": "markdown",
   "metadata": {},
   "source": [
    "# Cleaning and Prepping Data"
   ]
  },
  {
   "cell_type": "markdown",
   "metadata": {},
   "source": [
    "## Определим вспомогательные функции"
   ]
  },
  {
   "cell_type": "code",
   "execution_count": 15,
   "metadata": {},
   "outputs": [],
   "source": [
    "def column_info(data: pd.DataFrame, column: str) -> None:\n",
    "    '''Функция для вывода информации для номинативных признаков.\n",
    "    data - набор исходных данных\n",
    "    column - наименование признака\n",
    "    \n",
    "    Функция производит расчет ключевых значений номинативного признака и выводит их в stdout.\n",
    "    \n",
    "    '''\n",
    "    \n",
    "    n = 10 # Параметр для оценки наиболее часто встречающихся значений\n",
    "    print(f'Проведем анализ для переменной {column}')\n",
    "    \n",
    "    print('Всего значений:', data.shape[0])\n",
    "    print('Пустых значений:', data.shape[0] - data[column].notnull().sum())\n",
    "    print(f'Значений, упомянутых более {n} раз:', (data[column].value_counts() > n).sum())\n",
    "    print('Уникальных значений:', data[column].nunique())\n",
    "    \n",
    "    display(pd.DataFrame(data[column].value_counts()).head(10))\n",
    "    \n",
    "    data[[column]].info()\n",
    "    \n",
    "\n",
    "def plot_column_info(data: pd.DataFrame, column: str) -> None:  \n",
    "    '''Функция для вывода информации для колличественных переменных.\n",
    "    data - набор исходных данных\n",
    "    column - наименование признака\n",
    "    \n",
    "    Функция производит расчет ключевых значений колличественного признака.\n",
    "    Определяет наличие выбросов. Выводит полученные данные в stdout. \n",
    "    Риует гистограмму исходных значений и значениий ограниченных границами выбросов IQR.\n",
    "    \n",
    "    '''\n",
    "    \n",
    "    max_value = data[column].max()\n",
    "    min_value = data[column].min()\n",
    "    perc25 = data[column].quantile(0.25)\n",
    "    perc75 = data[column].quantile(0.75)\n",
    "    IQR = perc75 - perc25\n",
    "    lower_limt = perc25 - 1.5*IQR\n",
    "    upper_limit = perc75 + 1.5*IQR\n",
    "    \n",
    "    if max_value <= upper_limit and min_value >= lower_limt:\n",
    "        outliers_status = 'Выбросов Нет.'\n",
    "    else:\n",
    "        outliers_status = 'Есть выбросы.'\n",
    "\n",
    "    print('Всего значений:', data.shape[0])\n",
    "    print('Пустых значений:', data.shape[0] - data[column].notnull().sum())\n",
    "    \n",
    "    print('25-й перцентиль: {}, 75-й перцентиль: {}, IQR: {},'.format(perc25, perc75, IQR))\n",
    "    print(f'Границы значений: [{min_value}, {max_value}],')\n",
    "    print('Границы выбросов: [{f}, {l}].'.format(f=lower_limt, l=upper_limit))\n",
    "    print(outliers_status)\n",
    "    \n",
    "    plt.rcParams['figure.figsize'] = (10,7)\n",
    "    \n",
    "    data[column].loc[data[column].between(lower_limt, upper_limit)].hist(bins=100,\n",
    "                                                                         range=(min_value, max_value), \n",
    "                                                                         label='IQR')\n",
    "\n",
    "    data[column].hist(alpha=0.5, \n",
    "                      bins=100, \n",
    "                      range=(min_value, max_value), \n",
    "                      label='Исходные значения')\n",
    "\n",
    "    plt.legend();"
   ]
  },
  {
   "cell_type": "code",
   "execution_count": 16,
   "metadata": {},
   "outputs": [],
   "source": [
    "def replace_nan(data_in: pd.DataFrame, column: str, typ: str, new_value='') -> pd.DataFrame:\n",
    "    '''Функция возвращает датасет, в котором произведена замена пустых значений признака и добавлен новый\n",
    "    признак, в котором сохраняется информаця о том, в какой строке было пустое значение\n",
    "    data_in - набор исходных данных\n",
    "    column - наименование признака\n",
    "    typ - тип замены, может принимать значения: 'mode', 'median', 'mean', 'new_value'\n",
    "    \n",
    "    Создается новый признак с наименованием (column)_isnan, в котором сохраняется информаця \n",
    "    о том, в какой строке пустое значение признака (column)\n",
    "    В зависимости от типа замены (typ) функция определяет значение, \n",
    "    на которое будет производится замена.\n",
    "    Все значения признака (column) в наборе данных (data_in) заменяются на вычисленное значение.\n",
    "    Функция возращает откорректированный набор данных, изменений в исходном наборе нет.\n",
    "    \n",
    "    '''\n",
    "    \n",
    "    data = data_in.copy()\n",
    "    \n",
    "    print(f'В новый признак \\'{column}_isnan\\' охраняем информацию, в каком наблюдении указано NaN')\n",
    "    data.loc[:, column + '_isnan'] = pd.isna(data[column]).astype('uint8')\n",
    "    \n",
    "    if typ == 'mode':\n",
    "        m = data.loc[:, column].mode()[0]\n",
    "        s = 'самым распространенным значением '\n",
    "    elif typ == 'median':\n",
    "        m = data.loc[:, column].median()\n",
    "        s = 'медианой'\n",
    "    elif typ == 'mean':\n",
    "        m = data.loc[:, column].mean()\n",
    "        s = 'средневзвешенным значением'\n",
    "    elif typ == 'new_value':\n",
    "        m = new_value\n",
    "        s = 'указанным значением'\n",
    "    else:\n",
    "        return None\n",
    "    \n",
    "    print(f'Заполним пустые значения признака {column} {s} {m}')\n",
    "    data.loc[:, column] = data[column].fillna(m)\n",
    "    \n",
    "    return data"
   ]
  },
  {
   "cell_type": "code",
   "execution_count": 17,
   "metadata": {},
   "outputs": [],
   "source": [
    "def get_dummies_value_str(data_in: pd.DataFrame, column: str, dummy_na=True) -> pd.DataFrame:\n",
    "    '''Функция реализует подход One-Hot Encoding для признака, значения которгого представлены строками.\n",
    "    Функция аналогична pandas.get_dummies(data, column, dummy_na), за тем исключением, что текущая функция не удаляет признак column\n",
    "    data_in - набор исходных данных\n",
    "    column - наименование признака\n",
    "    dummy_na - проверять на пустое значение и на пустой список \n",
    "    \n",
    "    Получаем dummy переменные на основе признака (column) из датасета (data_in)\n",
    "    Для этого используется pd.get_dummies().\n",
    "    К исходному датасету добавляем полученные dummy переменные\n",
    "    \n",
    "    Если dummy_na=True, тогда создается дополнительный признак, проверяющий \n",
    "    на пустое значение признака (column) \n",
    "    \n",
    "    Признак (column) остается в датасете (data)\n",
    "    \n",
    "    Функция возращает откорректированный набор данных, изменений в исходном наборе нет.\n",
    "    '''\n",
    "    \n",
    "    print(f'Применяем подход One-Hot Encoding для признака {column}')\n",
    "    dummies = pd.get_dummies(data_in[column], prefix=column)\n",
    "    \n",
    "    return pd.concat([data_in, dummies], axis=1, join=\"inner\")"
   ]
  },
  {
   "cell_type": "code",
   "execution_count": 18,
   "metadata": {},
   "outputs": [],
   "source": [
    "def get_dummies_value_list(data_in: pd.DataFrame, column: str, dummy_na=True) -> pd.DataFrame:\n",
    "    '''Функция реализует подход One-Hot Encoding для признака, значения которго представлены списком\n",
    "    data_in - набор исходных данных\n",
    "    column - наименование признака\n",
    "    dummy_na - проверять на пустое значение и на пустой список \n",
    "    \n",
    "    Значения признака (column) должны быть представлены в виде списка ['Italian', 'Fast Food', 'Mediterranean', 'Eur...]\n",
    "    Создается набор всех уникальных значений всех списков признака (column)\n",
    "    По каждому значению создается отдельный признак вида (column) + '_' + (значение из набора).\n",
    "    Новые признаки заполняются исходя из вхождения значения из набора в список значений строки признака \n",
    "    (Аналогично функции pd.get_dummies())\n",
    "    \n",
    "    Если dummy_na=True, тогда создается дополнительный признак, проверяющий \n",
    "    на пустое значение или на пустой список значений признака (column) \n",
    "    \n",
    "    Признак (column) остается в датасете (data)\n",
    "    \n",
    "    Функция возращает откорректированный набор данных, изменений в исходном наборе нет.\n",
    "    '''\n",
    "    \n",
    "    print(f'Применяем подход One-Hot Encoding для признака {column}')\n",
    "    data = data_in.copy()\n",
    "    \n",
    "    # создаём пустое множество для хранения уникальных значений признака\n",
    "    new_columns_set = set()  \n",
    "    for items in data[column]:      \n",
    "        for item in items:         \n",
    "            new_columns_set.add(item)\n",
    "            \n",
    "    # Для каждого уникального значения признака создаем новый признак\n",
    "    for new_column in new_columns_set:\n",
    "        data.loc[:, column + '_' + new_column] = data[column].apply(lambda x: 1 if new_column in x else 0)\n",
    "        \n",
    "    # В случае необходимости создаем новый признак, проверяющий \n",
    "    # на пустое значение или на пустой список значений исходного признака \n",
    "    if dummy_na:\n",
    "        data.loc[:, column + '_isnan'] = data[column].apply(lambda x: 1 if (x!=x or len(x)==0) else 0)\n",
    "        \n",
    "    return data"
   ]
  },
  {
   "cell_type": "code",
   "execution_count": 19,
   "metadata": {},
   "outputs": [],
   "source": [
    "def get_date_from_reviews(reviews: pd.Series, index: int) -> pd.Series:\n",
    "    ''' Вспомогательная функция. Ищет в переданном наборе данных (reviews) даты и возвращает (index)-й набор дат из 2-х\n",
    "    reviews - исходный набор данных (отзывов)\n",
    "    index = 0 или 1 - индекс,, указывающий какой выбирать надор 1-й или 2-й\n",
    "    \n",
    "    Функция изет в исходной серии (reviews) подстроки формата (pattern_str) выбирает по индексу (index).\n",
    "    Полученную серию форматирует в тип даты по (format_str)\n",
    "    Есть дополнительная проверка, чтобы в reviews) было указано только 2 даты (как заявленов описании исходной серии)\n",
    "    Если условие не выполняется, то для таких наблюдений возвращается пустое значение\n",
    "    '''\n",
    "    if index not in [0, 1]:\n",
    "        print(f'Переменная index должа быть 0 или 1. Текущее значение {index}')\n",
    "        return None\n",
    "    \n",
    "    # для дат вида '07/06/2017'\n",
    "    pattern_str = '\\'\\d+\\/\\d+\\/\\d+\\''\n",
    "    format_str = '%m/%d/%Y'\n",
    "    \n",
    "    # Из переданного признака извлекаем даты отзывов с соотвествующие паттерну \n",
    "    pattern = re.compile(pattern_str)    \n",
    "    reviews_dates = reviews.apply(lambda x: pattern.findall(x))\n",
    "    \n",
    "    print(f'Получаем {index}-ю дату из признака {reviews.name}')\n",
    "    #  Если в переданной серии было указано две даты, тогда возвращаем (index)-ю\n",
    "    # В ином случае оставляем пустую ячейку\n",
    "    reviews_date_i = reviews_dates.apply(lambda x: x[index].replace('\\'', '') if len(x) == 2 else None)\n",
    "    \n",
    "    # Переводим полившуюся серию в тип datetime и возвращаем\n",
    "    return pd.to_datetime(reviews_date_i.dropna(), format=format_str)"
   ]
  },
  {
   "cell_type": "code",
   "execution_count": 20,
   "metadata": {},
   "outputs": [],
   "source": [
    "def get_day_delta_reviews(data_in: pd.DataFrame) -> pd.Series:\n",
    "    ''' Вспомогательная функция. Функция создает новый признак - разность поледнего отзыва для данной строки и последнего отзыва для всех \n",
    "    data_in - исходный набор данных, в котором присутствуют два признака - две даты отзывов\n",
    "    \n",
    "    Функция ищет в исходн наборе (data_in) два признака (column_1) и (column_2).\n",
    "    Определяет самый последний отзыв во всем датсете.\n",
    "    Рассчитывает разность поледнего отзыва для данной строки и последнего отзыва для всех.\n",
    "    Возвращает полученную серию данных в численном формате\n",
    "    \n",
    "    '''\n",
    "    \n",
    "    print('Создаем новый признак - разность поледнего отзыва для данной строки и последнего отзыва для всех ')\n",
    "    \n",
    "    column_1 = 'reviews_date_1'\n",
    "    column_2 = 'reviews_date_2'\n",
    "    column_out = 'reviews_last_delta'\n",
    "    \n",
    "    data = data_in.copy()\n",
    "    \n",
    "    # Определим самый последний отзыв во всем датсете\n",
    "    max_date = max(data[column_1].max(), data[column_2].max())\n",
    "\n",
    "    # Если втрорая дата больше первой, то она будет ближе к последней (максимальной дате)\n",
    "    index = data[column_1] < data[column_2]\n",
    "    data.loc[index, column_out]  = max_date - data[index][column_2]\n",
    "\n",
    "    # Если первая дата больше второй, то она будет ближе к последней (максимальной дате)\n",
    "    index = data[column_1] >= data[column_2]\n",
    "    data.loc[index, column_out]  = max_date - data[index][column_1]\n",
    "\n",
    "\n",
    "    # Переведем признак в численный формат\n",
    "    return data[column_out].dt.days"
   ]
  },
  {
   "cell_type": "code",
   "execution_count": 21,
   "metadata": {},
   "outputs": [],
   "source": [
    "def merge_city_info(data_in: pd.DataFrame, cities_in: pd.DataFrame) -> pd.DataFrame:\n",
    "    '''Вспомогательная функция. Добавляет к исходному набору данные дополнительную информацию по городам из переданного датасета\n",
    "    data_in - исходный набор данных, в котором должен быть признак Город (left_on)\n",
    "    cities_in - датасет с информацией по городам, в котором должен быть признак Город (right_on)\n",
    "    \n",
    "    Добавляет к исходному набору данных (data_in) дополнительную информацию по городам (new_columns) из переданного датасета (cities_in).\n",
    "    Пересечеие таблиц производится по колонке (left_on) из (data_in) и (right_on) из (cities_in).\n",
    "    Функция возвращает новые датасет. Изменения в сходные датасеты не вносятся.\n",
    "    \n",
    "    Важно! В идеале мерджить таблицы надо бы по паре признаков - Город+Страна. В исходном датасете нет страны, \n",
    "    но мы предполагаем, что все города из стран Европы. Поэтому мердж производится не с исходной (cities_in), \n",
    "    а с датасетом (cities_in), в котором выбрали ТОЛЬКО города (ct) и исключили некоторые страны (not_cntr). \n",
    "    Убирает задвоения строк.\n",
    "    '''\n",
    "    \n",
    "    print('Добавляем к исходному набору данные дополнительную информацию по городам из переданного датасета')\n",
    "    \n",
    "    left_on = 'city'\n",
    "    right_on = 'city_ascii'\n",
    "    new_columns = ['city_ascii', 'country', 'capital', 'population'] # должен содержать (right_on)\n",
    "    \n",
    "    data = data_in.copy()\n",
    "    cities = cities_in.copy()\n",
    "    \n",
    "    # Oporto нет в датасете с информацией по городам. Но есть город Porto, что одно и тоже. Заменим Porto на Oporto\n",
    "    cities.loc[cities['city_ascii'] == 'Porto', 'city_ascii'] = 'Oporto'\n",
    "\n",
    "    # Выделим в отдельный датасет \n",
    "    ct = list(data['city'].unique()) # 1. только те города, которые нам понадобятся\n",
    "    not_cntr = ['Venezuela','United States', 'Canada'] # 2. исключим страны НЕ Европы\n",
    "    cities = cities.query(f'city_ascii in {ct} and country not in {not_cntr}')[new_columns]\n",
    "\n",
    "    # Добавляем к нашему датасету доп информацию по городам и возвращаем получившийся датасет\n",
    "    return pd.merge(data, cities, how='left', left_on=left_on, right_on=right_on)"
   ]
  },
  {
   "cell_type": "markdown",
   "metadata": {},
   "source": [
    "## 1. Обработка NAN \n",
    "\n",
    "Обработаем признаки, в которых есть пропуски. Предварительно сохраняем информацию о наличии пропуска в виде отдельного признака. Сами пропуски будем заполнять исходя из распределения значений признака."
   ]
  },
  {
   "cell_type": "code",
   "execution_count": 22,
   "metadata": {},
   "outputs": [
    {
     "data": {
      "text/plain": [
       "cuisine_style        11590\n",
       "price_range          17361\n",
       "number_of_reviews     3200\n",
       "reviews                  2\n",
       "capital                745\n",
       "dtype: int64"
      ]
     },
     "execution_count": 22,
     "metadata": {},
     "output_type": "execute_result"
    }
   ],
   "source": [
    "ser = data.isna().sum()\n",
    "ser[ser > 0]"
   ]
  },
  {
   "cell_type": "markdown",
   "metadata": {},
   "source": [
    "### Признак 'Number of Reviews'\n",
    "\n",
    "Посмотрим на этот признак"
   ]
  },
  {
   "cell_type": "code",
   "execution_count": 23,
   "metadata": {},
   "outputs": [
    {
     "name": "stdout",
     "output_type": "stream",
     "text": [
      "Всего значений: 50000\n",
      "Пустых значений: 3200\n",
      "25-й перцентиль: 9.0, 75-й перцентиль: 115.0, IQR: 106.0,\n",
      "Границы значений: [2.0, 9660.0],\n",
      "Границы выбросов: [-150.0, 274.0].\n",
      "Есть выбросы.\n"
     ]
    },
    {
     "data": {
      "image/png": "[encoded data removed]",
      "text/plain": [
       "<Figure size 720x504 with 1 Axes>"
      ]
     },
     "metadata": {
      "needs_background": "light"
     },
     "output_type": "display_data"
    }
   ],
   "source": [
    "plot_column_info(data, 'number_of_reviews')"
   ]
  },
  {
   "cell_type": "code",
   "execution_count": 24,
   "metadata": {},
   "outputs": [
    {
     "data": {
      "text/plain": [
       "<matplotlib.axes._subplots.AxesSubplot at 0x7f60abe24b38>"
      ]
     },
     "execution_count": 24,
     "metadata": {},
     "output_type": "execute_result"
    },
    {
     "data": {
      "image/png": "[encoded data removed]",
      "text/plain": [
       "<Figure size 720x504 with 1 Axes>"
      ]
     },
     "metadata": {
      "needs_background": "light"
     },
     "output_type": "display_data"
    }
   ],
   "source": [
    "data[data['number_of_reviews'] > 1000]['number_of_reviews'].hist(bins=100)"
   ]
  },
  {
   "cell_type": "markdown",
   "metadata": {},
   "source": [
    "Есть пустые значения. Их необходимо будет заполнить.Есть также \"выбросы\", определенные с помощью IQR. Исходя из описания признака у нас нет оснований для удаления этих выбросов. Оставим их пока так."
   ]
  },
  {
   "cell_type": "code",
   "execution_count": 25,
   "metadata": {},
   "outputs": [
    {
     "name": "stdout",
     "output_type": "stream",
     "text": [
      "В новый признак 'number_of_reviews_isnan' охраняем информацию, в каком наблюдении указано NaN\n",
      "Заполним пустые значения признака number_of_reviews медианой 33.0\n"
     ]
    }
   ],
   "source": [
    "# Выносим в блок предобработки\n",
    "\n",
    "# Распределение признако сильно смещено. Пусты значения заполним медианой. С выбросами ничего не делаем.\n",
    "data = replace_nan(data, 'number_of_reviews', 'median')"
   ]
  },
  {
   "cell_type": "markdown",
   "metadata": {},
   "source": [
    "### Признак 'Reviews'\n",
    "\n",
    "Посмотрим на этот признак"
   ]
  },
  {
   "cell_type": "code",
   "execution_count": 26,
   "metadata": {},
   "outputs": [
    {
     "name": "stdout",
     "output_type": "stream",
     "text": [
      "Проведем анализ для переменной reviews\n",
      "Всего значений: 50000\n",
      "Пустых значений: 2\n",
      "Значений, упомянутых более 10 раз: 1\n",
      "Уникальных значений: 41857\n"
     ]
    },
    {
     "data": {
      "text/html": [
       "<div>\n",
       "<style scoped>\n",
       "    .dataframe tbody tr th:only-of-type {\n",
       "        vertical-align: middle;\n",
       "    }\n",
       "\n",
       "    .dataframe tbody tr th {\n",
       "        vertical-align: top;\n",
       "    }\n",
       "\n",
       "    .dataframe thead th {\n",
       "        text-align: right;\n",
       "    }\n",
       "</style>\n",
       "<table border=\"1\" class=\"dataframe\">\n",
       "  <thead>\n",
       "    <tr style=\"text-align: right;\">\n",
       "      <th></th>\n",
       "      <th>reviews</th>\n",
       "    </tr>\n",
       "  </thead>\n",
       "  <tbody>\n",
       "    <tr>\n",
       "      <th>[[], []]</th>\n",
       "      <td>8112</td>\n",
       "    </tr>\n",
       "    <tr>\n",
       "      <th>[['Improve your service', 'Great value chain restaurant'], ['12/14/2017', '07/30/2017']]</th>\n",
       "      <td>2</td>\n",
       "    </tr>\n",
       "    <tr>\n",
       "      <th>[['Great Food! Wide Variety.', 'Dinner'], ['11/26/2017', '05/23/2017']]</th>\n",
       "      <td>2</td>\n",
       "    </tr>\n",
       "    <tr>\n",
       "      <th>[['Sat night', 'Can\\'t even explain.. \"A\" place.. A \"100...'], ['10/22/2017', '05/11/2017']]</th>\n",
       "      <td>2</td>\n",
       "    </tr>\n",
       "    <tr>\n",
       "      <th>[['Great food, service and atmosphere', 'Decor and food'], ['11/06/2017', '10/22/2017']]</th>\n",
       "      <td>2</td>\n",
       "    </tr>\n",
       "    <tr>\n",
       "      <th>[['Simply Excellent!', 'Modern!'], ['10/22/2017', '08/29/2017']]</th>\n",
       "      <td>2</td>\n",
       "    </tr>\n",
       "    <tr>\n",
       "      <th>[['Good Paella', 'Good enough. Nothing more'], ['09/20/2017', '05/29/2017']]</th>\n",
       "      <td>2</td>\n",
       "    </tr>\n",
       "    <tr>\n",
       "      <th>[['Good restaurant for one meal.', 'Olive Garden Restaurant Warsaw. Food very...'], ['04/20/2015', '07/15/2013']]</th>\n",
       "      <td>2</td>\n",
       "    </tr>\n",
       "    <tr>\n",
       "      <th>[['Enjoyable restaurant with indoor and outdo...', 'Delicious food'], ['11/04/2017', '10/31/2017']]</th>\n",
       "      <td>2</td>\n",
       "    </tr>\n",
       "    <tr>\n",
       "      <th>[['Good Lebanese food', 'Decent place'], ['07/19/2017', '03/17/2017']]</th>\n",
       "      <td>2</td>\n",
       "    </tr>\n",
       "  </tbody>\n",
       "</table>\n",
       "</div>"
      ],
      "text/plain": [
       "                                                    reviews\n",
       "[[], []]                                               8112\n",
       "[['Improve your service', 'Great value chain re...        2\n",
       "[['Great Food! Wide Variety.', 'Dinner'], ['11/...        2\n",
       "[['Sat night', 'Can\\'t even explain.. \"A\" place...        2\n",
       "[['Great food, service and atmosphere', 'Decor ...        2\n",
       "[['Simply Excellent!', 'Modern!'], ['10/22/2017...        2\n",
       "[['Good Paella', 'Good enough. Nothing more'], ...        2\n",
       "[['Good restaurant for one meal.', 'Olive Garde...        2\n",
       "[['Enjoyable restaurant with indoor and outdo.....        2\n",
       "[['Good Lebanese food', 'Decent place'], ['07/1...        2"
      ]
     },
     "metadata": {},
     "output_type": "display_data"
    },
    {
     "name": "stdout",
     "output_type": "stream",
     "text": [
      "<class 'pandas.core.frame.DataFrame'>\n",
      "Int64Index: 50000 entries, 0 to 49999\n",
      "Data columns (total 1 columns):\n",
      "reviews    49998 non-null object\n",
      "dtypes: object(1)\n",
      "memory usage: 781.2+ KB\n"
     ]
    }
   ],
   "source": [
    "column_info(data, 'reviews')"
   ]
  },
  {
   "cell_type": "code",
   "execution_count": 27,
   "metadata": {},
   "outputs": [
    {
     "name": "stdout",
     "output_type": "stream",
     "text": [
      "В новый признак 'reviews_isnan' охраняем информацию, в каком наблюдении указано NaN\n",
      "Заполним пустые значения признака reviews указанным значением [[], []]\n"
     ]
    }
   ],
   "source": [
    "# Выносим в блок предобработки\n",
    "\n",
    "# Есть пустые значения, заполним их такой строкой: [[], []]\n",
    "data = replace_nan(data, 'reviews', 'new_value', '[[], []]')"
   ]
  },
  {
   "cell_type": "markdown",
   "metadata": {},
   "source": [
    "### Признак 'Price Range'\n",
    "\n",
    "Посмотрим на этот признак"
   ]
  },
  {
   "cell_type": "code",
   "execution_count": 28,
   "metadata": {},
   "outputs": [
    {
     "name": "stdout",
     "output_type": "stream",
     "text": [
      "Проведем анализ для переменной price_range\n",
      "Всего значений: 50000\n",
      "Пустых значений: 17361\n",
      "Значений, упомянутых более 10 раз: 3\n",
      "Уникальных значений: 3\n"
     ]
    },
    {
     "data": {
      "text/html": [
       "<div>\n",
       "<style scoped>\n",
       "    .dataframe tbody tr th:only-of-type {\n",
       "        vertical-align: middle;\n",
       "    }\n",
       "\n",
       "    .dataframe tbody tr th {\n",
       "        vertical-align: top;\n",
       "    }\n",
       "\n",
       "    .dataframe thead th {\n",
       "        text-align: right;\n",
       "    }\n",
       "</style>\n",
       "<table border=\"1\" class=\"dataframe\">\n",
       "  <thead>\n",
       "    <tr style=\"text-align: right;\">\n",
       "      <th></th>\n",
       "      <th>price_range</th>\n",
       "    </tr>\n",
       "  </thead>\n",
       "  <tbody>\n",
       "    <tr>\n",
       "      <th>$$ - $$$</th>\n",
       "      <td>23041</td>\n",
       "    </tr>\n",
       "    <tr>\n",
       "      <th>$</th>\n",
       "      <td>7816</td>\n",
       "    </tr>\n",
       "    <tr>\n",
       "      <th>$$$$</th>\n",
       "      <td>1782</td>\n",
       "    </tr>\n",
       "  </tbody>\n",
       "</table>\n",
       "</div>"
      ],
      "text/plain": [
       "          price_range\n",
       "$$ - $$$        23041\n",
       "$                7816\n",
       "$$$$             1782"
      ]
     },
     "metadata": {},
     "output_type": "display_data"
    },
    {
     "name": "stdout",
     "output_type": "stream",
     "text": [
      "<class 'pandas.core.frame.DataFrame'>\n",
      "Int64Index: 50000 entries, 0 to 49999\n",
      "Data columns (total 1 columns):\n",
      "price_range    32639 non-null object\n",
      "dtypes: object(1)\n",
      "memory usage: 781.2+ KB\n"
     ]
    }
   ],
   "source": [
    "column_info(data, 'price_range')"
   ]
  },
  {
   "cell_type": "code",
   "execution_count": 29,
   "metadata": {},
   "outputs": [
    {
     "name": "stdout",
     "output_type": "stream",
     "text": [
      "В новый признак 'price_range_isnan' охраняем информацию, в каком наблюдении указано NaN\n",
      "Заполним пустые значения признака price_range самым распространенным значением  $$ - $$$\n"
     ]
    }
   ],
   "source": [
    "# Выносим в блок предобработки\n",
    "\n",
    "# Пустые значения заполним самым распространенным значением\n",
    "data = replace_nan(data, 'price_range', 'mode')"
   ]
  },
  {
   "cell_type": "markdown",
   "metadata": {},
   "source": [
    "### Признак 'Cuisine Style'\n",
    "\n",
    "Посмотрим на этот признак"
   ]
  },
  {
   "cell_type": "code",
   "execution_count": 30,
   "metadata": {},
   "outputs": [
    {
     "name": "stdout",
     "output_type": "stream",
     "text": [
      "Проведем анализ для переменной cuisine_style\n",
      "Всего значений: 50000\n",
      "Пустых значений: 11590\n",
      "Значений, упомянутых более 10 раз: 392\n",
      "Уникальных значений: 10731\n"
     ]
    },
    {
     "data": {
      "text/html": [
       "<div>\n",
       "<style scoped>\n",
       "    .dataframe tbody tr th:only-of-type {\n",
       "        vertical-align: middle;\n",
       "    }\n",
       "\n",
       "    .dataframe tbody tr th {\n",
       "        vertical-align: top;\n",
       "    }\n",
       "\n",
       "    .dataframe thead th {\n",
       "        text-align: right;\n",
       "    }\n",
       "</style>\n",
       "<table border=\"1\" class=\"dataframe\">\n",
       "  <thead>\n",
       "    <tr style=\"text-align: right;\">\n",
       "      <th></th>\n",
       "      <th>cuisine_style</th>\n",
       "    </tr>\n",
       "  </thead>\n",
       "  <tbody>\n",
       "    <tr>\n",
       "      <th>['Italian']</th>\n",
       "      <td>1332</td>\n",
       "    </tr>\n",
       "    <tr>\n",
       "      <th>['French']</th>\n",
       "      <td>1019</td>\n",
       "    </tr>\n",
       "    <tr>\n",
       "      <th>['Spanish']</th>\n",
       "      <td>860</td>\n",
       "    </tr>\n",
       "    <tr>\n",
       "      <th>['French', 'European']</th>\n",
       "      <td>503</td>\n",
       "    </tr>\n",
       "    <tr>\n",
       "      <th>['Cafe']</th>\n",
       "      <td>500</td>\n",
       "    </tr>\n",
       "    <tr>\n",
       "      <th>['Pizza']</th>\n",
       "      <td>454</td>\n",
       "    </tr>\n",
       "    <tr>\n",
       "      <th>['Italian', 'Pizza']</th>\n",
       "      <td>422</td>\n",
       "    </tr>\n",
       "    <tr>\n",
       "      <th>['Chinese']</th>\n",
       "      <td>418</td>\n",
       "    </tr>\n",
       "    <tr>\n",
       "      <th>['European', 'Portuguese']</th>\n",
       "      <td>415</td>\n",
       "    </tr>\n",
       "    <tr>\n",
       "      <th>['Mediterranean']</th>\n",
       "      <td>311</td>\n",
       "    </tr>\n",
       "  </tbody>\n",
       "</table>\n",
       "</div>"
      ],
      "text/plain": [
       "                            cuisine_style\n",
       "['Italian']                          1332\n",
       "['French']                           1019\n",
       "['Spanish']                           860\n",
       "['French', 'European']                503\n",
       "['Cafe']                              500\n",
       "['Pizza']                             454\n",
       "['Italian', 'Pizza']                  422\n",
       "['Chinese']                           418\n",
       "['European', 'Portuguese']            415\n",
       "['Mediterranean']                     311"
      ]
     },
     "metadata": {},
     "output_type": "display_data"
    },
    {
     "name": "stdout",
     "output_type": "stream",
     "text": [
      "<class 'pandas.core.frame.DataFrame'>\n",
      "Int64Index: 50000 entries, 0 to 49999\n",
      "Data columns (total 1 columns):\n",
      "cuisine_style    38410 non-null object\n",
      "dtypes: object(1)\n",
      "memory usage: 781.2+ KB\n"
     ]
    }
   ],
   "source": [
    "column_info(data, 'cuisine_style')"
   ]
  },
  {
   "cell_type": "code",
   "execution_count": 31,
   "metadata": {},
   "outputs": [
    {
     "name": "stdout",
     "output_type": "stream",
     "text": [
      "В новый признак 'cuisine_style_isnan' охраняем информацию, в каком наблюдении указано NaN\n",
      "Заполним пустые значения признака cuisine_style указанным значением []\n"
     ]
    }
   ],
   "source": [
    "# Выносим в блок предобработки\n",
    "\n",
    "# Есть пустые значения. Заполняем пустые значения строкой: []\n",
    "data = replace_nan(data, 'cuisine_style', 'new_value', '[]')"
   ]
  },
  {
   "cell_type": "markdown",
   "metadata": {},
   "source": [
    "## 2. Обработка признаков\n",
    " \n",
    "Для начала обработаем категориальные признаки."
   ]
  },
  {
   "cell_type": "markdown",
   "metadata": {},
   "source": [
    "### Признак 'City'"
   ]
  },
  {
   "cell_type": "code",
   "execution_count": 32,
   "metadata": {},
   "outputs": [
    {
     "name": "stdout",
     "output_type": "stream",
     "text": [
      "Проведем анализ для переменной city\n",
      "Всего значений: 50000\n",
      "Пустых значений: 0\n",
      "Значений, упомянутых более 10 раз: 31\n",
      "Уникальных значений: 31\n"
     ]
    },
    {
     "data": {
      "text/html": [
       "<div>\n",
       "<style scoped>\n",
       "    .dataframe tbody tr th:only-of-type {\n",
       "        vertical-align: middle;\n",
       "    }\n",
       "\n",
       "    .dataframe tbody tr th {\n",
       "        vertical-align: top;\n",
       "    }\n",
       "\n",
       "    .dataframe thead th {\n",
       "        text-align: right;\n",
       "    }\n",
       "</style>\n",
       "<table border=\"1\" class=\"dataframe\">\n",
       "  <thead>\n",
       "    <tr style=\"text-align: right;\">\n",
       "      <th></th>\n",
       "      <th>city</th>\n",
       "    </tr>\n",
       "  </thead>\n",
       "  <tbody>\n",
       "    <tr>\n",
       "      <th>London</th>\n",
       "      <td>7193</td>\n",
       "    </tr>\n",
       "    <tr>\n",
       "      <th>Paris</th>\n",
       "      <td>6108</td>\n",
       "    </tr>\n",
       "    <tr>\n",
       "      <th>Madrid</th>\n",
       "      <td>3813</td>\n",
       "    </tr>\n",
       "    <tr>\n",
       "      <th>Barcelona</th>\n",
       "      <td>3395</td>\n",
       "    </tr>\n",
       "    <tr>\n",
       "      <th>Berlin</th>\n",
       "      <td>2705</td>\n",
       "    </tr>\n",
       "    <tr>\n",
       "      <th>Milan</th>\n",
       "      <td>2694</td>\n",
       "    </tr>\n",
       "    <tr>\n",
       "      <th>Rome</th>\n",
       "      <td>2589</td>\n",
       "    </tr>\n",
       "    <tr>\n",
       "      <th>Prague</th>\n",
       "      <td>1816</td>\n",
       "    </tr>\n",
       "    <tr>\n",
       "      <th>Lisbon</th>\n",
       "      <td>1647</td>\n",
       "    </tr>\n",
       "    <tr>\n",
       "      <th>Vienna</th>\n",
       "      <td>1443</td>\n",
       "    </tr>\n",
       "  </tbody>\n",
       "</table>\n",
       "</div>"
      ],
      "text/plain": [
       "           city\n",
       "London     7193\n",
       "Paris      6108\n",
       "Madrid     3813\n",
       "Barcelona  3395\n",
       "Berlin     2705\n",
       "Milan      2694\n",
       "Rome       2589\n",
       "Prague     1816\n",
       "Lisbon     1647\n",
       "Vienna     1443"
      ]
     },
     "metadata": {},
     "output_type": "display_data"
    },
    {
     "name": "stdout",
     "output_type": "stream",
     "text": [
      "<class 'pandas.core.frame.DataFrame'>\n",
      "Int64Index: 50000 entries, 0 to 49999\n",
      "Data columns (total 1 columns):\n",
      "city    50000 non-null object\n",
      "dtypes: object(1)\n",
      "memory usage: 781.2+ KB\n"
     ]
    }
   ],
   "source": [
    "column_info(data, 'city')"
   ]
  },
  {
   "cell_type": "code",
   "execution_count": 33,
   "metadata": {},
   "outputs": [
    {
     "name": "stdout",
     "output_type": "stream",
     "text": [
      "Применяем подход One-Hot Encoding для признака city\n"
     ]
    }
   ],
   "source": [
    "# Вынесем в блок предобработки\n",
    "\n",
    "# Для признака 'City' воспользуемся подходом One-Hot Encoding. Для этого есть уже готовая функция get_dummies.\n",
    "data = get_dummies_value_str(data, 'city', dummy_na=True)\n",
    "\n",
    "# Приведем наименования признаков к единому виду: 1. без заглавных букв 2. внесто пробелов нижнее подчеркивание\n",
    "data.columns = [x.lower().replace(' ', '_') for x in data.columns]"
   ]
  },
  {
   "cell_type": "markdown",
   "metadata": {},
   "source": [
    "### Признак \"Price Range\"."
   ]
  },
  {
   "cell_type": "code",
   "execution_count": 34,
   "metadata": {},
   "outputs": [
    {
     "name": "stdout",
     "output_type": "stream",
     "text": [
      "Проведем анализ для переменной price_range\n",
      "Всего значений: 50000\n",
      "Пустых значений: 0\n",
      "Значений, упомянутых более 10 раз: 3\n",
      "Уникальных значений: 3\n"
     ]
    },
    {
     "data": {
      "text/html": [
       "<div>\n",
       "<style scoped>\n",
       "    .dataframe tbody tr th:only-of-type {\n",
       "        vertical-align: middle;\n",
       "    }\n",
       "\n",
       "    .dataframe tbody tr th {\n",
       "        vertical-align: top;\n",
       "    }\n",
       "\n",
       "    .dataframe thead th {\n",
       "        text-align: right;\n",
       "    }\n",
       "</style>\n",
       "<table border=\"1\" class=\"dataframe\">\n",
       "  <thead>\n",
       "    <tr style=\"text-align: right;\">\n",
       "      <th></th>\n",
       "      <th>price_range</th>\n",
       "    </tr>\n",
       "  </thead>\n",
       "  <tbody>\n",
       "    <tr>\n",
       "      <th>$$ - $$$</th>\n",
       "      <td>40402</td>\n",
       "    </tr>\n",
       "    <tr>\n",
       "      <th>$</th>\n",
       "      <td>7816</td>\n",
       "    </tr>\n",
       "    <tr>\n",
       "      <th>$$$$</th>\n",
       "      <td>1782</td>\n",
       "    </tr>\n",
       "  </tbody>\n",
       "</table>\n",
       "</div>"
      ],
      "text/plain": [
       "          price_range\n",
       "$$ - $$$        40402\n",
       "$                7816\n",
       "$$$$             1782"
      ]
     },
     "metadata": {},
     "output_type": "display_data"
    },
    {
     "name": "stdout",
     "output_type": "stream",
     "text": [
      "<class 'pandas.core.frame.DataFrame'>\n",
      "Int64Index: 50000 entries, 0 to 49999\n",
      "Data columns (total 1 columns):\n",
      "price_range    50000 non-null object\n",
      "dtypes: object(1)\n",
      "memory usage: 781.2+ KB\n"
     ]
    }
   ],
   "source": [
    "column_info(data, 'price_range')"
   ]
  },
  {
   "cell_type": "markdown",
   "metadata": {},
   "source": [
    "По описанию 'Price Range' это - Цены в ресторане.  \n",
    "Их можно поставить по возрастанию (значит это не категориальный признак). А это значит, что их можно заменить последовательными числами, например 1,2,3  "
   ]
  },
  {
   "cell_type": "code",
   "execution_count": 35,
   "metadata": {},
   "outputs": [],
   "source": [
    "# Выносим в блок предобработки\n",
    "\n",
    "# Производим замену значений '$', '$$ - $$$', '$$$$' на значения 1, 2 и 3 соответственно\n",
    "data.loc[:, 'price_range'] = data['price_range'].replace(['$', '$$ - $$$', '$$$$'], [1, 2, 3])"
   ]
  },
  {
   "cell_type": "markdown",
   "metadata": {},
   "source": [
    "### Признак 'Cuisine Style'"
   ]
  },
  {
   "cell_type": "markdown",
   "metadata": {},
   "source": [
    "Для признака 'Cuisine Style' также можно воспользуемся подходом One-Hot Encoding. Сделаем это в два этапа:"
   ]
  },
  {
   "cell_type": "code",
   "execution_count": 36,
   "metadata": {},
   "outputs": [
    {
     "data": {
      "text/plain": [
       "7674     ['Middle Eastern', 'Pakistani']\n",
       "26993                        ['Chinese']\n",
       "11930                        ['Spanish']\n",
       "17009                      ['Caribbean']\n",
       "41428                        ['Chinese']\n",
       "Name: cuisine_style, dtype: object"
      ]
     },
     "execution_count": 36,
     "metadata": {},
     "output_type": "execute_result"
    }
   ],
   "source": [
    "data['cuisine_style'].sample(5)"
   ]
  },
  {
   "cell_type": "code",
   "execution_count": 37,
   "metadata": {},
   "outputs": [],
   "source": [
    "# Выносим в блок предобработки\n",
    "\n",
    "# Этап 1. Переведем занчения признака из str в list\n",
    "data.loc[:, 'cuisine_style'] = data['cuisine_style'].apply(\n",
    "    lambda s: [] if s == '[]' else s.strip('[]').replace('\\'', '').split(', '))"
   ]
  },
  {
   "cell_type": "code",
   "execution_count": 38,
   "metadata": {},
   "outputs": [
    {
     "name": "stdout",
     "output_type": "stream",
     "text": [
      "Применяем подход One-Hot Encoding для признака cuisine_style\n"
     ]
    }
   ],
   "source": [
    "# Вынесем в блок предобработки\n",
    "\n",
    "# Этап 2. Воспользуемся функцией get_dummies_value_list аналогичной pd.get_dummies() \n",
    "data = get_dummies_value_list(data, 'cuisine_style', dummy_na=True)\n",
    "\n",
    "# Приведем наименования признаков к единому виду: 1. без заглавных букв 2. внесто пробелов нижнее подчеркивание\n",
    "data.columns = [x.lower().replace(' ', '_') for x in data.columns]"
   ]
  },
  {
   "cell_type": "code",
   "execution_count": 39,
   "metadata": {},
   "outputs": [],
   "source": [
    "# Вынесем в блок предобработки\n",
    "\n",
    "# Создадим дополнительный признак - количество указанных стилей куфонь. \n",
    "# Будем считать, если стиль не указан, то он количество = 1\n",
    "data.loc[:, 'cuisine_number'] = data['cuisine_style'].apply(lambda x: 1 if x == [] else len(x))"
   ]
  },
  {
   "cell_type": "markdown",
   "metadata": {},
   "source": [
    "### Признак Reviews"
   ]
  },
  {
   "cell_type": "code",
   "execution_count": 40,
   "metadata": {},
   "outputs": [
    {
     "name": "stdout",
     "output_type": "stream",
     "text": [
      "Получаем 0-ю дату из признака reviews\n",
      "Получаем 1-ю дату из признака reviews\n"
     ]
    }
   ],
   "source": [
    "# Вынесем в предобработку\n",
    "\n",
    "# Из признака 'reviews' извлечем даты отзывов с соотвествующие паттерну для дат вида '07/06/2017'\n",
    "data.loc[:, 'reviews_date_1'] = get_date_from_reviews(data['reviews'], 0)\n",
    "data.loc[:, 'reviews_date_2'] = get_date_from_reviews(data['reviews'], 1)"
   ]
  },
  {
   "cell_type": "code",
   "execution_count": 41,
   "metadata": {},
   "outputs": [
    {
     "data": {
      "text/html": [
       "<div>\n",
       "<style scoped>\n",
       "    .dataframe tbody tr th:only-of-type {\n",
       "        vertical-align: middle;\n",
       "    }\n",
       "\n",
       "    .dataframe tbody tr th {\n",
       "        vertical-align: top;\n",
       "    }\n",
       "\n",
       "    .dataframe thead th {\n",
       "        text-align: right;\n",
       "    }\n",
       "</style>\n",
       "<table border=\"1\" class=\"dataframe\">\n",
       "  <thead>\n",
       "    <tr style=\"text-align: right;\">\n",
       "      <th></th>\n",
       "      <th>reviews_date_1</th>\n",
       "      <th>reviews_date_2</th>\n",
       "    </tr>\n",
       "  </thead>\n",
       "  <tbody>\n",
       "    <tr>\n",
       "      <th>14079</th>\n",
       "      <td>NaT</td>\n",
       "      <td>NaT</td>\n",
       "    </tr>\n",
       "    <tr>\n",
       "      <th>47489</th>\n",
       "      <td>2018-01-05</td>\n",
       "      <td>2018-01-05</td>\n",
       "    </tr>\n",
       "    <tr>\n",
       "      <th>5952</th>\n",
       "      <td>2016-03-12</td>\n",
       "      <td>2012-07-03</td>\n",
       "    </tr>\n",
       "    <tr>\n",
       "      <th>41649</th>\n",
       "      <td>2017-11-03</td>\n",
       "      <td>2017-09-18</td>\n",
       "    </tr>\n",
       "    <tr>\n",
       "      <th>1469</th>\n",
       "      <td>2017-07-27</td>\n",
       "      <td>2016-07-08</td>\n",
       "    </tr>\n",
       "  </tbody>\n",
       "</table>\n",
       "</div>"
      ],
      "text/plain": [
       "      reviews_date_1 reviews_date_2\n",
       "14079            NaT            NaT\n",
       "47489     2018-01-05     2018-01-05\n",
       "5952      2016-03-12     2012-07-03\n",
       "41649     2017-11-03     2017-09-18\n",
       "1469      2017-07-27     2016-07-08"
      ]
     },
     "execution_count": 41,
     "metadata": {},
     "output_type": "execute_result"
    }
   ],
   "source": [
    "data.loc[:, ['reviews_date_1', 'reviews_date_2']].sample(5)"
   ]
  },
  {
   "cell_type": "code",
   "execution_count": 42,
   "metadata": {},
   "outputs": [],
   "source": [
    "# Вынесем в предобработку\n",
    "\n",
    "# Создаем новый признак - разность между датами двух отзывов\n",
    "data.loc[:, 'reviews_time_delta'] = abs(data['reviews_date_1'] - data['reviews_date_2']).dt.days"
   ]
  },
  {
   "cell_type": "code",
   "execution_count": 43,
   "metadata": {},
   "outputs": [
    {
     "name": "stdout",
     "output_type": "stream",
     "text": [
      "Всего значений: 50000\n",
      "Пустых значений: 13794\n",
      "25-й перцентиль: 20.0, 75-й перцентиль: 173.0, IQR: 153.0,\n",
      "Границы значений: [0.0, 3296.0],\n",
      "Границы выбросов: [-209.5, 402.5].\n",
      "Есть выбросы.\n"
     ]
    },
    {
     "data": {
      "image/png": "[encoded data removed]",
      "text/plain": [
       "<Figure size 720x504 with 1 Axes>"
      ]
     },
     "metadata": {
      "needs_background": "light"
     },
     "output_type": "display_data"
    }
   ],
   "source": [
    "plot_column_info(data, 'reviews_time_delta')"
   ]
  },
  {
   "cell_type": "code",
   "execution_count": 44,
   "metadata": {},
   "outputs": [
    {
     "name": "stdout",
     "output_type": "stream",
     "text": [
      "В новый признак 'reviews_time_delta_isnan' охраняем информацию, в каком наблюдении указано NaN\n",
      "Заполним пустые значения признака reviews_time_delta медианой 67.0\n"
     ]
    }
   ],
   "source": [
    "# Выносим в блок предобработки\n",
    "\n",
    "# График распределения сильно смещен. Заполняем пустые значения строкой медианой\n",
    "data = replace_nan(data, 'reviews_time_delta', 'median')"
   ]
  },
  {
   "cell_type": "code",
   "execution_count": 45,
   "metadata": {},
   "outputs": [
    {
     "name": "stdout",
     "output_type": "stream",
     "text": [
      "Создаем новый признак - разность поледнего отзыва для данной строки и последнего отзыва для всех \n"
     ]
    }
   ],
   "source": [
    "# Выносим в блок предобработки\n",
    "\n",
    "#  Создаем новый признак - разность поледнего отзыва для данной строки и последнего отзыва для всех \n",
    "data.loc[:, 'reviews_last_delta'] = get_day_delta_reviews(data[['reviews_date_1', 'reviews_date_2']])"
   ]
  },
  {
   "cell_type": "code",
   "execution_count": 46,
   "metadata": {},
   "outputs": [
    {
     "name": "stdout",
     "output_type": "stream",
     "text": [
      "Всего значений: 50000\n",
      "Пустых значений: 13794\n",
      "25-й перцентиль: 72.0, 75-й перцентиль: 276.0, IQR: 204.0,\n",
      "Границы значений: [0.0, 3612.0],\n",
      "Границы выбросов: [-234.0, 582.0].\n",
      "Есть выбросы.\n"
     ]
    },
    {
     "data": {
      "image/png": "[encoded data removed]",
      "text/plain": [
       "<Figure size 720x504 with 1 Axes>"
      ]
     },
     "metadata": {
      "needs_background": "light"
     },
     "output_type": "display_data"
    }
   ],
   "source": [
    "plot_column_info(data, 'reviews_last_delta')"
   ]
  },
  {
   "cell_type": "code",
   "execution_count": 47,
   "metadata": {},
   "outputs": [
    {
     "name": "stdout",
     "output_type": "stream",
     "text": [
      "В новый признак 'reviews_last_delta_isnan' охраняем информацию, в каком наблюдении указано NaN\n",
      "Заполним пустые значения признака reviews_last_delta медианой 136.0\n"
     ]
    }
   ],
   "source": [
    "# Выносим в блок предобработки\n",
    "\n",
    "# График распределения сильно смещен. Заполняем пустые значения строкой медианой\n",
    "data = replace_nan(data, 'reviews_last_delta', 'median')"
   ]
  },
  {
   "cell_type": "markdown",
   "metadata": {},
   "source": [
    "Обработаем признаки полученные из дополнительного датасета с информацией по городам. Это признаки Contry, Capital и Population"
   ]
  },
  {
   "cell_type": "markdown",
   "metadata": {},
   "source": [
    "### Признак 'Country'"
   ]
  },
  {
   "cell_type": "code",
   "execution_count": 48,
   "metadata": {},
   "outputs": [
    {
     "name": "stdout",
     "output_type": "stream",
     "text": [
      "Проведем анализ для переменной country\n",
      "Всего значений: 50000\n",
      "Пустых значений: 0\n",
      "Значений, упомянутых более 10 раз: 22\n",
      "Уникальных значений: 22\n"
     ]
    },
    {
     "data": {
      "text/html": [
       "<div>\n",
       "<style scoped>\n",
       "    .dataframe tbody tr th:only-of-type {\n",
       "        vertical-align: middle;\n",
       "    }\n",
       "\n",
       "    .dataframe tbody tr th {\n",
       "        vertical-align: top;\n",
       "    }\n",
       "\n",
       "    .dataframe thead th {\n",
       "        text-align: right;\n",
       "    }\n",
       "</style>\n",
       "<table border=\"1\" class=\"dataframe\">\n",
       "  <thead>\n",
       "    <tr style=\"text-align: right;\">\n",
       "      <th></th>\n",
       "      <th>country</th>\n",
       "    </tr>\n",
       "  </thead>\n",
       "  <tbody>\n",
       "    <tr>\n",
       "      <th>United Kingdom</th>\n",
       "      <td>7938</td>\n",
       "    </tr>\n",
       "    <tr>\n",
       "      <th>France</th>\n",
       "      <td>7234</td>\n",
       "    </tr>\n",
       "    <tr>\n",
       "      <th>Spain</th>\n",
       "      <td>7208</td>\n",
       "    </tr>\n",
       "    <tr>\n",
       "      <th>Italy</th>\n",
       "      <td>5283</td>\n",
       "    </tr>\n",
       "    <tr>\n",
       "      <th>Germany</th>\n",
       "      <td>5036</td>\n",
       "    </tr>\n",
       "    <tr>\n",
       "      <th>Portugal</th>\n",
       "      <td>2289</td>\n",
       "    </tr>\n",
       "    <tr>\n",
       "      <th>Czechia</th>\n",
       "      <td>1816</td>\n",
       "    </tr>\n",
       "    <tr>\n",
       "      <th>Poland</th>\n",
       "      <td>1479</td>\n",
       "    </tr>\n",
       "    <tr>\n",
       "      <th>Austria</th>\n",
       "      <td>1443</td>\n",
       "    </tr>\n",
       "    <tr>\n",
       "      <th>Netherlands</th>\n",
       "      <td>1372</td>\n",
       "    </tr>\n",
       "  </tbody>\n",
       "</table>\n",
       "</div>"
      ],
      "text/plain": [
       "                country\n",
       "United Kingdom     7938\n",
       "France             7234\n",
       "Spain              7208\n",
       "Italy              5283\n",
       "Germany            5036\n",
       "Portugal           2289\n",
       "Czechia            1816\n",
       "Poland             1479\n",
       "Austria            1443\n",
       "Netherlands        1372"
      ]
     },
     "metadata": {},
     "output_type": "display_data"
    },
    {
     "name": "stdout",
     "output_type": "stream",
     "text": [
      "<class 'pandas.core.frame.DataFrame'>\n",
      "Int64Index: 50000 entries, 0 to 49999\n",
      "Data columns (total 1 columns):\n",
      "country    50000 non-null object\n",
      "dtypes: object(1)\n",
      "memory usage: 781.2+ KB\n"
     ]
    }
   ],
   "source": [
    "column_info(data, 'country')"
   ]
  },
  {
   "cell_type": "code",
   "execution_count": 49,
   "metadata": {},
   "outputs": [
    {
     "name": "stdout",
     "output_type": "stream",
     "text": [
      "Применяем подход One-Hot Encoding для признака country\n"
     ]
    }
   ],
   "source": [
    "# Вынесем в блок предобработки\n",
    "\n",
    "# Для признака 'country' воспользуемся подходом One-Hot Encoding. Для этого есть уже готовая функция get_dummies.\n",
    "data = get_dummies_value_str(data, 'country', dummy_na=True)\n",
    "\n",
    "# Приведем наименования признаков к единому виду: 1. без заглавных букв 2. внесто пробелов нижнее подчеркивание\n",
    "data.columns = [x.lower().replace(' ', '_') for x in data.columns]"
   ]
  },
  {
   "cell_type": "markdown",
   "metadata": {},
   "source": [
    "### Признак 'Capital' "
   ]
  },
  {
   "cell_type": "code",
   "execution_count": 50,
   "metadata": {},
   "outputs": [
    {
     "name": "stdout",
     "output_type": "stream",
     "text": [
      "Проведем анализ для переменной capital\n",
      "Всего значений: 50000\n",
      "Пустых значений: 745\n",
      "Значений, упомянутых более 10 раз: 2\n",
      "Уникальных значений: 2\n"
     ]
    },
    {
     "data": {
      "text/html": [
       "<div>\n",
       "<style scoped>\n",
       "    .dataframe tbody tr th:only-of-type {\n",
       "        vertical-align: middle;\n",
       "    }\n",
       "\n",
       "    .dataframe tbody tr th {\n",
       "        vertical-align: top;\n",
       "    }\n",
       "\n",
       "    .dataframe thead th {\n",
       "        text-align: right;\n",
       "    }\n",
       "</style>\n",
       "<table border=\"1\" class=\"dataframe\">\n",
       "  <thead>\n",
       "    <tr style=\"text-align: right;\">\n",
       "      <th></th>\n",
       "      <th>capital</th>\n",
       "    </tr>\n",
       "  </thead>\n",
       "  <tbody>\n",
       "    <tr>\n",
       "      <th>primary</th>\n",
       "      <td>37238</td>\n",
       "    </tr>\n",
       "    <tr>\n",
       "      <th>admin</th>\n",
       "      <td>12017</td>\n",
       "    </tr>\n",
       "  </tbody>\n",
       "</table>\n",
       "</div>"
      ],
      "text/plain": [
       "         capital\n",
       "primary    37238\n",
       "admin      12017"
      ]
     },
     "metadata": {},
     "output_type": "display_data"
    },
    {
     "name": "stdout",
     "output_type": "stream",
     "text": [
      "<class 'pandas.core.frame.DataFrame'>\n",
      "Int64Index: 50000 entries, 0 to 49999\n",
      "Data columns (total 1 columns):\n",
      "capital    49255 non-null object\n",
      "dtypes: object(1)\n",
      "memory usage: 781.2+ KB\n"
     ]
    }
   ],
   "source": [
    "column_info(data, 'capital')"
   ]
  },
  {
   "cell_type": "code",
   "execution_count": 51,
   "metadata": {},
   "outputs": [
    {
     "name": "stdout",
     "output_type": "stream",
     "text": [
      "Применяем подход One-Hot Encoding для признака capital\n"
     ]
    }
   ],
   "source": [
    "# Вынесем в блок предобработки\n",
    "\n",
    "# Для признака 'capital' воспользуемся подходом One-Hot Encoding. Для этого есть уже готовая функция get_dummies.\n",
    "data = get_dummies_value_str(data, 'capital', dummy_na=True)\n",
    "\n",
    "# Приведем наименования признаков к единому виду: 1. без заглавных букв 2. внесто пробелов нижнее подчеркивание\n",
    "data.columns = [x.lower().replace(' ', '_') for x in data.columns]"
   ]
  },
  {
   "cell_type": "markdown",
   "metadata": {},
   "source": [
    "### Признак 'Population'"
   ]
  },
  {
   "cell_type": "markdown",
   "metadata": {},
   "source": [
    "Посмотри распределение признака в разрезе по городам:"
   ]
  },
  {
   "cell_type": "code",
   "execution_count": 52,
   "metadata": {},
   "outputs": [
    {
     "data": {
      "text/plain": [
       "<matplotlib.axes._subplots.AxesSubplot at 0x7f60a16e3320>"
      ]
     },
     "execution_count": 52,
     "metadata": {},
     "output_type": "execute_result"
    },
    {
     "data": {
      "image/png": "[encoded data removed]",
      "text/plain": [
       "<Figure size 720x504 with 1 Axes>"
      ]
     },
     "metadata": {
      "needs_background": "light"
     },
     "output_type": "display_data"
    }
   ],
   "source": [
    "data.groupby(['city'])['population'].max().sort_values(ascending=True).plot(kind='barh')"
   ]
  },
  {
   "cell_type": "markdown",
   "metadata": {},
   "source": [
    "Похоже на распределение количиства ресторанов в городе:"
   ]
  },
  {
   "cell_type": "code",
   "execution_count": 53,
   "metadata": {},
   "outputs": [
    {
     "data": {
      "text/plain": [
       "<matplotlib.axes._subplots.AxesSubplot at 0x7f60a16bd7b8>"
      ]
     },
     "execution_count": 53,
     "metadata": {},
     "output_type": "execute_result"
    },
    {
     "data": {
      "image/png": "[encoded data removed]",
      "text/plain": [
       "<Figure size 720x504 with 1 Axes>"
      ]
     },
     "metadata": {
      "needs_background": "light"
     },
     "output_type": "display_data"
    }
   ],
   "source": [
    "data['city'].value_counts(ascending=True).plot(kind='barh')"
   ]
  },
  {
   "cell_type": "code",
   "execution_count": 54,
   "metadata": {},
   "outputs": [],
   "source": [
    "# Добавим новые признаки, связанные количеством населения\n",
    "\n",
    "# Посчитаем количество ресторанов в каждом городе\n",
    "count_rest_in_city = data['city'].value_counts(ascending=False)\n",
    "\n",
    "# Добавим новый признак - количество ресторанов в городе\n",
    "data.loc[:, 'count_rest_in_city'] = data['city'].apply(lambda x: count_rest_in_city[x])\n",
    "# Добавим признак - количество людей в городе, которые приходяятся на 1 ресторан\n",
    "data.loc[:, 'people_per_rest'] = round(data['population'] / data['count_rest_in_city']) "
   ]
  },
  {
   "cell_type": "markdown",
   "metadata": {},
   "source": [
    "### Посмотрим распределение признака 'Ranking'"
   ]
  },
  {
   "cell_type": "code",
   "execution_count": 55,
   "metadata": {},
   "outputs": [
    {
     "data": {
      "text/plain": [
       "<matplotlib.axes._subplots.AxesSubplot at 0x7f60a1519278>"
      ]
     },
     "execution_count": 55,
     "metadata": {},
     "output_type": "execute_result"
    },
    {
     "data": {
      "image/png": "[encoded data removed]",
      "text/plain": [
       "<Figure size 720x504 with 1 Axes>"
      ]
     },
     "metadata": {
      "needs_background": "light"
     },
     "output_type": "display_data"
    }
   ],
   "source": [
    "plt.rcParams['figure.figsize'] = (10,7)\n",
    "data['ranking'].hist(bins=100)"
   ]
  },
  {
   "cell_type": "markdown",
   "metadata": {},
   "source": [
    "У нас много ресторанов, которые не дотягивают и до 2500 места в своем городе. Посмотрим распределение в разрезе по городам:"
   ]
  },
  {
   "cell_type": "code",
   "execution_count": 56,
   "metadata": {},
   "outputs": [
    {
     "data": {
      "text/plain": [
       "<matplotlib.axes._subplots.AxesSubplot at 0x7f60a0eb2fd0>"
      ]
     },
     "execution_count": 56,
     "metadata": {},
     "output_type": "execute_result"
    },
    {
     "data": {
      "image/png": "[encoded data removed]",
      "text/plain": [
       "<Figure size 720x504 with 1 Axes>"
      ]
     },
     "metadata": {
      "needs_background": "light"
     },
     "output_type": "display_data"
    }
   ],
   "source": [
    "data['city'].value_counts(ascending=True).plot(kind='barh')"
   ]
  },
  {
   "cell_type": "markdown",
   "metadata": {},
   "source": [
    "Посмотрим, как изменится распределение в большом городе:"
   ]
  },
  {
   "cell_type": "code",
   "execution_count": 57,
   "metadata": {},
   "outputs": [
    {
     "data": {
      "text/plain": [
       "<matplotlib.axes._subplots.AxesSubplot at 0x7f60a1519470>"
      ]
     },
     "execution_count": 57,
     "metadata": {},
     "output_type": "execute_result"
    },
    {
     "data": {
      "image/png": "[encoded data removed]",
      "text/plain": [
       "<Figure size 720x504 with 1 Axes>"
      ]
     },
     "metadata": {
      "needs_background": "light"
     },
     "output_type": "display_data"
    }
   ],
   "source": [
    "data['ranking'][data['city'] =='London'].hist(bins=100)"
   ]
  },
  {
   "cell_type": "code",
   "execution_count": 58,
   "metadata": {},
   "outputs": [
    {
     "data": {
      "image/png": "[encoded data removed]",
      "text/plain": [
       "<Figure size 720x504 with 1 Axes>"
      ]
     },
     "metadata": {
      "needs_background": "light"
     },
     "output_type": "display_data"
    }
   ],
   "source": [
    "# посмотрим на топ 10 городов\n",
    "for x in (data['city'].value_counts())[0:10].index:\n",
    "    data['ranking'][data['city'] == x].hist(bins=100)\n",
    "plt.show()"
   ]
  },
  {
   "cell_type": "markdown",
   "metadata": {},
   "source": [
    "Получается, что Ranking имеет нормальное распределение, просто в больших городах больше ресторанов, из-за мы этого имеем смещение.\n"
   ]
  },
  {
   "cell_type": "code",
   "execution_count": 59,
   "metadata": {},
   "outputs": [],
   "source": [
    "# необходимо скорректировать критерий Ranking по городам City\n",
    "\n",
    "# Cкорректируем критерий Ranking по количеству ресторанов в городе\n",
    "data.loc[:, 'ranking_per_rest'] = data['ranking'] / data['count_rest_in_city']"
   ]
  },
  {
   "cell_type": "code",
   "execution_count": 60,
   "metadata": {},
   "outputs": [
    {
     "data": {
      "image/png": "[encoded data removed]",
      "text/plain": [
       "<Figure size 720x504 with 1 Axes>"
      ]
     },
     "metadata": {
      "needs_background": "light"
     },
     "output_type": "display_data"
    }
   ],
   "source": [
    "# посмотрим на топ 10 городов\n",
    "for x in (data['city'].value_counts())[0:10].index:\n",
    "    data['ranking_per_rest'][data['city'] == x].hist(bins=100)\n",
    "plt.show()"
   ]
  },
  {
   "cell_type": "code",
   "execution_count": 61,
   "metadata": {},
   "outputs": [],
   "source": [
    "# необходимо скорректировать критерий Ranking по городам City\n",
    "# Посчитаем максимальный Ranking в каждом городе\n",
    "max_ranking_in_city = data.groupby(['city'])['ranking'].max()\n",
    "\n",
    "# Добавим новый признак - максимальный Ranking в городе\n",
    "data.loc[:, 'max_ranking_in_city'] = data['city'].apply(lambda x: max_ranking_in_city[x])\n",
    "# Cкорректируем критерий Ranking к максимальному значению в этом городе\n",
    "data.loc[:, 'ranking_per_max_value'] = data['ranking'] / data['max_ranking_in_city']"
   ]
  },
  {
   "cell_type": "code",
   "execution_count": 62,
   "metadata": {},
   "outputs": [
    {
     "data": {
      "image/png": "[encoded data removed]",
      "text/plain": [
       "<Figure size 720x504 with 1 Axes>"
      ]
     },
     "metadata": {
      "needs_background": "light"
     },
     "output_type": "display_data"
    }
   ],
   "source": [
    "# посмотрим на топ 10 городов\n",
    "for x in (data['city'].value_counts())[0:10].index:\n",
    "    data['ranking_per_max_value'][data['city'] == x].hist(bins=100)\n",
    "plt.show()"
   ]
  },
  {
   "cell_type": "markdown",
   "metadata": {},
   "source": [
    "## Признак 'id_ta'\n",
    "\n",
    "\n",
    "Выделим из идентификатора его номер. "
   ]
  },
  {
   "cell_type": "code",
   "execution_count": 63,
   "metadata": {},
   "outputs": [],
   "source": [
    "# Вынесем в блок предобработки\n",
    "\n",
    "# Выделим из идентификатора id_ta  номер ресторана\n",
    "data.loc[:, 'id_ta'] = data['id_ta'].apply(lambda x: int(str(x)[1:]))"
   ]
  },
  {
   "cell_type": "markdown",
   "metadata": {},
   "source": [
    "Посомтрим на корреляцию нового признака с 'ranking' и целевой переменной:"
   ]
  },
  {
   "cell_type": "code",
   "execution_count": 64,
   "metadata": {},
   "outputs": [
    {
     "data": {
      "text/html": [
       "<div>\n",
       "<style scoped>\n",
       "    .dataframe tbody tr th:only-of-type {\n",
       "        vertical-align: middle;\n",
       "    }\n",
       "\n",
       "    .dataframe tbody tr th {\n",
       "        vertical-align: top;\n",
       "    }\n",
       "\n",
       "    .dataframe thead th {\n",
       "        text-align: right;\n",
       "    }\n",
       "</style>\n",
       "<table border=\"1\" class=\"dataframe\">\n",
       "  <thead>\n",
       "    <tr style=\"text-align: right;\">\n",
       "      <th></th>\n",
       "      <th>id_ta</th>\n",
       "      <th>ranking</th>\n",
       "      <th>rating</th>\n",
       "    </tr>\n",
       "  </thead>\n",
       "  <tbody>\n",
       "    <tr>\n",
       "      <th>id_ta</th>\n",
       "      <td>1.000000</td>\n",
       "      <td>0.048826</td>\n",
       "      <td>0.159111</td>\n",
       "    </tr>\n",
       "    <tr>\n",
       "      <th>ranking</th>\n",
       "      <td>0.048826</td>\n",
       "      <td>1.000000</td>\n",
       "      <td>-0.368371</td>\n",
       "    </tr>\n",
       "    <tr>\n",
       "      <th>rating</th>\n",
       "      <td>0.159111</td>\n",
       "      <td>-0.368371</td>\n",
       "      <td>1.000000</td>\n",
       "    </tr>\n",
       "  </tbody>\n",
       "</table>\n",
       "</div>"
      ],
      "text/plain": [
       "            id_ta   ranking    rating\n",
       "id_ta    1.000000  0.048826  0.159111\n",
       "ranking  0.048826  1.000000 -0.368371\n",
       "rating   0.159111 -0.368371  1.000000"
      ]
     },
     "execution_count": 64,
     "metadata": {},
     "output_type": "execute_result"
    }
   ],
   "source": [
    "data.query('sample == 1')[['id_ta', 'ranking', 'rating']].corr()"
   ]
  },
  {
   "cell_type": "markdown",
   "metadata": {},
   "source": [
    "Есть небольшая положительная корреляция. Оставим полученный признак в наборе."
   ]
  },
  {
   "cell_type": "markdown",
   "metadata": {},
   "source": [
    "### Посмотрим распределение целевой переменной"
   ]
  },
  {
   "cell_type": "code",
   "execution_count": 65,
   "metadata": {},
   "outputs": [
    {
     "data": {
      "text/plain": [
       "<matplotlib.axes._subplots.AxesSubplot at 0x7f60a102f9b0>"
      ]
     },
     "execution_count": 65,
     "metadata": {},
     "output_type": "execute_result"
    },
    {
     "data": {
      "image/png": "[encoded data removed]",
      "text/plain": [
       "<Figure size 720x504 with 1 Axes>"
      ]
     },
     "metadata": {
      "needs_background": "light"
     },
     "output_type": "display_data"
    }
   ],
   "source": [
    "df_train['Rating'].value_counts(ascending=True).plot(kind='barh')"
   ]
  },
  {
   "cell_type": "markdown",
   "metadata": {},
   "source": [
    "### Посмотрим распределение целевой переменной относительно признака"
   ]
  },
  {
   "cell_type": "code",
   "execution_count": 66,
   "metadata": {},
   "outputs": [
    {
     "data": {
      "text/plain": [
       "<matplotlib.axes._subplots.AxesSubplot at 0x7f6099679be0>"
      ]
     },
     "execution_count": 66,
     "metadata": {},
     "output_type": "execute_result"
    },
    {
     "data": {
      "image/png": "[encoded data removed]",
      "text/plain": [
       "<Figure size 720x504 with 1 Axes>"
      ]
     },
     "metadata": {
      "needs_background": "light"
     },
     "output_type": "display_data"
    }
   ],
   "source": [
    "df_train['Ranking'][df_train['Rating'] == 5].hist(bins=100)"
   ]
  },
  {
   "cell_type": "code",
   "execution_count": 67,
   "metadata": {},
   "outputs": [
    {
     "data": {
      "text/plain": [
       "<matplotlib.axes._subplots.AxesSubplot at 0x7f609968f908>"
      ]
     },
     "execution_count": 67,
     "metadata": {},
     "output_type": "execute_result"
    },
    {
     "data": {
      "image/png": "[encoded data removed]",
      "text/plain": [
       "<Figure size 720x504 with 1 Axes>"
      ]
     },
     "metadata": {
      "needs_background": "light"
     },
     "output_type": "display_data"
    }
   ],
   "source": [
    "df_train['Ranking'][df_train['Rating'] < 4].hist(bins=100)"
   ]
  },
  {
   "cell_type": "markdown",
   "metadata": {},
   "source": [
    "### И один из моих любимых - [корреляция признаков](https://ru.wikipedia.org/wiki/Корреляция)\n",
    "На этом графике уже сейчас вы сможете заметить, как признаки связаны между собой и с целевой переменной."
   ]
  },
  {
   "cell_type": "code",
   "execution_count": 68,
   "metadata": {},
   "outputs": [],
   "source": [
    "# plt.rcParams['figure.figsize'] = (15,10)\n",
    "# sns.heatmap(data.drop(['sample'], axis=1).corr(),)"
   ]
  },
  {
   "cell_type": "markdown",
   "metadata": {},
   "source": [
    "Вообще благодаря визуализации в этом датасете можно узнать много интересных фактов, например:\n",
    "* где больше Пицерий в Мадриде или Лондоне?\n",
    "* в каком городе кухня ресторанов более разнообразна?\n",
    "\n",
    "придумайте свои вопрос и найдите на него ответ в данных)"
   ]
  },
  {
   "cell_type": "markdown",
   "metadata": {},
   "source": [
    "# Data Preprocessing\n",
    "Теперь, для удобства и воспроизводимости кода, завернем всю обработку в одну большую функцию."
   ]
  },
  {
   "cell_type": "code",
   "execution_count": 69,
   "metadata": {},
   "outputs": [
    {
     "name": "stdout",
     "output_type": "stream",
     "text": [
      "<class 'pandas.core.frame.DataFrame'>\n",
      "RangeIndex: 50000 entries, 0 to 49999\n",
      "Data columns (total 11 columns):\n",
      "Restaurant_id        50000 non-null object\n",
      "City                 50000 non-null object\n",
      "Cuisine Style        38410 non-null object\n",
      "Ranking              50000 non-null float64\n",
      "Price Range          32639 non-null object\n",
      "Number of Reviews    46800 non-null float64\n",
      "Reviews              49998 non-null object\n",
      "URL_TA               50000 non-null object\n",
      "ID_TA                50000 non-null object\n",
      "sample               50000 non-null int64\n",
      "Rating               50000 non-null float64\n",
      "dtypes: float64(3), int64(1), object(7)\n",
      "memory usage: 4.2+ MB\n"
     ]
    }
   ],
   "source": [
    "# на всякий случай, заново подгружаем данные\n",
    "df_train = pd.read_csv(DATA_DIR+'/main_task.csv')\n",
    "df_test = pd.read_csv(DATA_DIR+'/kaggle_task.csv')\n",
    "df_cities = pd.read_csv('./worldcities.csv')\n",
    "\n",
    "df_train['sample'] = 1 # помечаем где у нас трейн\n",
    "df_test['sample'] = 0 # помечаем где у нас тест\n",
    "df_test['Rating'] = 0 # в тесте у нас нет значения Rating, мы его должны предсказать, по этому пока просто заполняем нулями\n",
    "\n",
    "df_all = df_test.append(df_train, sort=False).reset_index(drop=True) # объединяем\n",
    "df_all.info()"
   ]
  },
  {
   "cell_type": "code",
   "execution_count": 70,
   "metadata": {},
   "outputs": [],
   "source": [
    "class preprocessing_data():\n",
    "    def __init__(self, df_input: pd.DataFrame, df_cities: pd.DataFrame):\n",
    "        self.df_output = df_input.copy()\n",
    "        self.df_cities = df_cities\n",
    "        \n",
    "    def prepare_columns(self):\n",
    "        # Приведем наименования признаков к единому виду: 1. без заглавных букв 2. внесто пробелов нижнее подчеркивание\n",
    "        self.df_output.columns = [x.lower().replace(' ', '_') for x in self.df_output.columns]   \n",
    "\n",
    "    def prepare_data(self):\n",
    "        # 1. Предобработка \n",
    "        self.preprocessing_step_1(df_cities)\n",
    "        # 2. NAN\n",
    "        self.preprocessing_step_2()\n",
    "        # 3. Encoding\n",
    "        self.preprocessing_step_3()\n",
    "        # 4. Feature Engineering\n",
    "        self.preprocessing_step_4()\n",
    "        # 5. Clean\n",
    "        self.preprocessing_step_5()\n",
    "        \n",
    "        return self.df_output\n",
    "\n",
    "    def preprocessing_step_1(self, df_cities: pd.DataFrame):\n",
    "        print('################### 1. Предобработка ####################################################')\n",
    "        # Приведем наименования признаков к единому виду\n",
    "        self.prepare_columns()\n",
    "        # Добавим данные по городам\n",
    "        self.df_output = merge_city_info(self.df_output, df_cities)\n",
    "    \n",
    "    def preprocessing_step_2(self):\n",
    "        print('################### 2. NAN ##############################################################') \n",
    "        # Распределение признака 'number_of_reviews' сильно смещено. Пустые значения заполним медианой. \n",
    "        self.df_output = replace_nan(self.df_output, 'number_of_reviews', 'median')\n",
    "        # Есть пустые значения 'reviews', заполним их такой строкой: [[], []]\n",
    "        self.df_output = replace_nan(self.df_output, 'reviews', 'new_value', '[[], []]')\n",
    "        # Пустые значения 'price_range' заполним самым распространенным значением\n",
    "        self.df_output = replace_nan(self.df_output, 'price_range', 'mode')\n",
    "        # Есть пустые значения 'cuisine_style'. Заполняем пустые значения строкой: []\n",
    "        self.df_output = replace_nan(self.df_output, 'cuisine_style', 'new_value', '[]')\n",
    "    \n",
    "    def preprocessing_step_3(self):\n",
    "        print('################### 3. Encoding #########################################################') \n",
    "        # Для признака 'City' воспользуемся подходом One-Hot Encoding. \n",
    "        self.df_output = get_dummies_value_str(self.df_output, 'city', dummy_na=True)\n",
    "\n",
    "        # Для признака 'Cuisine Style' также можно воспользоваться подходом One-Hot Encoding. Сделаем это в два этапа:\n",
    "        # Этап 1. Переведем занчения признака из str в list\n",
    "        self.df_output.loc[:, 'cuisine_style'] = self.df_output['cuisine_style'].apply(\n",
    "            lambda s: [] if s == '[]' else s.strip('[]').replace('\\'', '').split(', '))\n",
    "        # Этап 2. Воспользуемся функцией get_dummies_value_list аналогичной pd.get_dummies() \n",
    "        self.df_output = get_dummies_value_list(self.df_output, 'cuisine_style', dummy_na=True)\n",
    "\n",
    "        # Производим замену значений '$', '$$ - $$$', '$$$$' на значения 1, 2 и 3 соответственно\n",
    "        self.df_output.loc[:, 'price_range'] = self.df_output['price_range'].replace(['$', '$$ - $$$', '$$$$'], [1, 2, 3])\n",
    "\n",
    "         # Для признака 'country' воспользуемся подходом One-Hot Encoding. \n",
    "        self.df_output = get_dummies_value_str(self.df_output, 'country', dummy_na=True)\n",
    "\n",
    "         # Для признака 'capital' воспользуемся подходом One-Hot Encoding. \n",
    "        self.df_output = get_dummies_value_str(self.df_output, 'capital', dummy_na=True)\n",
    "\n",
    "        # Приведем наименования признаков к единому виду\n",
    "        self.prepare_columns()\n",
    "    \n",
    "    def preprocessing_step_4(self):\n",
    "        print('################### 4. Feature Engineering ##############################################')\n",
    "        # Создадим дополнительный признак - количество указанных стилей куфонь. \n",
    "        # Будем считать, если стиль не указан, то он количество = 1\n",
    "        self.df_output.loc[:, 'cuisine_number'] = self.df_output['cuisine_style'].apply(lambda x: 1 if x == [] else len(x))\n",
    "\n",
    "        # Из признака 'reviews' извлечем даты отзывов с соотвествующие паттерну для дат вида '07/06/2017'\n",
    "        self.df_output.loc[:, 'reviews_date_1'] = get_date_from_reviews(self.df_output['reviews'], 0)\n",
    "        self.df_output.loc[:, 'reviews_date_2'] = get_date_from_reviews(self.df_output['reviews'], 1)\n",
    "\n",
    "        # Создаем новый признак - разность между датами двух отзывов\n",
    "        self.df_output.loc[:, 'reviews_time_delta'] = abs(self.df_output['reviews_date_1'] - self.df_output['reviews_date_2']).dt.days\n",
    "        # График распределения сильно смещен. Заполняем пустые значения строкой медианой\n",
    "        self.df_output = replace_nan(self.df_output, 'reviews_time_delta', 'median')\n",
    "\n",
    "        #  Создаем новый признак - разность поледнего отзыва для данной строки и последнего отзыва для всех \n",
    "        self.df_output.loc[:, 'reviews_last_delta'] = get_day_delta_reviews(self.df_output[['reviews_date_1', 'reviews_date_2']])\n",
    "        # График распределения сильно смещен. Заполняем пустые значения строкой медианой\n",
    "        self.df_output = replace_nan(self.df_output, 'reviews_last_delta', 'median')\n",
    "\n",
    "        # необходимо скорректировать критерий Ranking по городам City\n",
    "        # Посчитаем количество ресторанов в каждом городе\n",
    "        count_rest_in_city = self.df_output['city'].value_counts(ascending=False)\n",
    "        # Добавим новый признак - количество ресторанов в городе\n",
    "        self.df_output.loc[:, 'count_rest_in_city'] = self.df_output['city'].apply(lambda x: count_rest_in_city[x])\n",
    "        # Добавим признак - количество людей в городе, которые приходяятся на 1 ресторан\n",
    "        self.df_output.loc[:, 'people_per_rest'] = round(self.df_output['population'] / self.df_output['count_rest_in_city']) \n",
    "\n",
    "        # Cкорректируем критерий Ranking по количеству ресторанов в городе\n",
    "        self.df_output.loc[:, 'ranking_per_rest'] = self.df_output['ranking'] / self.df_output['count_rest_in_city']\n",
    "\n",
    "        # Посчитаем максимальный Ranking в каждом городе\n",
    "        max_ranking_in_city = self.df_output.groupby(['city'])['ranking'].max()\n",
    "        # Добавим новый признак - максимальный Ranking в городе\n",
    "        self.df_output.loc[:, 'max_ranking_in_city'] = self.df_output['city'].apply(lambda x: max_ranking_in_city[x])\n",
    "        # Cкорректируем критерий Ranking к максимальному значению в этом городе\n",
    "        self.df_output.loc[:, 'ranking_per_max_value'] = self.df_output['ranking'] / self.df_output['max_ranking_in_city']\n",
    "\n",
    "        # Выделим из идентификатора id_ta  номер ресторана\n",
    "        self.df_output.loc[:, 'id_ta'] = self.df_output['id_ta'].apply(lambda x: int(str(x)[1:]))\n",
    "    \n",
    "    def preprocessing_step_5(self):\n",
    "        print('################### 5. Clean #################################################### ')\n",
    "        # убираем признаки которые еще не успели обработать, \n",
    "        # модель на признаках с dtypes \"object\" обучаться не будет, просто выберим их и удалим\n",
    "        object_columns = list(self.df_output.select_dtypes(include=['object', 'datetime']).columns)\n",
    "        self.df_output.drop(object_columns, axis = 1, inplace=True)\n",
    "    \n"
   ]
  },
  {
   "cell_type": "markdown",
   "metadata": {},
   "source": [
    "#### Запускаем и проверяем что получилось"
   ]
  },
  {
   "cell_type": "code",
   "execution_count": 71,
   "metadata": {},
   "outputs": [
    {
     "name": "stdout",
     "output_type": "stream",
     "text": [
      "################### 1. Предобработка ####################################################\n",
      "Добавляем к исходному набору данные дополнительную информацию по городам из переданного датасета\n",
      "################### 2. NAN ##############################################################\n",
      "В новый признак 'number_of_reviews_isnan' охраняем информацию, в каком наблюдении указано NaN\n",
      "Заполним пустые значения признака number_of_reviews медианой 33.0\n",
      "В новый признак 'reviews_isnan' охраняем информацию, в каком наблюдении указано NaN\n",
      "Заполним пустые значения признака reviews указанным значением [[], []]\n",
      "В новый признак 'price_range_isnan' охраняем информацию, в каком наблюдении указано NaN\n",
      "Заполним пустые значения признака price_range самым распространенным значением  $$ - $$$\n",
      "В новый признак 'cuisine_style_isnan' охраняем информацию, в каком наблюдении указано NaN\n",
      "Заполним пустые значения признака cuisine_style указанным значением []\n",
      "################### 3. Encoding #########################################################\n",
      "Применяем подход One-Hot Encoding для признака city\n",
      "Применяем подход One-Hot Encoding для признака cuisine_style\n",
      "Применяем подход One-Hot Encoding для признака country\n",
      "Применяем подход One-Hot Encoding для признака capital\n",
      "################### 4. Feature Engineering ##############################################\n",
      "Получаем 0-ю дату из признака reviews\n",
      "Получаем 1-ю дату из признака reviews\n",
      "В новый признак 'reviews_time_delta_isnan' охраняем информацию, в каком наблюдении указано NaN\n",
      "Заполним пустые значения признака reviews_time_delta медианой 67.0\n",
      "Создаем новый признак - разность поледнего отзыва для данной строки и последнего отзыва для всех \n",
      "В новый признак 'reviews_last_delta_isnan' охраняем информацию, в каком наблюдении указано NaN\n",
      "Заполним пустые значения признака reviews_last_delta медианой 136.0\n",
      "################### 5. Clean #################################################### \n"
     ]
    },
    {
     "data": {
      "text/html": [
       "<div>\n",
       "<style scoped>\n",
       "    .dataframe tbody tr th:only-of-type {\n",
       "        vertical-align: middle;\n",
       "    }\n",
       "\n",
       "    .dataframe tbody tr th {\n",
       "        vertical-align: top;\n",
       "    }\n",
       "\n",
       "    .dataframe thead th {\n",
       "        text-align: right;\n",
       "    }\n",
       "</style>\n",
       "<table border=\"1\" class=\"dataframe\">\n",
       "  <thead>\n",
       "    <tr style=\"text-align: right;\">\n",
       "      <th></th>\n",
       "      <th>ranking</th>\n",
       "      <th>price_range</th>\n",
       "      <th>number_of_reviews</th>\n",
       "      <th>id_ta</th>\n",
       "      <th>sample</th>\n",
       "      <th>rating</th>\n",
       "      <th>population</th>\n",
       "      <th>number_of_reviews_isnan</th>\n",
       "      <th>reviews_isnan</th>\n",
       "      <th>price_range_isnan</th>\n",
       "      <th>...</th>\n",
       "      <th>cuisine_number</th>\n",
       "      <th>reviews_time_delta</th>\n",
       "      <th>reviews_time_delta_isnan</th>\n",
       "      <th>reviews_last_delta</th>\n",
       "      <th>reviews_last_delta_isnan</th>\n",
       "      <th>count_rest_in_city</th>\n",
       "      <th>people_per_rest</th>\n",
       "      <th>ranking_per_rest</th>\n",
       "      <th>max_ranking_in_city</th>\n",
       "      <th>ranking_per_max_value</th>\n",
       "    </tr>\n",
       "  </thead>\n",
       "  <tbody>\n",
       "    <tr>\n",
       "      <th>3507</th>\n",
       "      <td>1904.0</td>\n",
       "      <td>2</td>\n",
       "      <td>3.0</td>\n",
       "      <td>7606803</td>\n",
       "      <td>0</td>\n",
       "      <td>0.0</td>\n",
       "      <td>1790658.0</td>\n",
       "      <td>0</td>\n",
       "      <td>0</td>\n",
       "      <td>1</td>\n",
       "      <td>...</td>\n",
       "      <td>2</td>\n",
       "      <td>67.0</td>\n",
       "      <td>1</td>\n",
       "      <td>136.0</td>\n",
       "      <td>1</td>\n",
       "      <td>925</td>\n",
       "      <td>1936.0</td>\n",
       "      <td>2.058378</td>\n",
       "      <td>2154.0</td>\n",
       "      <td>0.883937</td>\n",
       "    </tr>\n",
       "    <tr>\n",
       "      <th>35647</th>\n",
       "      <td>4203.0</td>\n",
       "      <td>1</td>\n",
       "      <td>107.0</td>\n",
       "      <td>2253886</td>\n",
       "      <td>1</td>\n",
       "      <td>4.5</td>\n",
       "      <td>10979000.0</td>\n",
       "      <td>0</td>\n",
       "      <td>0</td>\n",
       "      <td>0</td>\n",
       "      <td>...</td>\n",
       "      <td>4</td>\n",
       "      <td>18.0</td>\n",
       "      <td>0</td>\n",
       "      <td>62.0</td>\n",
       "      <td>0</td>\n",
       "      <td>7193</td>\n",
       "      <td>1526.0</td>\n",
       "      <td>0.584318</td>\n",
       "      <td>16444.0</td>\n",
       "      <td>0.255595</td>\n",
       "    </tr>\n",
       "    <tr>\n",
       "      <th>30839</th>\n",
       "      <td>2308.0</td>\n",
       "      <td>1</td>\n",
       "      <td>16.0</td>\n",
       "      <td>4086006</td>\n",
       "      <td>1</td>\n",
       "      <td>4.5</td>\n",
       "      <td>506654.0</td>\n",
       "      <td>0</td>\n",
       "      <td>0</td>\n",
       "      <td>0</td>\n",
       "      <td>...</td>\n",
       "      <td>2</td>\n",
       "      <td>580.0</td>\n",
       "      <td>0</td>\n",
       "      <td>593.0</td>\n",
       "      <td>0</td>\n",
       "      <td>1647</td>\n",
       "      <td>308.0</td>\n",
       "      <td>1.401336</td>\n",
       "      <td>3717.0</td>\n",
       "      <td>0.620931</td>\n",
       "    </tr>\n",
       "    <tr>\n",
       "      <th>39046</th>\n",
       "      <td>4251.0</td>\n",
       "      <td>2</td>\n",
       "      <td>7.0</td>\n",
       "      <td>9784271</td>\n",
       "      <td>1</td>\n",
       "      <td>4.0</td>\n",
       "      <td>3644826.0</td>\n",
       "      <td>0</td>\n",
       "      <td>0</td>\n",
       "      <td>1</td>\n",
       "      <td>...</td>\n",
       "      <td>1</td>\n",
       "      <td>67.0</td>\n",
       "      <td>1</td>\n",
       "      <td>136.0</td>\n",
       "      <td>1</td>\n",
       "      <td>2705</td>\n",
       "      <td>1347.0</td>\n",
       "      <td>1.571534</td>\n",
       "      <td>6372.0</td>\n",
       "      <td>0.667137</td>\n",
       "    </tr>\n",
       "    <tr>\n",
       "      <th>43034</th>\n",
       "      <td>1787.0</td>\n",
       "      <td>2</td>\n",
       "      <td>215.0</td>\n",
       "      <td>8825313</td>\n",
       "      <td>1</td>\n",
       "      <td>4.0</td>\n",
       "      <td>2872800.0</td>\n",
       "      <td>0</td>\n",
       "      <td>0</td>\n",
       "      <td>0</td>\n",
       "      <td>...</td>\n",
       "      <td>7</td>\n",
       "      <td>59.0</td>\n",
       "      <td>0</td>\n",
       "      <td>163.0</td>\n",
       "      <td>0</td>\n",
       "      <td>2589</td>\n",
       "      <td>1110.0</td>\n",
       "      <td>0.690228</td>\n",
       "      <td>5948.0</td>\n",
       "      <td>0.300437</td>\n",
       "    </tr>\n",
       "    <tr>\n",
       "      <th>35818</th>\n",
       "      <td>3029.0</td>\n",
       "      <td>2</td>\n",
       "      <td>4.0</td>\n",
       "      <td>12475546</td>\n",
       "      <td>1</td>\n",
       "      <td>4.0</td>\n",
       "      <td>506654.0</td>\n",
       "      <td>0</td>\n",
       "      <td>0</td>\n",
       "      <td>1</td>\n",
       "      <td>...</td>\n",
       "      <td>1</td>\n",
       "      <td>67.0</td>\n",
       "      <td>1</td>\n",
       "      <td>136.0</td>\n",
       "      <td>1</td>\n",
       "      <td>1647</td>\n",
       "      <td>308.0</td>\n",
       "      <td>1.839101</td>\n",
       "      <td>3717.0</td>\n",
       "      <td>0.814904</td>\n",
       "    </tr>\n",
       "    <tr>\n",
       "      <th>29874</th>\n",
       "      <td>1111.0</td>\n",
       "      <td>2</td>\n",
       "      <td>604.0</td>\n",
       "      <td>2297973</td>\n",
       "      <td>1</td>\n",
       "      <td>4.5</td>\n",
       "      <td>10979000.0</td>\n",
       "      <td>0</td>\n",
       "      <td>0</td>\n",
       "      <td>0</td>\n",
       "      <td>...</td>\n",
       "      <td>3</td>\n",
       "      <td>8.0</td>\n",
       "      <td>0</td>\n",
       "      <td>144.0</td>\n",
       "      <td>0</td>\n",
       "      <td>7193</td>\n",
       "      <td>1526.0</td>\n",
       "      <td>0.154456</td>\n",
       "      <td>16444.0</td>\n",
       "      <td>0.067563</td>\n",
       "    </tr>\n",
       "    <tr>\n",
       "      <th>44630</th>\n",
       "      <td>566.0</td>\n",
       "      <td>3</td>\n",
       "      <td>163.0</td>\n",
       "      <td>2306120</td>\n",
       "      <td>1</td>\n",
       "      <td>4.5</td>\n",
       "      <td>1031000.0</td>\n",
       "      <td>0</td>\n",
       "      <td>0</td>\n",
       "      <td>0</td>\n",
       "      <td>...</td>\n",
       "      <td>6</td>\n",
       "      <td>11.0</td>\n",
       "      <td>0</td>\n",
       "      <td>159.0</td>\n",
       "      <td>0</td>\n",
       "      <td>1372</td>\n",
       "      <td>751.0</td>\n",
       "      <td>0.412536</td>\n",
       "      <td>3254.0</td>\n",
       "      <td>0.173940</td>\n",
       "    </tr>\n",
       "    <tr>\n",
       "      <th>14589</th>\n",
       "      <td>9052.0</td>\n",
       "      <td>2</td>\n",
       "      <td>11.0</td>\n",
       "      <td>4801128</td>\n",
       "      <td>1</td>\n",
       "      <td>4.5</td>\n",
       "      <td>11020000.0</td>\n",
       "      <td>0</td>\n",
       "      <td>0</td>\n",
       "      <td>1</td>\n",
       "      <td>...</td>\n",
       "      <td>1</td>\n",
       "      <td>52.0</td>\n",
       "      <td>0</td>\n",
       "      <td>193.0</td>\n",
       "      <td>0</td>\n",
       "      <td>6108</td>\n",
       "      <td>1804.0</td>\n",
       "      <td>1.481991</td>\n",
       "      <td>13986.0</td>\n",
       "      <td>0.647219</td>\n",
       "    </tr>\n",
       "    <tr>\n",
       "      <th>34265</th>\n",
       "      <td>6040.0</td>\n",
       "      <td>2</td>\n",
       "      <td>13.0</td>\n",
       "      <td>10254679</td>\n",
       "      <td>1</td>\n",
       "      <td>4.0</td>\n",
       "      <td>3644826.0</td>\n",
       "      <td>0</td>\n",
       "      <td>0</td>\n",
       "      <td>0</td>\n",
       "      <td>...</td>\n",
       "      <td>1</td>\n",
       "      <td>168.0</td>\n",
       "      <td>0</td>\n",
       "      <td>471.0</td>\n",
       "      <td>0</td>\n",
       "      <td>2705</td>\n",
       "      <td>1347.0</td>\n",
       "      <td>2.232902</td>\n",
       "      <td>6372.0</td>\n",
       "      <td>0.947897</td>\n",
       "    </tr>\n",
       "  </tbody>\n",
       "</table>\n",
       "<p>10 rows × 201 columns</p>\n",
       "</div>"
      ],
      "text/plain": [
       "       ranking  price_range  number_of_reviews     id_ta  sample  rating  \\\n",
       "3507    1904.0            2                3.0   7606803       0     0.0   \n",
       "35647   4203.0            1              107.0   2253886       1     4.5   \n",
       "30839   2308.0            1               16.0   4086006       1     4.5   \n",
       "39046   4251.0            2                7.0   9784271       1     4.0   \n",
       "43034   1787.0            2              215.0   8825313       1     4.0   \n",
       "35818   3029.0            2                4.0  12475546       1     4.0   \n",
       "29874   1111.0            2              604.0   2297973       1     4.5   \n",
       "44630    566.0            3              163.0   2306120       1     4.5   \n",
       "14589   9052.0            2               11.0   4801128       1     4.5   \n",
       "34265   6040.0            2               13.0  10254679       1     4.0   \n",
       "\n",
       "       population  number_of_reviews_isnan  reviews_isnan  price_range_isnan  \\\n",
       "3507    1790658.0                        0              0                  1   \n",
       "35647  10979000.0                        0              0                  0   \n",
       "30839    506654.0                        0              0                  0   \n",
       "39046   3644826.0                        0              0                  1   \n",
       "43034   2872800.0                        0              0                  0   \n",
       "35818    506654.0                        0              0                  1   \n",
       "29874  10979000.0                        0              0                  0   \n",
       "44630   1031000.0                        0              0                  0   \n",
       "14589  11020000.0                        0              0                  1   \n",
       "34265   3644826.0                        0              0                  0   \n",
       "\n",
       "       ...  cuisine_number  reviews_time_delta  reviews_time_delta_isnan  \\\n",
       "3507   ...               2                67.0                         1   \n",
       "35647  ...               4                18.0                         0   \n",
       "30839  ...               2               580.0                         0   \n",
       "39046  ...               1                67.0                         1   \n",
       "43034  ...               7                59.0                         0   \n",
       "35818  ...               1                67.0                         1   \n",
       "29874  ...               3                 8.0                         0   \n",
       "44630  ...               6                11.0                         0   \n",
       "14589  ...               1                52.0                         0   \n",
       "34265  ...               1               168.0                         0   \n",
       "\n",
       "       reviews_last_delta  reviews_last_delta_isnan  count_rest_in_city  \\\n",
       "3507                136.0                         1                 925   \n",
       "35647                62.0                         0                7193   \n",
       "30839               593.0                         0                1647   \n",
       "39046               136.0                         1                2705   \n",
       "43034               163.0                         0                2589   \n",
       "35818               136.0                         1                1647   \n",
       "29874               144.0                         0                7193   \n",
       "44630               159.0                         0                1372   \n",
       "14589               193.0                         0                6108   \n",
       "34265               471.0                         0                2705   \n",
       "\n",
       "       people_per_rest  ranking_per_rest  max_ranking_in_city  \\\n",
       "3507            1936.0          2.058378               2154.0   \n",
       "35647           1526.0          0.584318              16444.0   \n",
       "30839            308.0          1.401336               3717.0   \n",
       "39046           1347.0          1.571534               6372.0   \n",
       "43034           1110.0          0.690228               5948.0   \n",
       "35818            308.0          1.839101               3717.0   \n",
       "29874           1526.0          0.154456              16444.0   \n",
       "44630            751.0          0.412536               3254.0   \n",
       "14589           1804.0          1.481991              13986.0   \n",
       "34265           1347.0          2.232902               6372.0   \n",
       "\n",
       "       ranking_per_max_value  \n",
       "3507                0.883937  \n",
       "35647               0.255595  \n",
       "30839               0.620931  \n",
       "39046               0.667137  \n",
       "43034               0.300437  \n",
       "35818               0.814904  \n",
       "29874               0.067563  \n",
       "44630               0.173940  \n",
       "14589               0.647219  \n",
       "34265               0.947897  \n",
       "\n",
       "[10 rows x 201 columns]"
      ]
     },
     "execution_count": 71,
     "metadata": {},
     "output_type": "execute_result"
    }
   ],
   "source": [
    "#df_preproc = preproc_data(df_all, df_cities)\n",
    "\n",
    "preproc = preprocessing_data(df_all, df_cities)\n",
    "df_preproc = preproc.prepare_data()\n",
    "\n",
    "df_preproc.sample(10)"
   ]
  },
  {
   "cell_type": "code",
   "execution_count": 72,
   "metadata": {},
   "outputs": [],
   "source": [
    "# Теперь выделим тестовую часть\n",
    "train_data = df_preproc.query('sample == 1').drop(['sample'], axis=1)\n",
    "test_data = df_preproc.query('sample == 0').drop(['sample'], axis=1)\n",
    "\n",
    "y = train_data['rating'].values            # наш таргет\n",
    "X = train_data.drop(['rating'], axis=1)"
   ]
  },
  {
   "cell_type": "markdown",
   "metadata": {},
   "source": [
    "**Перед тем как отправлять наши данные на обучение, разделим данные на еще один тест и трейн, для валидации. \n",
    "Это поможет нам проверить, как хорошо наша модель работает, до отправки submissiona на kaggle.**"
   ]
  },
  {
   "cell_type": "code",
   "execution_count": 73,
   "metadata": {},
   "outputs": [],
   "source": [
    "# Воспользуемся специальной функцие train_test_split для разбивки тестовых данных\n",
    "# выделим 20% данных на валидацию (параметр test_size)\n",
    "X_train, X_test, y_train, y_test = train_test_split(X, y, test_size=0.2, random_state=RANDOM_SEED)"
   ]
  },
  {
   "cell_type": "code",
   "execution_count": 74,
   "metadata": {},
   "outputs": [
    {
     "data": {
      "text/plain": [
       "((10000, 200), (40000, 200), (40000, 199), (32000, 199), (8000, 199))"
      ]
     },
     "execution_count": 74,
     "metadata": {},
     "output_type": "execute_result"
    }
   ],
   "source": [
    "# проверяем\n",
    "test_data.shape, train_data.shape, X.shape, X_train.shape, X_test.shape"
   ]
  },
  {
   "cell_type": "markdown",
   "metadata": {},
   "source": [
    "# Model \n",
    "Сам ML"
   ]
  },
  {
   "cell_type": "code",
   "execution_count": 75,
   "metadata": {},
   "outputs": [],
   "source": [
    "# Импортируем необходимые библиотеки:\n",
    "from sklearn.ensemble import RandomForestRegressor # инструмент для создания и обучения модели\n",
    "from sklearn import metrics # инструменты для оценки точности модели"
   ]
  },
  {
   "cell_type": "code",
   "execution_count": 76,
   "metadata": {},
   "outputs": [],
   "source": [
    "# Создаём модель (НАСТРОЙКИ НЕ ТРОГАЕМ)\n",
    "model = RandomForestRegressor(n_estimators=100, verbose=1, n_jobs=-1, random_state=RANDOM_SEED)"
   ]
  },
  {
   "cell_type": "code",
   "execution_count": 77,
   "metadata": {},
   "outputs": [
    {
     "name": "stderr",
     "output_type": "stream",
     "text": [
      "[Parallel(n_jobs=-1)]: Using backend ThreadingBackend with 2 concurrent workers.\n",
      "[Parallel(n_jobs=-1)]: Done  46 tasks      | elapsed:   11.5s\n",
      "[Parallel(n_jobs=-1)]: Done 100 out of 100 | elapsed:   23.2s finished\n",
      "[Parallel(n_jobs=2)]: Using backend ThreadingBackend with 2 concurrent workers.\n",
      "[Parallel(n_jobs=2)]: Done  46 tasks      | elapsed:    0.1s\n",
      "[Parallel(n_jobs=2)]: Done 100 out of 100 | elapsed:    0.1s finished\n"
     ]
    }
   ],
   "source": [
    "# Обучаем модель на тестовом наборе данных\n",
    "model.fit(X_train, y_train)\n",
    "\n",
    "# Используем обученную модель для предсказания рейтинга ресторанов в тестовой выборке.\n",
    "# Предсказанные значения записываем в переменную y_pred\n",
    "y_pred = model.predict(X_test)"
   ]
  },
  {
   "cell_type": "code",
   "execution_count": 78,
   "metadata": {},
   "outputs": [],
   "source": [
    "# Добавим округление до 0.5\n",
    "y_pred = np.array([round(2*x) / 2 for x in y_pred])"
   ]
  },
  {
   "cell_type": "code",
   "execution_count": 79,
   "metadata": {},
   "outputs": [
    {
     "name": "stdout",
     "output_type": "stream",
     "text": [
      "MAE: 0.1636875\n"
     ]
    }
   ],
   "source": [
    "# Сравниваем предсказанные значения (y_pred) с реальными (y_test), и смотрим насколько они в среднем отличаются\n",
    "# Метрика называется Mean Absolute Error (MAE) и показывает среднее отклонение предсказанных значений от фактических.\n",
    "print('MAE:', metrics.mean_absolute_error(y_test, y_pred))"
   ]
  },
  {
   "cell_type": "code",
   "execution_count": 80,
   "metadata": {},
   "outputs": [
    {
     "data": {
      "text/plain": [
       "<matplotlib.axes._subplots.AxesSubplot at 0x7f60ac958b00>"
      ]
     },
     "execution_count": 80,
     "metadata": {},
     "output_type": "execute_result"
    },
    {
     "data": {
      "image/png": "[encoded data removed]",
      "text/plain": [
       "<Figure size 720x720 with 1 Axes>"
      ]
     },
     "metadata": {
      "needs_background": "light"
     },
     "output_type": "display_data"
    }
   ],
   "source": [
    "# в RandomForestRegressor есть возможность вывести самые важные признаки для модели\n",
    "plt.rcParams['figure.figsize'] = (10,10)\n",
    "feat_importances = pd.Series(model.feature_importances_, index=X.columns)\n",
    "feat_importances.nlargest(15).plot(kind='barh')"
   ]
  },
  {
   "cell_type": "code",
   "execution_count": 81,
   "metadata": {},
   "outputs": [
    {
     "data": {
      "text/plain": [
       "<matplotlib.axes._subplots.AxesSubplot at 0x7f6099902dd8>"
      ]
     },
     "execution_count": 81,
     "metadata": {},
     "output_type": "execute_result"
    },
    {
     "data": {
      "image/png": "[encoded data removed]",
      "text/plain": [
       "<Figure size 1080x720 with 2 Axes>"
      ]
     },
     "metadata": {
      "needs_background": "light"
     },
     "output_type": "display_data"
    }
   ],
   "source": [
    "plt.rcParams['figure.figsize'] = (15,10)\n",
    "sns.heatmap(data[feat_importances.nlargest(15).index].corr(), annot=True, cmap='coolwarm')"
   ]
  },
  {
   "cell_type": "markdown",
   "metadata": {},
   "source": [
    "# Submission\n",
    "Если все устраевает - готовим Submission на кагл"
   ]
  },
  {
   "cell_type": "code",
   "execution_count": 82,
   "metadata": {},
   "outputs": [
    {
     "data": {
      "text/html": [
       "<div>\n",
       "<style scoped>\n",
       "    .dataframe tbody tr th:only-of-type {\n",
       "        vertical-align: middle;\n",
       "    }\n",
       "\n",
       "    .dataframe tbody tr th {\n",
       "        vertical-align: top;\n",
       "    }\n",
       "\n",
       "    .dataframe thead th {\n",
       "        text-align: right;\n",
       "    }\n",
       "</style>\n",
       "<table border=\"1\" class=\"dataframe\">\n",
       "  <thead>\n",
       "    <tr style=\"text-align: right;\">\n",
       "      <th></th>\n",
       "      <th>ranking</th>\n",
       "      <th>price_range</th>\n",
       "      <th>number_of_reviews</th>\n",
       "      <th>id_ta</th>\n",
       "      <th>rating</th>\n",
       "      <th>population</th>\n",
       "      <th>number_of_reviews_isnan</th>\n",
       "      <th>reviews_isnan</th>\n",
       "      <th>price_range_isnan</th>\n",
       "      <th>cuisine_style_isnan</th>\n",
       "      <th>...</th>\n",
       "      <th>cuisine_number</th>\n",
       "      <th>reviews_time_delta</th>\n",
       "      <th>reviews_time_delta_isnan</th>\n",
       "      <th>reviews_last_delta</th>\n",
       "      <th>reviews_last_delta_isnan</th>\n",
       "      <th>count_rest_in_city</th>\n",
       "      <th>people_per_rest</th>\n",
       "      <th>ranking_per_rest</th>\n",
       "      <th>max_ranking_in_city</th>\n",
       "      <th>ranking_per_max_value</th>\n",
       "    </tr>\n",
       "  </thead>\n",
       "  <tbody>\n",
       "    <tr>\n",
       "      <th>0</th>\n",
       "      <td>12963.0</td>\n",
       "      <td>2</td>\n",
       "      <td>4.0</td>\n",
       "      <td>10746918</td>\n",
       "      <td>0.0</td>\n",
       "      <td>11020000.0</td>\n",
       "      <td>0</td>\n",
       "      <td>0</td>\n",
       "      <td>0</td>\n",
       "      <td>0</td>\n",
       "      <td>...</td>\n",
       "      <td>2</td>\n",
       "      <td>67.0</td>\n",
       "      <td>1</td>\n",
       "      <td>136.0</td>\n",
       "      <td>1</td>\n",
       "      <td>6108</td>\n",
       "      <td>1804.0</td>\n",
       "      <td>2.122299</td>\n",
       "      <td>13986.0</td>\n",
       "      <td>0.926855</td>\n",
       "    </tr>\n",
       "    <tr>\n",
       "      <th>1</th>\n",
       "      <td>106.0</td>\n",
       "      <td>2</td>\n",
       "      <td>97.0</td>\n",
       "      <td>6674944</td>\n",
       "      <td>0.0</td>\n",
       "      <td>642045.0</td>\n",
       "      <td>0</td>\n",
       "      <td>0</td>\n",
       "      <td>0</td>\n",
       "      <td>0</td>\n",
       "      <td>...</td>\n",
       "      <td>5</td>\n",
       "      <td>37.0</td>\n",
       "      <td>0</td>\n",
       "      <td>83.0</td>\n",
       "      <td>0</td>\n",
       "      <td>475</td>\n",
       "      <td>1352.0</td>\n",
       "      <td>0.223158</td>\n",
       "      <td>1141.0</td>\n",
       "      <td>0.092901</td>\n",
       "    </tr>\n",
       "    <tr>\n",
       "      <th>2</th>\n",
       "      <td>810.0</td>\n",
       "      <td>2</td>\n",
       "      <td>28.0</td>\n",
       "      <td>13129638</td>\n",
       "      <td>0.0</td>\n",
       "      <td>488050.0</td>\n",
       "      <td>0</td>\n",
       "      <td>0</td>\n",
       "      <td>0</td>\n",
       "      <td>0</td>\n",
       "      <td>...</td>\n",
       "      <td>1</td>\n",
       "      <td>22.0</td>\n",
       "      <td>0</td>\n",
       "      <td>60.0</td>\n",
       "      <td>0</td>\n",
       "      <td>745</td>\n",
       "      <td>655.0</td>\n",
       "      <td>1.087248</td>\n",
       "      <td>1766.0</td>\n",
       "      <td>0.458664</td>\n",
       "    </tr>\n",
       "    <tr>\n",
       "      <th>3</th>\n",
       "      <td>1669.0</td>\n",
       "      <td>3</td>\n",
       "      <td>202.0</td>\n",
       "      <td>680417</td>\n",
       "      <td>0.0</td>\n",
       "      <td>10979000.0</td>\n",
       "      <td>0</td>\n",
       "      <td>0</td>\n",
       "      <td>0</td>\n",
       "      <td>0</td>\n",
       "      <td>...</td>\n",
       "      <td>5</td>\n",
       "      <td>14.0</td>\n",
       "      <td>0</td>\n",
       "      <td>82.0</td>\n",
       "      <td>0</td>\n",
       "      <td>7193</td>\n",
       "      <td>1526.0</td>\n",
       "      <td>0.232031</td>\n",
       "      <td>16444.0</td>\n",
       "      <td>0.101496</td>\n",
       "    </tr>\n",
       "    <tr>\n",
       "      <th>4</th>\n",
       "      <td>37.0</td>\n",
       "      <td>3</td>\n",
       "      <td>162.0</td>\n",
       "      <td>1112354</td>\n",
       "      <td>0.0</td>\n",
       "      <td>429564.0</td>\n",
       "      <td>0</td>\n",
       "      <td>0</td>\n",
       "      <td>0</td>\n",
       "      <td>0</td>\n",
       "      <td>...</td>\n",
       "      <td>6</td>\n",
       "      <td>15.0</td>\n",
       "      <td>0</td>\n",
       "      <td>18.0</td>\n",
       "      <td>0</td>\n",
       "      <td>380</td>\n",
       "      <td>1130.0</td>\n",
       "      <td>0.097368</td>\n",
       "      <td>889.0</td>\n",
       "      <td>0.041620</td>\n",
       "    </tr>\n",
       "  </tbody>\n",
       "</table>\n",
       "<p>5 rows × 200 columns</p>\n",
       "</div>"
      ],
      "text/plain": [
       "   ranking  price_range  number_of_reviews     id_ta  rating  population  \\\n",
       "0  12963.0            2                4.0  10746918     0.0  11020000.0   \n",
       "1    106.0            2               97.0   6674944     0.0    642045.0   \n",
       "2    810.0            2               28.0  13129638     0.0    488050.0   \n",
       "3   1669.0            3              202.0    680417     0.0  10979000.0   \n",
       "4     37.0            3              162.0   1112354     0.0    429564.0   \n",
       "\n",
       "   number_of_reviews_isnan  reviews_isnan  price_range_isnan  \\\n",
       "0                        0              0                  0   \n",
       "1                        0              0                  0   \n",
       "2                        0              0                  0   \n",
       "3                        0              0                  0   \n",
       "4                        0              0                  0   \n",
       "\n",
       "   cuisine_style_isnan  ...  cuisine_number  reviews_time_delta  \\\n",
       "0                    0  ...               2                67.0   \n",
       "1                    0  ...               5                37.0   \n",
       "2                    0  ...               1                22.0   \n",
       "3                    0  ...               5                14.0   \n",
       "4                    0  ...               6                15.0   \n",
       "\n",
       "   reviews_time_delta_isnan  reviews_last_delta  reviews_last_delta_isnan  \\\n",
       "0                         1               136.0                         1   \n",
       "1                         0                83.0                         0   \n",
       "2                         0                60.0                         0   \n",
       "3                         0                82.0                         0   \n",
       "4                         0                18.0                         0   \n",
       "\n",
       "   count_rest_in_city  people_per_rest  ranking_per_rest  max_ranking_in_city  \\\n",
       "0                6108           1804.0          2.122299              13986.0   \n",
       "1                 475           1352.0          0.223158               1141.0   \n",
       "2                 745            655.0          1.087248               1766.0   \n",
       "3                7193           1526.0          0.232031              16444.0   \n",
       "4                 380           1130.0          0.097368                889.0   \n",
       "\n",
       "   ranking_per_max_value  \n",
       "0               0.926855  \n",
       "1               0.092901  \n",
       "2               0.458664  \n",
       "3               0.101496  \n",
       "4               0.041620  \n",
       "\n",
       "[5 rows x 200 columns]"
      ]
     },
     "execution_count": 82,
     "metadata": {},
     "output_type": "execute_result"
    }
   ],
   "source": [
    "test_data.head(5)"
   ]
  },
  {
   "cell_type": "code",
   "execution_count": 83,
   "metadata": {},
   "outputs": [],
   "source": [
    "test_data = test_data.drop(['rating'], axis=1)"
   ]
  },
  {
   "cell_type": "code",
   "execution_count": 84,
   "metadata": {},
   "outputs": [
    {
     "data": {
      "text/html": [
       "<div>\n",
       "<style scoped>\n",
       "    .dataframe tbody tr th:only-of-type {\n",
       "        vertical-align: middle;\n",
       "    }\n",
       "\n",
       "    .dataframe tbody tr th {\n",
       "        vertical-align: top;\n",
       "    }\n",
       "\n",
       "    .dataframe thead th {\n",
       "        text-align: right;\n",
       "    }\n",
       "</style>\n",
       "<table border=\"1\" class=\"dataframe\">\n",
       "  <thead>\n",
       "    <tr style=\"text-align: right;\">\n",
       "      <th></th>\n",
       "      <th>Restaurant_id</th>\n",
       "      <th>Rating</th>\n",
       "    </tr>\n",
       "  </thead>\n",
       "  <tbody>\n",
       "    <tr>\n",
       "      <th>0</th>\n",
       "      <td>id_0</td>\n",
       "      <td>2.0</td>\n",
       "    </tr>\n",
       "    <tr>\n",
       "      <th>1</th>\n",
       "      <td>id_1</td>\n",
       "      <td>2.5</td>\n",
       "    </tr>\n",
       "    <tr>\n",
       "      <th>2</th>\n",
       "      <td>id_2</td>\n",
       "      <td>4.0</td>\n",
       "    </tr>\n",
       "    <tr>\n",
       "      <th>3</th>\n",
       "      <td>id_3</td>\n",
       "      <td>1.0</td>\n",
       "    </tr>\n",
       "    <tr>\n",
       "      <th>4</th>\n",
       "      <td>id_4</td>\n",
       "      <td>4.0</td>\n",
       "    </tr>\n",
       "    <tr>\n",
       "      <th>...</th>\n",
       "      <td>...</td>\n",
       "      <td>...</td>\n",
       "    </tr>\n",
       "    <tr>\n",
       "      <th>9995</th>\n",
       "      <td>id_9995</td>\n",
       "      <td>3.0</td>\n",
       "    </tr>\n",
       "    <tr>\n",
       "      <th>9996</th>\n",
       "      <td>id_9996</td>\n",
       "      <td>1.5</td>\n",
       "    </tr>\n",
       "    <tr>\n",
       "      <th>9997</th>\n",
       "      <td>id_9997</td>\n",
       "      <td>4.5</td>\n",
       "    </tr>\n",
       "    <tr>\n",
       "      <th>9998</th>\n",
       "      <td>id_9998</td>\n",
       "      <td>1.0</td>\n",
       "    </tr>\n",
       "    <tr>\n",
       "      <th>9999</th>\n",
       "      <td>id_9999</td>\n",
       "      <td>2.5</td>\n",
       "    </tr>\n",
       "  </tbody>\n",
       "</table>\n",
       "<p>10000 rows × 2 columns</p>\n",
       "</div>"
      ],
      "text/plain": [
       "     Restaurant_id  Rating\n",
       "0             id_0     2.0\n",
       "1             id_1     2.5\n",
       "2             id_2     4.0\n",
       "3             id_3     1.0\n",
       "4             id_4     4.0\n",
       "...            ...     ...\n",
       "9995       id_9995     3.0\n",
       "9996       id_9996     1.5\n",
       "9997       id_9997     4.5\n",
       "9998       id_9998     1.0\n",
       "9999       id_9999     2.5\n",
       "\n",
       "[10000 rows x 2 columns]"
      ]
     },
     "execution_count": 84,
     "metadata": {},
     "output_type": "execute_result"
    }
   ],
   "source": [
    "sample_submission"
   ]
  },
  {
   "cell_type": "code",
   "execution_count": 85,
   "metadata": {},
   "outputs": [
    {
     "name": "stderr",
     "output_type": "stream",
     "text": [
      "[Parallel(n_jobs=2)]: Using backend ThreadingBackend with 2 concurrent workers.\n",
      "[Parallel(n_jobs=2)]: Done  46 tasks      | elapsed:    0.1s\n",
      "[Parallel(n_jobs=2)]: Done 100 out of 100 | elapsed:    0.2s finished\n"
     ]
    }
   ],
   "source": [
    "predict_submission = model.predict(test_data)"
   ]
  },
  {
   "cell_type": "code",
   "execution_count": 86,
   "metadata": {},
   "outputs": [
    {
     "data": {
      "text/plain": [
       "array([3.05 , 4.23 , 4.16 , ..., 3.055, 4.47 , 4.135])"
      ]
     },
     "execution_count": 86,
     "metadata": {},
     "output_type": "execute_result"
    }
   ],
   "source": [
    "predict_submission"
   ]
  },
  {
   "cell_type": "code",
   "execution_count": 87,
   "metadata": {},
   "outputs": [],
   "source": [
    "predict_submission = np.array([round(2*x) / 2 for x in predict_submission])"
   ]
  },
  {
   "cell_type": "code",
   "execution_count": 88,
   "metadata": {},
   "outputs": [],
   "source": [
    "sample_submission['Rating'] = predict_submission\n",
    "sample_submission.to_csv('submission.csv', index=False)"
   ]
  },
  {
   "cell_type": "code",
   "execution_count": 89,
   "metadata": {},
   "outputs": [
    {
     "data": {
      "text/html": [
       "<div>\n",
       "<style scoped>\n",
       "    .dataframe tbody tr th:only-of-type {\n",
       "        vertical-align: middle;\n",
       "    }\n",
       "\n",
       "    .dataframe tbody tr th {\n",
       "        vertical-align: top;\n",
       "    }\n",
       "\n",
       "    .dataframe thead th {\n",
       "        text-align: right;\n",
       "    }\n",
       "</style>\n",
       "<table border=\"1\" class=\"dataframe\">\n",
       "  <thead>\n",
       "    <tr style=\"text-align: right;\">\n",
       "      <th></th>\n",
       "      <th>Restaurant_id</th>\n",
       "      <th>Rating</th>\n",
       "    </tr>\n",
       "  </thead>\n",
       "  <tbody>\n",
       "    <tr>\n",
       "      <th>0</th>\n",
       "      <td>id_0</td>\n",
       "      <td>3.0</td>\n",
       "    </tr>\n",
       "    <tr>\n",
       "      <th>1</th>\n",
       "      <td>id_1</td>\n",
       "      <td>4.0</td>\n",
       "    </tr>\n",
       "    <tr>\n",
       "      <th>2</th>\n",
       "      <td>id_2</td>\n",
       "      <td>4.0</td>\n",
       "    </tr>\n",
       "    <tr>\n",
       "      <th>3</th>\n",
       "      <td>id_3</td>\n",
       "      <td>4.5</td>\n",
       "    </tr>\n",
       "    <tr>\n",
       "      <th>4</th>\n",
       "      <td>id_4</td>\n",
       "      <td>4.5</td>\n",
       "    </tr>\n",
       "    <tr>\n",
       "      <th>...</th>\n",
       "      <td>...</td>\n",
       "      <td>...</td>\n",
       "    </tr>\n",
       "    <tr>\n",
       "      <th>9995</th>\n",
       "      <td>id_9995</td>\n",
       "      <td>4.5</td>\n",
       "    </tr>\n",
       "    <tr>\n",
       "      <th>9996</th>\n",
       "      <td>id_9996</td>\n",
       "      <td>4.0</td>\n",
       "    </tr>\n",
       "    <tr>\n",
       "      <th>9997</th>\n",
       "      <td>id_9997</td>\n",
       "      <td>3.0</td>\n",
       "    </tr>\n",
       "    <tr>\n",
       "      <th>9998</th>\n",
       "      <td>id_9998</td>\n",
       "      <td>4.5</td>\n",
       "    </tr>\n",
       "    <tr>\n",
       "      <th>9999</th>\n",
       "      <td>id_9999</td>\n",
       "      <td>4.0</td>\n",
       "    </tr>\n",
       "  </tbody>\n",
       "</table>\n",
       "<p>10000 rows × 2 columns</p>\n",
       "</div>"
      ],
      "text/plain": [
       "     Restaurant_id  Rating\n",
       "0             id_0     3.0\n",
       "1             id_1     4.0\n",
       "2             id_2     4.0\n",
       "3             id_3     4.5\n",
       "4             id_4     4.5\n",
       "...            ...     ...\n",
       "9995       id_9995     4.5\n",
       "9996       id_9996     4.0\n",
       "9997       id_9997     3.0\n",
       "9998       id_9998     4.5\n",
       "9999       id_9999     4.0\n",
       "\n",
       "[10000 rows x 2 columns]"
      ]
     },
     "execution_count": 89,
     "metadata": {},
     "output_type": "execute_result"
    }
   ],
   "source": [
    "sample_submission"
   ]
  }
 ],
 "metadata": {
  "kernelspec": {
   "display_name": "Python 3",
   "language": "python",
   "name": "python3"
  },
  "language_info": {
   "codemirror_mode": {
    "name": "ipython",
    "version": 3
   },
   "file_extension": ".py",
   "mimetype": "text/x-python",
   "name": "python",
   "nbconvert_exporter": "python",
   "pygments_lexer": "ipython3",
   "version": "3.6.6"
  }
 },
 "nbformat": 4,
 "nbformat_minor": 4
}
