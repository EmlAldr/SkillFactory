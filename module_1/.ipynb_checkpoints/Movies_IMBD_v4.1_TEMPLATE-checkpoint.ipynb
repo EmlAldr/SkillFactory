{
 "cells": [
  {
   "cell_type": "code",
   "execution_count": 1,
   "metadata": {
    "_cell_guid": "b1076dfc-b9ad-4769-8c92-a6c4dae69d19",
    "_uuid": "8f2839f25d086af736a60e9eeb907d3b93b6e0e5",
    "colab": {},
    "colab_type": "code",
    "id": "U2D2gTdJVp90"
   },
   "outputs": [],
   "source": [
    "import numpy as np\n",
    "import pandas as pd\n",
    "import seaborn as sns\n",
    "import matplotlib.pyplot as plt\n",
    "from collections import Counter"
   ]
  },
  {
   "cell_type": "code",
   "execution_count": 20,
   "metadata": {
    "_cell_guid": "79c7e3d0-c299-4dcb-8224-4455121ee9b0",
    "_uuid": "d629ff2d2480ee46fbb7e2d37f6b5fab8052498a",
    "colab": {},
    "colab_type": "code",
    "id": "oyGfxL3eVp9-"
   },
   "outputs": [
    {
     "data": {
      "text/html": [
       "<div>\n",
       "<style scoped>\n",
       "    .dataframe tbody tr th:only-of-type {\n",
       "        vertical-align: middle;\n",
       "    }\n",
       "\n",
       "    .dataframe tbody tr th {\n",
       "        vertical-align: top;\n",
       "    }\n",
       "\n",
       "    .dataframe thead th {\n",
       "        text-align: right;\n",
       "    }\n",
       "</style>\n",
       "<table border=\"1\" class=\"dataframe\">\n",
       "  <thead>\n",
       "    <tr style=\"text-align: right;\">\n",
       "      <th></th>\n",
       "      <th>imdb_id</th>\n",
       "      <th>budget</th>\n",
       "      <th>revenue</th>\n",
       "      <th>original_title</th>\n",
       "      <th>cast</th>\n",
       "      <th>director</th>\n",
       "      <th>tagline</th>\n",
       "      <th>overview</th>\n",
       "      <th>runtime</th>\n",
       "      <th>genres</th>\n",
       "      <th>production_companies</th>\n",
       "      <th>release_date</th>\n",
       "      <th>vote_average</th>\n",
       "      <th>release_year</th>\n",
       "    </tr>\n",
       "  </thead>\n",
       "  <tbody>\n",
       "    <tr>\n",
       "      <th>1116</th>\n",
       "      <td>tt0302886</td>\n",
       "      <td>24000000</td>\n",
       "      <td>87055349</td>\n",
       "      <td>Old School</td>\n",
       "      <td>Luke Wilson|Will Ferrell|Vince Vaughn|Ellen Po...</td>\n",
       "      <td>Todd Phillips</td>\n",
       "      <td>All the fun of college, none of the education.</td>\n",
       "      <td>Three friends attempt to recapture their glory...</td>\n",
       "      <td>91</td>\n",
       "      <td>Comedy</td>\n",
       "      <td>DreamWorks SKG|The Montecito Picture Company</td>\n",
       "      <td>2/21/2003</td>\n",
       "      <td>6.6</td>\n",
       "      <td>2003</td>\n",
       "    </tr>\n",
       "    <tr>\n",
       "      <th>782</th>\n",
       "      <td>tt0810913</td>\n",
       "      <td>79000000</td>\n",
       "      <td>149673788</td>\n",
       "      <td>Jack and Jill</td>\n",
       "      <td>Adam Sandler|Katie Holmes|Al Pacino|Eugenio De...</td>\n",
       "      <td>Dennis Dugan</td>\n",
       "      <td>His twin sister is coming for the holidays... ...</td>\n",
       "      <td>Jack Sadelstein, a successful advertising exec...</td>\n",
       "      <td>91</td>\n",
       "      <td>Comedy</td>\n",
       "      <td>Columbia Pictures|Happy Madison Productions|Br...</td>\n",
       "      <td>11/11/2011</td>\n",
       "      <td>4.2</td>\n",
       "      <td>2011</td>\n",
       "    </tr>\n",
       "    <tr>\n",
       "      <th>1674</th>\n",
       "      <td>tt0480249</td>\n",
       "      <td>150000000</td>\n",
       "      <td>585349010</td>\n",
       "      <td>I Am Legend</td>\n",
       "      <td>Will Smith|Alice Braga|Charlie Tahan|Salli Ric...</td>\n",
       "      <td>Francis Lawrence</td>\n",
       "      <td>The last man on Earth is not alone</td>\n",
       "      <td>Robert Neville is a scientist who was unable t...</td>\n",
       "      <td>101</td>\n",
       "      <td>Drama|Horror|Action|Thriller|Science Fiction</td>\n",
       "      <td>Village Roadshow Pictures|Original Film|Weed R...</td>\n",
       "      <td>12/14/2007</td>\n",
       "      <td>6.8</td>\n",
       "      <td>2007</td>\n",
       "    </tr>\n",
       "    <tr>\n",
       "      <th>418</th>\n",
       "      <td>tt0879870</td>\n",
       "      <td>60000000</td>\n",
       "      <td>204594016</td>\n",
       "      <td>Eat Pray Love</td>\n",
       "      <td>Julia Roberts|James Franco|Javier Bardem|Billy...</td>\n",
       "      <td>Ryan Murphy</td>\n",
       "      <td>Let Yourself GO</td>\n",
       "      <td>Liz Gilbert had everything a modern woman is s...</td>\n",
       "      <td>133</td>\n",
       "      <td>Drama</td>\n",
       "      <td>Columbia Pictures|Red Om Films|Plan B Entertai...</td>\n",
       "      <td>8/12/2010</td>\n",
       "      <td>5.7</td>\n",
       "      <td>2010</td>\n",
       "    </tr>\n",
       "    <tr>\n",
       "      <th>324</th>\n",
       "      <td>tt0762125</td>\n",
       "      <td>70000000</td>\n",
       "      <td>104945765</td>\n",
       "      <td>Planet 51</td>\n",
       "      <td>Dwayne Johnson|Seann William Scott|Jessica Bie...</td>\n",
       "      <td>Jorge Blanco|Javier Abad|Marcos MartÃ­nez</td>\n",
       "      <td>Something strange is coming to their planet...Us!</td>\n",
       "      <td>When Earth astronaut Capt. Chuck Baker arrives...</td>\n",
       "      <td>91</td>\n",
       "      <td>Science Fiction|Animation|Family|Comedy|Adventure</td>\n",
       "      <td>TriStar Pictures|Ilion Animation Studios|Hand ...</td>\n",
       "      <td>11/19/2009</td>\n",
       "      <td>5.7</td>\n",
       "      <td>2009</td>\n",
       "    </tr>\n",
       "  </tbody>\n",
       "</table>\n",
       "</div>"
      ],
      "text/plain": [
       "        imdb_id     budget    revenue original_title  \\\n",
       "1116  tt0302886   24000000   87055349     Old School   \n",
       "782   tt0810913   79000000  149673788  Jack and Jill   \n",
       "1674  tt0480249  150000000  585349010    I Am Legend   \n",
       "418   tt0879870   60000000  204594016  Eat Pray Love   \n",
       "324   tt0762125   70000000  104945765      Planet 51   \n",
       "\n",
       "                                                   cast  \\\n",
       "1116  Luke Wilson|Will Ferrell|Vince Vaughn|Ellen Po...   \n",
       "782   Adam Sandler|Katie Holmes|Al Pacino|Eugenio De...   \n",
       "1674  Will Smith|Alice Braga|Charlie Tahan|Salli Ric...   \n",
       "418   Julia Roberts|James Franco|Javier Bardem|Billy...   \n",
       "324   Dwayne Johnson|Seann William Scott|Jessica Bie...   \n",
       "\n",
       "                                       director  \\\n",
       "1116                              Todd Phillips   \n",
       "782                                Dennis Dugan   \n",
       "1674                           Francis Lawrence   \n",
       "418                                 Ryan Murphy   \n",
       "324   Jorge Blanco|Javier Abad|Marcos MartÃ­nez   \n",
       "\n",
       "                                                tagline  \\\n",
       "1116     All the fun of college, none of the education.   \n",
       "782   His twin sister is coming for the holidays... ...   \n",
       "1674                 The last man on Earth is not alone   \n",
       "418                                     Let Yourself GO   \n",
       "324   Something strange is coming to their planet...Us!   \n",
       "\n",
       "                                               overview  runtime  \\\n",
       "1116  Three friends attempt to recapture their glory...       91   \n",
       "782   Jack Sadelstein, a successful advertising exec...       91   \n",
       "1674  Robert Neville is a scientist who was unable t...      101   \n",
       "418   Liz Gilbert had everything a modern woman is s...      133   \n",
       "324   When Earth astronaut Capt. Chuck Baker arrives...       91   \n",
       "\n",
       "                                                 genres  \\\n",
       "1116                                             Comedy   \n",
       "782                                              Comedy   \n",
       "1674       Drama|Horror|Action|Thriller|Science Fiction   \n",
       "418                                               Drama   \n",
       "324   Science Fiction|Animation|Family|Comedy|Adventure   \n",
       "\n",
       "                                   production_companies release_date  \\\n",
       "1116       DreamWorks SKG|The Montecito Picture Company    2/21/2003   \n",
       "782   Columbia Pictures|Happy Madison Productions|Br...   11/11/2011   \n",
       "1674  Village Roadshow Pictures|Original Film|Weed R...   12/14/2007   \n",
       "418   Columbia Pictures|Red Om Films|Plan B Entertai...    8/12/2010   \n",
       "324   TriStar Pictures|Ilion Animation Studios|Hand ...   11/19/2009   \n",
       "\n",
       "      vote_average  release_year  \n",
       "1116           6.6          2003  \n",
       "782            4.2          2011  \n",
       "1674           6.8          2007  \n",
       "418            5.7          2010  \n",
       "324            5.7          2009  "
      ]
     },
     "execution_count": 20,
     "metadata": {},
     "output_type": "execute_result"
    }
   ],
   "source": [
    "data = pd.read_csv('../data/mod_1/movie_bd_v5.csv')\n",
    "data.sample(5)"
   ]
  },
  {
   "cell_type": "code",
   "execution_count": 21,
   "metadata": {},
   "outputs": [
    {
     "data": {
      "text/plain": [
       "(0, 14)"
      ]
     },
     "execution_count": 21,
     "metadata": {},
     "output_type": "execute_result"
    }
   ],
   "source": [
    "data[~data['imdb_id'].str.match('tt')].shape"
   ]
  },
  {
   "cell_type": "code",
   "execution_count": null,
   "metadata": {},
   "outputs": [],
   "source": []
  },
  {
   "cell_type": "code",
   "execution_count": 22,
   "metadata": {
    "colab": {},
    "colab_type": "code",
    "id": "CoYUnagMVp-C"
   },
   "outputs": [
    {
     "data": {
      "text/html": [
       "<div>\n",
       "<style scoped>\n",
       "    .dataframe tbody tr th:only-of-type {\n",
       "        vertical-align: middle;\n",
       "    }\n",
       "\n",
       "    .dataframe tbody tr th {\n",
       "        vertical-align: top;\n",
       "    }\n",
       "\n",
       "    .dataframe thead th {\n",
       "        text-align: right;\n",
       "    }\n",
       "</style>\n",
       "<table border=\"1\" class=\"dataframe\">\n",
       "  <thead>\n",
       "    <tr style=\"text-align: right;\">\n",
       "      <th></th>\n",
       "      <th>budget</th>\n",
       "      <th>revenue</th>\n",
       "      <th>runtime</th>\n",
       "      <th>vote_average</th>\n",
       "      <th>release_year</th>\n",
       "    </tr>\n",
       "  </thead>\n",
       "  <tbody>\n",
       "    <tr>\n",
       "      <th>count</th>\n",
       "      <td>1.889000e+03</td>\n",
       "      <td>1.889000e+03</td>\n",
       "      <td>1889.000000</td>\n",
       "      <td>1889.000000</td>\n",
       "      <td>1889.000000</td>\n",
       "    </tr>\n",
       "    <tr>\n",
       "      <th>mean</th>\n",
       "      <td>5.431083e+07</td>\n",
       "      <td>1.553653e+08</td>\n",
       "      <td>109.658549</td>\n",
       "      <td>6.140762</td>\n",
       "      <td>2007.860773</td>\n",
       "    </tr>\n",
       "    <tr>\n",
       "      <th>std</th>\n",
       "      <td>4.858721e+07</td>\n",
       "      <td>2.146698e+08</td>\n",
       "      <td>18.017041</td>\n",
       "      <td>0.764763</td>\n",
       "      <td>4.468841</td>\n",
       "    </tr>\n",
       "    <tr>\n",
       "      <th>min</th>\n",
       "      <td>5.000000e+06</td>\n",
       "      <td>2.033165e+06</td>\n",
       "      <td>63.000000</td>\n",
       "      <td>3.300000</td>\n",
       "      <td>2000.000000</td>\n",
       "    </tr>\n",
       "    <tr>\n",
       "      <th>25%</th>\n",
       "      <td>2.000000e+07</td>\n",
       "      <td>3.456058e+07</td>\n",
       "      <td>97.000000</td>\n",
       "      <td>5.600000</td>\n",
       "      <td>2004.000000</td>\n",
       "    </tr>\n",
       "    <tr>\n",
       "      <th>50%</th>\n",
       "      <td>3.800000e+07</td>\n",
       "      <td>8.361541e+07</td>\n",
       "      <td>107.000000</td>\n",
       "      <td>6.100000</td>\n",
       "      <td>2008.000000</td>\n",
       "    </tr>\n",
       "    <tr>\n",
       "      <th>75%</th>\n",
       "      <td>7.200000e+07</td>\n",
       "      <td>1.782626e+08</td>\n",
       "      <td>120.000000</td>\n",
       "      <td>6.600000</td>\n",
       "      <td>2012.000000</td>\n",
       "    </tr>\n",
       "    <tr>\n",
       "      <th>max</th>\n",
       "      <td>3.800000e+08</td>\n",
       "      <td>2.781506e+09</td>\n",
       "      <td>214.000000</td>\n",
       "      <td>8.100000</td>\n",
       "      <td>2015.000000</td>\n",
       "    </tr>\n",
       "  </tbody>\n",
       "</table>\n",
       "</div>"
      ],
      "text/plain": [
       "             budget       revenue      runtime  vote_average  release_year\n",
       "count  1.889000e+03  1.889000e+03  1889.000000   1889.000000   1889.000000\n",
       "mean   5.431083e+07  1.553653e+08   109.658549      6.140762   2007.860773\n",
       "std    4.858721e+07  2.146698e+08    18.017041      0.764763      4.468841\n",
       "min    5.000000e+06  2.033165e+06    63.000000      3.300000   2000.000000\n",
       "25%    2.000000e+07  3.456058e+07    97.000000      5.600000   2004.000000\n",
       "50%    3.800000e+07  8.361541e+07   107.000000      6.100000   2008.000000\n",
       "75%    7.200000e+07  1.782626e+08   120.000000      6.600000   2012.000000\n",
       "max    3.800000e+08  2.781506e+09   214.000000      8.100000   2015.000000"
      ]
     },
     "execution_count": 22,
     "metadata": {},
     "output_type": "execute_result"
    }
   ],
   "source": [
    "data.describe()"
   ]
  },
  {
   "cell_type": "markdown",
   "metadata": {
    "colab_type": "text",
    "id": "DTIt7ezGVp-G"
   },
   "source": [
    "# Предобработка"
   ]
  },
  {
   "cell_type": "code",
   "execution_count": 87,
   "metadata": {
    "colab": {},
    "colab_type": "code",
    "id": "jNb40DwKVp-H"
   },
   "outputs": [],
   "source": [
    "answers = {} # создадим словарь для ответов\n",
    "\n",
    "# 1. Преобразуем формат колонки release_date в формат даты\n",
    "data['release_date'] = data['release_date'].astype('datetime64[ns]')"
   ]
  },
  {
   "cell_type": "code",
   "execution_count": null,
   "metadata": {},
   "outputs": [],
   "source": [
    "# 2. Все значения колонки imdb_id начинаются на tt, поэтому уберем их\n",
    "data[~data['imdb_id'].str.match('tt')].shape\n",
    "data['imdb_id'] = data['imdb_id'].apply(lambda x: x[2::])"
   ]
  },
  {
   "cell_type": "code",
   "execution_count": null,
   "metadata": {},
   "outputs": [],
   "source": [
    "# 3. Преобразуем формат колонки imdb_id в int\n",
    "data['imdb_id'] = data['imdb_id'].astype(int)"
   ]
  },
  {
   "cell_type": "code",
   "execution_count": null,
   "metadata": {},
   "outputs": [],
   "source": [
    "# 4. обавин новый столбец profit = revenue - budget\n",
    "data['profit'] = data['revenue'] - data['budget']"
   ]
  },
  {
   "cell_type": "code",
   "execution_count": 88,
   "metadata": {},
   "outputs": [
    {
     "data": {
      "text/html": [
       "<div>\n",
       "<style scoped>\n",
       "    .dataframe tbody tr th:only-of-type {\n",
       "        vertical-align: middle;\n",
       "    }\n",
       "\n",
       "    .dataframe tbody tr th {\n",
       "        vertical-align: top;\n",
       "    }\n",
       "\n",
       "    .dataframe thead th {\n",
       "        text-align: right;\n",
       "    }\n",
       "</style>\n",
       "<table border=\"1\" class=\"dataframe\">\n",
       "  <thead>\n",
       "    <tr style=\"text-align: right;\">\n",
       "      <th></th>\n",
       "      <th>imdb_id</th>\n",
       "      <th>budget</th>\n",
       "      <th>revenue</th>\n",
       "      <th>original_title</th>\n",
       "      <th>cast</th>\n",
       "      <th>director</th>\n",
       "      <th>tagline</th>\n",
       "      <th>overview</th>\n",
       "      <th>runtime</th>\n",
       "      <th>genres</th>\n",
       "      <th>production_companies</th>\n",
       "      <th>release_date</th>\n",
       "      <th>vote_average</th>\n",
       "      <th>release_year</th>\n",
       "      <th>profit</th>\n",
       "    </tr>\n",
       "  </thead>\n",
       "  <tbody>\n",
       "    <tr>\n",
       "      <th>0</th>\n",
       "      <td>369610</td>\n",
       "      <td>150000000</td>\n",
       "      <td>1513528810</td>\n",
       "      <td>Jurassic World</td>\n",
       "      <td>Chris Pratt|Bryce Dallas Howard|Irrfan Khan|Vi...</td>\n",
       "      <td>Colin Trevorrow</td>\n",
       "      <td>The park is open.</td>\n",
       "      <td>Twenty-two years after the events of Jurassic ...</td>\n",
       "      <td>124</td>\n",
       "      <td>Action|Adventure|Science Fiction|Thriller</td>\n",
       "      <td>Universal Studios|Amblin Entertainment|Legenda...</td>\n",
       "      <td>2015-06-09</td>\n",
       "      <td>6.5</td>\n",
       "      <td>2015</td>\n",
       "      <td>1363528810</td>\n",
       "    </tr>\n",
       "    <tr>\n",
       "      <th>1</th>\n",
       "      <td>1392190</td>\n",
       "      <td>150000000</td>\n",
       "      <td>378436354</td>\n",
       "      <td>Mad Max: Fury Road</td>\n",
       "      <td>Tom Hardy|Charlize Theron|Hugh Keays-Byrne|Nic...</td>\n",
       "      <td>George Miller</td>\n",
       "      <td>What a Lovely Day.</td>\n",
       "      <td>An apocalyptic story set in the furthest reach...</td>\n",
       "      <td>120</td>\n",
       "      <td>Action|Adventure|Science Fiction|Thriller</td>\n",
       "      <td>Village Roadshow Pictures|Kennedy Miller Produ...</td>\n",
       "      <td>2015-05-13</td>\n",
       "      <td>7.1</td>\n",
       "      <td>2015</td>\n",
       "      <td>228436354</td>\n",
       "    </tr>\n",
       "    <tr>\n",
       "      <th>2</th>\n",
       "      <td>2908446</td>\n",
       "      <td>110000000</td>\n",
       "      <td>295238201</td>\n",
       "      <td>Insurgent</td>\n",
       "      <td>Shailene Woodley|Theo James|Kate Winslet|Ansel...</td>\n",
       "      <td>Robert Schwentke</td>\n",
       "      <td>One Choice Can Destroy You</td>\n",
       "      <td>Beatrice Prior must confront her inner demons ...</td>\n",
       "      <td>119</td>\n",
       "      <td>Adventure|Science Fiction|Thriller</td>\n",
       "      <td>Summit Entertainment|Mandeville Films|Red Wago...</td>\n",
       "      <td>2015-03-18</td>\n",
       "      <td>6.3</td>\n",
       "      <td>2015</td>\n",
       "      <td>185238201</td>\n",
       "    </tr>\n",
       "    <tr>\n",
       "      <th>3</th>\n",
       "      <td>2488496</td>\n",
       "      <td>200000000</td>\n",
       "      <td>2068178225</td>\n",
       "      <td>Star Wars: The Force Awakens</td>\n",
       "      <td>Harrison Ford|Mark Hamill|Carrie Fisher|Adam D...</td>\n",
       "      <td>J.J. Abrams</td>\n",
       "      <td>Every generation has a story.</td>\n",
       "      <td>Thirty years after defeating the Galactic Empi...</td>\n",
       "      <td>136</td>\n",
       "      <td>Action|Adventure|Science Fiction|Fantasy</td>\n",
       "      <td>Lucasfilm|Truenorth Productions|Bad Robot</td>\n",
       "      <td>2015-12-15</td>\n",
       "      <td>7.5</td>\n",
       "      <td>2015</td>\n",
       "      <td>1868178225</td>\n",
       "    </tr>\n",
       "    <tr>\n",
       "      <th>4</th>\n",
       "      <td>2820852</td>\n",
       "      <td>190000000</td>\n",
       "      <td>1506249360</td>\n",
       "      <td>Furious 7</td>\n",
       "      <td>Vin Diesel|Paul Walker|Jason Statham|Michelle ...</td>\n",
       "      <td>James Wan</td>\n",
       "      <td>Vengeance Hits Home</td>\n",
       "      <td>Deckard Shaw seeks revenge against Dominic Tor...</td>\n",
       "      <td>137</td>\n",
       "      <td>Action|Crime|Thriller</td>\n",
       "      <td>Universal Pictures|Original Film|Media Rights ...</td>\n",
       "      <td>2015-04-01</td>\n",
       "      <td>7.3</td>\n",
       "      <td>2015</td>\n",
       "      <td>1316249360</td>\n",
       "    </tr>\n",
       "  </tbody>\n",
       "</table>\n",
       "</div>"
      ],
      "text/plain": [
       "   imdb_id     budget     revenue                original_title  \\\n",
       "0   369610  150000000  1513528810                Jurassic World   \n",
       "1  1392190  150000000   378436354            Mad Max: Fury Road   \n",
       "2  2908446  110000000   295238201                     Insurgent   \n",
       "3  2488496  200000000  2068178225  Star Wars: The Force Awakens   \n",
       "4  2820852  190000000  1506249360                     Furious 7   \n",
       "\n",
       "                                                cast          director  \\\n",
       "0  Chris Pratt|Bryce Dallas Howard|Irrfan Khan|Vi...   Colin Trevorrow   \n",
       "1  Tom Hardy|Charlize Theron|Hugh Keays-Byrne|Nic...     George Miller   \n",
       "2  Shailene Woodley|Theo James|Kate Winslet|Ansel...  Robert Schwentke   \n",
       "3  Harrison Ford|Mark Hamill|Carrie Fisher|Adam D...       J.J. Abrams   \n",
       "4  Vin Diesel|Paul Walker|Jason Statham|Michelle ...         James Wan   \n",
       "\n",
       "                         tagline  \\\n",
       "0              The park is open.   \n",
       "1             What a Lovely Day.   \n",
       "2     One Choice Can Destroy You   \n",
       "3  Every generation has a story.   \n",
       "4            Vengeance Hits Home   \n",
       "\n",
       "                                            overview  runtime  \\\n",
       "0  Twenty-two years after the events of Jurassic ...      124   \n",
       "1  An apocalyptic story set in the furthest reach...      120   \n",
       "2  Beatrice Prior must confront her inner demons ...      119   \n",
       "3  Thirty years after defeating the Galactic Empi...      136   \n",
       "4  Deckard Shaw seeks revenge against Dominic Tor...      137   \n",
       "\n",
       "                                      genres  \\\n",
       "0  Action|Adventure|Science Fiction|Thriller   \n",
       "1  Action|Adventure|Science Fiction|Thriller   \n",
       "2         Adventure|Science Fiction|Thriller   \n",
       "3   Action|Adventure|Science Fiction|Fantasy   \n",
       "4                      Action|Crime|Thriller   \n",
       "\n",
       "                                production_companies release_date  \\\n",
       "0  Universal Studios|Amblin Entertainment|Legenda...   2015-06-09   \n",
       "1  Village Roadshow Pictures|Kennedy Miller Produ...   2015-05-13   \n",
       "2  Summit Entertainment|Mandeville Films|Red Wago...   2015-03-18   \n",
       "3          Lucasfilm|Truenorth Productions|Bad Robot   2015-12-15   \n",
       "4  Universal Pictures|Original Film|Media Rights ...   2015-04-01   \n",
       "\n",
       "   vote_average  release_year      profit  \n",
       "0           6.5          2015  1363528810  \n",
       "1           7.1          2015   228436354  \n",
       "2           6.3          2015   185238201  \n",
       "3           7.5          2015  1868178225  \n",
       "4           7.3          2015  1316249360  "
      ]
     },
     "execution_count": 88,
     "metadata": {},
     "output_type": "execute_result"
    }
   ],
   "source": [
    "data.head()"
   ]
  },
  {
   "cell_type": "markdown",
   "metadata": {
    "colab_type": "text",
    "id": "YxZaH-nPVp-L"
   },
   "source": [
    "# 1. У какого фильма из списка самый большой бюджет?"
   ]
  },
  {
   "cell_type": "markdown",
   "metadata": {
    "colab_type": "text",
    "id": "Nd-G5gX6Vp-M"
   },
   "source": [
    "Использовать варианты ответов в коде решения запрещено.    \n",
    "Вы думаете и в жизни у вас будут варианты ответов?)"
   ]
  },
  {
   "cell_type": "code",
   "execution_count": 96,
   "metadata": {},
   "outputs": [],
   "source": [
    "def get_movie_name(data_frame) -> str:\n",
    "    ''' Вспомогательная функция для получения наименования и imdb иденетефикатора фильма из заданного датафрэйма\n",
    "    Функция на вход получает data_frame (DataFrame) и берет из него original_title и imdb_id из верхней строки.\n",
    "    Как результат выдает строку вида 'original_title (imdb_id)'\n",
    "    '''\n",
    "    original_title = data_frame['original_title'][data_frame.index[0]]\n",
    "    imdb_id = data_frame['imdb_id'][data_frame.index[0]]\n",
    "    \n",
    "    return f'{original_title} ({imdb_id})'"
   ]
  },
  {
   "cell_type": "code",
   "execution_count": 97,
   "metadata": {
    "colab": {},
    "colab_type": "code",
    "id": "dZwb3m28Vp-S",
    "scrolled": true
   },
   "outputs": [
    {
     "data": {
      "text/html": [
       "<div>\n",
       "<style scoped>\n",
       "    .dataframe tbody tr th:only-of-type {\n",
       "        vertical-align: middle;\n",
       "    }\n",
       "\n",
       "    .dataframe tbody tr th {\n",
       "        vertical-align: top;\n",
       "    }\n",
       "\n",
       "    .dataframe thead th {\n",
       "        text-align: right;\n",
       "    }\n",
       "</style>\n",
       "<table border=\"1\" class=\"dataframe\">\n",
       "  <thead>\n",
       "    <tr style=\"text-align: right;\">\n",
       "      <th></th>\n",
       "      <th>imdb_id</th>\n",
       "      <th>budget</th>\n",
       "      <th>revenue</th>\n",
       "      <th>original_title</th>\n",
       "      <th>cast</th>\n",
       "      <th>director</th>\n",
       "      <th>tagline</th>\n",
       "      <th>overview</th>\n",
       "      <th>runtime</th>\n",
       "      <th>genres</th>\n",
       "      <th>production_companies</th>\n",
       "      <th>release_date</th>\n",
       "      <th>vote_average</th>\n",
       "      <th>release_year</th>\n",
       "      <th>profit</th>\n",
       "    </tr>\n",
       "  </thead>\n",
       "  <tbody>\n",
       "    <tr>\n",
       "      <th>723</th>\n",
       "      <td>1298650</td>\n",
       "      <td>380000000</td>\n",
       "      <td>1021683000</td>\n",
       "      <td>Pirates of the Caribbean: On Stranger Tides</td>\n",
       "      <td>Johnny Depp|PenÃ©lope Cruz|Geoffrey Rush|Ian M...</td>\n",
       "      <td>Rob Marshall</td>\n",
       "      <td>Live Forever Or Die Trying.</td>\n",
       "      <td>Captain Jack Sparrow crosses paths with a woma...</td>\n",
       "      <td>136</td>\n",
       "      <td>Adventure|Action|Fantasy</td>\n",
       "      <td>Walt Disney Pictures|Jerry Bruckheimer Films|M...</td>\n",
       "      <td>2011-05-11</td>\n",
       "      <td>6.3</td>\n",
       "      <td>2011</td>\n",
       "      <td>641683000</td>\n",
       "    </tr>\n",
       "  </tbody>\n",
       "</table>\n",
       "</div>"
      ],
      "text/plain": [
       "     imdb_id     budget     revenue  \\\n",
       "723  1298650  380000000  1021683000   \n",
       "\n",
       "                                  original_title  \\\n",
       "723  Pirates of the Caribbean: On Stranger Tides   \n",
       "\n",
       "                                                  cast      director  \\\n",
       "723  Johnny Depp|PenÃ©lope Cruz|Geoffrey Rush|Ian M...  Rob Marshall   \n",
       "\n",
       "                         tagline  \\\n",
       "723  Live Forever Or Die Trying.   \n",
       "\n",
       "                                              overview  runtime  \\\n",
       "723  Captain Jack Sparrow crosses paths with a woma...      136   \n",
       "\n",
       "                       genres  \\\n",
       "723  Adventure|Action|Fantasy   \n",
       "\n",
       "                                  production_companies release_date  \\\n",
       "723  Walt Disney Pictures|Jerry Bruckheimer Films|M...   2011-05-11   \n",
       "\n",
       "     vote_average  release_year     profit  \n",
       "723           6.3          2011  641683000  "
      ]
     },
     "execution_count": 97,
     "metadata": {},
     "output_type": "execute_result"
    }
   ],
   "source": [
    "df = data[data['budget'] == data['budget'].max()]\n",
    "df"
   ]
  },
  {
   "cell_type": "code",
   "execution_count": 98,
   "metadata": {},
   "outputs": [
    {
     "data": {
      "text/plain": [
       "'Pirates of the Caribbean: On Stranger Tides (1298650)'"
      ]
     },
     "execution_count": 98,
     "metadata": {},
     "output_type": "execute_result"
    }
   ],
   "source": [
    "answers['1'] = get_movie_name(df)\n",
    "answers['1']"
   ]
  },
  {
   "cell_type": "markdown",
   "metadata": {
    "colab_type": "text",
    "id": "FNRbbI3vVp-c"
   },
   "source": [
    "# 2. Какой из фильмов самый длительный (в минутах)?"
   ]
  },
  {
   "cell_type": "code",
   "execution_count": 100,
   "metadata": {},
   "outputs": [
    {
     "data": {
      "text/html": [
       "<div>\n",
       "<style scoped>\n",
       "    .dataframe tbody tr th:only-of-type {\n",
       "        vertical-align: middle;\n",
       "    }\n",
       "\n",
       "    .dataframe tbody tr th {\n",
       "        vertical-align: top;\n",
       "    }\n",
       "\n",
       "    .dataframe thead th {\n",
       "        text-align: right;\n",
       "    }\n",
       "</style>\n",
       "<table border=\"1\" class=\"dataframe\">\n",
       "  <thead>\n",
       "    <tr style=\"text-align: right;\">\n",
       "      <th></th>\n",
       "      <th>imdb_id</th>\n",
       "      <th>budget</th>\n",
       "      <th>revenue</th>\n",
       "      <th>original_title</th>\n",
       "      <th>cast</th>\n",
       "      <th>director</th>\n",
       "      <th>tagline</th>\n",
       "      <th>overview</th>\n",
       "      <th>runtime</th>\n",
       "      <th>genres</th>\n",
       "      <th>production_companies</th>\n",
       "      <th>release_date</th>\n",
       "      <th>vote_average</th>\n",
       "      <th>release_year</th>\n",
       "      <th>profit</th>\n",
       "    </tr>\n",
       "  </thead>\n",
       "  <tbody>\n",
       "    <tr>\n",
       "      <th>1157</th>\n",
       "      <td>279111</td>\n",
       "      <td>56000000</td>\n",
       "      <td>12923936</td>\n",
       "      <td>Gods and Generals</td>\n",
       "      <td>Stephen Lang|Jeff Daniels|Robert Duvall|Kevin ...</td>\n",
       "      <td>Ronald F. Maxwell</td>\n",
       "      <td>The nations heart was touched by...</td>\n",
       "      <td>The film centers mostly around the personal an...</td>\n",
       "      <td>214</td>\n",
       "      <td>Drama|History|War</td>\n",
       "      <td>Turner Pictures|Antietam Filmworks</td>\n",
       "      <td>2003-02-21</td>\n",
       "      <td>5.8</td>\n",
       "      <td>2003</td>\n",
       "      <td>-43076064</td>\n",
       "    </tr>\n",
       "  </tbody>\n",
       "</table>\n",
       "</div>"
      ],
      "text/plain": [
       "      imdb_id    budget   revenue     original_title  \\\n",
       "1157   279111  56000000  12923936  Gods and Generals   \n",
       "\n",
       "                                                   cast           director  \\\n",
       "1157  Stephen Lang|Jeff Daniels|Robert Duvall|Kevin ...  Ronald F. Maxwell   \n",
       "\n",
       "                                  tagline  \\\n",
       "1157  The nations heart was touched by...   \n",
       "\n",
       "                                               overview  runtime  \\\n",
       "1157  The film centers mostly around the personal an...      214   \n",
       "\n",
       "                 genres                production_companies release_date  \\\n",
       "1157  Drama|History|War  Turner Pictures|Antietam Filmworks   2003-02-21   \n",
       "\n",
       "      vote_average  release_year    profit  \n",
       "1157           5.8          2003 -43076064  "
      ]
     },
     "execution_count": 100,
     "metadata": {},
     "output_type": "execute_result"
    }
   ],
   "source": [
    "df = data[data['runtime'] == data['runtime'].max()]\n",
    "df"
   ]
  },
  {
   "cell_type": "code",
   "execution_count": 102,
   "metadata": {
    "colab": {},
    "colab_type": "code",
    "id": "vHAoEXNTVp-d"
   },
   "outputs": [
    {
     "data": {
      "text/plain": [
       "'Gods and Generals (279111)'"
      ]
     },
     "execution_count": 102,
     "metadata": {},
     "output_type": "execute_result"
    }
   ],
   "source": [
    "answers['2'] = get_movie_name(df)\n",
    "answers['2']"
   ]
  },
  {
   "cell_type": "markdown",
   "metadata": {
    "colab_type": "text",
    "id": "bapLlpW8Vp-k"
   },
   "source": [
    "# 3. Какой из фильмов самый короткий (в минутах)?\n",
    "\n",
    "\n",
    "\n"
   ]
  },
  {
   "cell_type": "code",
   "execution_count": 103,
   "metadata": {
    "colab": {},
    "colab_type": "code",
    "id": "YBxaSHuAVp-l"
   },
   "outputs": [
    {
     "data": {
      "text/html": [
       "<div>\n",
       "<style scoped>\n",
       "    .dataframe tbody tr th:only-of-type {\n",
       "        vertical-align: middle;\n",
       "    }\n",
       "\n",
       "    .dataframe tbody tr th {\n",
       "        vertical-align: top;\n",
       "    }\n",
       "\n",
       "    .dataframe thead th {\n",
       "        text-align: right;\n",
       "    }\n",
       "</style>\n",
       "<table border=\"1\" class=\"dataframe\">\n",
       "  <thead>\n",
       "    <tr style=\"text-align: right;\">\n",
       "      <th></th>\n",
       "      <th>imdb_id</th>\n",
       "      <th>budget</th>\n",
       "      <th>revenue</th>\n",
       "      <th>original_title</th>\n",
       "      <th>cast</th>\n",
       "      <th>director</th>\n",
       "      <th>tagline</th>\n",
       "      <th>overview</th>\n",
       "      <th>runtime</th>\n",
       "      <th>genres</th>\n",
       "      <th>production_companies</th>\n",
       "      <th>release_date</th>\n",
       "      <th>vote_average</th>\n",
       "      <th>release_year</th>\n",
       "      <th>profit</th>\n",
       "    </tr>\n",
       "  </thead>\n",
       "  <tbody>\n",
       "    <tr>\n",
       "      <th>768</th>\n",
       "      <td>1449283</td>\n",
       "      <td>30000000</td>\n",
       "      <td>14460000</td>\n",
       "      <td>Winnie the Pooh</td>\n",
       "      <td>Jim Cummings|Travis Oates|Jim Cummings|Bud Luc...</td>\n",
       "      <td>Stephen Anderson|Don Hall</td>\n",
       "      <td>Oh Pooh.</td>\n",
       "      <td>During an ordinary day in Hundred Acre Wood, W...</td>\n",
       "      <td>63</td>\n",
       "      <td>Animation|Family</td>\n",
       "      <td>Walt Disney Pictures|Walt Disney Animation Stu...</td>\n",
       "      <td>2011-04-13</td>\n",
       "      <td>6.8</td>\n",
       "      <td>2011</td>\n",
       "      <td>-15540000</td>\n",
       "    </tr>\n",
       "  </tbody>\n",
       "</table>\n",
       "</div>"
      ],
      "text/plain": [
       "     imdb_id    budget   revenue   original_title  \\\n",
       "768  1449283  30000000  14460000  Winnie the Pooh   \n",
       "\n",
       "                                                  cast  \\\n",
       "768  Jim Cummings|Travis Oates|Jim Cummings|Bud Luc...   \n",
       "\n",
       "                      director   tagline  \\\n",
       "768  Stephen Anderson|Don Hall  Oh Pooh.   \n",
       "\n",
       "                                              overview  runtime  \\\n",
       "768  During an ordinary day in Hundred Acre Wood, W...       63   \n",
       "\n",
       "               genres                               production_companies  \\\n",
       "768  Animation|Family  Walt Disney Pictures|Walt Disney Animation Stu...   \n",
       "\n",
       "    release_date  vote_average  release_year    profit  \n",
       "768   2011-04-13           6.8          2011 -15540000  "
      ]
     },
     "execution_count": 103,
     "metadata": {},
     "output_type": "execute_result"
    }
   ],
   "source": [
    "df = data[data['runtime'] == data['runtime'].min()]\n",
    "df"
   ]
  },
  {
   "cell_type": "code",
   "execution_count": 104,
   "metadata": {},
   "outputs": [
    {
     "data": {
      "text/plain": [
       "'Winnie the Pooh (1449283)'"
      ]
     },
     "execution_count": 104,
     "metadata": {},
     "output_type": "execute_result"
    }
   ],
   "source": [
    "answers['3'] = get_movie_name(df)\n",
    "answers['3']"
   ]
  },
  {
   "cell_type": "markdown",
   "metadata": {
    "colab_type": "text",
    "id": "TfQbxbfNVp-p"
   },
   "source": [
    "# 4. Какова средняя длительность фильмов?\n"
   ]
  },
  {
   "cell_type": "code",
   "execution_count": 81,
   "metadata": {
    "colab": {},
    "colab_type": "code",
    "id": "5K6dKZYVVp-q"
   },
   "outputs": [],
   "source": [
    "runtime_mean = data['runtime'].mean()"
   ]
  },
  {
   "cell_type": "code",
   "execution_count": 82,
   "metadata": {},
   "outputs": [
    {
     "data": {
      "text/plain": [
       "109.6585494970884"
      ]
     },
     "execution_count": 82,
     "metadata": {},
     "output_type": "execute_result"
    }
   ],
   "source": [
    "answers['4'] = runtime_mean\n",
    "answers['4']"
   ]
  },
  {
   "cell_type": "markdown",
   "metadata": {
    "colab_type": "text",
    "id": "r5TvbnT_Vp-u"
   },
   "source": [
    "# 5. Каково медианное значение длительности фильмов? "
   ]
  },
  {
   "cell_type": "code",
   "execution_count": 83,
   "metadata": {
    "colab": {},
    "colab_type": "code",
    "id": "iBROplKnVp-v"
   },
   "outputs": [],
   "source": [
    "runtime_median = data['runtime'].median()"
   ]
  },
  {
   "cell_type": "code",
   "execution_count": 84,
   "metadata": {},
   "outputs": [
    {
     "data": {
      "text/plain": [
       "107.0"
      ]
     },
     "execution_count": 84,
     "metadata": {},
     "output_type": "execute_result"
    }
   ],
   "source": [
    "answers['5'] = runtime_median\n",
    "answers['5']"
   ]
  },
  {
   "cell_type": "markdown",
   "metadata": {
    "colab_type": "text",
    "id": "39P-deDSVp-y"
   },
   "source": [
    "# 6. Какой самый прибыльный фильм?\n",
    "#### Внимание! Здесь и далее под «прибылью» или «убытками» понимается разность между сборами и бюджетом фильма. (прибыль = сборы - бюджет) в нашем датасете это будет (profit = revenue - budget) "
   ]
  },
  {
   "cell_type": "code",
   "execution_count": 105,
   "metadata": {},
   "outputs": [
    {
     "data": {
      "text/html": [
       "<div>\n",
       "<style scoped>\n",
       "    .dataframe tbody tr th:only-of-type {\n",
       "        vertical-align: middle;\n",
       "    }\n",
       "\n",
       "    .dataframe tbody tr th {\n",
       "        vertical-align: top;\n",
       "    }\n",
       "\n",
       "    .dataframe thead th {\n",
       "        text-align: right;\n",
       "    }\n",
       "</style>\n",
       "<table border=\"1\" class=\"dataframe\">\n",
       "  <thead>\n",
       "    <tr style=\"text-align: right;\">\n",
       "      <th></th>\n",
       "      <th>imdb_id</th>\n",
       "      <th>budget</th>\n",
       "      <th>revenue</th>\n",
       "      <th>original_title</th>\n",
       "      <th>cast</th>\n",
       "      <th>director</th>\n",
       "      <th>tagline</th>\n",
       "      <th>overview</th>\n",
       "      <th>runtime</th>\n",
       "      <th>genres</th>\n",
       "      <th>production_companies</th>\n",
       "      <th>release_date</th>\n",
       "      <th>vote_average</th>\n",
       "      <th>release_year</th>\n",
       "      <th>profit</th>\n",
       "    </tr>\n",
       "  </thead>\n",
       "  <tbody>\n",
       "    <tr>\n",
       "      <th>239</th>\n",
       "      <td>499549</td>\n",
       "      <td>237000000</td>\n",
       "      <td>2781505847</td>\n",
       "      <td>Avatar</td>\n",
       "      <td>Sam Worthington|Zoe Saldana|Sigourney Weaver|S...</td>\n",
       "      <td>James Cameron</td>\n",
       "      <td>Enter the World of Pandora.</td>\n",
       "      <td>In the 22nd century, a paraplegic Marine is di...</td>\n",
       "      <td>162</td>\n",
       "      <td>Action|Adventure|Fantasy|Science Fiction</td>\n",
       "      <td>Ingenious Film Partners|Twentieth Century Fox ...</td>\n",
       "      <td>2009-12-10</td>\n",
       "      <td>7.1</td>\n",
       "      <td>2009</td>\n",
       "      <td>2544505847</td>\n",
       "    </tr>\n",
       "  </tbody>\n",
       "</table>\n",
       "</div>"
      ],
      "text/plain": [
       "     imdb_id     budget     revenue original_title  \\\n",
       "239   499549  237000000  2781505847         Avatar   \n",
       "\n",
       "                                                  cast       director  \\\n",
       "239  Sam Worthington|Zoe Saldana|Sigourney Weaver|S...  James Cameron   \n",
       "\n",
       "                         tagline  \\\n",
       "239  Enter the World of Pandora.   \n",
       "\n",
       "                                              overview  runtime  \\\n",
       "239  In the 22nd century, a paraplegic Marine is di...      162   \n",
       "\n",
       "                                       genres  \\\n",
       "239  Action|Adventure|Fantasy|Science Fiction   \n",
       "\n",
       "                                  production_companies release_date  \\\n",
       "239  Ingenious Film Partners|Twentieth Century Fox ...   2009-12-10   \n",
       "\n",
       "     vote_average  release_year      profit  \n",
       "239           7.1          2009  2544505847  "
      ]
     },
     "execution_count": 105,
     "metadata": {},
     "output_type": "execute_result"
    }
   ],
   "source": [
    "df = data[data['profit'] == data['profit'].max()]\n",
    "df"
   ]
  },
  {
   "cell_type": "code",
   "execution_count": 106,
   "metadata": {},
   "outputs": [
    {
     "data": {
      "text/plain": [
       "'Avatar (499549)'"
      ]
     },
     "execution_count": 106,
     "metadata": {},
     "output_type": "execute_result"
    }
   ],
   "source": [
    "answers['6'] = get_movie_name(df)\n",
    "answers['6']"
   ]
  },
  {
   "cell_type": "markdown",
   "metadata": {
    "colab_type": "text",
    "id": "M99JmIX4Vp-2"
   },
   "source": [
    "# 7. Какой фильм самый убыточный? "
   ]
  },
  {
   "cell_type": "code",
   "execution_count": 113,
   "metadata": {
    "colab": {},
    "colab_type": "code",
    "id": "w-D2m4XPVp-3"
   },
   "outputs": [
    {
     "data": {
      "text/html": [
       "<div>\n",
       "<style scoped>\n",
       "    .dataframe tbody tr th:only-of-type {\n",
       "        vertical-align: middle;\n",
       "    }\n",
       "\n",
       "    .dataframe tbody tr th {\n",
       "        vertical-align: top;\n",
       "    }\n",
       "\n",
       "    .dataframe thead th {\n",
       "        text-align: right;\n",
       "    }\n",
       "</style>\n",
       "<table border=\"1\" class=\"dataframe\">\n",
       "  <thead>\n",
       "    <tr style=\"text-align: right;\">\n",
       "      <th></th>\n",
       "      <th>imdb_id</th>\n",
       "      <th>budget</th>\n",
       "      <th>revenue</th>\n",
       "      <th>original_title</th>\n",
       "      <th>cast</th>\n",
       "      <th>director</th>\n",
       "      <th>tagline</th>\n",
       "      <th>overview</th>\n",
       "      <th>runtime</th>\n",
       "      <th>genres</th>\n",
       "      <th>production_companies</th>\n",
       "      <th>release_date</th>\n",
       "      <th>vote_average</th>\n",
       "      <th>release_year</th>\n",
       "      <th>profit</th>\n",
       "    </tr>\n",
       "  </thead>\n",
       "  <tbody>\n",
       "    <tr>\n",
       "      <th>1245</th>\n",
       "      <td>1210819</td>\n",
       "      <td>255000000</td>\n",
       "      <td>89289910</td>\n",
       "      <td>The Lone Ranger</td>\n",
       "      <td>Johnny Depp|Armie Hammer|William Fichtner|Hele...</td>\n",
       "      <td>Gore Verbinski</td>\n",
       "      <td>Never Take Off the Mask</td>\n",
       "      <td>The Texas Rangers chase down a gang of outlaws...</td>\n",
       "      <td>149</td>\n",
       "      <td>Action|Adventure|Western</td>\n",
       "      <td>Walt Disney Pictures|Jerry Bruckheimer Films|I...</td>\n",
       "      <td>2013-07-03</td>\n",
       "      <td>6.0</td>\n",
       "      <td>2013</td>\n",
       "      <td>-165710090</td>\n",
       "    </tr>\n",
       "  </tbody>\n",
       "</table>\n",
       "</div>"
      ],
      "text/plain": [
       "      imdb_id     budget   revenue   original_title  \\\n",
       "1245  1210819  255000000  89289910  The Lone Ranger   \n",
       "\n",
       "                                                   cast        director  \\\n",
       "1245  Johnny Depp|Armie Hammer|William Fichtner|Hele...  Gore Verbinski   \n",
       "\n",
       "                      tagline  \\\n",
       "1245  Never Take Off the Mask   \n",
       "\n",
       "                                               overview  runtime  \\\n",
       "1245  The Texas Rangers chase down a gang of outlaws...      149   \n",
       "\n",
       "                        genres  \\\n",
       "1245  Action|Adventure|Western   \n",
       "\n",
       "                                   production_companies release_date  \\\n",
       "1245  Walt Disney Pictures|Jerry Bruckheimer Films|I...   2013-07-03   \n",
       "\n",
       "      vote_average  release_year     profit  \n",
       "1245           6.0          2013 -165710090  "
      ]
     },
     "execution_count": 113,
     "metadata": {},
     "output_type": "execute_result"
    }
   ],
   "source": [
    "df = data[data['profit'] == data['profit'].min()]\n",
    "df"
   ]
  },
  {
   "cell_type": "code",
   "execution_count": 114,
   "metadata": {},
   "outputs": [
    {
     "data": {
      "text/plain": [
       "'The Lone Ranger (1210819)'"
      ]
     },
     "execution_count": 114,
     "metadata": {},
     "output_type": "execute_result"
    }
   ],
   "source": [
    "answers['7'] = get_movie_name(df)\n",
    "answers['7']"
   ]
  },
  {
   "cell_type": "markdown",
   "metadata": {
    "colab_type": "text",
    "id": "wEOM5ERVVp-6"
   },
   "source": [
    "# 8. У скольких фильмов из датасета объем сборов оказался выше бюджета?"
   ]
  },
  {
   "cell_type": "code",
   "execution_count": 115,
   "metadata": {
    "colab": {},
    "colab_type": "code",
    "id": "y00_7HD6Vp-7"
   },
   "outputs": [
    {
     "data": {
      "text/plain": [
       "1478"
      ]
     },
     "execution_count": 115,
     "metadata": {},
     "output_type": "execute_result"
    }
   ],
   "source": [
    "movie_count = data.query('profit > 0').shape[0]\n",
    "movie_count"
   ]
  },
  {
   "cell_type": "code",
   "execution_count": 116,
   "metadata": {},
   "outputs": [
    {
     "data": {
      "text/plain": [
       "1478"
      ]
     },
     "execution_count": 116,
     "metadata": {},
     "output_type": "execute_result"
    }
   ],
   "source": [
    "answers['8'] = movie_count\n",
    "answers['8']"
   ]
  },
  {
   "cell_type": "markdown",
   "metadata": {
    "colab_type": "text",
    "id": "xhpspA9KVp_A"
   },
   "source": [
    "# 9. Какой фильм оказался самым кассовым в 2008 году?"
   ]
  },
  {
   "cell_type": "code",
   "execution_count": 0,
   "metadata": {
    "colab": {},
    "colab_type": "code",
    "id": "MoUyQr9RVp_B"
   },
   "outputs": [],
   "source": []
  },
  {
   "cell_type": "markdown",
   "metadata": {
    "colab_type": "text",
    "id": "Zi4hDKidVp_F"
   },
   "source": [
    "# 10. Самый убыточный фильм за период с 2012 по 2014 г. (включительно)?\n"
   ]
  },
  {
   "cell_type": "code",
   "execution_count": 0,
   "metadata": {
    "colab": {},
    "colab_type": "code",
    "id": "XqyRmufJVp_F"
   },
   "outputs": [],
   "source": []
  },
  {
   "cell_type": "markdown",
   "metadata": {
    "colab_type": "text",
    "id": "EA7Sa9dkVp_I"
   },
   "source": [
    "# 11. Какого жанра фильмов больше всего?"
   ]
  },
  {
   "cell_type": "code",
   "execution_count": 0,
   "metadata": {
    "colab": {},
    "colab_type": "code",
    "id": "zsJAwJ8QVp_J"
   },
   "outputs": [],
   "source": [
    "# эту задачу тоже можно решать разными подходами, попробуй реализовать разные варианты\n",
    "# если будешь добавлять функцию - выноси ее в предобработку что в начале"
   ]
  },
  {
   "cell_type": "markdown",
   "metadata": {
    "colab_type": "text",
    "id": "Ax6g2C8SVp_M"
   },
   "source": [
    "ВАРИАНТ 2"
   ]
  },
  {
   "cell_type": "code",
   "execution_count": 0,
   "metadata": {
    "colab": {},
    "colab_type": "code",
    "id": "otO3SbrSVp_N"
   },
   "outputs": [],
   "source": []
  },
  {
   "cell_type": "markdown",
   "metadata": {
    "colab_type": "text",
    "id": "T9_bPWpkVp_Q"
   },
   "source": [
    "# 12. Фильмы какого жанра чаще всего становятся прибыльными? "
   ]
  },
  {
   "cell_type": "code",
   "execution_count": 0,
   "metadata": {
    "colab": {},
    "colab_type": "code",
    "id": "Tmt8MaK1Vp_R"
   },
   "outputs": [],
   "source": []
  },
  {
   "cell_type": "markdown",
   "metadata": {
    "colab_type": "text",
    "id": "0F23bgsDVp_U"
   },
   "source": [
    "# 13. У какого режиссера самые большие суммарные кассовые сбооры?"
   ]
  },
  {
   "cell_type": "code",
   "execution_count": 0,
   "metadata": {
    "colab": {},
    "colab_type": "code",
    "id": "K6Z3J8ygVp_X"
   },
   "outputs": [],
   "source": []
  },
  {
   "cell_type": "markdown",
   "metadata": {
    "colab_type": "text",
    "id": "PsYC9FgRVp_a"
   },
   "source": [
    "# 14. Какой режисер снял больше всего фильмов в стиле Action?"
   ]
  },
  {
   "cell_type": "code",
   "execution_count": 0,
   "metadata": {
    "colab": {},
    "colab_type": "code",
    "id": "wd2M-wHeVp_b"
   },
   "outputs": [],
   "source": []
  },
  {
   "cell_type": "markdown",
   "metadata": {
    "colab_type": "text",
    "id": "PQ0KciD7Vp_f"
   },
   "source": [
    "# 15. Фильмы с каким актером принесли самые высокие кассовые сборы в 2012 году? "
   ]
  },
  {
   "cell_type": "code",
   "execution_count": 0,
   "metadata": {
    "colab": {},
    "colab_type": "code",
    "id": "aga62oeKVp_g"
   },
   "outputs": [],
   "source": []
  },
  {
   "cell_type": "markdown",
   "metadata": {
    "colab_type": "text",
    "id": "mWHyyL7QVp_j"
   },
   "source": [
    "# 16. Какой актер снялся в большем количестве высокобюджетных фильмов?"
   ]
  },
  {
   "cell_type": "code",
   "execution_count": 0,
   "metadata": {
    "colab": {},
    "colab_type": "code",
    "id": "qQtmHKTFVp_k"
   },
   "outputs": [],
   "source": []
  },
  {
   "cell_type": "markdown",
   "metadata": {
    "colab_type": "text",
    "id": "NIh6AaW5Vp_n"
   },
   "source": [
    "# 17. В фильмах какого жанра больше всего снимался Nicolas Cage? "
   ]
  },
  {
   "cell_type": "code",
   "execution_count": 0,
   "metadata": {
    "colab": {},
    "colab_type": "code",
    "id": "H74SJDIBVp_n"
   },
   "outputs": [],
   "source": []
  },
  {
   "cell_type": "markdown",
   "metadata": {
    "colab_type": "text",
    "id": "RqOmPRfWVp_q"
   },
   "source": [
    "# 18. Самый убыточный фильм от Paramount Pictures"
   ]
  },
  {
   "cell_type": "code",
   "execution_count": 0,
   "metadata": {
    "colab": {},
    "colab_type": "code",
    "id": "9E_B0Y96Vp_r"
   },
   "outputs": [],
   "source": []
  },
  {
   "cell_type": "markdown",
   "metadata": {
    "colab_type": "text",
    "id": "vS8Ur6ddVp_u"
   },
   "source": [
    "# 19. Какой год стал самым успешным по суммарным кассовым сборам?"
   ]
  },
  {
   "cell_type": "code",
   "execution_count": 0,
   "metadata": {
    "colab": {},
    "colab_type": "code",
    "id": "Dnbt4GdIVp_v"
   },
   "outputs": [],
   "source": []
  },
  {
   "cell_type": "markdown",
   "metadata": {
    "colab_type": "text",
    "id": "JAzJh4QAVp_z"
   },
   "source": [
    "# 20. Какой самый прибыльный год для студии Warner Bros?"
   ]
  },
  {
   "cell_type": "code",
   "execution_count": 0,
   "metadata": {
    "colab": {},
    "colab_type": "code",
    "id": "wgVu02DEVp_0"
   },
   "outputs": [],
   "source": []
  },
  {
   "cell_type": "markdown",
   "metadata": {
    "colab_type": "text",
    "id": "8Im1S2HRVp_4"
   },
   "source": [
    "# 21. В каком месяце за все годы суммарно вышло больше всего фильмов?"
   ]
  },
  {
   "cell_type": "code",
   "execution_count": 0,
   "metadata": {
    "colab": {},
    "colab_type": "code",
    "id": "lev6TH7gVp_4"
   },
   "outputs": [],
   "source": []
  },
  {
   "cell_type": "markdown",
   "metadata": {
    "colab_type": "text",
    "id": "uAJsZ_NeVp_7"
   },
   "source": [
    "# 22. Сколько суммарно вышло фильмов летом? (за июнь, июль, август)"
   ]
  },
  {
   "cell_type": "code",
   "execution_count": 0,
   "metadata": {
    "colab": {},
    "colab_type": "code",
    "id": "Aa-hEREoVp_8"
   },
   "outputs": [],
   "source": []
  },
  {
   "cell_type": "markdown",
   "metadata": {
    "colab_type": "text",
    "id": "G94ppOY1VqAA"
   },
   "source": [
    "# 23. Для какого режиссера зима – самое продуктивное время года? "
   ]
  },
  {
   "cell_type": "code",
   "execution_count": 0,
   "metadata": {
    "colab": {},
    "colab_type": "code",
    "id": "RhNTsamuVqAB"
   },
   "outputs": [],
   "source": []
  },
  {
   "cell_type": "markdown",
   "metadata": {
    "colab_type": "text",
    "id": "RBo0JVjVVqAF"
   },
   "source": [
    "# 24. Какая студия дает самые длинные названия своим фильмам по количеству символов?"
   ]
  },
  {
   "cell_type": "code",
   "execution_count": 0,
   "metadata": {
    "colab": {},
    "colab_type": "code",
    "id": "QRGS8L0iVqAG"
   },
   "outputs": [],
   "source": []
  },
  {
   "cell_type": "markdown",
   "metadata": {
    "colab_type": "text",
    "id": "9G0hbvR7VqAK"
   },
   "source": [
    "# 25. Описание фильмов какой студии в среднем самые длинные по количеству слов?"
   ]
  },
  {
   "cell_type": "code",
   "execution_count": 0,
   "metadata": {
    "colab": {},
    "colab_type": "code",
    "id": "Ge2GsLNxVqAK"
   },
   "outputs": [],
   "source": []
  },
  {
   "cell_type": "markdown",
   "metadata": {
    "colab_type": "text",
    "id": "FJ1AFt90VqAP"
   },
   "source": [
    "# 26. Какие фильмы входят в 1 процент лучших по рейтингу? \n",
    "по vote_average"
   ]
  },
  {
   "cell_type": "code",
   "execution_count": 0,
   "metadata": {
    "colab": {},
    "colab_type": "code",
    "id": "8qmJVq4CVqAQ"
   },
   "outputs": [],
   "source": []
  },
  {
   "cell_type": "markdown",
   "metadata": {
    "colab_type": "text",
    "id": "MdXsUXbCVqAV"
   },
   "source": [
    "# 27. Какие актеры чаще всего снимаются в одном фильме вместе?\n"
   ]
  },
  {
   "cell_type": "markdown",
   "metadata": {
    "colab_type": "text",
    "id": "4ymnxEVoVqAW"
   },
   "source": [
    "ВАРИАНТ 2"
   ]
  },
  {
   "cell_type": "markdown",
   "metadata": {
    "colab_type": "text",
    "id": "U0nONFnGVqAX"
   },
   "source": [
    "# Submission"
   ]
  },
  {
   "cell_type": "code",
   "execution_count": 0,
   "metadata": {
    "colab": {},
    "colab_type": "code",
    "id": "IfcaRO9-VqAX",
    "outputId": "0f132912-32bb-4196-c98c-abfbc4ad5a5f"
   },
   "outputs": [
    {
     "data": {
      "text/plain": [
       "{'1': '...', '2': '...'}"
      ]
     },
     "execution_count": 8,
     "metadata": {
      "tags": []
     },
     "output_type": "execute_result"
    }
   ],
   "source": [
    "# в конце можно посмотреть свои ответы к каждому вопросу\n",
    "answers"
   ]
  },
  {
   "cell_type": "code",
   "execution_count": 0,
   "metadata": {
    "colab": {},
    "colab_type": "code",
    "id": "SiRmHPl8VqAd"
   },
   "outputs": [],
   "source": [
    "# и убедиться что ни чего не пропустил)\n",
    "len(answers)"
   ]
  },
  {
   "cell_type": "code",
   "execution_count": 0,
   "metadata": {
    "colab": {},
    "colab_type": "code",
    "id": "uCfuTkRbVqAg"
   },
   "outputs": [],
   "source": []
  },
  {
   "cell_type": "code",
   "execution_count": 0,
   "metadata": {
    "colab": {},
    "colab_type": "code",
    "id": "Vwx3NrkSVqAl"
   },
   "outputs": [],
   "source": []
  }
 ],
 "metadata": {
  "colab": {
   "name": "Copy of [SF-DST] Movies IMBD v4.1 TEMPLATE.ipynb",
   "provenance": []
  },
  "kernelspec": {
   "display_name": "Python 3",
   "language": "python",
   "name": "python3"
  },
  "language_info": {
   "codemirror_mode": {
    "name": "ipython",
    "version": 3
   },
   "file_extension": ".py",
   "mimetype": "text/x-python",
   "name": "python",
   "nbconvert_exporter": "python",
   "pygments_lexer": "ipython3",
   "version": "3.6.6"
  }
 },
 "nbformat": 4,
 "nbformat_minor": 1
}
